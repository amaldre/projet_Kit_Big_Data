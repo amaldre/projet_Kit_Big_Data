{
 "cells": [
  {
   "cell_type": "code",
   "execution_count": 24,
   "metadata": {},
   "outputs": [],
   "source": [
    "import pandas as pd\n",
    "import ast\n",
    "from IPython.display import display\n",
    "from pymongo import MongoClient, errors\n",
    "import dotenv\n",
    "import os\n",
    "import logging\n",
    "import sys\n",
    "from pathlib import Path\n",
    "from collections import Counter\n",
    "import matplotlib.pyplot as plt\n",
    "\n",
    "dotenv.load_dotenv()\n",
    "logging.basicConfig(level=logging.INFO)"
   ]
  },
  {
   "cell_type": "code",
   "execution_count": 3,
   "metadata": {},
   "outputs": [
    {
     "name": "stderr",
     "output_type": "stream",
     "text": [
      "INFO:root:Connexion à la base de données établie avec succès.\n"
     ]
    }
   ],
   "source": [
    "import bson\n",
    "from utils.dbapi import DBapi\n",
    "\n",
    "db = DBapi()"
   ]
  },
  {
   "cell_type": "code",
   "execution_count": 4,
   "metadata": {},
   "outputs": [
    {
     "name": "stderr",
     "output_type": "stream",
     "text": [
      "INFO:root:177429 documents trouvés pour recipe_id avec 'recipe_id'.\n",
      "INFO:root:28 documents trouvés avec 'submitted' entre 1999-08-09 et 1999-08-12.\n"
     ]
    },
    {
     "name": "stdout",
     "output_type": "stream",
     "text": [
      "{'recipe_id': 53}\n",
      "{'recipe_id': 66}\n",
      "{'recipe_id': 84}\n",
      "{'recipe_id': 85}\n",
      "{'recipe_id': 92}\n"
     ]
    }
   ],
   "source": [
    "recipe_id_df = DBapi.get_all_from(db, \"recipe_id\")\n",
    "for i in range(5):\n",
    "    print(recipe_id_df[i])\n",
    "\n",
    "submitted_range = DBapi.find_range_submitted(db, '1999-08-09', '1999-08-12')"
   ]
  },
  {
   "cell_type": "markdown",
   "metadata": {},
   "source": [
    "Index([\n",
    "       \n",
    "       'recipe_id', 'i', 'name_tokens', 'ingredient_tokens', 'steps_tokens',\n",
    "\n",
    "       'techniques', 'calorie_level', 'ingredient_ids', 'name', 'minutes',\n",
    "\n",
    "       'contributor_id', 'submitted', 'tags', 'nutrition', 'steps', 'n_steps',\n",
    "\n",
    "       'description', 'ingredients', 'n_ingredients', 'review', 'date',\n",
    "\n",
    "       'user_id', 'rating', 'cleaned_description', 'cleaned_name',\n",
    "\n",
    "       'ingredients_processed', 'ingredients_replaced'],\n",
    "       \n",
    "      dtype='object')"
   ]
  },
  {
   "cell_type": "code",
   "execution_count": 6,
   "metadata": {},
   "outputs": [
    {
     "name": "stdout",
     "output_type": "stream",
     "text": [
      "['recipe_id', 'techniques', 'minutes', 'contributor_id', 'submitted', 'steps', 'n_steps', 'review', 'date', 'user_id', 'rating', 'cleaned_description', 'cleaned_name', 'ingredients_replaced']\n",
      "recipe_id\n"
     ]
    }
   ],
   "source": [
    "Index = ['recipe_id', 'techniques', 'minutes', 'contributor_id', 'submitted',\n",
    "       'steps', 'n_steps', 'review', 'date', 'user_id', 'rating',\n",
    "       'cleaned_description', 'cleaned_name', 'ingredients_replaced']\n",
    "\n",
    "print(Index)\n",
    "print(f'{Index[0]}')"
   ]
  },
  {
   "cell_type": "code",
   "execution_count": 7,
   "metadata": {},
   "outputs": [
    {
     "data": {
      "text/html": [
       "<div>\n",
       "<style scoped>\n",
       "    .dataframe tbody tr th:only-of-type {\n",
       "        vertical-align: middle;\n",
       "    }\n",
       "\n",
       "    .dataframe tbody tr th {\n",
       "        vertical-align: top;\n",
       "    }\n",
       "\n",
       "    .dataframe thead th {\n",
       "        text-align: right;\n",
       "    }\n",
       "</style>\n",
       "<table border=\"1\" class=\"dataframe\">\n",
       "  <thead>\n",
       "    <tr style=\"text-align: right;\">\n",
       "      <th></th>\n",
       "    </tr>\n",
       "  </thead>\n",
       "  <tbody>\n",
       "  </tbody>\n",
       "</table>\n",
       "</div>"
      ],
      "text/plain": [
       "Empty DataFrame\n",
       "Columns: []\n",
       "Index: []"
      ]
     },
     "execution_count": 7,
     "metadata": {},
     "output_type": "execute_result"
    }
   ],
   "source": [
    "df = pd.DataFrame()\n",
    "df.head()"
   ]
  },
  {
   "cell_type": "code",
   "execution_count": 7,
   "metadata": {},
   "outputs": [
    {
     "name": "stderr",
     "output_type": "stream",
     "text": [
      "INFO:root:Connexion à la base de données établie avec succès.\n",
      "INFO:root:177429 documents trouvés pour techniques avec 'recipe_id'.\n",
      "INFO:root:Connexion à la base de données fermée.\n"
     ]
    },
    {
     "name": "stdout",
     "output_type": "stream",
     "text": [
      "   recipe_id                                         techniques\n",
      "0         38  [0, 0, 0, 1, 0, 0, 0, 0, 0, 0, 0, 0, 0, 0, 0, ...\n",
      "1         40  [0, 0, 0, 0, 0, 0, 0, 0, 0, 0, 0, 0, 0, 0, 0, ...\n",
      "2         45  [1, 0, 0, 1, 0, 0, 0, 0, 0, 1, 0, 0, 0, 0, 0, ...\n",
      "3         46  [0, 0, 0, 0, 0, 0, 0, 0, 0, 1, 0, 0, 0, 0, 0, ...\n",
      "4         49  [1, 0, 0, 0, 1, 0, 0, 1, 0, 1, 0, 0, 0, 0, 0, ...\n"
     ]
    }
   ],
   "source": [
    "db_api = DBapi()\n",
    "with db_api:\n",
    "    result = db_api.get_all_from('techniques')\n",
    "    df_temp = pd.DataFrame(result)\n",
    "    print(df_temp.head())"
   ]
  },
  {
   "cell_type": "code",
   "execution_count": 48,
   "metadata": {},
   "outputs": [
    {
     "name": "stderr",
     "output_type": "stream",
     "text": [
      "INFO:root:Connexion à la base de données établie avec succès.\n",
      "INFO:root:177429 documents trouvés pour recipe_id avec 'recipe_id'.\n",
      "INFO:root:177429 documents trouvés pour recipe_id avec 'recipe_id'.\n",
      "INFO:root:177429 documents trouvés pour techniques avec 'recipe_id'.\n",
      "INFO:root:177429 documents trouvés pour minutes avec 'recipe_id'.\n",
      "INFO:root:177429 documents trouvés pour contributor_id avec 'recipe_id'.\n",
      "INFO:root:177429 documents trouvés pour submitted avec 'recipe_id'.\n",
      "INFO:root:177429 documents trouvés pour steps avec 'recipe_id'.\n",
      "INFO:root:177429 documents trouvés pour n_steps avec 'recipe_id'.\n",
      "INFO:root:177429 documents trouvés pour review avec 'recipe_id'.\n",
      "INFO:root:177429 documents trouvés pour date avec 'recipe_id'.\n",
      "INFO:root:177429 documents trouvés pour user_id avec 'recipe_id'.\n",
      "INFO:root:177429 documents trouvés pour rating avec 'recipe_id'.\n",
      "INFO:root:177429 documents trouvés pour cleaned_description avec 'recipe_id'.\n",
      "INFO:root:177429 documents trouvés pour cleaned_name avec 'recipe_id'.\n",
      "INFO:root:177429 documents trouvés pour ingredients_replaced avec 'recipe_id'.\n",
      "INFO:root:Connexion à la base de données fermée.\n"
     ]
    },
    {
     "data": {
      "text/html": [
       "<div>\n",
       "<style scoped>\n",
       "    .dataframe tbody tr th:only-of-type {\n",
       "        vertical-align: middle;\n",
       "    }\n",
       "\n",
       "    .dataframe tbody tr th {\n",
       "        vertical-align: top;\n",
       "    }\n",
       "\n",
       "    .dataframe thead th {\n",
       "        text-align: right;\n",
       "    }\n",
       "</style>\n",
       "<table border=\"1\" class=\"dataframe\">\n",
       "  <thead>\n",
       "    <tr style=\"text-align: right;\">\n",
       "      <th></th>\n",
       "      <th>recipe_id</th>\n",
       "      <th>ingredients_replaced</th>\n",
       "      <th>cleaned_name</th>\n",
       "      <th>cleaned_description</th>\n",
       "      <th>rating</th>\n",
       "      <th>user_id</th>\n",
       "      <th>date</th>\n",
       "      <th>review</th>\n",
       "      <th>n_steps</th>\n",
       "      <th>steps</th>\n",
       "      <th>submitted</th>\n",
       "      <th>contributor_id</th>\n",
       "      <th>minutes</th>\n",
       "      <th>techniques</th>\n",
       "    </tr>\n",
       "  </thead>\n",
       "  <tbody>\n",
       "    <tr>\n",
       "      <th>0</th>\n",
       "      <td>53</td>\n",
       "      <td>['all-purpose flmy', 'sugar', 'baking powder',...</td>\n",
       "      <td>['jimmy', 'g', 'carrot', 'cake']</td>\n",
       "      <td>['jimmy', 'g', 'carrot', 'cake']</td>\n",
       "      <td>[3]</td>\n",
       "      <td>[557764]</td>\n",
       "      <td>[2009-07-09]</td>\n",
       "      <td>['First Jimmy let me say that the taste was gr...</td>\n",
       "      <td>15</td>\n",
       "      <td>['grease and lightly flour 2 9x1 1 / 2-inch ro...</td>\n",
       "      <td>1999-09-08</td>\n",
       "      <td>1772</td>\n",
       "      <td>110</td>\n",
       "      <td>[1, 0, 0, 0, 0, 0, 0, 0, 0, 1, 0, 0, 0, 0, 0, ...</td>\n",
       "    </tr>\n",
       "    <tr>\n",
       "      <th>1</th>\n",
       "      <td>66</td>\n",
       "      <td>['brewed coffee', 'ketchup', 'red wine vinegar...</td>\n",
       "      <td>['coffee', 'barbecue', 'sauce']</td>\n",
       "      <td>['folks', 'sauce', 'credit', 'member', 'thank'...</td>\n",
       "      <td>[4, 5, 5, 5, 5, 5, 5, 5, 5, 5, 5, 5, 5, 5, 5, ...</td>\n",
       "      <td>[42938, 8679, 136813, 498631, 352271, 314792, ...</td>\n",
       "      <td>[2002-10-21, 2003-03-17, 2007-04-14, 2007-05-1...</td>\n",
       "      <td>['This was an excellent sauce! I did cut it in...</td>\n",
       "      <td>3</td>\n",
       "      <td>['combine all ingredients in a saucepan and si...</td>\n",
       "      <td>1999-09-10</td>\n",
       "      <td>174711</td>\n",
       "      <td>30</td>\n",
       "      <td>[0, 0, 0, 1, 0, 0, 0, 0, 0, 1, 0, 0, 0, 0, 0, ...</td>\n",
       "    </tr>\n",
       "    <tr>\n",
       "      <th>2</th>\n",
       "      <td>84</td>\n",
       "      <td>['brussels sprout', 'fresh dill', 'wine vinega...</td>\n",
       "      <td>['brussels', 'sprouts', 'vinegar', 'dill']</td>\n",
       "      <td>['brussels', 'sprouts', 'vinegar', 'dill']</td>\n",
       "      <td>[5, 5, 5, 5]</td>\n",
       "      <td>[170807, 284922, 424741, 11297]</td>\n",
       "      <td>[2004-11-08, 2006-02-10, 2007-01-13, 2007-07-24]</td>\n",
       "      <td>[\"This was the bomb! I love brussel sprouts an...</td>\n",
       "      <td>8</td>\n",
       "      <td>['trim sprouts', 'halved if desired', 'in larg...</td>\n",
       "      <td>1999-09-07</td>\n",
       "      <td>1555</td>\n",
       "      <td>48</td>\n",
       "      <td>[1, 0, 0, 0, 1, 0, 0, 0, 0, 1, 0, 0, 0, 0, 0, ...</td>\n",
       "    </tr>\n",
       "    <tr>\n",
       "      <th>3</th>\n",
       "      <td>85</td>\n",
       "      <td>['flmy', 'baking powder', 'caster sugar', 'but...</td>\n",
       "      <td>['butter', 'madeira']</td>\n",
       "      <td>['stand', 'food', 'processor']</td>\n",
       "      <td>[5, 5]</td>\n",
       "      <td>[27678, 273254]</td>\n",
       "      <td>[2005-03-25, 2009-02-09]</td>\n",
       "      <td>[\"A perfect cake. I actually need it to use fo...</td>\n",
       "      <td>15</td>\n",
       "      <td>['grease lined tin with melted butter', 'sift ...</td>\n",
       "      <td>1999-09-12</td>\n",
       "      <td>1543</td>\n",
       "      <td>175</td>\n",
       "      <td>[1, 0, 0, 0, 0, 0, 0, 0, 0, 0, 0, 1, 0, 0, 0, ...</td>\n",
       "    </tr>\n",
       "    <tr>\n",
       "      <th>4</th>\n",
       "      <td>92</td>\n",
       "      <td>['orange', 'seedless grape', 'honey', 'lemon j...</td>\n",
       "      <td>['bag', 'apple', 'salad']</td>\n",
       "      <td>['yum']</td>\n",
       "      <td>[5, 5, 4, 5, 5]</td>\n",
       "      <td>[64583, 204118, 324621, 1248818, 851190]</td>\n",
       "      <td>[2004-05-06, 2007-02-11, 2007-05-14, 2009-07-2...</td>\n",
       "      <td>[\"I've had this in my cookbook for ages, final...</td>\n",
       "      <td>4</td>\n",
       "      <td>['in medium-size bowl , stir together orange j...</td>\n",
       "      <td>1999-08-13</td>\n",
       "      <td>1533</td>\n",
       "      <td>10</td>\n",
       "      <td>[0, 0, 0, 0, 0, 0, 0, 0, 0, 0, 0, 0, 0, 0, 0, ...</td>\n",
       "    </tr>\n",
       "  </tbody>\n",
       "</table>\n",
       "</div>"
      ],
      "text/plain": [
       "   recipe_id                               ingredients_replaced  \\\n",
       "0         53  ['all-purpose flmy', 'sugar', 'baking powder',...   \n",
       "1         66  ['brewed coffee', 'ketchup', 'red wine vinegar...   \n",
       "2         84  ['brussels sprout', 'fresh dill', 'wine vinega...   \n",
       "3         85  ['flmy', 'baking powder', 'caster sugar', 'but...   \n",
       "4         92  ['orange', 'seedless grape', 'honey', 'lemon j...   \n",
       "\n",
       "                                 cleaned_name  \\\n",
       "0            ['jimmy', 'g', 'carrot', 'cake']   \n",
       "1             ['coffee', 'barbecue', 'sauce']   \n",
       "2  ['brussels', 'sprouts', 'vinegar', 'dill']   \n",
       "3                       ['butter', 'madeira']   \n",
       "4                   ['bag', 'apple', 'salad']   \n",
       "\n",
       "                                 cleaned_description  \\\n",
       "0                   ['jimmy', 'g', 'carrot', 'cake']   \n",
       "1  ['folks', 'sauce', 'credit', 'member', 'thank'...   \n",
       "2         ['brussels', 'sprouts', 'vinegar', 'dill']   \n",
       "3                     ['stand', 'food', 'processor']   \n",
       "4                                            ['yum']   \n",
       "\n",
       "                                              rating  \\\n",
       "0                                                [3]   \n",
       "1  [4, 5, 5, 5, 5, 5, 5, 5, 5, 5, 5, 5, 5, 5, 5, ...   \n",
       "2                                       [5, 5, 5, 5]   \n",
       "3                                             [5, 5]   \n",
       "4                                    [5, 5, 4, 5, 5]   \n",
       "\n",
       "                                             user_id  \\\n",
       "0                                           [557764]   \n",
       "1  [42938, 8679, 136813, 498631, 352271, 314792, ...   \n",
       "2                    [170807, 284922, 424741, 11297]   \n",
       "3                                    [27678, 273254]   \n",
       "4           [64583, 204118, 324621, 1248818, 851190]   \n",
       "\n",
       "                                                date  \\\n",
       "0                                       [2009-07-09]   \n",
       "1  [2002-10-21, 2003-03-17, 2007-04-14, 2007-05-1...   \n",
       "2   [2004-11-08, 2006-02-10, 2007-01-13, 2007-07-24]   \n",
       "3                           [2005-03-25, 2009-02-09]   \n",
       "4  [2004-05-06, 2007-02-11, 2007-05-14, 2009-07-2...   \n",
       "\n",
       "                                              review  n_steps  \\\n",
       "0  ['First Jimmy let me say that the taste was gr...       15   \n",
       "1  ['This was an excellent sauce! I did cut it in...        3   \n",
       "2  [\"This was the bomb! I love brussel sprouts an...        8   \n",
       "3  [\"A perfect cake. I actually need it to use fo...       15   \n",
       "4  [\"I've had this in my cookbook for ages, final...        4   \n",
       "\n",
       "                                               steps   submitted  \\\n",
       "0  ['grease and lightly flour 2 9x1 1 / 2-inch ro...  1999-09-08   \n",
       "1  ['combine all ingredients in a saucepan and si...  1999-09-10   \n",
       "2  ['trim sprouts', 'halved if desired', 'in larg...  1999-09-07   \n",
       "3  ['grease lined tin with melted butter', 'sift ...  1999-09-12   \n",
       "4  ['in medium-size bowl , stir together orange j...  1999-08-13   \n",
       "\n",
       "   contributor_id  minutes                                         techniques  \n",
       "0            1772      110  [1, 0, 0, 0, 0, 0, 0, 0, 0, 1, 0, 0, 0, 0, 0, ...  \n",
       "1          174711       30  [0, 0, 0, 1, 0, 0, 0, 0, 0, 1, 0, 0, 0, 0, 0, ...  \n",
       "2            1555       48  [1, 0, 0, 0, 1, 0, 0, 0, 0, 1, 0, 0, 0, 0, 0, ...  \n",
       "3            1543      175  [1, 0, 0, 0, 0, 0, 0, 0, 0, 0, 0, 1, 0, 0, 0, ...  \n",
       "4            1533       10  [0, 0, 0, 0, 0, 0, 0, 0, 0, 0, 0, 0, 0, 0, 0, ...  "
      ]
     },
     "execution_count": 48,
     "metadata": {},
     "output_type": "execute_result"
    }
   ],
   "source": [
    "db_api = DBapi()\n",
    "\n",
    "with db_api:\n",
    "    result_1 = db_api.get_all_from(Index[0])\n",
    "    df = pd.DataFrame(result_1)\n",
    "    for i in Index:\n",
    "        result_1 = db_api.get_all_from(i)\n",
    "        df_temp = pd.DataFrame(result_1)\n",
    "        df = pd.merge(df_temp, df, on='recipe_id', how='left')\n",
    "\n",
    "df.head()"
   ]
  },
  {
   "cell_type": "code",
   "execution_count": 60,
   "metadata": {},
   "outputs": [],
   "source": [
    "df_g = df.copy()\n",
    "df_g['rating'] = df_g['rating'].apply(lambda x: ast.literal_eval(str(x)))"
   ]
  },
  {
   "cell_type": "code",
   "execution_count": 63,
   "metadata": {},
   "outputs": [
    {
     "name": "stdout",
     "output_type": "stream",
     "text": [
      "1\n",
      "[3]\n",
      "19\n",
      "[4, 5, 5, 5, 5, 5, 5, 5, 5, 5, 5, 5, 5, 5, 5, 5, 5, 5, 5]\n"
     ]
    }
   ],
   "source": [
    "df_g.head()\n",
    "# Analyse des reviews\n",
    "print(len(df_g['rating'][0]))\n",
    "print(df_g['rating'][0])\n",
    "print(len(df_g['rating'][1]))\n",
    "print(df_g['rating'][1])"
   ]
  },
  {
   "cell_type": "code",
   "execution_count": null,
   "metadata": {},
   "outputs": [
    {
     "ename": "TypeError",
     "evalue": "object of type 'float' has no len()",
     "output_type": "error",
     "traceback": [
      "\u001b[0;31m---------------------------------------------------------------------------\u001b[0m",
      "\u001b[0;31mTypeError\u001b[0m                                 Traceback (most recent call last)",
      "Cell \u001b[0;32mIn[82], line 1\u001b[0m\n\u001b[0;32m----> 1\u001b[0m df_g[\u001b[38;5;124m'\u001b[39m\u001b[38;5;124mrating_count\u001b[39m\u001b[38;5;124m'\u001b[39m] \u001b[38;5;241m=\u001b[39m \u001b[43mdf_g\u001b[49m\u001b[43m[\u001b[49m\u001b[38;5;124;43m'\u001b[39;49m\u001b[38;5;124;43mrating\u001b[39;49m\u001b[38;5;124;43m'\u001b[39;49m\u001b[43m]\u001b[49m\u001b[38;5;241;43m.\u001b[39;49m\u001b[43mapply\u001b[49m\u001b[43m(\u001b[49m\u001b[38;5;28;43mlen\u001b[39;49m\u001b[43m)\u001b[49m\n\u001b[1;32m      2\u001b[0m top_5_recipes \u001b[38;5;241m=\u001b[39m df_g\u001b[38;5;241m.\u001b[39msort_values(by\u001b[38;5;241m=\u001b[39m\u001b[38;5;124m'\u001b[39m\u001b[38;5;124mrating_count\u001b[39m\u001b[38;5;124m'\u001b[39m, ascending\u001b[38;5;241m=\u001b[39m\u001b[38;5;28;01mFalse\u001b[39;00m)\u001b[38;5;241m.\u001b[39mhead(\u001b[38;5;241m5\u001b[39m)\n\u001b[1;32m      3\u001b[0m \u001b[38;5;28mprint\u001b[39m(top_5_recipes[[\u001b[38;5;124m'\u001b[39m\u001b[38;5;124msubmitted\u001b[39m\u001b[38;5;124m'\u001b[39m,\u001b[38;5;124m'\u001b[39m\u001b[38;5;124mrecipe_id\u001b[39m\u001b[38;5;124m'\u001b[39m, \u001b[38;5;124m'\u001b[39m\u001b[38;5;124mrating_count\u001b[39m\u001b[38;5;124m'\u001b[39m,\u001b[38;5;124m'\u001b[39m\u001b[38;5;124mcleaned_name\u001b[39m\u001b[38;5;124m'\u001b[39m]])\n",
      "File \u001b[0;32m~/Desktop/MS_IA/MS_IA/KIt_Big_Data/Big_Data_projet_local/env_big_data/lib/python3.12/site-packages/pandas/core/series.py:4924\u001b[0m, in \u001b[0;36mSeries.apply\u001b[0;34m(self, func, convert_dtype, args, by_row, **kwargs)\u001b[0m\n\u001b[1;32m   4789\u001b[0m \u001b[38;5;28;01mdef\u001b[39;00m \u001b[38;5;21mapply\u001b[39m(\n\u001b[1;32m   4790\u001b[0m     \u001b[38;5;28mself\u001b[39m,\n\u001b[1;32m   4791\u001b[0m     func: AggFuncType,\n\u001b[0;32m   (...)\u001b[0m\n\u001b[1;32m   4796\u001b[0m     \u001b[38;5;241m*\u001b[39m\u001b[38;5;241m*\u001b[39mkwargs,\n\u001b[1;32m   4797\u001b[0m ) \u001b[38;5;241m-\u001b[39m\u001b[38;5;241m>\u001b[39m DataFrame \u001b[38;5;241m|\u001b[39m Series:\n\u001b[1;32m   4798\u001b[0m \u001b[38;5;250m    \u001b[39m\u001b[38;5;124;03m\"\"\"\u001b[39;00m\n\u001b[1;32m   4799\u001b[0m \u001b[38;5;124;03m    Invoke function on values of Series.\u001b[39;00m\n\u001b[1;32m   4800\u001b[0m \n\u001b[0;32m   (...)\u001b[0m\n\u001b[1;32m   4915\u001b[0m \u001b[38;5;124;03m    dtype: float64\u001b[39;00m\n\u001b[1;32m   4916\u001b[0m \u001b[38;5;124;03m    \"\"\"\u001b[39;00m\n\u001b[1;32m   4917\u001b[0m     \u001b[38;5;28;01mreturn\u001b[39;00m \u001b[43mSeriesApply\u001b[49m\u001b[43m(\u001b[49m\n\u001b[1;32m   4918\u001b[0m \u001b[43m        \u001b[49m\u001b[38;5;28;43mself\u001b[39;49m\u001b[43m,\u001b[49m\n\u001b[1;32m   4919\u001b[0m \u001b[43m        \u001b[49m\u001b[43mfunc\u001b[49m\u001b[43m,\u001b[49m\n\u001b[1;32m   4920\u001b[0m \u001b[43m        \u001b[49m\u001b[43mconvert_dtype\u001b[49m\u001b[38;5;241;43m=\u001b[39;49m\u001b[43mconvert_dtype\u001b[49m\u001b[43m,\u001b[49m\n\u001b[1;32m   4921\u001b[0m \u001b[43m        \u001b[49m\u001b[43mby_row\u001b[49m\u001b[38;5;241;43m=\u001b[39;49m\u001b[43mby_row\u001b[49m\u001b[43m,\u001b[49m\n\u001b[1;32m   4922\u001b[0m \u001b[43m        \u001b[49m\u001b[43margs\u001b[49m\u001b[38;5;241;43m=\u001b[39;49m\u001b[43margs\u001b[49m\u001b[43m,\u001b[49m\n\u001b[1;32m   4923\u001b[0m \u001b[43m        \u001b[49m\u001b[43mkwargs\u001b[49m\u001b[38;5;241;43m=\u001b[39;49m\u001b[43mkwargs\u001b[49m\u001b[43m,\u001b[49m\n\u001b[0;32m-> 4924\u001b[0m \u001b[43m    \u001b[49m\u001b[43m)\u001b[49m\u001b[38;5;241;43m.\u001b[39;49m\u001b[43mapply\u001b[49m\u001b[43m(\u001b[49m\u001b[43m)\u001b[49m\n",
      "File \u001b[0;32m~/Desktop/MS_IA/MS_IA/KIt_Big_Data/Big_Data_projet_local/env_big_data/lib/python3.12/site-packages/pandas/core/apply.py:1427\u001b[0m, in \u001b[0;36mSeriesApply.apply\u001b[0;34m(self)\u001b[0m\n\u001b[1;32m   1424\u001b[0m     \u001b[38;5;28;01mreturn\u001b[39;00m \u001b[38;5;28mself\u001b[39m\u001b[38;5;241m.\u001b[39mapply_compat()\n\u001b[1;32m   1426\u001b[0m \u001b[38;5;66;03m# self.func is Callable\u001b[39;00m\n\u001b[0;32m-> 1427\u001b[0m \u001b[38;5;28;01mreturn\u001b[39;00m \u001b[38;5;28;43mself\u001b[39;49m\u001b[38;5;241;43m.\u001b[39;49m\u001b[43mapply_standard\u001b[49m\u001b[43m(\u001b[49m\u001b[43m)\u001b[49m\n",
      "File \u001b[0;32m~/Desktop/MS_IA/MS_IA/KIt_Big_Data/Big_Data_projet_local/env_big_data/lib/python3.12/site-packages/pandas/core/apply.py:1507\u001b[0m, in \u001b[0;36mSeriesApply.apply_standard\u001b[0;34m(self)\u001b[0m\n\u001b[1;32m   1501\u001b[0m \u001b[38;5;66;03m# row-wise access\u001b[39;00m\n\u001b[1;32m   1502\u001b[0m \u001b[38;5;66;03m# apply doesn't have a `na_action` keyword and for backward compat reasons\u001b[39;00m\n\u001b[1;32m   1503\u001b[0m \u001b[38;5;66;03m# we need to give `na_action=\"ignore\"` for categorical data.\u001b[39;00m\n\u001b[1;32m   1504\u001b[0m \u001b[38;5;66;03m# TODO: remove the `na_action=\"ignore\"` when that default has been changed in\u001b[39;00m\n\u001b[1;32m   1505\u001b[0m \u001b[38;5;66;03m#  Categorical (GH51645).\u001b[39;00m\n\u001b[1;32m   1506\u001b[0m action \u001b[38;5;241m=\u001b[39m \u001b[38;5;124m\"\u001b[39m\u001b[38;5;124mignore\u001b[39m\u001b[38;5;124m\"\u001b[39m \u001b[38;5;28;01mif\u001b[39;00m \u001b[38;5;28misinstance\u001b[39m(obj\u001b[38;5;241m.\u001b[39mdtype, CategoricalDtype) \u001b[38;5;28;01melse\u001b[39;00m \u001b[38;5;28;01mNone\u001b[39;00m\n\u001b[0;32m-> 1507\u001b[0m mapped \u001b[38;5;241m=\u001b[39m \u001b[43mobj\u001b[49m\u001b[38;5;241;43m.\u001b[39;49m\u001b[43m_map_values\u001b[49m\u001b[43m(\u001b[49m\n\u001b[1;32m   1508\u001b[0m \u001b[43m    \u001b[49m\u001b[43mmapper\u001b[49m\u001b[38;5;241;43m=\u001b[39;49m\u001b[43mcurried\u001b[49m\u001b[43m,\u001b[49m\u001b[43m \u001b[49m\u001b[43mna_action\u001b[49m\u001b[38;5;241;43m=\u001b[39;49m\u001b[43maction\u001b[49m\u001b[43m,\u001b[49m\u001b[43m \u001b[49m\u001b[43mconvert\u001b[49m\u001b[38;5;241;43m=\u001b[39;49m\u001b[38;5;28;43mself\u001b[39;49m\u001b[38;5;241;43m.\u001b[39;49m\u001b[43mconvert_dtype\u001b[49m\n\u001b[1;32m   1509\u001b[0m \u001b[43m\u001b[49m\u001b[43m)\u001b[49m\n\u001b[1;32m   1511\u001b[0m \u001b[38;5;28;01mif\u001b[39;00m \u001b[38;5;28mlen\u001b[39m(mapped) \u001b[38;5;129;01mand\u001b[39;00m \u001b[38;5;28misinstance\u001b[39m(mapped[\u001b[38;5;241m0\u001b[39m], ABCSeries):\n\u001b[1;32m   1512\u001b[0m     \u001b[38;5;66;03m# GH#43986 Need to do list(mapped) in order to get treated as nested\u001b[39;00m\n\u001b[1;32m   1513\u001b[0m     \u001b[38;5;66;03m#  See also GH#25959 regarding EA support\u001b[39;00m\n\u001b[1;32m   1514\u001b[0m     \u001b[38;5;28;01mreturn\u001b[39;00m obj\u001b[38;5;241m.\u001b[39m_constructor_expanddim(\u001b[38;5;28mlist\u001b[39m(mapped), index\u001b[38;5;241m=\u001b[39mobj\u001b[38;5;241m.\u001b[39mindex)\n",
      "File \u001b[0;32m~/Desktop/MS_IA/MS_IA/KIt_Big_Data/Big_Data_projet_local/env_big_data/lib/python3.12/site-packages/pandas/core/base.py:921\u001b[0m, in \u001b[0;36mIndexOpsMixin._map_values\u001b[0;34m(self, mapper, na_action, convert)\u001b[0m\n\u001b[1;32m    918\u001b[0m \u001b[38;5;28;01mif\u001b[39;00m \u001b[38;5;28misinstance\u001b[39m(arr, ExtensionArray):\n\u001b[1;32m    919\u001b[0m     \u001b[38;5;28;01mreturn\u001b[39;00m arr\u001b[38;5;241m.\u001b[39mmap(mapper, na_action\u001b[38;5;241m=\u001b[39mna_action)\n\u001b[0;32m--> 921\u001b[0m \u001b[38;5;28;01mreturn\u001b[39;00m \u001b[43malgorithms\u001b[49m\u001b[38;5;241;43m.\u001b[39;49m\u001b[43mmap_array\u001b[49m\u001b[43m(\u001b[49m\u001b[43marr\u001b[49m\u001b[43m,\u001b[49m\u001b[43m \u001b[49m\u001b[43mmapper\u001b[49m\u001b[43m,\u001b[49m\u001b[43m \u001b[49m\u001b[43mna_action\u001b[49m\u001b[38;5;241;43m=\u001b[39;49m\u001b[43mna_action\u001b[49m\u001b[43m,\u001b[49m\u001b[43m \u001b[49m\u001b[43mconvert\u001b[49m\u001b[38;5;241;43m=\u001b[39;49m\u001b[43mconvert\u001b[49m\u001b[43m)\u001b[49m\n",
      "File \u001b[0;32m~/Desktop/MS_IA/MS_IA/KIt_Big_Data/Big_Data_projet_local/env_big_data/lib/python3.12/site-packages/pandas/core/algorithms.py:1743\u001b[0m, in \u001b[0;36mmap_array\u001b[0;34m(arr, mapper, na_action, convert)\u001b[0m\n\u001b[1;32m   1741\u001b[0m values \u001b[38;5;241m=\u001b[39m arr\u001b[38;5;241m.\u001b[39mastype(\u001b[38;5;28mobject\u001b[39m, copy\u001b[38;5;241m=\u001b[39m\u001b[38;5;28;01mFalse\u001b[39;00m)\n\u001b[1;32m   1742\u001b[0m \u001b[38;5;28;01mif\u001b[39;00m na_action \u001b[38;5;129;01mis\u001b[39;00m \u001b[38;5;28;01mNone\u001b[39;00m:\n\u001b[0;32m-> 1743\u001b[0m     \u001b[38;5;28;01mreturn\u001b[39;00m \u001b[43mlib\u001b[49m\u001b[38;5;241;43m.\u001b[39;49m\u001b[43mmap_infer\u001b[49m\u001b[43m(\u001b[49m\u001b[43mvalues\u001b[49m\u001b[43m,\u001b[49m\u001b[43m \u001b[49m\u001b[43mmapper\u001b[49m\u001b[43m,\u001b[49m\u001b[43m \u001b[49m\u001b[43mconvert\u001b[49m\u001b[38;5;241;43m=\u001b[39;49m\u001b[43mconvert\u001b[49m\u001b[43m)\u001b[49m\n\u001b[1;32m   1744\u001b[0m \u001b[38;5;28;01melse\u001b[39;00m:\n\u001b[1;32m   1745\u001b[0m     \u001b[38;5;28;01mreturn\u001b[39;00m lib\u001b[38;5;241m.\u001b[39mmap_infer_mask(\n\u001b[1;32m   1746\u001b[0m         values, mapper, mask\u001b[38;5;241m=\u001b[39misna(values)\u001b[38;5;241m.\u001b[39mview(np\u001b[38;5;241m.\u001b[39muint8), convert\u001b[38;5;241m=\u001b[39mconvert\n\u001b[1;32m   1747\u001b[0m     )\n",
      "File \u001b[0;32mlib.pyx:2972\u001b[0m, in \u001b[0;36mpandas._libs.lib.map_infer\u001b[0;34m()\u001b[0m\n",
      "\u001b[0;31mTypeError\u001b[0m: object of type 'float' has no len()"
     ]
    }
   ],
   "source": [
    "df_g['rating_count'] = df_g['rating'].apply(len)\n",
    "top_5_recipes = df_g.sort_values(by='rating_count', ascending=False).head(5)\n",
    "print(top_5_recipes[['submitted','recipe_id', 'rating_count','cleaned_name']])\n"
   ]
  },
  {
   "cell_type": "code",
   "execution_count": 84,
   "metadata": {},
   "outputs": [
    {
     "name": "stdout",
     "output_type": "stream",
     "text": [
      "0\n"
     ]
    }
   ],
   "source": [
    "print(top_5_recipes['rating'].isna().sum())"
   ]
  },
  {
   "cell_type": "code",
   "execution_count": null,
   "metadata": {},
   "outputs": [
    {
     "name": "stdout",
     "output_type": "stream",
     "text": [
      "nan\n",
      "    submitted  recipe_id  rating                                cleaned_name\n",
      "0  1999-09-08         53     NaN            ['jimmy', 'g', 'carrot', 'cake']\n",
      "1  1999-09-10         66     NaN             ['coffee', 'barbecue', 'sauce']\n",
      "2  1999-09-07         84     NaN  ['brussels', 'sprouts', 'vinegar', 'dill']\n",
      "3  1999-09-12         85     NaN                       ['butter', 'madeira']\n",
      "4  1999-08-13         92     NaN                   ['bag', 'apple', 'salad']\n"
     ]
    }
   ],
   "source": [
    "df_g['rating'] = pd.to_numeric(df_g['rating'], errors='coerce')\n",
    "print(df_g['rating'][1])"
   ]
  },
  {
   "cell_type": "code",
   "execution_count": 76,
   "metadata": {},
   "outputs": [],
   "source": [
    "df_g['date'] = df_g['date'].apply(lambda x: pd.to_datetime(x))"
   ]
  },
  {
   "cell_type": "code",
   "execution_count": null,
   "metadata": {},
   "outputs": [
    {
     "ename": "TypeError",
     "evalue": "list indices must be integers or slices, not str",
     "output_type": "error",
     "traceback": [
      "\u001b[0;31m---------------------------------------------------------------------------\u001b[0m",
      "\u001b[0;31mTypeError\u001b[0m                                 Traceback (most recent call last)",
      "Cell \u001b[0;32mIn[92], line 5\u001b[0m\n\u001b[1;32m      2\u001b[0m df_g[\u001b[38;5;124m'\u001b[39m\u001b[38;5;124mdate\u001b[39m\u001b[38;5;124m'\u001b[39m] \u001b[38;5;241m=\u001b[39m pd\u001b[38;5;241m.\u001b[39mto_datetime(df_g[\u001b[38;5;124m'\u001b[39m\u001b[38;5;124mdate\u001b[39m\u001b[38;5;124m'\u001b[39m], errors\u001b[38;5;241m=\u001b[39m\u001b[38;5;124m'\u001b[39m\u001b[38;5;124mcoerce\u001b[39m\u001b[38;5;124m'\u001b[39m)\n\u001b[1;32m      4\u001b[0m \u001b[38;5;28;01mfor\u001b[39;00m i \u001b[38;5;129;01min\u001b[39;00m \u001b[38;5;28mrange\u001b[39m(\u001b[38;5;241m5\u001b[39m):\n\u001b[0;32m----> 5\u001b[0m     \u001b[43mtop_5_recipes\u001b[49m\u001b[38;5;241;43m.\u001b[39;49m\u001b[43miloc\u001b[49m\u001b[43m[\u001b[49m\u001b[43mi\u001b[49m\u001b[43m]\u001b[49m\u001b[43m[\u001b[49m\u001b[38;5;124;43m'\u001b[39;49m\u001b[38;5;124;43mrating\u001b[39;49m\u001b[38;5;124;43m'\u001b[39;49m\u001b[43m]\u001b[49m\u001b[43m[\u001b[49m\u001b[38;5;124;43m'\u001b[39;49m\u001b[38;5;124;43mdate\u001b[39;49m\u001b[38;5;124;43m'\u001b[39;49m\u001b[43m]\u001b[49m\u001b[38;5;241m.\u001b[39mdt\u001b[38;5;241m.\u001b[39myear\u001b[38;5;241m.\u001b[39mhist(label\u001b[38;5;241m=\u001b[39m\u001b[38;5;124mf\u001b[39m\u001b[38;5;124m\"\u001b[39m\u001b[38;5;124mRecipe \u001b[39m\u001b[38;5;132;01m{\u001b[39;00mi\u001b[38;5;241m+\u001b[39m\u001b[38;5;241m1\u001b[39m\u001b[38;5;132;01m}\u001b[39;00m\u001b[38;5;124m\"\u001b[39m, alpha\u001b[38;5;241m=\u001b[39m\u001b[38;5;241m0.5\u001b[39m)\n\u001b[1;32m      6\u001b[0m plt\u001b[38;5;241m.\u001b[39mxlabel(\u001b[38;5;124m'\u001b[39m\u001b[38;5;124mYear\u001b[39m\u001b[38;5;124m'\u001b[39m)\n\u001b[1;32m      7\u001b[0m plt\u001b[38;5;241m.\u001b[39mylabel(\u001b[38;5;124m'\u001b[39m\u001b[38;5;124mFrequency\u001b[39m\u001b[38;5;124m'\u001b[39m)\n",
      "\u001b[0;31mTypeError\u001b[0m: list indices must be integers or slices, not str"
     ]
    }
   ],
   "source": [
    "# Ensure 'date' column is in datetime format\n",
    "df_g['date'] = pd.to_datetime(df_g['date'], errors='coerce')"
   ]
  }
 ],
 "metadata": {
  "kernelspec": {
   "display_name": "env_big_data",
   "language": "python",
   "name": "python3"
  },
  "language_info": {
   "codemirror_mode": {
    "name": "ipython",
    "version": 3
   },
   "file_extension": ".py",
   "mimetype": "text/x-python",
   "name": "python",
   "nbconvert_exporter": "python",
   "pygments_lexer": "ipython3",
   "version": "3.12.3"
  }
 },
 "nbformat": 4,
 "nbformat_minor": 2
}
