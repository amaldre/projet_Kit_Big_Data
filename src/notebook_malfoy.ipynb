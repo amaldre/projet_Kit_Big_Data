{
 "cells": [
  {
   "cell_type": "code",
   "execution_count": 24,
   "metadata": {},
   "outputs": [],
   "source": [
    "import pandas as pd\n",
    "import ast\n",
    "from IPython.display import display\n",
    "from pymongo import MongoClient, errors\n",
    "import dotenv\n",
    "import os\n",
    "import logging\n",
    "import sys\n",
    "from pathlib import Path\n",
    "from collections import Counter\n",
    "import matplotlib.pyplot as plt\n",
    "\n",
    "dotenv.load_dotenv()\n",
    "logging.basicConfig(level=logging.INFO)"
   ]
  },
  {
   "cell_type": "code",
   "execution_count": 3,
   "metadata": {},
   "outputs": [
    {
     "name": "stderr",
     "output_type": "stream",
     "text": [
      "INFO:root:Connexion à la base de données établie avec succès.\n"
     ]
    }
   ],
   "source": [
    "import bson\n",
    "from utils.dbapi import DBapi\n",
    "\n",
    "db = DBapi()"
   ]
  },
  {
   "cell_type": "code",
   "execution_count": 4,
   "metadata": {},
   "outputs": [
    {
     "name": "stderr",
     "output_type": "stream",
     "text": [
      "INFO:root:177429 documents trouvés pour recipe_id avec 'recipe_id'.\n",
      "INFO:root:28 documents trouvés avec 'submitted' entre 1999-08-09 et 1999-08-12.\n"
     ]
    },
    {
     "name": "stdout",
     "output_type": "stream",
     "text": [
      "{'recipe_id': 53}\n",
      "{'recipe_id': 66}\n",
      "{'recipe_id': 84}\n",
      "{'recipe_id': 85}\n",
      "{'recipe_id': 92}\n"
     ]
    }
   ],
   "source": [
    "recipe_id_df = DBapi.get_all_from(db, \"recipe_id\")\n",
    "for i in range(5):\n",
    "    print(recipe_id_df[i])\n",
    "\n",
    "submitted_range = DBapi.find_range_submitted(db, '1999-08-09', '1999-08-12')"
   ]
  },
  {
   "cell_type": "markdown",
   "metadata": {},
   "source": [
    "Index([\n",
    "       \n",
    "       'recipe_id', 'i', 'name_tokens', 'ingredient_tokens', 'steps_tokens',\n",
    "\n",
    "       'techniques', 'calorie_level', 'ingredient_ids', 'name', 'minutes',\n",
    "\n",
    "       'contributor_id', 'submitted', 'tags', 'nutrition', 'steps', 'n_steps',\n",
    "\n",
    "       'description', 'ingredients', 'n_ingredients', 'review', 'date',\n",
    "\n",
    "       'user_id', 'rating', 'cleaned_description', 'cleaned_name',\n",
    "\n",
    "       'ingredients_processed', 'ingredients_replaced'],\n",
    "       \n",
    "      dtype='object')"
   ]
  },
  {
   "cell_type": "code",
   "execution_count": 6,
   "metadata": {},
   "outputs": [
    {
     "name": "stdout",
     "output_type": "stream",
     "text": [
      "['recipe_id', 'techniques', 'minutes', 'contributor_id', 'submitted', 'steps', 'n_steps', 'review', 'date', 'user_id', 'rating', 'cleaned_description', 'cleaned_name', 'ingredients_replaced']\n",
      "recipe_id\n"
     ]
    }
   ],
   "source": [
    "Index = ['recipe_id', 'techniques', 'minutes', 'contributor_id', 'submitted',\n",
    "       'steps', 'n_steps', 'review', 'date', 'user_id', 'rating',\n",
    "       'cleaned_description', 'cleaned_name', 'ingredients_replaced']\n",
    "\n",
    "print(Index)\n",
    "print(f'{Index[0]}')"
   ]
  },
  {
   "cell_type": "code",
   "execution_count": 7,
   "metadata": {},
   "outputs": [
    {
     "data": {
      "text/html": [
       "<div>\n",
       "<style scoped>\n",
       "    .dataframe tbody tr th:only-of-type {\n",
       "        vertical-align: middle;\n",
       "    }\n",
       "\n",
       "    .dataframe tbody tr th {\n",
       "        vertical-align: top;\n",
       "    }\n",
       "\n",
       "    .dataframe thead th {\n",
       "        text-align: right;\n",
       "    }\n",
       "</style>\n",
       "<table border=\"1\" class=\"dataframe\">\n",
       "  <thead>\n",
       "    <tr style=\"text-align: right;\">\n",
       "      <th></th>\n",
       "    </tr>\n",
       "  </thead>\n",
       "  <tbody>\n",
       "  </tbody>\n",
       "</table>\n",
       "</div>"
      ],
      "text/plain": [
       "Empty DataFrame\n",
       "Columns: []\n",
       "Index: []"
      ]
     },
     "execution_count": 7,
     "metadata": {},
     "output_type": "execute_result"
    }
   ],
   "source": [
    "df = pd.DataFrame()\n",
    "df.head()"
   ]
  },
  {
   "cell_type": "code",
   "execution_count": 7,
   "metadata": {},
   "outputs": [
    {
     "name": "stderr",
     "output_type": "stream",
     "text": [
      "INFO:root:Connexion à la base de données établie avec succès.\n",
      "INFO:root:177429 documents trouvés pour techniques avec 'recipe_id'.\n",
      "INFO:root:Connexion à la base de données fermée.\n"
     ]
    },
    {
     "name": "stdout",
     "output_type": "stream",
     "text": [
      "   recipe_id                                         techniques\n",
      "0         38  [0, 0, 0, 1, 0, 0, 0, 0, 0, 0, 0, 0, 0, 0, 0, ...\n",
      "1         40  [0, 0, 0, 0, 0, 0, 0, 0, 0, 0, 0, 0, 0, 0, 0, ...\n",
      "2         45  [1, 0, 0, 1, 0, 0, 0, 0, 0, 1, 0, 0, 0, 0, 0, ...\n",
      "3         46  [0, 0, 0, 0, 0, 0, 0, 0, 0, 1, 0, 0, 0, 0, 0, ...\n",
      "4         49  [1, 0, 0, 0, 1, 0, 0, 1, 0, 1, 0, 0, 0, 0, 0, ...\n"
     ]
    }
   ],
   "source": [
    "db_api = DBapi()\n",
    "with db_api:\n",
    "    result = db_api.get_all_from('techniques')\n",
    "    df_temp = pd.DataFrame(result)\n",
    "    print(df_temp.head())"
   ]
  },
  {
   "cell_type": "code",
   "execution_count": 48,
   "metadata": {},
   "outputs": [
    {
     "name": "stderr",
     "output_type": "stream",
     "text": [
      "INFO:root:Connexion à la base de données établie avec succès.\n",
      "INFO:root:177429 documents trouvés pour recipe_id avec 'recipe_id'.\n",
      "INFO:root:177429 documents trouvés pour recipe_id avec 'recipe_id'.\n",
      "INFO:root:177429 documents trouvés pour techniques avec 'recipe_id'.\n",
      "INFO:root:177429 documents trouvés pour minutes avec 'recipe_id'.\n",
      "INFO:root:177429 documents trouvés pour contributor_id avec 'recipe_id'.\n",
      "INFO:root:177429 documents trouvés pour submitted avec 'recipe_id'.\n",
      "INFO:root:177429 documents trouvés pour steps avec 'recipe_id'.\n",
      "INFO:root:177429 documents trouvés pour n_steps avec 'recipe_id'.\n",
      "INFO:root:177429 documents trouvés pour review avec 'recipe_id'.\n",
      "INFO:root:177429 documents trouvés pour date avec 'recipe_id'.\n",
      "INFO:root:177429 documents trouvés pour user_id avec 'recipe_id'.\n",
      "INFO:root:177429 documents trouvés pour rating avec 'recipe_id'.\n",
      "INFO:root:177429 documents trouvés pour cleaned_description avec 'recipe_id'.\n",
      "INFO:root:177429 documents trouvés pour cleaned_name avec 'recipe_id'.\n",
      "INFO:root:177429 documents trouvés pour ingredients_replaced avec 'recipe_id'.\n",
      "INFO:root:Connexion à la base de données fermée.\n"
     ]
    },
    {
     "data": {
      "text/html": [
       "<div>\n",
       "<style scoped>\n",
       "    .dataframe tbody tr th:only-of-type {\n",
       "        vertical-align: middle;\n",
       "    }\n",
       "\n",
       "    .dataframe tbody tr th {\n",
       "        vertical-align: top;\n",
       "    }\n",
       "\n",
       "    .dataframe thead th {\n",
       "        text-align: right;\n",
       "    }\n",
       "</style>\n",
       "<table border=\"1\" class=\"dataframe\">\n",
       "  <thead>\n",
       "    <tr style=\"text-align: right;\">\n",
       "      <th></th>\n",
       "      <th>recipe_id</th>\n",
       "      <th>ingredients_replaced</th>\n",
       "      <th>cleaned_name</th>\n",
       "      <th>cleaned_description</th>\n",
       "      <th>rating</th>\n",
       "      <th>user_id</th>\n",
       "      <th>date</th>\n",
       "      <th>review</th>\n",
       "      <th>n_steps</th>\n",
       "      <th>steps</th>\n",
       "      <th>submitted</th>\n",
       "      <th>contributor_id</th>\n",
       "      <th>minutes</th>\n",
       "      <th>techniques</th>\n",
       "    </tr>\n",
       "  </thead>\n",
       "  <tbody>\n",
       "    <tr>\n",
       "      <th>0</th>\n",
       "      <td>53</td>\n",
       "      <td>['all-purpose flmy', 'sugar', 'baking powder',...</td>\n",
       "      <td>['jimmy', 'g', 'carrot', 'cake']</td>\n",
       "      <td>['jimmy', 'g', 'carrot', 'cake']</td>\n",
       "      <td>[3]</td>\n",
       "      <td>[557764]</td>\n",
       "      <td>[2009-07-09]</td>\n",
       "      <td>['First Jimmy let me say that the taste was gr...</td>\n",
       "      <td>15</td>\n",
       "      <td>['grease and lightly flour 2 9x1 1 / 2-inch ro...</td>\n",
       "      <td>1999-09-08</td>\n",
       "      <td>1772</td>\n",
       "      <td>110</td>\n",
       "      <td>[1, 0, 0, 0, 0, 0, 0, 0, 0, 1, 0, 0, 0, 0, 0, ...</td>\n",
       "    </tr>\n",
       "    <tr>\n",
       "      <th>1</th>\n",
       "      <td>66</td>\n",
       "      <td>['brewed coffee', 'ketchup', 'red wine vinegar...</td>\n",
       "      <td>['coffee', 'barbecue', 'sauce']</td>\n",
       "      <td>['folks', 'sauce', 'credit', 'member', 'thank'...</td>\n",
       "      <td>[4, 5, 5, 5, 5, 5, 5, 5, 5, 5, 5, 5, 5, 5, 5, ...</td>\n",
       "      <td>[42938, 8679, 136813, 498631, 352271, 314792, ...</td>\n",
       "      <td>[2002-10-21, 2003-03-17, 2007-04-14, 2007-05-1...</td>\n",
       "      <td>['This was an excellent sauce! I did cut it in...</td>\n",
       "      <td>3</td>\n",
       "      <td>['combine all ingredients in a saucepan and si...</td>\n",
       "      <td>1999-09-10</td>\n",
       "      <td>174711</td>\n",
       "      <td>30</td>\n",
       "      <td>[0, 0, 0, 1, 0, 0, 0, 0, 0, 1, 0, 0, 0, 0, 0, ...</td>\n",
       "    </tr>\n",
       "    <tr>\n",
       "      <th>2</th>\n",
       "      <td>84</td>\n",
       "      <td>['brussels sprout', 'fresh dill', 'wine vinega...</td>\n",
       "      <td>['brussels', 'sprouts', 'vinegar', 'dill']</td>\n",
       "      <td>['brussels', 'sprouts', 'vinegar', 'dill']</td>\n",
       "      <td>[5, 5, 5, 5]</td>\n",
       "      <td>[170807, 284922, 424741, 11297]</td>\n",
       "      <td>[2004-11-08, 2006-02-10, 2007-01-13, 2007-07-24]</td>\n",
       "      <td>[\"This was the bomb! I love brussel sprouts an...</td>\n",
       "      <td>8</td>\n",
       "      <td>['trim sprouts', 'halved if desired', 'in larg...</td>\n",
       "      <td>1999-09-07</td>\n",
       "      <td>1555</td>\n",
       "      <td>48</td>\n",
       "      <td>[1, 0, 0, 0, 1, 0, 0, 0, 0, 1, 0, 0, 0, 0, 0, ...</td>\n",
       "    </tr>\n",
       "    <tr>\n",
       "      <th>3</th>\n",
       "      <td>85</td>\n",
       "      <td>['flmy', 'baking powder', 'caster sugar', 'but...</td>\n",
       "      <td>['butter', 'madeira']</td>\n",
       "      <td>['stand', 'food', 'processor']</td>\n",
       "      <td>[5, 5]</td>\n",
       "      <td>[27678, 273254]</td>\n",
       "      <td>[2005-03-25, 2009-02-09]</td>\n",
       "      <td>[\"A perfect cake. I actually need it to use fo...</td>\n",
       "      <td>15</td>\n",
       "      <td>['grease lined tin with melted butter', 'sift ...</td>\n",
       "      <td>1999-09-12</td>\n",
       "      <td>1543</td>\n",
       "      <td>175</td>\n",
       "      <td>[1, 0, 0, 0, 0, 0, 0, 0, 0, 0, 0, 1, 0, 0, 0, ...</td>\n",
       "    </tr>\n",
       "    <tr>\n",
       "      <th>4</th>\n",
       "      <td>92</td>\n",
       "      <td>['orange', 'seedless grape', 'honey', 'lemon j...</td>\n",
       "      <td>['bag', 'apple', 'salad']</td>\n",
       "      <td>['yum']</td>\n",
       "      <td>[5, 5, 4, 5, 5]</td>\n",
       "      <td>[64583, 204118, 324621, 1248818, 851190]</td>\n",
       "      <td>[2004-05-06, 2007-02-11, 2007-05-14, 2009-07-2...</td>\n",
       "      <td>[\"I've had this in my cookbook for ages, final...</td>\n",
       "      <td>4</td>\n",
       "      <td>['in medium-size bowl , stir together orange j...</td>\n",
       "      <td>1999-08-13</td>\n",
       "      <td>1533</td>\n",
       "      <td>10</td>\n",
       "      <td>[0, 0, 0, 0, 0, 0, 0, 0, 0, 0, 0, 0, 0, 0, 0, ...</td>\n",
       "    </tr>\n",
       "  </tbody>\n",
       "</table>\n",
       "</div>"
      ],
      "text/plain": [
       "   recipe_id                               ingredients_replaced  \\\n",
       "0         53  ['all-purpose flmy', 'sugar', 'baking powder',...   \n",
       "1         66  ['brewed coffee', 'ketchup', 'red wine vinegar...   \n",
       "2         84  ['brussels sprout', 'fresh dill', 'wine vinega...   \n",
       "3         85  ['flmy', 'baking powder', 'caster sugar', 'but...   \n",
       "4         92  ['orange', 'seedless grape', 'honey', 'lemon j...   \n",
       "\n",
       "                                 cleaned_name  \\\n",
       "0            ['jimmy', 'g', 'carrot', 'cake']   \n",
       "1             ['coffee', 'barbecue', 'sauce']   \n",
       "2  ['brussels', 'sprouts', 'vinegar', 'dill']   \n",
       "3                       ['butter', 'madeira']   \n",
       "4                   ['bag', 'apple', 'salad']   \n",
       "\n",
       "                                 cleaned_description  \\\n",
       "0                   ['jimmy', 'g', 'carrot', 'cake']   \n",
       "1  ['folks', 'sauce', 'credit', 'member', 'thank'...   \n",
       "2         ['brussels', 'sprouts', 'vinegar', 'dill']   \n",
       "3                     ['stand', 'food', 'processor']   \n",
       "4                                            ['yum']   \n",
       "\n",
       "                                              rating  \\\n",
       "0                                                [3]   \n",
       "1  [4, 5, 5, 5, 5, 5, 5, 5, 5, 5, 5, 5, 5, 5, 5, ...   \n",
       "2                                       [5, 5, 5, 5]   \n",
       "3                                             [5, 5]   \n",
       "4                                    [5, 5, 4, 5, 5]   \n",
       "\n",
       "                                             user_id  \\\n",
       "0                                           [557764]   \n",
       "1  [42938, 8679, 136813, 498631, 352271, 314792, ...   \n",
       "2                    [170807, 284922, 424741, 11297]   \n",
       "3                                    [27678, 273254]   \n",
       "4           [64583, 204118, 324621, 1248818, 851190]   \n",
       "\n",
       "                                                date  \\\n",
       "0                                       [2009-07-09]   \n",
       "1  [2002-10-21, 2003-03-17, 2007-04-14, 2007-05-1...   \n",
       "2   [2004-11-08, 2006-02-10, 2007-01-13, 2007-07-24]   \n",
       "3                           [2005-03-25, 2009-02-09]   \n",
       "4  [2004-05-06, 2007-02-11, 2007-05-14, 2009-07-2...   \n",
       "\n",
       "                                              review  n_steps  \\\n",
       "0  ['First Jimmy let me say that the taste was gr...       15   \n",
       "1  ['This was an excellent sauce! I did cut it in...        3   \n",
       "2  [\"This was the bomb! I love brussel sprouts an...        8   \n",
       "3  [\"A perfect cake. I actually need it to use fo...       15   \n",
       "4  [\"I've had this in my cookbook for ages, final...        4   \n",
       "\n",
       "                                               steps   submitted  \\\n",
       "0  ['grease and lightly flour 2 9x1 1 / 2-inch ro...  1999-09-08   \n",
       "1  ['combine all ingredients in a saucepan and si...  1999-09-10   \n",
       "2  ['trim sprouts', 'halved if desired', 'in larg...  1999-09-07   \n",
       "3  ['grease lined tin with melted butter', 'sift ...  1999-09-12   \n",
       "4  ['in medium-size bowl , stir together orange j...  1999-08-13   \n",
       "\n",
       "   contributor_id  minutes                                         techniques  \n",
       "0            1772      110  [1, 0, 0, 0, 0, 0, 0, 0, 0, 1, 0, 0, 0, 0, 0, ...  \n",
       "1          174711       30  [0, 0, 0, 1, 0, 0, 0, 0, 0, 1, 0, 0, 0, 0, 0, ...  \n",
       "2            1555       48  [1, 0, 0, 0, 1, 0, 0, 0, 0, 1, 0, 0, 0, 0, 0, ...  \n",
       "3            1543      175  [1, 0, 0, 0, 0, 0, 0, 0, 0, 0, 0, 1, 0, 0, 0, ...  \n",
       "4            1533       10  [0, 0, 0, 0, 0, 0, 0, 0, 0, 0, 0, 0, 0, 0, 0, ...  "
      ]
     },
     "execution_count": 48,
     "metadata": {},
     "output_type": "execute_result"
    }
   ],
   "source": [
    "db_api = DBapi()\n",
    "\n",
    "with db_api:\n",
    "    result_1 = db_api.get_all_from(Index[0])\n",
    "    df = pd.DataFrame(result_1)\n",
    "    for i in Index:\n",
    "        result_1 = db_api.get_all_from(i)\n",
    "        df_temp = pd.DataFrame(result_1)\n",
    "        df = pd.merge(df_temp, df, on='recipe_id', how='left')\n",
    "\n",
    "df.head()"
   ]
  },
  {
   "cell_type": "code",
   "execution_count": 9,
   "metadata": {},
   "outputs": [
    {
     "name": "stdout",
     "output_type": "stream",
     "text": [
      "   contributor_id  recipe_count\n",
      "0           89831          2763\n",
      "1           37779          2076\n",
      "2           37449          1955\n",
      "3            1533          1167\n",
      "4           58104          1145\n"
     ]
    }
   ],
   "source": [
    "contributor_counts = df['contributor_id'].value_counts().reset_index()\n",
    "contributor_counts.columns = ['contributor_id', 'recipe_count']\n",
    "\n",
    "print(contributor_counts.head())"
   ]
  },
  {
   "cell_type": "code",
   "execution_count": null,
   "metadata": {},
   "outputs": [
    {
     "name": "stdout",
     "output_type": "stream",
     "text": [
      "177429\n",
      "177429\n",
      "0    ['First Jimmy let me say that the taste was gr...\n",
      "1    ['This was an excellent sauce! I did cut it in...\n",
      "2    [\"This was the bomb! I love brussel sprouts an...\n",
      "3    [\"A perfect cake. I actually need it to use fo...\n",
      "4    [\"I've had this in my cookbook for ages, final...\n",
      "Name: review, dtype: object\n",
      "4503\n"
     ]
    }
   ],
   "source": [
    "# Analyse des reviews\n",
    "print(len(df['review']))\n",
    "print(len(df['recipe_id']))\n",
    "\n",
    "print(df['review'].head())\n",
    "\n",
    "print(len(df['review'][1]))"
   ]
  },
  {
   "cell_type": "code",
   "execution_count": 50,
   "metadata": {},
   "outputs": [
    {
     "data": {
      "text/plain": [
       "19"
      ]
     },
     "execution_count": 50,
     "metadata": {},
     "output_type": "execute_result"
    }
   ],
   "source": [
    "len(['This was an excellent sauce! I did cut it in half and still have some left for next time. It was really tangy and BH really liked it. He was the one who braved the cold and went outside to cook it on the grill after I had marinaded two ribs for about an hour. I gave him some extra sauce to baste with and all turned out well. The time it took to prepare and the long list of ingredients used was well worth it. I may even try this during the winter as a slow roast or even a crockpot recipe for ribs as I still have quite a few of them in the freezer.', \"This was super quick and easy to make.  It has a wonderful, rich flavour and is equally nice for a brush on sauce on the grill or a slow cook method.  I added a small drop of liquid smoke flavour and extra garlic.  I've made this many times since I first found the recipe and everyone LOVES it.  Use it on any meat, it's great!\", \"This is a great sauce!  The only change I made was to substitute apple cider vinegar for the red wine vinegar.  Next time I think I'm going to mix in chipotle powder with the chili powder for a smokey kick.\", \"Everyone loved it! I have to admit that barbecue sauce with coffee just didn't sound right, but we needed barbecue sauce and had all the right ingredients for this one. WOW! The whole family was raving over the barbecue sauce (and wanted to know the brand and store where we bought it!) Even grandma, who was sure that it would be too spicy for her, asked for more to dip her barbecued ribs into. Thanks for sharing the recipe!\", 'Made this sauce to go on some bbq chicken.  Everone loved it!  Thanks Queen Dragon Mom.  Ann', \"I've used this on chicken and ribs now and it always gets rave reviews.    This is one of the few recipes I wouldn't dare to tweak - - its great just the way it is!\", \"Outstanding!  The only change I made was add 2 Tblsp water (rather than add 1 Tblsp water to dry mustard).  Didn't have expresso so made a strong pot of coffee and added that.  Fabulous flavor - deep and rich.  We're going to have this one alot.  Thanks!\", \"What flavor!  Used on chicken and my son grabbed what was left of the sauce to take home.  Can't wait to try this on ribs now.  Made for the Comfort Cafe, a tag game.\", 'Very nice flavored bbq sauce!  We enjoyed it on our ribs and chicken.', 'What a great BBQ sauce!  My DW made it and I slathered it on chicken for grill.  All my kids raved about it, so we will use this often this summer.  Next time I plan to try it on some ribs!', \"Why would anyone buy barbecue sauce when this can be done in minutes?  It has a very nice blending of flavors.  It is very thick and rich.  Made for When It's Hot/When Its Not in the Diabetic Forum.\", 'Really good, flavorful.  Nice and thick.  I used only 1 each of the cumin and chili powder, will use 2 T. next time because it seemed a little too sweet.', \"This is great.  I made fresh espresso and did half the recipe.  I used red onion and omitted the garlic.  I didn't have hot dry mustard so used plain dry mustard.  I used it on chicken breasts.  But I have enough leftover to try on something else.  Thanks Queen Dragon Mom :)  Made for When it's hot event\", \"Dh wanted to buy a bbq sauce, but I said that's for wimps - the sauce they sell is basically overpriced ketchup.  I figured I'd find an easy 2-ingredient recipe, but instead, happened upon this one.  Far more effort than the 2-ingredient recipe would have been, but the taste is subtle, complex and delightful.  Yes, there's ketchup in it, but also a nice interplay of flavours that I'm sure will be a hit at our chicken BBQ tonight.  Thanks!\", 'Awesome recipes.  I have used it several times now.', 'Other than leaving out the dry mustard, made recipe as posted.  Great Sauce !!  Used it on some drumsticks tonight as they were on sale..  It definately beats some of the store brand names.  Made for I recommend.', \"LOVED the flavor of this sauce! It's cool and rainy outside so I used it to baste some oven-roasted pork chops. It is simple to put together and so TASTY! I don't think I'm ever gonna buy it in a bottle again :)\", 'This sauce is amazing. I have been looking for a recipe for a sauce similar to the sauce served at my favorite hometown rib joint. This is the closest thing I have found. I followed the recipe and only added 1/4 cup of bourbon.', 'I lerterally just made this sauce before I read this post. I made coffee bbq sauce and googled it and this is the exact same ingredients minus I added home made hot sauce. Mind blown']\n",
    ")"
   ]
  },
  {
   "cell_type": "code",
   "execution_count": 22,
   "metadata": {},
   "outputs": [
    {
     "name": "stdout",
     "output_type": "stream",
     "text": [
      "177429\n",
      "Counter({1: 177429})\n",
      "[(1, 177429)]\n"
     ]
    }
   ],
   "source": [
    "print(len(list_reviews_z))\n",
    "review_counts = Counter(list_reviews_z)\n",
    "print(review_counts)\n",
    "top_5_ids = review_counts.most_common(5)\n",
    "print(top_5_ids)"
   ]
  }
 ],
 "metadata": {
  "kernelspec": {
   "display_name": "env_big_data",
   "language": "python",
   "name": "python3"
  },
  "language_info": {
   "codemirror_mode": {
    "name": "ipython",
    "version": 3
   },
   "file_extension": ".py",
   "mimetype": "text/x-python",
   "name": "python",
   "nbconvert_exporter": "python",
   "pygments_lexer": "ipython3",
   "version": "3.12.3"
  }
 },
 "nbformat": 4,
 "nbformat_minor": 2
}
