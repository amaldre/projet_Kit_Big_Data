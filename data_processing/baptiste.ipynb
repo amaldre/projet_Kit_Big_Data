{
 "cells": [
  {
   "cell_type": "code",
   "execution_count": 1,
   "metadata": {},
   "outputs": [],
   "source": [
    "import pandas as pd"
   ]
  },
  {
   "cell_type": "code",
   "execution_count": 4,
   "metadata": {},
   "outputs": [],
   "source": [
    "pprecipes = pd.read_csv(\"../archive/PP_recipes.csv\")"
   ]
  },
  {
   "cell_type": "code",
   "execution_count": 5,
   "metadata": {},
   "outputs": [],
   "source": [
    "rawrecipes = pd.read_csv(\"../archive/RAW_recipes.csv\")"
   ]
  },
  {
   "cell_type": "code",
   "execution_count": 7,
   "metadata": {},
   "outputs": [],
   "source": [
    "TECHNIQUES_LIST = ['bake', 'barbecue', 'blanch', 'blend', 'boil', 'braise', 'brine', 'broil', 'caramelize', 'combine', 'crock pot', 'crush', 'deglaze', 'devein', 'dice', 'distill', 'drain', 'emulsify', 'ferment', 'freez', 'fry', 'grate', 'griddle', 'grill', 'knead', 'leaven', 'marinate', 'mash', 'melt', 'microwave', 'parboil', 'pickle', 'poach', 'pour', 'pressure cook', 'puree', 'refrigerat', 'roast', 'saute', 'scald', 'scramble', 'shred', 'simmer', 'skillet', 'slow cook', 'smoke', 'smooth', 'soak', 'sous-vide', 'steam', 'stew', 'strain', 'tenderize', 'thicken', 'toast', 'toss', 'whip', 'whisk']"
   ]
  },
  {
   "cell_type": "code",
   "execution_count": 8,
   "metadata": {},
   "outputs": [],
   "source": [
    "interactions = pd.read_csv(\"../archive/interactions_test.csv\") + pd.read_csv(\"../archive/interactions_train.csv\") + pd.read_csv(\"../archive/interactions_validation.csv\")"
   ]
  },
  {
   "cell_type": "code",
   "execution_count": 9,
   "metadata": {},
   "outputs": [],
   "source": [
    "rawinteractions = pd.read_csv(\"../archive/RAW_interactions.csv\")"
   ]
  },
  {
   "cell_type": "code",
   "execution_count": 65,
   "metadata": {},
   "outputs": [
    {
     "data": {
      "text/plain": [
       "\"\\nr = Moyenne des notes pour une recette.\\nv = Nombre d'évaluations pour cet item.\\nc = Moyenne globale des notes sur l'ensemble du dataset.\\nm = Seuil minimum de votes requis pour qu'un item soit considéré pertinent (une constante que vous définissez).\\n\""
      ]
     },
     "execution_count": 65,
     "metadata": {},
     "output_type": "execute_result"
    }
   ],
   "source": [
    "def bayesian_average(r,v,c,m=10): #score function that takes into account the number of reviews\n",
    "    return (r*v/(v+m))+(c*m/(v+m))\n",
    "\n",
    "\"\"\"\n",
    "r = Moyenne des notes pour une recette.\n",
    "v = Nombre d'évaluations pour cet item.\n",
    "c = Moyenne globale des notes sur l'ensemble du dataset.\n",
    "m = Seuil minimum de votes requis pour qu'un item soit considéré pertinent (une constante que vous définissez).\n",
    "\"\"\""
   ]
  },
  {
   "cell_type": "code",
   "execution_count": 95,
   "metadata": {},
   "outputs": [
    {
     "data": {
      "text/plain": [
       "4.4258466998773365"
      ]
     },
     "execution_count": 95,
     "metadata": {},
     "output_type": "execute_result"
    }
   ],
   "source": [
    "r = mean_score(40893,rawinteractions)\n",
    "v = nb_reviews(40893,rawinteractions)\n",
    "c = global_mean_score(rawinteractions)\n",
    "bayesian_average(r,v,c,10)"
   ]
  },
  {
   "cell_type": "code",
   "execution_count": 51,
   "metadata": {},
   "outputs": [],
   "source": [
    "def mean_score(recipe_id, database): \n",
    "    return database[database['recipe_id'] == recipe_id][\"rating\"].mean()"
   ]
  },
  {
   "cell_type": "code",
   "execution_count": 54,
   "metadata": {},
   "outputs": [],
   "source": [
    "def global_mean_score(database):\n",
    "    return database[\"rating\"].mean()"
   ]
  },
  {
   "cell_type": "code",
   "execution_count": 61,
   "metadata": {},
   "outputs": [],
   "source": [
    "def nb_reviews(recipe_id, database):\n",
    "    return database[database[\"recipe_id\"] == recipe_id].shape[0]"
   ]
  },
  {
   "cell_type": "code",
   "execution_count": 118,
   "metadata": {},
   "outputs": [],
   "source": [
    "import ast  # ou import json\n",
    "\n",
    "\n",
    "\n",
    "# Utilisation d'ast.literal_eval pour convertir les strings en listes\n",
    "pprecipes['techniques'] = pprecipes['techniques'].apply(ast.literal_eval)\n"
   ]
  },
  {
   "cell_type": "code",
   "execution_count": 130,
   "metadata": {},
   "outputs": [
    {
     "name": "stdout",
     "output_type": "stream",
     "text": [
      "\n",
      "Fréquence des techniques :\n",
      "bake             64821\n",
      "combine          60136\n",
      "pour             48747\n",
      "boil             42354\n",
      "melt             30865\n",
      "drain            29567\n",
      "blend            29387\n",
      "simmer           29380\n",
      "skillet          26825\n",
      "refrigerat       20543\n",
      "smooth           20465\n",
      "toss             18166\n",
      "whisk            16467\n",
      "saute            15835\n",
      "fry              15086\n",
      "thicken          11753\n",
      "grill             8942\n",
      "whip              7933\n",
      "roast             6677\n",
      "mash              6460\n",
      "microwave         6405\n",
      "toast             6259\n",
      "grate             5584\n",
      "freez             5405\n",
      "broil             5178\n",
      "crush             4737\n",
      "shred             4702\n",
      "puree             4535\n",
      "marinate          4437\n",
      "dice              4156\n",
      "steam             3775\n",
      "strain            3605\n",
      "soak              3397\n",
      "knead             2702\n",
      "crock pot         2628\n",
      "slow cook         2498\n",
      "griddle           1248\n",
      "barbecue          1240\n",
      "stew              1074\n",
      "smoke             1023\n",
      "pickle             984\n",
      "caramelize         910\n",
      "scramble           615\n",
      "deglaze            603\n",
      "blanch             565\n",
      "poach              329\n",
      "devein             264\n",
      "scald              255\n",
      "pressure cook      222\n",
      "brine              213\n",
      "parboil            152\n",
      "tenderize          143\n",
      "braise             114\n",
      "emulsify            64\n",
      "ferment             32\n",
      "leaven              11\n",
      "distill              6\n",
      "sous-vide            0\n",
      "dtype: int64\n"
     ]
    }
   ],
   "source": [
    "# Calculer le total des techniques\n",
    "# Créer un tableau de totaux initialisé à zéro\n",
    "total_counts = pd.Series([0] * len(TECHNIQUES_LIST), index=TECHNIQUES_LIST)\n",
    "\n",
    "# Ajouter les occurrences\n",
    "for index, row in pprecipes.iterrows():\n",
    "    for i, value in enumerate(row['techniques']):\n",
    "        if value == 1:  # Si la technique est présente\n",
    "            total_counts.at[TECHNIQUES_LIST[i]] += 1\n",
    "\n",
    "# Afficher les totaux\n",
    "print(\"\\nFréquence des techniques :\")\n",
    "print(total_counts.sort_values(ascending=False))\n",
    "\n"
   ]
  },
  {
   "cell_type": "code",
   "execution_count": 129,
   "metadata": {},
   "outputs": [
    {
     "name": "stdout",
     "output_type": "stream",
     "text": [
      "bake             64821\n",
      "combine          60136\n",
      "pour             48747\n",
      "boil             42354\n",
      "melt             30865\n",
      "drain            29567\n",
      "blend            29387\n",
      "simmer           29380\n",
      "skillet          26825\n",
      "refrigerat       20543\n",
      "smooth           20465\n",
      "toss             18166\n",
      "whisk            16467\n",
      "saute            15835\n",
      "fry              15086\n",
      "thicken          11753\n",
      "grill             8942\n",
      "whip              7933\n",
      "roast             6677\n",
      "mash              6460\n",
      "microwave         6405\n",
      "toast             6259\n",
      "grate             5584\n",
      "freez             5405\n",
      "broil             5178\n",
      "crush             4737\n",
      "shred             4702\n",
      "puree             4535\n",
      "marinate          4437\n",
      "dice              4156\n",
      "steam             3775\n",
      "strain            3605\n",
      "soak              3397\n",
      "knead             2702\n",
      "crock pot         2628\n",
      "slow cook         2498\n",
      "griddle           1248\n",
      "barbecue          1240\n",
      "stew              1074\n",
      "smoke             1023\n",
      "pickle             984\n",
      "caramelize         910\n",
      "scramble           615\n",
      "deglaze            603\n",
      "blanch             565\n",
      "poach              329\n",
      "devein             264\n",
      "scald              255\n",
      "pressure cook      222\n",
      "brine              213\n",
      "parboil            152\n",
      "tenderize          143\n",
      "braise             114\n",
      "emulsify            64\n",
      "ferment             32\n",
      "leaven              11\n",
      "distill              6\n",
      "sous-vide            0\n",
      "dtype: int64\n"
     ]
    }
   ],
   "source": [
    "print(total_counts.sort_values(ascending=False))"
   ]
  },
  {
   "cell_type": "code",
   "execution_count": null,
   "metadata": {},
   "outputs": [],
   "source": []
  }
 ],
 "metadata": {
  "kernelspec": {
   "display_name": "environnement_projet_bigdata",
   "language": "python",
   "name": "python3"
  },
  "language_info": {
   "codemirror_mode": {
    "name": "ipython",
    "version": 3
   },
   "file_extension": ".py",
   "mimetype": "text/x-python",
   "name": "python",
   "nbconvert_exporter": "python",
   "pygments_lexer": "ipython3",
   "version": "3.12.3"
  }
 },
 "nbformat": 4,
 "nbformat_minor": 2
}
