{
 "cells": [
  {
   "cell_type": "code",
   "execution_count": 2,
   "metadata": {},
   "outputs": [],
   "source": [
    "import pandas as pd"
   ]
  },
  {
   "cell_type": "code",
   "execution_count": 3,
   "metadata": {},
   "outputs": [],
   "source": [
    "pprecipes = pd.read_csv(\"../archive/PP_recipes.csv\")"
   ]
  },
  {
   "cell_type": "code",
   "execution_count": 4,
   "metadata": {},
   "outputs": [],
   "source": [
    "rawrecipes = pd.read_csv(\"../archive/RAW_recipes.csv\")"
   ]
  },
  {
   "cell_type": "code",
   "execution_count": 5,
   "metadata": {},
   "outputs": [],
   "source": [
    "TECHNIQUES_LIST = ['bake', 'barbecue', 'blanch', 'blend', 'boil', 'braise', 'brine', 'broil', 'caramelize', 'combine', 'crock pot', 'crush', 'deglaze', 'devein', 'dice', 'distill', 'drain', 'emulsify', 'ferment', 'freez', 'fry', 'grate', 'griddle', 'grill', 'knead', 'leaven', 'marinate', 'mash', 'melt', 'microwave', 'parboil', 'pickle', 'poach', 'pour', 'pressure cook', 'puree', 'refrigerat', 'roast', 'saute', 'scald', 'scramble', 'shred', 'simmer', 'skillet', 'slow cook', 'smoke', 'smooth', 'soak', 'sous-vide', 'steam', 'stew', 'strain', 'tenderize', 'thicken', 'toast', 'toss', 'whip', 'whisk']"
   ]
  },
  {
   "cell_type": "code",
   "execution_count": 6,
   "metadata": {},
   "outputs": [],
   "source": [
    "interactions = pd.read_csv(\"../archive/interactions_test.csv\") + pd.read_csv(\"../archive/interactions_train.csv\") + pd.read_csv(\"../archive/interactions_validation.csv\")"
   ]
  },
  {
   "cell_type": "code",
   "execution_count": 7,
   "metadata": {},
   "outputs": [],
   "source": [
    "rawinteractions = pd.read_csv(\"../archive/RAW_interactions.csv\")"
   ]
  },
  {
   "cell_type": "code",
   "execution_count": 65,
   "metadata": {},
   "outputs": [
    {
     "data": {
      "text/plain": [
       "\"\\nr = Moyenne des notes pour une recette.\\nv = Nombre d'évaluations pour cet item.\\nc = Moyenne globale des notes sur l'ensemble du dataset.\\nm = Seuil minimum de votes requis pour qu'un item soit considéré pertinent (une constante que vous définissez).\\n\""
      ]
     },
     "execution_count": 65,
     "metadata": {},
     "output_type": "execute_result"
    }
   ],
   "source": [
    "def bayesian_average(r,v,c,m=10): #score function that takes into account the number of reviews\n",
    "    return (r*v/(v+m))+(c*m/(v+m))\n",
    "\n",
    "\"\"\"\n",
    "r = Moyenne des notes pour une recette.\n",
    "v = Nombre d'évaluations pour cet item.\n",
    "c = Moyenne globale des notes sur l'ensemble du dataset.\n",
    "m = Seuil minimum de votes requis pour qu'un item soit considéré pertinent (une constante que vous définissez).\n",
    "\"\"\""
   ]
  },
  {
   "cell_type": "code",
   "execution_count": 95,
   "metadata": {},
   "outputs": [
    {
     "data": {
      "text/plain": [
       "4.4258466998773365"
      ]
     },
     "execution_count": 95,
     "metadata": {},
     "output_type": "execute_result"
    }
   ],
   "source": [
    "r = mean_score(40893,rawinteractions)\n",
    "v = nb_reviews(40893,rawinteractions)\n",
    "c = global_mean_score(rawinteractions)\n",
    "bayesian_average(r,v,c,10)"
   ]
  },
  {
   "cell_type": "code",
   "execution_count": 51,
   "metadata": {},
   "outputs": [],
   "source": [
    "def mean_score(recipe_id, database): \n",
    "    return database[database['recipe_id'] == recipe_id][\"rating\"].mean()"
   ]
  },
  {
   "cell_type": "code",
   "execution_count": 54,
   "metadata": {},
   "outputs": [],
   "source": [
    "def global_mean_score(database):\n",
    "    return database[\"rating\"].mean()"
   ]
  },
  {
   "cell_type": "code",
   "execution_count": 61,
   "metadata": {},
   "outputs": [],
   "source": [
    "def nb_reviews(recipe_id, database):\n",
    "    return database[database[\"recipe_id\"] == recipe_id].shape[0]"
   ]
  },
  {
   "cell_type": "code",
   "execution_count": 8,
   "metadata": {},
   "outputs": [],
   "source": [
    "import ast  # ou import json\n",
    "\n",
    "# Utilisation d'ast.literal_eval pour convertir les strings en listes\n",
    "pprecipes['techniques'] = pprecipes['techniques'].apply(ast.literal_eval)\n"
   ]
  },
  {
   "cell_type": "code",
   "execution_count": 57,
   "metadata": {},
   "outputs": [
    {
     "data": {
      "text/plain": [
       "2"
      ]
     },
     "execution_count": 57,
     "metadata": {},
     "output_type": "execute_result"
    }
   ],
   "source": [
    "len(rawinteractions[rawinteractions['recipe_id'] == 40893 ][\"rating\"])"
   ]
  },
  {
   "cell_type": "code",
   "execution_count": 58,
   "metadata": {},
   "outputs": [
    {
     "data": {
      "text/html": [
       "<div>\n",
       "<style scoped>\n",
       "    .dataframe tbody tr th:only-of-type {\n",
       "        vertical-align: middle;\n",
       "    }\n",
       "\n",
       "    .dataframe tbody tr th {\n",
       "        vertical-align: top;\n",
       "    }\n",
       "\n",
       "    .dataframe thead th {\n",
       "        text-align: right;\n",
       "    }\n",
       "</style>\n",
       "<table border=\"1\" class=\"dataframe\">\n",
       "  <thead>\n",
       "    <tr style=\"text-align: right;\">\n",
       "      <th></th>\n",
       "      <th>user_id</th>\n",
       "      <th>recipe_id</th>\n",
       "      <th>date</th>\n",
       "      <th>rating</th>\n",
       "      <th>review</th>\n",
       "    </tr>\n",
       "  </thead>\n",
       "  <tbody>\n",
       "    <tr>\n",
       "      <th>0</th>\n",
       "      <td>38094</td>\n",
       "      <td>40893</td>\n",
       "      <td>2003-02-17</td>\n",
       "      <td>4</td>\n",
       "      <td>Great with a salad. Cooked on top of stove for...</td>\n",
       "    </tr>\n",
       "    <tr>\n",
       "      <th>1</th>\n",
       "      <td>1293707</td>\n",
       "      <td>40893</td>\n",
       "      <td>2011-12-21</td>\n",
       "      <td>5</td>\n",
       "      <td>So simple, so delicious! Great for chilly fall...</td>\n",
       "    </tr>\n",
       "    <tr>\n",
       "      <th>2</th>\n",
       "      <td>8937</td>\n",
       "      <td>44394</td>\n",
       "      <td>2002-12-01</td>\n",
       "      <td>4</td>\n",
       "      <td>This worked very well and is EASY.  I used not...</td>\n",
       "    </tr>\n",
       "    <tr>\n",
       "      <th>3</th>\n",
       "      <td>126440</td>\n",
       "      <td>85009</td>\n",
       "      <td>2010-02-27</td>\n",
       "      <td>5</td>\n",
       "      <td>I made the Mexican topping and took it to bunk...</td>\n",
       "    </tr>\n",
       "    <tr>\n",
       "      <th>4</th>\n",
       "      <td>57222</td>\n",
       "      <td>85009</td>\n",
       "      <td>2011-10-01</td>\n",
       "      <td>5</td>\n",
       "      <td>Made the cheddar bacon topping, adding a sprin...</td>\n",
       "    </tr>\n",
       "    <tr>\n",
       "      <th>...</th>\n",
       "      <td>...</td>\n",
       "      <td>...</td>\n",
       "      <td>...</td>\n",
       "      <td>...</td>\n",
       "      <td>...</td>\n",
       "    </tr>\n",
       "    <tr>\n",
       "      <th>1132362</th>\n",
       "      <td>116593</td>\n",
       "      <td>72730</td>\n",
       "      <td>2003-12-09</td>\n",
       "      <td>0</td>\n",
       "      <td>Another approach is to start making sauce with...</td>\n",
       "    </tr>\n",
       "    <tr>\n",
       "      <th>1132363</th>\n",
       "      <td>583662</td>\n",
       "      <td>386618</td>\n",
       "      <td>2009-09-29</td>\n",
       "      <td>5</td>\n",
       "      <td>These were so delicious!  My husband and I tru...</td>\n",
       "    </tr>\n",
       "    <tr>\n",
       "      <th>1132364</th>\n",
       "      <td>157126</td>\n",
       "      <td>78003</td>\n",
       "      <td>2008-06-23</td>\n",
       "      <td>5</td>\n",
       "      <td>WOW!  Sometimes I don't take the time to rate ...</td>\n",
       "    </tr>\n",
       "    <tr>\n",
       "      <th>1132365</th>\n",
       "      <td>53932</td>\n",
       "      <td>78003</td>\n",
       "      <td>2009-01-11</td>\n",
       "      <td>4</td>\n",
       "      <td>Very good!  I used regular port as well.  The ...</td>\n",
       "    </tr>\n",
       "    <tr>\n",
       "      <th>1132366</th>\n",
       "      <td>2001868099</td>\n",
       "      <td>78003</td>\n",
       "      <td>2017-12-18</td>\n",
       "      <td>5</td>\n",
       "      <td>I am so glad I googled and found this here. Th...</td>\n",
       "    </tr>\n",
       "  </tbody>\n",
       "</table>\n",
       "<p>1132367 rows × 5 columns</p>\n",
       "</div>"
      ],
      "text/plain": [
       "            user_id  recipe_id        date  rating  \\\n",
       "0             38094      40893  2003-02-17       4   \n",
       "1           1293707      40893  2011-12-21       5   \n",
       "2              8937      44394  2002-12-01       4   \n",
       "3            126440      85009  2010-02-27       5   \n",
       "4             57222      85009  2011-10-01       5   \n",
       "...             ...        ...         ...     ...   \n",
       "1132362      116593      72730  2003-12-09       0   \n",
       "1132363      583662     386618  2009-09-29       5   \n",
       "1132364      157126      78003  2008-06-23       5   \n",
       "1132365       53932      78003  2009-01-11       4   \n",
       "1132366  2001868099      78003  2017-12-18       5   \n",
       "\n",
       "                                                    review  \n",
       "0        Great with a salad. Cooked on top of stove for...  \n",
       "1        So simple, so delicious! Great for chilly fall...  \n",
       "2        This worked very well and is EASY.  I used not...  \n",
       "3        I made the Mexican topping and took it to bunk...  \n",
       "4        Made the cheddar bacon topping, adding a sprin...  \n",
       "...                                                    ...  \n",
       "1132362  Another approach is to start making sauce with...  \n",
       "1132363  These were so delicious!  My husband and I tru...  \n",
       "1132364  WOW!  Sometimes I don't take the time to rate ...  \n",
       "1132365  Very good!  I used regular port as well.  The ...  \n",
       "1132366  I am so glad I googled and found this here. Th...  \n",
       "\n",
       "[1132367 rows x 5 columns]"
      ]
     },
     "execution_count": 58,
     "metadata": {},
     "output_type": "execute_result"
    }
   ],
   "source": [
    "rawinteractions"
   ]
  },
  {
   "cell_type": "code",
   "execution_count": 60,
   "metadata": {},
   "outputs": [
    {
     "name": "stderr",
     "output_type": "stream",
     "text": [
      "C:\\Users\\bapti\\AppData\\Local\\Temp\\ipykernel_12088\\4234760648.py:10: FutureWarning: Setting an item of incompatible dtype is deprecated and will raise an error in a future version of pandas. Value '4.833333333333333' has dtype incompatible with int64, please explicitly cast to a compatible dtype first.\n",
      "  ratings.at[TECHNIQUES_LIST[i]] += rawinteractions[rawinteractions['recipe_id'] == row['id']][\"rating\"].mean()\n"
     ]
    },
    {
     "ename": "KeyboardInterrupt",
     "evalue": "",
     "output_type": "error",
     "traceback": [
      "\u001b[1;31m---------------------------------------------------------------------------\u001b[0m",
      "\u001b[1;31mKeyboardInterrupt\u001b[0m                         Traceback (most recent call last)",
      "\u001b[1;32m~\\AppData\\Local\\Temp\\ipykernel_12088\\4234760648.py\u001b[0m in \u001b[0;36m?\u001b[1;34m()\u001b[0m\n\u001b[0;32m      4\u001b[0m \u001b[1;31m# Ajouter les occurrences\u001b[0m\u001b[1;33m\u001b[0m\u001b[1;33m\u001b[0m\u001b[0m\n\u001b[0;32m      5\u001b[0m \u001b[1;32mfor\u001b[0m \u001b[0mindex\u001b[0m\u001b[1;33m,\u001b[0m \u001b[0mrow\u001b[0m \u001b[1;32min\u001b[0m \u001b[0mpprecipes\u001b[0m\u001b[1;33m.\u001b[0m\u001b[0miterrows\u001b[0m\u001b[1;33m(\u001b[0m\u001b[1;33m)\u001b[0m\u001b[1;33m:\u001b[0m\u001b[1;33m\u001b[0m\u001b[1;33m\u001b[0m\u001b[0m\n\u001b[0;32m      6\u001b[0m     \u001b[1;32mfor\u001b[0m \u001b[0mi\u001b[0m\u001b[1;33m,\u001b[0m \u001b[0mvalue\u001b[0m \u001b[1;32min\u001b[0m \u001b[0menumerate\u001b[0m\u001b[1;33m(\u001b[0m\u001b[0mrow\u001b[0m\u001b[1;33m[\u001b[0m\u001b[1;34m'techniques'\u001b[0m\u001b[1;33m]\u001b[0m\u001b[1;33m)\u001b[0m\u001b[1;33m:\u001b[0m\u001b[1;33m\u001b[0m\u001b[1;33m\u001b[0m\u001b[0m\n\u001b[0;32m      7\u001b[0m         \u001b[1;32mif\u001b[0m \u001b[0mvalue\u001b[0m \u001b[1;33m==\u001b[0m \u001b[1;36m1\u001b[0m\u001b[1;33m:\u001b[0m  \u001b[1;31m# Si la technique est présente\u001b[0m\u001b[1;33m\u001b[0m\u001b[1;33m\u001b[0m\u001b[0m\n\u001b[1;32m----> 8\u001b[1;33m             \u001b[1;32mif\u001b[0m \u001b[0mlen\u001b[0m\u001b[1;33m(\u001b[0m\u001b[0mrawinteractions\u001b[0m\u001b[1;33m[\u001b[0m\u001b[0mrawinteractions\u001b[0m\u001b[1;33m[\u001b[0m\u001b[1;34m'recipe_id'\u001b[0m\u001b[1;33m]\u001b[0m \u001b[1;33m==\u001b[0m \u001b[0mrow\u001b[0m\u001b[1;33m[\u001b[0m\u001b[1;34m'id'\u001b[0m\u001b[1;33m]\u001b[0m \u001b[1;33m]\u001b[0m\u001b[1;33m[\u001b[0m\u001b[1;34m\"rating\"\u001b[0m\u001b[1;33m]\u001b[0m\u001b[1;33m)\u001b[0m \u001b[1;33m>\u001b[0m \u001b[1;36m0\u001b[0m\u001b[1;33m:\u001b[0m\u001b[1;33m\u001b[0m\u001b[1;33m\u001b[0m\u001b[0m\n\u001b[0m\u001b[0;32m      9\u001b[0m                 \u001b[0mcompteur\u001b[0m\u001b[1;33m.\u001b[0m\u001b[0mat\u001b[0m\u001b[1;33m[\u001b[0m\u001b[0mTECHNIQUES_LIST\u001b[0m\u001b[1;33m[\u001b[0m\u001b[0mi\u001b[0m\u001b[1;33m]\u001b[0m\u001b[1;33m]\u001b[0m \u001b[1;33m+=\u001b[0m \u001b[1;36m1\u001b[0m\u001b[1;33m\u001b[0m\u001b[1;33m\u001b[0m\u001b[0m\n\u001b[0;32m     10\u001b[0m                 \u001b[0mratings\u001b[0m\u001b[1;33m.\u001b[0m\u001b[0mat\u001b[0m\u001b[1;33m[\u001b[0m\u001b[0mTECHNIQUES_LIST\u001b[0m\u001b[1;33m[\u001b[0m\u001b[0mi\u001b[0m\u001b[1;33m]\u001b[0m\u001b[1;33m]\u001b[0m \u001b[1;33m+=\u001b[0m \u001b[0mrawinteractions\u001b[0m\u001b[1;33m[\u001b[0m\u001b[0mrawinteractions\u001b[0m\u001b[1;33m[\u001b[0m\u001b[1;34m'recipe_id'\u001b[0m\u001b[1;33m]\u001b[0m \u001b[1;33m==\u001b[0m \u001b[0mrow\u001b[0m\u001b[1;33m[\u001b[0m\u001b[1;34m'id'\u001b[0m\u001b[1;33m]\u001b[0m\u001b[1;33m]\u001b[0m\u001b[1;33m[\u001b[0m\u001b[1;34m\"rating\"\u001b[0m\u001b[1;33m]\u001b[0m\u001b[1;33m.\u001b[0m\u001b[0mmean\u001b[0m\u001b[1;33m(\u001b[0m\u001b[1;33m)\u001b[0m\u001b[1;33m\u001b[0m\u001b[1;33m\u001b[0m\u001b[0m\n\u001b[0;32m     11\u001b[0m \u001b[1;32mfor\u001b[0m \u001b[0mi\u001b[0m \u001b[1;32min\u001b[0m \u001b[0mrange\u001b[0m\u001b[1;33m(\u001b[0m\u001b[0mlen\u001b[0m\u001b[1;33m(\u001b[0m\u001b[0mTECHNIQUES_LIST\u001b[0m\u001b[1;33m)\u001b[0m\u001b[1;33m)\u001b[0m\u001b[1;33m:\u001b[0m\u001b[1;33m\u001b[0m\u001b[1;33m\u001b[0m\u001b[0m\n",
      "\u001b[1;32mc:\\Users\\bapti\\projet_Kit_Big_Data\\environnement_projet_bigdata\\Lib\\site-packages\\pandas\\core\\frame.py\u001b[0m in \u001b[0;36m?\u001b[1;34m(self, key)\u001b[0m\n\u001b[0;32m   4089\u001b[0m             \u001b[1;32mreturn\u001b[0m \u001b[0mself\u001b[0m\u001b[1;33m.\u001b[0m\u001b[0mwhere\u001b[0m\u001b[1;33m(\u001b[0m\u001b[0mkey\u001b[0m\u001b[1;33m)\u001b[0m\u001b[1;33m\u001b[0m\u001b[1;33m\u001b[0m\u001b[0m\n\u001b[0;32m   4090\u001b[0m \u001b[1;33m\u001b[0m\u001b[0m\n\u001b[0;32m   4091\u001b[0m         \u001b[1;31m# Do we have a (boolean) 1d indexer?\u001b[0m\u001b[1;33m\u001b[0m\u001b[1;33m\u001b[0m\u001b[0m\n\u001b[0;32m   4092\u001b[0m         \u001b[1;32mif\u001b[0m \u001b[0mcom\u001b[0m\u001b[1;33m.\u001b[0m\u001b[0mis_bool_indexer\u001b[0m\u001b[1;33m(\u001b[0m\u001b[0mkey\u001b[0m\u001b[1;33m)\u001b[0m\u001b[1;33m:\u001b[0m\u001b[1;33m\u001b[0m\u001b[1;33m\u001b[0m\u001b[0m\n\u001b[1;32m-> 4093\u001b[1;33m             \u001b[1;32mreturn\u001b[0m \u001b[0mself\u001b[0m\u001b[1;33m.\u001b[0m\u001b[0m_getitem_bool_array\u001b[0m\u001b[1;33m(\u001b[0m\u001b[0mkey\u001b[0m\u001b[1;33m)\u001b[0m\u001b[1;33m\u001b[0m\u001b[1;33m\u001b[0m\u001b[0m\n\u001b[0m\u001b[0;32m   4094\u001b[0m \u001b[1;33m\u001b[0m\u001b[0m\n\u001b[0;32m   4095\u001b[0m         \u001b[1;31m# We are left with two options: a single key, and a collection of keys,\u001b[0m\u001b[1;33m\u001b[0m\u001b[1;33m\u001b[0m\u001b[0m\n\u001b[0;32m   4096\u001b[0m         \u001b[1;31m# We interpret tuples as collections only for non-MultiIndex\u001b[0m\u001b[1;33m\u001b[0m\u001b[1;33m\u001b[0m\u001b[0m\n",
      "\u001b[1;32mc:\\Users\\bapti\\projet_Kit_Big_Data\\environnement_projet_bigdata\\Lib\\site-packages\\pandas\\core\\frame.py\u001b[0m in \u001b[0;36m?\u001b[1;34m(self, key)\u001b[0m\n\u001b[0;32m   4150\u001b[0m \u001b[1;33m\u001b[0m\u001b[0m\n\u001b[0;32m   4151\u001b[0m         \u001b[1;32mif\u001b[0m \u001b[0mkey\u001b[0m\u001b[1;33m.\u001b[0m\u001b[0mall\u001b[0m\u001b[1;33m(\u001b[0m\u001b[1;33m)\u001b[0m\u001b[1;33m:\u001b[0m\u001b[1;33m\u001b[0m\u001b[1;33m\u001b[0m\u001b[0m\n\u001b[0;32m   4152\u001b[0m             \u001b[1;32mreturn\u001b[0m \u001b[0mself\u001b[0m\u001b[1;33m.\u001b[0m\u001b[0mcopy\u001b[0m\u001b[1;33m(\u001b[0m\u001b[0mdeep\u001b[0m\u001b[1;33m=\u001b[0m\u001b[1;32mNone\u001b[0m\u001b[1;33m)\u001b[0m\u001b[1;33m\u001b[0m\u001b[1;33m\u001b[0m\u001b[0m\n\u001b[0;32m   4153\u001b[0m \u001b[1;33m\u001b[0m\u001b[0m\n\u001b[1;32m-> 4154\u001b[1;33m         \u001b[0mindexer\u001b[0m \u001b[1;33m=\u001b[0m \u001b[0mkey\u001b[0m\u001b[1;33m.\u001b[0m\u001b[0mnonzero\u001b[0m\u001b[1;33m(\u001b[0m\u001b[1;33m)\u001b[0m\u001b[1;33m[\u001b[0m\u001b[1;36m0\u001b[0m\u001b[1;33m]\u001b[0m\u001b[1;33m\u001b[0m\u001b[1;33m\u001b[0m\u001b[0m\n\u001b[0m\u001b[0;32m   4155\u001b[0m         \u001b[1;32mreturn\u001b[0m \u001b[0mself\u001b[0m\u001b[1;33m.\u001b[0m\u001b[0m_take_with_is_copy\u001b[0m\u001b[1;33m(\u001b[0m\u001b[0mindexer\u001b[0m\u001b[1;33m,\u001b[0m \u001b[0maxis\u001b[0m\u001b[1;33m=\u001b[0m\u001b[1;36m0\u001b[0m\u001b[1;33m)\u001b[0m\u001b[1;33m\u001b[0m\u001b[1;33m\u001b[0m\u001b[0m\n",
      "\u001b[1;31mKeyboardInterrupt\u001b[0m: "
     ]
    }
   ],
   "source": [
    "# Créer un tableau de totaux initialisé à zéro\n",
    "ratings = pd.Series([0] * len(TECHNIQUES_LIST), index=TECHNIQUES_LIST)\n",
    "compteur = pd.Series([0] * len(TECHNIQUES_LIST), index=TECHNIQUES_LIST)\n",
    "# Ajouter les occurrences\n",
    "for index, row in pprecipes.iterrows():\n",
    "    for i, value in enumerate(row['techniques']):\n",
    "        if value == 1:  # Si la technique est présente\n",
    "            if len(rawinteractions[rawinteractions['recipe_id'] == row['id'] ][\"rating\"]) > 0:\n",
    "                compteur.at[TECHNIQUES_LIST[i]] += 1\n",
    "                ratings.at[TECHNIQUES_LIST[i]] += rawinteractions[rawinteractions['recipe_id'] == row['id']][\"rating\"].mean()\n",
    "for i in range(len(TECHNIQUES_LIST)):\n",
    "    ratings[i] /= compteur[i]\n",
    "\n",
    "# Afficher les totaux\n",
    "print(\"\\nFréquence des techniques :\")\n",
    "print(ratings.sort_values(ascending=False))"
   ]
  },
  {
   "cell_type": "code",
   "execution_count": null,
   "metadata": {},
   "outputs": [],
   "source": [
    "labels = ['bake', 'combine', 'pour', 'boil', 'other']\n",
    "sizes = [ratings['bake'], ratings['combine'], ratings['pour'], ratings['boil'], ratings[4:].mean()]  # Pourcentages ou valeurs\n",
    "\n",
    "plt.title(\"techniques les plus utilisées\")\n",
    "# Tracé du camembert\n",
    "plt.pie(sizes, labels=labels, autopct='%1.1f%%', startangle=90)\n",
    "\n",
    "# S'assurer que le camembert est bien circulaire\n",
    "plt.axis('equal')\n",
    "\n",
    "# Affichage\n",
    "plt.show()"
   ]
  },
  {
   "cell_type": "code",
   "execution_count": null,
   "metadata": {},
   "outputs": [],
   "source": [
    "#techniques les plus utilisées camembert top 5\n",
    "#technique qui ont les meilleures notes camembert top 5\n",
    "#utilisation de ces techniques au cours du temps"
   ]
  },
  {
   "cell_type": "code",
   "execution_count": 2,
   "metadata": {},
   "outputs": [],
   "source": [
    "import pandas as pd\n",
    "import ast\n",
    "import matplotlib.pyplot as plt\n",
    "import seaborn as sb\n",
    "import numpy as np"
   ]
  },
  {
   "cell_type": "code",
   "execution_count": 3,
   "metadata": {},
   "outputs": [],
   "source": [
    "rawrecipes = pd.read_csv(\"../archive/RAW_recipes.csv\")\n",
    "pprecipes = pd.read_csv(\"../archive/PP_recipes.csv\")\n",
    "rawinteractions = pd.read_csv(\"../archive/RAW_interactions.csv\")"
   ]
  },
  {
   "cell_type": "code",
   "execution_count": 4,
   "metadata": {},
   "outputs": [],
   "source": [
    "TECHNIQUES_LIST = ['bake', 'barbecue', 'blanch', 'blend', 'boil', 'braise', 'brine', 'broil', 'caramelize', 'combine', 'crock pot', 'crush', \n",
    "                   'deglaze', 'devein', 'dice', 'distill', 'drain', 'emulsify', 'ferment', 'freez', 'fry', 'grate', 'griddle', 'grill', 'knead', \n",
    "                   'leaven', 'marinate', 'mash', 'melt', 'microwave', 'parboil', 'pickle', 'poach', 'pour', 'pressure cook', 'puree', \n",
    "                   'refrigerat', 'roast', 'saute', 'scald', 'scramble', 'shred', 'simmer', 'skillet', 'slow cook', 'smoke', 'smooth', 'soak', \n",
    "                   'sous-vide', 'steam', 'stew', 'strain', 'tenderize', 'thicken', 'toast', 'toss', 'whip', 'whisk']"
   ]
  },
  {
   "cell_type": "code",
   "execution_count": 5,
   "metadata": {},
   "outputs": [],
   "source": [
    "# Convertir les listes (considéré comme des strings, en liste python)\n",
    "rawrecipes['nutrition'] = rawrecipes['nutrition'].apply(ast.literal_eval)\n",
    "\n",
    "rawrecipes['tags'] = rawrecipes['tags'].apply(ast.literal_eval)\n",
    "\n",
    "rawrecipes['steps'] = rawrecipes['steps'].apply(ast.literal_eval)\n",
    "\n",
    "rawrecipes['ingredients'] = rawrecipes['ingredients'].apply(ast.literal_eval)\n",
    "\n",
    "# Utilisation d'ast.literal_eval pour convertir les strings en listes\n",
    "pprecipes['techniques'] = pprecipes['techniques'].apply(ast.literal_eval)\n",
    "\n",
    "\n",
    "# Convertir les dates en 'datetype' python :\n",
    "rawrecipes['submitted'] = pd.to_datetime(rawrecipes['submitted'])\n",
    "\n",
    "rawinteractions['date'] = pd.to_datetime(rawinteractions['date'])\n",
    "\n"
   ]
  },
  {
   "cell_type": "code",
   "execution_count": 6,
   "metadata": {},
   "outputs": [],
   "source": [
    "rawrecipes.rename(columns={'id': 'recipe_id'}, inplace=True)\n",
    "pprecipes.rename(columns={'id': 'recipe_id'}, inplace=True)"
   ]
  },
  {
   "cell_type": "code",
   "execution_count": 7,
   "metadata": {},
   "outputs": [],
   "source": [
    "bigdf = pd.merge(rawrecipes, pprecipes, on='recipe_id')\n",
    "bigdf = pd.merge(bigdf, rawinteractions, on='recipe_id')"
   ]
  },
  {
   "cell_type": "code",
   "execution_count": 8,
   "metadata": {},
   "outputs": [],
   "source": [
    "bigdf = bigdf.groupby(['recipe_id']).agg({ \n",
    "    'i': 'first', \n",
    "    'name_tokens': 'first', \n",
    "    'ingredient_tokens': 'first',\n",
    "    'steps_tokens': 'first', \n",
    "    'techniques': 'first', \n",
    "    'calorie_level': 'first', \n",
    "    'ingredient_ids': 'first',\n",
    "    'name':'first',\n",
    "    'minutes':'first',\n",
    "    'contributor_id':'first',\n",
    "    'submitted':'first',\n",
    "    'tags':'first',\n",
    "    'nutrition':'first',\n",
    "    'steps':'first',\n",
    "    'n_steps':'first',\n",
    "    'description':'first',\n",
    "    'ingredients':'first',\n",
    "    'n_ingredients':'first',\n",
    "    'review': lambda x: list(x) if len(x) > 0 else [], \n",
    "    'date': lambda x: list(x) if len(x) > 0 else [],\n",
    "    'user_id': lambda x: list(x) if len(x) > 0 else [],\n",
    "    'rating': lambda x: list(x) if len(x) > 0 else []\n",
    "}).reset_index()"
   ]
  },
  {
   "cell_type": "code",
   "execution_count": 28,
   "metadata": {},
   "outputs": [
    {
     "name": "stdout",
     "output_type": "stream",
     "text": [
      "\n",
      "Fréquence des techniques :\n",
      "bake             64821\n",
      "combine          60136\n",
      "pour             48747\n",
      "boil             42354\n",
      "melt             30865\n",
      "drain            29567\n",
      "blend            29387\n",
      "simmer           29380\n",
      "skillet          26825\n",
      "refrigerat       20543\n",
      "smooth           20465\n",
      "toss             18166\n",
      "whisk            16467\n",
      "saute            15835\n",
      "fry              15086\n",
      "thicken          11753\n",
      "grill             8942\n",
      "whip              7933\n",
      "roast             6677\n",
      "mash              6460\n",
      "microwave         6405\n",
      "toast             6259\n",
      "grate             5584\n",
      "freez             5405\n",
      "broil             5178\n",
      "crush             4737\n",
      "shred             4702\n",
      "puree             4535\n",
      "marinate          4437\n",
      "dice              4156\n",
      "steam             3775\n",
      "strain            3605\n",
      "soak              3397\n",
      "knead             2702\n",
      "crock pot         2628\n",
      "slow cook         2498\n",
      "griddle           1248\n",
      "barbecue          1240\n",
      "stew              1074\n",
      "smoke             1023\n",
      "pickle             984\n",
      "caramelize         910\n",
      "scramble           615\n",
      "deglaze            603\n",
      "blanch             565\n",
      "poach              329\n",
      "devein             264\n",
      "scald              255\n",
      "pressure cook      222\n",
      "brine              213\n",
      "parboil            152\n",
      "tenderize          143\n",
      "braise             114\n",
      "emulsify            64\n",
      "ferment             32\n",
      "leaven              11\n",
      "distill              6\n",
      "sous-vide            0\n",
      "dtype: int64\n"
     ]
    }
   ],
   "source": [
    "# Calculer le total des techniques\n",
    "# Créer un tableau de totaux initialisé à zéro\n",
    "techniques_counts = pd.Series([0] * len(TECHNIQUES_LIST), index=TECHNIQUES_LIST)\n",
    "\n",
    "# Ajouter les occurrences\n",
    "for index, row in bigdf.iterrows():\n",
    "    for i, value in enumerate(row['techniques']):\n",
    "        if value == 1:  # Si la technique est présente\n",
    "            techniques_counts.at[TECHNIQUES_LIST[i]] += 1\n",
    "techniques_counts = techniques_counts.sort_values(ascending=False)\n",
    "# Afficher les totaux\n",
    "print(\"\\nFréquence des techniques :\")\n",
    "print(techniques_counts)"
   ]
  },
  {
   "cell_type": "code",
   "execution_count": 30,
   "metadata": {},
   "outputs": [
    {
     "name": "stderr",
     "output_type": "stream",
     "text": [
      "C:\\Users\\bapti\\AppData\\Local\\Temp\\ipykernel_18028\\787222475.py:3: FutureWarning: Series.__getitem__ treating keys as positions is deprecated. In a future version, integer keys will always be treated as labels (consistent with DataFrame behavior). To access a value by position, use `ser.iloc[pos]`\n",
      "  sizes = [techniques_counts[i] for i in range(5)]\n"
     ]
    },
    {
     "data": {
      "image/png": "[encoded data removed]",
      "text/plain": [
       "<Figure size 640x480 with 1 Axes>"
      ]
     },
     "metadata": {},
     "output_type": "display_data"
    }
   ],
   "source": [
    "\n",
    "labels = [techniques_counts.index[i] for i in range(5)]\n",
    "labels.append('other')\n",
    "sizes = [techniques_counts[i] for i in range(5)]\n",
    "sizes.append(techniques_counts[4:].sum())\n",
    "\n",
    "plt.title(\"techniques les plus utilisées\")\n",
    "# Tracé du camembert\n",
    "plt.pie(sizes, labels=labels, autopct='%1.1f%%', startangle=90)\n",
    "\n",
    "# S'assurer que le camembert est bien circulaire\n",
    "plt.axis('equal')\n",
    "\n",
    "# Affichage\n",
    "plt.show()"
   ]
  },
  {
   "cell_type": "code",
   "execution_count": 9,
   "metadata": {},
   "outputs": [
    {
     "name": "stderr",
     "output_type": "stream",
     "text": [
      "C:\\Users\\bapti\\AppData\\Local\\Temp\\ipykernel_18028\\3576197690.py:10: FutureWarning: Setting an item of incompatible dtype is deprecated and will raise an error in a future version of pandas. Value '4.25' has dtype incompatible with int64, please explicitly cast to a compatible dtype first.\n",
      "  techniques_score.at[TECHNIQUES_LIST[i]] += np.mean(row['rating'])\n"
     ]
    },
    {
     "name": "stdout",
     "output_type": "stream",
     "text": [
      "\n",
      "Score moyen des techniques :\n",
      "distill          4.574561\n",
      "grill            4.524372\n",
      "barbecue         4.505169\n",
      "toast            4.501880\n",
      "poach            4.489473\n",
      "devein           4.487620\n",
      "braise           4.486535\n",
      "broil            4.483357\n",
      "scramble         4.483217\n",
      "toss             4.478488\n",
      "roast            4.475399\n",
      "strain           4.472172\n",
      "caramelize       4.460938\n",
      "parboil          4.458576\n",
      "refrigerat       4.455891\n",
      "marinate         4.449695\n",
      "griddle          4.448818\n",
      "blanch           4.446696\n",
      "whip             4.443585\n",
      "crush            4.433221\n",
      "skillet          4.432978\n",
      "whisk            4.430628\n",
      "deglaze          4.426828\n",
      "melt             4.426572\n",
      "freez            4.426003\n",
      "saute            4.419207\n",
      "grate            4.414718\n",
      "combine          4.411526\n",
      "mash             4.409996\n",
      "puree            4.409646\n",
      "emulsify         4.407622\n",
      "dice             4.407401\n",
      "shred            4.405965\n",
      "drain            4.401505\n",
      "blend            4.400800\n",
      "smoke            4.399334\n",
      "simmer           4.398872\n",
      "smooth           4.397034\n",
      "boil             4.393561\n",
      "microwave        4.389609\n",
      "steam            4.389592\n",
      "thicken          4.385656\n",
      "fry              4.385277\n",
      "pickle           4.383076\n",
      "pour             4.376828\n",
      "soak             4.364344\n",
      "bake             4.364261\n",
      "stew             4.357471\n",
      "tenderize        4.319678\n",
      "brine            4.311149\n",
      "scald            4.291901\n",
      "knead            4.280019\n",
      "slow cook        4.251538\n",
      "crock pot        4.217953\n",
      "leaven           4.147222\n",
      "pressure cook    4.049927\n",
      "ferment          3.539881\n",
      "sous-vide             NaN\n",
      "dtype: float64\n"
     ]
    },
    {
     "name": "stderr",
     "output_type": "stream",
     "text": [
      "C:\\Users\\bapti\\AppData\\Local\\Temp\\ipykernel_18028\\3576197690.py:13: FutureWarning: Series.__getitem__ treating keys as positions is deprecated. In a future version, integer keys will always be treated as labels (consistent with DataFrame behavior). To access a value by position, use `ser.iloc[pos]`\n",
      "  techniques_score[i] = techniques_score[i]/compteur[i]\n",
      "C:\\Users\\bapti\\AppData\\Local\\Temp\\ipykernel_18028\\3576197690.py:13: FutureWarning: Series.__setitem__ treating keys as positions is deprecated. In a future version, integer keys will always be treated as labels (consistent with DataFrame behavior). To set a value by position, use `ser.iloc[pos] = value`\n",
      "  techniques_score[i] = techniques_score[i]/compteur[i]\n",
      "C:\\Users\\bapti\\AppData\\Local\\Temp\\ipykernel_18028\\3576197690.py:13: RuntimeWarning: invalid value encountered in scalar divide\n",
      "  techniques_score[i] = techniques_score[i]/compteur[i]\n"
     ]
    }
   ],
   "source": [
    "# Calculer le score des techniques\n",
    "# Créer un tableau de totaux initialisé à zéro\n",
    "techniques_score = pd.Series([0] * len(TECHNIQUES_LIST), index=TECHNIQUES_LIST)\n",
    "compteur = pd.Series([0] * len(TECHNIQUES_LIST), index=TECHNIQUES_LIST)\n",
    "\n",
    "# Ajouter les occurrences\n",
    "for index, row in bigdf.iterrows():\n",
    "    for i, value in enumerate(row['techniques']):\n",
    "        if value == 1:  # Si la technique est présente\n",
    "            techniques_score.at[TECHNIQUES_LIST[i]] += np.mean(row['rating'])\n",
    "            compteur.at[TECHNIQUES_LIST[i]] += 1\n",
    "for i in range(len(TECHNIQUES_LIST)):\n",
    "    techniques_score[i] = techniques_score[i]/compteur[i]\n",
    "techniques_score = techniques_score.sort_values(ascending=False)\n",
    "# Afficher les totaux\n",
    "print(\"\\nScore moyen des techniques :\")\n",
    "print(techniques_score)"
   ]
  },
  {
   "cell_type": "code",
   "execution_count": 31,
   "metadata": {},
   "outputs": [
    {
     "data": {
      "image/png": "[encoded data removed]",
      "text/plain": [
       "<Figure size 1500x600 with 1 Axes>"
      ]
     },
     "metadata": {},
     "output_type": "display_data"
    }
   ],
   "source": [
    "techniques_score.plot(kind='bar', figsize=(15, 6))\n",
    "plt.title(\"techniques les mieux notées\")\n",
    "plt.xlabel(\"Technique\")\n",
    "plt.ylabel(\"Note moyenne\")\n",
    "plt.show()"
   ]
  },
  {
   "cell_type": "code",
   "execution_count": null,
   "metadata": {},
   "outputs": [],
   "source": []
  }
 ],
 "metadata": {
  "kernelspec": {
   "display_name": "environnement_projet_bigdata",
   "language": "python",
   "name": "python3"
  },
  "language_info": {
   "codemirror_mode": {
    "name": "ipython",
    "version": 3
   },
   "file_extension": ".py",
   "mimetype": "text/x-python",
   "name": "python",
   "nbconvert_exporter": "python",
   "pygments_lexer": "ipython3",
   "version": "3.12.3"
  }
 },
 "nbformat": 4,
 "nbformat_minor": 2
}
