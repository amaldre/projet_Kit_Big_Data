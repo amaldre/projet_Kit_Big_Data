{
 "cells": [
  {
   "cell_type": "markdown",
   "metadata": {},
   "source": [
    "# Notebook pour enlever les colonnes inutiles du DF et le charger sur MongoDB Atlas (cloud), version gratuite (< 512Mb)"
   ]
  },
  {
   "cell_type": "markdown",
   "metadata": {},
   "source": []
  },
  {
   "cell_type": "code",
   "execution_count": 17,
   "metadata": {},
   "outputs": [],
   "source": [
    "import pandas as pd "
   ]
  },
  {
   "cell_type": "code",
   "execution_count": 18,
   "metadata": {},
   "outputs": [],
   "source": [
    "df_csv = pd.read_csv('../data/processed_data.csv')"
   ]
  },
  {
   "cell_type": "code",
   "execution_count": 19,
   "metadata": {},
   "outputs": [
    {
     "data": {
      "text/plain": [
       "Index(['recipe_id', 'i', 'name_tokens', 'ingredient_tokens', 'steps_tokens',\n",
       "       'techniques', 'calorie_level', 'ingredient_ids', 'name', 'minutes',\n",
       "       'contributor_id', 'submitted', 'tags', 'nutrition', 'steps', 'n_steps',\n",
       "       'description', 'ingredients', 'n_ingredients', 'review', 'date',\n",
       "       'user_id', 'rating', 'cleaned_description', 'cleaned_name',\n",
       "       'ingredients_processed', 'ingredients_replaced'],\n",
       "      dtype='object')"
      ]
     },
     "execution_count": 19,
     "metadata": {},
     "output_type": "execute_result"
    }
   ],
   "source": [
    "df_csv.columns"
   ]
  },
  {
   "cell_type": "code",
   "execution_count": 20,
   "metadata": {},
   "outputs": [
    {
     "data": {
      "text/html": [
       "<div>\n",
       "<style scoped>\n",
       "    .dataframe tbody tr th:only-of-type {\n",
       "        vertical-align: middle;\n",
       "    }\n",
       "\n",
       "    .dataframe tbody tr th {\n",
       "        vertical-align: top;\n",
       "    }\n",
       "\n",
       "    .dataframe thead th {\n",
       "        text-align: right;\n",
       "    }\n",
       "</style>\n",
       "<table border=\"1\" class=\"dataframe\">\n",
       "  <thead>\n",
       "    <tr style=\"text-align: right;\">\n",
       "      <th></th>\n",
       "      <th>recipe_id</th>\n",
       "      <th>i</th>\n",
       "      <th>name_tokens</th>\n",
       "      <th>ingredient_tokens</th>\n",
       "      <th>steps_tokens</th>\n",
       "      <th>techniques</th>\n",
       "      <th>calorie_level</th>\n",
       "      <th>ingredient_ids</th>\n",
       "      <th>name</th>\n",
       "      <th>minutes</th>\n",
       "      <th>...</th>\n",
       "      <th>ingredients</th>\n",
       "      <th>n_ingredients</th>\n",
       "      <th>review</th>\n",
       "      <th>date</th>\n",
       "      <th>user_id</th>\n",
       "      <th>rating</th>\n",
       "      <th>cleaned_description</th>\n",
       "      <th>cleaned_name</th>\n",
       "      <th>ingredients_processed</th>\n",
       "      <th>ingredients_replaced</th>\n",
       "    </tr>\n",
       "  </thead>\n",
       "  <tbody>\n",
       "    <tr>\n",
       "      <th>0</th>\n",
       "      <td>38</td>\n",
       "      <td>16791</td>\n",
       "      <td>[40480, 954, 4739, 6449, 1674, 4787, 10601, 40...</td>\n",
       "      <td>[[12698, 11125], [4465, 29487, 6444], [15000, ...</td>\n",
       "      <td>[40480, 40482, 8263, 280, 7420, 11125, 556, 64...</td>\n",
       "      <td>[0, 0, 0, 1, 0, 0, 0, 0, 0, 0, 0, 0, 0, 0, 0, ...</td>\n",
       "      <td>0</td>\n",
       "      <td>[648, 3355, 7501, 4253]</td>\n",
       "      <td>low fat berry blue frozen dessert</td>\n",
       "      <td>1485</td>\n",
       "      <td>...</td>\n",
       "      <td>['blueberries', 'granulated sugar', 'vanilla y...</td>\n",
       "      <td>4</td>\n",
       "      <td>['Yummy, yummy, yummy! I am a big fan of fruit...</td>\n",
       "      <td>[datetime.date(2008, 2, 13), datetime.date(200...</td>\n",
       "      <td>[596506, 1060485, 1802956262, 2123645]</td>\n",
       "      <td>[5, 4, 4, 4]</td>\n",
       "      <td>[]</td>\n",
       "      <td>['fat', 'berry', 'dessert']</td>\n",
       "      <td>['blueberry', 'granulated sugar', 'vanilla yog...</td>\n",
       "      <td>['blueberry', 'granulated sugar', 'vanilla yog...</td>\n",
       "    </tr>\n",
       "    <tr>\n",
       "      <th>1</th>\n",
       "      <td>40</td>\n",
       "      <td>99809</td>\n",
       "      <td>[40480, 1432, 17746, 40481]</td>\n",
       "      <td>[[6444], [30295, 240, 17, 686, 498], [3137, 13...</td>\n",
       "      <td>[40480, 40482, 666, 246, 277, 660, 2212, 7932,...</td>\n",
       "      <td>[0, 0, 0, 0, 0, 0, 0, 0, 0, 0, 0, 0, 0, 0, 0, ...</td>\n",
       "      <td>1</td>\n",
       "      <td>[6906, 4303, 2919, 2832, 3829, 1567]</td>\n",
       "      <td>best lemonade</td>\n",
       "      <td>35</td>\n",
       "      <td>...</td>\n",
       "      <td>['sugar', 'lemons, rind of', 'fresh water', 'f...</td>\n",
       "      <td>6</td>\n",
       "      <td>[\"My favourite lemonade recipe is essentially ...</td>\n",
       "      <td>[datetime.date(2002, 12, 18), datetime.date(20...</td>\n",
       "      <td>[59064, 70154, 39949, 132353, 172249, 541967, ...</td>\n",
       "      <td>[5, 1, 4, 5, 4, 5, 5, 5, 5]</td>\n",
       "      <td>['house', 'cookbooks', 'zester', '*', 'order',...</td>\n",
       "      <td>['lemonade']</td>\n",
       "      <td>['sugar', 'lemons, rind of', 'fresh water', 'f...</td>\n",
       "      <td>['sugar', 'lemons, rind of', 'fresh water', 'f...</td>\n",
       "    </tr>\n",
       "    <tr>\n",
       "      <th>2</th>\n",
       "      <td>45</td>\n",
       "      <td>84204</td>\n",
       "      <td>[40480, 6796, 5940, 7056, 556, 32669, 5776, 32...</td>\n",
       "      <td>[[6444], [7424, 745], [8441], [8441, 15953], [...</td>\n",
       "      <td>[40480, 40482, 729, 2525, 10906, 485, 43, 2885...</td>\n",
       "      <td>[1, 0, 0, 1, 0, 0, 0, 0, 0, 1, 0, 0, 0, 0, 0, ...</td>\n",
       "      <td>0</td>\n",
       "      <td>[6906, 4574, 2499, 2509, 2683, 6270, 869, 3324...</td>\n",
       "      <td>buttermilk pie with gingersnap crumb crust</td>\n",
       "      <td>80</td>\n",
       "      <td>...</td>\n",
       "      <td>['sugar', 'margarine', 'egg', 'egg whites', 'f...</td>\n",
       "      <td>9</td>\n",
       "      <td>[\"This was my first buttermilk pie (I had neve...</td>\n",
       "      <td>[datetime.date(2003, 9, 7), datetime.date(2009...</td>\n",
       "      <td>[81611, 1057076, 1060485]</td>\n",
       "      <td>[5, 0, 3]</td>\n",
       "      <td>['yum']</td>\n",
       "      <td>['buttermilk', 'pie', 'crumb', 'crust']</td>\n",
       "      <td>['sugar', 'margarine', 'egg', 'egg white', 'fl...</td>\n",
       "      <td>['sugar', 'margarine', 'egg', 'egg white', 'fl...</td>\n",
       "    </tr>\n",
       "    <tr>\n",
       "      <th>3</th>\n",
       "      <td>46</td>\n",
       "      <td>172842</td>\n",
       "      <td>[40480, 246, 31704, 30710, 25199, 40481]</td>\n",
       "      <td>[[6878, 26285], [477, 869, 27, 14861], [548, 2...</td>\n",
       "      <td>[40480, 40482, 8654, 481, 30710, 500, 1667, 29...</td>\n",
       "      <td>[0, 0, 0, 0, 0, 0, 0, 0, 0, 1, 0, 0, 0, 0, 0, ...</td>\n",
       "      <td>0</td>\n",
       "      <td>[6082]</td>\n",
       "      <td>a jad   cucumber pickle</td>\n",
       "      <td>25</td>\n",
       "      <td>...</td>\n",
       "      <td>['rice vinegar', 'thangkwa', 'hom daeng', 'nam...</td>\n",
       "      <td>6</td>\n",
       "      <td>[\"I used regular sugar, and when it came to th...</td>\n",
       "      <td>[datetime.date(2002, 4, 3), datetime.date(2005...</td>\n",
       "      <td>[34280, 22015]</td>\n",
       "      <td>[5, 5]</td>\n",
       "      <td>['accompaniment', 'snacks', 'spring', 'rolls',...</td>\n",
       "      <td>['jad', 'cucumber', 'pickle']</td>\n",
       "      <td>['rice vinegar', None, None, None, None, None]</td>\n",
       "      <td>['rice vinegar', None, None, None, None, None]</td>\n",
       "    </tr>\n",
       "    <tr>\n",
       "      <th>4</th>\n",
       "      <td>49</td>\n",
       "      <td>61982</td>\n",
       "      <td>[40480, 5867, 6285, 518, 892, 489, 5385, 40481]</td>\n",
       "      <td>[[3137, 19104], [8780], [31801, 918, 15509, 58...</td>\n",
       "      <td>[40480, 40482, 5539, 19104, 500, 280, 3, 21, 3...</td>\n",
       "      <td>[1, 0, 0, 0, 1, 0, 0, 1, 0, 1, 0, 0, 0, 0, 0, ...</td>\n",
       "      <td>2</td>\n",
       "      <td>[2847, 840, 1254, 2683, 4593, 1257, 6270, 4836...</td>\n",
       "      <td>chicken breasts lombardi</td>\n",
       "      <td>75</td>\n",
       "      <td>...</td>\n",
       "      <td>['fresh mushrooms', 'butter', 'boneless skinle...</td>\n",
       "      <td>10</td>\n",
       "      <td>[\"I give this recipe a good to high rating bec...</td>\n",
       "      <td>[datetime.date(2002, 6, 21), datetime.date(200...</td>\n",
       "      <td>[19893, 39835, 69551, 198709, 198344, 365923, ...</td>\n",
       "      <td>[4, 4, 5, 4, 5, 5, 0, 5, 5, 0, 5, 5, 5, 5, 5, ...</td>\n",
       "      <td>['chicken', 'mushrooms', 'marsala']</td>\n",
       "      <td>['chicken', 'breasts']</td>\n",
       "      <td>['fresh mushroom', 'butter', 'chicken breast h...</td>\n",
       "      <td>['fresh mushroom', 'butter', 'chicken breast h...</td>\n",
       "    </tr>\n",
       "  </tbody>\n",
       "</table>\n",
       "<p>5 rows × 27 columns</p>\n",
       "</div>"
      ],
      "text/plain": [
       "   recipe_id       i                                        name_tokens  \\\n",
       "0         38   16791  [40480, 954, 4739, 6449, 1674, 4787, 10601, 40...   \n",
       "1         40   99809                        [40480, 1432, 17746, 40481]   \n",
       "2         45   84204  [40480, 6796, 5940, 7056, 556, 32669, 5776, 32...   \n",
       "3         46  172842           [40480, 246, 31704, 30710, 25199, 40481]   \n",
       "4         49   61982    [40480, 5867, 6285, 518, 892, 489, 5385, 40481]   \n",
       "\n",
       "                                   ingredient_tokens  \\\n",
       "0  [[12698, 11125], [4465, 29487, 6444], [15000, ...   \n",
       "1  [[6444], [30295, 240, 17, 686, 498], [3137, 13...   \n",
       "2  [[6444], [7424, 745], [8441], [8441, 15953], [...   \n",
       "3  [[6878, 26285], [477, 869, 27, 14861], [548, 2...   \n",
       "4  [[3137, 19104], [8780], [31801, 918, 15509, 58...   \n",
       "\n",
       "                                        steps_tokens  \\\n",
       "0  [40480, 40482, 8263, 280, 7420, 11125, 556, 64...   \n",
       "1  [40480, 40482, 666, 246, 277, 660, 2212, 7932,...   \n",
       "2  [40480, 40482, 729, 2525, 10906, 485, 43, 2885...   \n",
       "3  [40480, 40482, 8654, 481, 30710, 500, 1667, 29...   \n",
       "4  [40480, 40482, 5539, 19104, 500, 280, 3, 21, 3...   \n",
       "\n",
       "                                          techniques  calorie_level  \\\n",
       "0  [0, 0, 0, 1, 0, 0, 0, 0, 0, 0, 0, 0, 0, 0, 0, ...              0   \n",
       "1  [0, 0, 0, 0, 0, 0, 0, 0, 0, 0, 0, 0, 0, 0, 0, ...              1   \n",
       "2  [1, 0, 0, 1, 0, 0, 0, 0, 0, 1, 0, 0, 0, 0, 0, ...              0   \n",
       "3  [0, 0, 0, 0, 0, 0, 0, 0, 0, 1, 0, 0, 0, 0, 0, ...              0   \n",
       "4  [1, 0, 0, 0, 1, 0, 0, 1, 0, 1, 0, 0, 0, 0, 0, ...              2   \n",
       "\n",
       "                                      ingredient_ids  \\\n",
       "0                            [648, 3355, 7501, 4253]   \n",
       "1               [6906, 4303, 2919, 2832, 3829, 1567]   \n",
       "2  [6906, 4574, 2499, 2509, 2683, 6270, 869, 3324...   \n",
       "3                                             [6082]   \n",
       "4  [2847, 840, 1254, 2683, 4593, 1257, 6270, 4836...   \n",
       "\n",
       "                                         name  minutes  ...  \\\n",
       "0           low fat berry blue frozen dessert     1485  ...   \n",
       "1                               best lemonade       35  ...   \n",
       "2  buttermilk pie with gingersnap crumb crust       80  ...   \n",
       "3                     a jad   cucumber pickle       25  ...   \n",
       "4                    chicken breasts lombardi       75  ...   \n",
       "\n",
       "                                         ingredients n_ingredients  \\\n",
       "0  ['blueberries', 'granulated sugar', 'vanilla y...             4   \n",
       "1  ['sugar', 'lemons, rind of', 'fresh water', 'f...             6   \n",
       "2  ['sugar', 'margarine', 'egg', 'egg whites', 'f...             9   \n",
       "3  ['rice vinegar', 'thangkwa', 'hom daeng', 'nam...             6   \n",
       "4  ['fresh mushrooms', 'butter', 'boneless skinle...            10   \n",
       "\n",
       "                                              review  \\\n",
       "0  ['Yummy, yummy, yummy! I am a big fan of fruit...   \n",
       "1  [\"My favourite lemonade recipe is essentially ...   \n",
       "2  [\"This was my first buttermilk pie (I had neve...   \n",
       "3  [\"I used regular sugar, and when it came to th...   \n",
       "4  [\"I give this recipe a good to high rating bec...   \n",
       "\n",
       "                                                date  \\\n",
       "0  [datetime.date(2008, 2, 13), datetime.date(200...   \n",
       "1  [datetime.date(2002, 12, 18), datetime.date(20...   \n",
       "2  [datetime.date(2003, 9, 7), datetime.date(2009...   \n",
       "3  [datetime.date(2002, 4, 3), datetime.date(2005...   \n",
       "4  [datetime.date(2002, 6, 21), datetime.date(200...   \n",
       "\n",
       "                                             user_id  \\\n",
       "0             [596506, 1060485, 1802956262, 2123645]   \n",
       "1  [59064, 70154, 39949, 132353, 172249, 541967, ...   \n",
       "2                          [81611, 1057076, 1060485]   \n",
       "3                                     [34280, 22015]   \n",
       "4  [19893, 39835, 69551, 198709, 198344, 365923, ...   \n",
       "\n",
       "                                              rating  \\\n",
       "0                                       [5, 4, 4, 4]   \n",
       "1                        [5, 1, 4, 5, 4, 5, 5, 5, 5]   \n",
       "2                                          [5, 0, 3]   \n",
       "3                                             [5, 5]   \n",
       "4  [4, 4, 5, 4, 5, 5, 0, 5, 5, 0, 5, 5, 5, 5, 5, ...   \n",
       "\n",
       "                                 cleaned_description  \\\n",
       "0                                                 []   \n",
       "1  ['house', 'cookbooks', 'zester', '*', 'order',...   \n",
       "2                                            ['yum']   \n",
       "3  ['accompaniment', 'snacks', 'spring', 'rolls',...   \n",
       "4                ['chicken', 'mushrooms', 'marsala']   \n",
       "\n",
       "                              cleaned_name  \\\n",
       "0              ['fat', 'berry', 'dessert']   \n",
       "1                             ['lemonade']   \n",
       "2  ['buttermilk', 'pie', 'crumb', 'crust']   \n",
       "3            ['jad', 'cucumber', 'pickle']   \n",
       "4                   ['chicken', 'breasts']   \n",
       "\n",
       "                               ingredients_processed  \\\n",
       "0  ['blueberry', 'granulated sugar', 'vanilla yog...   \n",
       "1  ['sugar', 'lemons, rind of', 'fresh water', 'f...   \n",
       "2  ['sugar', 'margarine', 'egg', 'egg white', 'fl...   \n",
       "3     ['rice vinegar', None, None, None, None, None]   \n",
       "4  ['fresh mushroom', 'butter', 'chicken breast h...   \n",
       "\n",
       "                                ingredients_replaced  \n",
       "0  ['blueberry', 'granulated sugar', 'vanilla yog...  \n",
       "1  ['sugar', 'lemons, rind of', 'fresh water', 'f...  \n",
       "2  ['sugar', 'margarine', 'egg', 'egg white', 'fl...  \n",
       "3     ['rice vinegar', None, None, None, None, None]  \n",
       "4  ['fresh mushroom', 'butter', 'chicken breast h...  \n",
       "\n",
       "[5 rows x 27 columns]"
      ]
     },
     "execution_count": 20,
     "metadata": {},
     "output_type": "execute_result"
    }
   ],
   "source": [
    "df_csv.head()"
   ]
  },
  {
   "cell_type": "code",
   "execution_count": 21,
   "metadata": {},
   "outputs": [
    {
     "data": {
      "text/plain": [
       "'1999-08-09'"
      ]
     },
     "execution_count": 21,
     "metadata": {},
     "output_type": "execute_result"
    }
   ],
   "source": [
    "df_csv['submitted'][0]"
   ]
  },
  {
   "cell_type": "code",
   "execution_count": 22,
   "metadata": {},
   "outputs": [
    {
     "data": {
      "text/plain": [
       "datetime.datetime(1999, 8, 9, 0, 0)"
      ]
     },
     "execution_count": 22,
     "metadata": {},
     "output_type": "execute_result"
    }
   ],
   "source": [
    "import datetime\n",
    "\n",
    "datetime.datetime.strptime(df_csv['submitted'][0], '%Y-%m-%d')"
   ]
  },
  {
   "cell_type": "code",
   "execution_count": 23,
   "metadata": {},
   "outputs": [],
   "source": [
    "df_csv['submitted'] = df_csv['submitted'].apply(lambda x: datetime.datetime.strptime(x, '%Y-%m-%d'))"
   ]
  },
  {
   "cell_type": "code",
   "execution_count": 24,
   "metadata": {},
   "outputs": [
    {
     "data": {
      "text/plain": [
       "'[datetime.date(2008, 2, 13), datetime.date(2009, 1, 15), datetime.date(2014, 7, 22), datetime.date(2014, 8, 14)]'"
      ]
     },
     "execution_count": 24,
     "metadata": {},
     "output_type": "execute_result"
    }
   ],
   "source": [
    "df_csv['date'][0]"
   ]
  },
  {
   "cell_type": "code",
   "execution_count": 25,
   "metadata": {},
   "outputs": [],
   "source": [
    "from datetime import datetime\n",
    "import re\n",
    "import ast\n",
    "\n",
    "def convert_to_datetime_list(date_str):\n",
    "    try:\n",
    "        # Extraire les dates au format (YYYY, MM, DD)\n",
    "        matches = re.findall(r'datetime\\.date\\((\\d{4}), (\\d{1,2}), (\\d{1,2})\\)', date_str)\n",
    "        # Convertir les tuples extraits en objets datetime\n",
    "        return [datetime(int(year), int(month), int(day)) for year, month, day in matches]\n",
    "    except Exception as e:\n",
    "        print(f\"Erreur lors du traitement : {date_str}. Détails : {e}\")\n",
    "        return []\n",
    "    \n",
    "df_csv['date'] = df_csv['date'].apply(convert_to_datetime_list)\n"
   ]
  },
  {
   "cell_type": "code",
   "execution_count": 26,
   "metadata": {},
   "outputs": [
    {
     "data": {
      "text/plain": [
       "[datetime.datetime(2008, 5, 17, 0, 0),\n",
       " datetime.datetime(2008, 5, 23, 0, 0),\n",
       " datetime.datetime(2009, 2, 3, 0, 0),\n",
       " datetime.datetime(2010, 1, 26, 0, 0)]"
      ]
     },
     "execution_count": 26,
     "metadata": {},
     "output_type": "execute_result"
    }
   ],
   "source": [
    "df_csv['date'][10]"
   ]
  },
  {
   "cell_type": "code",
   "execution_count": 27,
   "metadata": {},
   "outputs": [
    {
     "name": "stdout",
     "output_type": "stream",
     "text": [
      "Taille du DataFrame en mémoire : 925.957353591919 Mb\n"
     ]
    }
   ],
   "source": [
    "\n",
    "size_in_bytes = df_csv.memory_usage(deep=True).sum()\n",
    "size_mb = size_in_bytes / 1024 ** 2\n",
    "print(f\"Taille du DataFrame en mémoire : {size_mb} Mb\")\n",
    "\n"
   ]
  },
  {
   "cell_type": "code",
   "execution_count": 28,
   "metadata": {},
   "outputs": [
    {
     "name": "stdout",
     "output_type": "stream",
     "text": [
      "Nombre de lignes : 177429, Nombre de colonnes : 27\n"
     ]
    }
   ],
   "source": [
    "\n",
    "num_rows, num_cols = df_csv.shape\n",
    "print(f\"Nombre de lignes : {num_rows}, Nombre de colonnes : {num_cols}\")\n"
   ]
  },
  {
   "cell_type": "code",
   "execution_count": 29,
   "metadata": {},
   "outputs": [
    {
     "data": {
      "text/plain": [
       "Index(['recipe_id', 'i', 'name_tokens', 'ingredient_tokens', 'steps_tokens',\n",
       "       'techniques', 'calorie_level', 'ingredient_ids', 'name', 'minutes',\n",
       "       'contributor_id', 'submitted', 'tags', 'nutrition', 'steps', 'n_steps',\n",
       "       'description', 'ingredients', 'n_ingredients', 'review', 'date',\n",
       "       'user_id', 'rating', 'cleaned_description', 'cleaned_name',\n",
       "       'ingredients_processed', 'ingredients_replaced'],\n",
       "      dtype='object')"
      ]
     },
     "execution_count": 29,
     "metadata": {},
     "output_type": "execute_result"
    }
   ],
   "source": [
    "df_csv.columns"
   ]
  },
  {
   "cell_type": "code",
   "execution_count": 30,
   "metadata": {},
   "outputs": [],
   "source": [
    "df_csv = df_csv.drop(columns=['ingredient_tokens', 'ingredients_processed', 'ingredients', 'name', 'description','nutrition', 'calorie_level', 'n_steps', 'n_ingredients', 'i' ])"
   ]
  },
  {
   "cell_type": "code",
   "execution_count": 33,
   "metadata": {},
   "outputs": [
    {
     "data": {
      "text/plain": [
       "Index(['recipe_id', 'name_tokens', 'steps_tokens', 'techniques',\n",
       "       'ingredient_ids', 'minutes', 'contributor_id', 'submitted', 'tags',\n",
       "       'steps', 'review', 'date', 'user_id', 'rating', 'cleaned_description',\n",
       "       'cleaned_name', 'ingredients_replaced'],\n",
       "      dtype='object')"
      ]
     },
     "execution_count": 33,
     "metadata": {},
     "output_type": "execute_result"
    }
   ],
   "source": [
    "df_csv.columns"
   ]
  },
  {
   "cell_type": "code",
   "execution_count": 31,
   "metadata": {},
   "outputs": [
    {
     "name": "stdout",
     "output_type": "stream",
     "text": [
      "Taille du DataFrame en mémoire : 756.3313236236572 Mb\n"
     ]
    }
   ],
   "source": [
    "\n",
    "size_in_bytes = df_csv.memory_usage(deep=True).sum()\n",
    "size_mb = size_in_bytes / 1024 ** 2\n",
    "print(f\"Taille du DataFrame en mémoire : {size_mb} Mb\")\n",
    "\n"
   ]
  },
  {
   "cell_type": "code",
   "execution_count": 32,
   "metadata": {},
   "outputs": [
    {
     "name": "stdout",
     "output_type": "stream",
     "text": [
      "Nombre de lignes : 177429, Nombre de colonnes : 17\n"
     ]
    }
   ],
   "source": [
    "\n",
    "num_rows, num_cols = df_csv.shape\n",
    "print(f\"Nombre de lignes : {num_rows}, Nombre de colonnes : {num_cols}\")\n"
   ]
  }
 ],
 "metadata": {
  "kernelspec": {
   "display_name": ".env_projet_kit_big_data",
   "language": "python",
   "name": "python3"
  },
  "language_info": {
   "codemirror_mode": {
    "name": "ipython",
    "version": 3
   },
   "file_extension": ".py",
   "mimetype": "text/x-python",
   "name": "python",
   "nbconvert_exporter": "python",
   "pygments_lexer": "ipython3",
   "version": "3.12.3"
  }
 },
 "nbformat": 4,
 "nbformat_minor": 2
}
