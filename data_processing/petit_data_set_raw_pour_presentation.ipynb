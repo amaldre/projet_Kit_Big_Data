{
 "cells": [
  {
   "cell_type": "markdown",
   "metadata": {},
   "source": [
    "# Création d'un CSV taille très réduite à fournir dans la page de preprocess"
   ]
  },
  {
   "cell_type": "code",
   "execution_count": null,
   "metadata": {},
   "outputs": [],
   "source": [
    "def load_and_reduce_csv(path, nombre_documents):\n",
    "    try:\n",
    "        df = pd.read_csv(chemin_csv)\n",
    "    except Exception as e:\n",
    "        raise ValueError(f\"Erreur lors du chargement du fichier CSV : {e}\")\n",
    "    \n",
    "    # Vérifier si le nombre de documents demandés est supérieur au nombre de lignes disponibles\n",
    "    if nombre_documents > len(df):\n",
    "        raise ValueError(f\"Le fichier contient seulement {len(df)} lignes. Impossible d'en sélectionner {nombre_documents}.\")\n",
    "\n",
    "    # Sélectionner un échantillon aléatoire\n",
    "    echantillon_aleatoire = df.sample(n=nombre_documents, random_state=random.randint(0, 10000))\n",
    "    \n",
    "    return echantillon_aleatoire"
   ]
  }
 ],
 "metadata": {
  "language_info": {
   "name": "python"
  }
 },
 "nbformat": 4,
 "nbformat_minor": 2
}
