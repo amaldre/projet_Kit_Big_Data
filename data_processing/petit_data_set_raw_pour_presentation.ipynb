{
 "cells": [
  {
   "cell_type": "markdown",
   "metadata": {},
   "source": [
    "# Création d'un CSV taille très réduite à fournir dans la page de preprocess"
   ]
  },
  {
   "cell_type": "code",
   "execution_count": 2,
   "metadata": {},
   "outputs": [],
   "source": [
    "import pandas as pd\n",
    "from numpy import random\n",
    "\n",
    "def load_and_reduce_csv(path, nombre_documents):\n",
    "    try:\n",
    "        df = pd.read_csv(path)\n",
    "    except Exception as e:\n",
    "        raise ValueError(f\"Erreur lors du chargement du fichier CSV : {e}\")\n",
    "    \n",
    "    # Vérifier si le nombre de documents demandés est supérieur au nombre de lignes disponibles\n",
    "    if nombre_documents > len(df):\n",
    "        raise ValueError(f\"Le fichier contient seulement {len(df)} lignes. Impossible d'en sélectionner {nombre_documents}.\")\n",
    "\n",
    "    # Sélectionner un échantillon aléatoire\n",
    "    echantillon_aleatoire = df.sample(n=nombre_documents, random_state=random.randint(0, 10000))\n",
    "    \n",
    "    return echantillon_aleatoire"
   ]
  },
  {
   "cell_type": "code",
   "execution_count": 5,
   "metadata": {},
   "outputs": [],
   "source": [
    "RAW_recipe_CSV = \"../data/RAW_recipes.csv\"\n",
    "RAW_interactions_CSV = \"../data/RAW_interactions.csv\"\n",
    "\n",
    "df_1 = load_and_reduce_csv(RAW_recipe_CSV, 1000)\n",
    "df_2 = load_and_reduce_csv(RAW_interactions_CSV, 1000)\n",
    "\n",
    "df_1.to_csv(\"../data/RAW_recipes_sample.csv\", index=False)\n",
    "df_2.to_csv(\"../data/RAW_interactions_sample.csv\", index=False)"
   ]
  }
 ],
 "metadata": {
  "kernelspec": {
   "display_name": ".env_projet_kit_big_data",
   "language": "python",
   "name": "python3"
  },
  "language_info": {
   "codemirror_mode": {
    "name": "ipython",
    "version": 3
   },
   "file_extension": ".py",
   "mimetype": "text/x-python",
   "name": "python",
   "nbconvert_exporter": "python",
   "pygments_lexer": "ipython3",
   "version": "3.12.3"
  }
 },
 "nbformat": 4,
 "nbformat_minor": 2
}
