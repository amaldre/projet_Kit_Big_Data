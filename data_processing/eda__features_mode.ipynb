{
 "cells": [
  {
   "cell_type": "markdown",
   "metadata": {},
   "source": [
    "# Exploration Data Analysis pour explorer les modes de consomation \n",
    "### Par Alexandre Rocchi (pas toucher les loulous)\n",
    "\n"
   ]
  },
  {
   "cell_type": "code",
   "execution_count": 2,
   "metadata": {},
   "outputs": [],
   "source": [
    "import pandas \n",
    "import ast\n",
    "import matplotlib.pyplot as plt\n",
    "import scipy\n",
    "import seaborn as sb\n",
    "import numpy as np\n"
   ]
  },
  {
   "cell_type": "markdown",
   "metadata": {},
   "source": [
    "### Importation des Datasets et création de la table "
   ]
  },
  {
   "cell_type": "code",
   "execution_count": 3,
   "metadata": {},
   "outputs": [],
   "source": [
    "\n",
    "recipes = pandas.read_csv(\"../dataset/RAW_recipes.csv\")\n",
    "interactions = pandas.read_csv(\"../dataset/RAW_interactions.csv\")"
   ]
  },
  {
   "cell_type": "code",
   "execution_count": 4,
   "metadata": {},
   "outputs": [],
   "source": [
    "# Convertir les listes (considéré comme des strings, en liste python)\n",
    "\n",
    "recipes['nutrition'] = recipes['nutrition'].apply(ast.literal_eval)\n",
    "\n",
    "recipes['tags'] = recipes['tags'].apply(ast.literal_eval)\n",
    "\n",
    "recipes['steps'] = recipes['steps'].apply(ast.literal_eval)\n",
    "\n",
    "recipes['ingredients'] = recipes['ingredients'].apply(ast.literal_eval)\n"
   ]
  },
  {
   "cell_type": "code",
   "execution_count": 5,
   "metadata": {},
   "outputs": [],
   "source": [
    "# Convertir les dates en 'datetype' python :\n",
    "recipes['submitted'] = pandas.to_datetime(recipes['submitted'])\n",
    "\n",
    "interactions['date'] = pandas.to_datetime(interactions['date'])"
   ]
  },
  {
   "cell_type": "code",
   "execution_count": 6,
   "metadata": {},
   "outputs": [
    {
     "data": {
      "text/html": [
       "<div>\n",
       "<style scoped>\n",
       "    .dataframe tbody tr th:only-of-type {\n",
       "        vertical-align: middle;\n",
       "    }\n",
       "\n",
       "    .dataframe tbody tr th {\n",
       "        vertical-align: top;\n",
       "    }\n",
       "\n",
       "    .dataframe thead th {\n",
       "        text-align: right;\n",
       "    }\n",
       "</style>\n",
       "<table border=\"1\" class=\"dataframe\">\n",
       "  <thead>\n",
       "    <tr style=\"text-align: right;\">\n",
       "      <th></th>\n",
       "      <th>name</th>\n",
       "      <th>id</th>\n",
       "      <th>minutes</th>\n",
       "      <th>contributor_id</th>\n",
       "      <th>submitted</th>\n",
       "      <th>tags</th>\n",
       "      <th>nutrition</th>\n",
       "      <th>n_steps</th>\n",
       "      <th>steps</th>\n",
       "      <th>description</th>\n",
       "      <th>ingredients</th>\n",
       "      <th>n_ingredients</th>\n",
       "    </tr>\n",
       "  </thead>\n",
       "  <tbody>\n",
       "    <tr>\n",
       "      <th>0</th>\n",
       "      <td>arriba   baked winter squash mexican style</td>\n",
       "      <td>137739</td>\n",
       "      <td>55</td>\n",
       "      <td>47892</td>\n",
       "      <td>2005-09-16</td>\n",
       "      <td>[60-minutes-or-less, time-to-make, course, mai...</td>\n",
       "      <td>[51.5, 0.0, 13.0, 0.0, 2.0, 0.0, 4.0]</td>\n",
       "      <td>11</td>\n",
       "      <td>[make a choice and proceed with recipe, depend...</td>\n",
       "      <td>autumn is my favorite time of year to cook! th...</td>\n",
       "      <td>[winter squash, mexican seasoning, mixed spice...</td>\n",
       "      <td>7</td>\n",
       "    </tr>\n",
       "    <tr>\n",
       "      <th>1</th>\n",
       "      <td>a bit different  breakfast pizza</td>\n",
       "      <td>31490</td>\n",
       "      <td>30</td>\n",
       "      <td>26278</td>\n",
       "      <td>2002-06-17</td>\n",
       "      <td>[30-minutes-or-less, time-to-make, course, mai...</td>\n",
       "      <td>[173.4, 18.0, 0.0, 17.0, 22.0, 35.0, 1.0]</td>\n",
       "      <td>9</td>\n",
       "      <td>[preheat oven to 425 degrees f, press dough in...</td>\n",
       "      <td>this recipe calls for the crust to be prebaked...</td>\n",
       "      <td>[prepared pizza crust, sausage patty, eggs, mi...</td>\n",
       "      <td>6</td>\n",
       "    </tr>\n",
       "    <tr>\n",
       "      <th>2</th>\n",
       "      <td>all in the kitchen  chili</td>\n",
       "      <td>112140</td>\n",
       "      <td>130</td>\n",
       "      <td>196586</td>\n",
       "      <td>2005-02-25</td>\n",
       "      <td>[time-to-make, course, preparation, main-dish,...</td>\n",
       "      <td>[269.8, 22.0, 32.0, 48.0, 39.0, 27.0, 5.0]</td>\n",
       "      <td>6</td>\n",
       "      <td>[brown ground beef in large pot, add chopped o...</td>\n",
       "      <td>this modified version of 'mom's' chili was a h...</td>\n",
       "      <td>[ground beef, yellow onions, diced tomatoes, t...</td>\n",
       "      <td>13</td>\n",
       "    </tr>\n",
       "  </tbody>\n",
       "</table>\n",
       "</div>"
      ],
      "text/plain": [
       "                                         name      id  minutes  \\\n",
       "0  arriba   baked winter squash mexican style  137739       55   \n",
       "1            a bit different  breakfast pizza   31490       30   \n",
       "2                   all in the kitchen  chili  112140      130   \n",
       "\n",
       "   contributor_id  submitted  \\\n",
       "0           47892 2005-09-16   \n",
       "1           26278 2002-06-17   \n",
       "2          196586 2005-02-25   \n",
       "\n",
       "                                                tags  \\\n",
       "0  [60-minutes-or-less, time-to-make, course, mai...   \n",
       "1  [30-minutes-or-less, time-to-make, course, mai...   \n",
       "2  [time-to-make, course, preparation, main-dish,...   \n",
       "\n",
       "                                    nutrition  n_steps  \\\n",
       "0       [51.5, 0.0, 13.0, 0.0, 2.0, 0.0, 4.0]       11   \n",
       "1   [173.4, 18.0, 0.0, 17.0, 22.0, 35.0, 1.0]        9   \n",
       "2  [269.8, 22.0, 32.0, 48.0, 39.0, 27.0, 5.0]        6   \n",
       "\n",
       "                                               steps  \\\n",
       "0  [make a choice and proceed with recipe, depend...   \n",
       "1  [preheat oven to 425 degrees f, press dough in...   \n",
       "2  [brown ground beef in large pot, add chopped o...   \n",
       "\n",
       "                                         description  \\\n",
       "0  autumn is my favorite time of year to cook! th...   \n",
       "1  this recipe calls for the crust to be prebaked...   \n",
       "2  this modified version of 'mom's' chili was a h...   \n",
       "\n",
       "                                         ingredients  n_ingredients  \n",
       "0  [winter squash, mexican seasoning, mixed spice...              7  \n",
       "1  [prepared pizza crust, sausage patty, eggs, mi...              6  \n",
       "2  [ground beef, yellow onions, diced tomatoes, t...             13  "
      ]
     },
     "execution_count": 6,
     "metadata": {},
     "output_type": "execute_result"
    }
   ],
   "source": [
    "recipes.head(3)"
   ]
  },
  {
   "cell_type": "code",
   "execution_count": 7,
   "metadata": {},
   "outputs": [
    {
     "data": {
      "text/html": [
       "<div>\n",
       "<style scoped>\n",
       "    .dataframe tbody tr th:only-of-type {\n",
       "        vertical-align: middle;\n",
       "    }\n",
       "\n",
       "    .dataframe tbody tr th {\n",
       "        vertical-align: top;\n",
       "    }\n",
       "\n",
       "    .dataframe thead th {\n",
       "        text-align: right;\n",
       "    }\n",
       "</style>\n",
       "<table border=\"1\" class=\"dataframe\">\n",
       "  <thead>\n",
       "    <tr style=\"text-align: right;\">\n",
       "      <th></th>\n",
       "      <th>user_id</th>\n",
       "      <th>recipe_id</th>\n",
       "      <th>date</th>\n",
       "      <th>rating</th>\n",
       "      <th>review</th>\n",
       "    </tr>\n",
       "  </thead>\n",
       "  <tbody>\n",
       "    <tr>\n",
       "      <th>0</th>\n",
       "      <td>38094</td>\n",
       "      <td>40893</td>\n",
       "      <td>2003-02-17</td>\n",
       "      <td>4</td>\n",
       "      <td>Great with a salad. Cooked on top of stove for...</td>\n",
       "    </tr>\n",
       "    <tr>\n",
       "      <th>1</th>\n",
       "      <td>1293707</td>\n",
       "      <td>40893</td>\n",
       "      <td>2011-12-21</td>\n",
       "      <td>5</td>\n",
       "      <td>So simple, so delicious! Great for chilly fall...</td>\n",
       "    </tr>\n",
       "    <tr>\n",
       "      <th>2</th>\n",
       "      <td>8937</td>\n",
       "      <td>44394</td>\n",
       "      <td>2002-12-01</td>\n",
       "      <td>4</td>\n",
       "      <td>This worked very well and is EASY.  I used not...</td>\n",
       "    </tr>\n",
       "  </tbody>\n",
       "</table>\n",
       "</div>"
      ],
      "text/plain": [
       "   user_id  recipe_id       date  rating  \\\n",
       "0    38094      40893 2003-02-17       4   \n",
       "1  1293707      40893 2011-12-21       5   \n",
       "2     8937      44394 2002-12-01       4   \n",
       "\n",
       "                                              review  \n",
       "0  Great with a salad. Cooked on top of stove for...  \n",
       "1  So simple, so delicious! Great for chilly fall...  \n",
       "2  This worked very well and is EASY.  I used not...  "
      ]
     },
     "execution_count": 7,
     "metadata": {},
     "output_type": "execute_result"
    }
   ],
   "source": [
    "interactions.head(3)"
   ]
  },
  {
   "cell_type": "code",
   "execution_count": 8,
   "metadata": {},
   "outputs": [
    {
     "name": "stdout",
     "output_type": "stream",
     "text": [
      "Index(['name', 'id', 'minutes', 'contributor_id', 'submitted', 'tags',\n",
      "       'nutrition', 'n_steps', 'steps', 'description', 'ingredients',\n",
      "       'n_ingredients'],\n",
      "      dtype='object')\n",
      "Index(['user_id', 'recipe_id', 'date', 'rating', 'review'], dtype='object')\n"
     ]
    }
   ],
   "source": [
    "print(recipes.columns)\n",
    "\n",
    "print(interactions.columns)"
   ]
  },
  {
   "cell_type": "markdown",
   "metadata": {},
   "source": [
    "df = pandas.merge(recipes, interactions)"
   ]
  },
  {
   "cell_type": "markdown",
   "metadata": {},
   "source": [
    "Travaillons sur une masse de données plus faible pour la prise en main des données et des différentes tables"
   ]
  },
  {
   "cell_type": "code",
   "execution_count": 9,
   "metadata": {},
   "outputs": [],
   "source": [
    "df = pandas.merge(recipes, interactions, left_on='id', right_on='recipe_id')\n"
   ]
  },
  {
   "cell_type": "code",
   "execution_count": 10,
   "metadata": {},
   "outputs": [
    {
     "data": {
      "text/html": [
       "<div>\n",
       "<style scoped>\n",
       "    .dataframe tbody tr th:only-of-type {\n",
       "        vertical-align: middle;\n",
       "    }\n",
       "\n",
       "    .dataframe tbody tr th {\n",
       "        vertical-align: top;\n",
       "    }\n",
       "\n",
       "    .dataframe thead th {\n",
       "        text-align: right;\n",
       "    }\n",
       "</style>\n",
       "<table border=\"1\" class=\"dataframe\">\n",
       "  <thead>\n",
       "    <tr style=\"text-align: right;\">\n",
       "      <th></th>\n",
       "      <th>name</th>\n",
       "      <th>id</th>\n",
       "      <th>minutes</th>\n",
       "      <th>contributor_id</th>\n",
       "      <th>submitted</th>\n",
       "      <th>tags</th>\n",
       "      <th>nutrition</th>\n",
       "      <th>n_steps</th>\n",
       "      <th>steps</th>\n",
       "      <th>description</th>\n",
       "      <th>ingredients</th>\n",
       "      <th>n_ingredients</th>\n",
       "      <th>user_id</th>\n",
       "      <th>recipe_id</th>\n",
       "      <th>date</th>\n",
       "      <th>rating</th>\n",
       "      <th>review</th>\n",
       "    </tr>\n",
       "  </thead>\n",
       "  <tbody>\n",
       "    <tr>\n",
       "      <th>0</th>\n",
       "      <td>arriba   baked winter squash mexican style</td>\n",
       "      <td>137739</td>\n",
       "      <td>55</td>\n",
       "      <td>47892</td>\n",
       "      <td>2005-09-16</td>\n",
       "      <td>[60-minutes-or-less, time-to-make, course, mai...</td>\n",
       "      <td>[51.5, 0.0, 13.0, 0.0, 2.0, 0.0, 4.0]</td>\n",
       "      <td>11</td>\n",
       "      <td>[make a choice and proceed with recipe, depend...</td>\n",
       "      <td>autumn is my favorite time of year to cook! th...</td>\n",
       "      <td>[winter squash, mexican seasoning, mixed spice...</td>\n",
       "      <td>7</td>\n",
       "      <td>4470</td>\n",
       "      <td>137739</td>\n",
       "      <td>2006-02-18</td>\n",
       "      <td>5</td>\n",
       "      <td>I used an acorn squash and recipe#137681 Swee...</td>\n",
       "    </tr>\n",
       "    <tr>\n",
       "      <th>1</th>\n",
       "      <td>arriba   baked winter squash mexican style</td>\n",
       "      <td>137739</td>\n",
       "      <td>55</td>\n",
       "      <td>47892</td>\n",
       "      <td>2005-09-16</td>\n",
       "      <td>[60-minutes-or-less, time-to-make, course, mai...</td>\n",
       "      <td>[51.5, 0.0, 13.0, 0.0, 2.0, 0.0, 4.0]</td>\n",
       "      <td>11</td>\n",
       "      <td>[make a choice and proceed with recipe, depend...</td>\n",
       "      <td>autumn is my favorite time of year to cook! th...</td>\n",
       "      <td>[winter squash, mexican seasoning, mixed spice...</td>\n",
       "      <td>7</td>\n",
       "      <td>593927</td>\n",
       "      <td>137739</td>\n",
       "      <td>2010-08-21</td>\n",
       "      <td>5</td>\n",
       "      <td>This was a nice change. I used butternut squas...</td>\n",
       "    </tr>\n",
       "    <tr>\n",
       "      <th>2</th>\n",
       "      <td>arriba   baked winter squash mexican style</td>\n",
       "      <td>137739</td>\n",
       "      <td>55</td>\n",
       "      <td>47892</td>\n",
       "      <td>2005-09-16</td>\n",
       "      <td>[60-minutes-or-less, time-to-make, course, mai...</td>\n",
       "      <td>[51.5, 0.0, 13.0, 0.0, 2.0, 0.0, 4.0]</td>\n",
       "      <td>11</td>\n",
       "      <td>[make a choice and proceed with recipe, depend...</td>\n",
       "      <td>autumn is my favorite time of year to cook! th...</td>\n",
       "      <td>[winter squash, mexican seasoning, mixed spice...</td>\n",
       "      <td>7</td>\n",
       "      <td>178427</td>\n",
       "      <td>137739</td>\n",
       "      <td>2011-12-05</td>\n",
       "      <td>5</td>\n",
       "      <td>Excellent recipe! I used butternut squash and ...</td>\n",
       "    </tr>\n",
       "  </tbody>\n",
       "</table>\n",
       "</div>"
      ],
      "text/plain": [
       "                                         name      id  minutes  \\\n",
       "0  arriba   baked winter squash mexican style  137739       55   \n",
       "1  arriba   baked winter squash mexican style  137739       55   \n",
       "2  arriba   baked winter squash mexican style  137739       55   \n",
       "\n",
       "   contributor_id  submitted  \\\n",
       "0           47892 2005-09-16   \n",
       "1           47892 2005-09-16   \n",
       "2           47892 2005-09-16   \n",
       "\n",
       "                                                tags  \\\n",
       "0  [60-minutes-or-less, time-to-make, course, mai...   \n",
       "1  [60-minutes-or-less, time-to-make, course, mai...   \n",
       "2  [60-minutes-or-less, time-to-make, course, mai...   \n",
       "\n",
       "                               nutrition  n_steps  \\\n",
       "0  [51.5, 0.0, 13.0, 0.0, 2.0, 0.0, 4.0]       11   \n",
       "1  [51.5, 0.0, 13.0, 0.0, 2.0, 0.0, 4.0]       11   \n",
       "2  [51.5, 0.0, 13.0, 0.0, 2.0, 0.0, 4.0]       11   \n",
       "\n",
       "                                               steps  \\\n",
       "0  [make a choice and proceed with recipe, depend...   \n",
       "1  [make a choice and proceed with recipe, depend...   \n",
       "2  [make a choice and proceed with recipe, depend...   \n",
       "\n",
       "                                         description  \\\n",
       "0  autumn is my favorite time of year to cook! th...   \n",
       "1  autumn is my favorite time of year to cook! th...   \n",
       "2  autumn is my favorite time of year to cook! th...   \n",
       "\n",
       "                                         ingredients  n_ingredients  user_id  \\\n",
       "0  [winter squash, mexican seasoning, mixed spice...              7     4470   \n",
       "1  [winter squash, mexican seasoning, mixed spice...              7   593927   \n",
       "2  [winter squash, mexican seasoning, mixed spice...              7   178427   \n",
       "\n",
       "   recipe_id       date  rating  \\\n",
       "0     137739 2006-02-18       5   \n",
       "1     137739 2010-08-21       5   \n",
       "2     137739 2011-12-05       5   \n",
       "\n",
       "                                              review  \n",
       "0   I used an acorn squash and recipe#137681 Swee...  \n",
       "1  This was a nice change. I used butternut squas...  \n",
       "2  Excellent recipe! I used butternut squash and ...  "
      ]
     },
     "execution_count": 10,
     "metadata": {},
     "output_type": "execute_result"
    }
   ],
   "source": [
    "df.head(3)"
   ]
  },
  {
   "cell_type": "code",
   "execution_count": 11,
   "metadata": {},
   "outputs": [
    {
     "name": "stdout",
     "output_type": "stream",
     "text": [
      "   recipe_id                               name  minutes  contributor_id  \\\n",
      "0         38  low fat berry blue frozen dessert     1485            1533   \n",
      "\n",
      "   submitted                                               tags  \\\n",
      "0 1999-08-09  [weeknight, time-to-make, course, preparation,...   \n",
      "\n",
      "                                  nutrition  \\\n",
      "0  [170.9, 3.0, 120.0, 1.0, 6.0, 6.0, 12.0]   \n",
      "\n",
      "                                               steps  n_steps  \\\n",
      "0  [toss 2 cups berries with sugar, let stand for...       13   \n",
      "\n",
      "                                         description  \\\n",
      "0  this is yummy and low-fat, it always turns out...   \n",
      "\n",
      "                                         ingredients  n_ingredients  \\\n",
      "0  [blueberries, granulated sugar, vanilla yogurt...              4   \n",
      "\n",
      "                                              review  \\\n",
      "0  [Yummy, yummy, yummy! I am a big fan of fruit ...   \n",
      "\n",
      "                                                date  \\\n",
      "0  [2008-02-13 00:00:00, 2009-01-15 00:00:00, 201...   \n",
      "\n",
      "                                  user_id        rating  \n",
      "0  [596506, 1060485, 1802956262, 2123645]  [5, 4, 4, 4]  \n"
     ]
    }
   ],
   "source": [
    "\n",
    "df_g = df.groupby(['recipe_id']).agg({\n",
    "    'name':'first',\n",
    "    'minutes':'first',\n",
    "    'contributor_id':'first',\n",
    "    'submitted':'first',\n",
    "    'tags':'first',\n",
    "    'nutrition':'first',\n",
    "    'steps':'first',\n",
    "    'n_steps':'first',\n",
    "    'description':'first',\n",
    "    'ingredients':'first',\n",
    "    'n_ingredients':'first',\n",
    "    'review': lambda x: list(x) if len(x) > 0 else [], \n",
    "    'date': lambda x: list(x) if len(x) > 0 else [],\n",
    "    'user_id': lambda x: list(x) if len(x) > 0 else [],\n",
    "    'rating': lambda x: list(x) if len(x) > 0 else []\n",
    "}).reset_index()\n",
    "\n",
    "print(df_g.head(1))\n"
   ]
  },
  {
   "cell_type": "code",
   "execution_count": 12,
   "metadata": {},
   "outputs": [
    {
     "data": {
      "text/plain": [
       "recipe_id                  int64\n",
       "name                      object\n",
       "minutes                    int64\n",
       "contributor_id             int64\n",
       "submitted         datetime64[ns]\n",
       "tags                      object\n",
       "nutrition                 object\n",
       "steps                     object\n",
       "n_steps                    int64\n",
       "description               object\n",
       "ingredients               object\n",
       "n_ingredients              int64\n",
       "review                    object\n",
       "date                      object\n",
       "user_id                   object\n",
       "rating                    object\n",
       "dtype: object"
      ]
     },
     "execution_count": 12,
     "metadata": {},
     "output_type": "execute_result"
    }
   ],
   "source": [
    "df_g.dtypes"
   ]
  },
  {
   "cell_type": "code",
   "execution_count": 13,
   "metadata": {},
   "outputs": [
    {
     "name": "stdout",
     "output_type": "stream",
     "text": [
      "Nombre de valeurs manquantes : 4980\n"
     ]
    }
   ],
   "source": [
    "print(\"Nombre de valeurs manquantes :\", df_g.isna().sum().sum())\n"
   ]
  },
  {
   "cell_type": "markdown",
   "metadata": {},
   "source": [
    "visualisation les valeurs manquantes : \n",
    "\n",
    "Peut on remplacer la description manquante par le nom de la recette ? "
   ]
  },
  {
   "cell_type": "code",
   "execution_count": 14,
   "metadata": {},
   "outputs": [
    {
     "data": {
      "text/html": [
       "<div>\n",
       "<style scoped>\n",
       "    .dataframe tbody tr th:only-of-type {\n",
       "        vertical-align: middle;\n",
       "    }\n",
       "\n",
       "    .dataframe tbody tr th {\n",
       "        vertical-align: top;\n",
       "    }\n",
       "\n",
       "    .dataframe thead th {\n",
       "        text-align: right;\n",
       "    }\n",
       "</style>\n",
       "<table border=\"1\" class=\"dataframe\">\n",
       "  <thead>\n",
       "    <tr style=\"text-align: right;\">\n",
       "      <th></th>\n",
       "      <th>recipe_id</th>\n",
       "      <th>name</th>\n",
       "      <th>minutes</th>\n",
       "      <th>contributor_id</th>\n",
       "      <th>submitted</th>\n",
       "      <th>tags</th>\n",
       "      <th>nutrition</th>\n",
       "      <th>steps</th>\n",
       "      <th>n_steps</th>\n",
       "      <th>description</th>\n",
       "      <th>ingredients</th>\n",
       "      <th>n_ingredients</th>\n",
       "      <th>review</th>\n",
       "      <th>date</th>\n",
       "      <th>user_id</th>\n",
       "      <th>rating</th>\n",
       "    </tr>\n",
       "  </thead>\n",
       "  <tbody>\n",
       "    <tr>\n",
       "      <th>7</th>\n",
       "      <td>48</td>\n",
       "      <td>boston cream pie</td>\n",
       "      <td>135</td>\n",
       "      <td>1545</td>\n",
       "      <td>1999-08-24</td>\n",
       "      <td>[weeknight, time-to-make, course, main-ingredi...</td>\n",
       "      <td>[688.2, 56.0, 184.0, 30.0, 17.0, 64.0, 28.0]</td>\n",
       "      <td>[beat egg whites until soft peaks form, gradua...</td>\n",
       "      <td>32</td>\n",
       "      <td>None</td>\n",
       "      <td>[margarine, cake flour, baking powder, salt, s...</td>\n",
       "      <td>15</td>\n",
       "      <td>[The flavor was great. But I think there was n...</td>\n",
       "      <td>[2002-03-15 00:00:00, 2004-05-03 00:00:00]</td>\n",
       "      <td>[32421, 68674]</td>\n",
       "      <td>[0, 2]</td>\n",
       "    </tr>\n",
       "    <tr>\n",
       "      <th>9</th>\n",
       "      <td>50</td>\n",
       "      <td>biscotti di prato</td>\n",
       "      <td>70</td>\n",
       "      <td>1752</td>\n",
       "      <td>1999-08-31</td>\n",
       "      <td>[weeknight, time-to-make, course, cuisine, pre...</td>\n",
       "      <td>[89.4, 4.0, 29.0, 0.0, 4.0, 1.0, 4.0]</td>\n",
       "      <td>[egg wash 1 egg , large 1 tsp water in the bow...</td>\n",
       "      <td>7</td>\n",
       "      <td>None</td>\n",
       "      <td>[flour, sugar, baking powder, salt, eggs, vani...</td>\n",
       "      <td>10</td>\n",
       "      <td>[This recipe is sooooo close to what you find ...</td>\n",
       "      <td>[2004-12-15 00:00:00, 2009-03-22 00:00:00]</td>\n",
       "      <td>[10448, 1060485]</td>\n",
       "      <td>[5, 4]</td>\n",
       "    </tr>\n",
       "    <tr>\n",
       "      <th>10</th>\n",
       "      <td>52</td>\n",
       "      <td>cafe cappuccino</td>\n",
       "      <td>5</td>\n",
       "      <td>2178</td>\n",
       "      <td>1999-08-31</td>\n",
       "      <td>[15-minutes-or-less, time-to-make, course, cui...</td>\n",
       "      <td>[62.2, 0.0, 47.0, 1.0, 5.0, 0.0, 4.0]</td>\n",
       "      <td>[stir ingredients together, process in a blend...</td>\n",
       "      <td>4</td>\n",
       "      <td>None</td>\n",
       "      <td>[instant coffee, sugar, nonfat dry milk solid,...</td>\n",
       "      <td>4</td>\n",
       "      <td>[I haven't made this in years.  When the kids ...</td>\n",
       "      <td>[2004-08-02 00:00:00]</td>\n",
       "      <td>[133174]</td>\n",
       "      <td>[5]</td>\n",
       "    </tr>\n",
       "    <tr>\n",
       "      <th>11</th>\n",
       "      <td>53</td>\n",
       "      <td>jimmy g s carrot cake</td>\n",
       "      <td>110</td>\n",
       "      <td>1772</td>\n",
       "      <td>1999-09-08</td>\n",
       "      <td>[weeknight, time-to-make, course, main-ingredi...</td>\n",
       "      <td>[372.9, 16.0, 163.0, 7.0, 13.0, 16.0, 22.0]</td>\n",
       "      <td>[grease and lightly flour 2 9x1 1 / 2-inch rou...</td>\n",
       "      <td>15</td>\n",
       "      <td>None</td>\n",
       "      <td>[all-purpose flour, sugar, baking powder, baki...</td>\n",
       "      <td>13</td>\n",
       "      <td>[First Jimmy let me say that the taste was gre...</td>\n",
       "      <td>[2009-07-09 00:00:00]</td>\n",
       "      <td>[557764]</td>\n",
       "      <td>[3]</td>\n",
       "    </tr>\n",
       "    <tr>\n",
       "      <th>12</th>\n",
       "      <td>55</td>\n",
       "      <td>betty crocker s southwestern guacamole dip</td>\n",
       "      <td>125</td>\n",
       "      <td>1538</td>\n",
       "      <td>1999-09-15</td>\n",
       "      <td>[weeknight, time-to-make, course, cuisine, pre...</td>\n",
       "      <td>[415.9, 56.0, 11.0, 12.0, 11.0, 26.0, 8.0]</td>\n",
       "      <td>[peel and mash avocados until lumpy, add remai...</td>\n",
       "      <td>2</td>\n",
       "      <td>None</td>\n",
       "      <td>[avocados, tomatoes, salt, garlic, lime juice]</td>\n",
       "      <td>5</td>\n",
       "      <td>[I liked it. I was surprised since it didn't h...</td>\n",
       "      <td>[2006-01-12 00:00:00, 2006-03-31 00:00:00, 200...</td>\n",
       "      <td>[53959, 165567, 1060485, 851190]</td>\n",
       "      <td>[4, 5, 5, 5]</td>\n",
       "    </tr>\n",
       "  </tbody>\n",
       "</table>\n",
       "</div>"
      ],
      "text/plain": [
       "    recipe_id                                        name  minutes  \\\n",
       "7          48                            boston cream pie      135   \n",
       "9          50                           biscotti di prato       70   \n",
       "10         52                             cafe cappuccino        5   \n",
       "11         53                       jimmy g s carrot cake      110   \n",
       "12         55  betty crocker s southwestern guacamole dip      125   \n",
       "\n",
       "    contributor_id  submitted  \\\n",
       "7             1545 1999-08-24   \n",
       "9             1752 1999-08-31   \n",
       "10            2178 1999-08-31   \n",
       "11            1772 1999-09-08   \n",
       "12            1538 1999-09-15   \n",
       "\n",
       "                                                 tags  \\\n",
       "7   [weeknight, time-to-make, course, main-ingredi...   \n",
       "9   [weeknight, time-to-make, course, cuisine, pre...   \n",
       "10  [15-minutes-or-less, time-to-make, course, cui...   \n",
       "11  [weeknight, time-to-make, course, main-ingredi...   \n",
       "12  [weeknight, time-to-make, course, cuisine, pre...   \n",
       "\n",
       "                                       nutrition  \\\n",
       "7   [688.2, 56.0, 184.0, 30.0, 17.0, 64.0, 28.0]   \n",
       "9          [89.4, 4.0, 29.0, 0.0, 4.0, 1.0, 4.0]   \n",
       "10         [62.2, 0.0, 47.0, 1.0, 5.0, 0.0, 4.0]   \n",
       "11   [372.9, 16.0, 163.0, 7.0, 13.0, 16.0, 22.0]   \n",
       "12    [415.9, 56.0, 11.0, 12.0, 11.0, 26.0, 8.0]   \n",
       "\n",
       "                                                steps  n_steps description  \\\n",
       "7   [beat egg whites until soft peaks form, gradua...       32        None   \n",
       "9   [egg wash 1 egg , large 1 tsp water in the bow...        7        None   \n",
       "10  [stir ingredients together, process in a blend...        4        None   \n",
       "11  [grease and lightly flour 2 9x1 1 / 2-inch rou...       15        None   \n",
       "12  [peel and mash avocados until lumpy, add remai...        2        None   \n",
       "\n",
       "                                          ingredients  n_ingredients  \\\n",
       "7   [margarine, cake flour, baking powder, salt, s...             15   \n",
       "9   [flour, sugar, baking powder, salt, eggs, vani...             10   \n",
       "10  [instant coffee, sugar, nonfat dry milk solid,...              4   \n",
       "11  [all-purpose flour, sugar, baking powder, baki...             13   \n",
       "12     [avocados, tomatoes, salt, garlic, lime juice]              5   \n",
       "\n",
       "                                               review  \\\n",
       "7   [The flavor was great. But I think there was n...   \n",
       "9   [This recipe is sooooo close to what you find ...   \n",
       "10  [I haven't made this in years.  When the kids ...   \n",
       "11  [First Jimmy let me say that the taste was gre...   \n",
       "12  [I liked it. I was surprised since it didn't h...   \n",
       "\n",
       "                                                 date  \\\n",
       "7          [2002-03-15 00:00:00, 2004-05-03 00:00:00]   \n",
       "9          [2004-12-15 00:00:00, 2009-03-22 00:00:00]   \n",
       "10                              [2004-08-02 00:00:00]   \n",
       "11                              [2009-07-09 00:00:00]   \n",
       "12  [2006-01-12 00:00:00, 2006-03-31 00:00:00, 200...   \n",
       "\n",
       "                             user_id        rating  \n",
       "7                     [32421, 68674]        [0, 2]  \n",
       "9                   [10448, 1060485]        [5, 4]  \n",
       "10                          [133174]           [5]  \n",
       "11                          [557764]           [3]  \n",
       "12  [53959, 165567, 1060485, 851190]  [4, 5, 5, 5]  "
      ]
     },
     "execution_count": 14,
     "metadata": {},
     "output_type": "execute_result"
    }
   ],
   "source": [
    "df_g[df_g['description'].isna() | (df_g['description'].str.strip() == '')].head(5)\n"
   ]
  },
  {
   "cell_type": "markdown",
   "metadata": {},
   "source": [
    "Remplacons donc chaque description manquante par le nom de la recette."
   ]
  },
  {
   "cell_type": "code",
   "execution_count": 15,
   "metadata": {},
   "outputs": [
    {
     "name": "stdout",
     "output_type": "stream",
     "text": [
      "Nombre de valeurs manquantes : 1\n"
     ]
    }
   ],
   "source": [
    "df_g['description'] = df_g['description'].fillna(df_g['name'])\n",
    "\n",
    "print(\"Nombre de valeurs manquantes :\", df_g.isna().sum().sum())\n"
   ]
  },
  {
   "cell_type": "code",
   "execution_count": 16,
   "metadata": {},
   "outputs": [
    {
     "data": {
      "text/html": [
       "<div>\n",
       "<style scoped>\n",
       "    .dataframe tbody tr th:only-of-type {\n",
       "        vertical-align: middle;\n",
       "    }\n",
       "\n",
       "    .dataframe tbody tr th {\n",
       "        vertical-align: top;\n",
       "    }\n",
       "\n",
       "    .dataframe thead th {\n",
       "        text-align: right;\n",
       "    }\n",
       "</style>\n",
       "<table border=\"1\" class=\"dataframe\">\n",
       "  <thead>\n",
       "    <tr style=\"text-align: right;\">\n",
       "      <th></th>\n",
       "      <th>recipe_id</th>\n",
       "      <th>name</th>\n",
       "      <th>minutes</th>\n",
       "      <th>contributor_id</th>\n",
       "      <th>submitted</th>\n",
       "      <th>tags</th>\n",
       "      <th>nutrition</th>\n",
       "      <th>steps</th>\n",
       "      <th>n_steps</th>\n",
       "      <th>description</th>\n",
       "      <th>ingredients</th>\n",
       "      <th>n_ingredients</th>\n",
       "      <th>review</th>\n",
       "      <th>date</th>\n",
       "      <th>user_id</th>\n",
       "      <th>rating</th>\n",
       "    </tr>\n",
       "  </thead>\n",
       "  <tbody>\n",
       "    <tr>\n",
       "      <th>187044</th>\n",
       "      <td>368257</td>\n",
       "      <td>None</td>\n",
       "      <td>10</td>\n",
       "      <td>779451</td>\n",
       "      <td>2009-04-27</td>\n",
       "      <td>[15-minutes-or-less, time-to-make, course, pre...</td>\n",
       "      <td>[1596.2, 249.0, 155.0, 0.0, 2.0, 112.0, 14.0]</td>\n",
       "      <td>[in a bowl , combine ingredients except for ol...</td>\n",
       "      <td>6</td>\n",
       "      <td>-------------</td>\n",
       "      <td>[lemon, honey, horseradish mustard, garlic clo...</td>\n",
       "      <td>10</td>\n",
       "      <td>[This was great! Thanx. It was the only one wi...</td>\n",
       "      <td>[2010-01-14 00:00:00]</td>\n",
       "      <td>[353428]</td>\n",
       "      <td>[0]</td>\n",
       "    </tr>\n",
       "  </tbody>\n",
       "</table>\n",
       "</div>"
      ],
      "text/plain": [
       "        recipe_id  name  minutes  contributor_id  submitted  \\\n",
       "187044     368257  None       10          779451 2009-04-27   \n",
       "\n",
       "                                                     tags  \\\n",
       "187044  [15-minutes-or-less, time-to-make, course, pre...   \n",
       "\n",
       "                                            nutrition  \\\n",
       "187044  [1596.2, 249.0, 155.0, 0.0, 2.0, 112.0, 14.0]   \n",
       "\n",
       "                                                    steps  n_steps  \\\n",
       "187044  [in a bowl , combine ingredients except for ol...        6   \n",
       "\n",
       "          description                                        ingredients  \\\n",
       "187044  -------------  [lemon, honey, horseradish mustard, garlic clo...   \n",
       "\n",
       "        n_ingredients                                             review  \\\n",
       "187044             10  [This was great! Thanx. It was the only one wi...   \n",
       "\n",
       "                         date   user_id rating  \n",
       "187044  [2010-01-14 00:00:00]  [353428]    [0]  "
      ]
     },
     "execution_count": 16,
     "metadata": {},
     "output_type": "execute_result"
    }
   ],
   "source": [
    "df_g[df_g['name'].isna() | (df_g['name'].str.strip() == '')].head()"
   ]
  },
  {
   "cell_type": "markdown",
   "metadata": {},
   "source": [
    "On trouve une recette avec aucun nom : 2 solutions, essayer de lui trouver un nom avec les ingredients et les etapes... OU la supprimer."
   ]
  },
  {
   "cell_type": "code",
   "execution_count": 17,
   "metadata": {},
   "outputs": [
    {
     "name": "stdout",
     "output_type": "stream",
     "text": [
      "Nombre de valeurs manquantes : 0\n"
     ]
    }
   ],
   "source": [
    "df_g = df_g.dropna(subset=['name'])\n",
    "\n",
    "print(\"Nombre de valeurs manquantes :\", df_g.isna().sum().sum())"
   ]
  },
  {
   "cell_type": "markdown",
   "metadata": {},
   "source": [
    "Listes des variables et leur type :\n",
    "\n",
    "| recipe_id | minutes | contributor_id | submitted | tags | steps | n_steps | description | ingredients | n_ingredients | review | date | user_id | rating |\n",
    "| :-------: | :-----: | :------------: | :-------: | :--: | :---: | :-----: | :---------: | :---------: | :-----------: | :----: | :--: | :-----: | :----: |\n",
    "| qualitative nominale | quantitative discrete | qualitative nominale | quantitative continue | qualitative nominale | qualitative nominale | quantitative discrete | qualitative nominale | qualitative nominale | quantitative discrete | qualitative nominale | quantitative continue | qualitative nominale |  qualitative ordinale |"
   ]
  },
  {
   "cell_type": "markdown",
   "metadata": {},
   "source": [
    "### Analyse Univariés\n",
    "\n",
    "Commencons par l'analyse univariés de chaque variables, commencons par les variables de type Quantitatives discrete \n",
    "\n",
    "Les différentes colonnes Quantitatives discrète : *minutes, n_steps, n_ingredients*"
   ]
  },
  {
   "cell_type": "code",
   "execution_count": 18,
   "metadata": {},
   "outputs": [],
   "source": [
    "df_g['contributor_id'] = df_g.contributor_id.astype('category')\n",
    "df_g['recipe_id'] = df_g.recipe_id.astype('category')"
   ]
  },
  {
   "cell_type": "code",
   "execution_count": 19,
   "metadata": {},
   "outputs": [
    {
     "name": "stdout",
     "output_type": "stream",
     "text": [
      "            minutes                      submitted        n_steps  \\\n",
      "count  2.316360e+05                         231636  231636.000000   \n",
      "mean   9.398587e+03  2006-11-14 01:53:01.122105344       9.765516   \n",
      "min    0.000000e+00            1999-08-06 00:00:00       0.000000   \n",
      "25%    2.000000e+01            2004-09-16 00:00:00       6.000000   \n",
      "50%    4.000000e+01            2007-01-23 00:00:00       9.000000   \n",
      "75%    6.500000e+01            2008-10-29 00:00:00      12.000000   \n",
      "max    2.147484e+09            2018-12-04 00:00:00     145.000000   \n",
      "std    4.461973e+06                            NaN       5.995136   \n",
      "\n",
      "       n_ingredients  \n",
      "count  231636.000000  \n",
      "mean        9.051149  \n",
      "min         1.000000  \n",
      "25%         6.000000  \n",
      "50%         9.000000  \n",
      "75%        11.000000  \n",
      "max        43.000000  \n",
      "std         3.734803  \n",
      "\n",
      "Nombre de recettes :  231636\n"
     ]
    }
   ],
   "source": [
    "print(df_g.describe())\n",
    "\n",
    "print(f\"\\nNombre de recettes : \",df_g['recipe_id'].count())"
   ]
  },
  {
   "cell_type": "markdown",
   "metadata": {},
   "source": [
    "##### Colonne : *minutes*"
   ]
  },
  {
   "cell_type": "code",
   "execution_count": 20,
   "metadata": {},
   "outputs": [
    {
     "data": {
      "text/html": [
       "<div>\n",
       "<style scoped>\n",
       "    .dataframe tbody tr th:only-of-type {\n",
       "        vertical-align: middle;\n",
       "    }\n",
       "\n",
       "    .dataframe tbody tr th {\n",
       "        vertical-align: top;\n",
       "    }\n",
       "\n",
       "    .dataframe thead th {\n",
       "        text-align: right;\n",
       "    }\n",
       "</style>\n",
       "<table border=\"1\" class=\"dataframe\">\n",
       "  <thead>\n",
       "    <tr style=\"text-align: right;\">\n",
       "      <th></th>\n",
       "      <th>name</th>\n",
       "      <th>minutes</th>\n",
       "    </tr>\n",
       "  </thead>\n",
       "  <tbody>\n",
       "    <tr>\n",
       "      <th>141904</th>\n",
       "      <td>no bake granola balls</td>\n",
       "      <td>2147483647</td>\n",
       "    </tr>\n",
       "    <tr>\n",
       "      <th>213797</th>\n",
       "      <td>how to preserve a husband</td>\n",
       "      <td>1051200</td>\n",
       "    </tr>\n",
       "    <tr>\n",
       "      <th>155593</th>\n",
       "      <td>homemade fruit liquers</td>\n",
       "      <td>288000</td>\n",
       "    </tr>\n",
       "    <tr>\n",
       "      <th>120304</th>\n",
       "      <td>celtic druid s honey mead   meade   metheglin</td>\n",
       "      <td>259260</td>\n",
       "    </tr>\n",
       "    <tr>\n",
       "      <th>207668</th>\n",
       "      <td>homemade vanilla</td>\n",
       "      <td>259205</td>\n",
       "    </tr>\n",
       "  </tbody>\n",
       "</table>\n",
       "</div>"
      ],
      "text/plain": [
       "                                                 name     minutes\n",
       "141904                          no bake granola balls  2147483647\n",
       "213797                      how to preserve a husband     1051200\n",
       "155593                         homemade fruit liquers      288000\n",
       "120304  celtic druid s honey mead   meade   metheglin      259260\n",
       "207668                               homemade vanilla      259205"
      ]
     },
     "execution_count": 20,
     "metadata": {},
     "output_type": "execute_result"
    }
   ],
   "source": [
    "df_g  = df_g.sort_values('minutes',ascending=False)\n",
    "df_g[['name','minutes']].head(5)\n"
   ]
  },
  {
   "cell_type": "markdown",
   "metadata": {},
   "source": [
    "Les deux premières dates semblent etres des outlayers de recettes 'trolls' : nous les retirons donc du dataset. "
   ]
  },
  {
   "cell_type": "code",
   "execution_count": 21,
   "metadata": {},
   "outputs": [
    {
     "data": {
      "text/html": [
       "<div>\n",
       "<style scoped>\n",
       "    .dataframe tbody tr th:only-of-type {\n",
       "        vertical-align: middle;\n",
       "    }\n",
       "\n",
       "    .dataframe tbody tr th {\n",
       "        vertical-align: top;\n",
       "    }\n",
       "\n",
       "    .dataframe thead th {\n",
       "        text-align: right;\n",
       "    }\n",
       "</style>\n",
       "<table border=\"1\" class=\"dataframe\">\n",
       "  <thead>\n",
       "    <tr style=\"text-align: right;\">\n",
       "      <th></th>\n",
       "      <th>name</th>\n",
       "      <th>minutes</th>\n",
       "    </tr>\n",
       "  </thead>\n",
       "  <tbody>\n",
       "    <tr>\n",
       "      <th>155593</th>\n",
       "      <td>homemade fruit liquers</td>\n",
       "      <td>288000</td>\n",
       "    </tr>\n",
       "    <tr>\n",
       "      <th>120304</th>\n",
       "      <td>celtic druid s honey mead   meade   metheglin</td>\n",
       "      <td>259260</td>\n",
       "    </tr>\n",
       "    <tr>\n",
       "      <th>207668</th>\n",
       "      <td>homemade vanilla</td>\n",
       "      <td>259205</td>\n",
       "    </tr>\n",
       "    <tr>\n",
       "      <th>57271</th>\n",
       "      <td>peach brandy</td>\n",
       "      <td>216015</td>\n",
       "    </tr>\n",
       "    <tr>\n",
       "      <th>40504</th>\n",
       "      <td>angelica liqueur</td>\n",
       "      <td>201610</td>\n",
       "    </tr>\n",
       "  </tbody>\n",
       "</table>\n",
       "</div>"
      ],
      "text/plain": [
       "                                                 name  minutes\n",
       "155593                         homemade fruit liquers   288000\n",
       "120304  celtic druid s honey mead   meade   metheglin   259260\n",
       "207668                               homemade vanilla   259205\n",
       "57271                                    peach brandy   216015\n",
       "40504                                angelica liqueur   201610"
      ]
     },
     "execution_count": 21,
     "metadata": {},
     "output_type": "execute_result"
    }
   ],
   "source": [
    "df_g = df_g.drop(df_g['minutes'].nlargest(2).index)\n",
    "\n",
    "df_g[['name','minutes']].head(5)"
   ]
  },
  {
   "cell_type": "code",
   "execution_count": 22,
   "metadata": {},
   "outputs": [
    {
     "data": {
      "text/html": [
       "<div>\n",
       "<style scoped>\n",
       "    .dataframe tbody tr th:only-of-type {\n",
       "        vertical-align: middle;\n",
       "    }\n",
       "\n",
       "    .dataframe tbody tr th {\n",
       "        vertical-align: top;\n",
       "    }\n",
       "\n",
       "    .dataframe thead th {\n",
       "        text-align: right;\n",
       "    }\n",
       "</style>\n",
       "<table border=\"1\" class=\"dataframe\">\n",
       "  <thead>\n",
       "    <tr style=\"text-align: right;\">\n",
       "      <th></th>\n",
       "      <th>name</th>\n",
       "      <th>minutes</th>\n",
       "    </tr>\n",
       "  </thead>\n",
       "  <tbody>\n",
       "    <tr>\n",
       "      <th>1302</th>\n",
       "      <td>cheese straws iv</td>\n",
       "      <td>0</td>\n",
       "    </tr>\n",
       "    <tr>\n",
       "      <th>2003</th>\n",
       "      <td>broccoli salad with oven roasted mushrooms</td>\n",
       "      <td>0</td>\n",
       "    </tr>\n",
       "    <tr>\n",
       "      <th>2006</th>\n",
       "      <td>low fat clam   vegetable chowder</td>\n",
       "      <td>0</td>\n",
       "    </tr>\n",
       "    <tr>\n",
       "      <th>2018</th>\n",
       "      <td>penne with artichoke hearts</td>\n",
       "      <td>0</td>\n",
       "    </tr>\n",
       "    <tr>\n",
       "      <th>486</th>\n",
       "      <td>pig in the blankets</td>\n",
       "      <td>0</td>\n",
       "    </tr>\n",
       "  </tbody>\n",
       "</table>\n",
       "</div>"
      ],
      "text/plain": [
       "                                            name  minutes\n",
       "1302                            cheese straws iv        0\n",
       "2003  broccoli salad with oven roasted mushrooms        0\n",
       "2006            low fat clam   vegetable chowder        0\n",
       "2018                 penne with artichoke hearts        0\n",
       "486                          pig in the blankets        0"
      ]
     },
     "execution_count": 22,
     "metadata": {},
     "output_type": "execute_result"
    }
   ],
   "source": [
    "df_g  = df_g.sort_values('minutes',ascending=True)\n",
    "df_g[['name','minutes']].head(5)"
   ]
  },
  {
   "cell_type": "code",
   "execution_count": 23,
   "metadata": {},
   "outputs": [
    {
     "data": {
      "text/html": [
       "<div>\n",
       "<style scoped>\n",
       "    .dataframe tbody tr th:only-of-type {\n",
       "        vertical-align: middle;\n",
       "    }\n",
       "\n",
       "    .dataframe tbody tr th {\n",
       "        vertical-align: top;\n",
       "    }\n",
       "\n",
       "    .dataframe thead th {\n",
       "        text-align: right;\n",
       "    }\n",
       "</style>\n",
       "<table border=\"1\" class=\"dataframe\">\n",
       "  <thead>\n",
       "    <tr style=\"text-align: right;\">\n",
       "      <th></th>\n",
       "      <th>name</th>\n",
       "      <th>minutes</th>\n",
       "    </tr>\n",
       "  </thead>\n",
       "  <tbody>\n",
       "    <tr>\n",
       "      <th>224724</th>\n",
       "      <td>angelina  mexican shirley temple</td>\n",
       "      <td>2</td>\n",
       "    </tr>\n",
       "    <tr>\n",
       "      <th>204327</th>\n",
       "      <td>berry and mango smoothie</td>\n",
       "      <td>2</td>\n",
       "    </tr>\n",
       "    <tr>\n",
       "      <th>34700</th>\n",
       "      <td>creamsicle freeze</td>\n",
       "      <td>2</td>\n",
       "    </tr>\n",
       "    <tr>\n",
       "      <th>204326</th>\n",
       "      <td>melon  apricot and mango smoothie</td>\n",
       "      <td>2</td>\n",
       "    </tr>\n",
       "    <tr>\n",
       "      <th>15613</th>\n",
       "      <td>gravin chicken</td>\n",
       "      <td>2</td>\n",
       "    </tr>\n",
       "    <tr>\n",
       "      <th>143392</th>\n",
       "      <td>slippery slide cocktail</td>\n",
       "      <td>2</td>\n",
       "    </tr>\n",
       "    <tr>\n",
       "      <th>79870</th>\n",
       "      <td>perfect hard boiled eggs  technique</td>\n",
       "      <td>2</td>\n",
       "    </tr>\n",
       "    <tr>\n",
       "      <th>187445</th>\n",
       "      <td>tropical dream</td>\n",
       "      <td>2</td>\n",
       "    </tr>\n",
       "    <tr>\n",
       "      <th>187416</th>\n",
       "      <td>green apple and beet salad</td>\n",
       "      <td>2</td>\n",
       "    </tr>\n",
       "    <tr>\n",
       "      <th>141435</th>\n",
       "      <td>happily ever after cocktail</td>\n",
       "      <td>2</td>\n",
       "    </tr>\n",
       "  </tbody>\n",
       "</table>\n",
       "</div>"
      ],
      "text/plain": [
       "                                       name  minutes\n",
       "224724     angelina  mexican shirley temple        2\n",
       "204327             berry and mango smoothie        2\n",
       "34700                     creamsicle freeze        2\n",
       "204326    melon  apricot and mango smoothie        2\n",
       "15613                        gravin chicken        2\n",
       "143392              slippery slide cocktail        2\n",
       "79870   perfect hard boiled eggs  technique        2\n",
       "187445                       tropical dream        2\n",
       "187416           green apple and beet salad        2\n",
       "141435          happily ever after cocktail        2"
      ]
     },
     "execution_count": 23,
     "metadata": {},
     "output_type": "execute_result"
    }
   ],
   "source": [
    "\n",
    "#idx = df_g.index[(df_g['minutes'] == df_g['minutes'].min())].tolist()\n",
    "idx = df_g.index[df_g['minutes'] < 2].tolist()\n",
    "\n",
    "df_g = df_g.drop(idx)\n",
    "\n",
    "\n",
    "df_g[['name','minutes']].head(10)"
   ]
  },
  {
   "cell_type": "code",
   "execution_count": 24,
   "metadata": {},
   "outputs": [
    {
     "data": {
      "text/html": [
       "<div>\n",
       "<style scoped>\n",
       "    .dataframe tbody tr th:only-of-type {\n",
       "        vertical-align: middle;\n",
       "    }\n",
       "\n",
       "    .dataframe tbody tr th {\n",
       "        vertical-align: top;\n",
       "    }\n",
       "\n",
       "    .dataframe thead th {\n",
       "        text-align: right;\n",
       "    }\n",
       "</style>\n",
       "<table border=\"1\" class=\"dataframe\">\n",
       "  <thead>\n",
       "    <tr style=\"text-align: right;\">\n",
       "      <th></th>\n",
       "      <th>minutes</th>\n",
       "      <th>submitted</th>\n",
       "      <th>n_steps</th>\n",
       "      <th>n_ingredients</th>\n",
       "    </tr>\n",
       "  </thead>\n",
       "  <tbody>\n",
       "    <tr>\n",
       "      <th>count</th>\n",
       "      <td>229998.000000</td>\n",
       "      <td>229998</td>\n",
       "      <td>229998.000000</td>\n",
       "      <td>229998.000000</td>\n",
       "    </tr>\n",
       "    <tr>\n",
       "      <th>mean</th>\n",
       "      <td>123.981961</td>\n",
       "      <td>2006-11-25 11:28:16.929538560</td>\n",
       "      <td>9.777868</td>\n",
       "      <td>9.063244</td>\n",
       "    </tr>\n",
       "    <tr>\n",
       "      <th>min</th>\n",
       "      <td>2.000000</td>\n",
       "      <td>1999-08-06 00:00:00</td>\n",
       "      <td>0.000000</td>\n",
       "      <td>1.000000</td>\n",
       "    </tr>\n",
       "    <tr>\n",
       "      <th>25%</th>\n",
       "      <td>20.000000</td>\n",
       "      <td>2004-10-05 00:00:00</td>\n",
       "      <td>6.000000</td>\n",
       "      <td>6.000000</td>\n",
       "    </tr>\n",
       "    <tr>\n",
       "      <th>50%</th>\n",
       "      <td>40.000000</td>\n",
       "      <td>2007-01-30 00:00:00</td>\n",
       "      <td>9.000000</td>\n",
       "      <td>9.000000</td>\n",
       "    </tr>\n",
       "    <tr>\n",
       "      <th>75%</th>\n",
       "      <td>65.000000</td>\n",
       "      <td>2008-11-02 00:00:00</td>\n",
       "      <td>12.000000</td>\n",
       "      <td>11.000000</td>\n",
       "    </tr>\n",
       "    <tr>\n",
       "      <th>max</th>\n",
       "      <td>288000.000000</td>\n",
       "      <td>2018-12-04 00:00:00</td>\n",
       "      <td>145.000000</td>\n",
       "      <td>43.000000</td>\n",
       "    </tr>\n",
       "    <tr>\n",
       "      <th>std</th>\n",
       "      <td>1984.766573</td>\n",
       "      <td>NaN</td>\n",
       "      <td>5.990560</td>\n",
       "      <td>3.730821</td>\n",
       "    </tr>\n",
       "  </tbody>\n",
       "</table>\n",
       "</div>"
      ],
      "text/plain": [
       "             minutes                      submitted        n_steps  \\\n",
       "count  229998.000000                         229998  229998.000000   \n",
       "mean      123.981961  2006-11-25 11:28:16.929538560       9.777868   \n",
       "min         2.000000            1999-08-06 00:00:00       0.000000   \n",
       "25%        20.000000            2004-10-05 00:00:00       6.000000   \n",
       "50%        40.000000            2007-01-30 00:00:00       9.000000   \n",
       "75%        65.000000            2008-11-02 00:00:00      12.000000   \n",
       "max    288000.000000            2018-12-04 00:00:00     145.000000   \n",
       "std      1984.766573                            NaN       5.990560   \n",
       "\n",
       "       n_ingredients  \n",
       "count  229998.000000  \n",
       "mean        9.063244  \n",
       "min         1.000000  \n",
       "25%         6.000000  \n",
       "50%         9.000000  \n",
       "75%        11.000000  \n",
       "max        43.000000  \n",
       "std         3.730821  "
      ]
     },
     "execution_count": 24,
     "metadata": {},
     "output_type": "execute_result"
    }
   ],
   "source": [
    "df_g.describe()"
   ]
  },
  {
   "cell_type": "code",
   "execution_count": 25,
   "metadata": {},
   "outputs": [
    {
     "name": "stdout",
     "output_type": "stream",
     "text": [
      "nombre de recette prenant 0 minutes à etre réalisées :  1888\n"
     ]
    }
   ],
   "source": [
    "print(f\"nombre de recette prenant 0 minutes à etre réalisées : \",df_g.loc[df_g['minutes'] == df_g['minutes'].min()].shape[0])"
   ]
  },
  {
   "cell_type": "markdown",
   "metadata": {},
   "source": [
    "Tentons de representer la distributions des minutes dans un Violin Plot"
   ]
  },
  {
   "cell_type": "code",
   "execution_count": 26,
   "metadata": {},
   "outputs": [
    {
     "data": {
      "text/plain": [
       "Text(0, 0.5, 'Log minutes')"
      ]
     },
     "execution_count": 26,
     "metadata": {},
     "output_type": "execute_result"
    },
    {
     "data": {
      "image/png": "[encoded data removed]",
      "text/plain": [
       "<Figure size 640x480 with 1 Axes>"
      ]
     },
     "metadata": {},
     "output_type": "display_data"
    }
   ],
   "source": [
    "plt.figure()\n",
    "sb.violinplot(np.log(1+df_g['minutes']),inner='quartile')\n",
    "plt.ylabel('Log minutes')"
   ]
  },
  {
   "cell_type": "code",
   "execution_count": 27,
   "metadata": {},
   "outputs": [
    {
     "data": {
      "image/png": "[encoded data removed]",
      "text/plain": [
       "<Figure size 640x480 with 1 Axes>"
      ]
     },
     "metadata": {},
     "output_type": "display_data"
    }
   ],
   "source": [
    "plt.figure()\n",
    "sb.histplot(np.log(1+df_g['minutes']), kde=True, bins=40)\n",
    "plt.title(\"Histogramme des minutes\")\n",
    "plt.xlabel('Log minutes')\n",
    "plt.show()\n"
   ]
  },
  {
   "cell_type": "code",
   "execution_count": 28,
   "metadata": {},
   "outputs": [
    {
     "name": "stdout",
     "output_type": "stream",
     "text": [
      "Skewness: 77.75366278319507\n",
      "Kurtosis: 7830.41652058054\n"
     ]
    }
   ],
   "source": [
    "skewness_minutes = scipy.stats.skew(df_g['minutes'])\n",
    "kurt_minutes = scipy.stats.kurtosis(df_g['minutes'])\n",
    "\n",
    "print(f'Skewness: {skewness_minutes}')\n",
    "print(f'Kurtosis: {kurt_minutes}')\n"
   ]
  },
  {
   "cell_type": "markdown",
   "metadata": {},
   "source": [
    "On retrouve une skewness et un Kurtosis elevé mais ceci est du a la présence d'outliers important. \n",
    "\n",
    "Skewness > 0 : La distribution est asymétrique avec une masse importante à gauche\n",
    "Kurtnosis > 3 : Valeurs très proche de la moyenne mais des outliers important\n",
    "\n",
    "Doit on les retirés et donc pas considèré les modes sur les alcools ? "
   ]
  },
  {
   "cell_type": "markdown",
   "metadata": {},
   "source": [
    "##### Colonne : *n_steps*\n",
    "\n",
    "Verifier les valeurs max :"
   ]
  },
  {
   "cell_type": "code",
   "execution_count": 29,
   "metadata": {},
   "outputs": [
    {
     "data": {
      "text/html": [
       "<div>\n",
       "<style scoped>\n",
       "    .dataframe tbody tr th:only-of-type {\n",
       "        vertical-align: middle;\n",
       "    }\n",
       "\n",
       "    .dataframe tbody tr th {\n",
       "        vertical-align: top;\n",
       "    }\n",
       "\n",
       "    .dataframe thead th {\n",
       "        text-align: right;\n",
       "    }\n",
       "</style>\n",
       "<table border=\"1\" class=\"dataframe\">\n",
       "  <thead>\n",
       "    <tr style=\"text-align: right;\">\n",
       "      <th></th>\n",
       "      <th>name</th>\n",
       "      <th>n_steps</th>\n",
       "      <th>steps</th>\n",
       "    </tr>\n",
       "  </thead>\n",
       "  <tbody>\n",
       "    <tr>\n",
       "      <th>90562</th>\n",
       "      <td>easy yeast bread with variations</td>\n",
       "      <td>145</td>\n",
       "      <td>[white bread:, lightly spooning flour into mea...</td>\n",
       "    </tr>\n",
       "    <tr>\n",
       "      <th>108600</th>\n",
       "      <td>chocolate raspberry mousse truffle cake   rasp...</td>\n",
       "      <td>113</td>\n",
       "      <td>[make the chocolate sour cream cake:, preheat ...</td>\n",
       "    </tr>\n",
       "    <tr>\n",
       "      <th>89963</th>\n",
       "      <td>chocolate raspberry ruffle cake</td>\n",
       "      <td>110</td>\n",
       "      <td>[first of all: these are not typical direction...</td>\n",
       "    </tr>\n",
       "    <tr>\n",
       "      <th>37274</th>\n",
       "      <td>5 cheese crab lasagna with roasted garlic and ...</td>\n",
       "      <td>108</td>\n",
       "      <td>[roast garlic: place oven rack on second notch...</td>\n",
       "    </tr>\n",
       "    <tr>\n",
       "      <th>182584</th>\n",
       "      <td>death by chocolate a la trellis</td>\n",
       "      <td>100</td>\n",
       "      <td>[take a deep breath, make sure that you will h...</td>\n",
       "    </tr>\n",
       "    <tr>\n",
       "      <th>231622</th>\n",
       "      <td>vampire s kiss cake</td>\n",
       "      <td>98</td>\n",
       "      <td>[make your batter, preheat your oven to 350c p...</td>\n",
       "    </tr>\n",
       "    <tr>\n",
       "      <th>114718</th>\n",
       "      <td>universal muffins mix</td>\n",
       "      <td>97</td>\n",
       "      <td>[combine ingredients and break up any lumps, s...</td>\n",
       "    </tr>\n",
       "    <tr>\n",
       "      <th>215548</th>\n",
       "      <td>best authentic mexican tamales ever</td>\n",
       "      <td>93</td>\n",
       "      <td>[cook and shred pork roast:, start with 1 pork...</td>\n",
       "    </tr>\n",
       "    <tr>\n",
       "      <th>37493</th>\n",
       "      <td>carioca</td>\n",
       "      <td>90</td>\n",
       "      <td>[for the genoise: preheat the oven to 350 degr...</td>\n",
       "    </tr>\n",
       "    <tr>\n",
       "      <th>194538</th>\n",
       "      <td>kielbasa  homemade kielbasa  fresh polish sausage</td>\n",
       "      <td>88</td>\n",
       "      <td>[put the garlic through a garlic press or minc...</td>\n",
       "    </tr>\n",
       "  </tbody>\n",
       "</table>\n",
       "</div>"
      ],
      "text/plain": [
       "                                                     name  n_steps  \\\n",
       "90562                    easy yeast bread with variations      145   \n",
       "108600  chocolate raspberry mousse truffle cake   rasp...      113   \n",
       "89963                     chocolate raspberry ruffle cake      110   \n",
       "37274   5 cheese crab lasagna with roasted garlic and ...      108   \n",
       "182584                    death by chocolate a la trellis      100   \n",
       "231622                                vampire s kiss cake       98   \n",
       "114718                              universal muffins mix       97   \n",
       "215548                best authentic mexican tamales ever       93   \n",
       "37493                                             carioca       90   \n",
       "194538  kielbasa  homemade kielbasa  fresh polish sausage       88   \n",
       "\n",
       "                                                    steps  \n",
       "90562   [white bread:, lightly spooning flour into mea...  \n",
       "108600  [make the chocolate sour cream cake:, preheat ...  \n",
       "89963   [first of all: these are not typical direction...  \n",
       "37274   [roast garlic: place oven rack on second notch...  \n",
       "182584  [take a deep breath, make sure that you will h...  \n",
       "231622  [make your batter, preheat your oven to 350c p...  \n",
       "114718  [combine ingredients and break up any lumps, s...  \n",
       "215548  [cook and shred pork roast:, start with 1 pork...  \n",
       "37493   [for the genoise: preheat the oven to 350 degr...  \n",
       "194538  [put the garlic through a garlic press or minc...  "
      ]
     },
     "execution_count": 29,
     "metadata": {},
     "output_type": "execute_result"
    }
   ],
   "source": [
    "df_g  = df_g.sort_values('n_steps',ascending=False)\n",
    "df_g[['name','n_steps','steps']].head(10)"
   ]
  },
  {
   "cell_type": "code",
   "execution_count": 30,
   "metadata": {},
   "outputs": [
    {
     "data": {
      "text/plain": [
       "['white bread:',\n",
       " 'lightly spooning flour into measuring cup & leveling off , measure out 2 1 / 2 cups flour',\n",
       " 'combine flour , dry yeast , sugar , & salt in a large mixer bowl',\n",
       " 'blend',\n",
       " 'in a medium saucepan , combine water , milk , and oil',\n",
       " 'heat until very warm',\n",
       " 'add eggs and liquid to flour mixture',\n",
       " 'mixing - blend at low speed until moistened',\n",
       " 'beat 3 minutes at medium speed',\n",
       " 'with a wooden spoon , stir in an additional 3 to 3-1 / 2 cups of flour to form a sticky dough',\n",
       " 'in bowl or on a floured board , gradually work in 1 / 2 to 1-1 / 2 cups more flour , kneading or working in with hands until dough is smooth , pliable and no longer sticky',\n",
       " 'rising - place dough in a greased bowl',\n",
       " 'cover with a cloth or loose fit lid',\n",
       " 'let rise in a warm place until light and double in size , about 45 minutes',\n",
       " 'shaping & baking:punch down dough to remove air bubbles',\n",
       " 'divide dough into two parts',\n",
       " 'from dough into desired shapes',\n",
       " 'place in greased pans according to shaping and baking directions',\n",
       " 'cover , let rise in a warm place until light and doubled in size , about 30 minutes',\n",
       " 'bake at 375f according to shape until loaf sounds hollow when lightly tapped',\n",
       " 'immediately remove from pans',\n",
       " 'cool',\n",
       " 'whole wheat bread -',\n",
       " 'follow white bread recipe',\n",
       " 'after beating with mixer , stir in 3 cups of whole wheat flour in stead of white , knead in 3 / 4 to 1-1 / 4 cups white flour',\n",
       " 'medium rye bread -',\n",
       " 'follow white bread recipe',\n",
       " 'after beating with mixer , stir in 3 cups medium rye flour instead of white flour',\n",
       " 'knead in 1-1 / 4 to 1-3 / 4 cups white flour',\n",
       " 'rye dough should not completely double in size',\n",
       " 'add 1 tbsp freshly crushed caraway seeds with rye flour',\n",
       " 'decrease the first rising periods by 15 minutes each',\n",
       " '-----',\n",
       " 'ingredient variations',\n",
       " 'ingredients stirred in are added with the flour as it is stirred inches',\n",
       " 'honey / molasses: substitute 1 / 4 cup for sugar',\n",
       " 'reduce milk to 3 / 4 cup',\n",
       " 'brown sugar: substitute 1 / 4 cup for the white sugar',\n",
       " 'rolled oats: stir in 1 / 2 cup',\n",
       " 'wheat germ: stir in 1 / 2 cup',\n",
       " 'cheese: stir in 1 cup shredded cheddar , american , monterey jack or swiss cheese',\n",
       " 'herbs & spices: stir in 1 / 4 to 1 / 2 tsp celery seed or dill weed , or 1 / 2 tsp italian seasoning , or 2 tbsp minced chives , caraway or sesame seeds',\n",
       " 'onion: stir in 1 / 2 cup , finely chopped',\n",
       " 'raisins / chopped dates or other dried fruit: use sweet dough recipe',\n",
       " 'stir in 1-1 / 2 cups fruit',\n",
       " '-----',\n",
       " 'specialty white bread variations -',\n",
       " 'french bread: reduce sugar to 1 tbsp',\n",
       " 'omit milk and eggs',\n",
       " 'use 2 cups water',\n",
       " 'reduce stirred in flour to 1-1 / 2 to 2 cups',\n",
       " 'increase first rise to 1 hour',\n",
       " 'shape and bake according to shaping and baking directions',\n",
       " 'french loaf or rolls: brush with beaten egg just before baking',\n",
       " '-----',\n",
       " 'rich egg bread - increase sugar to 1 / 3 cup',\n",
       " 'decrease water to 3 / 4 cup',\n",
       " 'use 3 eggs',\n",
       " '-----',\n",
       " 'south of the border loaf - decrease sugar to 1 tablespoons decrease milk to 1 / 2 cup',\n",
       " 'increase stirred in flour to 3-1 / 2 to 4 cups',\n",
       " 'with this flour , stir in the following: 1 / 2 cup sour cream , 1 / 2 cup chopped olives , 1 / 2 cup chopped onion , 1 cup shredded cheddar or monterey jack cheese , 1 / 4 tsp garlic powder , 1 to 4 tbsp minced green chilies',\n",
       " 'shape and bake according to directions for regular or round loaves , or rolls',\n",
       " '-----',\n",
       " 'sweet dough - increase sugar to 1 / 2 cup',\n",
       " 'eliminate water',\n",
       " 'use 2 cups milk',\n",
       " 'substitute butter or margarine for oil',\n",
       " 'cinnamon swirl - pat each half of dough into a 7x14-inch rectangle',\n",
       " 'spread with 1 tbsp butter or margarine',\n",
       " 'combine 1 / 2 cup sugar and 2 tbsp cinnamon',\n",
       " 'sprinkle half of mixture over each rectangle',\n",
       " 'starting with the 7-inch side , roll jelly-roll style',\n",
       " 'seal all edges tightly',\n",
       " 'shape and bake according to instructions for a regular loaf',\n",
       " '-----',\n",
       " 'specialty dark bread variations -',\n",
       " 'delicatessen rye bread - (use basic med-rye recipe} omit sugar , water and 1 egg',\n",
       " 'for warm liquid , heat 1-3 / 4 cups milk , 1 / 4 cup molasses , 1 / 4 cup cooking oil and 1 square unsweetened chocolate',\n",
       " 'along with stirred in flour at 1 tbsp caraway seed stir in 1 / 4 to 1 cup white flour with the rye flour',\n",
       " 'do let the dough to rise until double',\n",
       " 'increase first rise to about 1 hour and the second to about 40 minutes',\n",
       " 'increase the baking temperature to 400f',\n",
       " 'bake loaves 30-40 minutes',\n",
       " 'hearty whole wheat loaves - substitute 1 / 4 cup brown sugar for the white sugar',\n",
       " 'along with the stirred in flour add 1 / 2 cup each wheat germ and rolled oats and 2 tbsp sesame seeds',\n",
       " 'decrease kneaded in white flour to 1 / 4 to 3 / 4 cup',\n",
       " 'increase first rise to about 1 hour',\n",
       " 'light pumpernickel bread - eliminate sugar',\n",
       " 'decrease water to 3 / 4 cup',\n",
       " 'heat 1 / 4 cup molasses with other liquids',\n",
       " 'along with stirred in flour add 2 tbsp caraway seeds',\n",
       " '100% whole wheat bread - eliminate white flour',\n",
       " 'stir in 3 to 3-1 / 2 cups whole wheat flour',\n",
       " 'knead in a further 1 / 2 to 1-1 / 2 cups whole wheat flour',\n",
       " '----------------------',\n",
       " 'shaping and baking: use half of dough to make each shape',\n",
       " 'using solid shortening , generously grease pans',\n",
       " 'if desired , just before baking , slash top of loaf in any design using a sharp knife',\n",
       " 'bake breads at 375f: [u]all loaves[ / u] - 35 to 45 minutes or until loaf sounds hollow when lightly tapped',\n",
       " 'all rolls - 10 to 20 minutes',\n",
       " 'regular loaf: use a 9x5 or 8x4-inch loaf pan',\n",
       " 'press dough into pan',\n",
       " 'insert fingers between pan and dough to round edges',\n",
       " 'round loaf: use an 8 or 9-inch round cake pan , 1-1 / 2 quart round casserole or cookie sheet',\n",
       " 'form dough into round ball',\n",
       " 'flatten slightly',\n",
       " 'french & oblong loaf:',\n",
       " 'french: form dough into 14-inch loaf',\n",
       " 'taper ends',\n",
       " 'oblong: form dough into 8 to 10-inch oblong loaf',\n",
       " 'round ends',\n",
       " 'rope shaped loaves: shape half of dough into a 26-inch rope',\n",
       " 'form into any desired shape described below',\n",
       " 'coil: use 8 or 9-inch round cake pan , 1-1 / 2 quart round casserole or cookie sheet',\n",
       " 'beginning at center of loaf , roll rope into snail shape',\n",
       " 'tuck tail under',\n",
       " 'twist: use a 9x5 or 8x4-inch loaf pan or cookie sheet',\n",
       " 'cut rope in half to form two 13-inch ropes',\n",
       " 'twist together',\n",
       " 'seal ends',\n",
       " 'figure eight: use a 9x5 or 8x4-inch loaf pan or cookie sheet',\n",
       " 'form rope into figure-eight',\n",
       " 'seal ends',\n",
       " 'doughnut: use cookie sheet',\n",
       " 'form circle by bringing ends of rope together',\n",
       " 'seal',\n",
       " 'flatten circle to 1-1 / 2 inch thickness',\n",
       " 'rolls -',\n",
       " 'round: form dough into 12 2-inch balls',\n",
       " 'vienna: from dough into eight 6-inch oval rolls',\n",
       " 'flatten slightly',\n",
       " 'breadsticks: cut dough into walnut size pieces',\n",
       " 'roll with hands into 5-inch sticks',\n",
       " 'bread glazes - use any of the following glazes to create different crusts',\n",
       " 'soft buttery crusts: brush loaves with softened or melted butter or margarine after baking',\n",
       " 'crisp shiny crust: brush loaves with a mixture of 1 egg and 1 tbsp water just before baking',\n",
       " 'may be sprinkled with poppy or sesame seed',\n",
       " 'delicatessen crust: remove loaves from oven 5 minutes before done',\n",
       " 'brush with a mixture of 1 / 2 tsp cornstarch and 1 / 4 cup water that has been heated to boiling',\n",
       " 'return to oven to finish baking',\n",
       " 'cinnamon / sugar crust: brush loaves with 2 tbsp melted butter or margarine',\n",
       " 'sprinkle with mixture of 2 tbsp sugar and 1 / 2 tsp cinnamon after baking',\n",
       " 'slightly crisp , shiny sweet crust: brush loaves with a mixture of 1 tbsp each of sugar and water after baking',\n",
       " 'from:']"
      ]
     },
     "execution_count": 30,
     "metadata": {},
     "output_type": "execute_result"
    }
   ],
   "source": [
    "df_g['steps'].iloc[0]"
   ]
  },
  {
   "cell_type": "markdown",
   "metadata": {},
   "source": [
    "Verifier les valeurs min : "
   ]
  },
  {
   "cell_type": "code",
   "execution_count": 31,
   "metadata": {},
   "outputs": [
    {
     "data": {
      "text/html": [
       "<div>\n",
       "<style scoped>\n",
       "    .dataframe tbody tr th:only-of-type {\n",
       "        vertical-align: middle;\n",
       "    }\n",
       "\n",
       "    .dataframe tbody tr th {\n",
       "        vertical-align: top;\n",
       "    }\n",
       "\n",
       "    .dataframe thead th {\n",
       "        text-align: right;\n",
       "    }\n",
       "</style>\n",
       "<table border=\"1\" class=\"dataframe\">\n",
       "  <thead>\n",
       "    <tr style=\"text-align: right;\">\n",
       "      <th></th>\n",
       "      <th>name</th>\n",
       "      <th>n_steps</th>\n",
       "      <th>steps</th>\n",
       "    </tr>\n",
       "  </thead>\n",
       "  <tbody>\n",
       "    <tr>\n",
       "      <th>100335</th>\n",
       "      <td>all season bread</td>\n",
       "      <td>0</td>\n",
       "      <td>[]</td>\n",
       "    </tr>\n",
       "    <tr>\n",
       "      <th>214888</th>\n",
       "      <td>tahini substitution</td>\n",
       "      <td>1</td>\n",
       "      <td>[mix well]</td>\n",
       "    </tr>\n",
       "    <tr>\n",
       "      <th>225625</th>\n",
       "      <td>gingerbread spice blend</td>\n",
       "      <td>1</td>\n",
       "      <td>[stir spices together and store in airtight co...</td>\n",
       "    </tr>\n",
       "    <tr>\n",
       "      <th>85841</th>\n",
       "      <td>martinelli s mimosa</td>\n",
       "      <td>1</td>\n",
       "      <td>[sugar the rim of a champagne glass , pour ing...</td>\n",
       "    </tr>\n",
       "    <tr>\n",
       "      <th>18302</th>\n",
       "      <td>roasted turkey and cranberry chutney sandwich</td>\n",
       "      <td>1</td>\n",
       "      <td>[mix turkey , cream cheese and chutney and pla...</td>\n",
       "    </tr>\n",
       "    <tr>\n",
       "      <th>9552</th>\n",
       "      <td>italian popcorn</td>\n",
       "      <td>1</td>\n",
       "      <td>[melt the butter and stir in the seasonings , ...</td>\n",
       "    </tr>\n",
       "    <tr>\n",
       "      <th>221488</th>\n",
       "      <td>lemon honey vinaigrette</td>\n",
       "      <td>1</td>\n",
       "      <td>[mix all ingredients in a small bowl or jar]</td>\n",
       "    </tr>\n",
       "    <tr>\n",
       "      <th>217406</th>\n",
       "      <td>carrot cucumber and celery juice refresher for...</td>\n",
       "      <td>1</td>\n",
       "      <td>[wash and cut each vegetable and feed through ...</td>\n",
       "    </tr>\n",
       "    <tr>\n",
       "      <th>220229</th>\n",
       "      <td>comeback sauce</td>\n",
       "      <td>1</td>\n",
       "      <td>[mix all the ingredients and store in refriger...</td>\n",
       "    </tr>\n",
       "    <tr>\n",
       "      <th>170912</th>\n",
       "      <td>bbq beans  cowboy beans</td>\n",
       "      <td>1</td>\n",
       "      <td>[combine and cook for one hour at 350 degrees]</td>\n",
       "    </tr>\n",
       "  </tbody>\n",
       "</table>\n",
       "</div>"
      ],
      "text/plain": [
       "                                                     name  n_steps  \\\n",
       "100335                                   all season bread        0   \n",
       "214888                                tahini substitution        1   \n",
       "225625                            gingerbread spice blend        1   \n",
       "85841                                 martinelli s mimosa        1   \n",
       "18302       roasted turkey and cranberry chutney sandwich        1   \n",
       "9552                                      italian popcorn        1   \n",
       "221488                            lemon honey vinaigrette        1   \n",
       "217406  carrot cucumber and celery juice refresher for...        1   \n",
       "220229                                     comeback sauce        1   \n",
       "170912                            bbq beans  cowboy beans        1   \n",
       "\n",
       "                                                    steps  \n",
       "100335                                                 []  \n",
       "214888                                         [mix well]  \n",
       "225625  [stir spices together and store in airtight co...  \n",
       "85841   [sugar the rim of a champagne glass , pour ing...  \n",
       "18302   [mix turkey , cream cheese and chutney and pla...  \n",
       "9552    [melt the butter and stir in the seasonings , ...  \n",
       "221488       [mix all ingredients in a small bowl or jar]  \n",
       "217406  [wash and cut each vegetable and feed through ...  \n",
       "220229  [mix all the ingredients and store in refriger...  \n",
       "170912     [combine and cook for one hour at 350 degrees]  "
      ]
     },
     "execution_count": 31,
     "metadata": {},
     "output_type": "execute_result"
    }
   ],
   "source": [
    "df_g  = df_g.sort_values('n_steps',ascending=True)\n",
    "df_g[['name','n_steps','steps']].head(10)"
   ]
  },
  {
   "cell_type": "code",
   "execution_count": 32,
   "metadata": {},
   "outputs": [
    {
     "data": {
      "text/html": [
       "<div>\n",
       "<style scoped>\n",
       "    .dataframe tbody tr th:only-of-type {\n",
       "        vertical-align: middle;\n",
       "    }\n",
       "\n",
       "    .dataframe tbody tr th {\n",
       "        vertical-align: top;\n",
       "    }\n",
       "\n",
       "    .dataframe thead th {\n",
       "        text-align: right;\n",
       "    }\n",
       "</style>\n",
       "<table border=\"1\" class=\"dataframe\">\n",
       "  <thead>\n",
       "    <tr style=\"text-align: right;\">\n",
       "      <th></th>\n",
       "      <th>name</th>\n",
       "      <th>n_steps</th>\n",
       "      <th>steps</th>\n",
       "    </tr>\n",
       "  </thead>\n",
       "  <tbody>\n",
       "    <tr>\n",
       "      <th>100335</th>\n",
       "      <td>all season bread</td>\n",
       "      <td>0</td>\n",
       "      <td>[]</td>\n",
       "    </tr>\n",
       "    <tr>\n",
       "      <th>214888</th>\n",
       "      <td>tahini substitution</td>\n",
       "      <td>1</td>\n",
       "      <td>[mix well]</td>\n",
       "    </tr>\n",
       "    <tr>\n",
       "      <th>225625</th>\n",
       "      <td>gingerbread spice blend</td>\n",
       "      <td>1</td>\n",
       "      <td>[stir spices together and store in airtight co...</td>\n",
       "    </tr>\n",
       "    <tr>\n",
       "      <th>85841</th>\n",
       "      <td>martinelli s mimosa</td>\n",
       "      <td>1</td>\n",
       "      <td>[sugar the rim of a champagne glass , pour ing...</td>\n",
       "    </tr>\n",
       "    <tr>\n",
       "      <th>18302</th>\n",
       "      <td>roasted turkey and cranberry chutney sandwich</td>\n",
       "      <td>1</td>\n",
       "      <td>[mix turkey , cream cheese and chutney and pla...</td>\n",
       "    </tr>\n",
       "    <tr>\n",
       "      <th>9552</th>\n",
       "      <td>italian popcorn</td>\n",
       "      <td>1</td>\n",
       "      <td>[melt the butter and stir in the seasonings , ...</td>\n",
       "    </tr>\n",
       "    <tr>\n",
       "      <th>221488</th>\n",
       "      <td>lemon honey vinaigrette</td>\n",
       "      <td>1</td>\n",
       "      <td>[mix all ingredients in a small bowl or jar]</td>\n",
       "    </tr>\n",
       "    <tr>\n",
       "      <th>217406</th>\n",
       "      <td>carrot cucumber and celery juice refresher for...</td>\n",
       "      <td>1</td>\n",
       "      <td>[wash and cut each vegetable and feed through ...</td>\n",
       "    </tr>\n",
       "    <tr>\n",
       "      <th>220229</th>\n",
       "      <td>comeback sauce</td>\n",
       "      <td>1</td>\n",
       "      <td>[mix all the ingredients and store in refriger...</td>\n",
       "    </tr>\n",
       "    <tr>\n",
       "      <th>170912</th>\n",
       "      <td>bbq beans  cowboy beans</td>\n",
       "      <td>1</td>\n",
       "      <td>[combine and cook for one hour at 350 degrees]</td>\n",
       "    </tr>\n",
       "  </tbody>\n",
       "</table>\n",
       "</div>"
      ],
      "text/plain": [
       "                                                     name  n_steps  \\\n",
       "100335                                   all season bread        0   \n",
       "214888                                tahini substitution        1   \n",
       "225625                            gingerbread spice blend        1   \n",
       "85841                                 martinelli s mimosa        1   \n",
       "18302       roasted turkey and cranberry chutney sandwich        1   \n",
       "9552                                      italian popcorn        1   \n",
       "221488                            lemon honey vinaigrette        1   \n",
       "217406  carrot cucumber and celery juice refresher for...        1   \n",
       "220229                                     comeback sauce        1   \n",
       "170912                            bbq beans  cowboy beans        1   \n",
       "\n",
       "                                                    steps  \n",
       "100335                                                 []  \n",
       "214888                                         [mix well]  \n",
       "225625  [stir spices together and store in airtight co...  \n",
       "85841   [sugar the rim of a champagne glass , pour ing...  \n",
       "18302   [mix turkey , cream cheese and chutney and pla...  \n",
       "9552    [melt the butter and stir in the seasonings , ...  \n",
       "221488       [mix all ingredients in a small bowl or jar]  \n",
       "217406  [wash and cut each vegetable and feed through ...  \n",
       "220229  [mix all the ingredients and store in refriger...  \n",
       "170912     [combine and cook for one hour at 350 degrees]  "
      ]
     },
     "execution_count": 32,
     "metadata": {},
     "output_type": "execute_result"
    }
   ],
   "source": [
    "df_g = df_g.drop(df_g['n_steps'].idxmax())\n",
    "df_g[['name','n_steps','steps']].head(10)"
   ]
  },
  {
   "cell_type": "markdown",
   "metadata": {},
   "source": [
    "Après analyse des steps de la valeur maximale, il n'y a pas de raison de retirés la recette et de la considèrés comme une valeure aberrantes "
   ]
  },
  {
   "cell_type": "code",
   "execution_count": 33,
   "metadata": {},
   "outputs": [
    {
     "data": {
      "text/html": [
       "<div>\n",
       "<style scoped>\n",
       "    .dataframe tbody tr th:only-of-type {\n",
       "        vertical-align: middle;\n",
       "    }\n",
       "\n",
       "    .dataframe tbody tr th {\n",
       "        vertical-align: top;\n",
       "    }\n",
       "\n",
       "    .dataframe thead th {\n",
       "        text-align: right;\n",
       "    }\n",
       "</style>\n",
       "<table border=\"1\" class=\"dataframe\">\n",
       "  <thead>\n",
       "    <tr style=\"text-align: right;\">\n",
       "      <th></th>\n",
       "      <th>name</th>\n",
       "      <th>n_steps</th>\n",
       "      <th>steps</th>\n",
       "    </tr>\n",
       "  </thead>\n",
       "  <tbody>\n",
       "    <tr>\n",
       "      <th>100335</th>\n",
       "      <td>all season bread</td>\n",
       "      <td>0</td>\n",
       "      <td>[]</td>\n",
       "    </tr>\n",
       "    <tr>\n",
       "      <th>48831</th>\n",
       "      <td>mediterranean cheese spread</td>\n",
       "      <td>1</td>\n",
       "      <td>[combine all ingredients , cover and chill at ...</td>\n",
       "    </tr>\n",
       "    <tr>\n",
       "      <th>149839</th>\n",
       "      <td>grannydragon s green bean feta salad</td>\n",
       "      <td>1</td>\n",
       "      <td>[mix all ingredients together and enjoy]</td>\n",
       "    </tr>\n",
       "    <tr>\n",
       "      <th>166884</th>\n",
       "      <td>spice and herb marinade</td>\n",
       "      <td>1</td>\n",
       "      <td>[whisk all ingredients together in small bowl]</td>\n",
       "    </tr>\n",
       "    <tr>\n",
       "      <th>198578</th>\n",
       "      <td>chimichuri sauce</td>\n",
       "      <td>1</td>\n",
       "      <td>[blend ingredients and done !]</td>\n",
       "    </tr>\n",
       "  </tbody>\n",
       "</table>\n",
       "</div>"
      ],
      "text/plain": [
       "                                        name  n_steps  \\\n",
       "100335                      all season bread        0   \n",
       "48831            mediterranean cheese spread        1   \n",
       "149839  grannydragon s green bean feta salad        1   \n",
       "166884               spice and herb marinade        1   \n",
       "198578                      chimichuri sauce        1   \n",
       "\n",
       "                                                    steps  \n",
       "100335                                                 []  \n",
       "48831   [combine all ingredients , cover and chill at ...  \n",
       "149839           [mix all ingredients together and enjoy]  \n",
       "166884     [whisk all ingredients together in small bowl]  \n",
       "198578                     [blend ingredients and done !]  "
      ]
     },
     "execution_count": 33,
     "metadata": {},
     "output_type": "execute_result"
    }
   ],
   "source": [
    "df_g  = df_g.sort_values('n_steps',ascending=True)\n",
    "df_g[['name','n_steps','steps']].head(5)"
   ]
  },
  {
   "cell_type": "code",
   "execution_count": 34,
   "metadata": {},
   "outputs": [
    {
     "data": {
      "text/html": [
       "<div>\n",
       "<style scoped>\n",
       "    .dataframe tbody tr th:only-of-type {\n",
       "        vertical-align: middle;\n",
       "    }\n",
       "\n",
       "    .dataframe tbody tr th {\n",
       "        vertical-align: top;\n",
       "    }\n",
       "\n",
       "    .dataframe thead th {\n",
       "        text-align: right;\n",
       "    }\n",
       "</style>\n",
       "<table border=\"1\" class=\"dataframe\">\n",
       "  <thead>\n",
       "    <tr style=\"text-align: right;\">\n",
       "      <th></th>\n",
       "      <th>name</th>\n",
       "      <th>n_steps</th>\n",
       "      <th>steps</th>\n",
       "    </tr>\n",
       "  </thead>\n",
       "  <tbody>\n",
       "    <tr>\n",
       "      <th>48831</th>\n",
       "      <td>mediterranean cheese spread</td>\n",
       "      <td>1</td>\n",
       "      <td>[combine all ingredients , cover and chill at ...</td>\n",
       "    </tr>\n",
       "    <tr>\n",
       "      <th>149839</th>\n",
       "      <td>grannydragon s green bean feta salad</td>\n",
       "      <td>1</td>\n",
       "      <td>[mix all ingredients together and enjoy]</td>\n",
       "    </tr>\n",
       "    <tr>\n",
       "      <th>166884</th>\n",
       "      <td>spice and herb marinade</td>\n",
       "      <td>1</td>\n",
       "      <td>[whisk all ingredients together in small bowl]</td>\n",
       "    </tr>\n",
       "    <tr>\n",
       "      <th>198578</th>\n",
       "      <td>chimichuri sauce</td>\n",
       "      <td>1</td>\n",
       "      <td>[blend ingredients and done !]</td>\n",
       "    </tr>\n",
       "    <tr>\n",
       "      <th>153832</th>\n",
       "      <td>bonedust seasoning</td>\n",
       "      <td>1</td>\n",
       "      <td>[mix and store in jar]</td>\n",
       "    </tr>\n",
       "  </tbody>\n",
       "</table>\n",
       "</div>"
      ],
      "text/plain": [
       "                                        name  n_steps  \\\n",
       "48831            mediterranean cheese spread        1   \n",
       "149839  grannydragon s green bean feta salad        1   \n",
       "166884               spice and herb marinade        1   \n",
       "198578                      chimichuri sauce        1   \n",
       "153832                    bonedust seasoning        1   \n",
       "\n",
       "                                                    steps  \n",
       "48831   [combine all ingredients , cover and chill at ...  \n",
       "149839           [mix all ingredients together and enjoy]  \n",
       "166884     [whisk all ingredients together in small bowl]  \n",
       "198578                     [blend ingredients and done !]  \n",
       "153832                             [mix and store in jar]  "
      ]
     },
     "execution_count": 34,
     "metadata": {},
     "output_type": "execute_result"
    }
   ],
   "source": [
    "\n",
    "df_g = df_g.drop(df_g['steps'].idxmin())\n",
    "\n",
    "df_g[['name','n_steps','steps']].head(5)"
   ]
  },
  {
   "cell_type": "code",
   "execution_count": 35,
   "metadata": {},
   "outputs": [
    {
     "data": {
      "text/plain": [
       "Text(0, 0.5, 'Steps')"
      ]
     },
     "execution_count": 35,
     "metadata": {},
     "output_type": "execute_result"
    },
    {
     "data": {
      "image/png": "[encoded data removed]",
      "text/plain": [
       "<Figure size 640x480 with 1 Axes>"
      ]
     },
     "metadata": {},
     "output_type": "display_data"
    }
   ],
   "source": [
    "plt.figure()\n",
    "sb.violinplot(df_g['n_steps'],inner='quartile')\n",
    "plt.ylabel('Steps')"
   ]
  },
  {
   "cell_type": "code",
   "execution_count": 36,
   "metadata": {},
   "outputs": [
    {
     "data": {
      "image/png": "[encoded data removed]",
      "text/plain": [
       "<Figure size 640x480 with 1 Axes>"
      ]
     },
     "metadata": {},
     "output_type": "display_data"
    }
   ],
   "source": [
    "plt.figure()\n",
    "sb.histplot(df_g['n_steps'], kde=True, bins=40)\n",
    "plt.title(\"Histogramme des minutes\")\n",
    "plt.xlabel('Log minutes')\n",
    "plt.show()\n"
   ]
  },
  {
   "cell_type": "code",
   "execution_count": 37,
   "metadata": {},
   "outputs": [
    {
     "name": "stdout",
     "output_type": "stream",
     "text": [
      "Skewness: 1.9925362028814684\n",
      "Kurtosis: 9.652143142631697\n"
     ]
    }
   ],
   "source": [
    "skewness_minutes = scipy.stats.skew(df_g['n_steps'])\n",
    "kurt_minutes = scipy.stats.kurtosis(df_g['n_steps'])\n",
    "\n",
    "print(f'Skewness: {skewness_minutes}')\n",
    "print(f'Kurtosis: {kurt_minutes}')"
   ]
  },
  {
   "cell_type": "markdown",
   "metadata": {},
   "source": [
    "Toujours une présences d'outliers qui augmente les valeurs de skewness et kurtosis\n",
    "\n",
    "Skewness > 0 : La distribution est asymétrique avec une masse importante à gauche\n",
    "\n",
    "Kurtnosis > 3 : Valeurs très proche de la moyenne mais des outliers important"
   ]
  },
  {
   "cell_type": "markdown",
   "metadata": {},
   "source": [
    "##### Colonne : *n_ingredients*"
   ]
  },
  {
   "cell_type": "code",
   "execution_count": 38,
   "metadata": {},
   "outputs": [
    {
     "data": {
      "text/html": [
       "<div>\n",
       "<style scoped>\n",
       "    .dataframe tbody tr th:only-of-type {\n",
       "        vertical-align: middle;\n",
       "    }\n",
       "\n",
       "    .dataframe tbody tr th {\n",
       "        vertical-align: top;\n",
       "    }\n",
       "\n",
       "    .dataframe thead th {\n",
       "        text-align: right;\n",
       "    }\n",
       "</style>\n",
       "<table border=\"1\" class=\"dataframe\">\n",
       "  <thead>\n",
       "    <tr style=\"text-align: right;\">\n",
       "      <th></th>\n",
       "      <th>name</th>\n",
       "      <th>n_ingredients</th>\n",
       "      <th>ingredients</th>\n",
       "    </tr>\n",
       "  </thead>\n",
       "  <tbody>\n",
       "    <tr>\n",
       "      <th>1272</th>\n",
       "      <td>a to z bread</td>\n",
       "      <td>43</td>\n",
       "      <td>[sugar, vegetable oil, eggs, vanilla extract, ...</td>\n",
       "    </tr>\n",
       "    <tr>\n",
       "      <th>140295</th>\n",
       "      <td>morton thompson turkey</td>\n",
       "      <td>40</td>\n",
       "      <td>[whole turkey, canola oil, salt, fresh ground ...</td>\n",
       "    </tr>\n",
       "    <tr>\n",
       "      <th>129591</th>\n",
       "      <td>z  best two faced jerk</td>\n",
       "      <td>40</td>\n",
       "      <td>[chicken breasts, fresh lime juice, salt, pepp...</td>\n",
       "    </tr>\n",
       "    <tr>\n",
       "      <th>66233</th>\n",
       "      <td>kato s  garage  style    tomato sauce   meatba...</td>\n",
       "      <td>39</td>\n",
       "      <td>[sweet onion, garlic cloves, green pepper, red...</td>\n",
       "    </tr>\n",
       "    <tr>\n",
       "      <th>135862</th>\n",
       "      <td>basic fried rice   with variations</td>\n",
       "      <td>38</td>\n",
       "      <td>[brown rice, green onions, oil, soy sauce, sal...</td>\n",
       "    </tr>\n",
       "    <tr>\n",
       "      <th>67952</th>\n",
       "      <td>land and sea white meat version of surf and turf</td>\n",
       "      <td>37</td>\n",
       "      <td>[apricot, nectarine, red pepper, jalapeno, gar...</td>\n",
       "    </tr>\n",
       "    <tr>\n",
       "      <th>227651</th>\n",
       "      <td>sunday supper taco salad bowls   tacos</td>\n",
       "      <td>37</td>\n",
       "      <td>[flour tortillas, ground beef, vegetable oil, ...</td>\n",
       "    </tr>\n",
       "    <tr>\n",
       "      <th>28276</th>\n",
       "      <td>dhansak with brown rice</td>\n",
       "      <td>36</td>\n",
       "      <td>[tuvar dal, masoor dal, yellow moong dal, dal,...</td>\n",
       "    </tr>\n",
       "    <tr>\n",
       "      <th>103690</th>\n",
       "      <td>bill s calzones</td>\n",
       "      <td>35</td>\n",
       "      <td>[tomato sauce, onions, garlic cloves, mushroom...</td>\n",
       "    </tr>\n",
       "    <tr>\n",
       "      <th>4837</th>\n",
       "      <td>hillbilly bean soup</td>\n",
       "      <td>35</td>\n",
       "      <td>[7 bean mix, water, ham bone, bay leaf, hot ch...</td>\n",
       "    </tr>\n",
       "  </tbody>\n",
       "</table>\n",
       "</div>"
      ],
      "text/plain": [
       "                                                     name  n_ingredients  \\\n",
       "1272                                         a to z bread             43   \n",
       "140295                             morton thompson turkey             40   \n",
       "129591                             z  best two faced jerk             40   \n",
       "66233   kato s  garage  style    tomato sauce   meatba...             39   \n",
       "135862                 basic fried rice   with variations             38   \n",
       "67952    land and sea white meat version of surf and turf             37   \n",
       "227651             sunday supper taco salad bowls   tacos             37   \n",
       "28276                             dhansak with brown rice             36   \n",
       "103690                                    bill s calzones             35   \n",
       "4837                                  hillbilly bean soup             35   \n",
       "\n",
       "                                              ingredients  \n",
       "1272    [sugar, vegetable oil, eggs, vanilla extract, ...  \n",
       "140295  [whole turkey, canola oil, salt, fresh ground ...  \n",
       "129591  [chicken breasts, fresh lime juice, salt, pepp...  \n",
       "66233   [sweet onion, garlic cloves, green pepper, red...  \n",
       "135862  [brown rice, green onions, oil, soy sauce, sal...  \n",
       "67952   [apricot, nectarine, red pepper, jalapeno, gar...  \n",
       "227651  [flour tortillas, ground beef, vegetable oil, ...  \n",
       "28276   [tuvar dal, masoor dal, yellow moong dal, dal,...  \n",
       "103690  [tomato sauce, onions, garlic cloves, mushroom...  \n",
       "4837    [7 bean mix, water, ham bone, bay leaf, hot ch...  "
      ]
     },
     "execution_count": 38,
     "metadata": {},
     "output_type": "execute_result"
    }
   ],
   "source": [
    "df_g  = df_g.sort_values('n_ingredients',ascending=False)\n",
    "df_g[['name','n_ingredients','ingredients']].head(10)"
   ]
  },
  {
   "cell_type": "code",
   "execution_count": 39,
   "metadata": {},
   "outputs": [
    {
     "data": {
      "text/plain": [
       "['sugar',\n",
       " 'vegetable oil',\n",
       " 'eggs',\n",
       " 'vanilla extract',\n",
       " 'all-purpose flour',\n",
       " 'cinnamon',\n",
       " 'baking powder',\n",
       " 'baking soda',\n",
       " 'salt',\n",
       " 'walnuts',\n",
       " 'apples',\n",
       " 'applesauce',\n",
       " 'apricots',\n",
       " 'bananas',\n",
       " 'carrots',\n",
       " 'cherries',\n",
       " 'fresh coconut',\n",
       " 'dates',\n",
       " 'eggplants',\n",
       " 'figs',\n",
       " 'seedless grapes',\n",
       " 'honey',\n",
       " 'lemon juice',\n",
       " 'marmalade',\n",
       " 'mincemeat',\n",
       " 'oranges',\n",
       " 'peaches',\n",
       " 'of fresh mint',\n",
       " 'pears',\n",
       " 'crushed pineapple',\n",
       " 'prune',\n",
       " 'canned pumpkin',\n",
       " 'raisins',\n",
       " 'raspberries',\n",
       " 'rhubarb',\n",
       " 'fresh strawberries',\n",
       " 'frozen strawberries',\n",
       " 'sweet potatoes',\n",
       " 'tapioca',\n",
       " 'tomatoes',\n",
       " 'yams',\n",
       " 'yogurt',\n",
       " 'zucchini']"
      ]
     },
     "execution_count": 39,
     "metadata": {},
     "output_type": "execute_result"
    }
   ],
   "source": [
    "df_g['ingredients'].iloc[0]\n"
   ]
  },
  {
   "cell_type": "code",
   "execution_count": 40,
   "metadata": {},
   "outputs": [
    {
     "data": {
      "text/plain": [
       "['in a mixing bowl , combine the sugar , oil and eggs',\n",
       " 'mix well',\n",
       " 'stir in a-to-z ingredients of your choice and vanilla',\n",
       " 'combine flour cinnamon , baking powder , baking soda and salt',\n",
       " 'stir into liquid ingredients just until moistened',\n",
       " 'stir in nuts',\n",
       " 'pour into two greased 8-in',\n",
       " 'x 4-in',\n",
       " 'x 2-in',\n",
       " 'loaf pans',\n",
       " 'bake at 325 f for 55-65 minutes or until a wooden pick inserted near the center comes out clean',\n",
       " 'cool in pan 10 minutes before removing to a wire rack']"
      ]
     },
     "execution_count": 40,
     "metadata": {},
     "output_type": "execute_result"
    }
   ],
   "source": [
    "df_g['steps'].iloc[0]"
   ]
  },
  {
   "cell_type": "markdown",
   "metadata": {},
   "source": [
    "Il y un nombre très important d'ingrédients car la recette propose de mettre \"ce qu'on veut\" dans le pain préparer.\n",
    "_Valeur aberrante ?_"
   ]
  },
  {
   "cell_type": "code",
   "execution_count": 41,
   "metadata": {},
   "outputs": [
    {
     "data": {
      "text/plain": [
       "['preheat oven to 500f',\n",
       " 'chop fine the reserved turkey fat',\n",
       " 'in a small saucepan set over moderate heat , combine the reserved fat with 1 / 2 cup of the water',\n",
       " 'bring to a boil and simmer until all the water has evaporated and only clear fat and small pieces of solid remain',\n",
       " 'reserve fat for stuffing',\n",
       " 'season the inside of the turkey with salt and pepper',\n",
       " 'rub the skin all over with the oil and season with salt and pepper',\n",
       " 'prepare the giblets for the basting liquid',\n",
       " 'bring to a boil and simmer the entire time you for basting',\n",
       " 'add more water as needed',\n",
       " 'meat mixture: melt butter & brown veal , pork',\n",
       " 'cool and add to bread crumbs , combine >',\n",
       " 'make the dressing:',\n",
       " 'prep bowl of fruits : combine all ingredients',\n",
       " 'prep bowl of seasonings : combine all ingredients',\n",
       " 'prep bowl of breadcrumbs and cooked meat mixture',\n",
       " 'in a very large bowl combine ingredients from all three bowls listed above',\n",
       " 'mix it well',\n",
       " 'loosely stuff the turkey',\n",
       " 'stuff the neck cavity and sew closed the openings',\n",
       " 'tie legs together',\n",
       " 'in a separate bowl: make the paste with ingredients listed above',\n",
       " 'combine all ingredients for paste in a bowl , adding enough flour to form a thick paste',\n",
       " 'in a large open roasting pan with a rack: arrange turkey breast side down on a rack sitting in a shallow roasting pan',\n",
       " 'preheat oven to 500',\n",
       " 'put the turkey in the oven and roast it for 15 minutes , or until browned',\n",
       " 'turn it breast side up and roast for and additional 15 minutes',\n",
       " 'remove from oven',\n",
       " \"now that it's nice and brown , using a pastry or paint brush coat the turkey completely with the paste -- in every nook and cranny\",\n",
       " 'reduce oven temperature to 325f',\n",
       " 'to the simmering basting liquid , continue to add cider and water and reduce until all cider has been added',\n",
       " 'remove from heat but keep warm on top of stove',\n",
       " 'this is your basting liquid',\n",
       " 'roast the bird , basting it frequently , for 4 1 / 2 to 5 hours , or until an instant meat thermometer reads 180 to 185 in the thigh',\n",
       " '170 in the breast and 160 in the stuffing',\n",
       " 'let rest at least 15 to 20 minutes , before peeling away crust / skin',\n",
       " 'make gravy as usual',\n",
       " 'remove the dressing',\n",
       " 'carve as usual & enjoy !']"
      ]
     },
     "execution_count": 41,
     "metadata": {},
     "output_type": "execute_result"
    }
   ],
   "source": [
    "df_g['steps'].iloc[1]"
   ]
  },
  {
   "cell_type": "markdown",
   "metadata": {},
   "source": [
    "Semble plus cohérent entre le nombre d'ingrédients et les étapes."
   ]
  },
  {
   "cell_type": "code",
   "execution_count": 42,
   "metadata": {},
   "outputs": [],
   "source": [
    "df_g = df_g.drop(df_g['n_steps'].idxmax())"
   ]
  },
  {
   "cell_type": "code",
   "execution_count": 43,
   "metadata": {},
   "outputs": [
    {
     "data": {
      "text/html": [
       "<div>\n",
       "<style scoped>\n",
       "    .dataframe tbody tr th:only-of-type {\n",
       "        vertical-align: middle;\n",
       "    }\n",
       "\n",
       "    .dataframe tbody tr th {\n",
       "        vertical-align: top;\n",
       "    }\n",
       "\n",
       "    .dataframe thead th {\n",
       "        text-align: right;\n",
       "    }\n",
       "</style>\n",
       "<table border=\"1\" class=\"dataframe\">\n",
       "  <thead>\n",
       "    <tr style=\"text-align: right;\">\n",
       "      <th></th>\n",
       "      <th>name</th>\n",
       "      <th>n_ingredients</th>\n",
       "      <th>ingredients</th>\n",
       "    </tr>\n",
       "  </thead>\n",
       "  <tbody>\n",
       "    <tr>\n",
       "      <th>182017</th>\n",
       "      <td>super easy  baking bacon</td>\n",
       "      <td>1</td>\n",
       "      <td>[bacon]</td>\n",
       "    </tr>\n",
       "    <tr>\n",
       "      <th>128875</th>\n",
       "      <td>easy granita</td>\n",
       "      <td>1</td>\n",
       "      <td>[red seedless grapes]</td>\n",
       "    </tr>\n",
       "    <tr>\n",
       "      <th>12934</th>\n",
       "      <td>melba toast</td>\n",
       "      <td>1</td>\n",
       "      <td>[white bread]</td>\n",
       "    </tr>\n",
       "    <tr>\n",
       "      <th>207501</th>\n",
       "      <td>chocolate  dirt</td>\n",
       "      <td>1</td>\n",
       "      <td>[dark chocolate chips]</td>\n",
       "    </tr>\n",
       "    <tr>\n",
       "      <th>22350</th>\n",
       "      <td>proper melba toast</td>\n",
       "      <td>1</td>\n",
       "      <td>[white bread]</td>\n",
       "    </tr>\n",
       "    <tr>\n",
       "      <th>189452</th>\n",
       "      <td>super easy  baking sausage</td>\n",
       "      <td>1</td>\n",
       "      <td>[breakfast sausage links]</td>\n",
       "    </tr>\n",
       "    <tr>\n",
       "      <th>77869</th>\n",
       "      <td>healthy salt substitute</td>\n",
       "      <td>1</td>\n",
       "      <td>[celery]</td>\n",
       "    </tr>\n",
       "    <tr>\n",
       "      <th>230741</th>\n",
       "      <td>apple cider reduction</td>\n",
       "      <td>1</td>\n",
       "      <td>[apple cider]</td>\n",
       "    </tr>\n",
       "    <tr>\n",
       "      <th>230265</th>\n",
       "      <td>how to choose and cut a mango</td>\n",
       "      <td>1</td>\n",
       "      <td>[mango]</td>\n",
       "    </tr>\n",
       "    <tr>\n",
       "      <th>158489</th>\n",
       "      <td>magic bullet powdered sugar</td>\n",
       "      <td>1</td>\n",
       "      <td>[sugar]</td>\n",
       "    </tr>\n",
       "  </tbody>\n",
       "</table>\n",
       "</div>"
      ],
      "text/plain": [
       "                                 name  n_ingredients  \\\n",
       "182017       super easy  baking bacon              1   \n",
       "128875                   easy granita              1   \n",
       "12934                     melba toast              1   \n",
       "207501                chocolate  dirt              1   \n",
       "22350              proper melba toast              1   \n",
       "189452     super easy  baking sausage              1   \n",
       "77869         healthy salt substitute              1   \n",
       "230741          apple cider reduction              1   \n",
       "230265  how to choose and cut a mango              1   \n",
       "158489    magic bullet powdered sugar              1   \n",
       "\n",
       "                      ingredients  \n",
       "182017                    [bacon]  \n",
       "128875      [red seedless grapes]  \n",
       "12934               [white bread]  \n",
       "207501     [dark chocolate chips]  \n",
       "22350               [white bread]  \n",
       "189452  [breakfast sausage links]  \n",
       "77869                    [celery]  \n",
       "230741              [apple cider]  \n",
       "230265                    [mango]  \n",
       "158489                    [sugar]  "
      ]
     },
     "execution_count": 43,
     "metadata": {},
     "output_type": "execute_result"
    }
   ],
   "source": [
    "df_g  = df_g.sort_values('n_ingredients',ascending=True)\n",
    "df_g[['name','n_ingredients','ingredients']].head(10)"
   ]
  },
  {
   "cell_type": "code",
   "execution_count": 44,
   "metadata": {},
   "outputs": [
    {
     "data": {
      "text/plain": [
       "Text(0, 0.5, 'Ingredients')"
      ]
     },
     "execution_count": 44,
     "metadata": {},
     "output_type": "execute_result"
    },
    {
     "data": {
      "image/png": "[encoded data removed]",
      "text/plain": [
       "<Figure size 640x480 with 1 Axes>"
      ]
     },
     "metadata": {},
     "output_type": "display_data"
    }
   ],
   "source": [
    "plt.figure()\n",
    "sb.violinplot(df_g['n_ingredients'],inner='quartile')\n",
    "plt.ylabel('Ingredients')"
   ]
  },
  {
   "cell_type": "code",
   "execution_count": 45,
   "metadata": {},
   "outputs": [
    {
     "data": {
      "image/png": "[encoded data removed]",
      "text/plain": [
       "<Figure size 640x480 with 1 Axes>"
      ]
     },
     "metadata": {},
     "output_type": "display_data"
    }
   ],
   "source": [
    "plt.figure()\n",
    "sb.histplot(df_g['n_ingredients'], kde=True, bins=40)\n",
    "plt.title(\"Histogramme des ingredients\")\n",
    "plt.xlabel('Ingredients')\n",
    "plt.show()"
   ]
  },
  {
   "cell_type": "code",
   "execution_count": 46,
   "metadata": {},
   "outputs": [
    {
     "name": "stdout",
     "output_type": "stream",
     "text": [
      "Skewness: 0.7709227207720828\n",
      "Kurtosis: 1.1853038670428058\n"
     ]
    }
   ],
   "source": [
    "skewness_minutes = scipy.stats.skew(df_g['n_ingredients'])\n",
    "kurt_minutes = scipy.stats.kurtosis(df_g['n_ingredients'])\n",
    "\n",
    "print(f'Skewness: {skewness_minutes}')\n",
    "print(f'Kurtosis: {kurt_minutes}')"
   ]
  },
  {
   "cell_type": "markdown",
   "metadata": {},
   "source": [
    "### Analyse de Submitted et de Date"
   ]
  },
  {
   "cell_type": "markdown",
   "metadata": {},
   "source": []
  },
  {
   "cell_type": "code",
   "execution_count": 47,
   "metadata": {},
   "outputs": [
    {
     "data": {
      "text/html": [
       "<div>\n",
       "<style scoped>\n",
       "    .dataframe tbody tr th:only-of-type {\n",
       "        vertical-align: middle;\n",
       "    }\n",
       "\n",
       "    .dataframe tbody tr th {\n",
       "        vertical-align: top;\n",
       "    }\n",
       "\n",
       "    .dataframe thead th {\n",
       "        text-align: right;\n",
       "    }\n",
       "</style>\n",
       "<table border=\"1\" class=\"dataframe\">\n",
       "  <thead>\n",
       "    <tr style=\"text-align: right;\">\n",
       "      <th></th>\n",
       "      <th>recipe_id</th>\n",
       "      <th>name</th>\n",
       "      <th>minutes</th>\n",
       "      <th>contributor_id</th>\n",
       "      <th>submitted</th>\n",
       "      <th>tags</th>\n",
       "      <th>nutrition</th>\n",
       "      <th>steps</th>\n",
       "      <th>n_steps</th>\n",
       "      <th>description</th>\n",
       "      <th>ingredients</th>\n",
       "      <th>n_ingredients</th>\n",
       "      <th>review</th>\n",
       "      <th>date</th>\n",
       "      <th>user_id</th>\n",
       "      <th>rating</th>\n",
       "    </tr>\n",
       "  </thead>\n",
       "  <tbody>\n",
       "    <tr>\n",
       "      <th>182017</th>\n",
       "      <td>355130</td>\n",
       "      <td>super easy  baking bacon</td>\n",
       "      <td>95</td>\n",
       "      <td>804550</td>\n",
       "      <td>2009-02-10</td>\n",
       "      <td>[bacon, time-to-make, course, main-ingredient,...</td>\n",
       "      <td>[1038.7, 157.0, 0.0, 78.0, 52.0, 170.0, 0.0]</td>\n",
       "      <td>[preheat oven to 400 degrees f, line a 10\"x15\"...</td>\n",
       "      <td>10</td>\n",
       "      <td>my daughter taught me to cook bacon with no sp...</td>\n",
       "      <td>[bacon]</td>\n",
       "      <td>1</td>\n",
       "      <td>[This is a super method to cook bacon.  So eas...</td>\n",
       "      <td>[2009-03-29 00:00:00, 2009-07-05 00:00:00, 200...</td>\n",
       "      <td>[383346, 387912, 1072593, 25177, 210117, 13317...</td>\n",
       "      <td>[5, 5, 5, 5, 5, 5, 5, 5, 5, 5, 5, 5, 5, 0, 5]</td>\n",
       "    </tr>\n",
       "    <tr>\n",
       "      <th>128875</th>\n",
       "      <td>233253</td>\n",
       "      <td>easy granita</td>\n",
       "      <td>5</td>\n",
       "      <td>226066</td>\n",
       "      <td>2007-06-07</td>\n",
       "      <td>[15-minutes-or-less, time-to-make, main-ingred...</td>\n",
       "      <td>[55.2, 0.0, 49.0, 0.0, 1.0, 0.0, 4.0]</td>\n",
       "      <td>[place the grapes or strawberries in the freez...</td>\n",
       "      <td>4</td>\n",
       "      <td>from weight watchers website.</td>\n",
       "      <td>[red seedless grapes]</td>\n",
       "      <td>1</td>\n",
       "      <td>[What a cool treat! I used strawberries this t...</td>\n",
       "      <td>[2007-06-20 00:00:00, 2007-06-26 00:00:00]</td>\n",
       "      <td>[83093, 25455]</td>\n",
       "      <td>[5, 4]</td>\n",
       "    </tr>\n",
       "    <tr>\n",
       "      <th>12934</th>\n",
       "      <td>24802</td>\n",
       "      <td>melba toast</td>\n",
       "      <td>15</td>\n",
       "      <td>23302</td>\n",
       "      <td>2002-04-09</td>\n",
       "      <td>[15-minutes-or-less, time-to-make, course, mai...</td>\n",
       "      <td>[133.0, 2.0, 8.0, 10.0, 7.0, 1.0, 8.0]</td>\n",
       "      <td>[preheat the broiler to high and toast the bre...</td>\n",
       "      <td>5</td>\n",
       "      <td>homemade melba toast has the edge on the bough...</td>\n",
       "      <td>[white bread]</td>\n",
       "      <td>1</td>\n",
       "      <td>[My husband made this years ago, he had gotten...</td>\n",
       "      <td>[2005-12-31 00:00:00, 2011-12-14 00:00:00]</td>\n",
       "      <td>[53002, 1026228]</td>\n",
       "      <td>[5, 5]</td>\n",
       "    </tr>\n",
       "    <tr>\n",
       "      <th>207501</th>\n",
       "      <td>425260</td>\n",
       "      <td>chocolate  dirt</td>\n",
       "      <td>5</td>\n",
       "      <td>730126</td>\n",
       "      <td>2010-05-13</td>\n",
       "      <td>[15-minutes-or-less, time-to-make, course, pre...</td>\n",
       "      <td>[201.2, 19.0, 91.0, 0.0, 3.0, 37.0, 8.0]</td>\n",
       "      <td>[place chips in a coffee grinder, grind until ...</td>\n",
       "      <td>3</td>\n",
       "      <td>this chocolate \"dirt\" is perfect for dusting c...</td>\n",
       "      <td>[dark chocolate chips]</td>\n",
       "      <td>1</td>\n",
       "      <td>[I do this a lot with milk chocolate when maki...</td>\n",
       "      <td>[2010-07-28 00:00:00]</td>\n",
       "      <td>[513230]</td>\n",
       "      <td>[5]</td>\n",
       "    </tr>\n",
       "    <tr>\n",
       "      <th>22350</th>\n",
       "      <td>40247</td>\n",
       "      <td>proper melba toast</td>\n",
       "      <td>20</td>\n",
       "      <td>52448</td>\n",
       "      <td>2002-09-15</td>\n",
       "      <td>[30-minutes-or-less, time-to-make, course, pre...</td>\n",
       "      <td>[33.2, 0.0, 2.0, 2.0, 1.0, 0.0, 2.0]</td>\n",
       "      <td>[toast the bread slices on both sides , under ...</td>\n",
       "      <td>8</td>\n",
       "      <td>this is easy and well worth the effort. serve ...</td>\n",
       "      <td>[white bread]</td>\n",
       "      <td>1</td>\n",
       "      <td>[I did a lot of experimentation with this reci...</td>\n",
       "      <td>[2003-05-05 00:00:00, 2003-07-28 00:00:00, 200...</td>\n",
       "      <td>[48136, 52282, 68715, 281871, 551498, 226462]</td>\n",
       "      <td>[5, 5, 5, 5, 5, 5]</td>\n",
       "    </tr>\n",
       "  </tbody>\n",
       "</table>\n",
       "</div>"
      ],
      "text/plain": [
       "       recipe_id                      name  minutes contributor_id  submitted  \\\n",
       "182017    355130  super easy  baking bacon       95         804550 2009-02-10   \n",
       "128875    233253              easy granita        5         226066 2007-06-07   \n",
       "12934      24802               melba toast       15          23302 2002-04-09   \n",
       "207501    425260           chocolate  dirt        5         730126 2010-05-13   \n",
       "22350      40247        proper melba toast       20          52448 2002-09-15   \n",
       "\n",
       "                                                     tags  \\\n",
       "182017  [bacon, time-to-make, course, main-ingredient,...   \n",
       "128875  [15-minutes-or-less, time-to-make, main-ingred...   \n",
       "12934   [15-minutes-or-less, time-to-make, course, mai...   \n",
       "207501  [15-minutes-or-less, time-to-make, course, pre...   \n",
       "22350   [30-minutes-or-less, time-to-make, course, pre...   \n",
       "\n",
       "                                           nutrition  \\\n",
       "182017  [1038.7, 157.0, 0.0, 78.0, 52.0, 170.0, 0.0]   \n",
       "128875         [55.2, 0.0, 49.0, 0.0, 1.0, 0.0, 4.0]   \n",
       "12934         [133.0, 2.0, 8.0, 10.0, 7.0, 1.0, 8.0]   \n",
       "207501      [201.2, 19.0, 91.0, 0.0, 3.0, 37.0, 8.0]   \n",
       "22350           [33.2, 0.0, 2.0, 2.0, 1.0, 0.0, 2.0]   \n",
       "\n",
       "                                                    steps  n_steps  \\\n",
       "182017  [preheat oven to 400 degrees f, line a 10\"x15\"...       10   \n",
       "128875  [place the grapes or strawberries in the freez...        4   \n",
       "12934   [preheat the broiler to high and toast the bre...        5   \n",
       "207501  [place chips in a coffee grinder, grind until ...        3   \n",
       "22350   [toast the bread slices on both sides , under ...        8   \n",
       "\n",
       "                                              description  \\\n",
       "182017  my daughter taught me to cook bacon with no sp...   \n",
       "128875                      from weight watchers website.   \n",
       "12934   homemade melba toast has the edge on the bough...   \n",
       "207501  this chocolate \"dirt\" is perfect for dusting c...   \n",
       "22350   this is easy and well worth the effort. serve ...   \n",
       "\n",
       "                   ingredients  n_ingredients  \\\n",
       "182017                 [bacon]              1   \n",
       "128875   [red seedless grapes]              1   \n",
       "12934            [white bread]              1   \n",
       "207501  [dark chocolate chips]              1   \n",
       "22350            [white bread]              1   \n",
       "\n",
       "                                                   review  \\\n",
       "182017  [This is a super method to cook bacon.  So eas...   \n",
       "128875  [What a cool treat! I used strawberries this t...   \n",
       "12934   [My husband made this years ago, he had gotten...   \n",
       "207501  [I do this a lot with milk chocolate when maki...   \n",
       "22350   [I did a lot of experimentation with this reci...   \n",
       "\n",
       "                                                     date  \\\n",
       "182017  [2009-03-29 00:00:00, 2009-07-05 00:00:00, 200...   \n",
       "128875         [2007-06-20 00:00:00, 2007-06-26 00:00:00]   \n",
       "12934          [2005-12-31 00:00:00, 2011-12-14 00:00:00]   \n",
       "207501                              [2010-07-28 00:00:00]   \n",
       "22350   [2003-05-05 00:00:00, 2003-07-28 00:00:00, 200...   \n",
       "\n",
       "                                                  user_id  \\\n",
       "182017  [383346, 387912, 1072593, 25177, 210117, 13317...   \n",
       "128875                                     [83093, 25455]   \n",
       "12934                                    [53002, 1026228]   \n",
       "207501                                           [513230]   \n",
       "22350       [48136, 52282, 68715, 281871, 551498, 226462]   \n",
       "\n",
       "                                               rating  \n",
       "182017  [5, 5, 5, 5, 5, 5, 5, 5, 5, 5, 5, 5, 5, 0, 5]  \n",
       "128875                                         [5, 4]  \n",
       "12934                                          [5, 5]  \n",
       "207501                                            [5]  \n",
       "22350                              [5, 5, 5, 5, 5, 5]  "
      ]
     },
     "execution_count": 47,
     "metadata": {},
     "output_type": "execute_result"
    }
   ],
   "source": [
    "df_g.head()"
   ]
  },
  {
   "cell_type": "code",
   "execution_count": 48,
   "metadata": {},
   "outputs": [],
   "source": [
    "df_g['year'] = df_g['submitted'].dt.year\n",
    "df_g['month'] = df_g['submitted'].dt.month\n",
    "df_g['day'] = df_g['submitted'].dt.day\n",
    "df_g['day_of_week'] = df_g['submitted'].dt.day_name()\n"
   ]
  },
  {
   "cell_type": "code",
   "execution_count": 49,
   "metadata": {},
   "outputs": [
    {
     "data": {
      "text/html": [
       "<div>\n",
       "<style scoped>\n",
       "    .dataframe tbody tr th:only-of-type {\n",
       "        vertical-align: middle;\n",
       "    }\n",
       "\n",
       "    .dataframe tbody tr th {\n",
       "        vertical-align: top;\n",
       "    }\n",
       "\n",
       "    .dataframe thead th {\n",
       "        text-align: right;\n",
       "    }\n",
       "</style>\n",
       "<table border=\"1\" class=\"dataframe\">\n",
       "  <thead>\n",
       "    <tr style=\"text-align: right;\">\n",
       "      <th></th>\n",
       "      <th>recipe_id</th>\n",
       "      <th>name</th>\n",
       "      <th>minutes</th>\n",
       "      <th>contributor_id</th>\n",
       "      <th>submitted</th>\n",
       "      <th>tags</th>\n",
       "      <th>nutrition</th>\n",
       "      <th>steps</th>\n",
       "      <th>n_steps</th>\n",
       "      <th>description</th>\n",
       "      <th>ingredients</th>\n",
       "      <th>n_ingredients</th>\n",
       "      <th>review</th>\n",
       "      <th>date</th>\n",
       "      <th>user_id</th>\n",
       "      <th>rating</th>\n",
       "      <th>year</th>\n",
       "      <th>month</th>\n",
       "      <th>day</th>\n",
       "      <th>day_of_week</th>\n",
       "    </tr>\n",
       "  </thead>\n",
       "  <tbody>\n",
       "    <tr>\n",
       "      <th>182017</th>\n",
       "      <td>355130</td>\n",
       "      <td>super easy  baking bacon</td>\n",
       "      <td>95</td>\n",
       "      <td>804550</td>\n",
       "      <td>2009-02-10</td>\n",
       "      <td>[bacon, time-to-make, course, main-ingredient,...</td>\n",
       "      <td>[1038.7, 157.0, 0.0, 78.0, 52.0, 170.0, 0.0]</td>\n",
       "      <td>[preheat oven to 400 degrees f, line a 10\"x15\"...</td>\n",
       "      <td>10</td>\n",
       "      <td>my daughter taught me to cook bacon with no sp...</td>\n",
       "      <td>[bacon]</td>\n",
       "      <td>1</td>\n",
       "      <td>[This is a super method to cook bacon.  So eas...</td>\n",
       "      <td>[2009-03-29 00:00:00, 2009-07-05 00:00:00, 200...</td>\n",
       "      <td>[383346, 387912, 1072593, 25177, 210117, 13317...</td>\n",
       "      <td>[5, 5, 5, 5, 5, 5, 5, 5, 5, 5, 5, 5, 5, 0, 5]</td>\n",
       "      <td>2009</td>\n",
       "      <td>2</td>\n",
       "      <td>10</td>\n",
       "      <td>Tuesday</td>\n",
       "    </tr>\n",
       "    <tr>\n",
       "      <th>128875</th>\n",
       "      <td>233253</td>\n",
       "      <td>easy granita</td>\n",
       "      <td>5</td>\n",
       "      <td>226066</td>\n",
       "      <td>2007-06-07</td>\n",
       "      <td>[15-minutes-or-less, time-to-make, main-ingred...</td>\n",
       "      <td>[55.2, 0.0, 49.0, 0.0, 1.0, 0.0, 4.0]</td>\n",
       "      <td>[place the grapes or strawberries in the freez...</td>\n",
       "      <td>4</td>\n",
       "      <td>from weight watchers website.</td>\n",
       "      <td>[red seedless grapes]</td>\n",
       "      <td>1</td>\n",
       "      <td>[What a cool treat! I used strawberries this t...</td>\n",
       "      <td>[2007-06-20 00:00:00, 2007-06-26 00:00:00]</td>\n",
       "      <td>[83093, 25455]</td>\n",
       "      <td>[5, 4]</td>\n",
       "      <td>2007</td>\n",
       "      <td>6</td>\n",
       "      <td>7</td>\n",
       "      <td>Thursday</td>\n",
       "    </tr>\n",
       "    <tr>\n",
       "      <th>12934</th>\n",
       "      <td>24802</td>\n",
       "      <td>melba toast</td>\n",
       "      <td>15</td>\n",
       "      <td>23302</td>\n",
       "      <td>2002-04-09</td>\n",
       "      <td>[15-minutes-or-less, time-to-make, course, mai...</td>\n",
       "      <td>[133.0, 2.0, 8.0, 10.0, 7.0, 1.0, 8.0]</td>\n",
       "      <td>[preheat the broiler to high and toast the bre...</td>\n",
       "      <td>5</td>\n",
       "      <td>homemade melba toast has the edge on the bough...</td>\n",
       "      <td>[white bread]</td>\n",
       "      <td>1</td>\n",
       "      <td>[My husband made this years ago, he had gotten...</td>\n",
       "      <td>[2005-12-31 00:00:00, 2011-12-14 00:00:00]</td>\n",
       "      <td>[53002, 1026228]</td>\n",
       "      <td>[5, 5]</td>\n",
       "      <td>2002</td>\n",
       "      <td>4</td>\n",
       "      <td>9</td>\n",
       "      <td>Tuesday</td>\n",
       "    </tr>\n",
       "    <tr>\n",
       "      <th>207501</th>\n",
       "      <td>425260</td>\n",
       "      <td>chocolate  dirt</td>\n",
       "      <td>5</td>\n",
       "      <td>730126</td>\n",
       "      <td>2010-05-13</td>\n",
       "      <td>[15-minutes-or-less, time-to-make, course, pre...</td>\n",
       "      <td>[201.2, 19.0, 91.0, 0.0, 3.0, 37.0, 8.0]</td>\n",
       "      <td>[place chips in a coffee grinder, grind until ...</td>\n",
       "      <td>3</td>\n",
       "      <td>this chocolate \"dirt\" is perfect for dusting c...</td>\n",
       "      <td>[dark chocolate chips]</td>\n",
       "      <td>1</td>\n",
       "      <td>[I do this a lot with milk chocolate when maki...</td>\n",
       "      <td>[2010-07-28 00:00:00]</td>\n",
       "      <td>[513230]</td>\n",
       "      <td>[5]</td>\n",
       "      <td>2010</td>\n",
       "      <td>5</td>\n",
       "      <td>13</td>\n",
       "      <td>Thursday</td>\n",
       "    </tr>\n",
       "    <tr>\n",
       "      <th>22350</th>\n",
       "      <td>40247</td>\n",
       "      <td>proper melba toast</td>\n",
       "      <td>20</td>\n",
       "      <td>52448</td>\n",
       "      <td>2002-09-15</td>\n",
       "      <td>[30-minutes-or-less, time-to-make, course, pre...</td>\n",
       "      <td>[33.2, 0.0, 2.0, 2.0, 1.0, 0.0, 2.0]</td>\n",
       "      <td>[toast the bread slices on both sides , under ...</td>\n",
       "      <td>8</td>\n",
       "      <td>this is easy and well worth the effort. serve ...</td>\n",
       "      <td>[white bread]</td>\n",
       "      <td>1</td>\n",
       "      <td>[I did a lot of experimentation with this reci...</td>\n",
       "      <td>[2003-05-05 00:00:00, 2003-07-28 00:00:00, 200...</td>\n",
       "      <td>[48136, 52282, 68715, 281871, 551498, 226462]</td>\n",
       "      <td>[5, 5, 5, 5, 5, 5]</td>\n",
       "      <td>2002</td>\n",
       "      <td>9</td>\n",
       "      <td>15</td>\n",
       "      <td>Sunday</td>\n",
       "    </tr>\n",
       "  </tbody>\n",
       "</table>\n",
       "</div>"
      ],
      "text/plain": [
       "       recipe_id                      name  minutes contributor_id  submitted  \\\n",
       "182017    355130  super easy  baking bacon       95         804550 2009-02-10   \n",
       "128875    233253              easy granita        5         226066 2007-06-07   \n",
       "12934      24802               melba toast       15          23302 2002-04-09   \n",
       "207501    425260           chocolate  dirt        5         730126 2010-05-13   \n",
       "22350      40247        proper melba toast       20          52448 2002-09-15   \n",
       "\n",
       "                                                     tags  \\\n",
       "182017  [bacon, time-to-make, course, main-ingredient,...   \n",
       "128875  [15-minutes-or-less, time-to-make, main-ingred...   \n",
       "12934   [15-minutes-or-less, time-to-make, course, mai...   \n",
       "207501  [15-minutes-or-less, time-to-make, course, pre...   \n",
       "22350   [30-minutes-or-less, time-to-make, course, pre...   \n",
       "\n",
       "                                           nutrition  \\\n",
       "182017  [1038.7, 157.0, 0.0, 78.0, 52.0, 170.0, 0.0]   \n",
       "128875         [55.2, 0.0, 49.0, 0.0, 1.0, 0.0, 4.0]   \n",
       "12934         [133.0, 2.0, 8.0, 10.0, 7.0, 1.0, 8.0]   \n",
       "207501      [201.2, 19.0, 91.0, 0.0, 3.0, 37.0, 8.0]   \n",
       "22350           [33.2, 0.0, 2.0, 2.0, 1.0, 0.0, 2.0]   \n",
       "\n",
       "                                                    steps  n_steps  \\\n",
       "182017  [preheat oven to 400 degrees f, line a 10\"x15\"...       10   \n",
       "128875  [place the grapes or strawberries in the freez...        4   \n",
       "12934   [preheat the broiler to high and toast the bre...        5   \n",
       "207501  [place chips in a coffee grinder, grind until ...        3   \n",
       "22350   [toast the bread slices on both sides , under ...        8   \n",
       "\n",
       "                                              description  \\\n",
       "182017  my daughter taught me to cook bacon with no sp...   \n",
       "128875                      from weight watchers website.   \n",
       "12934   homemade melba toast has the edge on the bough...   \n",
       "207501  this chocolate \"dirt\" is perfect for dusting c...   \n",
       "22350   this is easy and well worth the effort. serve ...   \n",
       "\n",
       "                   ingredients  n_ingredients  \\\n",
       "182017                 [bacon]              1   \n",
       "128875   [red seedless grapes]              1   \n",
       "12934            [white bread]              1   \n",
       "207501  [dark chocolate chips]              1   \n",
       "22350            [white bread]              1   \n",
       "\n",
       "                                                   review  \\\n",
       "182017  [This is a super method to cook bacon.  So eas...   \n",
       "128875  [What a cool treat! I used strawberries this t...   \n",
       "12934   [My husband made this years ago, he had gotten...   \n",
       "207501  [I do this a lot with milk chocolate when maki...   \n",
       "22350   [I did a lot of experimentation with this reci...   \n",
       "\n",
       "                                                     date  \\\n",
       "182017  [2009-03-29 00:00:00, 2009-07-05 00:00:00, 200...   \n",
       "128875         [2007-06-20 00:00:00, 2007-06-26 00:00:00]   \n",
       "12934          [2005-12-31 00:00:00, 2011-12-14 00:00:00]   \n",
       "207501                              [2010-07-28 00:00:00]   \n",
       "22350   [2003-05-05 00:00:00, 2003-07-28 00:00:00, 200...   \n",
       "\n",
       "                                                  user_id  \\\n",
       "182017  [383346, 387912, 1072593, 25177, 210117, 13317...   \n",
       "128875                                     [83093, 25455]   \n",
       "12934                                    [53002, 1026228]   \n",
       "207501                                           [513230]   \n",
       "22350       [48136, 52282, 68715, 281871, 551498, 226462]   \n",
       "\n",
       "                                               rating  year  month  day  \\\n",
       "182017  [5, 5, 5, 5, 5, 5, 5, 5, 5, 5, 5, 5, 5, 0, 5]  2009      2   10   \n",
       "128875                                         [5, 4]  2007      6    7   \n",
       "12934                                          [5, 5]  2002      4    9   \n",
       "207501                                            [5]  2010      5   13   \n",
       "22350                              [5, 5, 5, 5, 5, 5]  2002      9   15   \n",
       "\n",
       "       day_of_week  \n",
       "182017     Tuesday  \n",
       "128875    Thursday  \n",
       "12934      Tuesday  \n",
       "207501    Thursday  \n",
       "22350       Sunday  "
      ]
     },
     "execution_count": 49,
     "metadata": {},
     "output_type": "execute_result"
    }
   ],
   "source": [
    "df_g.head()"
   ]
  },
  {
   "cell_type": "code",
   "execution_count": 50,
   "metadata": {},
   "outputs": [
    {
     "data": {
      "image/png": "[encoded data removed]",
      "text/plain": [
       "<Figure size 640x480 with 1 Axes>"
      ]
     },
     "metadata": {},
     "output_type": "display_data"
    }
   ],
   "source": [
    "\n",
    "submissions_per_year = df_g['year'].value_counts().sort_index()\n",
    "\n",
    "submissions_per_year.plot(kind='bar', title='Submitted par année')\n",
    "plt.xlabel('Year')\n",
    "plt.show()\n"
   ]
  },
  {
   "cell_type": "code",
   "execution_count": 51,
   "metadata": {},
   "outputs": [
    {
     "name": "stdout",
     "output_type": "stream",
     "text": [
      "Skewness: 0.16580760694089877\n",
      "Kurtosis: -0.05095614915638613\n"
     ]
    }
   ],
   "source": [
    "skewness_years = scipy.stats.skew(df_g['year'])\n",
    "kurt_years = scipy.stats.kurtosis(df_g['year'])\n",
    "\n",
    "print(f'Skewness: {skewness_years}')\n",
    "print(f'Kurtosis: {kurt_years}')"
   ]
  },
  {
   "cell_type": "code",
   "execution_count": 52,
   "metadata": {},
   "outputs": [
    {
     "data": {
      "image/png": "[encoded data removed]",
      "text/plain": [
       "<Figure size 640x480 with 1 Axes>"
      ]
     },
     "metadata": {},
     "output_type": "display_data"
    }
   ],
   "source": [
    "\n",
    "submissions_per_month = df_g['month'].value_counts().sort_index()\n",
    "\n",
    "submissions_per_month.plot(kind='bar', title='Submitted par mois')\n",
    "plt.xlabel('Year')\n",
    "plt.show()"
   ]
  },
  {
   "cell_type": "code",
   "execution_count": 53,
   "metadata": {},
   "outputs": [
    {
     "data": {
      "image/png": "[encoded data removed]",
      "text/plain": [
       "<Figure size 640x480 with 1 Axes>"
      ]
     },
     "metadata": {},
     "output_type": "display_data"
    }
   ],
   "source": [
    "\n",
    "submissions_per_day = df_g['day'].value_counts().sort_index()\n",
    "\n",
    "submissions_per_day.plot(kind='bar', title='Submitted par jour')\n",
    "plt.xlabel('Year')\n",
    "plt.show()"
   ]
  },
  {
   "cell_type": "code",
   "execution_count": 54,
   "metadata": {},
   "outputs": [
    {
     "data": {
      "text/html": [
       "<div>\n",
       "<style scoped>\n",
       "    .dataframe tbody tr th:only-of-type {\n",
       "        vertical-align: middle;\n",
       "    }\n",
       "\n",
       "    .dataframe tbody tr th {\n",
       "        vertical-align: top;\n",
       "    }\n",
       "\n",
       "    .dataframe thead th {\n",
       "        text-align: right;\n",
       "    }\n",
       "</style>\n",
       "<table border=\"1\" class=\"dataframe\">\n",
       "  <thead>\n",
       "    <tr style=\"text-align: right;\">\n",
       "      <th></th>\n",
       "      <th>minutes</th>\n",
       "      <th>submitted</th>\n",
       "      <th>n_steps</th>\n",
       "      <th>n_ingredients</th>\n",
       "      <th>year</th>\n",
       "      <th>month</th>\n",
       "      <th>day</th>\n",
       "    </tr>\n",
       "  </thead>\n",
       "  <tbody>\n",
       "    <tr>\n",
       "      <th>count</th>\n",
       "      <td>229995.000000</td>\n",
       "      <td>229995</td>\n",
       "      <td>229995.000000</td>\n",
       "      <td>229995.000000</td>\n",
       "      <td>229995.000000</td>\n",
       "      <td>229995.000000</td>\n",
       "      <td>229995.000000</td>\n",
       "    </tr>\n",
       "    <tr>\n",
       "      <th>mean</th>\n",
       "      <td>123.981230</td>\n",
       "      <td>2006-11-25 11:31:01.631774720</td>\n",
       "      <td>9.776873</td>\n",
       "      <td>9.063171</td>\n",
       "      <td>2006.419983</td>\n",
       "      <td>6.301350</td>\n",
       "      <td>15.576699</td>\n",
       "    </tr>\n",
       "    <tr>\n",
       "      <th>min</th>\n",
       "      <td>2.000000</td>\n",
       "      <td>1999-08-06 00:00:00</td>\n",
       "      <td>1.000000</td>\n",
       "      <td>1.000000</td>\n",
       "      <td>1999.000000</td>\n",
       "      <td>1.000000</td>\n",
       "      <td>1.000000</td>\n",
       "    </tr>\n",
       "    <tr>\n",
       "      <th>25%</th>\n",
       "      <td>20.000000</td>\n",
       "      <td>2004-10-05 00:00:00</td>\n",
       "      <td>6.000000</td>\n",
       "      <td>6.000000</td>\n",
       "      <td>2004.000000</td>\n",
       "      <td>3.000000</td>\n",
       "      <td>8.000000</td>\n",
       "    </tr>\n",
       "    <tr>\n",
       "      <th>50%</th>\n",
       "      <td>40.000000</td>\n",
       "      <td>2007-01-30 00:00:00</td>\n",
       "      <td>9.000000</td>\n",
       "      <td>9.000000</td>\n",
       "      <td>2007.000000</td>\n",
       "      <td>6.000000</td>\n",
       "      <td>15.000000</td>\n",
       "    </tr>\n",
       "    <tr>\n",
       "      <th>75%</th>\n",
       "      <td>65.000000</td>\n",
       "      <td>2008-11-02 00:00:00</td>\n",
       "      <td>12.000000</td>\n",
       "      <td>11.000000</td>\n",
       "      <td>2008.000000</td>\n",
       "      <td>9.000000</td>\n",
       "      <td>23.000000</td>\n",
       "    </tr>\n",
       "    <tr>\n",
       "      <th>max</th>\n",
       "      <td>288000.000000</td>\n",
       "      <td>2018-12-04 00:00:00</td>\n",
       "      <td>110.000000</td>\n",
       "      <td>43.000000</td>\n",
       "      <td>2018.000000</td>\n",
       "      <td>12.000000</td>\n",
       "      <td>31.000000</td>\n",
       "    </tr>\n",
       "    <tr>\n",
       "      <th>std</th>\n",
       "      <td>1984.779493</td>\n",
       "      <td>NaN</td>\n",
       "      <td>5.980052</td>\n",
       "      <td>3.730710</td>\n",
       "      <td>2.966021</td>\n",
       "      <td>3.427133</td>\n",
       "      <td>8.822021</td>\n",
       "    </tr>\n",
       "  </tbody>\n",
       "</table>\n",
       "</div>"
      ],
      "text/plain": [
       "             minutes                      submitted        n_steps  \\\n",
       "count  229995.000000                         229995  229995.000000   \n",
       "mean      123.981230  2006-11-25 11:31:01.631774720       9.776873   \n",
       "min         2.000000            1999-08-06 00:00:00       1.000000   \n",
       "25%        20.000000            2004-10-05 00:00:00       6.000000   \n",
       "50%        40.000000            2007-01-30 00:00:00       9.000000   \n",
       "75%        65.000000            2008-11-02 00:00:00      12.000000   \n",
       "max    288000.000000            2018-12-04 00:00:00     110.000000   \n",
       "std      1984.779493                            NaN       5.980052   \n",
       "\n",
       "       n_ingredients           year          month            day  \n",
       "count  229995.000000  229995.000000  229995.000000  229995.000000  \n",
       "mean        9.063171    2006.419983       6.301350      15.576699  \n",
       "min         1.000000    1999.000000       1.000000       1.000000  \n",
       "25%         6.000000    2004.000000       3.000000       8.000000  \n",
       "50%         9.000000    2007.000000       6.000000      15.000000  \n",
       "75%        11.000000    2008.000000       9.000000      23.000000  \n",
       "max        43.000000    2018.000000      12.000000      31.000000  \n",
       "std         3.730710       2.966021       3.427133       8.822021  "
      ]
     },
     "execution_count": 54,
     "metadata": {},
     "output_type": "execute_result"
    }
   ],
   "source": [
    "df_g.describe()"
   ]
  },
  {
   "cell_type": "markdown",
   "metadata": {},
   "source": [
    "Les valeurs des jours sont bien comprise entre 1 et 31, les mois entre 1 et 12. Cela est donc correct, il n'y a rien a changer."
   ]
  },
  {
   "cell_type": "markdown",
   "metadata": {},
   "source": [
    "On observe une periode de forte activité pour le site puis une décroissance élevé : axe interessant d'analyse. On observe bien la tendance et la mode de consomation. "
   ]
  },
  {
   "cell_type": "markdown",
   "metadata": {},
   "source": [
    "#### Colone : *date*"
   ]
  },
  {
   "cell_type": "code",
   "execution_count": 55,
   "metadata": {},
   "outputs": [
    {
     "name": "stdout",
     "output_type": "stream",
     "text": [
      "                                                    name  n_comments  \\\n",
      "833                                    best banana bread        1613   \n",
      "14424                         to die for crock pot roast        1601   \n",
      "51312  crock pot chicken with black beans   cream cheese        1579   \n",
      "21639                         creamy cajun chicken pasta        1448   \n",
      "38631   best ever banana cake with cream cheese frosting        1322   \n",
      "\n",
      "                                                    date  \n",
      "833    [2018-01-18 00:00:00, 2017-06-23 00:00:00, 201...  \n",
      "14424  [2004-10-25 00:00:00, 2005-02-23 00:00:00, 200...  \n",
      "51312  [2004-04-20 00:00:00, 2004-04-21 00:00:00, 200...  \n",
      "21639  [2010-01-19 00:00:00, 2018-10-17 00:00:00, 200...  \n",
      "38631  [2003-08-16 00:00:00, 2003-09-01 00:00:00, 200...  \n"
     ]
    }
   ],
   "source": [
    "\n",
    "df_g['n_comments'] = df_g['review'].apply(len)\n",
    "\n",
    "df_g = df_g.sort_values(by='n_comments', ascending=False)\n",
    "\n",
    "print(df_g[['name', 'n_comments','date']].head())\n"
   ]
  },
  {
   "cell_type": "code",
   "execution_count": 56,
   "metadata": {},
   "outputs": [
    {
     "data": {
      "text/plain": [
       "Text(0, 0.5, 'n_comments')"
      ]
     },
     "execution_count": 56,
     "metadata": {},
     "output_type": "execute_result"
    },
    {
     "data": {
      "image/png": "[encoded data removed]",
      "text/plain": [
       "<Figure size 640x480 with 1 Axes>"
      ]
     },
     "metadata": {},
     "output_type": "display_data"
    }
   ],
   "source": [
    "n_largest = df_g.nlargest(5, 'n_comments')\n",
    "for i in range(len(n_largest)):\n",
    "    plt.hist(df_g.loc[n_largest.index[i]]['date'], bins=50, edgecolor='black', alpha=0.5)\n",
    "\n",
    "plt.title('Top 5 Recettes commentées')\n",
    "plt.xlabel('Date')\n",
    "plt.ylabel('n_comments')"
   ]
  },
  {
   "cell_type": "markdown",
   "metadata": {},
   "source": [
    "En affichant les dates des commentaires des 5 recettes les plus commenté du site (ci dessus), on remarque bien que les commentaires suivent majoritairement la période d'activité du site (pic vers 2007-2008)"
   ]
  },
  {
   "cell_type": "markdown",
   "metadata": {},
   "source": [
    "Pourquoi y a t-il eu un pic de commentaire pour le banana bread en 2018 ?"
   ]
  },
  {
   "cell_type": "code",
   "execution_count": 57,
   "metadata": {},
   "outputs": [
    {
     "data": {
      "text/plain": [
       "1612    I've been using this recipe for 2 years and it...\n",
       "1611    Funny, &quot;Remove odd pots and pans from ove...\n",
       "1610    Best banana bread recipe I have ever made, and...\n",
       "1609    Very yummy. I added a little cinnamon to it as...\n",
       "1608    I made this recipe today however I did some mi...\n",
       "1607    My kids said this was the BEST banana bread I'...\n",
       "1606    Wonderful Banana Bread! I've made it several t...\n",
       "1605    Oh my goodness is this ever good! So easy to m...\n",
       "1604    Delicious exactly as written... no tweaking ne...\n",
       "1603    So amazing! This perfectly yielded 12 banana m...\n",
       "Name: review, dtype: object"
      ]
     },
     "execution_count": 57,
     "metadata": {},
     "output_type": "execute_result"
    }
   ],
   "source": [
    "\n",
    "pandas.DataFrame({'date': pandas.to_datetime(df_g.loc[df_g['n_comments'].idxmax()]['date']), 'review': df_g.loc[df_g['n_comments'].idxmax()]['review']}).sort_values(by='date',ascending=False)['review'].head(10)\n",
    "\n"
   ]
  },
  {
   "cell_type": "markdown",
   "metadata": {},
   "source": [
    "Cette recette devait etre beaucoup mise en avant par le site. Pourquoi ?"
   ]
  },
  {
   "cell_type": "markdown",
   "metadata": {},
   "source": [
    "Passons à l'analyse EDA des varaible Qualitative nominale : recipe_id, contributor_id, tags, steps, description, ingredient, user_id\n"
   ]
  },
  {
   "cell_type": "markdown",
   "metadata": {},
   "source": [
    "#### Colonne : *recipe_id*, *contributor_id*"
   ]
  },
  {
   "cell_type": "code",
   "execution_count": 58,
   "metadata": {},
   "outputs": [
    {
     "name": "stdout",
     "output_type": "stream",
     "text": [
      "229995\n",
      "0\n"
     ]
    }
   ],
   "source": [
    "print(df_g['recipe_id'].count())\n",
    "print(df_g['recipe_id'].isna().sum())"
   ]
  },
  {
   "cell_type": "code",
   "execution_count": 59,
   "metadata": {},
   "outputs": [
    {
     "name": "stdout",
     "output_type": "stream",
     "text": [
      "nombre de valeurs :  229995\n",
      "nombre de valeurs  manquantes:  0\n"
     ]
    }
   ],
   "source": [
    "print(\"nombre de valeurs : \",df_g['contributor_id'].count())\n",
    "print(\"nombre de valeurs  manquantes: \",df_g['recipe_id'].isna().sum())"
   ]
  },
  {
   "cell_type": "markdown",
   "metadata": {},
   "source": [
    "#### Colonne : *user_id*"
   ]
  },
  {
   "cell_type": "code",
   "execution_count": 60,
   "metadata": {},
   "outputs": [
    {
     "name": "stdout",
     "output_type": "stream",
     "text": [
      "nombre de commentaires :  1125078\n",
      "nombre de recette sans commentaires  0\n"
     ]
    }
   ],
   "source": [
    "print(\"nombre de commentaires : \",df_g['user_id'].apply(len).sum())\n",
    "print(\"nombre de recette sans commentaires \",df_g[df_g['user_id'].apply(len) < 1].shape[0])"
   ]
  },
  {
   "cell_type": "code",
   "execution_count": 61,
   "metadata": {},
   "outputs": [
    {
     "data": {
      "text/plain": [
       "Index(['recipe_id', 'name', 'minutes', 'contributor_id', 'submitted', 'tags',\n",
       "       'nutrition', 'steps', 'n_steps', 'description', 'ingredients',\n",
       "       'n_ingredients', 'review', 'date', 'user_id', 'rating', 'year', 'month',\n",
       "       'day', 'day_of_week', 'n_comments'],\n",
       "      dtype='object')"
      ]
     },
     "execution_count": 61,
     "metadata": {},
     "output_type": "execute_result"
    }
   ],
   "source": [
    "df_g.columns"
   ]
  },
  {
   "cell_type": "code",
   "execution_count": 62,
   "metadata": {},
   "outputs": [
    {
     "name": "stdout",
     "output_type": "stream",
     "text": [
      "                               name  submitted  \\\n",
      "154695              blueberry cloud 2008-03-02   \n",
      "198968  crock pot tex mex pot roast 2009-11-11   \n",
      "28473         spiced beef crock pot 2003-01-12   \n",
      "2304           frozen lemon souffle 2000-03-06   \n",
      "177709            moist yellow cake 2008-12-17   \n",
      "\n",
      "                                              description  n_comments  \\\n",
      "154695  a delicious dessert with a nut crust.  i got t...           1   \n",
      "198968                           this looked easy enough.           1   \n",
      "28473   my grandmother recently sent me this recipe. w...           1   \n",
      "2304                                 frozen lemon souffle           1   \n",
      "177709  nothing fancy, just moist made-from-scratch cake.           1   \n",
      "\n",
      "                                                   review  \\\n",
      "154695                                        [Yum Yum!!]   \n",
      "198968  [YUMMY!!!!  All my picky eaters loved it and I...   \n",
      "28473   [Very good tangy flavor with a little \"bite\" f...   \n",
      "2304    [I used to make this many years ago and had lo...   \n",
      "177709  [So very PROUD of my first homemade cake. EVER...   \n",
      "\n",
      "                         date  \n",
      "154695  [2008-03-03 00:00:00]  \n",
      "198968  [2010-02-20 00:00:00]  \n",
      "28473   [2008-12-17 00:00:00]  \n",
      "2304    [2006-02-01 00:00:00]  \n",
      "177709  [2013-02-26 00:00:00]  \n"
     ]
    }
   ],
   "source": [
    "df_g = df_g.sort_values(by='n_comments', ascending=True)\n",
    "print(df_g[['name','submitted','description','n_comments','review', 'date']].head())"
   ]
  },
  {
   "cell_type": "markdown",
   "metadata": {},
   "source": [
    "Il n'y a aucune recette avec aucun commentaire ? bizarre ?\n",
    "\n",
    "Ce n'est pas un problème de mon group_by ou autre car cela est le cas dans les bases de données RAW : "
   ]
  },
  {
   "cell_type": "code",
   "execution_count": 63,
   "metadata": {},
   "outputs": [
    {
     "data": {
      "text/plain": [
       "True"
      ]
     },
     "execution_count": 63,
     "metadata": {},
     "output_type": "execute_result"
    }
   ],
   "source": [
    "\n",
    "interactions['recipe_id'].nunique()==recipes['id'].count()\n"
   ]
  },
  {
   "cell_type": "code",
   "execution_count": 64,
   "metadata": {},
   "outputs": [
    {
     "name": "stdout",
     "output_type": "stream",
     "text": [
      "Nombre d'uuser unique ayant laissé un commentaire :  225585\n",
      "Nombre d'user différents dans notre base de données :  235774\n",
      "Nombre d'user ayant posté une recette mais jamais commenté : 10189\n"
     ]
    }
   ],
   "source": [
    "all_user_comments_ids = [user for sublist in df_g['user_id'] for user in sublist]\n",
    "\n",
    "n_users_coments = len(set(all_user_comments_ids))\n",
    "\n",
    "print(\"Nombre d'uuser unique ayant laissé un commentaire : \",n_users_coments)\n",
    "\n",
    "all_contributors = df['contributor_id'].tolist()\n",
    "\n",
    "all_users = all_user_comments_ids + all_contributors\n",
    "\n",
    "\n",
    "nombre_utilisateurs_uniques = len(set(all_users))\n",
    "\n",
    "print(\"Nombre d'user différents dans notre base de données : \",nombre_utilisateurs_uniques)\n",
    "\n",
    "print(\"Nombre d'user ayant posté une recette mais jamais commenté :\",nombre_utilisateurs_uniques-n_users_coments)\n"
   ]
  },
  {
   "cell_type": "code",
   "execution_count": 65,
   "metadata": {},
   "outputs": [],
   "source": [
    "\n",
    "comment_count_per_user = pandas.Series(all_user_comments_ids).value_counts()\n",
    "\n",
    "contributors_with_comments_df = comment_count_per_user.reset_index()\n",
    "\n",
    "contributors_with_comments_df.columns = ['user_id', 'comment_count']"
   ]
  },
  {
   "cell_type": "code",
   "execution_count": 66,
   "metadata": {},
   "outputs": [],
   "source": [
    "\n",
    "\n",
    "contributors_without_comments = df['contributor_id'][~df['contributor_id'].isin(set(all_user_comments_ids))].unique()\n",
    "\n",
    "contributors_without_comments_df = pandas.DataFrame({\n",
    "    'user_id': contributors_without_comments,\n",
    "    'comment_count': 0\n",
    "})\n",
    "\n",
    "comment_count_per_user = pandas.concat([contributors_with_comments_df, contributors_without_comments_df], ignore_index=True)\n"
   ]
  },
  {
   "cell_type": "code",
   "execution_count": 67,
   "metadata": {},
   "outputs": [],
   "source": [
    "\n",
    "\n",
    "comment_count_per_user['user_id'] = comment_count_per_user.user_id.astype('category')\n",
    "\n"
   ]
  },
  {
   "cell_type": "code",
   "execution_count": 68,
   "metadata": {},
   "outputs": [
    {
     "data": {
      "text/html": [
       "<div>\n",
       "<style scoped>\n",
       "    .dataframe tbody tr th:only-of-type {\n",
       "        vertical-align: middle;\n",
       "    }\n",
       "\n",
       "    .dataframe tbody tr th {\n",
       "        vertical-align: top;\n",
       "    }\n",
       "\n",
       "    .dataframe thead th {\n",
       "        text-align: right;\n",
       "    }\n",
       "</style>\n",
       "<table border=\"1\" class=\"dataframe\">\n",
       "  <thead>\n",
       "    <tr style=\"text-align: right;\">\n",
       "      <th></th>\n",
       "      <th>comment_count</th>\n",
       "    </tr>\n",
       "  </thead>\n",
       "  <tbody>\n",
       "    <tr>\n",
       "      <th>count</th>\n",
       "      <td>235774.000000</td>\n",
       "    </tr>\n",
       "    <tr>\n",
       "      <th>mean</th>\n",
       "      <td>4.771849</td>\n",
       "    </tr>\n",
       "    <tr>\n",
       "      <th>std</th>\n",
       "      <td>48.404490</td>\n",
       "    </tr>\n",
       "    <tr>\n",
       "      <th>min</th>\n",
       "      <td>0.000000</td>\n",
       "    </tr>\n",
       "    <tr>\n",
       "      <th>25%</th>\n",
       "      <td>1.000000</td>\n",
       "    </tr>\n",
       "    <tr>\n",
       "      <th>50%</th>\n",
       "      <td>1.000000</td>\n",
       "    </tr>\n",
       "    <tr>\n",
       "      <th>75%</th>\n",
       "      <td>2.000000</td>\n",
       "    </tr>\n",
       "    <tr>\n",
       "      <th>max</th>\n",
       "      <td>7653.000000</td>\n",
       "    </tr>\n",
       "  </tbody>\n",
       "</table>\n",
       "</div>"
      ],
      "text/plain": [
       "       comment_count\n",
       "count  235774.000000\n",
       "mean        4.771849\n",
       "std        48.404490\n",
       "min         0.000000\n",
       "25%         1.000000\n",
       "50%         1.000000\n",
       "75%         2.000000\n",
       "max      7653.000000"
      ]
     },
     "execution_count": 68,
     "metadata": {},
     "output_type": "execute_result"
    }
   ],
   "source": [
    "comment_count_per_user.describe()"
   ]
  },
  {
   "cell_type": "markdown",
   "metadata": {},
   "source": [
    "On observe une distribution très déséquilibré des commentaires, ou une poignée d'utilisateurs poste la majorité des commentaires. Ainsi on trouve une moyenne à 4,7 commentaires par utilisateurs et une médianne à 1 commentaires par utilisateurs. \n",
    "\n",
    "On peut aussi remarqué que la majorité des utilisateurs ont posté au moins un commentaire et que seulement ~10.000 users n'ont jamais commentés (<0.5% des users de notre base de données)"
   ]
  },
  {
   "cell_type": "code",
   "execution_count": 69,
   "metadata": {},
   "outputs": [
    {
     "data": {
      "text/html": [
       "<div>\n",
       "<style scoped>\n",
       "    .dataframe tbody tr th:only-of-type {\n",
       "        vertical-align: middle;\n",
       "    }\n",
       "\n",
       "    .dataframe tbody tr th {\n",
       "        vertical-align: top;\n",
       "    }\n",
       "\n",
       "    .dataframe thead th {\n",
       "        text-align: right;\n",
       "    }\n",
       "</style>\n",
       "<table border=\"1\" class=\"dataframe\">\n",
       "  <thead>\n",
       "    <tr style=\"text-align: right;\">\n",
       "      <th></th>\n",
       "      <th>user_id</th>\n",
       "      <th>comment_count</th>\n",
       "    </tr>\n",
       "  </thead>\n",
       "  <tbody>\n",
       "    <tr>\n",
       "      <th>0</th>\n",
       "      <td>424680</td>\n",
       "      <td>7653</td>\n",
       "    </tr>\n",
       "    <tr>\n",
       "      <th>1</th>\n",
       "      <td>37449</td>\n",
       "      <td>5573</td>\n",
       "    </tr>\n",
       "    <tr>\n",
       "      <th>2</th>\n",
       "      <td>383346</td>\n",
       "      <td>4535</td>\n",
       "    </tr>\n",
       "    <tr>\n",
       "      <th>3</th>\n",
       "      <td>169430</td>\n",
       "      <td>4059</td>\n",
       "    </tr>\n",
       "    <tr>\n",
       "      <th>4</th>\n",
       "      <td>128473</td>\n",
       "      <td>3901</td>\n",
       "    </tr>\n",
       "    <tr>\n",
       "      <th>5</th>\n",
       "      <td>89831</td>\n",
       "      <td>3334</td>\n",
       "    </tr>\n",
       "    <tr>\n",
       "      <th>6</th>\n",
       "      <td>58104</td>\n",
       "      <td>3255</td>\n",
       "    </tr>\n",
       "    <tr>\n",
       "      <th>7</th>\n",
       "      <td>133174</td>\n",
       "      <td>3091</td>\n",
       "    </tr>\n",
       "    <tr>\n",
       "      <th>8</th>\n",
       "      <td>199848</td>\n",
       "      <td>3012</td>\n",
       "    </tr>\n",
       "    <tr>\n",
       "      <th>9</th>\n",
       "      <td>305531</td>\n",
       "      <td>2881</td>\n",
       "    </tr>\n",
       "  </tbody>\n",
       "</table>\n",
       "</div>"
      ],
      "text/plain": [
       "  user_id  comment_count\n",
       "0  424680           7653\n",
       "1   37449           5573\n",
       "2  383346           4535\n",
       "3  169430           4059\n",
       "4  128473           3901\n",
       "5   89831           3334\n",
       "6   58104           3255\n",
       "7  133174           3091\n",
       "8  199848           3012\n",
       "9  305531           2881"
      ]
     },
     "execution_count": 69,
     "metadata": {},
     "output_type": "execute_result"
    }
   ],
   "source": [
    "comment_count_per_user.sort_values(by='comment_count', ascending=False).head(10)"
   ]
  },
  {
   "cell_type": "code",
   "execution_count": 70,
   "metadata": {},
   "outputs": [
    {
     "data": {
      "text/plain": [
       "3.25"
      ]
     },
     "execution_count": 70,
     "metadata": {},
     "output_type": "execute_result"
    }
   ],
   "source": [
    "(round(comment_count_per_user['comment_count'].max()/comment_count_per_user.shape[0]*100,2))"
   ]
  },
  {
   "cell_type": "markdown",
   "metadata": {},
   "source": [
    "L'utilisateur 424680 est l'user ayant posté le plus de commentaires avec 7653 à son actif. Soit 3,25% des commentaires"
   ]
  },
  {
   "cell_type": "code",
   "execution_count": 71,
   "metadata": {},
   "outputs": [
    {
     "data": {
      "image/png": "[encoded data removed]",
      "text/plain": [
       "<Figure size 640x480 with 1 Axes>"
      ]
     },
     "metadata": {},
     "output_type": "display_data"
    }
   ],
   "source": [
    "plt.figure()\n",
    "sb.histplot(np.log(1+comment_count_per_user['comment_count']), kde=True, bins=40)\n",
    "plt.title(\"Histogramme des commentaires\")\n",
    "plt.xlabel('nombre de com')\n",
    "plt.grid()\n",
    "plt.show()\n"
   ]
  },
  {
   "cell_type": "code",
   "execution_count": null,
   "metadata": {},
   "outputs": [],
   "source": []
  },
  {
   "cell_type": "markdown",
   "metadata": {},
   "source": [
    "#### Colonne : *Description*"
   ]
  },
  {
   "cell_type": "markdown",
   "metadata": {},
   "source": [
    "Utilisons un embeding Word2vec et essyons de visualiser nos Déscriptions sous forme de clustering en utilisant la PCA et visualisons en 2D. "
   ]
  },
  {
   "cell_type": "code",
   "execution_count": 72,
   "metadata": {},
   "outputs": [],
   "source": [
    "import re\n",
    "import nltk\n",
    "from nltk.corpus import stopwords\n",
    "from nltk.tokenize import word_tokenize"
   ]
  },
  {
   "cell_type": "code",
   "execution_count": 73,
   "metadata": {},
   "outputs": [
    {
     "name": "stderr",
     "output_type": "stream",
     "text": [
      "[nltk_data] Downloading package punkt_tab to\n",
      "[nltk_data]     /home/alexandre/nltk_data...\n",
      "[nltk_data]   Package punkt_tab is already up-to-date!\n",
      "[nltk_data] Downloading package stopwords to\n",
      "[nltk_data]     /home/alexandre/nltk_data...\n",
      "[nltk_data]   Package stopwords is already up-to-date!\n"
     ]
    }
   ],
   "source": [
    "nltk.download('punkt_tab')\n",
    "nltk.download('stopwords')\n",
    "stop_words = set(stopwords.words('english'))"
   ]
  },
  {
   "cell_type": "code",
   "execution_count": 74,
   "metadata": {},
   "outputs": [],
   "source": [
    "df_g['description'] = df_g['description'].fillna('')"
   ]
  },
  {
   "cell_type": "code",
   "execution_count": 75,
   "metadata": {},
   "outputs": [],
   "source": [
    "\n",
    "def preprocess_text(text):\n",
    "    text = text.lower()\n",
    "    text = re.sub(r'[^\\w\\s]', '', text)\n",
    "    tokens = word_tokenize(text)\n",
    "    tokens = [word for word in tokens if word not in stop_words]\n",
    "    return tokens\n",
    "\n",
    "df_g['embed_descriptions'] = df_g['description'].apply(preprocess_text)"
   ]
  },
  {
   "cell_type": "code",
   "execution_count": 76,
   "metadata": {},
   "outputs": [],
   "source": [
    "import gensim\n",
    "\n",
    "# model_path = 'path/to/GoogleNews-vectors-negative300.bin.gz'\n",
    "# model = gensim.models.KeyedVectors.load_word2vec_format(model_path, binary=True)\n",
    "\n",
    "\n",
    "model = gensim.models.Word2Vec(sentences=df_g['embed_descriptions'], vector_size=100, window=5, min_count=1, workers=4)\n",
    "\n",
    "\n"
   ]
  },
  {
   "cell_type": "code",
   "execution_count": 77,
   "metadata": {},
   "outputs": [],
   "source": [
    "def get_mean_embedding(description, model):\n",
    "    embeddings = [model.wv[word] for word in description if word in model.wv]\n",
    "    if len(embeddings) > 0:\n",
    "        return np.mean(embeddings, axis=0)\n",
    "    else:\n",
    "        return np.zeros(model.vector_size)\n",
    "\n",
    "df_g['embed_descriptions'] = df_g['embed_descriptions'].apply(lambda x: get_mean_embedding(x, model))\n"
   ]
  },
  {
   "cell_type": "code",
   "execution_count": 78,
   "metadata": {},
   "outputs": [],
   "source": [
    "from sklearn.cluster import KMeans\n",
    "from sklearn.decomposition import PCA\n",
    "import matplotlib.pyplot as plt\n",
    "\n",
    "X = np.array(df_g['embed_descriptions'].tolist())\n",
    "\n",
    "kmeans = KMeans(n_clusters=5, random_state=0).fit(X)\n",
    "\n",
    "pca = PCA(n_components=2)\n",
    "X_pca = pca.fit_transform(X)\n",
    "\n",
    "label = kmeans.labels_\n"
   ]
  },
  {
   "cell_type": "code",
   "execution_count": 79,
   "metadata": {},
   "outputs": [
    {
     "data": {
      "image/png": "[encoded data removed]",
      "text/plain": [
       "<Figure size 1000x700 with 2 Axes>"
      ]
     },
     "metadata": {},
     "output_type": "display_data"
    }
   ],
   "source": [
    "plt.figure(figsize=(10, 7))\n",
    "plt.scatter(X_pca[:, 0], X_pca[:, 1], c=label, cmap='viridis')\n",
    "plt.title('Clustering description')\n",
    "plt.colorbar(label='Cluster')\n",
    "plt.show()\n"
   ]
  },
  {
   "cell_type": "code",
   "execution_count": null,
   "metadata": {},
   "outputs": [],
   "source": [
    "import pandas as pd\n",
    "import numpy as np\n",
    "from sklearn.manifold import TSNE\n",
    "import altair as alt\n",
    "\n",
    "embeddings = np.array(df_g['embed_descriptions'].tolist())\n",
    "\n",
    "tsne = TSNE(n_components=2,  \n",
    "            learning_rate='auto', \n",
    "            init='pca')\n",
    "tsne_results = tsne.fit_transform(embeddings)\n",
    "\n",
    "tsne_df = pd.DataFrame({\n",
    "    'tsne_2d_one': tsne_results[:, 0],\n",
    "    'tsne_2d_two': tsne_results[:, 1],\n",
    "    'recipe_id': df_g['recipe_id']\n",
    "})\n",
    "\n",
    "chart = alt.Chart(tsne_df).mark_circle(size=60).encode(\n",
    "    x='tsne_2d_one',\n",
    "    y='tsne_2d_two',\n",
    "    tooltip=['tsne_2d_one', 'tsne_2d_two'],\n",
    ").interactive().properties(\n",
    "    width=600,\n",
    "    height=400,\n",
    "    title='Visualisation TSNE des descriptions'\n",
    ")\n",
    "\n",
    "chart\n",
    "\n"
   ]
  },
  {
   "cell_type": "code",
   "execution_count": null,
   "metadata": {},
   "outputs": [],
   "source": []
  },
  {
   "cell_type": "markdown",
   "metadata": {},
   "source": []
  }
 ],
 "metadata": {
  "kernelspec": {
   "display_name": ".env_projet_kit_big_data",
   "language": "python",
   "name": "python3"
  },
  "language_info": {
   "codemirror_mode": {
    "name": "ipython",
    "version": 3
   },
   "file_extension": ".py",
   "mimetype": "text/x-python",
   "name": "python",
   "nbconvert_exporter": "python",
   "pygments_lexer": "ipython3",
   "version": "3.12.3"
  }
 },
 "nbformat": 4,
 "nbformat_minor": 2
}
