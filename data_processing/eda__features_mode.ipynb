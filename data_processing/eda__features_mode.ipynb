{
 "cells": [
  {
   "cell_type": "markdown",
   "metadata": {},
   "source": [
    "# Exploration Data Analysis pour explorer les modes de consomation \n",
    "### Par Alexandre Rocchi (pas toucher les loulous)\n",
    "\n"
   ]
  },
  {
   "cell_type": "code",
   "execution_count": 63,
   "metadata": {},
   "outputs": [],
   "source": [
    "import pandas \n",
    "import ast\n",
    "import matplotlib.pyplot as plt\n",
    "import scipy\n",
    "import seaborn as sb\n",
    "import numpy as np\n"
   ]
  },
  {
   "cell_type": "markdown",
   "metadata": {},
   "source": [
    "### Importation des Datasets et création de la table "
   ]
  },
  {
   "cell_type": "code",
   "execution_count": 64,
   "metadata": {},
   "outputs": [],
   "source": [
    "\n",
    "recipes = pandas.read_csv(\"../dataset/RAW_recipes.csv\")\n",
    "interactions = pandas.read_csv(\"../dataset/RAW_interactions.csv\")"
   ]
  },
  {
   "cell_type": "code",
   "execution_count": 65,
   "metadata": {},
   "outputs": [],
   "source": [
    "# Convertir les listes (considéré comme des strings, en liste python)\n",
    "\n",
    "recipes['nutrition'] = recipes['nutrition'].apply(ast.literal_eval)\n",
    "\n",
    "recipes['tags'] = recipes['tags'].apply(ast.literal_eval)\n",
    "\n",
    "recipes['steps'] = recipes['steps'].apply(ast.literal_eval)\n",
    "\n",
    "recipes['ingredients'] = recipes['ingredients'].apply(ast.literal_eval)\n"
   ]
  },
  {
   "cell_type": "code",
   "execution_count": 66,
   "metadata": {},
   "outputs": [],
   "source": [
    "# Convertir les dates en 'datetype' python :\n",
    "recipes['submitted'] = pandas.to_datetime(recipes['submitted'])\n",
    "\n",
    "interactions['date'] = pandas.to_datetime(interactions['date'])"
   ]
  },
  {
   "cell_type": "code",
   "execution_count": 67,
   "metadata": {},
   "outputs": [
    {
     "data": {
      "text/html": [
       "<div>\n",
       "<style scoped>\n",
       "    .dataframe tbody tr th:only-of-type {\n",
       "        vertical-align: middle;\n",
       "    }\n",
       "\n",
       "    .dataframe tbody tr th {\n",
       "        vertical-align: top;\n",
       "    }\n",
       "\n",
       "    .dataframe thead th {\n",
       "        text-align: right;\n",
       "    }\n",
       "</style>\n",
       "<table border=\"1\" class=\"dataframe\">\n",
       "  <thead>\n",
       "    <tr style=\"text-align: right;\">\n",
       "      <th></th>\n",
       "      <th>name</th>\n",
       "      <th>id</th>\n",
       "      <th>minutes</th>\n",
       "      <th>contributor_id</th>\n",
       "      <th>submitted</th>\n",
       "      <th>tags</th>\n",
       "      <th>nutrition</th>\n",
       "      <th>n_steps</th>\n",
       "      <th>steps</th>\n",
       "      <th>description</th>\n",
       "      <th>ingredients</th>\n",
       "      <th>n_ingredients</th>\n",
       "    </tr>\n",
       "  </thead>\n",
       "  <tbody>\n",
       "    <tr>\n",
       "      <th>0</th>\n",
       "      <td>arriba   baked winter squash mexican style</td>\n",
       "      <td>137739</td>\n",
       "      <td>55</td>\n",
       "      <td>47892</td>\n",
       "      <td>2005-09-16</td>\n",
       "      <td>[60-minutes-or-less, time-to-make, course, mai...</td>\n",
       "      <td>[51.5, 0.0, 13.0, 0.0, 2.0, 0.0, 4.0]</td>\n",
       "      <td>11</td>\n",
       "      <td>[make a choice and proceed with recipe, depend...</td>\n",
       "      <td>autumn is my favorite time of year to cook! th...</td>\n",
       "      <td>[winter squash, mexican seasoning, mixed spice...</td>\n",
       "      <td>7</td>\n",
       "    </tr>\n",
       "    <tr>\n",
       "      <th>1</th>\n",
       "      <td>a bit different  breakfast pizza</td>\n",
       "      <td>31490</td>\n",
       "      <td>30</td>\n",
       "      <td>26278</td>\n",
       "      <td>2002-06-17</td>\n",
       "      <td>[30-minutes-or-less, time-to-make, course, mai...</td>\n",
       "      <td>[173.4, 18.0, 0.0, 17.0, 22.0, 35.0, 1.0]</td>\n",
       "      <td>9</td>\n",
       "      <td>[preheat oven to 425 degrees f, press dough in...</td>\n",
       "      <td>this recipe calls for the crust to be prebaked...</td>\n",
       "      <td>[prepared pizza crust, sausage patty, eggs, mi...</td>\n",
       "      <td>6</td>\n",
       "    </tr>\n",
       "    <tr>\n",
       "      <th>2</th>\n",
       "      <td>all in the kitchen  chili</td>\n",
       "      <td>112140</td>\n",
       "      <td>130</td>\n",
       "      <td>196586</td>\n",
       "      <td>2005-02-25</td>\n",
       "      <td>[time-to-make, course, preparation, main-dish,...</td>\n",
       "      <td>[269.8, 22.0, 32.0, 48.0, 39.0, 27.0, 5.0]</td>\n",
       "      <td>6</td>\n",
       "      <td>[brown ground beef in large pot, add chopped o...</td>\n",
       "      <td>this modified version of 'mom's' chili was a h...</td>\n",
       "      <td>[ground beef, yellow onions, diced tomatoes, t...</td>\n",
       "      <td>13</td>\n",
       "    </tr>\n",
       "  </tbody>\n",
       "</table>\n",
       "</div>"
      ],
      "text/plain": [
       "                                         name      id  minutes  \\\n",
       "0  arriba   baked winter squash mexican style  137739       55   \n",
       "1            a bit different  breakfast pizza   31490       30   \n",
       "2                   all in the kitchen  chili  112140      130   \n",
       "\n",
       "   contributor_id  submitted  \\\n",
       "0           47892 2005-09-16   \n",
       "1           26278 2002-06-17   \n",
       "2          196586 2005-02-25   \n",
       "\n",
       "                                                tags  \\\n",
       "0  [60-minutes-or-less, time-to-make, course, mai...   \n",
       "1  [30-minutes-or-less, time-to-make, course, mai...   \n",
       "2  [time-to-make, course, preparation, main-dish,...   \n",
       "\n",
       "                                    nutrition  n_steps  \\\n",
       "0       [51.5, 0.0, 13.0, 0.0, 2.0, 0.0, 4.0]       11   \n",
       "1   [173.4, 18.0, 0.0, 17.0, 22.0, 35.0, 1.0]        9   \n",
       "2  [269.8, 22.0, 32.0, 48.0, 39.0, 27.0, 5.0]        6   \n",
       "\n",
       "                                               steps  \\\n",
       "0  [make a choice and proceed with recipe, depend...   \n",
       "1  [preheat oven to 425 degrees f, press dough in...   \n",
       "2  [brown ground beef in large pot, add chopped o...   \n",
       "\n",
       "                                         description  \\\n",
       "0  autumn is my favorite time of year to cook! th...   \n",
       "1  this recipe calls for the crust to be prebaked...   \n",
       "2  this modified version of 'mom's' chili was a h...   \n",
       "\n",
       "                                         ingredients  n_ingredients  \n",
       "0  [winter squash, mexican seasoning, mixed spice...              7  \n",
       "1  [prepared pizza crust, sausage patty, eggs, mi...              6  \n",
       "2  [ground beef, yellow onions, diced tomatoes, t...             13  "
      ]
     },
     "execution_count": 67,
     "metadata": {},
     "output_type": "execute_result"
    }
   ],
   "source": [
    "recipes.head(3)"
   ]
  },
  {
   "cell_type": "code",
   "execution_count": 68,
   "metadata": {},
   "outputs": [
    {
     "data": {
      "text/html": [
       "<div>\n",
       "<style scoped>\n",
       "    .dataframe tbody tr th:only-of-type {\n",
       "        vertical-align: middle;\n",
       "    }\n",
       "\n",
       "    .dataframe tbody tr th {\n",
       "        vertical-align: top;\n",
       "    }\n",
       "\n",
       "    .dataframe thead th {\n",
       "        text-align: right;\n",
       "    }\n",
       "</style>\n",
       "<table border=\"1\" class=\"dataframe\">\n",
       "  <thead>\n",
       "    <tr style=\"text-align: right;\">\n",
       "      <th></th>\n",
       "      <th>user_id</th>\n",
       "      <th>recipe_id</th>\n",
       "      <th>date</th>\n",
       "      <th>rating</th>\n",
       "      <th>review</th>\n",
       "    </tr>\n",
       "  </thead>\n",
       "  <tbody>\n",
       "    <tr>\n",
       "      <th>0</th>\n",
       "      <td>38094</td>\n",
       "      <td>40893</td>\n",
       "      <td>2003-02-17</td>\n",
       "      <td>4</td>\n",
       "      <td>Great with a salad. Cooked on top of stove for...</td>\n",
       "    </tr>\n",
       "    <tr>\n",
       "      <th>1</th>\n",
       "      <td>1293707</td>\n",
       "      <td>40893</td>\n",
       "      <td>2011-12-21</td>\n",
       "      <td>5</td>\n",
       "      <td>So simple, so delicious! Great for chilly fall...</td>\n",
       "    </tr>\n",
       "    <tr>\n",
       "      <th>2</th>\n",
       "      <td>8937</td>\n",
       "      <td>44394</td>\n",
       "      <td>2002-12-01</td>\n",
       "      <td>4</td>\n",
       "      <td>This worked very well and is EASY.  I used not...</td>\n",
       "    </tr>\n",
       "  </tbody>\n",
       "</table>\n",
       "</div>"
      ],
      "text/plain": [
       "   user_id  recipe_id       date  rating  \\\n",
       "0    38094      40893 2003-02-17       4   \n",
       "1  1293707      40893 2011-12-21       5   \n",
       "2     8937      44394 2002-12-01       4   \n",
       "\n",
       "                                              review  \n",
       "0  Great with a salad. Cooked on top of stove for...  \n",
       "1  So simple, so delicious! Great for chilly fall...  \n",
       "2  This worked very well and is EASY.  I used not...  "
      ]
     },
     "execution_count": 68,
     "metadata": {},
     "output_type": "execute_result"
    }
   ],
   "source": [
    "interactions.head(3)"
   ]
  },
  {
   "cell_type": "code",
   "execution_count": 69,
   "metadata": {},
   "outputs": [
    {
     "name": "stdout",
     "output_type": "stream",
     "text": [
      "Index(['name', 'id', 'minutes', 'contributor_id', 'submitted', 'tags',\n",
      "       'nutrition', 'n_steps', 'steps', 'description', 'ingredients',\n",
      "       'n_ingredients'],\n",
      "      dtype='object')\n",
      "Index(['user_id', 'recipe_id', 'date', 'rating', 'review'], dtype='object')\n"
     ]
    }
   ],
   "source": [
    "print(recipes.columns)\n",
    "\n",
    "print(interactions.columns)"
   ]
  },
  {
   "cell_type": "markdown",
   "metadata": {},
   "source": [
    "df = pandas.merge(recipes, interactions)"
   ]
  },
  {
   "cell_type": "markdown",
   "metadata": {},
   "source": [
    "Travaillons sur une masse de données plus faible pour la prise en main des données et des différentes tables"
   ]
  },
  {
   "cell_type": "code",
   "execution_count": 70,
   "metadata": {},
   "outputs": [],
   "source": [
    "df = pandas.merge(recipes, interactions, left_on='id', right_on='recipe_id')\n"
   ]
  },
  {
   "cell_type": "code",
   "execution_count": 71,
   "metadata": {},
   "outputs": [
    {
     "data": {
      "text/html": [
       "<div>\n",
       "<style scoped>\n",
       "    .dataframe tbody tr th:only-of-type {\n",
       "        vertical-align: middle;\n",
       "    }\n",
       "\n",
       "    .dataframe tbody tr th {\n",
       "        vertical-align: top;\n",
       "    }\n",
       "\n",
       "    .dataframe thead th {\n",
       "        text-align: right;\n",
       "    }\n",
       "</style>\n",
       "<table border=\"1\" class=\"dataframe\">\n",
       "  <thead>\n",
       "    <tr style=\"text-align: right;\">\n",
       "      <th></th>\n",
       "      <th>name</th>\n",
       "      <th>id</th>\n",
       "      <th>minutes</th>\n",
       "      <th>contributor_id</th>\n",
       "      <th>submitted</th>\n",
       "      <th>tags</th>\n",
       "      <th>nutrition</th>\n",
       "      <th>n_steps</th>\n",
       "      <th>steps</th>\n",
       "      <th>description</th>\n",
       "      <th>ingredients</th>\n",
       "      <th>n_ingredients</th>\n",
       "      <th>user_id</th>\n",
       "      <th>recipe_id</th>\n",
       "      <th>date</th>\n",
       "      <th>rating</th>\n",
       "      <th>review</th>\n",
       "    </tr>\n",
       "  </thead>\n",
       "  <tbody>\n",
       "    <tr>\n",
       "      <th>0</th>\n",
       "      <td>arriba   baked winter squash mexican style</td>\n",
       "      <td>137739</td>\n",
       "      <td>55</td>\n",
       "      <td>47892</td>\n",
       "      <td>2005-09-16</td>\n",
       "      <td>[60-minutes-or-less, time-to-make, course, mai...</td>\n",
       "      <td>[51.5, 0.0, 13.0, 0.0, 2.0, 0.0, 4.0]</td>\n",
       "      <td>11</td>\n",
       "      <td>[make a choice and proceed with recipe, depend...</td>\n",
       "      <td>autumn is my favorite time of year to cook! th...</td>\n",
       "      <td>[winter squash, mexican seasoning, mixed spice...</td>\n",
       "      <td>7</td>\n",
       "      <td>4470</td>\n",
       "      <td>137739</td>\n",
       "      <td>2006-02-18</td>\n",
       "      <td>5</td>\n",
       "      <td>I used an acorn squash and recipe#137681 Swee...</td>\n",
       "    </tr>\n",
       "    <tr>\n",
       "      <th>1</th>\n",
       "      <td>arriba   baked winter squash mexican style</td>\n",
       "      <td>137739</td>\n",
       "      <td>55</td>\n",
       "      <td>47892</td>\n",
       "      <td>2005-09-16</td>\n",
       "      <td>[60-minutes-or-less, time-to-make, course, mai...</td>\n",
       "      <td>[51.5, 0.0, 13.0, 0.0, 2.0, 0.0, 4.0]</td>\n",
       "      <td>11</td>\n",
       "      <td>[make a choice and proceed with recipe, depend...</td>\n",
       "      <td>autumn is my favorite time of year to cook! th...</td>\n",
       "      <td>[winter squash, mexican seasoning, mixed spice...</td>\n",
       "      <td>7</td>\n",
       "      <td>593927</td>\n",
       "      <td>137739</td>\n",
       "      <td>2010-08-21</td>\n",
       "      <td>5</td>\n",
       "      <td>This was a nice change. I used butternut squas...</td>\n",
       "    </tr>\n",
       "    <tr>\n",
       "      <th>2</th>\n",
       "      <td>arriba   baked winter squash mexican style</td>\n",
       "      <td>137739</td>\n",
       "      <td>55</td>\n",
       "      <td>47892</td>\n",
       "      <td>2005-09-16</td>\n",
       "      <td>[60-minutes-or-less, time-to-make, course, mai...</td>\n",
       "      <td>[51.5, 0.0, 13.0, 0.0, 2.0, 0.0, 4.0]</td>\n",
       "      <td>11</td>\n",
       "      <td>[make a choice and proceed with recipe, depend...</td>\n",
       "      <td>autumn is my favorite time of year to cook! th...</td>\n",
       "      <td>[winter squash, mexican seasoning, mixed spice...</td>\n",
       "      <td>7</td>\n",
       "      <td>178427</td>\n",
       "      <td>137739</td>\n",
       "      <td>2011-12-05</td>\n",
       "      <td>5</td>\n",
       "      <td>Excellent recipe! I used butternut squash and ...</td>\n",
       "    </tr>\n",
       "  </tbody>\n",
       "</table>\n",
       "</div>"
      ],
      "text/plain": [
       "                                         name      id  minutes  \\\n",
       "0  arriba   baked winter squash mexican style  137739       55   \n",
       "1  arriba   baked winter squash mexican style  137739       55   \n",
       "2  arriba   baked winter squash mexican style  137739       55   \n",
       "\n",
       "   contributor_id  submitted  \\\n",
       "0           47892 2005-09-16   \n",
       "1           47892 2005-09-16   \n",
       "2           47892 2005-09-16   \n",
       "\n",
       "                                                tags  \\\n",
       "0  [60-minutes-or-less, time-to-make, course, mai...   \n",
       "1  [60-minutes-or-less, time-to-make, course, mai...   \n",
       "2  [60-minutes-or-less, time-to-make, course, mai...   \n",
       "\n",
       "                               nutrition  n_steps  \\\n",
       "0  [51.5, 0.0, 13.0, 0.0, 2.0, 0.0, 4.0]       11   \n",
       "1  [51.5, 0.0, 13.0, 0.0, 2.0, 0.0, 4.0]       11   \n",
       "2  [51.5, 0.0, 13.0, 0.0, 2.0, 0.0, 4.0]       11   \n",
       "\n",
       "                                               steps  \\\n",
       "0  [make a choice and proceed with recipe, depend...   \n",
       "1  [make a choice and proceed with recipe, depend...   \n",
       "2  [make a choice and proceed with recipe, depend...   \n",
       "\n",
       "                                         description  \\\n",
       "0  autumn is my favorite time of year to cook! th...   \n",
       "1  autumn is my favorite time of year to cook! th...   \n",
       "2  autumn is my favorite time of year to cook! th...   \n",
       "\n",
       "                                         ingredients  n_ingredients  user_id  \\\n",
       "0  [winter squash, mexican seasoning, mixed spice...              7     4470   \n",
       "1  [winter squash, mexican seasoning, mixed spice...              7   593927   \n",
       "2  [winter squash, mexican seasoning, mixed spice...              7   178427   \n",
       "\n",
       "   recipe_id       date  rating  \\\n",
       "0     137739 2006-02-18       5   \n",
       "1     137739 2010-08-21       5   \n",
       "2     137739 2011-12-05       5   \n",
       "\n",
       "                                              review  \n",
       "0   I used an acorn squash and recipe#137681 Swee...  \n",
       "1  This was a nice change. I used butternut squas...  \n",
       "2  Excellent recipe! I used butternut squash and ...  "
      ]
     },
     "execution_count": 71,
     "metadata": {},
     "output_type": "execute_result"
    }
   ],
   "source": [
    "df.head(3)"
   ]
  },
  {
   "cell_type": "code",
   "execution_count": 72,
   "metadata": {},
   "outputs": [
    {
     "name": "stdout",
     "output_type": "stream",
     "text": [
      "   recipe_id                               name  minutes  contributor_id  \\\n",
      "0         38  low fat berry blue frozen dessert     1485            1533   \n",
      "\n",
      "   submitted                                               tags  \\\n",
      "0 1999-08-09  [weeknight, time-to-make, course, preparation,...   \n",
      "\n",
      "                                  nutrition  \\\n",
      "0  [170.9, 3.0, 120.0, 1.0, 6.0, 6.0, 12.0]   \n",
      "\n",
      "                                               steps  n_steps  \\\n",
      "0  [toss 2 cups berries with sugar, let stand for...       13   \n",
      "\n",
      "                                         description  \\\n",
      "0  this is yummy and low-fat, it always turns out...   \n",
      "\n",
      "                                         ingredients  n_ingredients  \\\n",
      "0  [blueberries, granulated sugar, vanilla yogurt...              4   \n",
      "\n",
      "                                              review  \\\n",
      "0  [Yummy, yummy, yummy! I am a big fan of fruit ...   \n",
      "\n",
      "                                                date  \\\n",
      "0  [2008-02-13 00:00:00, 2009-01-15 00:00:00, 201...   \n",
      "\n",
      "                                  user_id        rating  \n",
      "0  [596506, 1060485, 1802956262, 2123645]  [5, 4, 4, 4]  \n"
     ]
    }
   ],
   "source": [
    "\n",
    "df_g = df.groupby(['recipe_id']).agg({\n",
    "    'name':'first',\n",
    "    'minutes':'first',\n",
    "    'contributor_id':'first',\n",
    "    'submitted':'first',\n",
    "    'tags':'first',\n",
    "    'nutrition':'first',\n",
    "    'steps':'first',\n",
    "    'n_steps':'first',\n",
    "    'description':'first',\n",
    "    'ingredients':'first',\n",
    "    'n_ingredients':'first',\n",
    "    'review': list,\n",
    "    'date': list,\n",
    "    'user_id': list,\n",
    "    'rating': list\n",
    "}).reset_index()\n",
    "\n",
    "print(df_g.head(1))\n"
   ]
  },
  {
   "cell_type": "code",
   "execution_count": 73,
   "metadata": {},
   "outputs": [
    {
     "data": {
      "text/plain": [
       "recipe_id                  int64\n",
       "name                      object\n",
       "minutes                    int64\n",
       "contributor_id             int64\n",
       "submitted         datetime64[ns]\n",
       "tags                      object\n",
       "nutrition                 object\n",
       "steps                     object\n",
       "n_steps                    int64\n",
       "description               object\n",
       "ingredients               object\n",
       "n_ingredients              int64\n",
       "review                    object\n",
       "date                      object\n",
       "user_id                   object\n",
       "rating                    object\n",
       "dtype: object"
      ]
     },
     "execution_count": 73,
     "metadata": {},
     "output_type": "execute_result"
    }
   ],
   "source": [
    "df_g.dtypes"
   ]
  },
  {
   "cell_type": "code",
   "execution_count": 74,
   "metadata": {},
   "outputs": [
    {
     "name": "stdout",
     "output_type": "stream",
     "text": [
      "Nombre de valeurs manquantes : 4980\n"
     ]
    }
   ],
   "source": [
    "print(\"Nombre de valeurs manquantes :\", df_g.isna().sum().sum())\n"
   ]
  },
  {
   "cell_type": "markdown",
   "metadata": {},
   "source": [
    "visualisation les valeurs manquantes : \n",
    "\n",
    "Peut on remplacer la description manquante par le nom de la recette ? "
   ]
  },
  {
   "cell_type": "code",
   "execution_count": 75,
   "metadata": {},
   "outputs": [
    {
     "data": {
      "text/html": [
       "<div>\n",
       "<style scoped>\n",
       "    .dataframe tbody tr th:only-of-type {\n",
       "        vertical-align: middle;\n",
       "    }\n",
       "\n",
       "    .dataframe tbody tr th {\n",
       "        vertical-align: top;\n",
       "    }\n",
       "\n",
       "    .dataframe thead th {\n",
       "        text-align: right;\n",
       "    }\n",
       "</style>\n",
       "<table border=\"1\" class=\"dataframe\">\n",
       "  <thead>\n",
       "    <tr style=\"text-align: right;\">\n",
       "      <th></th>\n",
       "      <th>recipe_id</th>\n",
       "      <th>name</th>\n",
       "      <th>minutes</th>\n",
       "      <th>contributor_id</th>\n",
       "      <th>submitted</th>\n",
       "      <th>tags</th>\n",
       "      <th>nutrition</th>\n",
       "      <th>steps</th>\n",
       "      <th>n_steps</th>\n",
       "      <th>description</th>\n",
       "      <th>ingredients</th>\n",
       "      <th>n_ingredients</th>\n",
       "      <th>review</th>\n",
       "      <th>date</th>\n",
       "      <th>user_id</th>\n",
       "      <th>rating</th>\n",
       "    </tr>\n",
       "  </thead>\n",
       "  <tbody>\n",
       "    <tr>\n",
       "      <th>7</th>\n",
       "      <td>48</td>\n",
       "      <td>boston cream pie</td>\n",
       "      <td>135</td>\n",
       "      <td>1545</td>\n",
       "      <td>1999-08-24</td>\n",
       "      <td>[weeknight, time-to-make, course, main-ingredi...</td>\n",
       "      <td>[688.2, 56.0, 184.0, 30.0, 17.0, 64.0, 28.0]</td>\n",
       "      <td>[beat egg whites until soft peaks form, gradua...</td>\n",
       "      <td>32</td>\n",
       "      <td>None</td>\n",
       "      <td>[margarine, cake flour, baking powder, salt, s...</td>\n",
       "      <td>15</td>\n",
       "      <td>[The flavor was great. But I think there was n...</td>\n",
       "      <td>[2002-03-15 00:00:00, 2004-05-03 00:00:00]</td>\n",
       "      <td>[32421, 68674]</td>\n",
       "      <td>[0, 2]</td>\n",
       "    </tr>\n",
       "    <tr>\n",
       "      <th>9</th>\n",
       "      <td>50</td>\n",
       "      <td>biscotti di prato</td>\n",
       "      <td>70</td>\n",
       "      <td>1752</td>\n",
       "      <td>1999-08-31</td>\n",
       "      <td>[weeknight, time-to-make, course, cuisine, pre...</td>\n",
       "      <td>[89.4, 4.0, 29.0, 0.0, 4.0, 1.0, 4.0]</td>\n",
       "      <td>[egg wash 1 egg , large 1 tsp water in the bow...</td>\n",
       "      <td>7</td>\n",
       "      <td>None</td>\n",
       "      <td>[flour, sugar, baking powder, salt, eggs, vani...</td>\n",
       "      <td>10</td>\n",
       "      <td>[This recipe is sooooo close to what you find ...</td>\n",
       "      <td>[2004-12-15 00:00:00, 2009-03-22 00:00:00]</td>\n",
       "      <td>[10448, 1060485]</td>\n",
       "      <td>[5, 4]</td>\n",
       "    </tr>\n",
       "    <tr>\n",
       "      <th>10</th>\n",
       "      <td>52</td>\n",
       "      <td>cafe cappuccino</td>\n",
       "      <td>5</td>\n",
       "      <td>2178</td>\n",
       "      <td>1999-08-31</td>\n",
       "      <td>[15-minutes-or-less, time-to-make, course, cui...</td>\n",
       "      <td>[62.2, 0.0, 47.0, 1.0, 5.0, 0.0, 4.0]</td>\n",
       "      <td>[stir ingredients together, process in a blend...</td>\n",
       "      <td>4</td>\n",
       "      <td>None</td>\n",
       "      <td>[instant coffee, sugar, nonfat dry milk solid,...</td>\n",
       "      <td>4</td>\n",
       "      <td>[I haven't made this in years.  When the kids ...</td>\n",
       "      <td>[2004-08-02 00:00:00]</td>\n",
       "      <td>[133174]</td>\n",
       "      <td>[5]</td>\n",
       "    </tr>\n",
       "    <tr>\n",
       "      <th>11</th>\n",
       "      <td>53</td>\n",
       "      <td>jimmy g s carrot cake</td>\n",
       "      <td>110</td>\n",
       "      <td>1772</td>\n",
       "      <td>1999-09-08</td>\n",
       "      <td>[weeknight, time-to-make, course, main-ingredi...</td>\n",
       "      <td>[372.9, 16.0, 163.0, 7.0, 13.0, 16.0, 22.0]</td>\n",
       "      <td>[grease and lightly flour 2 9x1 1 / 2-inch rou...</td>\n",
       "      <td>15</td>\n",
       "      <td>None</td>\n",
       "      <td>[all-purpose flour, sugar, baking powder, baki...</td>\n",
       "      <td>13</td>\n",
       "      <td>[First Jimmy let me say that the taste was gre...</td>\n",
       "      <td>[2009-07-09 00:00:00]</td>\n",
       "      <td>[557764]</td>\n",
       "      <td>[3]</td>\n",
       "    </tr>\n",
       "    <tr>\n",
       "      <th>12</th>\n",
       "      <td>55</td>\n",
       "      <td>betty crocker s southwestern guacamole dip</td>\n",
       "      <td>125</td>\n",
       "      <td>1538</td>\n",
       "      <td>1999-09-15</td>\n",
       "      <td>[weeknight, time-to-make, course, cuisine, pre...</td>\n",
       "      <td>[415.9, 56.0, 11.0, 12.0, 11.0, 26.0, 8.0]</td>\n",
       "      <td>[peel and mash avocados until lumpy, add remai...</td>\n",
       "      <td>2</td>\n",
       "      <td>None</td>\n",
       "      <td>[avocados, tomatoes, salt, garlic, lime juice]</td>\n",
       "      <td>5</td>\n",
       "      <td>[I liked it. I was surprised since it didn't h...</td>\n",
       "      <td>[2006-01-12 00:00:00, 2006-03-31 00:00:00, 200...</td>\n",
       "      <td>[53959, 165567, 1060485, 851190]</td>\n",
       "      <td>[4, 5, 5, 5]</td>\n",
       "    </tr>\n",
       "  </tbody>\n",
       "</table>\n",
       "</div>"
      ],
      "text/plain": [
       "    recipe_id                                        name  minutes  \\\n",
       "7          48                            boston cream pie      135   \n",
       "9          50                           biscotti di prato       70   \n",
       "10         52                             cafe cappuccino        5   \n",
       "11         53                       jimmy g s carrot cake      110   \n",
       "12         55  betty crocker s southwestern guacamole dip      125   \n",
       "\n",
       "    contributor_id  submitted  \\\n",
       "7             1545 1999-08-24   \n",
       "9             1752 1999-08-31   \n",
       "10            2178 1999-08-31   \n",
       "11            1772 1999-09-08   \n",
       "12            1538 1999-09-15   \n",
       "\n",
       "                                                 tags  \\\n",
       "7   [weeknight, time-to-make, course, main-ingredi...   \n",
       "9   [weeknight, time-to-make, course, cuisine, pre...   \n",
       "10  [15-minutes-or-less, time-to-make, course, cui...   \n",
       "11  [weeknight, time-to-make, course, main-ingredi...   \n",
       "12  [weeknight, time-to-make, course, cuisine, pre...   \n",
       "\n",
       "                                       nutrition  \\\n",
       "7   [688.2, 56.0, 184.0, 30.0, 17.0, 64.0, 28.0]   \n",
       "9          [89.4, 4.0, 29.0, 0.0, 4.0, 1.0, 4.0]   \n",
       "10         [62.2, 0.0, 47.0, 1.0, 5.0, 0.0, 4.0]   \n",
       "11   [372.9, 16.0, 163.0, 7.0, 13.0, 16.0, 22.0]   \n",
       "12    [415.9, 56.0, 11.0, 12.0, 11.0, 26.0, 8.0]   \n",
       "\n",
       "                                                steps  n_steps description  \\\n",
       "7   [beat egg whites until soft peaks form, gradua...       32        None   \n",
       "9   [egg wash 1 egg , large 1 tsp water in the bow...        7        None   \n",
       "10  [stir ingredients together, process in a blend...        4        None   \n",
       "11  [grease and lightly flour 2 9x1 1 / 2-inch rou...       15        None   \n",
       "12  [peel and mash avocados until lumpy, add remai...        2        None   \n",
       "\n",
       "                                          ingredients  n_ingredients  \\\n",
       "7   [margarine, cake flour, baking powder, salt, s...             15   \n",
       "9   [flour, sugar, baking powder, salt, eggs, vani...             10   \n",
       "10  [instant coffee, sugar, nonfat dry milk solid,...              4   \n",
       "11  [all-purpose flour, sugar, baking powder, baki...             13   \n",
       "12     [avocados, tomatoes, salt, garlic, lime juice]              5   \n",
       "\n",
       "                                               review  \\\n",
       "7   [The flavor was great. But I think there was n...   \n",
       "9   [This recipe is sooooo close to what you find ...   \n",
       "10  [I haven't made this in years.  When the kids ...   \n",
       "11  [First Jimmy let me say that the taste was gre...   \n",
       "12  [I liked it. I was surprised since it didn't h...   \n",
       "\n",
       "                                                 date  \\\n",
       "7          [2002-03-15 00:00:00, 2004-05-03 00:00:00]   \n",
       "9          [2004-12-15 00:00:00, 2009-03-22 00:00:00]   \n",
       "10                              [2004-08-02 00:00:00]   \n",
       "11                              [2009-07-09 00:00:00]   \n",
       "12  [2006-01-12 00:00:00, 2006-03-31 00:00:00, 200...   \n",
       "\n",
       "                             user_id        rating  \n",
       "7                     [32421, 68674]        [0, 2]  \n",
       "9                   [10448, 1060485]        [5, 4]  \n",
       "10                          [133174]           [5]  \n",
       "11                          [557764]           [3]  \n",
       "12  [53959, 165567, 1060485, 851190]  [4, 5, 5, 5]  "
      ]
     },
     "execution_count": 75,
     "metadata": {},
     "output_type": "execute_result"
    }
   ],
   "source": [
    "df_g[df_g['description'].isna() | (df_g['description'].str.strip() == '')].head(5)\n"
   ]
  },
  {
   "cell_type": "markdown",
   "metadata": {},
   "source": [
    "Remplacons donc chaque description manquante par le nom de la recette."
   ]
  },
  {
   "cell_type": "code",
   "execution_count": 76,
   "metadata": {},
   "outputs": [
    {
     "name": "stdout",
     "output_type": "stream",
     "text": [
      "Nombre de valeurs manquantes : 1\n"
     ]
    }
   ],
   "source": [
    "df_g['description'] = df_g['description'].fillna(df_g['name'])\n",
    "\n",
    "print(\"Nombre de valeurs manquantes :\", df_g.isna().sum().sum())\n"
   ]
  },
  {
   "cell_type": "code",
   "execution_count": 114,
   "metadata": {},
   "outputs": [
    {
     "data": {
      "text/html": [
       "<div>\n",
       "<style scoped>\n",
       "    .dataframe tbody tr th:only-of-type {\n",
       "        vertical-align: middle;\n",
       "    }\n",
       "\n",
       "    .dataframe tbody tr th {\n",
       "        vertical-align: top;\n",
       "    }\n",
       "\n",
       "    .dataframe thead th {\n",
       "        text-align: right;\n",
       "    }\n",
       "</style>\n",
       "<table border=\"1\" class=\"dataframe\">\n",
       "  <thead>\n",
       "    <tr style=\"text-align: right;\">\n",
       "      <th></th>\n",
       "      <th>recipe_id</th>\n",
       "      <th>name</th>\n",
       "      <th>minutes</th>\n",
       "      <th>contributor_id</th>\n",
       "      <th>submitted</th>\n",
       "      <th>tags</th>\n",
       "      <th>nutrition</th>\n",
       "      <th>steps</th>\n",
       "      <th>n_steps</th>\n",
       "      <th>description</th>\n",
       "      <th>ingredients</th>\n",
       "      <th>n_ingredients</th>\n",
       "      <th>review</th>\n",
       "      <th>date</th>\n",
       "      <th>user_id</th>\n",
       "      <th>rating</th>\n",
       "      <th>year</th>\n",
       "      <th>month</th>\n",
       "      <th>day</th>\n",
       "      <th>day_of_week</th>\n",
       "    </tr>\n",
       "  </thead>\n",
       "  <tbody>\n",
       "    <tr>\n",
       "      <th>187044</th>\n",
       "      <td>368257</td>\n",
       "      <td>None</td>\n",
       "      <td>10</td>\n",
       "      <td>779451</td>\n",
       "      <td>2009-04-27</td>\n",
       "      <td>[15-minutes-or-less, time-to-make, course, pre...</td>\n",
       "      <td>[1596.2, 249.0, 155.0, 0.0, 2.0, 112.0, 14.0]</td>\n",
       "      <td>[in a bowl , combine ingredients except for ol...</td>\n",
       "      <td>6</td>\n",
       "      <td>-------------</td>\n",
       "      <td>[lemon, honey, horseradish mustard, garlic clo...</td>\n",
       "      <td>10</td>\n",
       "      <td>[This was great! Thanx. It was the only one wi...</td>\n",
       "      <td>[2010-01-14 00:00:00]</td>\n",
       "      <td>[353428]</td>\n",
       "      <td>[0]</td>\n",
       "      <td>2009</td>\n",
       "      <td>4</td>\n",
       "      <td>27</td>\n",
       "      <td>Monday</td>\n",
       "    </tr>\n",
       "  </tbody>\n",
       "</table>\n",
       "</div>"
      ],
      "text/plain": [
       "       recipe_id  name  minutes contributor_id  submitted  \\\n",
       "187044    368257  None       10         779451 2009-04-27   \n",
       "\n",
       "                                                     tags  \\\n",
       "187044  [15-minutes-or-less, time-to-make, course, pre...   \n",
       "\n",
       "                                            nutrition  \\\n",
       "187044  [1596.2, 249.0, 155.0, 0.0, 2.0, 112.0, 14.0]   \n",
       "\n",
       "                                                    steps  n_steps  \\\n",
       "187044  [in a bowl , combine ingredients except for ol...        6   \n",
       "\n",
       "          description                                        ingredients  \\\n",
       "187044  -------------  [lemon, honey, horseradish mustard, garlic clo...   \n",
       "\n",
       "        n_ingredients                                             review  \\\n",
       "187044             10  [This was great! Thanx. It was the only one wi...   \n",
       "\n",
       "                         date   user_id rating  year  month  day day_of_week  \n",
       "187044  [2010-01-14 00:00:00]  [353428]    [0]  2009      4   27      Monday  "
      ]
     },
     "execution_count": 114,
     "metadata": {},
     "output_type": "execute_result"
    }
   ],
   "source": [
    "df_g[df_g['name'].isna() | (df_g['name'].str.strip() == '')].head()"
   ]
  },
  {
   "cell_type": "markdown",
   "metadata": {},
   "source": [
    "On trouve une recette avec aucun nom : 2 solutions, essayer de lui trouver un nom avec les ingredients et les etapes... OU la supprimer."
   ]
  },
  {
   "cell_type": "code",
   "execution_count": 118,
   "metadata": {},
   "outputs": [
    {
     "name": "stdout",
     "output_type": "stream",
     "text": [
      "Nombre de valeurs manquantes : 0\n"
     ]
    }
   ],
   "source": [
    "df_g = df_g.dropna(subset=['name'])\n",
    "\n",
    "print(\"Nombre de valeurs manquantes :\", df_g.isna().sum().sum())"
   ]
  },
  {
   "cell_type": "markdown",
   "metadata": {},
   "source": [
    "Listes des variables et leur type :\n",
    "\n",
    "| recipe_id | minutes | contributor_id | submitted | tags | steps | n_steps | description | ingredients | n_ingredients | review | date | user_id | rating |\n",
    "| :-------: | :-----: | :------------: | :-------: | :--: | :---: | :-----: | :---------: | :---------: | :-----------: | :----: | :--: | :-----: | :----: |\n",
    "| qualitative nominale | quantitative discrete | qualitative nominale | quantitative continue | qualitative nominale | qualitative nominale | quantitative discrete | qualitative nominale | qualitative nominale | quantitative discrete | qualitative nominale | quantitative continue | qualitative nominale |  qualitative ordinale |"
   ]
  },
  {
   "cell_type": "markdown",
   "metadata": {},
   "source": [
    "### Analyse Univariés\n",
    "\n",
    "Commencons par l'analyse univariés de chaque variables, commencons par les variables de type Quantitatives discrete \n",
    "\n",
    "Les différentes colonnes Quantitatives discrète : *minutes, n_steps, n_ingredients*"
   ]
  },
  {
   "cell_type": "code",
   "execution_count": 77,
   "metadata": {},
   "outputs": [],
   "source": [
    "df_g['contributor_id'] = df_g.contributor_id.astype('category')\n",
    "df_g['recipe_id'] = df_g.recipe_id.astype('category')"
   ]
  },
  {
   "cell_type": "code",
   "execution_count": 78,
   "metadata": {},
   "outputs": [
    {
     "name": "stdout",
     "output_type": "stream",
     "text": [
      "            minutes                      submitted        n_steps  \\\n",
      "count  2.316370e+05                         231637  231637.000000   \n",
      "mean   9.398546e+03  2006-11-14 01:58:34.925508608       9.765499   \n",
      "min    0.000000e+00            1999-08-06 00:00:00       0.000000   \n",
      "25%    2.000000e+01            2004-09-16 00:00:00       6.000000   \n",
      "50%    4.000000e+01            2007-01-23 00:00:00       9.000000   \n",
      "75%    6.500000e+01            2008-10-29 00:00:00      12.000000   \n",
      "max    2.147484e+09            2018-12-04 00:00:00     145.000000   \n",
      "std    4.461963e+06                            NaN       5.995128   \n",
      "\n",
      "       n_ingredients  \n",
      "count  231637.000000  \n",
      "mean        9.051153  \n",
      "min         1.000000  \n",
      "25%         6.000000  \n",
      "50%         9.000000  \n",
      "75%        11.000000  \n",
      "max        43.000000  \n",
      "std         3.734796  \n",
      "\n",
      "Nombre de recettes :  231637\n"
     ]
    }
   ],
   "source": [
    "print(df_g.describe())\n",
    "\n",
    "print(f\"\\nNombre de recettes : \",df_g['recipe_id'].count())"
   ]
  },
  {
   "cell_type": "markdown",
   "metadata": {},
   "source": [
    "##### Colonne : *minutes*"
   ]
  },
  {
   "cell_type": "code",
   "execution_count": 79,
   "metadata": {},
   "outputs": [
    {
     "data": {
      "text/html": [
       "<div>\n",
       "<style scoped>\n",
       "    .dataframe tbody tr th:only-of-type {\n",
       "        vertical-align: middle;\n",
       "    }\n",
       "\n",
       "    .dataframe tbody tr th {\n",
       "        vertical-align: top;\n",
       "    }\n",
       "\n",
       "    .dataframe thead th {\n",
       "        text-align: right;\n",
       "    }\n",
       "</style>\n",
       "<table border=\"1\" class=\"dataframe\">\n",
       "  <thead>\n",
       "    <tr style=\"text-align: right;\">\n",
       "      <th></th>\n",
       "      <th>name</th>\n",
       "      <th>minutes</th>\n",
       "    </tr>\n",
       "  </thead>\n",
       "  <tbody>\n",
       "    <tr>\n",
       "      <th>141904</th>\n",
       "      <td>no bake granola balls</td>\n",
       "      <td>2147483647</td>\n",
       "    </tr>\n",
       "    <tr>\n",
       "      <th>213797</th>\n",
       "      <td>how to preserve a husband</td>\n",
       "      <td>1051200</td>\n",
       "    </tr>\n",
       "    <tr>\n",
       "      <th>155593</th>\n",
       "      <td>homemade fruit liquers</td>\n",
       "      <td>288000</td>\n",
       "    </tr>\n",
       "    <tr>\n",
       "      <th>120304</th>\n",
       "      <td>celtic druid s honey mead   meade   metheglin</td>\n",
       "      <td>259260</td>\n",
       "    </tr>\n",
       "    <tr>\n",
       "      <th>207668</th>\n",
       "      <td>homemade vanilla</td>\n",
       "      <td>259205</td>\n",
       "    </tr>\n",
       "  </tbody>\n",
       "</table>\n",
       "</div>"
      ],
      "text/plain": [
       "                                                 name     minutes\n",
       "141904                          no bake granola balls  2147483647\n",
       "213797                      how to preserve a husband     1051200\n",
       "155593                         homemade fruit liquers      288000\n",
       "120304  celtic druid s honey mead   meade   metheglin      259260\n",
       "207668                               homemade vanilla      259205"
      ]
     },
     "execution_count": 79,
     "metadata": {},
     "output_type": "execute_result"
    }
   ],
   "source": [
    "df_g  = df_g.sort_values('minutes',ascending=False)\n",
    "df_g[['name','minutes']].head(5)\n"
   ]
  },
  {
   "cell_type": "markdown",
   "metadata": {},
   "source": [
    "Les deux premières dates semblent etres des outlayers de recettes 'trolls' : nous les retirons donc du dataset. "
   ]
  },
  {
   "cell_type": "code",
   "execution_count": 80,
   "metadata": {},
   "outputs": [
    {
     "data": {
      "text/html": [
       "<div>\n",
       "<style scoped>\n",
       "    .dataframe tbody tr th:only-of-type {\n",
       "        vertical-align: middle;\n",
       "    }\n",
       "\n",
       "    .dataframe tbody tr th {\n",
       "        vertical-align: top;\n",
       "    }\n",
       "\n",
       "    .dataframe thead th {\n",
       "        text-align: right;\n",
       "    }\n",
       "</style>\n",
       "<table border=\"1\" class=\"dataframe\">\n",
       "  <thead>\n",
       "    <tr style=\"text-align: right;\">\n",
       "      <th></th>\n",
       "      <th>name</th>\n",
       "      <th>minutes</th>\n",
       "    </tr>\n",
       "  </thead>\n",
       "  <tbody>\n",
       "    <tr>\n",
       "      <th>155593</th>\n",
       "      <td>homemade fruit liquers</td>\n",
       "      <td>288000</td>\n",
       "    </tr>\n",
       "    <tr>\n",
       "      <th>120304</th>\n",
       "      <td>celtic druid s honey mead   meade   metheglin</td>\n",
       "      <td>259260</td>\n",
       "    </tr>\n",
       "    <tr>\n",
       "      <th>207668</th>\n",
       "      <td>homemade vanilla</td>\n",
       "      <td>259205</td>\n",
       "    </tr>\n",
       "    <tr>\n",
       "      <th>57271</th>\n",
       "      <td>peach brandy</td>\n",
       "      <td>216015</td>\n",
       "    </tr>\n",
       "    <tr>\n",
       "      <th>40504</th>\n",
       "      <td>angelica liqueur</td>\n",
       "      <td>201610</td>\n",
       "    </tr>\n",
       "  </tbody>\n",
       "</table>\n",
       "</div>"
      ],
      "text/plain": [
       "                                                 name  minutes\n",
       "155593                         homemade fruit liquers   288000\n",
       "120304  celtic druid s honey mead   meade   metheglin   259260\n",
       "207668                               homemade vanilla   259205\n",
       "57271                                    peach brandy   216015\n",
       "40504                                angelica liqueur   201610"
      ]
     },
     "execution_count": 80,
     "metadata": {},
     "output_type": "execute_result"
    }
   ],
   "source": [
    "df_g = df_g.drop(df_g['minutes'].nlargest(2).index)\n",
    "\n",
    "df_g[['name','minutes']].head(5)"
   ]
  },
  {
   "cell_type": "code",
   "execution_count": 81,
   "metadata": {},
   "outputs": [
    {
     "data": {
      "text/html": [
       "<div>\n",
       "<style scoped>\n",
       "    .dataframe tbody tr th:only-of-type {\n",
       "        vertical-align: middle;\n",
       "    }\n",
       "\n",
       "    .dataframe tbody tr th {\n",
       "        vertical-align: top;\n",
       "    }\n",
       "\n",
       "    .dataframe thead th {\n",
       "        text-align: right;\n",
       "    }\n",
       "</style>\n",
       "<table border=\"1\" class=\"dataframe\">\n",
       "  <thead>\n",
       "    <tr style=\"text-align: right;\">\n",
       "      <th></th>\n",
       "      <th>name</th>\n",
       "      <th>minutes</th>\n",
       "    </tr>\n",
       "  </thead>\n",
       "  <tbody>\n",
       "    <tr>\n",
       "      <th>1831</th>\n",
       "      <td>tuna   macaroni casserole siciliana</td>\n",
       "      <td>0</td>\n",
       "    </tr>\n",
       "    <tr>\n",
       "      <th>480</th>\n",
       "      <td>mushroom torte</td>\n",
       "      <td>0</td>\n",
       "    </tr>\n",
       "    <tr>\n",
       "      <th>481</th>\n",
       "      <td>char siu pork</td>\n",
       "      <td>0</td>\n",
       "    </tr>\n",
       "    <tr>\n",
       "      <th>482</th>\n",
       "      <td>amish biscuits</td>\n",
       "      <td>0</td>\n",
       "    </tr>\n",
       "    <tr>\n",
       "      <th>466</th>\n",
       "      <td>golden peanut bars</td>\n",
       "      <td>0</td>\n",
       "    </tr>\n",
       "  </tbody>\n",
       "</table>\n",
       "</div>"
      ],
      "text/plain": [
       "                                     name  minutes\n",
       "1831  tuna   macaroni casserole siciliana        0\n",
       "480                        mushroom torte        0\n",
       "481                         char siu pork        0\n",
       "482                        amish biscuits        0\n",
       "466                    golden peanut bars        0"
      ]
     },
     "execution_count": 81,
     "metadata": {},
     "output_type": "execute_result"
    }
   ],
   "source": [
    "df_g  = df_g.sort_values('minutes',ascending=True)\n",
    "df_g[['name','minutes']].head(5)"
   ]
  },
  {
   "cell_type": "code",
   "execution_count": 82,
   "metadata": {},
   "outputs": [
    {
     "data": {
      "text/html": [
       "<div>\n",
       "<style scoped>\n",
       "    .dataframe tbody tr th:only-of-type {\n",
       "        vertical-align: middle;\n",
       "    }\n",
       "\n",
       "    .dataframe tbody tr th {\n",
       "        vertical-align: top;\n",
       "    }\n",
       "\n",
       "    .dataframe thead th {\n",
       "        text-align: right;\n",
       "    }\n",
       "</style>\n",
       "<table border=\"1\" class=\"dataframe\">\n",
       "  <thead>\n",
       "    <tr style=\"text-align: right;\">\n",
       "      <th></th>\n",
       "      <th>name</th>\n",
       "      <th>minutes</th>\n",
       "    </tr>\n",
       "  </thead>\n",
       "  <tbody>\n",
       "    <tr>\n",
       "      <th>152553</th>\n",
       "      <td>coffee   bbq  squealin  good wake me up java rub</td>\n",
       "      <td>2</td>\n",
       "    </tr>\n",
       "    <tr>\n",
       "      <th>224637</th>\n",
       "      <td>pirate punch</td>\n",
       "      <td>2</td>\n",
       "    </tr>\n",
       "    <tr>\n",
       "      <th>13172</th>\n",
       "      <td>rice croquettes</td>\n",
       "      <td>2</td>\n",
       "    </tr>\n",
       "    <tr>\n",
       "      <th>100204</th>\n",
       "      <td>kate s afternoon wine cooler  zwt   france</td>\n",
       "      <td>2</td>\n",
       "    </tr>\n",
       "    <tr>\n",
       "      <th>150197</th>\n",
       "      <td>romeo and juliet  cheese and jam</td>\n",
       "      <td>2</td>\n",
       "    </tr>\n",
       "    <tr>\n",
       "      <th>136747</th>\n",
       "      <td>my special chili powder</td>\n",
       "      <td>2</td>\n",
       "    </tr>\n",
       "    <tr>\n",
       "      <th>225428</th>\n",
       "      <td>easy and fun brownie in a mug</td>\n",
       "      <td>2</td>\n",
       "    </tr>\n",
       "    <tr>\n",
       "      <th>193745</th>\n",
       "      <td>citrus tahini</td>\n",
       "      <td>2</td>\n",
       "    </tr>\n",
       "    <tr>\n",
       "      <th>18908</th>\n",
       "      <td>easy strawberry banana smoothie</td>\n",
       "      <td>2</td>\n",
       "    </tr>\n",
       "    <tr>\n",
       "      <th>33252</th>\n",
       "      <td>dairy free and delicious hot cocoa</td>\n",
       "      <td>2</td>\n",
       "    </tr>\n",
       "  </tbody>\n",
       "</table>\n",
       "</div>"
      ],
      "text/plain": [
       "                                                    name  minutes\n",
       "152553  coffee   bbq  squealin  good wake me up java rub        2\n",
       "224637                                      pirate punch        2\n",
       "13172                                    rice croquettes        2\n",
       "100204        kate s afternoon wine cooler  zwt   france        2\n",
       "150197                  romeo and juliet  cheese and jam        2\n",
       "136747                           my special chili powder        2\n",
       "225428                     easy and fun brownie in a mug        2\n",
       "193745                                     citrus tahini        2\n",
       "18908                    easy strawberry banana smoothie        2\n",
       "33252                 dairy free and delicious hot cocoa        2"
      ]
     },
     "execution_count": 82,
     "metadata": {},
     "output_type": "execute_result"
    }
   ],
   "source": [
    "\n",
    "#idx = df_g.index[(df_g['minutes'] == df_g['minutes'].min())].tolist()\n",
    "idx = df_g.index[df_g['minutes'] < 2].tolist()\n",
    "\n",
    "df_g = df_g.drop(idx)\n",
    "\n",
    "\n",
    "df_g[['name','minutes']].head(10)"
   ]
  },
  {
   "cell_type": "code",
   "execution_count": 83,
   "metadata": {},
   "outputs": [
    {
     "data": {
      "text/html": [
       "<div>\n",
       "<style scoped>\n",
       "    .dataframe tbody tr th:only-of-type {\n",
       "        vertical-align: middle;\n",
       "    }\n",
       "\n",
       "    .dataframe tbody tr th {\n",
       "        vertical-align: top;\n",
       "    }\n",
       "\n",
       "    .dataframe thead th {\n",
       "        text-align: right;\n",
       "    }\n",
       "</style>\n",
       "<table border=\"1\" class=\"dataframe\">\n",
       "  <thead>\n",
       "    <tr style=\"text-align: right;\">\n",
       "      <th></th>\n",
       "      <th>minutes</th>\n",
       "      <th>submitted</th>\n",
       "      <th>n_steps</th>\n",
       "      <th>n_ingredients</th>\n",
       "    </tr>\n",
       "  </thead>\n",
       "  <tbody>\n",
       "    <tr>\n",
       "      <th>count</th>\n",
       "      <td>229999.000000</td>\n",
       "      <td>229999</td>\n",
       "      <td>229999.000000</td>\n",
       "      <td>229999.000000</td>\n",
       "    </tr>\n",
       "    <tr>\n",
       "      <th>mean</th>\n",
       "      <td>123.981465</td>\n",
       "      <td>2006-11-25 11:33:48.827951872</td>\n",
       "      <td>9.777851</td>\n",
       "      <td>9.063248</td>\n",
       "    </tr>\n",
       "    <tr>\n",
       "      <th>min</th>\n",
       "      <td>2.000000</td>\n",
       "      <td>1999-08-06 00:00:00</td>\n",
       "      <td>0.000000</td>\n",
       "      <td>1.000000</td>\n",
       "    </tr>\n",
       "    <tr>\n",
       "      <th>25%</th>\n",
       "      <td>20.000000</td>\n",
       "      <td>2004-10-05 00:00:00</td>\n",
       "      <td>6.000000</td>\n",
       "      <td>6.000000</td>\n",
       "    </tr>\n",
       "    <tr>\n",
       "      <th>50%</th>\n",
       "      <td>40.000000</td>\n",
       "      <td>2007-01-30 00:00:00</td>\n",
       "      <td>9.000000</td>\n",
       "      <td>9.000000</td>\n",
       "    </tr>\n",
       "    <tr>\n",
       "      <th>75%</th>\n",
       "      <td>65.000000</td>\n",
       "      <td>2008-11-02 00:00:00</td>\n",
       "      <td>12.000000</td>\n",
       "      <td>11.000000</td>\n",
       "    </tr>\n",
       "    <tr>\n",
       "      <th>max</th>\n",
       "      <td>288000.000000</td>\n",
       "      <td>2018-12-04 00:00:00</td>\n",
       "      <td>145.000000</td>\n",
       "      <td>43.000000</td>\n",
       "    </tr>\n",
       "    <tr>\n",
       "      <th>std</th>\n",
       "      <td>1984.762272</td>\n",
       "      <td>NaN</td>\n",
       "      <td>5.990552</td>\n",
       "      <td>3.730813</td>\n",
       "    </tr>\n",
       "  </tbody>\n",
       "</table>\n",
       "</div>"
      ],
      "text/plain": [
       "             minutes                      submitted        n_steps  \\\n",
       "count  229999.000000                         229999  229999.000000   \n",
       "mean      123.981465  2006-11-25 11:33:48.827951872       9.777851   \n",
       "min         2.000000            1999-08-06 00:00:00       0.000000   \n",
       "25%        20.000000            2004-10-05 00:00:00       6.000000   \n",
       "50%        40.000000            2007-01-30 00:00:00       9.000000   \n",
       "75%        65.000000            2008-11-02 00:00:00      12.000000   \n",
       "max    288000.000000            2018-12-04 00:00:00     145.000000   \n",
       "std      1984.762272                            NaN       5.990552   \n",
       "\n",
       "       n_ingredients  \n",
       "count  229999.000000  \n",
       "mean        9.063248  \n",
       "min         1.000000  \n",
       "25%         6.000000  \n",
       "50%         9.000000  \n",
       "75%        11.000000  \n",
       "max        43.000000  \n",
       "std         3.730813  "
      ]
     },
     "execution_count": 83,
     "metadata": {},
     "output_type": "execute_result"
    }
   ],
   "source": [
    "df_g.describe()"
   ]
  },
  {
   "cell_type": "markdown",
   "metadata": {},
   "source": [
    "Tentons de representer la distributions des minutes dans un Violin Plot"
   ]
  },
  {
   "cell_type": "code",
   "execution_count": 84,
   "metadata": {},
   "outputs": [
    {
     "data": {
      "text/plain": [
       "Text(0, 0.5, 'Log minutes')"
      ]
     },
     "execution_count": 84,
     "metadata": {},
     "output_type": "execute_result"
    },
    {
     "data": {
      "image/png": "[encoded data removed]",
      "text/plain": [
       "<Figure size 640x480 with 1 Axes>"
      ]
     },
     "metadata": {},
     "output_type": "display_data"
    }
   ],
   "source": [
    "plt.figure()\n",
    "sb.violinplot(np.log(1+df_g['minutes']),inner='quartile')\n",
    "plt.ylabel('Log minutes')"
   ]
  },
  {
   "cell_type": "code",
   "execution_count": 85,
   "metadata": {},
   "outputs": [
    {
     "data": {
      "image/png": "[encoded data removed]",
      "text/plain": [
       "<Figure size 640x480 with 1 Axes>"
      ]
     },
     "metadata": {},
     "output_type": "display_data"
    }
   ],
   "source": [
    "plt.figure()\n",
    "sb.histplot(np.log(1+df_g['minutes']), kde=True, bins=40)\n",
    "plt.title(\"Histogramme des minutes\")\n",
    "plt.xlabel('Log minutes')\n",
    "plt.show()\n"
   ]
  },
  {
   "cell_type": "code",
   "execution_count": 86,
   "metadata": {},
   "outputs": [
    {
     "name": "stdout",
     "output_type": "stream",
     "text": [
      "Skewness: 77.75383089002342\n",
      "Kurtosis: 7830.45043221403\n"
     ]
    }
   ],
   "source": [
    "skewness_minutes = scipy.stats.skew(df_g['minutes'])\n",
    "kurt_minutes = scipy.stats.kurtosis(df_g['minutes'])\n",
    "\n",
    "print(f'Skewness: {skewness_minutes}')\n",
    "print(f'Kurtosis: {kurt_minutes}')\n"
   ]
  },
  {
   "cell_type": "markdown",
   "metadata": {},
   "source": [
    "On retrouve une skewness et un Kurtosis elevé mais ceci est du a la présence d'outliers important. \n",
    "\n",
    "Skewness > 0 : La distribution est asymétrique avec une masse importante à gauche\n",
    "Kurtnosis > 3 : Valeurs très proche de la moyenne mais des outliers important\n",
    "\n",
    "Doit on les retirés et donc pas considèré les modes sur les alcools ? "
   ]
  },
  {
   "cell_type": "markdown",
   "metadata": {},
   "source": [
    "##### Colonne : *n_steps*\n",
    "\n",
    "Verifier les valeurs max :"
   ]
  },
  {
   "cell_type": "code",
   "execution_count": 87,
   "metadata": {},
   "outputs": [
    {
     "data": {
      "text/html": [
       "<div>\n",
       "<style scoped>\n",
       "    .dataframe tbody tr th:only-of-type {\n",
       "        vertical-align: middle;\n",
       "    }\n",
       "\n",
       "    .dataframe tbody tr th {\n",
       "        vertical-align: top;\n",
       "    }\n",
       "\n",
       "    .dataframe thead th {\n",
       "        text-align: right;\n",
       "    }\n",
       "</style>\n",
       "<table border=\"1\" class=\"dataframe\">\n",
       "  <thead>\n",
       "    <tr style=\"text-align: right;\">\n",
       "      <th></th>\n",
       "      <th>name</th>\n",
       "      <th>n_steps</th>\n",
       "      <th>steps</th>\n",
       "    </tr>\n",
       "  </thead>\n",
       "  <tbody>\n",
       "    <tr>\n",
       "      <th>90562</th>\n",
       "      <td>easy yeast bread with variations</td>\n",
       "      <td>145</td>\n",
       "      <td>[white bread:, lightly spooning flour into mea...</td>\n",
       "    </tr>\n",
       "    <tr>\n",
       "      <th>108600</th>\n",
       "      <td>chocolate raspberry mousse truffle cake   rasp...</td>\n",
       "      <td>113</td>\n",
       "      <td>[make the chocolate sour cream cake:, preheat ...</td>\n",
       "    </tr>\n",
       "    <tr>\n",
       "      <th>89963</th>\n",
       "      <td>chocolate raspberry ruffle cake</td>\n",
       "      <td>110</td>\n",
       "      <td>[first of all: these are not typical direction...</td>\n",
       "    </tr>\n",
       "    <tr>\n",
       "      <th>37274</th>\n",
       "      <td>5 cheese crab lasagna with roasted garlic and ...</td>\n",
       "      <td>108</td>\n",
       "      <td>[roast garlic: place oven rack on second notch...</td>\n",
       "    </tr>\n",
       "    <tr>\n",
       "      <th>182584</th>\n",
       "      <td>death by chocolate a la trellis</td>\n",
       "      <td>100</td>\n",
       "      <td>[take a deep breath, make sure that you will h...</td>\n",
       "    </tr>\n",
       "    <tr>\n",
       "      <th>231622</th>\n",
       "      <td>vampire s kiss cake</td>\n",
       "      <td>98</td>\n",
       "      <td>[make your batter, preheat your oven to 350c p...</td>\n",
       "    </tr>\n",
       "    <tr>\n",
       "      <th>114718</th>\n",
       "      <td>universal muffins mix</td>\n",
       "      <td>97</td>\n",
       "      <td>[combine ingredients and break up any lumps, s...</td>\n",
       "    </tr>\n",
       "    <tr>\n",
       "      <th>215548</th>\n",
       "      <td>best authentic mexican tamales ever</td>\n",
       "      <td>93</td>\n",
       "      <td>[cook and shred pork roast:, start with 1 pork...</td>\n",
       "    </tr>\n",
       "    <tr>\n",
       "      <th>37493</th>\n",
       "      <td>carioca</td>\n",
       "      <td>90</td>\n",
       "      <td>[for the genoise: preheat the oven to 350 degr...</td>\n",
       "    </tr>\n",
       "    <tr>\n",
       "      <th>152530</th>\n",
       "      <td>classic pumpkin pie for expats</td>\n",
       "      <td>88</td>\n",
       "      <td>[this recipe is involved and could take a good...</td>\n",
       "    </tr>\n",
       "  </tbody>\n",
       "</table>\n",
       "</div>"
      ],
      "text/plain": [
       "                                                     name  n_steps  \\\n",
       "90562                    easy yeast bread with variations      145   \n",
       "108600  chocolate raspberry mousse truffle cake   rasp...      113   \n",
       "89963                     chocolate raspberry ruffle cake      110   \n",
       "37274   5 cheese crab lasagna with roasted garlic and ...      108   \n",
       "182584                    death by chocolate a la trellis      100   \n",
       "231622                                vampire s kiss cake       98   \n",
       "114718                              universal muffins mix       97   \n",
       "215548                best authentic mexican tamales ever       93   \n",
       "37493                                             carioca       90   \n",
       "152530                     classic pumpkin pie for expats       88   \n",
       "\n",
       "                                                    steps  \n",
       "90562   [white bread:, lightly spooning flour into mea...  \n",
       "108600  [make the chocolate sour cream cake:, preheat ...  \n",
       "89963   [first of all: these are not typical direction...  \n",
       "37274   [roast garlic: place oven rack on second notch...  \n",
       "182584  [take a deep breath, make sure that you will h...  \n",
       "231622  [make your batter, preheat your oven to 350c p...  \n",
       "114718  [combine ingredients and break up any lumps, s...  \n",
       "215548  [cook and shred pork roast:, start with 1 pork...  \n",
       "37493   [for the genoise: preheat the oven to 350 degr...  \n",
       "152530  [this recipe is involved and could take a good...  "
      ]
     },
     "execution_count": 87,
     "metadata": {},
     "output_type": "execute_result"
    }
   ],
   "source": [
    "df_g  = df_g.sort_values('n_steps',ascending=False)\n",
    "df_g[['name','n_steps','steps']].head(10)"
   ]
  },
  {
   "cell_type": "code",
   "execution_count": 88,
   "metadata": {},
   "outputs": [
    {
     "data": {
      "text/plain": [
       "['white bread:',\n",
       " 'lightly spooning flour into measuring cup & leveling off , measure out 2 1 / 2 cups flour',\n",
       " 'combine flour , dry yeast , sugar , & salt in a large mixer bowl',\n",
       " 'blend',\n",
       " 'in a medium saucepan , combine water , milk , and oil',\n",
       " 'heat until very warm',\n",
       " 'add eggs and liquid to flour mixture',\n",
       " 'mixing - blend at low speed until moistened',\n",
       " 'beat 3 minutes at medium speed',\n",
       " 'with a wooden spoon , stir in an additional 3 to 3-1 / 2 cups of flour to form a sticky dough',\n",
       " 'in bowl or on a floured board , gradually work in 1 / 2 to 1-1 / 2 cups more flour , kneading or working in with hands until dough is smooth , pliable and no longer sticky',\n",
       " 'rising - place dough in a greased bowl',\n",
       " 'cover with a cloth or loose fit lid',\n",
       " 'let rise in a warm place until light and double in size , about 45 minutes',\n",
       " 'shaping & baking:punch down dough to remove air bubbles',\n",
       " 'divide dough into two parts',\n",
       " 'from dough into desired shapes',\n",
       " 'place in greased pans according to shaping and baking directions',\n",
       " 'cover , let rise in a warm place until light and doubled in size , about 30 minutes',\n",
       " 'bake at 375f according to shape until loaf sounds hollow when lightly tapped',\n",
       " 'immediately remove from pans',\n",
       " 'cool',\n",
       " 'whole wheat bread -',\n",
       " 'follow white bread recipe',\n",
       " 'after beating with mixer , stir in 3 cups of whole wheat flour in stead of white , knead in 3 / 4 to 1-1 / 4 cups white flour',\n",
       " 'medium rye bread -',\n",
       " 'follow white bread recipe',\n",
       " 'after beating with mixer , stir in 3 cups medium rye flour instead of white flour',\n",
       " 'knead in 1-1 / 4 to 1-3 / 4 cups white flour',\n",
       " 'rye dough should not completely double in size',\n",
       " 'add 1 tbsp freshly crushed caraway seeds with rye flour',\n",
       " 'decrease the first rising periods by 15 minutes each',\n",
       " '-----',\n",
       " 'ingredient variations',\n",
       " 'ingredients stirred in are added with the flour as it is stirred inches',\n",
       " 'honey / molasses: substitute 1 / 4 cup for sugar',\n",
       " 'reduce milk to 3 / 4 cup',\n",
       " 'brown sugar: substitute 1 / 4 cup for the white sugar',\n",
       " 'rolled oats: stir in 1 / 2 cup',\n",
       " 'wheat germ: stir in 1 / 2 cup',\n",
       " 'cheese: stir in 1 cup shredded cheddar , american , monterey jack or swiss cheese',\n",
       " 'herbs & spices: stir in 1 / 4 to 1 / 2 tsp celery seed or dill weed , or 1 / 2 tsp italian seasoning , or 2 tbsp minced chives , caraway or sesame seeds',\n",
       " 'onion: stir in 1 / 2 cup , finely chopped',\n",
       " 'raisins / chopped dates or other dried fruit: use sweet dough recipe',\n",
       " 'stir in 1-1 / 2 cups fruit',\n",
       " '-----',\n",
       " 'specialty white bread variations -',\n",
       " 'french bread: reduce sugar to 1 tbsp',\n",
       " 'omit milk and eggs',\n",
       " 'use 2 cups water',\n",
       " 'reduce stirred in flour to 1-1 / 2 to 2 cups',\n",
       " 'increase first rise to 1 hour',\n",
       " 'shape and bake according to shaping and baking directions',\n",
       " 'french loaf or rolls: brush with beaten egg just before baking',\n",
       " '-----',\n",
       " 'rich egg bread - increase sugar to 1 / 3 cup',\n",
       " 'decrease water to 3 / 4 cup',\n",
       " 'use 3 eggs',\n",
       " '-----',\n",
       " 'south of the border loaf - decrease sugar to 1 tablespoons decrease milk to 1 / 2 cup',\n",
       " 'increase stirred in flour to 3-1 / 2 to 4 cups',\n",
       " 'with this flour , stir in the following: 1 / 2 cup sour cream , 1 / 2 cup chopped olives , 1 / 2 cup chopped onion , 1 cup shredded cheddar or monterey jack cheese , 1 / 4 tsp garlic powder , 1 to 4 tbsp minced green chilies',\n",
       " 'shape and bake according to directions for regular or round loaves , or rolls',\n",
       " '-----',\n",
       " 'sweet dough - increase sugar to 1 / 2 cup',\n",
       " 'eliminate water',\n",
       " 'use 2 cups milk',\n",
       " 'substitute butter or margarine for oil',\n",
       " 'cinnamon swirl - pat each half of dough into a 7x14-inch rectangle',\n",
       " 'spread with 1 tbsp butter or margarine',\n",
       " 'combine 1 / 2 cup sugar and 2 tbsp cinnamon',\n",
       " 'sprinkle half of mixture over each rectangle',\n",
       " 'starting with the 7-inch side , roll jelly-roll style',\n",
       " 'seal all edges tightly',\n",
       " 'shape and bake according to instructions for a regular loaf',\n",
       " '-----',\n",
       " 'specialty dark bread variations -',\n",
       " 'delicatessen rye bread - (use basic med-rye recipe} omit sugar , water and 1 egg',\n",
       " 'for warm liquid , heat 1-3 / 4 cups milk , 1 / 4 cup molasses , 1 / 4 cup cooking oil and 1 square unsweetened chocolate',\n",
       " 'along with stirred in flour at 1 tbsp caraway seed stir in 1 / 4 to 1 cup white flour with the rye flour',\n",
       " 'do let the dough to rise until double',\n",
       " 'increase first rise to about 1 hour and the second to about 40 minutes',\n",
       " 'increase the baking temperature to 400f',\n",
       " 'bake loaves 30-40 minutes',\n",
       " 'hearty whole wheat loaves - substitute 1 / 4 cup brown sugar for the white sugar',\n",
       " 'along with the stirred in flour add 1 / 2 cup each wheat germ and rolled oats and 2 tbsp sesame seeds',\n",
       " 'decrease kneaded in white flour to 1 / 4 to 3 / 4 cup',\n",
       " 'increase first rise to about 1 hour',\n",
       " 'light pumpernickel bread - eliminate sugar',\n",
       " 'decrease water to 3 / 4 cup',\n",
       " 'heat 1 / 4 cup molasses with other liquids',\n",
       " 'along with stirred in flour add 2 tbsp caraway seeds',\n",
       " '100% whole wheat bread - eliminate white flour',\n",
       " 'stir in 3 to 3-1 / 2 cups whole wheat flour',\n",
       " 'knead in a further 1 / 2 to 1-1 / 2 cups whole wheat flour',\n",
       " '----------------------',\n",
       " 'shaping and baking: use half of dough to make each shape',\n",
       " 'using solid shortening , generously grease pans',\n",
       " 'if desired , just before baking , slash top of loaf in any design using a sharp knife',\n",
       " 'bake breads at 375f: [u]all loaves[ / u] - 35 to 45 minutes or until loaf sounds hollow when lightly tapped',\n",
       " 'all rolls - 10 to 20 minutes',\n",
       " 'regular loaf: use a 9x5 or 8x4-inch loaf pan',\n",
       " 'press dough into pan',\n",
       " 'insert fingers between pan and dough to round edges',\n",
       " 'round loaf: use an 8 or 9-inch round cake pan , 1-1 / 2 quart round casserole or cookie sheet',\n",
       " 'form dough into round ball',\n",
       " 'flatten slightly',\n",
       " 'french & oblong loaf:',\n",
       " 'french: form dough into 14-inch loaf',\n",
       " 'taper ends',\n",
       " 'oblong: form dough into 8 to 10-inch oblong loaf',\n",
       " 'round ends',\n",
       " 'rope shaped loaves: shape half of dough into a 26-inch rope',\n",
       " 'form into any desired shape described below',\n",
       " 'coil: use 8 or 9-inch round cake pan , 1-1 / 2 quart round casserole or cookie sheet',\n",
       " 'beginning at center of loaf , roll rope into snail shape',\n",
       " 'tuck tail under',\n",
       " 'twist: use a 9x5 or 8x4-inch loaf pan or cookie sheet',\n",
       " 'cut rope in half to form two 13-inch ropes',\n",
       " 'twist together',\n",
       " 'seal ends',\n",
       " 'figure eight: use a 9x5 or 8x4-inch loaf pan or cookie sheet',\n",
       " 'form rope into figure-eight',\n",
       " 'seal ends',\n",
       " 'doughnut: use cookie sheet',\n",
       " 'form circle by bringing ends of rope together',\n",
       " 'seal',\n",
       " 'flatten circle to 1-1 / 2 inch thickness',\n",
       " 'rolls -',\n",
       " 'round: form dough into 12 2-inch balls',\n",
       " 'vienna: from dough into eight 6-inch oval rolls',\n",
       " 'flatten slightly',\n",
       " 'breadsticks: cut dough into walnut size pieces',\n",
       " 'roll with hands into 5-inch sticks',\n",
       " 'bread glazes - use any of the following glazes to create different crusts',\n",
       " 'soft buttery crusts: brush loaves with softened or melted butter or margarine after baking',\n",
       " 'crisp shiny crust: brush loaves with a mixture of 1 egg and 1 tbsp water just before baking',\n",
       " 'may be sprinkled with poppy or sesame seed',\n",
       " 'delicatessen crust: remove loaves from oven 5 minutes before done',\n",
       " 'brush with a mixture of 1 / 2 tsp cornstarch and 1 / 4 cup water that has been heated to boiling',\n",
       " 'return to oven to finish baking',\n",
       " 'cinnamon / sugar crust: brush loaves with 2 tbsp melted butter or margarine',\n",
       " 'sprinkle with mixture of 2 tbsp sugar and 1 / 2 tsp cinnamon after baking',\n",
       " 'slightly crisp , shiny sweet crust: brush loaves with a mixture of 1 tbsp each of sugar and water after baking',\n",
       " 'from:']"
      ]
     },
     "execution_count": 88,
     "metadata": {},
     "output_type": "execute_result"
    }
   ],
   "source": [
    "df_g['steps'].iloc[0]"
   ]
  },
  {
   "cell_type": "markdown",
   "metadata": {},
   "source": [
    "Verifier les valeurs min : "
   ]
  },
  {
   "cell_type": "code",
   "execution_count": 89,
   "metadata": {},
   "outputs": [
    {
     "data": {
      "text/html": [
       "<div>\n",
       "<style scoped>\n",
       "    .dataframe tbody tr th:only-of-type {\n",
       "        vertical-align: middle;\n",
       "    }\n",
       "\n",
       "    .dataframe tbody tr th {\n",
       "        vertical-align: top;\n",
       "    }\n",
       "\n",
       "    .dataframe thead th {\n",
       "        text-align: right;\n",
       "    }\n",
       "</style>\n",
       "<table border=\"1\" class=\"dataframe\">\n",
       "  <thead>\n",
       "    <tr style=\"text-align: right;\">\n",
       "      <th></th>\n",
       "      <th>name</th>\n",
       "      <th>n_steps</th>\n",
       "      <th>steps</th>\n",
       "    </tr>\n",
       "  </thead>\n",
       "  <tbody>\n",
       "    <tr>\n",
       "      <th>100335</th>\n",
       "      <td>all season bread</td>\n",
       "      <td>0</td>\n",
       "      <td>[]</td>\n",
       "    </tr>\n",
       "    <tr>\n",
       "      <th>69412</th>\n",
       "      <td>cauliflower salad made like  potato salad   lo...</td>\n",
       "      <td>1</td>\n",
       "      <td>[combine ingredients and chill before serving]</td>\n",
       "    </tr>\n",
       "    <tr>\n",
       "      <th>182121</th>\n",
       "      <td>turmeric broth for sipping</td>\n",
       "      <td>1</td>\n",
       "      <td>[put all in a pan and heat over med low heat u...</td>\n",
       "    </tr>\n",
       "    <tr>\n",
       "      <th>219378</th>\n",
       "      <td>easy fat free french onion dip</td>\n",
       "      <td>1</td>\n",
       "      <td>[mix all ingredients together , cover and chil...</td>\n",
       "    </tr>\n",
       "    <tr>\n",
       "      <th>209406</th>\n",
       "      <td>chocolate coconut milkshake</td>\n",
       "      <td>1</td>\n",
       "      <td>[place all in vitalmix blender and blend until...</td>\n",
       "    </tr>\n",
       "    <tr>\n",
       "      <th>162267</th>\n",
       "      <td>cranberry kir champagne cocktail</td>\n",
       "      <td>1</td>\n",
       "      <td>[combine 1st 3 ingredients in a glass , top wi...</td>\n",
       "    </tr>\n",
       "    <tr>\n",
       "      <th>85614</th>\n",
       "      <td>baileys eggnog</td>\n",
       "      <td>1</td>\n",
       "      <td>[combine all ingredients together with ice int...</td>\n",
       "    </tr>\n",
       "    <tr>\n",
       "      <th>48816</th>\n",
       "      <td>hamburger spread</td>\n",
       "      <td>1</td>\n",
       "      <td>[mix together and spread on hamburger buns]</td>\n",
       "    </tr>\n",
       "    <tr>\n",
       "      <th>214808</th>\n",
       "      <td>pink   orange sunrise smoothie</td>\n",
       "      <td>1</td>\n",
       "      <td>[blend all ingredients until smooth]</td>\n",
       "    </tr>\n",
       "    <tr>\n",
       "      <th>45821</th>\n",
       "      <td>waldorf astoria beef stew</td>\n",
       "      <td>1</td>\n",
       "      <td>[throw this all together in a large dutch oven...</td>\n",
       "    </tr>\n",
       "  </tbody>\n",
       "</table>\n",
       "</div>"
      ],
      "text/plain": [
       "                                                     name  n_steps  \\\n",
       "100335                                   all season bread        0   \n",
       "69412   cauliflower salad made like  potato salad   lo...        1   \n",
       "182121                         turmeric broth for sipping        1   \n",
       "219378                     easy fat free french onion dip        1   \n",
       "209406                        chocolate coconut milkshake        1   \n",
       "162267                   cranberry kir champagne cocktail        1   \n",
       "85614                                      baileys eggnog        1   \n",
       "48816                                    hamburger spread        1   \n",
       "214808                     pink   orange sunrise smoothie        1   \n",
       "45821                           waldorf astoria beef stew        1   \n",
       "\n",
       "                                                    steps  \n",
       "100335                                                 []  \n",
       "69412      [combine ingredients and chill before serving]  \n",
       "182121  [put all in a pan and heat over med low heat u...  \n",
       "219378  [mix all ingredients together , cover and chil...  \n",
       "209406  [place all in vitalmix blender and blend until...  \n",
       "162267  [combine 1st 3 ingredients in a glass , top wi...  \n",
       "85614   [combine all ingredients together with ice int...  \n",
       "48816         [mix together and spread on hamburger buns]  \n",
       "214808               [blend all ingredients until smooth]  \n",
       "45821   [throw this all together in a large dutch oven...  "
      ]
     },
     "execution_count": 89,
     "metadata": {},
     "output_type": "execute_result"
    }
   ],
   "source": [
    "df_g  = df_g.sort_values('n_steps',ascending=True)\n",
    "df_g[['name','n_steps','steps']].head(10)"
   ]
  },
  {
   "cell_type": "code",
   "execution_count": 90,
   "metadata": {},
   "outputs": [
    {
     "data": {
      "text/html": [
       "<div>\n",
       "<style scoped>\n",
       "    .dataframe tbody tr th:only-of-type {\n",
       "        vertical-align: middle;\n",
       "    }\n",
       "\n",
       "    .dataframe tbody tr th {\n",
       "        vertical-align: top;\n",
       "    }\n",
       "\n",
       "    .dataframe thead th {\n",
       "        text-align: right;\n",
       "    }\n",
       "</style>\n",
       "<table border=\"1\" class=\"dataframe\">\n",
       "  <thead>\n",
       "    <tr style=\"text-align: right;\">\n",
       "      <th></th>\n",
       "      <th>name</th>\n",
       "      <th>n_steps</th>\n",
       "      <th>steps</th>\n",
       "    </tr>\n",
       "  </thead>\n",
       "  <tbody>\n",
       "    <tr>\n",
       "      <th>100335</th>\n",
       "      <td>all season bread</td>\n",
       "      <td>0</td>\n",
       "      <td>[]</td>\n",
       "    </tr>\n",
       "    <tr>\n",
       "      <th>69412</th>\n",
       "      <td>cauliflower salad made like  potato salad   lo...</td>\n",
       "      <td>1</td>\n",
       "      <td>[combine ingredients and chill before serving]</td>\n",
       "    </tr>\n",
       "    <tr>\n",
       "      <th>182121</th>\n",
       "      <td>turmeric broth for sipping</td>\n",
       "      <td>1</td>\n",
       "      <td>[put all in a pan and heat over med low heat u...</td>\n",
       "    </tr>\n",
       "    <tr>\n",
       "      <th>219378</th>\n",
       "      <td>easy fat free french onion dip</td>\n",
       "      <td>1</td>\n",
       "      <td>[mix all ingredients together , cover and chil...</td>\n",
       "    </tr>\n",
       "    <tr>\n",
       "      <th>209406</th>\n",
       "      <td>chocolate coconut milkshake</td>\n",
       "      <td>1</td>\n",
       "      <td>[place all in vitalmix blender and blend until...</td>\n",
       "    </tr>\n",
       "    <tr>\n",
       "      <th>162267</th>\n",
       "      <td>cranberry kir champagne cocktail</td>\n",
       "      <td>1</td>\n",
       "      <td>[combine 1st 3 ingredients in a glass , top wi...</td>\n",
       "    </tr>\n",
       "    <tr>\n",
       "      <th>85614</th>\n",
       "      <td>baileys eggnog</td>\n",
       "      <td>1</td>\n",
       "      <td>[combine all ingredients together with ice int...</td>\n",
       "    </tr>\n",
       "    <tr>\n",
       "      <th>48816</th>\n",
       "      <td>hamburger spread</td>\n",
       "      <td>1</td>\n",
       "      <td>[mix together and spread on hamburger buns]</td>\n",
       "    </tr>\n",
       "    <tr>\n",
       "      <th>214808</th>\n",
       "      <td>pink   orange sunrise smoothie</td>\n",
       "      <td>1</td>\n",
       "      <td>[blend all ingredients until smooth]</td>\n",
       "    </tr>\n",
       "    <tr>\n",
       "      <th>45821</th>\n",
       "      <td>waldorf astoria beef stew</td>\n",
       "      <td>1</td>\n",
       "      <td>[throw this all together in a large dutch oven...</td>\n",
       "    </tr>\n",
       "  </tbody>\n",
       "</table>\n",
       "</div>"
      ],
      "text/plain": [
       "                                                     name  n_steps  \\\n",
       "100335                                   all season bread        0   \n",
       "69412   cauliflower salad made like  potato salad   lo...        1   \n",
       "182121                         turmeric broth for sipping        1   \n",
       "219378                     easy fat free french onion dip        1   \n",
       "209406                        chocolate coconut milkshake        1   \n",
       "162267                   cranberry kir champagne cocktail        1   \n",
       "85614                                      baileys eggnog        1   \n",
       "48816                                    hamburger spread        1   \n",
       "214808                     pink   orange sunrise smoothie        1   \n",
       "45821                           waldorf astoria beef stew        1   \n",
       "\n",
       "                                                    steps  \n",
       "100335                                                 []  \n",
       "69412      [combine ingredients and chill before serving]  \n",
       "182121  [put all in a pan and heat over med low heat u...  \n",
       "219378  [mix all ingredients together , cover and chil...  \n",
       "209406  [place all in vitalmix blender and blend until...  \n",
       "162267  [combine 1st 3 ingredients in a glass , top wi...  \n",
       "85614   [combine all ingredients together with ice int...  \n",
       "48816         [mix together and spread on hamburger buns]  \n",
       "214808               [blend all ingredients until smooth]  \n",
       "45821   [throw this all together in a large dutch oven...  "
      ]
     },
     "execution_count": 90,
     "metadata": {},
     "output_type": "execute_result"
    }
   ],
   "source": [
    "df_g = df_g.drop(df_g['n_steps'].idxmax())\n",
    "df_g[['name','n_steps','steps']].head(10)"
   ]
  },
  {
   "cell_type": "markdown",
   "metadata": {},
   "source": [
    "Après analyse des steps de la valeur maximale, il n'y a pas de raison de retirés la recette et de la considèrés comme une valeure aberrantes "
   ]
  },
  {
   "cell_type": "code",
   "execution_count": 91,
   "metadata": {},
   "outputs": [
    {
     "data": {
      "text/html": [
       "<div>\n",
       "<style scoped>\n",
       "    .dataframe tbody tr th:only-of-type {\n",
       "        vertical-align: middle;\n",
       "    }\n",
       "\n",
       "    .dataframe tbody tr th {\n",
       "        vertical-align: top;\n",
       "    }\n",
       "\n",
       "    .dataframe thead th {\n",
       "        text-align: right;\n",
       "    }\n",
       "</style>\n",
       "<table border=\"1\" class=\"dataframe\">\n",
       "  <thead>\n",
       "    <tr style=\"text-align: right;\">\n",
       "      <th></th>\n",
       "      <th>name</th>\n",
       "      <th>n_steps</th>\n",
       "      <th>steps</th>\n",
       "    </tr>\n",
       "  </thead>\n",
       "  <tbody>\n",
       "    <tr>\n",
       "      <th>100335</th>\n",
       "      <td>all season bread</td>\n",
       "      <td>0</td>\n",
       "      <td>[]</td>\n",
       "    </tr>\n",
       "    <tr>\n",
       "      <th>169250</th>\n",
       "      <td>moomba cocktail</td>\n",
       "      <td>1</td>\n",
       "      <td>[shake all ingredients in a shaker &amp; strain in...</td>\n",
       "    </tr>\n",
       "    <tr>\n",
       "      <th>191454</th>\n",
       "      <td>garlic cheese biscuits aka   red lobster biscuits</td>\n",
       "      <td>1</td>\n",
       "      <td>[mix all ingredients &amp; bake @ 350 till golden ...</td>\n",
       "    </tr>\n",
       "    <tr>\n",
       "      <th>120707</th>\n",
       "      <td>monterey jack salsa</td>\n",
       "      <td>1</td>\n",
       "      <td>[mix all ingredients together]</td>\n",
       "    </tr>\n",
       "    <tr>\n",
       "      <th>121395</th>\n",
       "      <td>pineapple mango chutney dipping sauce</td>\n",
       "      <td>1</td>\n",
       "      <td>[mix all ingredients together in a medium bowl]</td>\n",
       "    </tr>\n",
       "  </tbody>\n",
       "</table>\n",
       "</div>"
      ],
      "text/plain": [
       "                                                     name  n_steps  \\\n",
       "100335                                   all season bread        0   \n",
       "169250                                    moomba cocktail        1   \n",
       "191454  garlic cheese biscuits aka   red lobster biscuits        1   \n",
       "120707                                monterey jack salsa        1   \n",
       "121395              pineapple mango chutney dipping sauce        1   \n",
       "\n",
       "                                                    steps  \n",
       "100335                                                 []  \n",
       "169250  [shake all ingredients in a shaker & strain in...  \n",
       "191454  [mix all ingredients & bake @ 350 till golden ...  \n",
       "120707                     [mix all ingredients together]  \n",
       "121395    [mix all ingredients together in a medium bowl]  "
      ]
     },
     "execution_count": 91,
     "metadata": {},
     "output_type": "execute_result"
    }
   ],
   "source": [
    "df_g  = df_g.sort_values('n_steps',ascending=True)\n",
    "df_g[['name','n_steps','steps']].head(5)"
   ]
  },
  {
   "cell_type": "code",
   "execution_count": 92,
   "metadata": {},
   "outputs": [
    {
     "data": {
      "text/html": [
       "<div>\n",
       "<style scoped>\n",
       "    .dataframe tbody tr th:only-of-type {\n",
       "        vertical-align: middle;\n",
       "    }\n",
       "\n",
       "    .dataframe tbody tr th {\n",
       "        vertical-align: top;\n",
       "    }\n",
       "\n",
       "    .dataframe thead th {\n",
       "        text-align: right;\n",
       "    }\n",
       "</style>\n",
       "<table border=\"1\" class=\"dataframe\">\n",
       "  <thead>\n",
       "    <tr style=\"text-align: right;\">\n",
       "      <th></th>\n",
       "      <th>name</th>\n",
       "      <th>n_steps</th>\n",
       "      <th>steps</th>\n",
       "    </tr>\n",
       "  </thead>\n",
       "  <tbody>\n",
       "    <tr>\n",
       "      <th>169250</th>\n",
       "      <td>moomba cocktail</td>\n",
       "      <td>1</td>\n",
       "      <td>[shake all ingredients in a shaker &amp; strain in...</td>\n",
       "    </tr>\n",
       "    <tr>\n",
       "      <th>191454</th>\n",
       "      <td>garlic cheese biscuits aka   red lobster biscuits</td>\n",
       "      <td>1</td>\n",
       "      <td>[mix all ingredients &amp; bake @ 350 till golden ...</td>\n",
       "    </tr>\n",
       "    <tr>\n",
       "      <th>120707</th>\n",
       "      <td>monterey jack salsa</td>\n",
       "      <td>1</td>\n",
       "      <td>[mix all ingredients together]</td>\n",
       "    </tr>\n",
       "    <tr>\n",
       "      <th>121395</th>\n",
       "      <td>pineapple mango chutney dipping sauce</td>\n",
       "      <td>1</td>\n",
       "      <td>[mix all ingredients together in a medium bowl]</td>\n",
       "    </tr>\n",
       "    <tr>\n",
       "      <th>16315</th>\n",
       "      <td>kamikaze</td>\n",
       "      <td>1</td>\n",
       "      <td>[shake with ice in cocktail shaker and strain ...</td>\n",
       "    </tr>\n",
       "  </tbody>\n",
       "</table>\n",
       "</div>"
      ],
      "text/plain": [
       "                                                     name  n_steps  \\\n",
       "169250                                    moomba cocktail        1   \n",
       "191454  garlic cheese biscuits aka   red lobster biscuits        1   \n",
       "120707                                monterey jack salsa        1   \n",
       "121395              pineapple mango chutney dipping sauce        1   \n",
       "16315                                            kamikaze        1   \n",
       "\n",
       "                                                    steps  \n",
       "169250  [shake all ingredients in a shaker & strain in...  \n",
       "191454  [mix all ingredients & bake @ 350 till golden ...  \n",
       "120707                     [mix all ingredients together]  \n",
       "121395    [mix all ingredients together in a medium bowl]  \n",
       "16315   [shake with ice in cocktail shaker and strain ...  "
      ]
     },
     "execution_count": 92,
     "metadata": {},
     "output_type": "execute_result"
    }
   ],
   "source": [
    "\n",
    "df_g = df_g.drop(df_g['steps'].idxmin())\n",
    "\n",
    "df_g[['name','n_steps','steps']].head(5)"
   ]
  },
  {
   "cell_type": "code",
   "execution_count": 93,
   "metadata": {},
   "outputs": [
    {
     "data": {
      "text/plain": [
       "Text(0, 0.5, 'Steps')"
      ]
     },
     "execution_count": 93,
     "metadata": {},
     "output_type": "execute_result"
    },
    {
     "data": {
      "image/png": "[encoded data removed]",
      "text/plain": [
       "<Figure size 640x480 with 1 Axes>"
      ]
     },
     "metadata": {},
     "output_type": "display_data"
    }
   ],
   "source": [
    "plt.figure()\n",
    "sb.violinplot(df_g['n_steps'],inner='quartile')\n",
    "plt.ylabel('Steps')"
   ]
  },
  {
   "cell_type": "code",
   "execution_count": 94,
   "metadata": {},
   "outputs": [
    {
     "data": {
      "image/png": "[encoded data removed]",
      "text/plain": [
       "<Figure size 640x480 with 1 Axes>"
      ]
     },
     "metadata": {},
     "output_type": "display_data"
    }
   ],
   "source": [
    "plt.figure()\n",
    "sb.histplot(df_g['n_steps'], kde=True, bins=40)\n",
    "plt.title(\"Histogramme des minutes\")\n",
    "plt.xlabel('Log minutes')\n",
    "plt.show()\n"
   ]
  },
  {
   "cell_type": "code",
   "execution_count": 95,
   "metadata": {},
   "outputs": [
    {
     "name": "stdout",
     "output_type": "stream",
     "text": [
      "Skewness: 1.9925424965312502\n",
      "Kurtosis: 9.652176877936038\n"
     ]
    }
   ],
   "source": [
    "skewness_minutes = scipy.stats.skew(df_g['n_steps'])\n",
    "kurt_minutes = scipy.stats.kurtosis(df_g['n_steps'])\n",
    "\n",
    "print(f'Skewness: {skewness_minutes}')\n",
    "print(f'Kurtosis: {kurt_minutes}')"
   ]
  },
  {
   "cell_type": "markdown",
   "metadata": {},
   "source": [
    "Toujours une présences d'outliers qui augmente les valeurs de skewness et kurtosis\n",
    "\n",
    "Skewness > 0 : La distribution est asymétrique avec une masse importante à gauche\n",
    "\n",
    "Kurtnosis > 3 : Valeurs très proche de la moyenne mais des outliers important"
   ]
  },
  {
   "cell_type": "markdown",
   "metadata": {},
   "source": [
    "##### Colonne : *n_ingredients*"
   ]
  },
  {
   "cell_type": "code",
   "execution_count": 96,
   "metadata": {},
   "outputs": [
    {
     "data": {
      "text/html": [
       "<div>\n",
       "<style scoped>\n",
       "    .dataframe tbody tr th:only-of-type {\n",
       "        vertical-align: middle;\n",
       "    }\n",
       "\n",
       "    .dataframe tbody tr th {\n",
       "        vertical-align: top;\n",
       "    }\n",
       "\n",
       "    .dataframe thead th {\n",
       "        text-align: right;\n",
       "    }\n",
       "</style>\n",
       "<table border=\"1\" class=\"dataframe\">\n",
       "  <thead>\n",
       "    <tr style=\"text-align: right;\">\n",
       "      <th></th>\n",
       "      <th>name</th>\n",
       "      <th>n_ingredients</th>\n",
       "      <th>ingredients</th>\n",
       "    </tr>\n",
       "  </thead>\n",
       "  <tbody>\n",
       "    <tr>\n",
       "      <th>1272</th>\n",
       "      <td>a to z bread</td>\n",
       "      <td>43</td>\n",
       "      <td>[sugar, vegetable oil, eggs, vanilla extract, ...</td>\n",
       "    </tr>\n",
       "    <tr>\n",
       "      <th>129591</th>\n",
       "      <td>z  best two faced jerk</td>\n",
       "      <td>40</td>\n",
       "      <td>[chicken breasts, fresh lime juice, salt, pepp...</td>\n",
       "    </tr>\n",
       "    <tr>\n",
       "      <th>140295</th>\n",
       "      <td>morton thompson turkey</td>\n",
       "      <td>40</td>\n",
       "      <td>[whole turkey, canola oil, salt, fresh ground ...</td>\n",
       "    </tr>\n",
       "    <tr>\n",
       "      <th>66233</th>\n",
       "      <td>kato s  garage  style    tomato sauce   meatba...</td>\n",
       "      <td>39</td>\n",
       "      <td>[sweet onion, garlic cloves, green pepper, red...</td>\n",
       "    </tr>\n",
       "    <tr>\n",
       "      <th>135862</th>\n",
       "      <td>basic fried rice   with variations</td>\n",
       "      <td>38</td>\n",
       "      <td>[brown rice, green onions, oil, soy sauce, sal...</td>\n",
       "    </tr>\n",
       "    <tr>\n",
       "      <th>227651</th>\n",
       "      <td>sunday supper taco salad bowls   tacos</td>\n",
       "      <td>37</td>\n",
       "      <td>[flour tortillas, ground beef, vegetable oil, ...</td>\n",
       "    </tr>\n",
       "    <tr>\n",
       "      <th>67952</th>\n",
       "      <td>land and sea white meat version of surf and turf</td>\n",
       "      <td>37</td>\n",
       "      <td>[apricot, nectarine, red pepper, jalapeno, gar...</td>\n",
       "    </tr>\n",
       "    <tr>\n",
       "      <th>28276</th>\n",
       "      <td>dhansak with brown rice</td>\n",
       "      <td>36</td>\n",
       "      <td>[tuvar dal, masoor dal, yellow moong dal, dal,...</td>\n",
       "    </tr>\n",
       "    <tr>\n",
       "      <th>92212</th>\n",
       "      <td>coconut chicken fingers with mango rum salsa</td>\n",
       "      <td>35</td>\n",
       "      <td>[chicken breast halves, yellow onion, celery, ...</td>\n",
       "    </tr>\n",
       "    <tr>\n",
       "      <th>103690</th>\n",
       "      <td>bill s calzones</td>\n",
       "      <td>35</td>\n",
       "      <td>[tomato sauce, onions, garlic cloves, mushroom...</td>\n",
       "    </tr>\n",
       "  </tbody>\n",
       "</table>\n",
       "</div>"
      ],
      "text/plain": [
       "                                                     name  n_ingredients  \\\n",
       "1272                                         a to z bread             43   \n",
       "129591                             z  best two faced jerk             40   \n",
       "140295                             morton thompson turkey             40   \n",
       "66233   kato s  garage  style    tomato sauce   meatba...             39   \n",
       "135862                 basic fried rice   with variations             38   \n",
       "227651             sunday supper taco salad bowls   tacos             37   \n",
       "67952    land and sea white meat version of surf and turf             37   \n",
       "28276                             dhansak with brown rice             36   \n",
       "92212        coconut chicken fingers with mango rum salsa             35   \n",
       "103690                                    bill s calzones             35   \n",
       "\n",
       "                                              ingredients  \n",
       "1272    [sugar, vegetable oil, eggs, vanilla extract, ...  \n",
       "129591  [chicken breasts, fresh lime juice, salt, pepp...  \n",
       "140295  [whole turkey, canola oil, salt, fresh ground ...  \n",
       "66233   [sweet onion, garlic cloves, green pepper, red...  \n",
       "135862  [brown rice, green onions, oil, soy sauce, sal...  \n",
       "227651  [flour tortillas, ground beef, vegetable oil, ...  \n",
       "67952   [apricot, nectarine, red pepper, jalapeno, gar...  \n",
       "28276   [tuvar dal, masoor dal, yellow moong dal, dal,...  \n",
       "92212   [chicken breast halves, yellow onion, celery, ...  \n",
       "103690  [tomato sauce, onions, garlic cloves, mushroom...  "
      ]
     },
     "execution_count": 96,
     "metadata": {},
     "output_type": "execute_result"
    }
   ],
   "source": [
    "df_g  = df_g.sort_values('n_ingredients',ascending=False)\n",
    "df_g[['name','n_ingredients','ingredients']].head(10)"
   ]
  },
  {
   "cell_type": "code",
   "execution_count": 97,
   "metadata": {},
   "outputs": [
    {
     "data": {
      "text/plain": [
       "['sugar',\n",
       " 'vegetable oil',\n",
       " 'eggs',\n",
       " 'vanilla extract',\n",
       " 'all-purpose flour',\n",
       " 'cinnamon',\n",
       " 'baking powder',\n",
       " 'baking soda',\n",
       " 'salt',\n",
       " 'walnuts',\n",
       " 'apples',\n",
       " 'applesauce',\n",
       " 'apricots',\n",
       " 'bananas',\n",
       " 'carrots',\n",
       " 'cherries',\n",
       " 'fresh coconut',\n",
       " 'dates',\n",
       " 'eggplants',\n",
       " 'figs',\n",
       " 'seedless grapes',\n",
       " 'honey',\n",
       " 'lemon juice',\n",
       " 'marmalade',\n",
       " 'mincemeat',\n",
       " 'oranges',\n",
       " 'peaches',\n",
       " 'of fresh mint',\n",
       " 'pears',\n",
       " 'crushed pineapple',\n",
       " 'prune',\n",
       " 'canned pumpkin',\n",
       " 'raisins',\n",
       " 'raspberries',\n",
       " 'rhubarb',\n",
       " 'fresh strawberries',\n",
       " 'frozen strawberries',\n",
       " 'sweet potatoes',\n",
       " 'tapioca',\n",
       " 'tomatoes',\n",
       " 'yams',\n",
       " 'yogurt',\n",
       " 'zucchini']"
      ]
     },
     "execution_count": 97,
     "metadata": {},
     "output_type": "execute_result"
    }
   ],
   "source": [
    "df_g['ingredients'].iloc[0]\n"
   ]
  },
  {
   "cell_type": "code",
   "execution_count": 98,
   "metadata": {},
   "outputs": [
    {
     "data": {
      "text/plain": [
       "['in a mixing bowl , combine the sugar , oil and eggs',\n",
       " 'mix well',\n",
       " 'stir in a-to-z ingredients of your choice and vanilla',\n",
       " 'combine flour cinnamon , baking powder , baking soda and salt',\n",
       " 'stir into liquid ingredients just until moistened',\n",
       " 'stir in nuts',\n",
       " 'pour into two greased 8-in',\n",
       " 'x 4-in',\n",
       " 'x 2-in',\n",
       " 'loaf pans',\n",
       " 'bake at 325 f for 55-65 minutes or until a wooden pick inserted near the center comes out clean',\n",
       " 'cool in pan 10 minutes before removing to a wire rack']"
      ]
     },
     "execution_count": 98,
     "metadata": {},
     "output_type": "execute_result"
    }
   ],
   "source": [
    "df_g['steps'].iloc[0]"
   ]
  },
  {
   "cell_type": "markdown",
   "metadata": {},
   "source": [
    "Il y un nombre très important d'ingrédients car la recette propose de mettre \"ce qu'on veut\" dans le pain préparer.\n",
    "_Valeur aberrante ?_"
   ]
  },
  {
   "cell_type": "code",
   "execution_count": 99,
   "metadata": {},
   "outputs": [
    {
     "data": {
      "text/plain": [
       "['day or afternoon before:',\n",
       " 'mix up jerk',\n",
       " 'make all three to give your family a choice of mild , spicy / hot or spicy / sweet',\n",
       " 'important',\n",
       " 'to mix , just combine all ingredients and blend well',\n",
       " 'whisk the ones with liquid ingredients with a fork',\n",
       " 'up to 4 hours ahead:',\n",
       " 'marinade chicken:',\n",
       " 'in a large glass baking dish , pour lime juice over chicken pieces',\n",
       " 'turn to coat',\n",
       " 'add a bit salt & pepper to taste',\n",
       " 'coat chicken pieces on both sides with jerk of choice',\n",
       " 'cover dish with plastic wrap and refrigerate for 2 to 4 hours',\n",
       " 'prepare zesty salad dressing:',\n",
       " 'in a blender , add yogurt , dijon mustard , cilantro , garlic , lime juice , white wine vinegar , black pepper and chopped jalapeo pepper',\n",
       " 'blend until mixed well',\n",
       " 'put into a jar , cover and refrigerate',\n",
       " 'shake before using',\n",
       " 'prepare creamy chutney dressing:',\n",
       " 'combine all ingredients in a small bowl and mix well',\n",
       " 'cover and refrigerate',\n",
       " 'up to 2 hours ahead:',\n",
       " 'soak wooden skewers at least one hour before using',\n",
       " 'up to one hour ahead:',\n",
       " 'skewers:',\n",
       " 'thread each skewer with half slice pineapple , 1 half jalapeo pepper , 1 wedge of sweet onion , 1 half jalapeo pepper , 1 chunk of mango , 1 wedge green pepper',\n",
       " 'lay on a plate , cover with plastic wrap and refrigerate until cooking time',\n",
       " 'turn on grill to heat up',\n",
       " 'prepare green salad:',\n",
       " 'toss together baby greens , grape tomatoes , chopped mango , green onions and cashews',\n",
       " 'mix with zesty dressing just before serving',\n",
       " 'grilling time:',\n",
       " \"arrange chicken breasts on grill , basic first , then spicy , then sweet - so you don't forget which is which ! leave room for your six skewers\",\n",
       " 'cook chicken 7 to 8 minutes on each side , until cooked through',\n",
       " 'after flipping , place skewers on grill and cook those about 4 minutes each side',\n",
       " 'to serve - place chicken on plate alongside dressed green salad',\n",
       " 'place skewers on top',\n",
       " 'drizzle chicken and skewers with a bit of recipe #233518',\n",
       " 'serve with crusty bread and a crisp & fruity dry white wine']"
      ]
     },
     "execution_count": 99,
     "metadata": {},
     "output_type": "execute_result"
    }
   ],
   "source": [
    "df_g['steps'].iloc[1]"
   ]
  },
  {
   "cell_type": "markdown",
   "metadata": {},
   "source": [
    "Semble plus cohérent entre le nombre d'ingrédients et les étapes."
   ]
  },
  {
   "cell_type": "code",
   "execution_count": 100,
   "metadata": {},
   "outputs": [],
   "source": [
    "df_g = df_g.drop(df_g['n_steps'].idxmax())"
   ]
  },
  {
   "cell_type": "code",
   "execution_count": 101,
   "metadata": {},
   "outputs": [
    {
     "data": {
      "text/html": [
       "<div>\n",
       "<style scoped>\n",
       "    .dataframe tbody tr th:only-of-type {\n",
       "        vertical-align: middle;\n",
       "    }\n",
       "\n",
       "    .dataframe tbody tr th {\n",
       "        vertical-align: top;\n",
       "    }\n",
       "\n",
       "    .dataframe thead th {\n",
       "        text-align: right;\n",
       "    }\n",
       "</style>\n",
       "<table border=\"1\" class=\"dataframe\">\n",
       "  <thead>\n",
       "    <tr style=\"text-align: right;\">\n",
       "      <th></th>\n",
       "      <th>name</th>\n",
       "      <th>n_ingredients</th>\n",
       "      <th>ingredients</th>\n",
       "    </tr>\n",
       "  </thead>\n",
       "  <tbody>\n",
       "    <tr>\n",
       "      <th>88009</th>\n",
       "      <td>freezing eggs</td>\n",
       "      <td>1</td>\n",
       "      <td>[egg]</td>\n",
       "    </tr>\n",
       "    <tr>\n",
       "      <th>230741</th>\n",
       "      <td>apple cider reduction</td>\n",
       "      <td>1</td>\n",
       "      <td>[apple cider]</td>\n",
       "    </tr>\n",
       "    <tr>\n",
       "      <th>181738</th>\n",
       "      <td>easter hard boiled eggs</td>\n",
       "      <td>1</td>\n",
       "      <td>[egg]</td>\n",
       "    </tr>\n",
       "    <tr>\n",
       "      <th>230265</th>\n",
       "      <td>how to choose and cut a mango</td>\n",
       "      <td>1</td>\n",
       "      <td>[mango]</td>\n",
       "    </tr>\n",
       "    <tr>\n",
       "      <th>106932</th>\n",
       "      <td>toasted nuts</td>\n",
       "      <td>1</td>\n",
       "      <td>[walnuts]</td>\n",
       "    </tr>\n",
       "    <tr>\n",
       "      <th>3408</th>\n",
       "      <td>clotted cream</td>\n",
       "      <td>1</td>\n",
       "      <td>[heavy cream]</td>\n",
       "    </tr>\n",
       "    <tr>\n",
       "      <th>190541</th>\n",
       "      <td>homemade panko  japanese bread crumbs</td>\n",
       "      <td>1</td>\n",
       "      <td>[white bread]</td>\n",
       "    </tr>\n",
       "    <tr>\n",
       "      <th>212436</th>\n",
       "      <td>melted sugar glue for candy houses</td>\n",
       "      <td>1</td>\n",
       "      <td>[white sugar]</td>\n",
       "    </tr>\n",
       "    <tr>\n",
       "      <th>158489</th>\n",
       "      <td>magic bullet powdered sugar</td>\n",
       "      <td>1</td>\n",
       "      <td>[sugar]</td>\n",
       "    </tr>\n",
       "    <tr>\n",
       "      <th>207501</th>\n",
       "      <td>chocolate  dirt</td>\n",
       "      <td>1</td>\n",
       "      <td>[dark chocolate chips]</td>\n",
       "    </tr>\n",
       "  </tbody>\n",
       "</table>\n",
       "</div>"
      ],
      "text/plain": [
       "                                         name  n_ingredients  \\\n",
       "88009                           freezing eggs              1   \n",
       "230741                  apple cider reduction              1   \n",
       "181738                easter hard boiled eggs              1   \n",
       "230265          how to choose and cut a mango              1   \n",
       "106932                           toasted nuts              1   \n",
       "3408                            clotted cream              1   \n",
       "190541  homemade panko  japanese bread crumbs              1   \n",
       "212436     melted sugar glue for candy houses              1   \n",
       "158489            magic bullet powdered sugar              1   \n",
       "207501                        chocolate  dirt              1   \n",
       "\n",
       "                   ingredients  \n",
       "88009                    [egg]  \n",
       "230741           [apple cider]  \n",
       "181738                   [egg]  \n",
       "230265                 [mango]  \n",
       "106932               [walnuts]  \n",
       "3408             [heavy cream]  \n",
       "190541           [white bread]  \n",
       "212436           [white sugar]  \n",
       "158489                 [sugar]  \n",
       "207501  [dark chocolate chips]  "
      ]
     },
     "execution_count": 101,
     "metadata": {},
     "output_type": "execute_result"
    }
   ],
   "source": [
    "df_g  = df_g.sort_values('n_ingredients',ascending=True)\n",
    "df_g[['name','n_ingredients','ingredients']].head(10)"
   ]
  },
  {
   "cell_type": "code",
   "execution_count": 102,
   "metadata": {},
   "outputs": [
    {
     "data": {
      "text/plain": [
       "Text(0, 0.5, 'Ingredients')"
      ]
     },
     "execution_count": 102,
     "metadata": {},
     "output_type": "execute_result"
    },
    {
     "data": {
      "image/png": "[encoded data removed]",
      "text/plain": [
       "<Figure size 640x480 with 1 Axes>"
      ]
     },
     "metadata": {},
     "output_type": "display_data"
    }
   ],
   "source": [
    "plt.figure()\n",
    "sb.violinplot(df_g['n_ingredients'],inner='quartile')\n",
    "plt.ylabel('Ingredients')"
   ]
  },
  {
   "cell_type": "code",
   "execution_count": 103,
   "metadata": {},
   "outputs": [
    {
     "data": {
      "image/png": "[encoded data removed]",
      "text/plain": [
       "<Figure size 640x480 with 1 Axes>"
      ]
     },
     "metadata": {},
     "output_type": "display_data"
    }
   ],
   "source": [
    "plt.figure()\n",
    "sb.histplot(df_g['n_ingredients'], kde=True, bins=40)\n",
    "plt.title(\"Histogramme des ingredients\")\n",
    "plt.xlabel('Ingredients')\n",
    "plt.show()"
   ]
  },
  {
   "cell_type": "code",
   "execution_count": 104,
   "metadata": {},
   "outputs": [
    {
     "name": "stdout",
     "output_type": "stream",
     "text": [
      "Skewness: 0.7709208730721936\n",
      "Kurtosis: 1.1853164198947468\n"
     ]
    }
   ],
   "source": [
    "skewness_minutes = scipy.stats.skew(df_g['n_ingredients'])\n",
    "kurt_minutes = scipy.stats.kurtosis(df_g['n_ingredients'])\n",
    "\n",
    "print(f'Skewness: {skewness_minutes}')\n",
    "print(f'Kurtosis: {kurt_minutes}')"
   ]
  },
  {
   "cell_type": "markdown",
   "metadata": {},
   "source": [
    "### Analyse de Submitted et de Date"
   ]
  },
  {
   "cell_type": "markdown",
   "metadata": {},
   "source": []
  },
  {
   "cell_type": "code",
   "execution_count": 105,
   "metadata": {},
   "outputs": [
    {
     "data": {
      "text/html": [
       "<div>\n",
       "<style scoped>\n",
       "    .dataframe tbody tr th:only-of-type {\n",
       "        vertical-align: middle;\n",
       "    }\n",
       "\n",
       "    .dataframe tbody tr th {\n",
       "        vertical-align: top;\n",
       "    }\n",
       "\n",
       "    .dataframe thead th {\n",
       "        text-align: right;\n",
       "    }\n",
       "</style>\n",
       "<table border=\"1\" class=\"dataframe\">\n",
       "  <thead>\n",
       "    <tr style=\"text-align: right;\">\n",
       "      <th></th>\n",
       "      <th>recipe_id</th>\n",
       "      <th>name</th>\n",
       "      <th>minutes</th>\n",
       "      <th>contributor_id</th>\n",
       "      <th>submitted</th>\n",
       "      <th>tags</th>\n",
       "      <th>nutrition</th>\n",
       "      <th>steps</th>\n",
       "      <th>n_steps</th>\n",
       "      <th>description</th>\n",
       "      <th>ingredients</th>\n",
       "      <th>n_ingredients</th>\n",
       "      <th>review</th>\n",
       "      <th>date</th>\n",
       "      <th>user_id</th>\n",
       "      <th>rating</th>\n",
       "    </tr>\n",
       "  </thead>\n",
       "  <tbody>\n",
       "    <tr>\n",
       "      <th>88009</th>\n",
       "      <td>153034</td>\n",
       "      <td>freezing eggs</td>\n",
       "      <td>35</td>\n",
       "      <td>249074</td>\n",
       "      <td>2006-01-23</td>\n",
       "      <td>[60-minutes-or-less, time-to-make, main-ingred...</td>\n",
       "      <td>[11.9, 1.0, 0.0, 0.0, 2.0, 1.0, 0.0]</td>\n",
       "      <td>[items needed:, eggs, ziplock bags , various s...</td>\n",
       "      <td>37</td>\n",
       "      <td>a tried &amp; true method to have eggs in your hou...</td>\n",
       "      <td>[egg]</td>\n",
       "      <td>1</td>\n",
       "      <td>[Was looking exactly for this info, didn't thi...</td>\n",
       "      <td>[2006-05-05 00:00:00, 2006-08-03 00:00:00, 200...</td>\n",
       "      <td>[192419, 175492, 121795, 529681, 490764, 20176...</td>\n",
       "      <td>[5, 5, 5, 5, 5, 5, 5, 5, 5, 0]</td>\n",
       "    </tr>\n",
       "    <tr>\n",
       "      <th>230741</th>\n",
       "      <td>521756</td>\n",
       "      <td>apple cider reduction</td>\n",
       "      <td>155</td>\n",
       "      <td>171084</td>\n",
       "      <td>2015-04-19</td>\n",
       "      <td>[time-to-make, course, preparation, low-protei...</td>\n",
       "      <td>[14.4, 0.0, 0.0, 8.0, 0.0, 0.0, 1.0]</td>\n",
       "      <td>[in 6-8 quart stock pan , measure out 2 cups o...</td>\n",
       "      <td>13</td>\n",
       "      <td>i saw a post about this on facebook and gave i...</td>\n",
       "      <td>[apple cider]</td>\n",
       "      <td>1</td>\n",
       "      <td>[This was delicious! However, I have some note...</td>\n",
       "      <td>[2017-11-28 00:00:00]</td>\n",
       "      <td>[606850]</td>\n",
       "      <td>[5]</td>\n",
       "    </tr>\n",
       "    <tr>\n",
       "      <th>181738</th>\n",
       "      <td>354371</td>\n",
       "      <td>easter hard boiled eggs</td>\n",
       "      <td>12</td>\n",
       "      <td>1119236</td>\n",
       "      <td>2009-02-06</td>\n",
       "      <td>[15-minutes-or-less, time-to-make, course, mai...</td>\n",
       "      <td>[68.9, 7.0, 0.0, 2.0, 12.0, 7.0, 0.0]</td>\n",
       "      <td>[place the eggs in a pot with enough cold salt...</td>\n",
       "      <td>9</td>\n",
       "      <td>a gruszecki tradition and now ours, is that ea...</td>\n",
       "      <td>[egg]</td>\n",
       "      <td>1</td>\n",
       "      <td>[This really works. I have an awful habbit of ...</td>\n",
       "      <td>[2009-03-24 00:00:00, 2009-03-24 00:00:00, 200...</td>\n",
       "      <td>[537179, 705251, 166294, 400708, 1323045, 185305]</td>\n",
       "      <td>[5, 5, 5, 5, 5, 5]</td>\n",
       "    </tr>\n",
       "    <tr>\n",
       "      <th>230265</th>\n",
       "      <td>516377</td>\n",
       "      <td>how to choose and cut a mango</td>\n",
       "      <td>5</td>\n",
       "      <td>2549237</td>\n",
       "      <td>2014-06-03</td>\n",
       "      <td>[15-minutes-or-less, time-to-make, main-ingred...</td>\n",
       "      <td>[403.2, 3.0, 367.0, 0.0, 11.0, 3.0, 33.0]</td>\n",
       "      <td>[how to choose a ripe mango:, press your thumb...</td>\n",
       "      <td>20</td>\n",
       "      <td>i am often afraid of trying new produce becaus...</td>\n",
       "      <td>[mango]</td>\n",
       "      <td>1</td>\n",
       "      <td>[Don't Gnaw on the Pit! I love your cutting id...</td>\n",
       "      <td>[2016-12-18 00:00:00]</td>\n",
       "      <td>[592481]</td>\n",
       "      <td>[0]</td>\n",
       "    </tr>\n",
       "    <tr>\n",
       "      <th>106932</th>\n",
       "      <td>189399</td>\n",
       "      <td>toasted nuts</td>\n",
       "      <td>7</td>\n",
       "      <td>162888</td>\n",
       "      <td>2006-10-06</td>\n",
       "      <td>[15-minutes-or-less, time-to-make, course, pre...</td>\n",
       "      <td>[765.2, 117.0, 12.0, 0.0, 35.0, 35.0, 5.0]</td>\n",
       "      <td>[preheat oven to 350 degrees fahrenheit, sprea...</td>\n",
       "      <td>6</td>\n",
       "      <td>bring out the rich nutty flavour of your walnu...</td>\n",
       "      <td>[walnuts]</td>\n",
       "      <td>1</td>\n",
       "      <td>[I appreciate finding this recipe- I did not k...</td>\n",
       "      <td>[2006-11-30 00:00:00, 2008-08-08 00:00:00, 200...</td>\n",
       "      <td>[323389, 123897, 72489, 307313, 60992, 189280]</td>\n",
       "      <td>[4, 5, 5, 5, 5, 5]</td>\n",
       "    </tr>\n",
       "  </tbody>\n",
       "</table>\n",
       "</div>"
      ],
      "text/plain": [
       "       recipe_id                           name  minutes contributor_id  \\\n",
       "88009     153034                  freezing eggs       35         249074   \n",
       "230741    521756          apple cider reduction      155         171084   \n",
       "181738    354371        easter hard boiled eggs       12        1119236   \n",
       "230265    516377  how to choose and cut a mango        5        2549237   \n",
       "106932    189399                   toasted nuts        7         162888   \n",
       "\n",
       "        submitted                                               tags  \\\n",
       "88009  2006-01-23  [60-minutes-or-less, time-to-make, main-ingred...   \n",
       "230741 2015-04-19  [time-to-make, course, preparation, low-protei...   \n",
       "181738 2009-02-06  [15-minutes-or-less, time-to-make, course, mai...   \n",
       "230265 2014-06-03  [15-minutes-or-less, time-to-make, main-ingred...   \n",
       "106932 2006-10-06  [15-minutes-or-less, time-to-make, course, pre...   \n",
       "\n",
       "                                         nutrition  \\\n",
       "88009         [11.9, 1.0, 0.0, 0.0, 2.0, 1.0, 0.0]   \n",
       "230741        [14.4, 0.0, 0.0, 8.0, 0.0, 0.0, 1.0]   \n",
       "181738       [68.9, 7.0, 0.0, 2.0, 12.0, 7.0, 0.0]   \n",
       "230265   [403.2, 3.0, 367.0, 0.0, 11.0, 3.0, 33.0]   \n",
       "106932  [765.2, 117.0, 12.0, 0.0, 35.0, 35.0, 5.0]   \n",
       "\n",
       "                                                    steps  n_steps  \\\n",
       "88009   [items needed:, eggs, ziplock bags , various s...       37   \n",
       "230741  [in 6-8 quart stock pan , measure out 2 cups o...       13   \n",
       "181738  [place the eggs in a pot with enough cold salt...        9   \n",
       "230265  [how to choose a ripe mango:, press your thumb...       20   \n",
       "106932  [preheat oven to 350 degrees fahrenheit, sprea...        6   \n",
       "\n",
       "                                              description    ingredients  \\\n",
       "88009   a tried & true method to have eggs in your hou...          [egg]   \n",
       "230741  i saw a post about this on facebook and gave i...  [apple cider]   \n",
       "181738  a gruszecki tradition and now ours, is that ea...          [egg]   \n",
       "230265  i am often afraid of trying new produce becaus...        [mango]   \n",
       "106932  bring out the rich nutty flavour of your walnu...      [walnuts]   \n",
       "\n",
       "        n_ingredients                                             review  \\\n",
       "88009               1  [Was looking exactly for this info, didn't thi...   \n",
       "230741              1  [This was delicious! However, I have some note...   \n",
       "181738              1  [This really works. I have an awful habbit of ...   \n",
       "230265              1  [Don't Gnaw on the Pit! I love your cutting id...   \n",
       "106932              1  [I appreciate finding this recipe- I did not k...   \n",
       "\n",
       "                                                     date  \\\n",
       "88009   [2006-05-05 00:00:00, 2006-08-03 00:00:00, 200...   \n",
       "230741                              [2017-11-28 00:00:00]   \n",
       "181738  [2009-03-24 00:00:00, 2009-03-24 00:00:00, 200...   \n",
       "230265                              [2016-12-18 00:00:00]   \n",
       "106932  [2006-11-30 00:00:00, 2008-08-08 00:00:00, 200...   \n",
       "\n",
       "                                                  user_id  \\\n",
       "88009   [192419, 175492, 121795, 529681, 490764, 20176...   \n",
       "230741                                           [606850]   \n",
       "181738  [537179, 705251, 166294, 400708, 1323045, 185305]   \n",
       "230265                                           [592481]   \n",
       "106932     [323389, 123897, 72489, 307313, 60992, 189280]   \n",
       "\n",
       "                                rating  \n",
       "88009   [5, 5, 5, 5, 5, 5, 5, 5, 5, 0]  \n",
       "230741                             [5]  \n",
       "181738              [5, 5, 5, 5, 5, 5]  \n",
       "230265                             [0]  \n",
       "106932              [4, 5, 5, 5, 5, 5]  "
      ]
     },
     "execution_count": 105,
     "metadata": {},
     "output_type": "execute_result"
    }
   ],
   "source": [
    "df_g.head()"
   ]
  },
  {
   "cell_type": "code",
   "execution_count": 106,
   "metadata": {},
   "outputs": [],
   "source": [
    "df_g['year'] = df_g['submitted'].dt.year\n",
    "df_g['month'] = df_g['submitted'].dt.month\n",
    "df_g['day'] = df_g['submitted'].dt.day\n",
    "df_g['day_of_week'] = df_g['submitted'].dt.day_name()\n"
   ]
  },
  {
   "cell_type": "code",
   "execution_count": 107,
   "metadata": {},
   "outputs": [
    {
     "data": {
      "text/html": [
       "<div>\n",
       "<style scoped>\n",
       "    .dataframe tbody tr th:only-of-type {\n",
       "        vertical-align: middle;\n",
       "    }\n",
       "\n",
       "    .dataframe tbody tr th {\n",
       "        vertical-align: top;\n",
       "    }\n",
       "\n",
       "    .dataframe thead th {\n",
       "        text-align: right;\n",
       "    }\n",
       "</style>\n",
       "<table border=\"1\" class=\"dataframe\">\n",
       "  <thead>\n",
       "    <tr style=\"text-align: right;\">\n",
       "      <th></th>\n",
       "      <th>recipe_id</th>\n",
       "      <th>name</th>\n",
       "      <th>minutes</th>\n",
       "      <th>contributor_id</th>\n",
       "      <th>submitted</th>\n",
       "      <th>tags</th>\n",
       "      <th>nutrition</th>\n",
       "      <th>steps</th>\n",
       "      <th>n_steps</th>\n",
       "      <th>description</th>\n",
       "      <th>ingredients</th>\n",
       "      <th>n_ingredients</th>\n",
       "      <th>review</th>\n",
       "      <th>date</th>\n",
       "      <th>user_id</th>\n",
       "      <th>rating</th>\n",
       "      <th>year</th>\n",
       "      <th>month</th>\n",
       "      <th>day</th>\n",
       "      <th>day_of_week</th>\n",
       "    </tr>\n",
       "  </thead>\n",
       "  <tbody>\n",
       "    <tr>\n",
       "      <th>88009</th>\n",
       "      <td>153034</td>\n",
       "      <td>freezing eggs</td>\n",
       "      <td>35</td>\n",
       "      <td>249074</td>\n",
       "      <td>2006-01-23</td>\n",
       "      <td>[60-minutes-or-less, time-to-make, main-ingred...</td>\n",
       "      <td>[11.9, 1.0, 0.0, 0.0, 2.0, 1.0, 0.0]</td>\n",
       "      <td>[items needed:, eggs, ziplock bags , various s...</td>\n",
       "      <td>37</td>\n",
       "      <td>a tried &amp; true method to have eggs in your hou...</td>\n",
       "      <td>[egg]</td>\n",
       "      <td>1</td>\n",
       "      <td>[Was looking exactly for this info, didn't thi...</td>\n",
       "      <td>[2006-05-05 00:00:00, 2006-08-03 00:00:00, 200...</td>\n",
       "      <td>[192419, 175492, 121795, 529681, 490764, 20176...</td>\n",
       "      <td>[5, 5, 5, 5, 5, 5, 5, 5, 5, 0]</td>\n",
       "      <td>2006</td>\n",
       "      <td>1</td>\n",
       "      <td>23</td>\n",
       "      <td>Monday</td>\n",
       "    </tr>\n",
       "    <tr>\n",
       "      <th>230741</th>\n",
       "      <td>521756</td>\n",
       "      <td>apple cider reduction</td>\n",
       "      <td>155</td>\n",
       "      <td>171084</td>\n",
       "      <td>2015-04-19</td>\n",
       "      <td>[time-to-make, course, preparation, low-protei...</td>\n",
       "      <td>[14.4, 0.0, 0.0, 8.0, 0.0, 0.0, 1.0]</td>\n",
       "      <td>[in 6-8 quart stock pan , measure out 2 cups o...</td>\n",
       "      <td>13</td>\n",
       "      <td>i saw a post about this on facebook and gave i...</td>\n",
       "      <td>[apple cider]</td>\n",
       "      <td>1</td>\n",
       "      <td>[This was delicious! However, I have some note...</td>\n",
       "      <td>[2017-11-28 00:00:00]</td>\n",
       "      <td>[606850]</td>\n",
       "      <td>[5]</td>\n",
       "      <td>2015</td>\n",
       "      <td>4</td>\n",
       "      <td>19</td>\n",
       "      <td>Sunday</td>\n",
       "    </tr>\n",
       "    <tr>\n",
       "      <th>181738</th>\n",
       "      <td>354371</td>\n",
       "      <td>easter hard boiled eggs</td>\n",
       "      <td>12</td>\n",
       "      <td>1119236</td>\n",
       "      <td>2009-02-06</td>\n",
       "      <td>[15-minutes-or-less, time-to-make, course, mai...</td>\n",
       "      <td>[68.9, 7.0, 0.0, 2.0, 12.0, 7.0, 0.0]</td>\n",
       "      <td>[place the eggs in a pot with enough cold salt...</td>\n",
       "      <td>9</td>\n",
       "      <td>a gruszecki tradition and now ours, is that ea...</td>\n",
       "      <td>[egg]</td>\n",
       "      <td>1</td>\n",
       "      <td>[This really works. I have an awful habbit of ...</td>\n",
       "      <td>[2009-03-24 00:00:00, 2009-03-24 00:00:00, 200...</td>\n",
       "      <td>[537179, 705251, 166294, 400708, 1323045, 185305]</td>\n",
       "      <td>[5, 5, 5, 5, 5, 5]</td>\n",
       "      <td>2009</td>\n",
       "      <td>2</td>\n",
       "      <td>6</td>\n",
       "      <td>Friday</td>\n",
       "    </tr>\n",
       "    <tr>\n",
       "      <th>230265</th>\n",
       "      <td>516377</td>\n",
       "      <td>how to choose and cut a mango</td>\n",
       "      <td>5</td>\n",
       "      <td>2549237</td>\n",
       "      <td>2014-06-03</td>\n",
       "      <td>[15-minutes-or-less, time-to-make, main-ingred...</td>\n",
       "      <td>[403.2, 3.0, 367.0, 0.0, 11.0, 3.0, 33.0]</td>\n",
       "      <td>[how to choose a ripe mango:, press your thumb...</td>\n",
       "      <td>20</td>\n",
       "      <td>i am often afraid of trying new produce becaus...</td>\n",
       "      <td>[mango]</td>\n",
       "      <td>1</td>\n",
       "      <td>[Don't Gnaw on the Pit! I love your cutting id...</td>\n",
       "      <td>[2016-12-18 00:00:00]</td>\n",
       "      <td>[592481]</td>\n",
       "      <td>[0]</td>\n",
       "      <td>2014</td>\n",
       "      <td>6</td>\n",
       "      <td>3</td>\n",
       "      <td>Tuesday</td>\n",
       "    </tr>\n",
       "    <tr>\n",
       "      <th>106932</th>\n",
       "      <td>189399</td>\n",
       "      <td>toasted nuts</td>\n",
       "      <td>7</td>\n",
       "      <td>162888</td>\n",
       "      <td>2006-10-06</td>\n",
       "      <td>[15-minutes-or-less, time-to-make, course, pre...</td>\n",
       "      <td>[765.2, 117.0, 12.0, 0.0, 35.0, 35.0, 5.0]</td>\n",
       "      <td>[preheat oven to 350 degrees fahrenheit, sprea...</td>\n",
       "      <td>6</td>\n",
       "      <td>bring out the rich nutty flavour of your walnu...</td>\n",
       "      <td>[walnuts]</td>\n",
       "      <td>1</td>\n",
       "      <td>[I appreciate finding this recipe- I did not k...</td>\n",
       "      <td>[2006-11-30 00:00:00, 2008-08-08 00:00:00, 200...</td>\n",
       "      <td>[323389, 123897, 72489, 307313, 60992, 189280]</td>\n",
       "      <td>[4, 5, 5, 5, 5, 5]</td>\n",
       "      <td>2006</td>\n",
       "      <td>10</td>\n",
       "      <td>6</td>\n",
       "      <td>Friday</td>\n",
       "    </tr>\n",
       "  </tbody>\n",
       "</table>\n",
       "</div>"
      ],
      "text/plain": [
       "       recipe_id                           name  minutes contributor_id  \\\n",
       "88009     153034                  freezing eggs       35         249074   \n",
       "230741    521756          apple cider reduction      155         171084   \n",
       "181738    354371        easter hard boiled eggs       12        1119236   \n",
       "230265    516377  how to choose and cut a mango        5        2549237   \n",
       "106932    189399                   toasted nuts        7         162888   \n",
       "\n",
       "        submitted                                               tags  \\\n",
       "88009  2006-01-23  [60-minutes-or-less, time-to-make, main-ingred...   \n",
       "230741 2015-04-19  [time-to-make, course, preparation, low-protei...   \n",
       "181738 2009-02-06  [15-minutes-or-less, time-to-make, course, mai...   \n",
       "230265 2014-06-03  [15-minutes-or-less, time-to-make, main-ingred...   \n",
       "106932 2006-10-06  [15-minutes-or-less, time-to-make, course, pre...   \n",
       "\n",
       "                                         nutrition  \\\n",
       "88009         [11.9, 1.0, 0.0, 0.0, 2.0, 1.0, 0.0]   \n",
       "230741        [14.4, 0.0, 0.0, 8.0, 0.0, 0.0, 1.0]   \n",
       "181738       [68.9, 7.0, 0.0, 2.0, 12.0, 7.0, 0.0]   \n",
       "230265   [403.2, 3.0, 367.0, 0.0, 11.0, 3.0, 33.0]   \n",
       "106932  [765.2, 117.0, 12.0, 0.0, 35.0, 35.0, 5.0]   \n",
       "\n",
       "                                                    steps  n_steps  \\\n",
       "88009   [items needed:, eggs, ziplock bags , various s...       37   \n",
       "230741  [in 6-8 quart stock pan , measure out 2 cups o...       13   \n",
       "181738  [place the eggs in a pot with enough cold salt...        9   \n",
       "230265  [how to choose a ripe mango:, press your thumb...       20   \n",
       "106932  [preheat oven to 350 degrees fahrenheit, sprea...        6   \n",
       "\n",
       "                                              description    ingredients  \\\n",
       "88009   a tried & true method to have eggs in your hou...          [egg]   \n",
       "230741  i saw a post about this on facebook and gave i...  [apple cider]   \n",
       "181738  a gruszecki tradition and now ours, is that ea...          [egg]   \n",
       "230265  i am often afraid of trying new produce becaus...        [mango]   \n",
       "106932  bring out the rich nutty flavour of your walnu...      [walnuts]   \n",
       "\n",
       "        n_ingredients                                             review  \\\n",
       "88009               1  [Was looking exactly for this info, didn't thi...   \n",
       "230741              1  [This was delicious! However, I have some note...   \n",
       "181738              1  [This really works. I have an awful habbit of ...   \n",
       "230265              1  [Don't Gnaw on the Pit! I love your cutting id...   \n",
       "106932              1  [I appreciate finding this recipe- I did not k...   \n",
       "\n",
       "                                                     date  \\\n",
       "88009   [2006-05-05 00:00:00, 2006-08-03 00:00:00, 200...   \n",
       "230741                              [2017-11-28 00:00:00]   \n",
       "181738  [2009-03-24 00:00:00, 2009-03-24 00:00:00, 200...   \n",
       "230265                              [2016-12-18 00:00:00]   \n",
       "106932  [2006-11-30 00:00:00, 2008-08-08 00:00:00, 200...   \n",
       "\n",
       "                                                  user_id  \\\n",
       "88009   [192419, 175492, 121795, 529681, 490764, 20176...   \n",
       "230741                                           [606850]   \n",
       "181738  [537179, 705251, 166294, 400708, 1323045, 185305]   \n",
       "230265                                           [592481]   \n",
       "106932     [323389, 123897, 72489, 307313, 60992, 189280]   \n",
       "\n",
       "                                rating  year  month  day day_of_week  \n",
       "88009   [5, 5, 5, 5, 5, 5, 5, 5, 5, 0]  2006      1   23      Monday  \n",
       "230741                             [5]  2015      4   19      Sunday  \n",
       "181738              [5, 5, 5, 5, 5, 5]  2009      2    6      Friday  \n",
       "230265                             [0]  2014      6    3     Tuesday  \n",
       "106932              [4, 5, 5, 5, 5, 5]  2006     10    6      Friday  "
      ]
     },
     "execution_count": 107,
     "metadata": {},
     "output_type": "execute_result"
    }
   ],
   "source": [
    "df_g.head()"
   ]
  },
  {
   "cell_type": "code",
   "execution_count": 108,
   "metadata": {},
   "outputs": [
    {
     "data": {
      "image/png": "[encoded data removed]",
      "text/plain": [
       "<Figure size 640x480 with 1 Axes>"
      ]
     },
     "metadata": {},
     "output_type": "display_data"
    }
   ],
   "source": [
    "\n",
    "submissions_per_year = df_g['year'].value_counts().sort_index()\n",
    "\n",
    "submissions_per_year.plot(kind='bar', title='Submitted par année')\n",
    "plt.xlabel('Year')\n",
    "plt.show()\n"
   ]
  },
  {
   "cell_type": "code",
   "execution_count": 109,
   "metadata": {},
   "outputs": [
    {
     "name": "stdout",
     "output_type": "stream",
     "text": [
      "Skewness: 0.16579866470038682\n",
      "Kurtosis: -0.05096274988428018\n"
     ]
    }
   ],
   "source": [
    "skewness_years = scipy.stats.skew(df_g['year'])\n",
    "kurt_years = scipy.stats.kurtosis(df_g['year'])\n",
    "\n",
    "print(f'Skewness: {skewness_years}')\n",
    "print(f'Kurtosis: {kurt_years}')"
   ]
  },
  {
   "cell_type": "code",
   "execution_count": 110,
   "metadata": {},
   "outputs": [
    {
     "data": {
      "image/png": "[encoded data removed]",
      "text/plain": [
       "<Figure size 640x480 with 1 Axes>"
      ]
     },
     "metadata": {},
     "output_type": "display_data"
    }
   ],
   "source": [
    "\n",
    "submissions_per_month = df_g['month'].value_counts().sort_index()\n",
    "\n",
    "submissions_per_month.plot(kind='bar', title='Submitted par mois')\n",
    "plt.xlabel('Year')\n",
    "plt.show()"
   ]
  },
  {
   "cell_type": "code",
   "execution_count": 111,
   "metadata": {},
   "outputs": [
    {
     "data": {
      "image/png": "[encoded data removed]",
      "text/plain": [
       "<Figure size 640x480 with 1 Axes>"
      ]
     },
     "metadata": {},
     "output_type": "display_data"
    }
   ],
   "source": [
    "\n",
    "submissions_per_day = df_g['day'].value_counts().sort_index()\n",
    "\n",
    "submissions_per_day.plot(kind='bar', title='Submitted par jour')\n",
    "plt.xlabel('Year')\n",
    "plt.show()"
   ]
  },
  {
   "cell_type": "code",
   "execution_count": 112,
   "metadata": {},
   "outputs": [
    {
     "data": {
      "text/html": [
       "<div>\n",
       "<style scoped>\n",
       "    .dataframe tbody tr th:only-of-type {\n",
       "        vertical-align: middle;\n",
       "    }\n",
       "\n",
       "    .dataframe tbody tr th {\n",
       "        vertical-align: top;\n",
       "    }\n",
       "\n",
       "    .dataframe thead th {\n",
       "        text-align: right;\n",
       "    }\n",
       "</style>\n",
       "<table border=\"1\" class=\"dataframe\">\n",
       "  <thead>\n",
       "    <tr style=\"text-align: right;\">\n",
       "      <th></th>\n",
       "      <th>minutes</th>\n",
       "      <th>submitted</th>\n",
       "      <th>n_steps</th>\n",
       "      <th>n_ingredients</th>\n",
       "      <th>year</th>\n",
       "      <th>month</th>\n",
       "      <th>day</th>\n",
       "    </tr>\n",
       "  </thead>\n",
       "  <tbody>\n",
       "    <tr>\n",
       "      <th>count</th>\n",
       "      <td>229996.000000</td>\n",
       "      <td>229996</td>\n",
       "      <td>229996.000000</td>\n",
       "      <td>229996.000000</td>\n",
       "      <td>229996.000000</td>\n",
       "      <td>229996.000000</td>\n",
       "      <td>229996.000000</td>\n",
       "    </tr>\n",
       "    <tr>\n",
       "      <th>mean</th>\n",
       "      <td>123.980734</td>\n",
       "      <td>2006-11-25 11:36:33.533800448</td>\n",
       "      <td>9.776857</td>\n",
       "      <td>9.063175</td>\n",
       "      <td>2006.419994</td>\n",
       "      <td>6.301340</td>\n",
       "      <td>15.576749</td>\n",
       "    </tr>\n",
       "    <tr>\n",
       "      <th>min</th>\n",
       "      <td>2.000000</td>\n",
       "      <td>1999-08-06 00:00:00</td>\n",
       "      <td>1.000000</td>\n",
       "      <td>1.000000</td>\n",
       "      <td>1999.000000</td>\n",
       "      <td>1.000000</td>\n",
       "      <td>1.000000</td>\n",
       "    </tr>\n",
       "    <tr>\n",
       "      <th>25%</th>\n",
       "      <td>20.000000</td>\n",
       "      <td>2004-10-05 00:00:00</td>\n",
       "      <td>6.000000</td>\n",
       "      <td>6.000000</td>\n",
       "      <td>2004.000000</td>\n",
       "      <td>3.000000</td>\n",
       "      <td>8.000000</td>\n",
       "    </tr>\n",
       "    <tr>\n",
       "      <th>50%</th>\n",
       "      <td>40.000000</td>\n",
       "      <td>2007-01-30 00:00:00</td>\n",
       "      <td>9.000000</td>\n",
       "      <td>9.000000</td>\n",
       "      <td>2007.000000</td>\n",
       "      <td>6.000000</td>\n",
       "      <td>15.000000</td>\n",
       "    </tr>\n",
       "    <tr>\n",
       "      <th>75%</th>\n",
       "      <td>65.000000</td>\n",
       "      <td>2008-11-02 00:00:00</td>\n",
       "      <td>12.000000</td>\n",
       "      <td>11.000000</td>\n",
       "      <td>2008.000000</td>\n",
       "      <td>9.000000</td>\n",
       "      <td>23.000000</td>\n",
       "    </tr>\n",
       "    <tr>\n",
       "      <th>max</th>\n",
       "      <td>288000.000000</td>\n",
       "      <td>2018-12-04 00:00:00</td>\n",
       "      <td>110.000000</td>\n",
       "      <td>43.000000</td>\n",
       "      <td>2018.000000</td>\n",
       "      <td>12.000000</td>\n",
       "      <td>31.000000</td>\n",
       "    </tr>\n",
       "    <tr>\n",
       "      <th>std</th>\n",
       "      <td>1984.775192</td>\n",
       "      <td>NaN</td>\n",
       "      <td>5.980045</td>\n",
       "      <td>3.730702</td>\n",
       "      <td>2.966020</td>\n",
       "      <td>3.427129</td>\n",
       "      <td>8.822034</td>\n",
       "    </tr>\n",
       "  </tbody>\n",
       "</table>\n",
       "</div>"
      ],
      "text/plain": [
       "             minutes                      submitted        n_steps  \\\n",
       "count  229996.000000                         229996  229996.000000   \n",
       "mean      123.980734  2006-11-25 11:36:33.533800448       9.776857   \n",
       "min         2.000000            1999-08-06 00:00:00       1.000000   \n",
       "25%        20.000000            2004-10-05 00:00:00       6.000000   \n",
       "50%        40.000000            2007-01-30 00:00:00       9.000000   \n",
       "75%        65.000000            2008-11-02 00:00:00      12.000000   \n",
       "max    288000.000000            2018-12-04 00:00:00     110.000000   \n",
       "std      1984.775192                            NaN       5.980045   \n",
       "\n",
       "       n_ingredients           year          month            day  \n",
       "count  229996.000000  229996.000000  229996.000000  229996.000000  \n",
       "mean        9.063175    2006.419994       6.301340      15.576749  \n",
       "min         1.000000    1999.000000       1.000000       1.000000  \n",
       "25%         6.000000    2004.000000       3.000000       8.000000  \n",
       "50%         9.000000    2007.000000       6.000000      15.000000  \n",
       "75%        11.000000    2008.000000       9.000000      23.000000  \n",
       "max        43.000000    2018.000000      12.000000      31.000000  \n",
       "std         3.730702       2.966020       3.427129       8.822034  "
      ]
     },
     "execution_count": 112,
     "metadata": {},
     "output_type": "execute_result"
    }
   ],
   "source": [
    "df_g.describe()"
   ]
  },
  {
   "cell_type": "markdown",
   "metadata": {},
   "source": [
    "Les valeurs des jours sont bien comprise entre 1 et 31, les mois entre 1 et 12. Cela est donc correct, il n'y a rien a changer."
   ]
  },
  {
   "cell_type": "markdown",
   "metadata": {},
   "source": [
    "On observe une periode de forte activité pour le site puis une décroissance élevé : axe interessant d'analyse. On observe bien la tendance et la mode de consomation. "
   ]
  },
  {
   "cell_type": "markdown",
   "metadata": {},
   "source": [
    "#### Colone : *date*"
   ]
  },
  {
   "cell_type": "code",
   "execution_count": 208,
   "metadata": {},
   "outputs": [
    {
     "name": "stdout",
     "output_type": "stream",
     "text": [
      "                                                    name  n_comments  \\\n",
      "833                                    best banana bread        1613   \n",
      "14424                         to die for crock pot roast        1601   \n",
      "51312  crock pot chicken with black beans   cream cheese        1579   \n",
      "21639                         creamy cajun chicken pasta        1448   \n",
      "38631   best ever banana cake with cream cheese frosting        1322   \n",
      "\n",
      "                                                    date  \n",
      "833    [2018-01-18 00:00:00, 2017-06-23 00:00:00, 201...  \n",
      "14424  [2004-10-25 00:00:00, 2005-02-23 00:00:00, 200...  \n",
      "51312  [2004-04-20 00:00:00, 2004-04-21 00:00:00, 200...  \n",
      "21639  [2010-01-19 00:00:00, 2018-10-17 00:00:00, 200...  \n",
      "38631  [2003-08-16 00:00:00, 2003-09-01 00:00:00, 200...  \n"
     ]
    }
   ],
   "source": [
    "\n",
    "df_g['n_comments'] = df_g['review'].apply(len)\n",
    "\n",
    "df_g = df_g.sort_values(by='n_comments', ascending=False)\n",
    "\n",
    "print(df_g[['name', 'n_comments','date']].head())\n"
   ]
  },
  {
   "cell_type": "code",
   "execution_count": 153,
   "metadata": {},
   "outputs": [
    {
     "data": {
      "text/plain": [
       "Text(0, 0.5, 'n_comments')"
      ]
     },
     "execution_count": 153,
     "metadata": {},
     "output_type": "execute_result"
    },
    {
     "data": {
      "image/png": "[encoded data removed]",
      "text/plain": [
       "<Figure size 640x480 with 1 Axes>"
      ]
     },
     "metadata": {},
     "output_type": "display_data"
    }
   ],
   "source": [
    "n_largest = df_g.nlargest(5, 'n_comments')\n",
    "for i in range(len(n_largest)):\n",
    "    plt.hist(df_g.loc[n_largest.index[i]]['date'], bins=50, edgecolor='black', alpha=0.5)\n",
    "\n",
    "plt.title('Top 5 Recettes commentées')\n",
    "plt.xlabel('Date')\n",
    "plt.ylabel('n_comments')"
   ]
  },
  {
   "cell_type": "markdown",
   "metadata": {},
   "source": [
    "En affichant les dates des commentaires des 5 recettes les plus commenté du site (ci dessus), on remarque bien que les commentaires suivent majoritairement la période d'activité du site (pic vers 2007-2008)"
   ]
  },
  {
   "cell_type": "markdown",
   "metadata": {},
   "source": [
    "Pourquoi y a t-il eu un pic de commentaire pour le banana bread en 2018 ?"
   ]
  },
  {
   "cell_type": "code",
   "execution_count": 179,
   "metadata": {},
   "outputs": [
    {
     "data": {
      "text/plain": [
       "1612    I've been using this recipe for 2 years and it...\n",
       "1611    Funny, &quot;Remove odd pots and pans from ove...\n",
       "1610    Best banana bread recipe I have ever made, and...\n",
       "1609    Very yummy. I added a little cinnamon to it as...\n",
       "1608    I made this recipe today however I did some mi...\n",
       "1607    My kids said this was the BEST banana bread I'...\n",
       "1606    Wonderful Banana Bread! I've made it several t...\n",
       "1605    Oh my goodness is this ever good! So easy to m...\n",
       "1604    Delicious exactly as written... no tweaking ne...\n",
       "1603    So amazing! This perfectly yielded 12 banana m...\n",
       "Name: review, dtype: object"
      ]
     },
     "execution_count": 179,
     "metadata": {},
     "output_type": "execute_result"
    }
   ],
   "source": [
    "\n",
    "pandas.DataFrame({'date': pandas.to_datetime(df_g.loc[df_g['n_comments'].idxmax()]['date']), 'review': df_g.loc[df_g['n_comments'].idxmax()]['review']}).sort_values(by='date',ascending=False)['review'].head(10)\n",
    "\n"
   ]
  },
  {
   "cell_type": "markdown",
   "metadata": {},
   "source": [
    "Cette recette devait etre beaucoup mise en avant par le site. Pourquoi ?"
   ]
  },
  {
   "cell_type": "markdown",
   "metadata": {},
   "source": [
    "Passons à l'analyse EDA des varaible Qualitative nominale : recipe_id, contributor_id, tags, steps, description, ingredient, user_id\n"
   ]
  },
  {
   "cell_type": "markdown",
   "metadata": {},
   "source": [
    "#### Colonne : *recipe_id*, *contributor_id*"
   ]
  },
  {
   "cell_type": "code",
   "execution_count": 209,
   "metadata": {},
   "outputs": [
    {
     "name": "stdout",
     "output_type": "stream",
     "text": [
      "229995\n",
      "0\n"
     ]
    }
   ],
   "source": [
    "print(df_g['recipe_id'].count())\n",
    "print(df_g['recipe_id'].isna().sum())"
   ]
  },
  {
   "cell_type": "code",
   "execution_count": 193,
   "metadata": {},
   "outputs": [
    {
     "name": "stdout",
     "output_type": "stream",
     "text": [
      "nombre de valeurs :  229995\n",
      "nombre de valeurs  manquantes:  0\n"
     ]
    }
   ],
   "source": [
    "print(\"nombre de valeurs : \",df_g['contributor_id'].count())\n",
    "print(\"nombre de valeurs  manquantes: \",df_g['recipe_id'].isna().sum())"
   ]
  },
  {
   "cell_type": "markdown",
   "metadata": {},
   "source": [
    "#### Colonne : *user_id*"
   ]
  },
  {
   "cell_type": "code",
   "execution_count": 206,
   "metadata": {},
   "outputs": [
    {
     "name": "stdout",
     "output_type": "stream",
     "text": [
      "nombre de commentaires :  1125078\n",
      "nombre de recette sans commentaires  0\n"
     ]
    }
   ],
   "source": [
    "print(\"nombre de commentaires : \",df_g['user_id'].apply(len).sum())\n",
    "print(\"nombre de recette sans commentaires \",df_g[df_g['user_id'].apply(len) < 1].shape[0])"
   ]
  },
  {
   "cell_type": "code",
   "execution_count": 216,
   "metadata": {},
   "outputs": [
    {
     "data": {
      "text/plain": [
       "Index(['recipe_id', 'name', 'minutes', 'contributor_id', 'submitted', 'tags',\n",
       "       'nutrition', 'steps', 'n_steps', 'description', 'ingredients',\n",
       "       'n_ingredients', 'review', 'date', 'user_id', 'rating', 'year', 'month',\n",
       "       'day', 'day_of_week', 'n_comments'],\n",
       "      dtype='object')"
      ]
     },
     "execution_count": 216,
     "metadata": {},
     "output_type": "execute_result"
    }
   ],
   "source": [
    "df_g.columns"
   ]
  },
  {
   "cell_type": "code",
   "execution_count": 219,
   "metadata": {},
   "outputs": [
    {
     "name": "stdout",
     "output_type": "stream",
     "text": [
      "                                  name  submitted  \\\n",
      "48324        chicken curry layer salad 2004-02-18   \n",
      "50041    odin s hammer pizza tuna melt 2004-03-21   \n",
      "77525  jolean s simple benedictine dip 2005-08-20   \n",
      "91325                guava cheese tart 2006-03-13   \n",
      "86265                   pizza burritos 2005-12-30   \n",
      "\n",
      "                                             description  n_comments  \\\n",
      "48324  this is a tasty and easy salad to take to a po...           1   \n",
      "50041  another easy eats recipe.\\r\\n\\r\\nto the kind w...           1   \n",
      "77525  this was a favorite of my mom's....we kids lik...           1   \n",
      "91325  this is recipe by m.s. milliken & s. feniger w...           1   \n",
      "86265  make it any way you like it!  an easy & fast k...           1   \n",
      "\n",
      "                                                  review  \\\n",
      "48324  [Made yesterday for supper.  Didn&#039;t have ...   \n",
      "50041  [Odin didn't have a hammer.. that was Thor.  T...   \n",
      "77525  [Fantastic dip! I made this as indicated (but ...   \n",
      "91325  [Excellent, excellent, excellent.  Try to use ...   \n",
      "86265  [My 12-yo DD made these for our lunch a few ti...   \n",
      "\n",
      "                        date  \n",
      "48324  [2013-05-03 00:00:00]  \n",
      "50041  [2009-11-24 00:00:00]  \n",
      "77525  [2008-10-28 00:00:00]  \n",
      "91325  [2009-06-15 00:00:00]  \n",
      "86265  [2008-08-07 00:00:00]  \n"
     ]
    }
   ],
   "source": [
    "df_g = df_g.sort_values(by='n_comments', ascending=True)\n",
    "print(df_g[['name','submitted','description','n_comments','review', 'date']].head())"
   ]
  },
  {
   "cell_type": "markdown",
   "metadata": {},
   "source": [
    "Il n'y a aucune recette avec aucun commentaire ? bizarre ?"
   ]
  },
  {
   "cell_type": "code",
   "execution_count": null,
   "metadata": {},
   "outputs": [],
   "source": []
  }
 ],
 "metadata": {
  "kernelspec": {
   "display_name": ".env_projet_kit_big_data",
   "language": "python",
   "name": "python3"
  },
  "language_info": {
   "codemirror_mode": {
    "name": "ipython",
    "version": 3
   },
   "file_extension": ".py",
   "mimetype": "text/x-python",
   "name": "python",
   "nbconvert_exporter": "python",
   "pygments_lexer": "ipython3",
   "version": "3.12.3"
  }
 },
 "nbformat": 4,
 "nbformat_minor": 2
}
