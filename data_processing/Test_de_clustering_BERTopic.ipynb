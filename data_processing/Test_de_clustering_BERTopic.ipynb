{
 "cells": [
  {
   "cell_type": "code",
   "execution_count": 1,
   "metadata": {},
   "outputs": [],
   "source": [
    "import pandas as pd\n",
    "from utils.dbapi import DBapi\n",
    "\n",
    "\n",
    "import os\n",
    "os.environ[\"TOKENIZERS_PARALLELISM\"] = \"false\"\n",
    "\n",
    "\n",
    "import pandas as pd\n",
    "import numpy as np\n",
    "import matplotlib.pyplot as plt\n",
    "from bertopic import BERTopic\n",
    "\n",
    "from nltk import word_tokenize\n",
    "import os.path as op\n",
    "import re \n",
    "import numpy as np\n",
    "import matplotlib.pyplot as plt\n",
    "import pandas as pd\n",
    "import sklearn\n",
    "from sklearn.feature_extraction.text import CountVectorizer\n",
    "import nltk\n",
    "\n",
    "# import the preprocess doc"
   ]
  },
  {
   "cell_type": "code",
   "execution_count": 2,
   "metadata": {},
   "outputs": [
    {
     "name": "stderr",
     "output_type": "stream",
     "text": [
      "INFO:root:Connexion à la base de données établie avec succès.\n",
      "INFO:root:70971 documents trouvés pour cleaned_description avec un pourcentage de 0.4.\n",
      "INFO:root:Connexion à la base de données fermée.\n"
     ]
    }
   ],
   "source": [
    "from dotenv import load_dotenv\n",
    "load_dotenv()\n",
    "\n",
    "db_api = DBapi()\n",
    "with db_api:\n",
    "    result = db_api.get_percentage('cleaned_description',0.4)\n",
    "    df = pd.DataFrame(result)"
   ]
  },
  {
   "cell_type": "code",
   "execution_count": 3,
   "metadata": {},
   "outputs": [],
   "source": [
    "seed_topic_list = [\n",
    "    [\"chicken\", \"beef\", \"pork\", \"lamb\"],  # Meats\n",
    "    [\"carrot\", \"broccoli\", \"spinach\", \"tomato\"],  # Vegetables\n",
    "    [\"apple\", \"banana\", \"orange\", \"strawberry\"],  # Fruits\n",
    "    [\"cake\", \"pie\", \"cookie\", \"muffin\"],  # Pastries\n",
    "    [\"appetizer\", \"starter\", \"canape\", \"hors d'oeuvre\"],  # Appetizers and Starters\n",
    "    [\"soup\", \"stew\", \"broth\", \"bisque\"],  # Soups and Stews\n",
    "    [\"salad\", \"greens\", \"dressing\", \"vinaigrette\"],  # Salads\n",
    "    [\"main course\", \"entree\", \"dish\", \"platter\"],  # Main Dishes\n",
    "    [\"side dish\", \"accompaniment\", \"garnish\", \"sides\"],  # Side Dishes\n",
    "    [\"dessert\", \"pudding\", \"sweet\", \"treat\"],  # Desserts\n",
    "    [\"beverage\", \"drink\", \"cocktail\", \"juice\"],  # Beverages\n",
    "    [\"breakfast\", \"brunch\", \"morning meal\", \"cereal\"],  # Breakfast Dishes\n",
    "    [\"vegetarian\", \"meatless\", \"plant-based\", \"veggie\"],  # Vegetarian Recipes\n",
    "    [\"vegan\", \"dairy-free\", \"egg-free\", \"plant-based\"],  # Vegan Recipes\n",
    "    [\"gluten-free\", \"no gluten\", \"wheat-free\", \"celiac\"],  # Gluten-Free Recipes\n",
    "    [\"dairy-free\", \"lactose-free\", \"milk-free\", \"non-dairy\"],  # Dairy-Free Recipes\n",
    "    [\"low carb\", \"keto\", \"low carbohydrate\", \"atkins\"],  # Low-Carb Recipes\n",
    "    [\"high protein\", \"protein-rich\", \"bodybuilding\", \"muscle\"],  # High Protein Recipes\n",
    "    [\"beef\", \"steak\", \"ground beef\", \"roast\"],  # Beef Dishes\n",
    "    [\"chicken\", \"poultry\", \"hen\", \"roast chicken\"],  # Poultry Dishes\n",
    "    [\"seafood\", \"fish\", \"shrimp\", \"lobster\"],  # Seafood Dishes\n",
    "    [\"pasta\", \"spaghetti\", \"noodles\", \"macaroni\"],  # Pasta Dishes\n",
    "    [\"rice\", \"risotto\", \"pilaf\", \"paella\"],  # Rice Dishes\n",
    "    [\"bread\", \"loaf\", \"baguette\", \"roll\"],  # Breads and Bakery\n",
    "    [\"sauce\", \"gravy\", \"dressing\", \"dip\"],  # Sauces and Condiments\n",
    "    [\"snack\", \"nibble\", \"munchies\", \"bite\"],  # Snacks and Appetizers\n",
    "    [\"grill\", \"barbecue\", \"bbq\", \"smoke\"],  # Grilling and BBQ\n",
    "    [\"bake\", \"oven\", \"roast\", \"pastry\"],  # Baking Recipes\n",
    "    [\"slow cooker\", \"crockpot\", \"stew\", \"braise\"],  # Slow Cooker Recipes\n",
    "    [\"pressure cooker\", \"instant pot\", \"quick cook\", \"fast\"],  # Pressure Cooker Recipes\n",
    "    [\"one-pot\", \"one-pan\", \"easy cleanup\", \"simple\"],  # One-Pot Meals\n",
    "    [\"casserole\", \"bake\", \"gratin\", \"hotdish\"],  # Casseroles and Bakes\n",
    "    [\"sandwich\", \"wrap\", \"panini\", \"sub\"],  # Sandwiches and Wraps\n",
    "    [\"pizza\", \"flatbread\", \"margherita\", \"pepperoni\"],  # Pizza and Flatbreads\n",
    "    [\"souffle\", \"quiche\", \"custard\", \"flan\"],  # Soufflés and Quiches\n",
    "    [\"tart\", \"pie\", \"pastry\", \"flan\"],  # Savory and Sweet Tarts\n",
    "    [\"cookie\", \"biscuit\", \"shortbread\", \"gingerbread\"],  # Cookies and Biscuits\n",
    "    [\"cake\", \"cupcake\", \"sponge\", \"layer cake\"],  # Cakes and Pastries\n",
    "    [\"ice cream\", \"gelato\", \"sorbet\", \"frozen yogurt\"],  # Ice Creams and Frozen Desserts\n",
    "    [\"smoothie\", \"shake\", \"blender\", \"frappe\"],  # Smoothies and Juices\n",
    "    [\"cocktail\", \"mocktail\", \"martini\", \"margarita\"],  # Cocktails and Mocktails\n",
    "    [\"tea\", \"coffee\", \"latte\", \"espresso\"],  # Tea and Coffee Beverages\n",
    "    [\"asian\", \"chinese\", \"japanese\", \"korean\"],  # Asian Cuisine\n",
    "    [\"italian\", \"pasta\", \"pizza\", \"risotto\"],  # Italian Cuisine\n",
    "    [\"french\", \"croissant\", \"baguette\", \"ratatouille\"],  # French Cuisine\n",
    "    [\"mexican\", \"taco\", \"enchilada\", \"quesadilla\"],  # Mexican Cuisine\n",
    "    [\"indian\", \"curry\", \"masala\", \"naan\"],  # Indian Cuisine\n",
    "    [\"middle eastern\", \"hummus\", \"falafel\", \"pita\"],  # Middle Eastern Cuisine\n",
    "    [\"mediterranean\", \"olive\", \"feta\", \"tzatziki\"],  # Mediterranean Cuisine\n",
    "    [\"african\", \"jollof\", \"injera\", \"tagine\"],  # African Cuisine\n",
    "    [\"american\", \"burger\", \"hot dog\", \"fries\"],  # American Cuisine\n",
    "    [\"british\", \"fish and chips\", \"shepherd's pie\", \"pudding\"],  # British Cuisine\n",
    "    [\"spanish\", \"paella\", \"tapas\", \"gazpacho\"],  # Spanish Cuisine\n",
    "    [\"thai\", \"pad thai\", \"green curry\", \"lemongrass\"],  # Thai Cuisine\n",
    "    [\"chinese\", \"dumpling\", \"stir-fry\", \"sweet and sour\"],  # Chinese Cuisine\n",
    "    [\"japanese\", \"sushi\", \"tempura\", \"ramen\"],  # Japanese Cuisine\n",
    "    [\"korean\", \"kimchi\", \"bibimbap\", \"bulgogi\"],  # Korean Cuisine\n",
    "    [\"german\", \"sauerkraut\", \"bratwurst\", \"pretzel\"],  # German Cuisine\n",
    "    [\"greek\", \"gyros\", \"moussaka\", \"feta\"],  # Greek Cuisine\n",
    "    [\"scandinavian\", \"smorrebrod\", \"gravlax\", \"meatballs\"],  # Scandinavian Cuisine\n",
    "    [\"russian\", \"borscht\", \"blini\", \"pelmeni\"],  # Russian Cuisine\n",
    "    [\"brazilian\", \"feijoada\", \"pão de queijo\", \"churrasco\"],  # Brazilian Cuisine\n",
    "    [\"moroccan\", \"couscous\", \"tagine\", \"harira\"],  # Moroccan Cuisine\n",
    "    [\"holiday\", \"celebration\", \"feast\", \"festive\"],  # Holiday Recipes\n",
    "    [\"christmas\", \"gingerbread\", \"turkey\", \"eggnog\"],  # Christmas Recipes\n",
    "    [\"easter\", \"lamb\", \"hot cross buns\", \"eggs\"],  # Easter Recipes\n",
    "    [\"halloween\", \"pumpkin\", \"candy\", \"toffee\"],  # Halloween Recipes\n",
    "    [\"thanksgiving\", \"stuffing\", \"cranberry\", \"pumpkin pie\"],  # Thanksgiving Recipes\n",
    "    [\"valentine\", \"chocolate\", \"strawberries\", \"romantic\"],  # Valentine's Day Recipes\n",
    "    [\"mother's day\", \"brunch\", \"flowers\", \"tea\"],  # Mother's Day Recipes\n",
    "    [\"father's day\", \"bbq\", \"steak\", \"beer\"],  # Father's Day Recipes\n",
    "    [\"new year\", \"champagne\", \"appetizers\", \"resolutions\"],  # New Year's Recipes\n",
    "    [\"summer\", \"grill\", \"salad\", \"lemonade\"],  # Summer Recipes\n",
    "    [\"autumn\", \"pumpkin\", \"apple\", \"spice\"],  # Autumn Recipes\n",
    "    [\"winter\", \"stew\", \"soup\", \"hot chocolate\"],  # Winter Recipes\n",
    "    [\"spring\", \"asparagus\", \"lamb\", \"peas\"],  # Spring Recipes\n",
    "    [\"picnic\", \"sandwich\", \"fruit\", \"salad\"],  # Picnic Recipes\n",
    "    [\"party\", \"finger food\", \"canapes\", \"dip\"],  # Party Recipes\n",
    "    [\"kids\", \"fun\", \"easy\", \"snacks\"],  # Recipes for Kids\n",
    "    [\"budget\", \"cheap\", \"affordable\", \"economical\"],  # Budget Recipes\n",
    "    [\"quick\", \"easy\", \"fast\", \"simple\"],  # Quick and Easy Recipes\n",
    "    [\"gourmet\", \"fine dining\", \"chef\", \"sophisticated\"],  # Gourmet Recipes\n",
    "    [\"healthy\", \"nutrition\", \"low-fat\", \"whole grains\"],  # Healthy Recipes\n",
    "    [\"comfort food\", \"hearty\", \"homestyle\", \"satisfying\"],  # Comfort Foods\n",
    "    [\"street food\", \"taco\", \"kebab\", \"noodle\"],  # Street Foods\n",
    "    [\"festive desserts\", \"cake\", \"pie\", \"tart\"],  # Festive Desserts\n",
    "    [\"gluten-free baking\", \"almond flour\", \"coconut flour\", \"xanthan gum\"],  # Gluten-Free Baking\n",
    "    [\"low-fat\", \"light\", \"diet\", \"skinny\"],  # Low-Fat Recipes\n",
    "    [\"diabetic\", \"sugar-free\", \"low carb\", \"glycemic\"],  # Diabetic Recipes\n",
    "    [\"lactose-free\", \"dairy-free\", \"soy milk\", \"almond milk\"],  # Lactose-Free Recipes\n",
    "    [\"high fiber\", \"whole grain\", \"bran\", \"fiber-rich\"],  # High Fiber Recipes\n",
    "    [\"paleo\", \"grain-free\", \"primal\", \"caveman\"],  # Paleo Recipes\n",
    "    [\"ketogenic\", \"keto\", \"low carb\", \"high fat\"],  # Keto Recipes\n",
    "    [\"raw food\", \"uncooked\", \"vegan\", \"living foods\"],  # Raw Food Recipes\n",
    "    [\"fermented\", \"kimchi\", \"sauerkraut\", \"kombucha\"],  # Fermented Foods\n",
    "    [\"superfood\", \"quinoa\", \"chia\", \"kale\"],  # Superfood Recipes\n",
    "    [\"seafood appetizer\", \"shrimp cocktail\", \"oysters\", \"ceviche\"],  # Seafood Appetizers\n",
    "    [\"meatless main\", \"vegetarian\", \"tofu\", \"eggplant\"],  # Meatless Main Dishes\n",
    "    [\"egg dishes\", \"omelette\", \"scrambled\", \"frittata\"],  # Egg Dishes\n",
    "    [\"cheese dishes\", \"fondue\", \"mac and cheese\", \"grilled cheese\"],  # Cheese Dishes\n",
    "    [\"tofu\", \"soy\", \"tempeh\", \"seitan\"],  # Tofu and Soy Recipes\n",
    "    [\"beans\", \"lentils\", \"chickpeas\", \"legumes\"],  # Beans and Legumes\n",
    "    [\"grain-free\", \"paleo\", \"almond flour\", \"coconut flour\"],  # Grain-Free Recipes\n",
    "    [\"whole grains\", \"brown rice\", \"quinoa\", \"oats\"],  # Whole Grain Recipes\n",
    "    [\"vinaigrette\", \"dressing\", \"salad dressing\", \"balsamic\"],  # Vinaigrettes\n",
    "    [\"marinade\", \"rub\", \"seasoning\", \"spice mix\"],  # Marinades and Rubs\n",
    "    [\"breakfast cereal\", \"granola\", \"muesli\", \"oatmeal\"],  # Breakfast Cereals\n",
    "    [\"pancake\", \"waffle\", \"crepe\", \"flapjack\"],  # Pancakes and Waffles\n",
    "    [\"omelette\", \"frittata\", \"scramble\", \"quiche\"],  # Omelettes and Frittatas\n",
    "    [\"sushi\", \"nigiri\", \"maki\", \"sashimi\"],  # Sushi and Sashimi\n",
    "    [\"dumpling\", \"dim sum\", \"gyoza\", \"wonton\"],  # Dumplings and Dim Sum\n",
    "    [\"tapas\", \"mezze\", \"small plates\", \"antipasti\"],  # Tapas and Small Plates\n",
    "    [\"spicy\", \"hot\", \"chili\", \"pepper\"],  # Spicy Recipes\n",
    "    [\"mild\", \"light\", \"delicate\", \"subtle\"],  # Mild and Delicate Flavors\n",
    "    [\"herb\", \"basil\", \"thyme\", \"rosemary\"],  # Herb-Based Recipes\n",
    "    [\"spice\", \"cumin\", \"cinnamon\", \"turmeric\"],  # Spice-Based Recipes\n",
    "    [\"chocolate dessert\", \"brownie\", \"mousse\", \"truffle\"],  # Chocolate Desserts\n",
    "    [\"fruit dessert\", \"cobbler\", \"crumble\", \"tart\"],  # Fruit Desserts\n",
    "    [\"gelato\", \"sorbet\", \"frozen yogurt\", \"popsicle\"],  # Gelato and Sorbets\n",
    "    [\"custard\", \"pudding\", \"crème brûlée\", \"flan\"],  # Custards and Puddings\n",
    "    [\"mousse\", \"parfait\", \"whipped\", \"airy\"],  # Mousses and Parfaits\n",
    "    [\"bread pudding\", \"custard\", \"raisin\", \"vanilla\"],  # Bread Puddings\n",
    "    [\"traditional bread\", \"sourdough\", \"rye\", \"whole wheat\"],  # Traditional Breads\n",
    "    [\"sourdough\", \"starter\", \"levain\", \"fermented\"],  # Sourdough Recipes\n",
    "    [\"flatbread\", \"naan\", \"pita\", \"chapati\"],  # Flatbreads and Naan\n",
    "    [\"crepe\", \"blini\", \"pancake\", \"galette\"],  # Crepes and Blinis\n",
    "    [\"stuffed pasta\", \"ravioli\", \"tortellini\", \"manicotti\"],  # Stuffed Pastas\n",
    "    [\"risotto\", \"paella\", \"arborio\", \"saffron\"],  # Risotto and Paella\n",
    "    [\"stir-fry\", \"wok\", \"sauté\", \"quick cook\"],  # Stir-Fries\n",
    "    [\"curry\", \"masala\", \"korma\", \"vindaloo\"],  # Curries\n",
    "    [\"kebab\", \"skewer\", \"satay\", \"yakitori\"],  # Kebabs and Skewers\n",
    "    [\"noodle dish\", \"ramen\", \"lo mein\", \"pad thai\"],  # Noodle Dishes\n",
    "    [\"meal salad\", \"chicken salad\", \"tuna salad\", \"grain salad\"],  # Meal Salads\n",
    "    [\"baked seafood\", \"fish fillet\", \"shrimp scampi\", \"lobster tail\"],  # Baked Seafood\n",
    "    [\"steamed dish\", \"dim sum\", \"fish\", \"vegetables\"],  # Steamed Dishes\n",
    "    [\"roasted vegetables\", \"root vegetables\", \"squash\", \"brussels sprouts\"],  # Roasted Vegetables\n",
    "    [\"gratin\", \"au gratin\", \"cheesy\", \"baked\"],  # Gratins\n",
    "    [\"preservation\", \"pickling\", \"canning\", \"fermenting\"],  # Food Preservation\n",
    "    [\"pickle\", \"chutney\", \"relish\", \"sauerkraut\"],  # Pickles and Chutneys\n",
    "    [\"jam\", \"jelly\", \"preserve\", \"marmalade\"],  # Jams and Jellies\n",
    "    [\"canning\", \"jar\", \"preserving\", \"mason jar\"],  # Canning and Jarring\n",
    "    [\"dehydrated\", \"dried fruit\", \"beef jerky\", \"fruit leather\"],  # Dehydrated Foods\n",
    "    [\"vegan dessert\", \"dairy-free\", \"egg-free\", \"raw\"],  # Vegan Desserts\n",
    "    [\"energy bar\", \"granola bar\", \"protein bar\", \"snack bar\"],  # Energy Bars and Bites\n",
    "    [\"protein shake\", \"smoothie\", \"whey\", \"post-workout\"],  # Protein Shakes\n",
    "    [\"meal prep\", \"batch cooking\", \"make ahead\", \"freezer meals\"],  # Meal Prep Recipes\n",
    "    [\"seasonal soup\", \"gazpacho\", \"pumpkin soup\", \"minestrone\"],  # Soups for All Seasons\n",
    "    [\"comfort stew\", \"beef stew\", \"chili\", \"goulash\"],  # Comforting Stews\n",
    "    [\"chili\", \"con carne\", \"beans\", \"spicy\"],  # Chili Recipes\n",
    "    [\"game meat\", \"venison\", \"rabbit\", \"wild boar\"],  # Game Meat Recipes\n",
    "    [\"exotic\", \"truffle\", \"foie gras\", \"caviar\"],  # Exotic Ingredients\n",
    "    [\"fusion\", \"tex-mex\", \"asian-fusion\", \"cross-cultural\"],  # Fusion Cuisine\n",
    "    [\"restaurant-style\", \"copycat\", \"gourmet\", \"signature\"],  # Restaurant-Style Recipes\n",
    "    [\"street food\", \"empanada\", \"spring roll\", \"arepa\"],  # Street Foods from Around the World\n",
    "    [\"healthy snack\", \"nuts\", \"fruit\", \"yogurt\"],  # Healthy Snacks\n",
    "    [\"on-the-go breakfast\", \"breakfast bar\", \"muffin\", \"wrap\"],  # Grab-and-Go Breakfasts\n",
    "    [\"brunch favorite\", \"eggs benedict\", \"pancakes\", \"mimosa\"],  # Brunch Favorites\n",
    "    [\"afternoon tea\", \"scone\", \"finger sandwich\", \"petit four\"],  # Afternoon Tea Recipes\n",
    "    [\"traditional\", \"stew\", \"roast\", \"casserole\"],  # Traditional Dishes\n",
    "    [\"family recipe\", \"heirloom\", \"passed down\", \"comfort\"],  # Family Recipes\n",
    "    [\"grandma's recipe\", \"nostalgic\", \"old-fashioned\", \"classic\"],  # Grandma's Recipes\n",
    "    [\"regional\", \"gumbo\", \"poutine\", \"sauerbraten\"],  # Regional Specialties\n",
    "    [\"very spicy\", \"ghost pepper\", \"habanero\", \"scotch bonnet\"],  # Very Spicy Dishes\n",
    "    [\"mild dish\", \"butter chicken\", \"creamy\", \"gentle flavors\"],  # Mild Dishes\n",
    "    [\"savory snack\", \"chips\", \"nuts\", \"pretzels\"],  # Savory Snacks\n",
    "    [\"sweet treat\", \"candy\", \"dessert\", \"chocolate\"],  # Sweet Treats\n",
    "    [\"savory pastry\", \"sausage roll\", \"empanada\", \"pasty\"],  # Savory Pastries\n",
    "    [\"international dessert\", \"baklava\", \"tiramisu\", \"gulab jamun\"],  # International Desserts\n",
    "    [\"wedding cake\", \"tiered cake\", \"fondant\", \"white cake\"],  # Wedding Cakes\n",
    "    [\"birthday cake\", \"layer cake\", \"frosting\", \"candles\"],  # Birthday Cakes\n",
    "    [\"holiday cookies\", \"sugar cookies\", \"gingerbread\", \"shortbread\"],  # Holiday Cookies\n",
    "    [\"gingerbread house\", \"decorating\", \"royal icing\", \"candy\"],  # Gingerbread Creations\n",
    "    [\"chocolate making\", \"truffles\", \"ganache\", \"tempering\"],  # Chocolate Making\n",
    "    [\"candy making\", \"fudge\", \"caramel\", \"toffee\"],  # Confectionery\n",
    "    [\"herb preservation\", \"drying herbs\", \"herb oil\", \"herb vinegar\"],  # Preserving Herbs\n",
    "    [\"homemade pasta\", \"fresh pasta\", \"pasta dough\", \"pasta machine\"],  # Homemade Pasta\n",
    "    [\"dumpling wrapper\", \"wonton skin\", \"gyoza wrapper\", \"homemade\"],  # Dumpling Wrappers\n",
    "    [\"vegetarian protein\", \"tofu\", \"beans\", \"lentils\"],  # Vegetarian Proteins\n",
    "    [\"vegan baking\", \"egg substitute\", \"flax egg\", \"aquafaba\"],  # Vegan Baking\n",
    "    [\"low sugar\", \"sugar substitute\", \"stevia\", \"erythritol\"],  # Low Sugar Recipes\n",
    "    [\"sugar-free\", \"diabetic-friendly\", \"artificial sweetener\", \"no sugar\"],  # Sugar-Free Recipes\n",
    "    [\"detox\", \"cleanse\", \"green juice\", \"smoothie\"],  # Detox Recipes\n",
    "    [\"juice\", \"cold-pressed\", \"fruit juice\", \"vegetable juice\"],  # Juice Recipes\n",
    "    [\"mocktail\", \"non-alcoholic\", \"smoothie\", \"punch\"],  # Mocktails\n",
    "    [\"traditional drink\", \"chai\", \"matcha\", \"horchata\"],  # Traditional Beverages\n",
    "    [\"smoothie bowl\", \"acai bowl\", \"toppings\", \"granola\"],  # Smoothie Bowls\n",
    "    [\"breakfast muffin\", \"bran muffin\", \"blueberry muffin\", \"banana muffin\"],  # Breakfast Muffins\n",
    "    [\"specialty bread\", \"focaccia\", \"brioche\", \"ciabatta\"],  # Specialty Breads\n",
    "    [\"festive drink\", \"eggnog\", \"mulled wine\", \"cider\"],  # Festive Beverages\n",
    "    [\"bbq sauce\", \"smoky\", \"sweet\", \"tangy\"],  # BBQ Sauces\n",
    "    [\"mayonnaise\", \"aioli\", \"emulsion\", \"garlic mayo\"],  # Mayonnaises and Aiolis\n",
    "    [\"spice blend\", \"curry powder\", \"garam masala\", \"taco seasoning\"],  # Homemade Spice Blends\n",
    "    [\"gluten-free dessert\", \"almond flour cake\", \"flourless brownie\", \"meringue\"],  # Gluten-Free Desserts\n",
    "    [\"alternative flour\", \"almond flour\", \"coconut flour\", \"buckwheat\"],  # Alternative Flours\n",
    "    [\"nut-free\", \"seed butter\", \"sunflower seeds\", \"coconut\"],  # Nut-Free Recipes\n",
    "    [\"allergen-free\", \"dairy-free\", \"gluten-free\", \"egg-free\"],  # Allergen-Free Recipes\n",
    "    [\"baby food\", \"puree\", \"mashed\", \"soft\"],  # Baby Recipes\n",
    "    [\"toddler meal\", \"finger food\", \"bite-sized\", \"soft\"],  # Toddler Meals\n",
    "    [\"senior nutrition\", \"soft food\", \"easy to chew\", \"nutritious\"],  # Nutrition for Seniors\n",
    "    [\"sports nutrition\", \"protein\", \"carb loading\", \"recovery\"],  # Sports Nutrition\n",
    "    [\"food pairing\", \"wine pairing\", \"cheese pairing\", \"flavor combinations\"],  # Food Pairings\n",
    "    [\"cooking technique\", \"sauteing\", \"braising\", \"blanching\"],  # Cooking Techniques\n",
    "]\n"
   ]
  },
  {
   "cell_type": "code",
   "execution_count": 4,
   "metadata": {},
   "outputs": [],
   "source": [
    "\n",
    "\n",
    "df = df\n",
    "\n",
    "documents = df['cleaned_description'].to_list()\n",
    "\n",
    "# BERTopic (sans n-gram)\n",
    "import hdbscan\n",
    "\n",
    "n_gram_range = (1, 2)\n",
    "\n",
    "hdbscan_model = hdbscan.HDBSCAN(min_cluster_size=100, prediction_data=True)\n",
    "topic_model = BERTopic(hdbscan_model=hdbscan_model, seed_topic_list=seed_topic_list, n_gram_range = n_gram_range, top_n_words = 5 ,language=\"english\")\n",
    "\n",
    "# TODO : Faire fonctionner BERTopic\n"
   ]
  },
  {
   "cell_type": "code",
   "execution_count": 5,
   "metadata": {},
   "outputs": [
    {
     "name": "stderr",
     "output_type": "stream",
     "text": [
      "INFO:sentence_transformers.SentenceTransformer:Use pytorch device_name: cpu\n",
      "INFO:sentence_transformers.SentenceTransformer:Load pretrained SentenceTransformer: sentence-transformers/all-MiniLM-L6-v2\n"
     ]
    },
    {
     "name": "stdout",
     "output_type": "stream",
     "text": [
      "    Topic  Count                                             Name  \\\n",
      "0      -1  40755                      -1_dish_sauce_chicken_salad   \n",
      "1       0   2156                       0_family_mom_husband_years   \n",
      "2       1   1546              1_magazine_home magazine_issue_food   \n",
      "3       2   1339      2_cookbook_cookbook cookbook_cookbooks_book   \n",
      "4       3   1317                    3_soup_soup soup_soups_hearty   \n",
      "..    ...    ...                                              ...   \n",
      "67     66    113                   66_nuts_walnuts_pecans_almonds   \n",
      "68     67    111                            67_ribs_rib_bbq_grill   \n",
      "69     68    111              68_sandwich_sandwiches_cheese_bread   \n",
      "70     69    111  69_meatballs_meatball_meatballs meatballs_sauce   \n",
      "71     70    111                    70_grill_bbq_barbecue_foreman   \n",
      "\n",
      "                                       Representation  \\\n",
      "0               [dish, sauce, chicken, salad, flavor]   \n",
      "1               [family, mom, husband, years, friend]   \n",
      "2   [magazine, home magazine, issue, food, magazin...   \n",
      "3   [cookbook, cookbook cookbook, cookbooks, book,...   \n",
      "4            [soup, soup soup, soups, hearty, winter]   \n",
      "..                                                ...   \n",
      "67          [nuts, walnuts, pecans, almonds, granola]   \n",
      "68                 [ribs, rib, bbq, grill, ribs ribs]   \n",
      "69       [sandwich, sandwiches, cheese, bread, lunch]   \n",
      "70  [meatballs, meatball, meatballs meatballs, sau...   \n",
      "71           [grill, bbq, barbecue, foreman, outdoor]   \n",
      "\n",
      "                                  Representative_Docs  \n",
      "0   [['taste', 'home'], ['taste', 'home'], ['chick...  \n",
      "1   [['family', 'years'], ['friend', 'years', 'fam...  \n",
      "2   [['taste', 'home', 'magazine'], ['taste', 'hom...  \n",
      "3   [['book', 'cookbook'], ['family', 'cookbook'],...  \n",
      "4   [['hearty', 'soup'], ['hearty', 'soup'], ['gra...  \n",
      "..                                                ...  \n",
      "67  [['flavors', 'pecans', 'walnuts'], ['housekeep...  \n",
      "68                     [['ribs'], ['ribs'], ['ribs']]  \n",
      "69  [['bread', 'sandwich', 'shop', 'beef', 'mozzer...  \n",
      "70  [['years', 'beef', 'meatballs', 'meatballs', '...  \n",
      "71  [['chicken', 'grill'], ['indoor', 'grill', 'bb...  \n",
      "\n",
      "[72 rows x 5 columns]\n"
     ]
    }
   ],
   "source": [
    "n_topics = 0\n",
    "while n_topics < 10:\n",
    "    topics, probs = topic_model.fit_transform(documents)\n",
    "    n_topics = len(set(topics))\n",
    "df['topic'] = topics\n",
    "df['probs'] = probs\n",
    "    # Afficher les topics les plus fréquents\n",
    "print(topic_model.get_topic_info())\n",
    "\n",
    "\n"
   ]
  },
  {
   "cell_type": "code",
   "execution_count": null,
   "metadata": {},
   "outputs": [
    {
     "name": "stdout",
     "output_type": "stream",
     "text": [
      "[('dish', 0.00899523634939025), ('sauce', 0.008616173787161958), ('chicken', 0.008412180208918778), ('salad', 0.005838373305643085), ('flavor', 0.005582790629521052)]\n"
     ]
    },
    {
     "data": {
      "application/vnd.plotly.v1+json": {
       "config": {
        "plotlyServerURL": "https://plot.ly"
       },
       "data": [
        {
         "customdata": [
          [
           0,
           "family | mom | husband | years | friend",
           2156
          ],
          [
           1,
           "magazine | home magazine | issue | food | magazine magazine",
           1546
          ],
          [
           2,
           "cookbook | cookbook cookbook | cookbooks | book | booklet",
           1339
          ],
          [
           3,
           "soup | soup soup | soups | hearty | winter",
           1317
          ],
          [
           4,
           "salad | dressing | salads | salad salad | summer",
           1308
          ],
          [
           5,
           "cake | cupcakes | frosting | cheesecake | chocolate",
           1300
          ],
          [
           6,
           "spicy | chili | peppers | pepper | sauce",
           1117
          ],
          [
           7,
           "light light | light | light issue | issue light | issue",
           1073
          ],
          [
           8,
           "potatoes | potato | sweet potatoes | sweet | dish",
           883
          ],
          [
           9,
           "cookies | cookie | chocolate | peanut | peanut butter",
           818
          ],
          [
           10,
           "rice | rice rice | dish | rice dish | serve rice",
           719
          ],
          [
           11,
           "bread | loaf | machine | bread machine | loaves",
           717
          ],
          [
           12,
           "havent | toh | card | sounds | enjoy",
           670
          ],
          [
           13,
           "shrimp | salmon | crab | fish | seafood",
           669
          ],
          [
           14,
           "christmas | gift | year | gifts | cookie",
           639
          ],
          [
           15,
           "calories | calorie | mg | protein | fiber",
           634
          ],
          [
           16,
           "pasta | noodles | spaghetti | sauce | pasta dish",
           633
          ],
          [
           17,
           "strawberries | blueberries | fruit | berries | strawberry",
           590
          ],
          [
           18,
           "pork | chops | pork chops | roast | pork chop",
           536
          ],
          [
           19,
           "restaurant | chef | inn | texas | city",
           513
          ],
          [
           20,
           "cheese | cheddar | sauce | flavor | cream",
           499
          ],
          [
           21,
           "breakfast | dinner | brunch | lunch | meal",
           478
          ],
          [
           22,
           "drink | cocktail | vodka | coffee | tea",
           464
          ],
          [
           23,
           "muffins | muffin | bran | muffins muffins | breakfast",
           459
          ],
          [
           24,
           "squash | zucchini | butternut | butternut squash | way zucchini",
           453
          ],
          [
           25,
           "party | parties | appetizer | party appetizer | dinner party",
           394
          ],
          [
           26,
           "pie | crust | pie crust | pastry | pies",
           356
          ],
          [
           27,
           "vinegar | parsley | garlic | herbs | basil",
           355
          ],
          [
           28,
           "marinade | marinating | chicken | marinade chicken | marination",
           323
          ],
          [
           29,
           "episode | show | rachel | rachel ray | ray",
           306
          ],
          [
           30,
           "points | weight | watchers | weight watchers | ww",
           290
          ],
          [
           31,
           "ingredients | ingredients hand | ingredients ingredients | hand | tastes",
           265
          ],
          [
           32,
           "site | allrecipescom | website | web site | web",
           265
          ],
          [
           33,
           "mushrooms | mushroom | mushrooms mushrooms | mushroom soup | stuffed",
           240
          ],
          [
           34,
           "beans | beans beans | bean | way beans | peas",
           239
          ],
          [
           35,
           "dessert | dessert dessert | summer | summer dessert | dessert summer",
           233
          ],
          [
           36,
           "tour | world tour | world | zaar world | zaar",
           224
          ],
          [
           37,
           "sausage | sausages | sausage sausage | pork | pork sausage",
           224
          ],
          [
           38,
           "crock | crock pot | pot | crockpot | pot crock",
           220
          ],
          [
           39,
           "salsa | salsa salsa | chips | heat | tomatoes",
           219
          ],
          [
           40,
           "curry | thai | curry powder | paste | curry paste",
           209
          ],
          [
           41,
           "carb | protein | carbs | cholesterol | diet",
           209
          ],
          [
           42,
           "dish | side dish | side | dish meal | dish side",
           206
          ],
          [
           43,
           "burger | burgers | hamburger | patties | bun",
           203
          ],
          [
           44,
           "request | response | response request | boards | request boards",
           202
          ],
          [
           45,
           "tortilla | tacos | burritos | tortillas | taco",
           198
          ],
          [
           46,
           "pancakes | waffles | pancake | waffle | pancakes waffles",
           181
          ],
          [
           47,
           "pizza | crust | pizza crust | toppings | pizza pizza",
           173
          ],
          [
           48,
           "salt | sodium | salty | salt salt | soy",
           160
          ],
          [
           49,
           "vegan | vegetarians | vegans | vegetarian | fat vegetarian",
           160
          ],
          [
           50,
           "yummy | yummy yummy | simple | tasty | goodness",
           156
          ],
          [
           51,
           "biscuits | biscuit | biscuits biscuits | gravy | dough",
           152
          ],
          [
           52,
           "winter | summer | autumn | winters | winters day",
           142
          ],
          [
           53,
           "sauce | sauce sauce | dipping | dipping sauce | ingredients sauce",
           136
          ],
          [
           54,
           "ice cream | ice | vanilla | cream | vanilla ice",
           135
          ],
          [
           55,
           "comfort | comfort food | food | food comfort | food winter",
           133
          ],
          [
           56,
           "tuna | tuna salad | salad | tuna casserole | tuna tuna",
           132
          ],
          [
           57,
           "tomatoes | garden | tomato | garden tomatoes | tomatoes garden",
           132
          ],
          [
           58,
           "roast | beef | steak | roast beef | ground",
           130
          ],
          [
           59,
           "asparagus | asparagus asparagus | way asparagus | asparagus way | spring",
           123
          ],
          [
           60,
           "chicken | breasts | chicken breasts | boneless | thighs",
           122
          ],
          [
           61,
           "juice | orange | orange juice | lemon | lemons",
           120
          ],
          [
           62,
           "living | living living | simple | living simple | simple living",
           117
          ],
          [
           63,
           "paula | deen | paula deen | deens | paula deens",
           116
          ],
          [
           64,
           "magazine magazine | magazine | sounds magazine | magazine sounds | sounds",
           115
          ],
          [
           65,
           "dish dish | dish | thiw | thiw dish | joe dish",
           114
          ],
          [
           66,
           "nuts | walnuts | pecans | almonds | granola",
           113
          ],
          [
           67,
           "ribs | rib | bbq | grill | ribs ribs",
           111
          ],
          [
           68,
           "sandwich | sandwiches | cheese | bread | lunch",
           111
          ],
          [
           69,
           "meatballs | meatball | meatballs meatballs | sauce | meatballs sauce",
           111
          ],
          [
           70,
           "grill | bbq | barbecue | foreman | outdoor",
           111
          ]
         ],
         "hovertemplate": "<b>Topic %{customdata[0]}</b><br>%{customdata[1]}<br>Size: %{customdata[2]}",
         "legendgroup": "",
         "marker": {
          "color": "#B0BEC5",
          "line": {
           "color": "DarkSlateGrey",
           "width": 2
          },
          "size": [
           2156,
           1546,
           1339,
           1317,
           1308,
           1300,
           1117,
           1073,
           883,
           818,
           719,
           717,
           670,
           669,
           639,
           634,
           633,
           590,
           536,
           513,
           499,
           478,
           464,
           459,
           453,
           394,
           356,
           355,
           323,
           306,
           290,
           265,
           265,
           240,
           239,
           233,
           224,
           224,
           220,
           219,
           209,
           209,
           206,
           203,
           202,
           198,
           181,
           173,
           160,
           160,
           156,
           152,
           142,
           136,
           135,
           133,
           132,
           132,
           130,
           123,
           122,
           120,
           117,
           116,
           115,
           114,
           113,
           111,
           111,
           111,
           111
          ],
          "sizemode": "area",
          "sizeref": 1.3475,
          "symbol": "circle"
         },
         "mode": "markers",
         "name": "",
         "orientation": "v",
         "showlegend": false,
         "type": "scatter",
         "x": [
          2.0735690593719482,
          16.98471450805664,
          16.929893493652344,
          8.724583625793457,
          -14.126408576965332,
          1.1264861822128296,
          7.507480144500732,
          6.113382339477539,
          -14.292197227478027,
          -5.3476881980896,
          -14.235450744628906,
          8.49637222290039,
          6.100631237030029,
          8.169816017150879,
          2.161357879638672,
          -4.69883394241333,
          8.250429153442383,
          7.739188194274902,
          0.6824922561645508,
          0.09178394079208374,
          8.749610900878906,
          10.76568603515625,
          7.857560157775879,
          1.4467570781707764,
          -14.715597152709961,
          10.51456069946289,
          2.460684299468994,
          7.1203436851501465,
          7.081517219543457,
          1.8129849433898926,
          10.759932518005371,
          6.977395534515381,
          10.068869590759277,
          -13.95790958404541,
          -14.026396751403809,
          0.9422144293785095,
          10.069087028503418,
          8.648301124572754,
          0.36551347374916077,
          -10.057718276977539,
          8.488134384155273,
          -4.773298263549805,
          10.743154525756836,
          9.120855331420898,
          10.915705680847168,
          -10.043363571166992,
          1.4031715393066406,
          2.460611581802368,
          6.871380805969238,
          -4.968353271484375,
          0.8943079710006714,
          -5.2632880210876465,
          10.771793365478516,
          8.166350364685059,
          -5.31265926361084,
          10.657513618469238,
          8.148394584655762,
          -14.854071617126465,
          0.623101532459259,
          -14.344478607177734,
          0.9578121900558472,
          7.866965293884277,
          6.008113384246826,
          1.7487050294876099,
          16.88072395324707,
          10.7726469039917,
          -5.078804969787598,
          0.7323142290115356,
          9.061763763427734,
          8.696711540222168,
          0.1586693972349167
         ],
         "xaxis": "x",
         "y": [
          10.216129302978516,
          14.868091583251953,
          14.813398361206055,
          17.62963104248047,
          0.869378924369812,
          -6.396810054779053,
          17.870859146118164,
          -7.523694038391113,
          0.992862343788147,
          1.3266102075576782,
          0.8826724290847778,
          17.828353881835938,
          -7.536384105682373,
          17.412748336791992,
          10.126726150512695,
          -4.376046657562256,
          18.15703773498535,
          -1.446785569190979,
          7.024223804473877,
          6.450695037841797,
          17.951618194580078,
          -6.289930820465088,
          -1.5647445917129517,
          -6.714827060699463,
          1.079620361328125,
          -6.39632511138916,
          -1.0750024318695068,
          17.905628204345703,
          17.813770294189453,
          10.476208686828613,
          -5.939911842346191,
          17.827465057373047,
          9.557599067687988,
          0.7324393391609192,
          1.2694787979125977,
          -6.212104320526123,
          9.557609558105469,
          17.04146957397461,
          6.720076560974121,
          -6.081042766571045,
          17.731611251831055,
          -4.301797866821289,
          -5.759942531585693,
          17.906269073486328,
          -5.869876384735107,
          -6.073941230773926,
          -6.671893119812012,
          -1.074961543083191,
          17.93218994140625,
          -4.106272220611572,
          -6.163674831390381,
          1.4112327098846436,
          -6.451601028442383,
          18.2405948638916,
          1.3612656593322754,
          -6.420741558074951,
          17.361268997192383,
          1.04378080368042,
          6.968772888183594,
          0.7952457070350647,
          7.306914806365967,
          -1.5741928815841675,
          -7.6290812492370605,
          10.53897476196289,
          14.764080047607422,
          -5.656989097595215,
          1.5957046747207642,
          7.072450637817383,
          17.881004333496094,
          16.95859146118164,
          6.516195774078369
         ],
         "yaxis": "y"
        }
       ],
       "layout": {
        "annotations": [
         {
          "showarrow": false,
          "text": "D1",
          "x": -17.082182359695434,
          "y": 6.101620328426361,
          "yshift": 10
         },
         {
          "showarrow": false,
          "text": "D2",
          "x": 1.2251196622848521,
          "xshift": 10,
          "y": 20.976684093475342
         }
        ],
        "height": 650,
        "hoverlabel": {
         "bgcolor": "white",
         "font": {
          "family": "Rockwell",
          "size": 16
         }
        },
        "legend": {
         "itemsizing": "constant",
         "tracegroupgap": 0
        },
        "margin": {
         "t": 60
        },
        "shapes": [
         {
          "line": {
           "color": "#CFD8DC",
           "width": 2
          },
          "type": "line",
          "x0": 1.2251196622848521,
          "x1": 1.2251196622848521,
          "y0": -8.77344343662262,
          "y1": 20.976684093475342
         },
         {
          "line": {
           "color": "#9E9E9E",
           "width": 2
          },
          "type": "line",
          "x0": -17.082182359695434,
          "x1": 19.532421684265138,
          "y0": 6.101620328426361,
          "y1": 6.101620328426361
         }
        ],
        "sliders": [
         {
          "active": 0,
          "pad": {
           "t": 50
          },
          "steps": [
           {
            "args": [
             {
              "marker.color": [
               [
                "red",
                "#B0BEC5",
                "#B0BEC5",
                "#B0BEC5",
                "#B0BEC5",
                "#B0BEC5",
                "#B0BEC5",
                "#B0BEC5",
                "#B0BEC5",
                "#B0BEC5",
                "#B0BEC5",
                "#B0BEC5",
                "#B0BEC5",
                "#B0BEC5",
                "#B0BEC5",
                "#B0BEC5",
                "#B0BEC5",
                "#B0BEC5",
                "#B0BEC5",
                "#B0BEC5",
                "#B0BEC5",
                "#B0BEC5",
                "#B0BEC5",
                "#B0BEC5",
                "#B0BEC5",
                "#B0BEC5",
                "#B0BEC5",
                "#B0BEC5",
                "#B0BEC5",
                "#B0BEC5",
                "#B0BEC5",
                "#B0BEC5",
                "#B0BEC5",
                "#B0BEC5",
                "#B0BEC5",
                "#B0BEC5",
                "#B0BEC5",
                "#B0BEC5",
                "#B0BEC5",
                "#B0BEC5",
                "#B0BEC5",
                "#B0BEC5",
                "#B0BEC5",
                "#B0BEC5",
                "#B0BEC5",
                "#B0BEC5",
                "#B0BEC5",
                "#B0BEC5",
                "#B0BEC5",
                "#B0BEC5",
                "#B0BEC5",
                "#B0BEC5",
                "#B0BEC5",
                "#B0BEC5",
                "#B0BEC5",
                "#B0BEC5",
                "#B0BEC5",
                "#B0BEC5",
                "#B0BEC5",
                "#B0BEC5",
                "#B0BEC5",
                "#B0BEC5",
                "#B0BEC5",
                "#B0BEC5",
                "#B0BEC5",
                "#B0BEC5",
                "#B0BEC5",
                "#B0BEC5",
                "#B0BEC5",
                "#B0BEC5",
                "#B0BEC5"
               ]
              ]
             }
            ],
            "label": "Topic 0",
            "method": "update"
           },
           {
            "args": [
             {
              "marker.color": [
               [
                "#B0BEC5",
                "red",
                "#B0BEC5",
                "#B0BEC5",
                "#B0BEC5",
                "#B0BEC5",
                "#B0BEC5",
                "#B0BEC5",
                "#B0BEC5",
                "#B0BEC5",
                "#B0BEC5",
                "#B0BEC5",
                "#B0BEC5",
                "#B0BEC5",
                "#B0BEC5",
                "#B0BEC5",
                "#B0BEC5",
                "#B0BEC5",
                "#B0BEC5",
                "#B0BEC5",
                "#B0BEC5",
                "#B0BEC5",
                "#B0BEC5",
                "#B0BEC5",
                "#B0BEC5",
                "#B0BEC5",
                "#B0BEC5",
                "#B0BEC5",
                "#B0BEC5",
                "#B0BEC5",
                "#B0BEC5",
                "#B0BEC5",
                "#B0BEC5",
                "#B0BEC5",
                "#B0BEC5",
                "#B0BEC5",
                "#B0BEC5",
                "#B0BEC5",
                "#B0BEC5",
                "#B0BEC5",
                "#B0BEC5",
                "#B0BEC5",
                "#B0BEC5",
                "#B0BEC5",
                "#B0BEC5",
                "#B0BEC5",
                "#B0BEC5",
                "#B0BEC5",
                "#B0BEC5",
                "#B0BEC5",
                "#B0BEC5",
                "#B0BEC5",
                "#B0BEC5",
                "#B0BEC5",
                "#B0BEC5",
                "#B0BEC5",
                "#B0BEC5",
                "#B0BEC5",
                "#B0BEC5",
                "#B0BEC5",
                "#B0BEC5",
                "#B0BEC5",
                "#B0BEC5",
                "#B0BEC5",
                "#B0BEC5",
                "#B0BEC5",
                "#B0BEC5",
                "#B0BEC5",
                "#B0BEC5",
                "#B0BEC5",
                "#B0BEC5"
               ]
              ]
             }
            ],
            "label": "Topic 1",
            "method": "update"
           },
           {
            "args": [
             {
              "marker.color": [
               [
                "#B0BEC5",
                "#B0BEC5",
                "red",
                "#B0BEC5",
                "#B0BEC5",
                "#B0BEC5",
                "#B0BEC5",
                "#B0BEC5",
                "#B0BEC5",
                "#B0BEC5",
                "#B0BEC5",
                "#B0BEC5",
                "#B0BEC5",
                "#B0BEC5",
                "#B0BEC5",
                "#B0BEC5",
                "#B0BEC5",
                "#B0BEC5",
                "#B0BEC5",
                "#B0BEC5",
                "#B0BEC5",
                "#B0BEC5",
                "#B0BEC5",
                "#B0BEC5",
                "#B0BEC5",
                "#B0BEC5",
                "#B0BEC5",
                "#B0BEC5",
                "#B0BEC5",
                "#B0BEC5",
                "#B0BEC5",
                "#B0BEC5",
                "#B0BEC5",
                "#B0BEC5",
                "#B0BEC5",
                "#B0BEC5",
                "#B0BEC5",
                "#B0BEC5",
                "#B0BEC5",
                "#B0BEC5",
                "#B0BEC5",
                "#B0BEC5",
                "#B0BEC5",
                "#B0BEC5",
                "#B0BEC5",
                "#B0BEC5",
                "#B0BEC5",
                "#B0BEC5",
                "#B0BEC5",
                "#B0BEC5",
                "#B0BEC5",
                "#B0BEC5",
                "#B0BEC5",
                "#B0BEC5",
                "#B0BEC5",
                "#B0BEC5",
                "#B0BEC5",
                "#B0BEC5",
                "#B0BEC5",
                "#B0BEC5",
                "#B0BEC5",
                "#B0BEC5",
                "#B0BEC5",
                "#B0BEC5",
                "#B0BEC5",
                "#B0BEC5",
                "#B0BEC5",
                "#B0BEC5",
                "#B0BEC5",
                "#B0BEC5",
                "#B0BEC5"
               ]
              ]
             }
            ],
            "label": "Topic 2",
            "method": "update"
           },
           {
            "args": [
             {
              "marker.color": [
               [
                "#B0BEC5",
                "#B0BEC5",
                "#B0BEC5",
                "red",
                "#B0BEC5",
                "#B0BEC5",
                "#B0BEC5",
                "#B0BEC5",
                "#B0BEC5",
                "#B0BEC5",
                "#B0BEC5",
                "#B0BEC5",
                "#B0BEC5",
                "#B0BEC5",
                "#B0BEC5",
                "#B0BEC5",
                "#B0BEC5",
                "#B0BEC5",
                "#B0BEC5",
                "#B0BEC5",
                "#B0BEC5",
                "#B0BEC5",
                "#B0BEC5",
                "#B0BEC5",
                "#B0BEC5",
                "#B0BEC5",
                "#B0BEC5",
                "#B0BEC5",
                "#B0BEC5",
                "#B0BEC5",
                "#B0BEC5",
                "#B0BEC5",
                "#B0BEC5",
                "#B0BEC5",
                "#B0BEC5",
                "#B0BEC5",
                "#B0BEC5",
                "#B0BEC5",
                "#B0BEC5",
                "#B0BEC5",
                "#B0BEC5",
                "#B0BEC5",
                "#B0BEC5",
                "#B0BEC5",
                "#B0BEC5",
                "#B0BEC5",
                "#B0BEC5",
                "#B0BEC5",
                "#B0BEC5",
                "#B0BEC5",
                "#B0BEC5",
                "#B0BEC5",
                "#B0BEC5",
                "#B0BEC5",
                "#B0BEC5",
                "#B0BEC5",
                "#B0BEC5",
                "#B0BEC5",
                "#B0BEC5",
                "#B0BEC5",
                "#B0BEC5",
                "#B0BEC5",
                "#B0BEC5",
                "#B0BEC5",
                "#B0BEC5",
                "#B0BEC5",
                "#B0BEC5",
                "#B0BEC5",
                "#B0BEC5",
                "#B0BEC5",
                "#B0BEC5"
               ]
              ]
             }
            ],
            "label": "Topic 3",
            "method": "update"
           },
           {
            "args": [
             {
              "marker.color": [
               [
                "#B0BEC5",
                "#B0BEC5",
                "#B0BEC5",
                "#B0BEC5",
                "red",
                "#B0BEC5",
                "#B0BEC5",
                "#B0BEC5",
                "#B0BEC5",
                "#B0BEC5",
                "#B0BEC5",
                "#B0BEC5",
                "#B0BEC5",
                "#B0BEC5",
                "#B0BEC5",
                "#B0BEC5",
                "#B0BEC5",
                "#B0BEC5",
                "#B0BEC5",
                "#B0BEC5",
                "#B0BEC5",
                "#B0BEC5",
                "#B0BEC5",
                "#B0BEC5",
                "#B0BEC5",
                "#B0BEC5",
                "#B0BEC5",
                "#B0BEC5",
                "#B0BEC5",
                "#B0BEC5",
                "#B0BEC5",
                "#B0BEC5",
                "#B0BEC5",
                "#B0BEC5",
                "#B0BEC5",
                "#B0BEC5",
                "#B0BEC5",
                "#B0BEC5",
                "#B0BEC5",
                "#B0BEC5",
                "#B0BEC5",
                "#B0BEC5",
                "#B0BEC5",
                "#B0BEC5",
                "#B0BEC5",
                "#B0BEC5",
                "#B0BEC5",
                "#B0BEC5",
                "#B0BEC5",
                "#B0BEC5",
                "#B0BEC5",
                "#B0BEC5",
                "#B0BEC5",
                "#B0BEC5",
                "#B0BEC5",
                "#B0BEC5",
                "#B0BEC5",
                "#B0BEC5",
                "#B0BEC5",
                "#B0BEC5",
                "#B0BEC5",
                "#B0BEC5",
                "#B0BEC5",
                "#B0BEC5",
                "#B0BEC5",
                "#B0BEC5",
                "#B0BEC5",
                "#B0BEC5",
                "#B0BEC5",
                "#B0BEC5",
                "#B0BEC5"
               ]
              ]
             }
            ],
            "label": "Topic 4",
            "method": "update"
           },
           {
            "args": [
             {
              "marker.color": [
               [
                "#B0BEC5",
                "#B0BEC5",
                "#B0BEC5",
                "#B0BEC5",
                "#B0BEC5",
                "red",
                "#B0BEC5",
                "#B0BEC5",
                "#B0BEC5",
                "#B0BEC5",
                "#B0BEC5",
                "#B0BEC5",
                "#B0BEC5",
                "#B0BEC5",
                "#B0BEC5",
                "#B0BEC5",
                "#B0BEC5",
                "#B0BEC5",
                "#B0BEC5",
                "#B0BEC5",
                "#B0BEC5",
                "#B0BEC5",
                "#B0BEC5",
                "#B0BEC5",
                "#B0BEC5",
                "#B0BEC5",
                "#B0BEC5",
                "#B0BEC5",
                "#B0BEC5",
                "#B0BEC5",
                "#B0BEC5",
                "#B0BEC5",
                "#B0BEC5",
                "#B0BEC5",
                "#B0BEC5",
                "#B0BEC5",
                "#B0BEC5",
                "#B0BEC5",
                "#B0BEC5",
                "#B0BEC5",
                "#B0BEC5",
                "#B0BEC5",
                "#B0BEC5",
                "#B0BEC5",
                "#B0BEC5",
                "#B0BEC5",
                "#B0BEC5",
                "#B0BEC5",
                "#B0BEC5",
                "#B0BEC5",
                "#B0BEC5",
                "#B0BEC5",
                "#B0BEC5",
                "#B0BEC5",
                "#B0BEC5",
                "#B0BEC5",
                "#B0BEC5",
                "#B0BEC5",
                "#B0BEC5",
                "#B0BEC5",
                "#B0BEC5",
                "#B0BEC5",
                "#B0BEC5",
                "#B0BEC5",
                "#B0BEC5",
                "#B0BEC5",
                "#B0BEC5",
                "#B0BEC5",
                "#B0BEC5",
                "#B0BEC5",
                "#B0BEC5"
               ]
              ]
             }
            ],
            "label": "Topic 5",
            "method": "update"
           },
           {
            "args": [
             {
              "marker.color": [
               [
                "#B0BEC5",
                "#B0BEC5",
                "#B0BEC5",
                "#B0BEC5",
                "#B0BEC5",
                "#B0BEC5",
                "red",
                "#B0BEC5",
                "#B0BEC5",
                "#B0BEC5",
                "#B0BEC5",
                "#B0BEC5",
                "#B0BEC5",
                "#B0BEC5",
                "#B0BEC5",
                "#B0BEC5",
                "#B0BEC5",
                "#B0BEC5",
                "#B0BEC5",
                "#B0BEC5",
                "#B0BEC5",
                "#B0BEC5",
                "#B0BEC5",
                "#B0BEC5",
                "#B0BEC5",
                "#B0BEC5",
                "#B0BEC5",
                "#B0BEC5",
                "#B0BEC5",
                "#B0BEC5",
                "#B0BEC5",
                "#B0BEC5",
                "#B0BEC5",
                "#B0BEC5",
                "#B0BEC5",
                "#B0BEC5",
                "#B0BEC5",
                "#B0BEC5",
                "#B0BEC5",
                "#B0BEC5",
                "#B0BEC5",
                "#B0BEC5",
                "#B0BEC5",
                "#B0BEC5",
                "#B0BEC5",
                "#B0BEC5",
                "#B0BEC5",
                "#B0BEC5",
                "#B0BEC5",
                "#B0BEC5",
                "#B0BEC5",
                "#B0BEC5",
                "#B0BEC5",
                "#B0BEC5",
                "#B0BEC5",
                "#B0BEC5",
                "#B0BEC5",
                "#B0BEC5",
                "#B0BEC5",
                "#B0BEC5",
                "#B0BEC5",
                "#B0BEC5",
                "#B0BEC5",
                "#B0BEC5",
                "#B0BEC5",
                "#B0BEC5",
                "#B0BEC5",
                "#B0BEC5",
                "#B0BEC5",
                "#B0BEC5",
                "#B0BEC5"
               ]
              ]
             }
            ],
            "label": "Topic 6",
            "method": "update"
           },
           {
            "args": [
             {
              "marker.color": [
               [
                "#B0BEC5",
                "#B0BEC5",
                "#B0BEC5",
                "#B0BEC5",
                "#B0BEC5",
                "#B0BEC5",
                "#B0BEC5",
                "red",
                "#B0BEC5",
                "#B0BEC5",
                "#B0BEC5",
                "#B0BEC5",
                "#B0BEC5",
                "#B0BEC5",
                "#B0BEC5",
                "#B0BEC5",
                "#B0BEC5",
                "#B0BEC5",
                "#B0BEC5",
                "#B0BEC5",
                "#B0BEC5",
                "#B0BEC5",
                "#B0BEC5",
                "#B0BEC5",
                "#B0BEC5",
                "#B0BEC5",
                "#B0BEC5",
                "#B0BEC5",
                "#B0BEC5",
                "#B0BEC5",
                "#B0BEC5",
                "#B0BEC5",
                "#B0BEC5",
                "#B0BEC5",
                "#B0BEC5",
                "#B0BEC5",
                "#B0BEC5",
                "#B0BEC5",
                "#B0BEC5",
                "#B0BEC5",
                "#B0BEC5",
                "#B0BEC5",
                "#B0BEC5",
                "#B0BEC5",
                "#B0BEC5",
                "#B0BEC5",
                "#B0BEC5",
                "#B0BEC5",
                "#B0BEC5",
                "#B0BEC5",
                "#B0BEC5",
                "#B0BEC5",
                "#B0BEC5",
                "#B0BEC5",
                "#B0BEC5",
                "#B0BEC5",
                "#B0BEC5",
                "#B0BEC5",
                "#B0BEC5",
                "#B0BEC5",
                "#B0BEC5",
                "#B0BEC5",
                "#B0BEC5",
                "#B0BEC5",
                "#B0BEC5",
                "#B0BEC5",
                "#B0BEC5",
                "#B0BEC5",
                "#B0BEC5",
                "#B0BEC5",
                "#B0BEC5"
               ]
              ]
             }
            ],
            "label": "Topic 7",
            "method": "update"
           },
           {
            "args": [
             {
              "marker.color": [
               [
                "#B0BEC5",
                "#B0BEC5",
                "#B0BEC5",
                "#B0BEC5",
                "#B0BEC5",
                "#B0BEC5",
                "#B0BEC5",
                "#B0BEC5",
                "red",
                "#B0BEC5",
                "#B0BEC5",
                "#B0BEC5",
                "#B0BEC5",
                "#B0BEC5",
                "#B0BEC5",
                "#B0BEC5",
                "#B0BEC5",
                "#B0BEC5",
                "#B0BEC5",
                "#B0BEC5",
                "#B0BEC5",
                "#B0BEC5",
                "#B0BEC5",
                "#B0BEC5",
                "#B0BEC5",
                "#B0BEC5",
                "#B0BEC5",
                "#B0BEC5",
                "#B0BEC5",
                "#B0BEC5",
                "#B0BEC5",
                "#B0BEC5",
                "#B0BEC5",
                "#B0BEC5",
                "#B0BEC5",
                "#B0BEC5",
                "#B0BEC5",
                "#B0BEC5",
                "#B0BEC5",
                "#B0BEC5",
                "#B0BEC5",
                "#B0BEC5",
                "#B0BEC5",
                "#B0BEC5",
                "#B0BEC5",
                "#B0BEC5",
                "#B0BEC5",
                "#B0BEC5",
                "#B0BEC5",
                "#B0BEC5",
                "#B0BEC5",
                "#B0BEC5",
                "#B0BEC5",
                "#B0BEC5",
                "#B0BEC5",
                "#B0BEC5",
                "#B0BEC5",
                "#B0BEC5",
                "#B0BEC5",
                "#B0BEC5",
                "#B0BEC5",
                "#B0BEC5",
                "#B0BEC5",
                "#B0BEC5",
                "#B0BEC5",
                "#B0BEC5",
                "#B0BEC5",
                "#B0BEC5",
                "#B0BEC5",
                "#B0BEC5",
                "#B0BEC5"
               ]
              ]
             }
            ],
            "label": "Topic 8",
            "method": "update"
           },
           {
            "args": [
             {
              "marker.color": [
               [
                "#B0BEC5",
                "#B0BEC5",
                "#B0BEC5",
                "#B0BEC5",
                "#B0BEC5",
                "#B0BEC5",
                "#B0BEC5",
                "#B0BEC5",
                "#B0BEC5",
                "red",
                "#B0BEC5",
                "#B0BEC5",
                "#B0BEC5",
                "#B0BEC5",
                "#B0BEC5",
                "#B0BEC5",
                "#B0BEC5",
                "#B0BEC5",
                "#B0BEC5",
                "#B0BEC5",
                "#B0BEC5",
                "#B0BEC5",
                "#B0BEC5",
                "#B0BEC5",
                "#B0BEC5",
                "#B0BEC5",
                "#B0BEC5",
                "#B0BEC5",
                "#B0BEC5",
                "#B0BEC5",
                "#B0BEC5",
                "#B0BEC5",
                "#B0BEC5",
                "#B0BEC5",
                "#B0BEC5",
                "#B0BEC5",
                "#B0BEC5",
                "#B0BEC5",
                "#B0BEC5",
                "#B0BEC5",
                "#B0BEC5",
                "#B0BEC5",
                "#B0BEC5",
                "#B0BEC5",
                "#B0BEC5",
                "#B0BEC5",
                "#B0BEC5",
                "#B0BEC5",
                "#B0BEC5",
                "#B0BEC5",
                "#B0BEC5",
                "#B0BEC5",
                "#B0BEC5",
                "#B0BEC5",
                "#B0BEC5",
                "#B0BEC5",
                "#B0BEC5",
                "#B0BEC5",
                "#B0BEC5",
                "#B0BEC5",
                "#B0BEC5",
                "#B0BEC5",
                "#B0BEC5",
                "#B0BEC5",
                "#B0BEC5",
                "#B0BEC5",
                "#B0BEC5",
                "#B0BEC5",
                "#B0BEC5",
                "#B0BEC5",
                "#B0BEC5"
               ]
              ]
             }
            ],
            "label": "Topic 9",
            "method": "update"
           },
           {
            "args": [
             {
              "marker.color": [
               [
                "#B0BEC5",
                "#B0BEC5",
                "#B0BEC5",
                "#B0BEC5",
                "#B0BEC5",
                "#B0BEC5",
                "#B0BEC5",
                "#B0BEC5",
                "#B0BEC5",
                "#B0BEC5",
                "red",
                "#B0BEC5",
                "#B0BEC5",
                "#B0BEC5",
                "#B0BEC5",
                "#B0BEC5",
                "#B0BEC5",
                "#B0BEC5",
                "#B0BEC5",
                "#B0BEC5",
                "#B0BEC5",
                "#B0BEC5",
                "#B0BEC5",
                "#B0BEC5",
                "#B0BEC5",
                "#B0BEC5",
                "#B0BEC5",
                "#B0BEC5",
                "#B0BEC5",
                "#B0BEC5",
                "#B0BEC5",
                "#B0BEC5",
                "#B0BEC5",
                "#B0BEC5",
                "#B0BEC5",
                "#B0BEC5",
                "#B0BEC5",
                "#B0BEC5",
                "#B0BEC5",
                "#B0BEC5",
                "#B0BEC5",
                "#B0BEC5",
                "#B0BEC5",
                "#B0BEC5",
                "#B0BEC5",
                "#B0BEC5",
                "#B0BEC5",
                "#B0BEC5",
                "#B0BEC5",
                "#B0BEC5",
                "#B0BEC5",
                "#B0BEC5",
                "#B0BEC5",
                "#B0BEC5",
                "#B0BEC5",
                "#B0BEC5",
                "#B0BEC5",
                "#B0BEC5",
                "#B0BEC5",
                "#B0BEC5",
                "#B0BEC5",
                "#B0BEC5",
                "#B0BEC5",
                "#B0BEC5",
                "#B0BEC5",
                "#B0BEC5",
                "#B0BEC5",
                "#B0BEC5",
                "#B0BEC5",
                "#B0BEC5",
                "#B0BEC5"
               ]
              ]
             }
            ],
            "label": "Topic 10",
            "method": "update"
           },
           {
            "args": [
             {
              "marker.color": [
               [
                "#B0BEC5",
                "#B0BEC5",
                "#B0BEC5",
                "#B0BEC5",
                "#B0BEC5",
                "#B0BEC5",
                "#B0BEC5",
                "#B0BEC5",
                "#B0BEC5",
                "#B0BEC5",
                "#B0BEC5",
                "red",
                "#B0BEC5",
                "#B0BEC5",
                "#B0BEC5",
                "#B0BEC5",
                "#B0BEC5",
                "#B0BEC5",
                "#B0BEC5",
                "#B0BEC5",
                "#B0BEC5",
                "#B0BEC5",
                "#B0BEC5",
                "#B0BEC5",
                "#B0BEC5",
                "#B0BEC5",
                "#B0BEC5",
                "#B0BEC5",
                "#B0BEC5",
                "#B0BEC5",
                "#B0BEC5",
                "#B0BEC5",
                "#B0BEC5",
                "#B0BEC5",
                "#B0BEC5",
                "#B0BEC5",
                "#B0BEC5",
                "#B0BEC5",
                "#B0BEC5",
                "#B0BEC5",
                "#B0BEC5",
                "#B0BEC5",
                "#B0BEC5",
                "#B0BEC5",
                "#B0BEC5",
                "#B0BEC5",
                "#B0BEC5",
                "#B0BEC5",
                "#B0BEC5",
                "#B0BEC5",
                "#B0BEC5",
                "#B0BEC5",
                "#B0BEC5",
                "#B0BEC5",
                "#B0BEC5",
                "#B0BEC5",
                "#B0BEC5",
                "#B0BEC5",
                "#B0BEC5",
                "#B0BEC5",
                "#B0BEC5",
                "#B0BEC5",
                "#B0BEC5",
                "#B0BEC5",
                "#B0BEC5",
                "#B0BEC5",
                "#B0BEC5",
                "#B0BEC5",
                "#B0BEC5",
                "#B0BEC5",
                "#B0BEC5"
               ]
              ]
             }
            ],
            "label": "Topic 11",
            "method": "update"
           },
           {
            "args": [
             {
              "marker.color": [
               [
                "#B0BEC5",
                "#B0BEC5",
                "#B0BEC5",
                "#B0BEC5",
                "#B0BEC5",
                "#B0BEC5",
                "#B0BEC5",
                "#B0BEC5",
                "#B0BEC5",
                "#B0BEC5",
                "#B0BEC5",
                "#B0BEC5",
                "red",
                "#B0BEC5",
                "#B0BEC5",
                "#B0BEC5",
                "#B0BEC5",
                "#B0BEC5",
                "#B0BEC5",
                "#B0BEC5",
                "#B0BEC5",
                "#B0BEC5",
                "#B0BEC5",
                "#B0BEC5",
                "#B0BEC5",
                "#B0BEC5",
                "#B0BEC5",
                "#B0BEC5",
                "#B0BEC5",
                "#B0BEC5",
                "#B0BEC5",
                "#B0BEC5",
                "#B0BEC5",
                "#B0BEC5",
                "#B0BEC5",
                "#B0BEC5",
                "#B0BEC5",
                "#B0BEC5",
                "#B0BEC5",
                "#B0BEC5",
                "#B0BEC5",
                "#B0BEC5",
                "#B0BEC5",
                "#B0BEC5",
                "#B0BEC5",
                "#B0BEC5",
                "#B0BEC5",
                "#B0BEC5",
                "#B0BEC5",
                "#B0BEC5",
                "#B0BEC5",
                "#B0BEC5",
                "#B0BEC5",
                "#B0BEC5",
                "#B0BEC5",
                "#B0BEC5",
                "#B0BEC5",
                "#B0BEC5",
                "#B0BEC5",
                "#B0BEC5",
                "#B0BEC5",
                "#B0BEC5",
                "#B0BEC5",
                "#B0BEC5",
                "#B0BEC5",
                "#B0BEC5",
                "#B0BEC5",
                "#B0BEC5",
                "#B0BEC5",
                "#B0BEC5",
                "#B0BEC5"
               ]
              ]
             }
            ],
            "label": "Topic 12",
            "method": "update"
           },
           {
            "args": [
             {
              "marker.color": [
               [
                "#B0BEC5",
                "#B0BEC5",
                "#B0BEC5",
                "#B0BEC5",
                "#B0BEC5",
                "#B0BEC5",
                "#B0BEC5",
                "#B0BEC5",
                "#B0BEC5",
                "#B0BEC5",
                "#B0BEC5",
                "#B0BEC5",
                "#B0BEC5",
                "red",
                "#B0BEC5",
                "#B0BEC5",
                "#B0BEC5",
                "#B0BEC5",
                "#B0BEC5",
                "#B0BEC5",
                "#B0BEC5",
                "#B0BEC5",
                "#B0BEC5",
                "#B0BEC5",
                "#B0BEC5",
                "#B0BEC5",
                "#B0BEC5",
                "#B0BEC5",
                "#B0BEC5",
                "#B0BEC5",
                "#B0BEC5",
                "#B0BEC5",
                "#B0BEC5",
                "#B0BEC5",
                "#B0BEC5",
                "#B0BEC5",
                "#B0BEC5",
                "#B0BEC5",
                "#B0BEC5",
                "#B0BEC5",
                "#B0BEC5",
                "#B0BEC5",
                "#B0BEC5",
                "#B0BEC5",
                "#B0BEC5",
                "#B0BEC5",
                "#B0BEC5",
                "#B0BEC5",
                "#B0BEC5",
                "#B0BEC5",
                "#B0BEC5",
                "#B0BEC5",
                "#B0BEC5",
                "#B0BEC5",
                "#B0BEC5",
                "#B0BEC5",
                "#B0BEC5",
                "#B0BEC5",
                "#B0BEC5",
                "#B0BEC5",
                "#B0BEC5",
                "#B0BEC5",
                "#B0BEC5",
                "#B0BEC5",
                "#B0BEC5",
                "#B0BEC5",
                "#B0BEC5",
                "#B0BEC5",
                "#B0BEC5",
                "#B0BEC5",
                "#B0BEC5"
               ]
              ]
             }
            ],
            "label": "Topic 13",
            "method": "update"
           },
           {
            "args": [
             {
              "marker.color": [
               [
                "#B0BEC5",
                "#B0BEC5",
                "#B0BEC5",
                "#B0BEC5",
                "#B0BEC5",
                "#B0BEC5",
                "#B0BEC5",
                "#B0BEC5",
                "#B0BEC5",
                "#B0BEC5",
                "#B0BEC5",
                "#B0BEC5",
                "#B0BEC5",
                "#B0BEC5",
                "red",
                "#B0BEC5",
                "#B0BEC5",
                "#B0BEC5",
                "#B0BEC5",
                "#B0BEC5",
                "#B0BEC5",
                "#B0BEC5",
                "#B0BEC5",
                "#B0BEC5",
                "#B0BEC5",
                "#B0BEC5",
                "#B0BEC5",
                "#B0BEC5",
                "#B0BEC5",
                "#B0BEC5",
                "#B0BEC5",
                "#B0BEC5",
                "#B0BEC5",
                "#B0BEC5",
                "#B0BEC5",
                "#B0BEC5",
                "#B0BEC5",
                "#B0BEC5",
                "#B0BEC5",
                "#B0BEC5",
                "#B0BEC5",
                "#B0BEC5",
                "#B0BEC5",
                "#B0BEC5",
                "#B0BEC5",
                "#B0BEC5",
                "#B0BEC5",
                "#B0BEC5",
                "#B0BEC5",
                "#B0BEC5",
                "#B0BEC5",
                "#B0BEC5",
                "#B0BEC5",
                "#B0BEC5",
                "#B0BEC5",
                "#B0BEC5",
                "#B0BEC5",
                "#B0BEC5",
                "#B0BEC5",
                "#B0BEC5",
                "#B0BEC5",
                "#B0BEC5",
                "#B0BEC5",
                "#B0BEC5",
                "#B0BEC5",
                "#B0BEC5",
                "#B0BEC5",
                "#B0BEC5",
                "#B0BEC5",
                "#B0BEC5",
                "#B0BEC5"
               ]
              ]
             }
            ],
            "label": "Topic 14",
            "method": "update"
           },
           {
            "args": [
             {
              "marker.color": [
               [
                "#B0BEC5",
                "#B0BEC5",
                "#B0BEC5",
                "#B0BEC5",
                "#B0BEC5",
                "#B0BEC5",
                "#B0BEC5",
                "#B0BEC5",
                "#B0BEC5",
                "#B0BEC5",
                "#B0BEC5",
                "#B0BEC5",
                "#B0BEC5",
                "#B0BEC5",
                "#B0BEC5",
                "red",
                "#B0BEC5",
                "#B0BEC5",
                "#B0BEC5",
                "#B0BEC5",
                "#B0BEC5",
                "#B0BEC5",
                "#B0BEC5",
                "#B0BEC5",
                "#B0BEC5",
                "#B0BEC5",
                "#B0BEC5",
                "#B0BEC5",
                "#B0BEC5",
                "#B0BEC5",
                "#B0BEC5",
                "#B0BEC5",
                "#B0BEC5",
                "#B0BEC5",
                "#B0BEC5",
                "#B0BEC5",
                "#B0BEC5",
                "#B0BEC5",
                "#B0BEC5",
                "#B0BEC5",
                "#B0BEC5",
                "#B0BEC5",
                "#B0BEC5",
                "#B0BEC5",
                "#B0BEC5",
                "#B0BEC5",
                "#B0BEC5",
                "#B0BEC5",
                "#B0BEC5",
                "#B0BEC5",
                "#B0BEC5",
                "#B0BEC5",
                "#B0BEC5",
                "#B0BEC5",
                "#B0BEC5",
                "#B0BEC5",
                "#B0BEC5",
                "#B0BEC5",
                "#B0BEC5",
                "#B0BEC5",
                "#B0BEC5",
                "#B0BEC5",
                "#B0BEC5",
                "#B0BEC5",
                "#B0BEC5",
                "#B0BEC5",
                "#B0BEC5",
                "#B0BEC5",
                "#B0BEC5",
                "#B0BEC5",
                "#B0BEC5"
               ]
              ]
             }
            ],
            "label": "Topic 15",
            "method": "update"
           },
           {
            "args": [
             {
              "marker.color": [
               [
                "#B0BEC5",
                "#B0BEC5",
                "#B0BEC5",
                "#B0BEC5",
                "#B0BEC5",
                "#B0BEC5",
                "#B0BEC5",
                "#B0BEC5",
                "#B0BEC5",
                "#B0BEC5",
                "#B0BEC5",
                "#B0BEC5",
                "#B0BEC5",
                "#B0BEC5",
                "#B0BEC5",
                "#B0BEC5",
                "red",
                "#B0BEC5",
                "#B0BEC5",
                "#B0BEC5",
                "#B0BEC5",
                "#B0BEC5",
                "#B0BEC5",
                "#B0BEC5",
                "#B0BEC5",
                "#B0BEC5",
                "#B0BEC5",
                "#B0BEC5",
                "#B0BEC5",
                "#B0BEC5",
                "#B0BEC5",
                "#B0BEC5",
                "#B0BEC5",
                "#B0BEC5",
                "#B0BEC5",
                "#B0BEC5",
                "#B0BEC5",
                "#B0BEC5",
                "#B0BEC5",
                "#B0BEC5",
                "#B0BEC5",
                "#B0BEC5",
                "#B0BEC5",
                "#B0BEC5",
                "#B0BEC5",
                "#B0BEC5",
                "#B0BEC5",
                "#B0BEC5",
                "#B0BEC5",
                "#B0BEC5",
                "#B0BEC5",
                "#B0BEC5",
                "#B0BEC5",
                "#B0BEC5",
                "#B0BEC5",
                "#B0BEC5",
                "#B0BEC5",
                "#B0BEC5",
                "#B0BEC5",
                "#B0BEC5",
                "#B0BEC5",
                "#B0BEC5",
                "#B0BEC5",
                "#B0BEC5",
                "#B0BEC5",
                "#B0BEC5",
                "#B0BEC5",
                "#B0BEC5",
                "#B0BEC5",
                "#B0BEC5",
                "#B0BEC5"
               ]
              ]
             }
            ],
            "label": "Topic 16",
            "method": "update"
           },
           {
            "args": [
             {
              "marker.color": [
               [
                "#B0BEC5",
                "#B0BEC5",
                "#B0BEC5",
                "#B0BEC5",
                "#B0BEC5",
                "#B0BEC5",
                "#B0BEC5",
                "#B0BEC5",
                "#B0BEC5",
                "#B0BEC5",
                "#B0BEC5",
                "#B0BEC5",
                "#B0BEC5",
                "#B0BEC5",
                "#B0BEC5",
                "#B0BEC5",
                "#B0BEC5",
                "red",
                "#B0BEC5",
                "#B0BEC5",
                "#B0BEC5",
                "#B0BEC5",
                "#B0BEC5",
                "#B0BEC5",
                "#B0BEC5",
                "#B0BEC5",
                "#B0BEC5",
                "#B0BEC5",
                "#B0BEC5",
                "#B0BEC5",
                "#B0BEC5",
                "#B0BEC5",
                "#B0BEC5",
                "#B0BEC5",
                "#B0BEC5",
                "#B0BEC5",
                "#B0BEC5",
                "#B0BEC5",
                "#B0BEC5",
                "#B0BEC5",
                "#B0BEC5",
                "#B0BEC5",
                "#B0BEC5",
                "#B0BEC5",
                "#B0BEC5",
                "#B0BEC5",
                "#B0BEC5",
                "#B0BEC5",
                "#B0BEC5",
                "#B0BEC5",
                "#B0BEC5",
                "#B0BEC5",
                "#B0BEC5",
                "#B0BEC5",
                "#B0BEC5",
                "#B0BEC5",
                "#B0BEC5",
                "#B0BEC5",
                "#B0BEC5",
                "#B0BEC5",
                "#B0BEC5",
                "#B0BEC5",
                "#B0BEC5",
                "#B0BEC5",
                "#B0BEC5",
                "#B0BEC5",
                "#B0BEC5",
                "#B0BEC5",
                "#B0BEC5",
                "#B0BEC5",
                "#B0BEC5"
               ]
              ]
             }
            ],
            "label": "Topic 17",
            "method": "update"
           },
           {
            "args": [
             {
              "marker.color": [
               [
                "#B0BEC5",
                "#B0BEC5",
                "#B0BEC5",
                "#B0BEC5",
                "#B0BEC5",
                "#B0BEC5",
                "#B0BEC5",
                "#B0BEC5",
                "#B0BEC5",
                "#B0BEC5",
                "#B0BEC5",
                "#B0BEC5",
                "#B0BEC5",
                "#B0BEC5",
                "#B0BEC5",
                "#B0BEC5",
                "#B0BEC5",
                "#B0BEC5",
                "red",
                "#B0BEC5",
                "#B0BEC5",
                "#B0BEC5",
                "#B0BEC5",
                "#B0BEC5",
                "#B0BEC5",
                "#B0BEC5",
                "#B0BEC5",
                "#B0BEC5",
                "#B0BEC5",
                "#B0BEC5",
                "#B0BEC5",
                "#B0BEC5",
                "#B0BEC5",
                "#B0BEC5",
                "#B0BEC5",
                "#B0BEC5",
                "#B0BEC5",
                "#B0BEC5",
                "#B0BEC5",
                "#B0BEC5",
                "#B0BEC5",
                "#B0BEC5",
                "#B0BEC5",
                "#B0BEC5",
                "#B0BEC5",
                "#B0BEC5",
                "#B0BEC5",
                "#B0BEC5",
                "#B0BEC5",
                "#B0BEC5",
                "#B0BEC5",
                "#B0BEC5",
                "#B0BEC5",
                "#B0BEC5",
                "#B0BEC5",
                "#B0BEC5",
                "#B0BEC5",
                "#B0BEC5",
                "#B0BEC5",
                "#B0BEC5",
                "#B0BEC5",
                "#B0BEC5",
                "#B0BEC5",
                "#B0BEC5",
                "#B0BEC5",
                "#B0BEC5",
                "#B0BEC5",
                "#B0BEC5",
                "#B0BEC5",
                "#B0BEC5",
                "#B0BEC5"
               ]
              ]
             }
            ],
            "label": "Topic 18",
            "method": "update"
           },
           {
            "args": [
             {
              "marker.color": [
               [
                "#B0BEC5",
                "#B0BEC5",
                "#B0BEC5",
                "#B0BEC5",
                "#B0BEC5",
                "#B0BEC5",
                "#B0BEC5",
                "#B0BEC5",
                "#B0BEC5",
                "#B0BEC5",
                "#B0BEC5",
                "#B0BEC5",
                "#B0BEC5",
                "#B0BEC5",
                "#B0BEC5",
                "#B0BEC5",
                "#B0BEC5",
                "#B0BEC5",
                "#B0BEC5",
                "red",
                "#B0BEC5",
                "#B0BEC5",
                "#B0BEC5",
                "#B0BEC5",
                "#B0BEC5",
                "#B0BEC5",
                "#B0BEC5",
                "#B0BEC5",
                "#B0BEC5",
                "#B0BEC5",
                "#B0BEC5",
                "#B0BEC5",
                "#B0BEC5",
                "#B0BEC5",
                "#B0BEC5",
                "#B0BEC5",
                "#B0BEC5",
                "#B0BEC5",
                "#B0BEC5",
                "#B0BEC5",
                "#B0BEC5",
                "#B0BEC5",
                "#B0BEC5",
                "#B0BEC5",
                "#B0BEC5",
                "#B0BEC5",
                "#B0BEC5",
                "#B0BEC5",
                "#B0BEC5",
                "#B0BEC5",
                "#B0BEC5",
                "#B0BEC5",
                "#B0BEC5",
                "#B0BEC5",
                "#B0BEC5",
                "#B0BEC5",
                "#B0BEC5",
                "#B0BEC5",
                "#B0BEC5",
                "#B0BEC5",
                "#B0BEC5",
                "#B0BEC5",
                "#B0BEC5",
                "#B0BEC5",
                "#B0BEC5",
                "#B0BEC5",
                "#B0BEC5",
                "#B0BEC5",
                "#B0BEC5",
                "#B0BEC5",
                "#B0BEC5"
               ]
              ]
             }
            ],
            "label": "Topic 19",
            "method": "update"
           },
           {
            "args": [
             {
              "marker.color": [
               [
                "#B0BEC5",
                "#B0BEC5",
                "#B0BEC5",
                "#B0BEC5",
                "#B0BEC5",
                "#B0BEC5",
                "#B0BEC5",
                "#B0BEC5",
                "#B0BEC5",
                "#B0BEC5",
                "#B0BEC5",
                "#B0BEC5",
                "#B0BEC5",
                "#B0BEC5",
                "#B0BEC5",
                "#B0BEC5",
                "#B0BEC5",
                "#B0BEC5",
                "#B0BEC5",
                "#B0BEC5",
                "red",
                "#B0BEC5",
                "#B0BEC5",
                "#B0BEC5",
                "#B0BEC5",
                "#B0BEC5",
                "#B0BEC5",
                "#B0BEC5",
                "#B0BEC5",
                "#B0BEC5",
                "#B0BEC5",
                "#B0BEC5",
                "#B0BEC5",
                "#B0BEC5",
                "#B0BEC5",
                "#B0BEC5",
                "#B0BEC5",
                "#B0BEC5",
                "#B0BEC5",
                "#B0BEC5",
                "#B0BEC5",
                "#B0BEC5",
                "#B0BEC5",
                "#B0BEC5",
                "#B0BEC5",
                "#B0BEC5",
                "#B0BEC5",
                "#B0BEC5",
                "#B0BEC5",
                "#B0BEC5",
                "#B0BEC5",
                "#B0BEC5",
                "#B0BEC5",
                "#B0BEC5",
                "#B0BEC5",
                "#B0BEC5",
                "#B0BEC5",
                "#B0BEC5",
                "#B0BEC5",
                "#B0BEC5",
                "#B0BEC5",
                "#B0BEC5",
                "#B0BEC5",
                "#B0BEC5",
                "#B0BEC5",
                "#B0BEC5",
                "#B0BEC5",
                "#B0BEC5",
                "#B0BEC5",
                "#B0BEC5",
                "#B0BEC5"
               ]
              ]
             }
            ],
            "label": "Topic 20",
            "method": "update"
           },
           {
            "args": [
             {
              "marker.color": [
               [
                "#B0BEC5",
                "#B0BEC5",
                "#B0BEC5",
                "#B0BEC5",
                "#B0BEC5",
                "#B0BEC5",
                "#B0BEC5",
                "#B0BEC5",
                "#B0BEC5",
                "#B0BEC5",
                "#B0BEC5",
                "#B0BEC5",
                "#B0BEC5",
                "#B0BEC5",
                "#B0BEC5",
                "#B0BEC5",
                "#B0BEC5",
                "#B0BEC5",
                "#B0BEC5",
                "#B0BEC5",
                "#B0BEC5",
                "red",
                "#B0BEC5",
                "#B0BEC5",
                "#B0BEC5",
                "#B0BEC5",
                "#B0BEC5",
                "#B0BEC5",
                "#B0BEC5",
                "#B0BEC5",
                "#B0BEC5",
                "#B0BEC5",
                "#B0BEC5",
                "#B0BEC5",
                "#B0BEC5",
                "#B0BEC5",
                "#B0BEC5",
                "#B0BEC5",
                "#B0BEC5",
                "#B0BEC5",
                "#B0BEC5",
                "#B0BEC5",
                "#B0BEC5",
                "#B0BEC5",
                "#B0BEC5",
                "#B0BEC5",
                "#B0BEC5",
                "#B0BEC5",
                "#B0BEC5",
                "#B0BEC5",
                "#B0BEC5",
                "#B0BEC5",
                "#B0BEC5",
                "#B0BEC5",
                "#B0BEC5",
                "#B0BEC5",
                "#B0BEC5",
                "#B0BEC5",
                "#B0BEC5",
                "#B0BEC5",
                "#B0BEC5",
                "#B0BEC5",
                "#B0BEC5",
                "#B0BEC5",
                "#B0BEC5",
                "#B0BEC5",
                "#B0BEC5",
                "#B0BEC5",
                "#B0BEC5",
                "#B0BEC5",
                "#B0BEC5"
               ]
              ]
             }
            ],
            "label": "Topic 21",
            "method": "update"
           },
           {
            "args": [
             {
              "marker.color": [
               [
                "#B0BEC5",
                "#B0BEC5",
                "#B0BEC5",
                "#B0BEC5",
                "#B0BEC5",
                "#B0BEC5",
                "#B0BEC5",
                "#B0BEC5",
                "#B0BEC5",
                "#B0BEC5",
                "#B0BEC5",
                "#B0BEC5",
                "#B0BEC5",
                "#B0BEC5",
                "#B0BEC5",
                "#B0BEC5",
                "#B0BEC5",
                "#B0BEC5",
                "#B0BEC5",
                "#B0BEC5",
                "#B0BEC5",
                "#B0BEC5",
                "red",
                "#B0BEC5",
                "#B0BEC5",
                "#B0BEC5",
                "#B0BEC5",
                "#B0BEC5",
                "#B0BEC5",
                "#B0BEC5",
                "#B0BEC5",
                "#B0BEC5",
                "#B0BEC5",
                "#B0BEC5",
                "#B0BEC5",
                "#B0BEC5",
                "#B0BEC5",
                "#B0BEC5",
                "#B0BEC5",
                "#B0BEC5",
                "#B0BEC5",
                "#B0BEC5",
                "#B0BEC5",
                "#B0BEC5",
                "#B0BEC5",
                "#B0BEC5",
                "#B0BEC5",
                "#B0BEC5",
                "#B0BEC5",
                "#B0BEC5",
                "#B0BEC5",
                "#B0BEC5",
                "#B0BEC5",
                "#B0BEC5",
                "#B0BEC5",
                "#B0BEC5",
                "#B0BEC5",
                "#B0BEC5",
                "#B0BEC5",
                "#B0BEC5",
                "#B0BEC5",
                "#B0BEC5",
                "#B0BEC5",
                "#B0BEC5",
                "#B0BEC5",
                "#B0BEC5",
                "#B0BEC5",
                "#B0BEC5",
                "#B0BEC5",
                "#B0BEC5",
                "#B0BEC5"
               ]
              ]
             }
            ],
            "label": "Topic 22",
            "method": "update"
           },
           {
            "args": [
             {
              "marker.color": [
               [
                "#B0BEC5",
                "#B0BEC5",
                "#B0BEC5",
                "#B0BEC5",
                "#B0BEC5",
                "#B0BEC5",
                "#B0BEC5",
                "#B0BEC5",
                "#B0BEC5",
                "#B0BEC5",
                "#B0BEC5",
                "#B0BEC5",
                "#B0BEC5",
                "#B0BEC5",
                "#B0BEC5",
                "#B0BEC5",
                "#B0BEC5",
                "#B0BEC5",
                "#B0BEC5",
                "#B0BEC5",
                "#B0BEC5",
                "#B0BEC5",
                "#B0BEC5",
                "red",
                "#B0BEC5",
                "#B0BEC5",
                "#B0BEC5",
                "#B0BEC5",
                "#B0BEC5",
                "#B0BEC5",
                "#B0BEC5",
                "#B0BEC5",
                "#B0BEC5",
                "#B0BEC5",
                "#B0BEC5",
                "#B0BEC5",
                "#B0BEC5",
                "#B0BEC5",
                "#B0BEC5",
                "#B0BEC5",
                "#B0BEC5",
                "#B0BEC5",
                "#B0BEC5",
                "#B0BEC5",
                "#B0BEC5",
                "#B0BEC5",
                "#B0BEC5",
                "#B0BEC5",
                "#B0BEC5",
                "#B0BEC5",
                "#B0BEC5",
                "#B0BEC5",
                "#B0BEC5",
                "#B0BEC5",
                "#B0BEC5",
                "#B0BEC5",
                "#B0BEC5",
                "#B0BEC5",
                "#B0BEC5",
                "#B0BEC5",
                "#B0BEC5",
                "#B0BEC5",
                "#B0BEC5",
                "#B0BEC5",
                "#B0BEC5",
                "#B0BEC5",
                "#B0BEC5",
                "#B0BEC5",
                "#B0BEC5",
                "#B0BEC5",
                "#B0BEC5"
               ]
              ]
             }
            ],
            "label": "Topic 23",
            "method": "update"
           },
           {
            "args": [
             {
              "marker.color": [
               [
                "#B0BEC5",
                "#B0BEC5",
                "#B0BEC5",
                "#B0BEC5",
                "#B0BEC5",
                "#B0BEC5",
                "#B0BEC5",
                "#B0BEC5",
                "#B0BEC5",
                "#B0BEC5",
                "#B0BEC5",
                "#B0BEC5",
                "#B0BEC5",
                "#B0BEC5",
                "#B0BEC5",
                "#B0BEC5",
                "#B0BEC5",
                "#B0BEC5",
                "#B0BEC5",
                "#B0BEC5",
                "#B0BEC5",
                "#B0BEC5",
                "#B0BEC5",
                "#B0BEC5",
                "red",
                "#B0BEC5",
                "#B0BEC5",
                "#B0BEC5",
                "#B0BEC5",
                "#B0BEC5",
                "#B0BEC5",
                "#B0BEC5",
                "#B0BEC5",
                "#B0BEC5",
                "#B0BEC5",
                "#B0BEC5",
                "#B0BEC5",
                "#B0BEC5",
                "#B0BEC5",
                "#B0BEC5",
                "#B0BEC5",
                "#B0BEC5",
                "#B0BEC5",
                "#B0BEC5",
                "#B0BEC5",
                "#B0BEC5",
                "#B0BEC5",
                "#B0BEC5",
                "#B0BEC5",
                "#B0BEC5",
                "#B0BEC5",
                "#B0BEC5",
                "#B0BEC5",
                "#B0BEC5",
                "#B0BEC5",
                "#B0BEC5",
                "#B0BEC5",
                "#B0BEC5",
                "#B0BEC5",
                "#B0BEC5",
                "#B0BEC5",
                "#B0BEC5",
                "#B0BEC5",
                "#B0BEC5",
                "#B0BEC5",
                "#B0BEC5",
                "#B0BEC5",
                "#B0BEC5",
                "#B0BEC5",
                "#B0BEC5",
                "#B0BEC5"
               ]
              ]
             }
            ],
            "label": "Topic 24",
            "method": "update"
           },
           {
            "args": [
             {
              "marker.color": [
               [
                "#B0BEC5",
                "#B0BEC5",
                "#B0BEC5",
                "#B0BEC5",
                "#B0BEC5",
                "#B0BEC5",
                "#B0BEC5",
                "#B0BEC5",
                "#B0BEC5",
                "#B0BEC5",
                "#B0BEC5",
                "#B0BEC5",
                "#B0BEC5",
                "#B0BEC5",
                "#B0BEC5",
                "#B0BEC5",
                "#B0BEC5",
                "#B0BEC5",
                "#B0BEC5",
                "#B0BEC5",
                "#B0BEC5",
                "#B0BEC5",
                "#B0BEC5",
                "#B0BEC5",
                "#B0BEC5",
                "red",
                "#B0BEC5",
                "#B0BEC5",
                "#B0BEC5",
                "#B0BEC5",
                "#B0BEC5",
                "#B0BEC5",
                "#B0BEC5",
                "#B0BEC5",
                "#B0BEC5",
                "#B0BEC5",
                "#B0BEC5",
                "#B0BEC5",
                "#B0BEC5",
                "#B0BEC5",
                "#B0BEC5",
                "#B0BEC5",
                "#B0BEC5",
                "#B0BEC5",
                "#B0BEC5",
                "#B0BEC5",
                "#B0BEC5",
                "#B0BEC5",
                "#B0BEC5",
                "#B0BEC5",
                "#B0BEC5",
                "#B0BEC5",
                "#B0BEC5",
                "#B0BEC5",
                "#B0BEC5",
                "#B0BEC5",
                "#B0BEC5",
                "#B0BEC5",
                "#B0BEC5",
                "#B0BEC5",
                "#B0BEC5",
                "#B0BEC5",
                "#B0BEC5",
                "#B0BEC5",
                "#B0BEC5",
                "#B0BEC5",
                "#B0BEC5",
                "#B0BEC5",
                "#B0BEC5",
                "#B0BEC5",
                "#B0BEC5"
               ]
              ]
             }
            ],
            "label": "Topic 25",
            "method": "update"
           },
           {
            "args": [
             {
              "marker.color": [
               [
                "#B0BEC5",
                "#B0BEC5",
                "#B0BEC5",
                "#B0BEC5",
                "#B0BEC5",
                "#B0BEC5",
                "#B0BEC5",
                "#B0BEC5",
                "#B0BEC5",
                "#B0BEC5",
                "#B0BEC5",
                "#B0BEC5",
                "#B0BEC5",
                "#B0BEC5",
                "#B0BEC5",
                "#B0BEC5",
                "#B0BEC5",
                "#B0BEC5",
                "#B0BEC5",
                "#B0BEC5",
                "#B0BEC5",
                "#B0BEC5",
                "#B0BEC5",
                "#B0BEC5",
                "#B0BEC5",
                "#B0BEC5",
                "red",
                "#B0BEC5",
                "#B0BEC5",
                "#B0BEC5",
                "#B0BEC5",
                "#B0BEC5",
                "#B0BEC5",
                "#B0BEC5",
                "#B0BEC5",
                "#B0BEC5",
                "#B0BEC5",
                "#B0BEC5",
                "#B0BEC5",
                "#B0BEC5",
                "#B0BEC5",
                "#B0BEC5",
                "#B0BEC5",
                "#B0BEC5",
                "#B0BEC5",
                "#B0BEC5",
                "#B0BEC5",
                "#B0BEC5",
                "#B0BEC5",
                "#B0BEC5",
                "#B0BEC5",
                "#B0BEC5",
                "#B0BEC5",
                "#B0BEC5",
                "#B0BEC5",
                "#B0BEC5",
                "#B0BEC5",
                "#B0BEC5",
                "#B0BEC5",
                "#B0BEC5",
                "#B0BEC5",
                "#B0BEC5",
                "#B0BEC5",
                "#B0BEC5",
                "#B0BEC5",
                "#B0BEC5",
                "#B0BEC5",
                "#B0BEC5",
                "#B0BEC5",
                "#B0BEC5",
                "#B0BEC5"
               ]
              ]
             }
            ],
            "label": "Topic 26",
            "method": "update"
           },
           {
            "args": [
             {
              "marker.color": [
               [
                "#B0BEC5",
                "#B0BEC5",
                "#B0BEC5",
                "#B0BEC5",
                "#B0BEC5",
                "#B0BEC5",
                "#B0BEC5",
                "#B0BEC5",
                "#B0BEC5",
                "#B0BEC5",
                "#B0BEC5",
                "#B0BEC5",
                "#B0BEC5",
                "#B0BEC5",
                "#B0BEC5",
                "#B0BEC5",
                "#B0BEC5",
                "#B0BEC5",
                "#B0BEC5",
                "#B0BEC5",
                "#B0BEC5",
                "#B0BEC5",
                "#B0BEC5",
                "#B0BEC5",
                "#B0BEC5",
                "#B0BEC5",
                "#B0BEC5",
                "red",
                "#B0BEC5",
                "#B0BEC5",
                "#B0BEC5",
                "#B0BEC5",
                "#B0BEC5",
                "#B0BEC5",
                "#B0BEC5",
                "#B0BEC5",
                "#B0BEC5",
                "#B0BEC5",
                "#B0BEC5",
                "#B0BEC5",
                "#B0BEC5",
                "#B0BEC5",
                "#B0BEC5",
                "#B0BEC5",
                "#B0BEC5",
                "#B0BEC5",
                "#B0BEC5",
                "#B0BEC5",
                "#B0BEC5",
                "#B0BEC5",
                "#B0BEC5",
                "#B0BEC5",
                "#B0BEC5",
                "#B0BEC5",
                "#B0BEC5",
                "#B0BEC5",
                "#B0BEC5",
                "#B0BEC5",
                "#B0BEC5",
                "#B0BEC5",
                "#B0BEC5",
                "#B0BEC5",
                "#B0BEC5",
                "#B0BEC5",
                "#B0BEC5",
                "#B0BEC5",
                "#B0BEC5",
                "#B0BEC5",
                "#B0BEC5",
                "#B0BEC5",
                "#B0BEC5"
               ]
              ]
             }
            ],
            "label": "Topic 27",
            "method": "update"
           },
           {
            "args": [
             {
              "marker.color": [
               [
                "#B0BEC5",
                "#B0BEC5",
                "#B0BEC5",
                "#B0BEC5",
                "#B0BEC5",
                "#B0BEC5",
                "#B0BEC5",
                "#B0BEC5",
                "#B0BEC5",
                "#B0BEC5",
                "#B0BEC5",
                "#B0BEC5",
                "#B0BEC5",
                "#B0BEC5",
                "#B0BEC5",
                "#B0BEC5",
                "#B0BEC5",
                "#B0BEC5",
                "#B0BEC5",
                "#B0BEC5",
                "#B0BEC5",
                "#B0BEC5",
                "#B0BEC5",
                "#B0BEC5",
                "#B0BEC5",
                "#B0BEC5",
                "#B0BEC5",
                "#B0BEC5",
                "red",
                "#B0BEC5",
                "#B0BEC5",
                "#B0BEC5",
                "#B0BEC5",
                "#B0BEC5",
                "#B0BEC5",
                "#B0BEC5",
                "#B0BEC5",
                "#B0BEC5",
                "#B0BEC5",
                "#B0BEC5",
                "#B0BEC5",
                "#B0BEC5",
                "#B0BEC5",
                "#B0BEC5",
                "#B0BEC5",
                "#B0BEC5",
                "#B0BEC5",
                "#B0BEC5",
                "#B0BEC5",
                "#B0BEC5",
                "#B0BEC5",
                "#B0BEC5",
                "#B0BEC5",
                "#B0BEC5",
                "#B0BEC5",
                "#B0BEC5",
                "#B0BEC5",
                "#B0BEC5",
                "#B0BEC5",
                "#B0BEC5",
                "#B0BEC5",
                "#B0BEC5",
                "#B0BEC5",
                "#B0BEC5",
                "#B0BEC5",
                "#B0BEC5",
                "#B0BEC5",
                "#B0BEC5",
                "#B0BEC5",
                "#B0BEC5",
                "#B0BEC5"
               ]
              ]
             }
            ],
            "label": "Topic 28",
            "method": "update"
           },
           {
            "args": [
             {
              "marker.color": [
               [
                "#B0BEC5",
                "#B0BEC5",
                "#B0BEC5",
                "#B0BEC5",
                "#B0BEC5",
                "#B0BEC5",
                "#B0BEC5",
                "#B0BEC5",
                "#B0BEC5",
                "#B0BEC5",
                "#B0BEC5",
                "#B0BEC5",
                "#B0BEC5",
                "#B0BEC5",
                "#B0BEC5",
                "#B0BEC5",
                "#B0BEC5",
                "#B0BEC5",
                "#B0BEC5",
                "#B0BEC5",
                "#B0BEC5",
                "#B0BEC5",
                "#B0BEC5",
                "#B0BEC5",
                "#B0BEC5",
                "#B0BEC5",
                "#B0BEC5",
                "#B0BEC5",
                "#B0BEC5",
                "red",
                "#B0BEC5",
                "#B0BEC5",
                "#B0BEC5",
                "#B0BEC5",
                "#B0BEC5",
                "#B0BEC5",
                "#B0BEC5",
                "#B0BEC5",
                "#B0BEC5",
                "#B0BEC5",
                "#B0BEC5",
                "#B0BEC5",
                "#B0BEC5",
                "#B0BEC5",
                "#B0BEC5",
                "#B0BEC5",
                "#B0BEC5",
                "#B0BEC5",
                "#B0BEC5",
                "#B0BEC5",
                "#B0BEC5",
                "#B0BEC5",
                "#B0BEC5",
                "#B0BEC5",
                "#B0BEC5",
                "#B0BEC5",
                "#B0BEC5",
                "#B0BEC5",
                "#B0BEC5",
                "#B0BEC5",
                "#B0BEC5",
                "#B0BEC5",
                "#B0BEC5",
                "#B0BEC5",
                "#B0BEC5",
                "#B0BEC5",
                "#B0BEC5",
                "#B0BEC5",
                "#B0BEC5",
                "#B0BEC5",
                "#B0BEC5"
               ]
              ]
             }
            ],
            "label": "Topic 29",
            "method": "update"
           },
           {
            "args": [
             {
              "marker.color": [
               [
                "#B0BEC5",
                "#B0BEC5",
                "#B0BEC5",
                "#B0BEC5",
                "#B0BEC5",
                "#B0BEC5",
                "#B0BEC5",
                "#B0BEC5",
                "#B0BEC5",
                "#B0BEC5",
                "#B0BEC5",
                "#B0BEC5",
                "#B0BEC5",
                "#B0BEC5",
                "#B0BEC5",
                "#B0BEC5",
                "#B0BEC5",
                "#B0BEC5",
                "#B0BEC5",
                "#B0BEC5",
                "#B0BEC5",
                "#B0BEC5",
                "#B0BEC5",
                "#B0BEC5",
                "#B0BEC5",
                "#B0BEC5",
                "#B0BEC5",
                "#B0BEC5",
                "#B0BEC5",
                "#B0BEC5",
                "red",
                "#B0BEC5",
                "#B0BEC5",
                "#B0BEC5",
                "#B0BEC5",
                "#B0BEC5",
                "#B0BEC5",
                "#B0BEC5",
                "#B0BEC5",
                "#B0BEC5",
                "#B0BEC5",
                "#B0BEC5",
                "#B0BEC5",
                "#B0BEC5",
                "#B0BEC5",
                "#B0BEC5",
                "#B0BEC5",
                "#B0BEC5",
                "#B0BEC5",
                "#B0BEC5",
                "#B0BEC5",
                "#B0BEC5",
                "#B0BEC5",
                "#B0BEC5",
                "#B0BEC5",
                "#B0BEC5",
                "#B0BEC5",
                "#B0BEC5",
                "#B0BEC5",
                "#B0BEC5",
                "#B0BEC5",
                "#B0BEC5",
                "#B0BEC5",
                "#B0BEC5",
                "#B0BEC5",
                "#B0BEC5",
                "#B0BEC5",
                "#B0BEC5",
                "#B0BEC5",
                "#B0BEC5",
                "#B0BEC5"
               ]
              ]
             }
            ],
            "label": "Topic 30",
            "method": "update"
           },
           {
            "args": [
             {
              "marker.color": [
               [
                "#B0BEC5",
                "#B0BEC5",
                "#B0BEC5",
                "#B0BEC5",
                "#B0BEC5",
                "#B0BEC5",
                "#B0BEC5",
                "#B0BEC5",
                "#B0BEC5",
                "#B0BEC5",
                "#B0BEC5",
                "#B0BEC5",
                "#B0BEC5",
                "#B0BEC5",
                "#B0BEC5",
                "#B0BEC5",
                "#B0BEC5",
                "#B0BEC5",
                "#B0BEC5",
                "#B0BEC5",
                "#B0BEC5",
                "#B0BEC5",
                "#B0BEC5",
                "#B0BEC5",
                "#B0BEC5",
                "#B0BEC5",
                "#B0BEC5",
                "#B0BEC5",
                "#B0BEC5",
                "#B0BEC5",
                "#B0BEC5",
                "red",
                "#B0BEC5",
                "#B0BEC5",
                "#B0BEC5",
                "#B0BEC5",
                "#B0BEC5",
                "#B0BEC5",
                "#B0BEC5",
                "#B0BEC5",
                "#B0BEC5",
                "#B0BEC5",
                "#B0BEC5",
                "#B0BEC5",
                "#B0BEC5",
                "#B0BEC5",
                "#B0BEC5",
                "#B0BEC5",
                "#B0BEC5",
                "#B0BEC5",
                "#B0BEC5",
                "#B0BEC5",
                "#B0BEC5",
                "#B0BEC5",
                "#B0BEC5",
                "#B0BEC5",
                "#B0BEC5",
                "#B0BEC5",
                "#B0BEC5",
                "#B0BEC5",
                "#B0BEC5",
                "#B0BEC5",
                "#B0BEC5",
                "#B0BEC5",
                "#B0BEC5",
                "#B0BEC5",
                "#B0BEC5",
                "#B0BEC5",
                "#B0BEC5",
                "#B0BEC5",
                "#B0BEC5"
               ]
              ]
             }
            ],
            "label": "Topic 31",
            "method": "update"
           },
           {
            "args": [
             {
              "marker.color": [
               [
                "#B0BEC5",
                "#B0BEC5",
                "#B0BEC5",
                "#B0BEC5",
                "#B0BEC5",
                "#B0BEC5",
                "#B0BEC5",
                "#B0BEC5",
                "#B0BEC5",
                "#B0BEC5",
                "#B0BEC5",
                "#B0BEC5",
                "#B0BEC5",
                "#B0BEC5",
                "#B0BEC5",
                "#B0BEC5",
                "#B0BEC5",
                "#B0BEC5",
                "#B0BEC5",
                "#B0BEC5",
                "#B0BEC5",
                "#B0BEC5",
                "#B0BEC5",
                "#B0BEC5",
                "#B0BEC5",
                "#B0BEC5",
                "#B0BEC5",
                "#B0BEC5",
                "#B0BEC5",
                "#B0BEC5",
                "#B0BEC5",
                "#B0BEC5",
                "red",
                "#B0BEC5",
                "#B0BEC5",
                "#B0BEC5",
                "#B0BEC5",
                "#B0BEC5",
                "#B0BEC5",
                "#B0BEC5",
                "#B0BEC5",
                "#B0BEC5",
                "#B0BEC5",
                "#B0BEC5",
                "#B0BEC5",
                "#B0BEC5",
                "#B0BEC5",
                "#B0BEC5",
                "#B0BEC5",
                "#B0BEC5",
                "#B0BEC5",
                "#B0BEC5",
                "#B0BEC5",
                "#B0BEC5",
                "#B0BEC5",
                "#B0BEC5",
                "#B0BEC5",
                "#B0BEC5",
                "#B0BEC5",
                "#B0BEC5",
                "#B0BEC5",
                "#B0BEC5",
                "#B0BEC5",
                "#B0BEC5",
                "#B0BEC5",
                "#B0BEC5",
                "#B0BEC5",
                "#B0BEC5",
                "#B0BEC5",
                "#B0BEC5",
                "#B0BEC5"
               ]
              ]
             }
            ],
            "label": "Topic 32",
            "method": "update"
           },
           {
            "args": [
             {
              "marker.color": [
               [
                "#B0BEC5",
                "#B0BEC5",
                "#B0BEC5",
                "#B0BEC5",
                "#B0BEC5",
                "#B0BEC5",
                "#B0BEC5",
                "#B0BEC5",
                "#B0BEC5",
                "#B0BEC5",
                "#B0BEC5",
                "#B0BEC5",
                "#B0BEC5",
                "#B0BEC5",
                "#B0BEC5",
                "#B0BEC5",
                "#B0BEC5",
                "#B0BEC5",
                "#B0BEC5",
                "#B0BEC5",
                "#B0BEC5",
                "#B0BEC5",
                "#B0BEC5",
                "#B0BEC5",
                "#B0BEC5",
                "#B0BEC5",
                "#B0BEC5",
                "#B0BEC5",
                "#B0BEC5",
                "#B0BEC5",
                "#B0BEC5",
                "#B0BEC5",
                "#B0BEC5",
                "red",
                "#B0BEC5",
                "#B0BEC5",
                "#B0BEC5",
                "#B0BEC5",
                "#B0BEC5",
                "#B0BEC5",
                "#B0BEC5",
                "#B0BEC5",
                "#B0BEC5",
                "#B0BEC5",
                "#B0BEC5",
                "#B0BEC5",
                "#B0BEC5",
                "#B0BEC5",
                "#B0BEC5",
                "#B0BEC5",
                "#B0BEC5",
                "#B0BEC5",
                "#B0BEC5",
                "#B0BEC5",
                "#B0BEC5",
                "#B0BEC5",
                "#B0BEC5",
                "#B0BEC5",
                "#B0BEC5",
                "#B0BEC5",
                "#B0BEC5",
                "#B0BEC5",
                "#B0BEC5",
                "#B0BEC5",
                "#B0BEC5",
                "#B0BEC5",
                "#B0BEC5",
                "#B0BEC5",
                "#B0BEC5",
                "#B0BEC5",
                "#B0BEC5"
               ]
              ]
             }
            ],
            "label": "Topic 33",
            "method": "update"
           },
           {
            "args": [
             {
              "marker.color": [
               [
                "#B0BEC5",
                "#B0BEC5",
                "#B0BEC5",
                "#B0BEC5",
                "#B0BEC5",
                "#B0BEC5",
                "#B0BEC5",
                "#B0BEC5",
                "#B0BEC5",
                "#B0BEC5",
                "#B0BEC5",
                "#B0BEC5",
                "#B0BEC5",
                "#B0BEC5",
                "#B0BEC5",
                "#B0BEC5",
                "#B0BEC5",
                "#B0BEC5",
                "#B0BEC5",
                "#B0BEC5",
                "#B0BEC5",
                "#B0BEC5",
                "#B0BEC5",
                "#B0BEC5",
                "#B0BEC5",
                "#B0BEC5",
                "#B0BEC5",
                "#B0BEC5",
                "#B0BEC5",
                "#B0BEC5",
                "#B0BEC5",
                "#B0BEC5",
                "#B0BEC5",
                "#B0BEC5",
                "red",
                "#B0BEC5",
                "#B0BEC5",
                "#B0BEC5",
                "#B0BEC5",
                "#B0BEC5",
                "#B0BEC5",
                "#B0BEC5",
                "#B0BEC5",
                "#B0BEC5",
                "#B0BEC5",
                "#B0BEC5",
                "#B0BEC5",
                "#B0BEC5",
                "#B0BEC5",
                "#B0BEC5",
                "#B0BEC5",
                "#B0BEC5",
                "#B0BEC5",
                "#B0BEC5",
                "#B0BEC5",
                "#B0BEC5",
                "#B0BEC5",
                "#B0BEC5",
                "#B0BEC5",
                "#B0BEC5",
                "#B0BEC5",
                "#B0BEC5",
                "#B0BEC5",
                "#B0BEC5",
                "#B0BEC5",
                "#B0BEC5",
                "#B0BEC5",
                "#B0BEC5",
                "#B0BEC5",
                "#B0BEC5",
                "#B0BEC5"
               ]
              ]
             }
            ],
            "label": "Topic 34",
            "method": "update"
           },
           {
            "args": [
             {
              "marker.color": [
               [
                "#B0BEC5",
                "#B0BEC5",
                "#B0BEC5",
                "#B0BEC5",
                "#B0BEC5",
                "#B0BEC5",
                "#B0BEC5",
                "#B0BEC5",
                "#B0BEC5",
                "#B0BEC5",
                "#B0BEC5",
                "#B0BEC5",
                "#B0BEC5",
                "#B0BEC5",
                "#B0BEC5",
                "#B0BEC5",
                "#B0BEC5",
                "#B0BEC5",
                "#B0BEC5",
                "#B0BEC5",
                "#B0BEC5",
                "#B0BEC5",
                "#B0BEC5",
                "#B0BEC5",
                "#B0BEC5",
                "#B0BEC5",
                "#B0BEC5",
                "#B0BEC5",
                "#B0BEC5",
                "#B0BEC5",
                "#B0BEC5",
                "#B0BEC5",
                "#B0BEC5",
                "#B0BEC5",
                "#B0BEC5",
                "red",
                "#B0BEC5",
                "#B0BEC5",
                "#B0BEC5",
                "#B0BEC5",
                "#B0BEC5",
                "#B0BEC5",
                "#B0BEC5",
                "#B0BEC5",
                "#B0BEC5",
                "#B0BEC5",
                "#B0BEC5",
                "#B0BEC5",
                "#B0BEC5",
                "#B0BEC5",
                "#B0BEC5",
                "#B0BEC5",
                "#B0BEC5",
                "#B0BEC5",
                "#B0BEC5",
                "#B0BEC5",
                "#B0BEC5",
                "#B0BEC5",
                "#B0BEC5",
                "#B0BEC5",
                "#B0BEC5",
                "#B0BEC5",
                "#B0BEC5",
                "#B0BEC5",
                "#B0BEC5",
                "#B0BEC5",
                "#B0BEC5",
                "#B0BEC5",
                "#B0BEC5",
                "#B0BEC5",
                "#B0BEC5"
               ]
              ]
             }
            ],
            "label": "Topic 35",
            "method": "update"
           },
           {
            "args": [
             {
              "marker.color": [
               [
                "#B0BEC5",
                "#B0BEC5",
                "#B0BEC5",
                "#B0BEC5",
                "#B0BEC5",
                "#B0BEC5",
                "#B0BEC5",
                "#B0BEC5",
                "#B0BEC5",
                "#B0BEC5",
                "#B0BEC5",
                "#B0BEC5",
                "#B0BEC5",
                "#B0BEC5",
                "#B0BEC5",
                "#B0BEC5",
                "#B0BEC5",
                "#B0BEC5",
                "#B0BEC5",
                "#B0BEC5",
                "#B0BEC5",
                "#B0BEC5",
                "#B0BEC5",
                "#B0BEC5",
                "#B0BEC5",
                "#B0BEC5",
                "#B0BEC5",
                "#B0BEC5",
                "#B0BEC5",
                "#B0BEC5",
                "#B0BEC5",
                "#B0BEC5",
                "#B0BEC5",
                "#B0BEC5",
                "#B0BEC5",
                "#B0BEC5",
                "red",
                "#B0BEC5",
                "#B0BEC5",
                "#B0BEC5",
                "#B0BEC5",
                "#B0BEC5",
                "#B0BEC5",
                "#B0BEC5",
                "#B0BEC5",
                "#B0BEC5",
                "#B0BEC5",
                "#B0BEC5",
                "#B0BEC5",
                "#B0BEC5",
                "#B0BEC5",
                "#B0BEC5",
                "#B0BEC5",
                "#B0BEC5",
                "#B0BEC5",
                "#B0BEC5",
                "#B0BEC5",
                "#B0BEC5",
                "#B0BEC5",
                "#B0BEC5",
                "#B0BEC5",
                "#B0BEC5",
                "#B0BEC5",
                "#B0BEC5",
                "#B0BEC5",
                "#B0BEC5",
                "#B0BEC5",
                "#B0BEC5",
                "#B0BEC5",
                "#B0BEC5",
                "#B0BEC5"
               ]
              ]
             }
            ],
            "label": "Topic 36",
            "method": "update"
           },
           {
            "args": [
             {
              "marker.color": [
               [
                "#B0BEC5",
                "#B0BEC5",
                "#B0BEC5",
                "#B0BEC5",
                "#B0BEC5",
                "#B0BEC5",
                "#B0BEC5",
                "#B0BEC5",
                "#B0BEC5",
                "#B0BEC5",
                "#B0BEC5",
                "#B0BEC5",
                "#B0BEC5",
                "#B0BEC5",
                "#B0BEC5",
                "#B0BEC5",
                "#B0BEC5",
                "#B0BEC5",
                "#B0BEC5",
                "#B0BEC5",
                "#B0BEC5",
                "#B0BEC5",
                "#B0BEC5",
                "#B0BEC5",
                "#B0BEC5",
                "#B0BEC5",
                "#B0BEC5",
                "#B0BEC5",
                "#B0BEC5",
                "#B0BEC5",
                "#B0BEC5",
                "#B0BEC5",
                "#B0BEC5",
                "#B0BEC5",
                "#B0BEC5",
                "#B0BEC5",
                "#B0BEC5",
                "red",
                "#B0BEC5",
                "#B0BEC5",
                "#B0BEC5",
                "#B0BEC5",
                "#B0BEC5",
                "#B0BEC5",
                "#B0BEC5",
                "#B0BEC5",
                "#B0BEC5",
                "#B0BEC5",
                "#B0BEC5",
                "#B0BEC5",
                "#B0BEC5",
                "#B0BEC5",
                "#B0BEC5",
                "#B0BEC5",
                "#B0BEC5",
                "#B0BEC5",
                "#B0BEC5",
                "#B0BEC5",
                "#B0BEC5",
                "#B0BEC5",
                "#B0BEC5",
                "#B0BEC5",
                "#B0BEC5",
                "#B0BEC5",
                "#B0BEC5",
                "#B0BEC5",
                "#B0BEC5",
                "#B0BEC5",
                "#B0BEC5",
                "#B0BEC5",
                "#B0BEC5"
               ]
              ]
             }
            ],
            "label": "Topic 37",
            "method": "update"
           },
           {
            "args": [
             {
              "marker.color": [
               [
                "#B0BEC5",
                "#B0BEC5",
                "#B0BEC5",
                "#B0BEC5",
                "#B0BEC5",
                "#B0BEC5",
                "#B0BEC5",
                "#B0BEC5",
                "#B0BEC5",
                "#B0BEC5",
                "#B0BEC5",
                "#B0BEC5",
                "#B0BEC5",
                "#B0BEC5",
                "#B0BEC5",
                "#B0BEC5",
                "#B0BEC5",
                "#B0BEC5",
                "#B0BEC5",
                "#B0BEC5",
                "#B0BEC5",
                "#B0BEC5",
                "#B0BEC5",
                "#B0BEC5",
                "#B0BEC5",
                "#B0BEC5",
                "#B0BEC5",
                "#B0BEC5",
                "#B0BEC5",
                "#B0BEC5",
                "#B0BEC5",
                "#B0BEC5",
                "#B0BEC5",
                "#B0BEC5",
                "#B0BEC5",
                "#B0BEC5",
                "#B0BEC5",
                "#B0BEC5",
                "red",
                "#B0BEC5",
                "#B0BEC5",
                "#B0BEC5",
                "#B0BEC5",
                "#B0BEC5",
                "#B0BEC5",
                "#B0BEC5",
                "#B0BEC5",
                "#B0BEC5",
                "#B0BEC5",
                "#B0BEC5",
                "#B0BEC5",
                "#B0BEC5",
                "#B0BEC5",
                "#B0BEC5",
                "#B0BEC5",
                "#B0BEC5",
                "#B0BEC5",
                "#B0BEC5",
                "#B0BEC5",
                "#B0BEC5",
                "#B0BEC5",
                "#B0BEC5",
                "#B0BEC5",
                "#B0BEC5",
                "#B0BEC5",
                "#B0BEC5",
                "#B0BEC5",
                "#B0BEC5",
                "#B0BEC5",
                "#B0BEC5",
                "#B0BEC5"
               ]
              ]
             }
            ],
            "label": "Topic 38",
            "method": "update"
           },
           {
            "args": [
             {
              "marker.color": [
               [
                "#B0BEC5",
                "#B0BEC5",
                "#B0BEC5",
                "#B0BEC5",
                "#B0BEC5",
                "#B0BEC5",
                "#B0BEC5",
                "#B0BEC5",
                "#B0BEC5",
                "#B0BEC5",
                "#B0BEC5",
                "#B0BEC5",
                "#B0BEC5",
                "#B0BEC5",
                "#B0BEC5",
                "#B0BEC5",
                "#B0BEC5",
                "#B0BEC5",
                "#B0BEC5",
                "#B0BEC5",
                "#B0BEC5",
                "#B0BEC5",
                "#B0BEC5",
                "#B0BEC5",
                "#B0BEC5",
                "#B0BEC5",
                "#B0BEC5",
                "#B0BEC5",
                "#B0BEC5",
                "#B0BEC5",
                "#B0BEC5",
                "#B0BEC5",
                "#B0BEC5",
                "#B0BEC5",
                "#B0BEC5",
                "#B0BEC5",
                "#B0BEC5",
                "#B0BEC5",
                "#B0BEC5",
                "red",
                "#B0BEC5",
                "#B0BEC5",
                "#B0BEC5",
                "#B0BEC5",
                "#B0BEC5",
                "#B0BEC5",
                "#B0BEC5",
                "#B0BEC5",
                "#B0BEC5",
                "#B0BEC5",
                "#B0BEC5",
                "#B0BEC5",
                "#B0BEC5",
                "#B0BEC5",
                "#B0BEC5",
                "#B0BEC5",
                "#B0BEC5",
                "#B0BEC5",
                "#B0BEC5",
                "#B0BEC5",
                "#B0BEC5",
                "#B0BEC5",
                "#B0BEC5",
                "#B0BEC5",
                "#B0BEC5",
                "#B0BEC5",
                "#B0BEC5",
                "#B0BEC5",
                "#B0BEC5",
                "#B0BEC5",
                "#B0BEC5"
               ]
              ]
             }
            ],
            "label": "Topic 39",
            "method": "update"
           },
           {
            "args": [
             {
              "marker.color": [
               [
                "#B0BEC5",
                "#B0BEC5",
                "#B0BEC5",
                "#B0BEC5",
                "#B0BEC5",
                "#B0BEC5",
                "#B0BEC5",
                "#B0BEC5",
                "#B0BEC5",
                "#B0BEC5",
                "#B0BEC5",
                "#B0BEC5",
                "#B0BEC5",
                "#B0BEC5",
                "#B0BEC5",
                "#B0BEC5",
                "#B0BEC5",
                "#B0BEC5",
                "#B0BEC5",
                "#B0BEC5",
                "#B0BEC5",
                "#B0BEC5",
                "#B0BEC5",
                "#B0BEC5",
                "#B0BEC5",
                "#B0BEC5",
                "#B0BEC5",
                "#B0BEC5",
                "#B0BEC5",
                "#B0BEC5",
                "#B0BEC5",
                "#B0BEC5",
                "#B0BEC5",
                "#B0BEC5",
                "#B0BEC5",
                "#B0BEC5",
                "#B0BEC5",
                "#B0BEC5",
                "#B0BEC5",
                "#B0BEC5",
                "red",
                "#B0BEC5",
                "#B0BEC5",
                "#B0BEC5",
                "#B0BEC5",
                "#B0BEC5",
                "#B0BEC5",
                "#B0BEC5",
                "#B0BEC5",
                "#B0BEC5",
                "#B0BEC5",
                "#B0BEC5",
                "#B0BEC5",
                "#B0BEC5",
                "#B0BEC5",
                "#B0BEC5",
                "#B0BEC5",
                "#B0BEC5",
                "#B0BEC5",
                "#B0BEC5",
                "#B0BEC5",
                "#B0BEC5",
                "#B0BEC5",
                "#B0BEC5",
                "#B0BEC5",
                "#B0BEC5",
                "#B0BEC5",
                "#B0BEC5",
                "#B0BEC5",
                "#B0BEC5",
                "#B0BEC5"
               ]
              ]
             }
            ],
            "label": "Topic 40",
            "method": "update"
           },
           {
            "args": [
             {
              "marker.color": [
               [
                "#B0BEC5",
                "#B0BEC5",
                "#B0BEC5",
                "#B0BEC5",
                "#B0BEC5",
                "#B0BEC5",
                "#B0BEC5",
                "#B0BEC5",
                "#B0BEC5",
                "#B0BEC5",
                "#B0BEC5",
                "#B0BEC5",
                "#B0BEC5",
                "#B0BEC5",
                "#B0BEC5",
                "#B0BEC5",
                "#B0BEC5",
                "#B0BEC5",
                "#B0BEC5",
                "#B0BEC5",
                "#B0BEC5",
                "#B0BEC5",
                "#B0BEC5",
                "#B0BEC5",
                "#B0BEC5",
                "#B0BEC5",
                "#B0BEC5",
                "#B0BEC5",
                "#B0BEC5",
                "#B0BEC5",
                "#B0BEC5",
                "#B0BEC5",
                "#B0BEC5",
                "#B0BEC5",
                "#B0BEC5",
                "#B0BEC5",
                "#B0BEC5",
                "#B0BEC5",
                "#B0BEC5",
                "#B0BEC5",
                "#B0BEC5",
                "red",
                "#B0BEC5",
                "#B0BEC5",
                "#B0BEC5",
                "#B0BEC5",
                "#B0BEC5",
                "#B0BEC5",
                "#B0BEC5",
                "#B0BEC5",
                "#B0BEC5",
                "#B0BEC5",
                "#B0BEC5",
                "#B0BEC5",
                "#B0BEC5",
                "#B0BEC5",
                "#B0BEC5",
                "#B0BEC5",
                "#B0BEC5",
                "#B0BEC5",
                "#B0BEC5",
                "#B0BEC5",
                "#B0BEC5",
                "#B0BEC5",
                "#B0BEC5",
                "#B0BEC5",
                "#B0BEC5",
                "#B0BEC5",
                "#B0BEC5",
                "#B0BEC5",
                "#B0BEC5"
               ]
              ]
             }
            ],
            "label": "Topic 41",
            "method": "update"
           },
           {
            "args": [
             {
              "marker.color": [
               [
                "#B0BEC5",
                "#B0BEC5",
                "#B0BEC5",
                "#B0BEC5",
                "#B0BEC5",
                "#B0BEC5",
                "#B0BEC5",
                "#B0BEC5",
                "#B0BEC5",
                "#B0BEC5",
                "#B0BEC5",
                "#B0BEC5",
                "#B0BEC5",
                "#B0BEC5",
                "#B0BEC5",
                "#B0BEC5",
                "#B0BEC5",
                "#B0BEC5",
                "#B0BEC5",
                "#B0BEC5",
                "#B0BEC5",
                "#B0BEC5",
                "#B0BEC5",
                "#B0BEC5",
                "#B0BEC5",
                "#B0BEC5",
                "#B0BEC5",
                "#B0BEC5",
                "#B0BEC5",
                "#B0BEC5",
                "#B0BEC5",
                "#B0BEC5",
                "#B0BEC5",
                "#B0BEC5",
                "#B0BEC5",
                "#B0BEC5",
                "#B0BEC5",
                "#B0BEC5",
                "#B0BEC5",
                "#B0BEC5",
                "#B0BEC5",
                "#B0BEC5",
                "red",
                "#B0BEC5",
                "#B0BEC5",
                "#B0BEC5",
                "#B0BEC5",
                "#B0BEC5",
                "#B0BEC5",
                "#B0BEC5",
                "#B0BEC5",
                "#B0BEC5",
                "#B0BEC5",
                "#B0BEC5",
                "#B0BEC5",
                "#B0BEC5",
                "#B0BEC5",
                "#B0BEC5",
                "#B0BEC5",
                "#B0BEC5",
                "#B0BEC5",
                "#B0BEC5",
                "#B0BEC5",
                "#B0BEC5",
                "#B0BEC5",
                "#B0BEC5",
                "#B0BEC5",
                "#B0BEC5",
                "#B0BEC5",
                "#B0BEC5",
                "#B0BEC5"
               ]
              ]
             }
            ],
            "label": "Topic 42",
            "method": "update"
           },
           {
            "args": [
             {
              "marker.color": [
               [
                "#B0BEC5",
                "#B0BEC5",
                "#B0BEC5",
                "#B0BEC5",
                "#B0BEC5",
                "#B0BEC5",
                "#B0BEC5",
                "#B0BEC5",
                "#B0BEC5",
                "#B0BEC5",
                "#B0BEC5",
                "#B0BEC5",
                "#B0BEC5",
                "#B0BEC5",
                "#B0BEC5",
                "#B0BEC5",
                "#B0BEC5",
                "#B0BEC5",
                "#B0BEC5",
                "#B0BEC5",
                "#B0BEC5",
                "#B0BEC5",
                "#B0BEC5",
                "#B0BEC5",
                "#B0BEC5",
                "#B0BEC5",
                "#B0BEC5",
                "#B0BEC5",
                "#B0BEC5",
                "#B0BEC5",
                "#B0BEC5",
                "#B0BEC5",
                "#B0BEC5",
                "#B0BEC5",
                "#B0BEC5",
                "#B0BEC5",
                "#B0BEC5",
                "#B0BEC5",
                "#B0BEC5",
                "#B0BEC5",
                "#B0BEC5",
                "#B0BEC5",
                "#B0BEC5",
                "red",
                "#B0BEC5",
                "#B0BEC5",
                "#B0BEC5",
                "#B0BEC5",
                "#B0BEC5",
                "#B0BEC5",
                "#B0BEC5",
                "#B0BEC5",
                "#B0BEC5",
                "#B0BEC5",
                "#B0BEC5",
                "#B0BEC5",
                "#B0BEC5",
                "#B0BEC5",
                "#B0BEC5",
                "#B0BEC5",
                "#B0BEC5",
                "#B0BEC5",
                "#B0BEC5",
                "#B0BEC5",
                "#B0BEC5",
                "#B0BEC5",
                "#B0BEC5",
                "#B0BEC5",
                "#B0BEC5",
                "#B0BEC5",
                "#B0BEC5"
               ]
              ]
             }
            ],
            "label": "Topic 43",
            "method": "update"
           },
           {
            "args": [
             {
              "marker.color": [
               [
                "#B0BEC5",
                "#B0BEC5",
                "#B0BEC5",
                "#B0BEC5",
                "#B0BEC5",
                "#B0BEC5",
                "#B0BEC5",
                "#B0BEC5",
                "#B0BEC5",
                "#B0BEC5",
                "#B0BEC5",
                "#B0BEC5",
                "#B0BEC5",
                "#B0BEC5",
                "#B0BEC5",
                "#B0BEC5",
                "#B0BEC5",
                "#B0BEC5",
                "#B0BEC5",
                "#B0BEC5",
                "#B0BEC5",
                "#B0BEC5",
                "#B0BEC5",
                "#B0BEC5",
                "#B0BEC5",
                "#B0BEC5",
                "#B0BEC5",
                "#B0BEC5",
                "#B0BEC5",
                "#B0BEC5",
                "#B0BEC5",
                "#B0BEC5",
                "#B0BEC5",
                "#B0BEC5",
                "#B0BEC5",
                "#B0BEC5",
                "#B0BEC5",
                "#B0BEC5",
                "#B0BEC5",
                "#B0BEC5",
                "#B0BEC5",
                "#B0BEC5",
                "#B0BEC5",
                "#B0BEC5",
                "red",
                "#B0BEC5",
                "#B0BEC5",
                "#B0BEC5",
                "#B0BEC5",
                "#B0BEC5",
                "#B0BEC5",
                "#B0BEC5",
                "#B0BEC5",
                "#B0BEC5",
                "#B0BEC5",
                "#B0BEC5",
                "#B0BEC5",
                "#B0BEC5",
                "#B0BEC5",
                "#B0BEC5",
                "#B0BEC5",
                "#B0BEC5",
                "#B0BEC5",
                "#B0BEC5",
                "#B0BEC5",
                "#B0BEC5",
                "#B0BEC5",
                "#B0BEC5",
                "#B0BEC5",
                "#B0BEC5",
                "#B0BEC5"
               ]
              ]
             }
            ],
            "label": "Topic 44",
            "method": "update"
           },
           {
            "args": [
             {
              "marker.color": [
               [
                "#B0BEC5",
                "#B0BEC5",
                "#B0BEC5",
                "#B0BEC5",
                "#B0BEC5",
                "#B0BEC5",
                "#B0BEC5",
                "#B0BEC5",
                "#B0BEC5",
                "#B0BEC5",
                "#B0BEC5",
                "#B0BEC5",
                "#B0BEC5",
                "#B0BEC5",
                "#B0BEC5",
                "#B0BEC5",
                "#B0BEC5",
                "#B0BEC5",
                "#B0BEC5",
                "#B0BEC5",
                "#B0BEC5",
                "#B0BEC5",
                "#B0BEC5",
                "#B0BEC5",
                "#B0BEC5",
                "#B0BEC5",
                "#B0BEC5",
                "#B0BEC5",
                "#B0BEC5",
                "#B0BEC5",
                "#B0BEC5",
                "#B0BEC5",
                "#B0BEC5",
                "#B0BEC5",
                "#B0BEC5",
                "#B0BEC5",
                "#B0BEC5",
                "#B0BEC5",
                "#B0BEC5",
                "#B0BEC5",
                "#B0BEC5",
                "#B0BEC5",
                "#B0BEC5",
                "#B0BEC5",
                "#B0BEC5",
                "red",
                "#B0BEC5",
                "#B0BEC5",
                "#B0BEC5",
                "#B0BEC5",
                "#B0BEC5",
                "#B0BEC5",
                "#B0BEC5",
                "#B0BEC5",
                "#B0BEC5",
                "#B0BEC5",
                "#B0BEC5",
                "#B0BEC5",
                "#B0BEC5",
                "#B0BEC5",
                "#B0BEC5",
                "#B0BEC5",
                "#B0BEC5",
                "#B0BEC5",
                "#B0BEC5",
                "#B0BEC5",
                "#B0BEC5",
                "#B0BEC5",
                "#B0BEC5",
                "#B0BEC5",
                "#B0BEC5"
               ]
              ]
             }
            ],
            "label": "Topic 45",
            "method": "update"
           },
           {
            "args": [
             {
              "marker.color": [
               [
                "#B0BEC5",
                "#B0BEC5",
                "#B0BEC5",
                "#B0BEC5",
                "#B0BEC5",
                "#B0BEC5",
                "#B0BEC5",
                "#B0BEC5",
                "#B0BEC5",
                "#B0BEC5",
                "#B0BEC5",
                "#B0BEC5",
                "#B0BEC5",
                "#B0BEC5",
                "#B0BEC5",
                "#B0BEC5",
                "#B0BEC5",
                "#B0BEC5",
                "#B0BEC5",
                "#B0BEC5",
                "#B0BEC5",
                "#B0BEC5",
                "#B0BEC5",
                "#B0BEC5",
                "#B0BEC5",
                "#B0BEC5",
                "#B0BEC5",
                "#B0BEC5",
                "#B0BEC5",
                "#B0BEC5",
                "#B0BEC5",
                "#B0BEC5",
                "#B0BEC5",
                "#B0BEC5",
                "#B0BEC5",
                "#B0BEC5",
                "#B0BEC5",
                "#B0BEC5",
                "#B0BEC5",
                "#B0BEC5",
                "#B0BEC5",
                "#B0BEC5",
                "#B0BEC5",
                "#B0BEC5",
                "#B0BEC5",
                "#B0BEC5",
                "red",
                "#B0BEC5",
                "#B0BEC5",
                "#B0BEC5",
                "#B0BEC5",
                "#B0BEC5",
                "#B0BEC5",
                "#B0BEC5",
                "#B0BEC5",
                "#B0BEC5",
                "#B0BEC5",
                "#B0BEC5",
                "#B0BEC5",
                "#B0BEC5",
                "#B0BEC5",
                "#B0BEC5",
                "#B0BEC5",
                "#B0BEC5",
                "#B0BEC5",
                "#B0BEC5",
                "#B0BEC5",
                "#B0BEC5",
                "#B0BEC5",
                "#B0BEC5",
                "#B0BEC5"
               ]
              ]
             }
            ],
            "label": "Topic 46",
            "method": "update"
           },
           {
            "args": [
             {
              "marker.color": [
               [
                "#B0BEC5",
                "#B0BEC5",
                "#B0BEC5",
                "#B0BEC5",
                "#B0BEC5",
                "#B0BEC5",
                "#B0BEC5",
                "#B0BEC5",
                "#B0BEC5",
                "#B0BEC5",
                "#B0BEC5",
                "#B0BEC5",
                "#B0BEC5",
                "#B0BEC5",
                "#B0BEC5",
                "#B0BEC5",
                "#B0BEC5",
                "#B0BEC5",
                "#B0BEC5",
                "#B0BEC5",
                "#B0BEC5",
                "#B0BEC5",
                "#B0BEC5",
                "#B0BEC5",
                "#B0BEC5",
                "#B0BEC5",
                "#B0BEC5",
                "#B0BEC5",
                "#B0BEC5",
                "#B0BEC5",
                "#B0BEC5",
                "#B0BEC5",
                "#B0BEC5",
                "#B0BEC5",
                "#B0BEC5",
                "#B0BEC5",
                "#B0BEC5",
                "#B0BEC5",
                "#B0BEC5",
                "#B0BEC5",
                "#B0BEC5",
                "#B0BEC5",
                "#B0BEC5",
                "#B0BEC5",
                "#B0BEC5",
                "#B0BEC5",
                "#B0BEC5",
                "red",
                "#B0BEC5",
                "#B0BEC5",
                "#B0BEC5",
                "#B0BEC5",
                "#B0BEC5",
                "#B0BEC5",
                "#B0BEC5",
                "#B0BEC5",
                "#B0BEC5",
                "#B0BEC5",
                "#B0BEC5",
                "#B0BEC5",
                "#B0BEC5",
                "#B0BEC5",
                "#B0BEC5",
                "#B0BEC5",
                "#B0BEC5",
                "#B0BEC5",
                "#B0BEC5",
                "#B0BEC5",
                "#B0BEC5",
                "#B0BEC5",
                "#B0BEC5"
               ]
              ]
             }
            ],
            "label": "Topic 47",
            "method": "update"
           },
           {
            "args": [
             {
              "marker.color": [
               [
                "#B0BEC5",
                "#B0BEC5",
                "#B0BEC5",
                "#B0BEC5",
                "#B0BEC5",
                "#B0BEC5",
                "#B0BEC5",
                "#B0BEC5",
                "#B0BEC5",
                "#B0BEC5",
                "#B0BEC5",
                "#B0BEC5",
                "#B0BEC5",
                "#B0BEC5",
                "#B0BEC5",
                "#B0BEC5",
                "#B0BEC5",
                "#B0BEC5",
                "#B0BEC5",
                "#B0BEC5",
                "#B0BEC5",
                "#B0BEC5",
                "#B0BEC5",
                "#B0BEC5",
                "#B0BEC5",
                "#B0BEC5",
                "#B0BEC5",
                "#B0BEC5",
                "#B0BEC5",
                "#B0BEC5",
                "#B0BEC5",
                "#B0BEC5",
                "#B0BEC5",
                "#B0BEC5",
                "#B0BEC5",
                "#B0BEC5",
                "#B0BEC5",
                "#B0BEC5",
                "#B0BEC5",
                "#B0BEC5",
                "#B0BEC5",
                "#B0BEC5",
                "#B0BEC5",
                "#B0BEC5",
                "#B0BEC5",
                "#B0BEC5",
                "#B0BEC5",
                "#B0BEC5",
                "red",
                "#B0BEC5",
                "#B0BEC5",
                "#B0BEC5",
                "#B0BEC5",
                "#B0BEC5",
                "#B0BEC5",
                "#B0BEC5",
                "#B0BEC5",
                "#B0BEC5",
                "#B0BEC5",
                "#B0BEC5",
                "#B0BEC5",
                "#B0BEC5",
                "#B0BEC5",
                "#B0BEC5",
                "#B0BEC5",
                "#B0BEC5",
                "#B0BEC5",
                "#B0BEC5",
                "#B0BEC5",
                "#B0BEC5",
                "#B0BEC5"
               ]
              ]
             }
            ],
            "label": "Topic 48",
            "method": "update"
           },
           {
            "args": [
             {
              "marker.color": [
               [
                "#B0BEC5",
                "#B0BEC5",
                "#B0BEC5",
                "#B0BEC5",
                "#B0BEC5",
                "#B0BEC5",
                "#B0BEC5",
                "#B0BEC5",
                "#B0BEC5",
                "#B0BEC5",
                "#B0BEC5",
                "#B0BEC5",
                "#B0BEC5",
                "#B0BEC5",
                "#B0BEC5",
                "#B0BEC5",
                "#B0BEC5",
                "#B0BEC5",
                "#B0BEC5",
                "#B0BEC5",
                "#B0BEC5",
                "#B0BEC5",
                "#B0BEC5",
                "#B0BEC5",
                "#B0BEC5",
                "#B0BEC5",
                "#B0BEC5",
                "#B0BEC5",
                "#B0BEC5",
                "#B0BEC5",
                "#B0BEC5",
                "#B0BEC5",
                "#B0BEC5",
                "#B0BEC5",
                "#B0BEC5",
                "#B0BEC5",
                "#B0BEC5",
                "#B0BEC5",
                "#B0BEC5",
                "#B0BEC5",
                "#B0BEC5",
                "#B0BEC5",
                "#B0BEC5",
                "#B0BEC5",
                "#B0BEC5",
                "#B0BEC5",
                "#B0BEC5",
                "#B0BEC5",
                "#B0BEC5",
                "red",
                "#B0BEC5",
                "#B0BEC5",
                "#B0BEC5",
                "#B0BEC5",
                "#B0BEC5",
                "#B0BEC5",
                "#B0BEC5",
                "#B0BEC5",
                "#B0BEC5",
                "#B0BEC5",
                "#B0BEC5",
                "#B0BEC5",
                "#B0BEC5",
                "#B0BEC5",
                "#B0BEC5",
                "#B0BEC5",
                "#B0BEC5",
                "#B0BEC5",
                "#B0BEC5",
                "#B0BEC5",
                "#B0BEC5"
               ]
              ]
             }
            ],
            "label": "Topic 49",
            "method": "update"
           },
           {
            "args": [
             {
              "marker.color": [
               [
                "#B0BEC5",
                "#B0BEC5",
                "#B0BEC5",
                "#B0BEC5",
                "#B0BEC5",
                "#B0BEC5",
                "#B0BEC5",
                "#B0BEC5",
                "#B0BEC5",
                "#B0BEC5",
                "#B0BEC5",
                "#B0BEC5",
                "#B0BEC5",
                "#B0BEC5",
                "#B0BEC5",
                "#B0BEC5",
                "#B0BEC5",
                "#B0BEC5",
                "#B0BEC5",
                "#B0BEC5",
                "#B0BEC5",
                "#B0BEC5",
                "#B0BEC5",
                "#B0BEC5",
                "#B0BEC5",
                "#B0BEC5",
                "#B0BEC5",
                "#B0BEC5",
                "#B0BEC5",
                "#B0BEC5",
                "#B0BEC5",
                "#B0BEC5",
                "#B0BEC5",
                "#B0BEC5",
                "#B0BEC5",
                "#B0BEC5",
                "#B0BEC5",
                "#B0BEC5",
                "#B0BEC5",
                "#B0BEC5",
                "#B0BEC5",
                "#B0BEC5",
                "#B0BEC5",
                "#B0BEC5",
                "#B0BEC5",
                "#B0BEC5",
                "#B0BEC5",
                "#B0BEC5",
                "#B0BEC5",
                "#B0BEC5",
                "red",
                "#B0BEC5",
                "#B0BEC5",
                "#B0BEC5",
                "#B0BEC5",
                "#B0BEC5",
                "#B0BEC5",
                "#B0BEC5",
                "#B0BEC5",
                "#B0BEC5",
                "#B0BEC5",
                "#B0BEC5",
                "#B0BEC5",
                "#B0BEC5",
                "#B0BEC5",
                "#B0BEC5",
                "#B0BEC5",
                "#B0BEC5",
                "#B0BEC5",
                "#B0BEC5",
                "#B0BEC5"
               ]
              ]
             }
            ],
            "label": "Topic 50",
            "method": "update"
           },
           {
            "args": [
             {
              "marker.color": [
               [
                "#B0BEC5",
                "#B0BEC5",
                "#B0BEC5",
                "#B0BEC5",
                "#B0BEC5",
                "#B0BEC5",
                "#B0BEC5",
                "#B0BEC5",
                "#B0BEC5",
                "#B0BEC5",
                "#B0BEC5",
                "#B0BEC5",
                "#B0BEC5",
                "#B0BEC5",
                "#B0BEC5",
                "#B0BEC5",
                "#B0BEC5",
                "#B0BEC5",
                "#B0BEC5",
                "#B0BEC5",
                "#B0BEC5",
                "#B0BEC5",
                "#B0BEC5",
                "#B0BEC5",
                "#B0BEC5",
                "#B0BEC5",
                "#B0BEC5",
                "#B0BEC5",
                "#B0BEC5",
                "#B0BEC5",
                "#B0BEC5",
                "#B0BEC5",
                "#B0BEC5",
                "#B0BEC5",
                "#B0BEC5",
                "#B0BEC5",
                "#B0BEC5",
                "#B0BEC5",
                "#B0BEC5",
                "#B0BEC5",
                "#B0BEC5",
                "#B0BEC5",
                "#B0BEC5",
                "#B0BEC5",
                "#B0BEC5",
                "#B0BEC5",
                "#B0BEC5",
                "#B0BEC5",
                "#B0BEC5",
                "#B0BEC5",
                "#B0BEC5",
                "red",
                "#B0BEC5",
                "#B0BEC5",
                "#B0BEC5",
                "#B0BEC5",
                "#B0BEC5",
                "#B0BEC5",
                "#B0BEC5",
                "#B0BEC5",
                "#B0BEC5",
                "#B0BEC5",
                "#B0BEC5",
                "#B0BEC5",
                "#B0BEC5",
                "#B0BEC5",
                "#B0BEC5",
                "#B0BEC5",
                "#B0BEC5",
                "#B0BEC5",
                "#B0BEC5"
               ]
              ]
             }
            ],
            "label": "Topic 51",
            "method": "update"
           },
           {
            "args": [
             {
              "marker.color": [
               [
                "#B0BEC5",
                "#B0BEC5",
                "#B0BEC5",
                "#B0BEC5",
                "#B0BEC5",
                "#B0BEC5",
                "#B0BEC5",
                "#B0BEC5",
                "#B0BEC5",
                "#B0BEC5",
                "#B0BEC5",
                "#B0BEC5",
                "#B0BEC5",
                "#B0BEC5",
                "#B0BEC5",
                "#B0BEC5",
                "#B0BEC5",
                "#B0BEC5",
                "#B0BEC5",
                "#B0BEC5",
                "#B0BEC5",
                "#B0BEC5",
                "#B0BEC5",
                "#B0BEC5",
                "#B0BEC5",
                "#B0BEC5",
                "#B0BEC5",
                "#B0BEC5",
                "#B0BEC5",
                "#B0BEC5",
                "#B0BEC5",
                "#B0BEC5",
                "#B0BEC5",
                "#B0BEC5",
                "#B0BEC5",
                "#B0BEC5",
                "#B0BEC5",
                "#B0BEC5",
                "#B0BEC5",
                "#B0BEC5",
                "#B0BEC5",
                "#B0BEC5",
                "#B0BEC5",
                "#B0BEC5",
                "#B0BEC5",
                "#B0BEC5",
                "#B0BEC5",
                "#B0BEC5",
                "#B0BEC5",
                "#B0BEC5",
                "#B0BEC5",
                "#B0BEC5",
                "red",
                "#B0BEC5",
                "#B0BEC5",
                "#B0BEC5",
                "#B0BEC5",
                "#B0BEC5",
                "#B0BEC5",
                "#B0BEC5",
                "#B0BEC5",
                "#B0BEC5",
                "#B0BEC5",
                "#B0BEC5",
                "#B0BEC5",
                "#B0BEC5",
                "#B0BEC5",
                "#B0BEC5",
                "#B0BEC5",
                "#B0BEC5",
                "#B0BEC5"
               ]
              ]
             }
            ],
            "label": "Topic 52",
            "method": "update"
           },
           {
            "args": [
             {
              "marker.color": [
               [
                "#B0BEC5",
                "#B0BEC5",
                "#B0BEC5",
                "#B0BEC5",
                "#B0BEC5",
                "#B0BEC5",
                "#B0BEC5",
                "#B0BEC5",
                "#B0BEC5",
                "#B0BEC5",
                "#B0BEC5",
                "#B0BEC5",
                "#B0BEC5",
                "#B0BEC5",
                "#B0BEC5",
                "#B0BEC5",
                "#B0BEC5",
                "#B0BEC5",
                "#B0BEC5",
                "#B0BEC5",
                "#B0BEC5",
                "#B0BEC5",
                "#B0BEC5",
                "#B0BEC5",
                "#B0BEC5",
                "#B0BEC5",
                "#B0BEC5",
                "#B0BEC5",
                "#B0BEC5",
                "#B0BEC5",
                "#B0BEC5",
                "#B0BEC5",
                "#B0BEC5",
                "#B0BEC5",
                "#B0BEC5",
                "#B0BEC5",
                "#B0BEC5",
                "#B0BEC5",
                "#B0BEC5",
                "#B0BEC5",
                "#B0BEC5",
                "#B0BEC5",
                "#B0BEC5",
                "#B0BEC5",
                "#B0BEC5",
                "#B0BEC5",
                "#B0BEC5",
                "#B0BEC5",
                "#B0BEC5",
                "#B0BEC5",
                "#B0BEC5",
                "#B0BEC5",
                "#B0BEC5",
                "red",
                "#B0BEC5",
                "#B0BEC5",
                "#B0BEC5",
                "#B0BEC5",
                "#B0BEC5",
                "#B0BEC5",
                "#B0BEC5",
                "#B0BEC5",
                "#B0BEC5",
                "#B0BEC5",
                "#B0BEC5",
                "#B0BEC5",
                "#B0BEC5",
                "#B0BEC5",
                "#B0BEC5",
                "#B0BEC5",
                "#B0BEC5"
               ]
              ]
             }
            ],
            "label": "Topic 53",
            "method": "update"
           },
           {
            "args": [
             {
              "marker.color": [
               [
                "#B0BEC5",
                "#B0BEC5",
                "#B0BEC5",
                "#B0BEC5",
                "#B0BEC5",
                "#B0BEC5",
                "#B0BEC5",
                "#B0BEC5",
                "#B0BEC5",
                "#B0BEC5",
                "#B0BEC5",
                "#B0BEC5",
                "#B0BEC5",
                "#B0BEC5",
                "#B0BEC5",
                "#B0BEC5",
                "#B0BEC5",
                "#B0BEC5",
                "#B0BEC5",
                "#B0BEC5",
                "#B0BEC5",
                "#B0BEC5",
                "#B0BEC5",
                "#B0BEC5",
                "#B0BEC5",
                "#B0BEC5",
                "#B0BEC5",
                "#B0BEC5",
                "#B0BEC5",
                "#B0BEC5",
                "#B0BEC5",
                "#B0BEC5",
                "#B0BEC5",
                "#B0BEC5",
                "#B0BEC5",
                "#B0BEC5",
                "#B0BEC5",
                "#B0BEC5",
                "#B0BEC5",
                "#B0BEC5",
                "#B0BEC5",
                "#B0BEC5",
                "#B0BEC5",
                "#B0BEC5",
                "#B0BEC5",
                "#B0BEC5",
                "#B0BEC5",
                "#B0BEC5",
                "#B0BEC5",
                "#B0BEC5",
                "#B0BEC5",
                "#B0BEC5",
                "#B0BEC5",
                "#B0BEC5",
                "red",
                "#B0BEC5",
                "#B0BEC5",
                "#B0BEC5",
                "#B0BEC5",
                "#B0BEC5",
                "#B0BEC5",
                "#B0BEC5",
                "#B0BEC5",
                "#B0BEC5",
                "#B0BEC5",
                "#B0BEC5",
                "#B0BEC5",
                "#B0BEC5",
                "#B0BEC5",
                "#B0BEC5",
                "#B0BEC5"
               ]
              ]
             }
            ],
            "label": "Topic 54",
            "method": "update"
           },
           {
            "args": [
             {
              "marker.color": [
               [
                "#B0BEC5",
                "#B0BEC5",
                "#B0BEC5",
                "#B0BEC5",
                "#B0BEC5",
                "#B0BEC5",
                "#B0BEC5",
                "#B0BEC5",
                "#B0BEC5",
                "#B0BEC5",
                "#B0BEC5",
                "#B0BEC5",
                "#B0BEC5",
                "#B0BEC5",
                "#B0BEC5",
                "#B0BEC5",
                "#B0BEC5",
                "#B0BEC5",
                "#B0BEC5",
                "#B0BEC5",
                "#B0BEC5",
                "#B0BEC5",
                "#B0BEC5",
                "#B0BEC5",
                "#B0BEC5",
                "#B0BEC5",
                "#B0BEC5",
                "#B0BEC5",
                "#B0BEC5",
                "#B0BEC5",
                "#B0BEC5",
                "#B0BEC5",
                "#B0BEC5",
                "#B0BEC5",
                "#B0BEC5",
                "#B0BEC5",
                "#B0BEC5",
                "#B0BEC5",
                "#B0BEC5",
                "#B0BEC5",
                "#B0BEC5",
                "#B0BEC5",
                "#B0BEC5",
                "#B0BEC5",
                "#B0BEC5",
                "#B0BEC5",
                "#B0BEC5",
                "#B0BEC5",
                "#B0BEC5",
                "#B0BEC5",
                "#B0BEC5",
                "#B0BEC5",
                "#B0BEC5",
                "#B0BEC5",
                "#B0BEC5",
                "red",
                "#B0BEC5",
                "#B0BEC5",
                "#B0BEC5",
                "#B0BEC5",
                "#B0BEC5",
                "#B0BEC5",
                "#B0BEC5",
                "#B0BEC5",
                "#B0BEC5",
                "#B0BEC5",
                "#B0BEC5",
                "#B0BEC5",
                "#B0BEC5",
                "#B0BEC5",
                "#B0BEC5"
               ]
              ]
             }
            ],
            "label": "Topic 55",
            "method": "update"
           },
           {
            "args": [
             {
              "marker.color": [
               [
                "#B0BEC5",
                "#B0BEC5",
                "#B0BEC5",
                "#B0BEC5",
                "#B0BEC5",
                "#B0BEC5",
                "#B0BEC5",
                "#B0BEC5",
                "#B0BEC5",
                "#B0BEC5",
                "#B0BEC5",
                "#B0BEC5",
                "#B0BEC5",
                "#B0BEC5",
                "#B0BEC5",
                "#B0BEC5",
                "#B0BEC5",
                "#B0BEC5",
                "#B0BEC5",
                "#B0BEC5",
                "#B0BEC5",
                "#B0BEC5",
                "#B0BEC5",
                "#B0BEC5",
                "#B0BEC5",
                "#B0BEC5",
                "#B0BEC5",
                "#B0BEC5",
                "#B0BEC5",
                "#B0BEC5",
                "#B0BEC5",
                "#B0BEC5",
                "#B0BEC5",
                "#B0BEC5",
                "#B0BEC5",
                "#B0BEC5",
                "#B0BEC5",
                "#B0BEC5",
                "#B0BEC5",
                "#B0BEC5",
                "#B0BEC5",
                "#B0BEC5",
                "#B0BEC5",
                "#B0BEC5",
                "#B0BEC5",
                "#B0BEC5",
                "#B0BEC5",
                "#B0BEC5",
                "#B0BEC5",
                "#B0BEC5",
                "#B0BEC5",
                "#B0BEC5",
                "#B0BEC5",
                "#B0BEC5",
                "#B0BEC5",
                "#B0BEC5",
                "red",
                "#B0BEC5",
                "#B0BEC5",
                "#B0BEC5",
                "#B0BEC5",
                "#B0BEC5",
                "#B0BEC5",
                "#B0BEC5",
                "#B0BEC5",
                "#B0BEC5",
                "#B0BEC5",
                "#B0BEC5",
                "#B0BEC5",
                "#B0BEC5",
                "#B0BEC5"
               ]
              ]
             }
            ],
            "label": "Topic 56",
            "method": "update"
           },
           {
            "args": [
             {
              "marker.color": [
               [
                "#B0BEC5",
                "#B0BEC5",
                "#B0BEC5",
                "#B0BEC5",
                "#B0BEC5",
                "#B0BEC5",
                "#B0BEC5",
                "#B0BEC5",
                "#B0BEC5",
                "#B0BEC5",
                "#B0BEC5",
                "#B0BEC5",
                "#B0BEC5",
                "#B0BEC5",
                "#B0BEC5",
                "#B0BEC5",
                "#B0BEC5",
                "#B0BEC5",
                "#B0BEC5",
                "#B0BEC5",
                "#B0BEC5",
                "#B0BEC5",
                "#B0BEC5",
                "#B0BEC5",
                "#B0BEC5",
                "#B0BEC5",
                "#B0BEC5",
                "#B0BEC5",
                "#B0BEC5",
                "#B0BEC5",
                "#B0BEC5",
                "#B0BEC5",
                "#B0BEC5",
                "#B0BEC5",
                "#B0BEC5",
                "#B0BEC5",
                "#B0BEC5",
                "#B0BEC5",
                "#B0BEC5",
                "#B0BEC5",
                "#B0BEC5",
                "#B0BEC5",
                "#B0BEC5",
                "#B0BEC5",
                "#B0BEC5",
                "#B0BEC5",
                "#B0BEC5",
                "#B0BEC5",
                "#B0BEC5",
                "#B0BEC5",
                "#B0BEC5",
                "#B0BEC5",
                "#B0BEC5",
                "#B0BEC5",
                "#B0BEC5",
                "#B0BEC5",
                "#B0BEC5",
                "red",
                "#B0BEC5",
                "#B0BEC5",
                "#B0BEC5",
                "#B0BEC5",
                "#B0BEC5",
                "#B0BEC5",
                "#B0BEC5",
                "#B0BEC5",
                "#B0BEC5",
                "#B0BEC5",
                "#B0BEC5",
                "#B0BEC5",
                "#B0BEC5"
               ]
              ]
             }
            ],
            "label": "Topic 57",
            "method": "update"
           },
           {
            "args": [
             {
              "marker.color": [
               [
                "#B0BEC5",
                "#B0BEC5",
                "#B0BEC5",
                "#B0BEC5",
                "#B0BEC5",
                "#B0BEC5",
                "#B0BEC5",
                "#B0BEC5",
                "#B0BEC5",
                "#B0BEC5",
                "#B0BEC5",
                "#B0BEC5",
                "#B0BEC5",
                "#B0BEC5",
                "#B0BEC5",
                "#B0BEC5",
                "#B0BEC5",
                "#B0BEC5",
                "#B0BEC5",
                "#B0BEC5",
                "#B0BEC5",
                "#B0BEC5",
                "#B0BEC5",
                "#B0BEC5",
                "#B0BEC5",
                "#B0BEC5",
                "#B0BEC5",
                "#B0BEC5",
                "#B0BEC5",
                "#B0BEC5",
                "#B0BEC5",
                "#B0BEC5",
                "#B0BEC5",
                "#B0BEC5",
                "#B0BEC5",
                "#B0BEC5",
                "#B0BEC5",
                "#B0BEC5",
                "#B0BEC5",
                "#B0BEC5",
                "#B0BEC5",
                "#B0BEC5",
                "#B0BEC5",
                "#B0BEC5",
                "#B0BEC5",
                "#B0BEC5",
                "#B0BEC5",
                "#B0BEC5",
                "#B0BEC5",
                "#B0BEC5",
                "#B0BEC5",
                "#B0BEC5",
                "#B0BEC5",
                "#B0BEC5",
                "#B0BEC5",
                "#B0BEC5",
                "#B0BEC5",
                "#B0BEC5",
                "red",
                "#B0BEC5",
                "#B0BEC5",
                "#B0BEC5",
                "#B0BEC5",
                "#B0BEC5",
                "#B0BEC5",
                "#B0BEC5",
                "#B0BEC5",
                "#B0BEC5",
                "#B0BEC5",
                "#B0BEC5",
                "#B0BEC5"
               ]
              ]
             }
            ],
            "label": "Topic 58",
            "method": "update"
           },
           {
            "args": [
             {
              "marker.color": [
               [
                "#B0BEC5",
                "#B0BEC5",
                "#B0BEC5",
                "#B0BEC5",
                "#B0BEC5",
                "#B0BEC5",
                "#B0BEC5",
                "#B0BEC5",
                "#B0BEC5",
                "#B0BEC5",
                "#B0BEC5",
                "#B0BEC5",
                "#B0BEC5",
                "#B0BEC5",
                "#B0BEC5",
                "#B0BEC5",
                "#B0BEC5",
                "#B0BEC5",
                "#B0BEC5",
                "#B0BEC5",
                "#B0BEC5",
                "#B0BEC5",
                "#B0BEC5",
                "#B0BEC5",
                "#B0BEC5",
                "#B0BEC5",
                "#B0BEC5",
                "#B0BEC5",
                "#B0BEC5",
                "#B0BEC5",
                "#B0BEC5",
                "#B0BEC5",
                "#B0BEC5",
                "#B0BEC5",
                "#B0BEC5",
                "#B0BEC5",
                "#B0BEC5",
                "#B0BEC5",
                "#B0BEC5",
                "#B0BEC5",
                "#B0BEC5",
                "#B0BEC5",
                "#B0BEC5",
                "#B0BEC5",
                "#B0BEC5",
                "#B0BEC5",
                "#B0BEC5",
                "#B0BEC5",
                "#B0BEC5",
                "#B0BEC5",
                "#B0BEC5",
                "#B0BEC5",
                "#B0BEC5",
                "#B0BEC5",
                "#B0BEC5",
                "#B0BEC5",
                "#B0BEC5",
                "#B0BEC5",
                "#B0BEC5",
                "red",
                "#B0BEC5",
                "#B0BEC5",
                "#B0BEC5",
                "#B0BEC5",
                "#B0BEC5",
                "#B0BEC5",
                "#B0BEC5",
                "#B0BEC5",
                "#B0BEC5",
                "#B0BEC5",
                "#B0BEC5"
               ]
              ]
             }
            ],
            "label": "Topic 59",
            "method": "update"
           },
           {
            "args": [
             {
              "marker.color": [
               [
                "#B0BEC5",
                "#B0BEC5",
                "#B0BEC5",
                "#B0BEC5",
                "#B0BEC5",
                "#B0BEC5",
                "#B0BEC5",
                "#B0BEC5",
                "#B0BEC5",
                "#B0BEC5",
                "#B0BEC5",
                "#B0BEC5",
                "#B0BEC5",
                "#B0BEC5",
                "#B0BEC5",
                "#B0BEC5",
                "#B0BEC5",
                "#B0BEC5",
                "#B0BEC5",
                "#B0BEC5",
                "#B0BEC5",
                "#B0BEC5",
                "#B0BEC5",
                "#B0BEC5",
                "#B0BEC5",
                "#B0BEC5",
                "#B0BEC5",
                "#B0BEC5",
                "#B0BEC5",
                "#B0BEC5",
                "#B0BEC5",
                "#B0BEC5",
                "#B0BEC5",
                "#B0BEC5",
                "#B0BEC5",
                "#B0BEC5",
                "#B0BEC5",
                "#B0BEC5",
                "#B0BEC5",
                "#B0BEC5",
                "#B0BEC5",
                "#B0BEC5",
                "#B0BEC5",
                "#B0BEC5",
                "#B0BEC5",
                "#B0BEC5",
                "#B0BEC5",
                "#B0BEC5",
                "#B0BEC5",
                "#B0BEC5",
                "#B0BEC5",
                "#B0BEC5",
                "#B0BEC5",
                "#B0BEC5",
                "#B0BEC5",
                "#B0BEC5",
                "#B0BEC5",
                "#B0BEC5",
                "#B0BEC5",
                "#B0BEC5",
                "red",
                "#B0BEC5",
                "#B0BEC5",
                "#B0BEC5",
                "#B0BEC5",
                "#B0BEC5",
                "#B0BEC5",
                "#B0BEC5",
                "#B0BEC5",
                "#B0BEC5",
                "#B0BEC5"
               ]
              ]
             }
            ],
            "label": "Topic 60",
            "method": "update"
           },
           {
            "args": [
             {
              "marker.color": [
               [
                "#B0BEC5",
                "#B0BEC5",
                "#B0BEC5",
                "#B0BEC5",
                "#B0BEC5",
                "#B0BEC5",
                "#B0BEC5",
                "#B0BEC5",
                "#B0BEC5",
                "#B0BEC5",
                "#B0BEC5",
                "#B0BEC5",
                "#B0BEC5",
                "#B0BEC5",
                "#B0BEC5",
                "#B0BEC5",
                "#B0BEC5",
                "#B0BEC5",
                "#B0BEC5",
                "#B0BEC5",
                "#B0BEC5",
                "#B0BEC5",
                "#B0BEC5",
                "#B0BEC5",
                "#B0BEC5",
                "#B0BEC5",
                "#B0BEC5",
                "#B0BEC5",
                "#B0BEC5",
                "#B0BEC5",
                "#B0BEC5",
                "#B0BEC5",
                "#B0BEC5",
                "#B0BEC5",
                "#B0BEC5",
                "#B0BEC5",
                "#B0BEC5",
                "#B0BEC5",
                "#B0BEC5",
                "#B0BEC5",
                "#B0BEC5",
                "#B0BEC5",
                "#B0BEC5",
                "#B0BEC5",
                "#B0BEC5",
                "#B0BEC5",
                "#B0BEC5",
                "#B0BEC5",
                "#B0BEC5",
                "#B0BEC5",
                "#B0BEC5",
                "#B0BEC5",
                "#B0BEC5",
                "#B0BEC5",
                "#B0BEC5",
                "#B0BEC5",
                "#B0BEC5",
                "#B0BEC5",
                "#B0BEC5",
                "#B0BEC5",
                "#B0BEC5",
                "red",
                "#B0BEC5",
                "#B0BEC5",
                "#B0BEC5",
                "#B0BEC5",
                "#B0BEC5",
                "#B0BEC5",
                "#B0BEC5",
                "#B0BEC5",
                "#B0BEC5"
               ]
              ]
             }
            ],
            "label": "Topic 61",
            "method": "update"
           },
           {
            "args": [
             {
              "marker.color": [
               [
                "#B0BEC5",
                "#B0BEC5",
                "#B0BEC5",
                "#B0BEC5",
                "#B0BEC5",
                "#B0BEC5",
                "#B0BEC5",
                "#B0BEC5",
                "#B0BEC5",
                "#B0BEC5",
                "#B0BEC5",
                "#B0BEC5",
                "#B0BEC5",
                "#B0BEC5",
                "#B0BEC5",
                "#B0BEC5",
                "#B0BEC5",
                "#B0BEC5",
                "#B0BEC5",
                "#B0BEC5",
                "#B0BEC5",
                "#B0BEC5",
                "#B0BEC5",
                "#B0BEC5",
                "#B0BEC5",
                "#B0BEC5",
                "#B0BEC5",
                "#B0BEC5",
                "#B0BEC5",
                "#B0BEC5",
                "#B0BEC5",
                "#B0BEC5",
                "#B0BEC5",
                "#B0BEC5",
                "#B0BEC5",
                "#B0BEC5",
                "#B0BEC5",
                "#B0BEC5",
                "#B0BEC5",
                "#B0BEC5",
                "#B0BEC5",
                "#B0BEC5",
                "#B0BEC5",
                "#B0BEC5",
                "#B0BEC5",
                "#B0BEC5",
                "#B0BEC5",
                "#B0BEC5",
                "#B0BEC5",
                "#B0BEC5",
                "#B0BEC5",
                "#B0BEC5",
                "#B0BEC5",
                "#B0BEC5",
                "#B0BEC5",
                "#B0BEC5",
                "#B0BEC5",
                "#B0BEC5",
                "#B0BEC5",
                "#B0BEC5",
                "#B0BEC5",
                "#B0BEC5",
                "red",
                "#B0BEC5",
                "#B0BEC5",
                "#B0BEC5",
                "#B0BEC5",
                "#B0BEC5",
                "#B0BEC5",
                "#B0BEC5",
                "#B0BEC5"
               ]
              ]
             }
            ],
            "label": "Topic 62",
            "method": "update"
           },
           {
            "args": [
             {
              "marker.color": [
               [
                "#B0BEC5",
                "#B0BEC5",
                "#B0BEC5",
                "#B0BEC5",
                "#B0BEC5",
                "#B0BEC5",
                "#B0BEC5",
                "#B0BEC5",
                "#B0BEC5",
                "#B0BEC5",
                "#B0BEC5",
                "#B0BEC5",
                "#B0BEC5",
                "#B0BEC5",
                "#B0BEC5",
                "#B0BEC5",
                "#B0BEC5",
                "#B0BEC5",
                "#B0BEC5",
                "#B0BEC5",
                "#B0BEC5",
                "#B0BEC5",
                "#B0BEC5",
                "#B0BEC5",
                "#B0BEC5",
                "#B0BEC5",
                "#B0BEC5",
                "#B0BEC5",
                "#B0BEC5",
                "#B0BEC5",
                "#B0BEC5",
                "#B0BEC5",
                "#B0BEC5",
                "#B0BEC5",
                "#B0BEC5",
                "#B0BEC5",
                "#B0BEC5",
                "#B0BEC5",
                "#B0BEC5",
                "#B0BEC5",
                "#B0BEC5",
                "#B0BEC5",
                "#B0BEC5",
                "#B0BEC5",
                "#B0BEC5",
                "#B0BEC5",
                "#B0BEC5",
                "#B0BEC5",
                "#B0BEC5",
                "#B0BEC5",
                "#B0BEC5",
                "#B0BEC5",
                "#B0BEC5",
                "#B0BEC5",
                "#B0BEC5",
                "#B0BEC5",
                "#B0BEC5",
                "#B0BEC5",
                "#B0BEC5",
                "#B0BEC5",
                "#B0BEC5",
                "#B0BEC5",
                "#B0BEC5",
                "red",
                "#B0BEC5",
                "#B0BEC5",
                "#B0BEC5",
                "#B0BEC5",
                "#B0BEC5",
                "#B0BEC5",
                "#B0BEC5"
               ]
              ]
             }
            ],
            "label": "Topic 63",
            "method": "update"
           },
           {
            "args": [
             {
              "marker.color": [
               [
                "#B0BEC5",
                "#B0BEC5",
                "#B0BEC5",
                "#B0BEC5",
                "#B0BEC5",
                "#B0BEC5",
                "#B0BEC5",
                "#B0BEC5",
                "#B0BEC5",
                "#B0BEC5",
                "#B0BEC5",
                "#B0BEC5",
                "#B0BEC5",
                "#B0BEC5",
                "#B0BEC5",
                "#B0BEC5",
                "#B0BEC5",
                "#B0BEC5",
                "#B0BEC5",
                "#B0BEC5",
                "#B0BEC5",
                "#B0BEC5",
                "#B0BEC5",
                "#B0BEC5",
                "#B0BEC5",
                "#B0BEC5",
                "#B0BEC5",
                "#B0BEC5",
                "#B0BEC5",
                "#B0BEC5",
                "#B0BEC5",
                "#B0BEC5",
                "#B0BEC5",
                "#B0BEC5",
                "#B0BEC5",
                "#B0BEC5",
                "#B0BEC5",
                "#B0BEC5",
                "#B0BEC5",
                "#B0BEC5",
                "#B0BEC5",
                "#B0BEC5",
                "#B0BEC5",
                "#B0BEC5",
                "#B0BEC5",
                "#B0BEC5",
                "#B0BEC5",
                "#B0BEC5",
                "#B0BEC5",
                "#B0BEC5",
                "#B0BEC5",
                "#B0BEC5",
                "#B0BEC5",
                "#B0BEC5",
                "#B0BEC5",
                "#B0BEC5",
                "#B0BEC5",
                "#B0BEC5",
                "#B0BEC5",
                "#B0BEC5",
                "#B0BEC5",
                "#B0BEC5",
                "#B0BEC5",
                "#B0BEC5",
                "red",
                "#B0BEC5",
                "#B0BEC5",
                "#B0BEC5",
                "#B0BEC5",
                "#B0BEC5",
                "#B0BEC5"
               ]
              ]
             }
            ],
            "label": "Topic 64",
            "method": "update"
           },
           {
            "args": [
             {
              "marker.color": [
               [
                "#B0BEC5",
                "#B0BEC5",
                "#B0BEC5",
                "#B0BEC5",
                "#B0BEC5",
                "#B0BEC5",
                "#B0BEC5",
                "#B0BEC5",
                "#B0BEC5",
                "#B0BEC5",
                "#B0BEC5",
                "#B0BEC5",
                "#B0BEC5",
                "#B0BEC5",
                "#B0BEC5",
                "#B0BEC5",
                "#B0BEC5",
                "#B0BEC5",
                "#B0BEC5",
                "#B0BEC5",
                "#B0BEC5",
                "#B0BEC5",
                "#B0BEC5",
                "#B0BEC5",
                "#B0BEC5",
                "#B0BEC5",
                "#B0BEC5",
                "#B0BEC5",
                "#B0BEC5",
                "#B0BEC5",
                "#B0BEC5",
                "#B0BEC5",
                "#B0BEC5",
                "#B0BEC5",
                "#B0BEC5",
                "#B0BEC5",
                "#B0BEC5",
                "#B0BEC5",
                "#B0BEC5",
                "#B0BEC5",
                "#B0BEC5",
                "#B0BEC5",
                "#B0BEC5",
                "#B0BEC5",
                "#B0BEC5",
                "#B0BEC5",
                "#B0BEC5",
                "#B0BEC5",
                "#B0BEC5",
                "#B0BEC5",
                "#B0BEC5",
                "#B0BEC5",
                "#B0BEC5",
                "#B0BEC5",
                "#B0BEC5",
                "#B0BEC5",
                "#B0BEC5",
                "#B0BEC5",
                "#B0BEC5",
                "#B0BEC5",
                "#B0BEC5",
                "#B0BEC5",
                "#B0BEC5",
                "#B0BEC5",
                "#B0BEC5",
                "red",
                "#B0BEC5",
                "#B0BEC5",
                "#B0BEC5",
                "#B0BEC5",
                "#B0BEC5"
               ]
              ]
             }
            ],
            "label": "Topic 65",
            "method": "update"
           },
           {
            "args": [
             {
              "marker.color": [
               [
                "#B0BEC5",
                "#B0BEC5",
                "#B0BEC5",
                "#B0BEC5",
                "#B0BEC5",
                "#B0BEC5",
                "#B0BEC5",
                "#B0BEC5",
                "#B0BEC5",
                "#B0BEC5",
                "#B0BEC5",
                "#B0BEC5",
                "#B0BEC5",
                "#B0BEC5",
                "#B0BEC5",
                "#B0BEC5",
                "#B0BEC5",
                "#B0BEC5",
                "#B0BEC5",
                "#B0BEC5",
                "#B0BEC5",
                "#B0BEC5",
                "#B0BEC5",
                "#B0BEC5",
                "#B0BEC5",
                "#B0BEC5",
                "#B0BEC5",
                "#B0BEC5",
                "#B0BEC5",
                "#B0BEC5",
                "#B0BEC5",
                "#B0BEC5",
                "#B0BEC5",
                "#B0BEC5",
                "#B0BEC5",
                "#B0BEC5",
                "#B0BEC5",
                "#B0BEC5",
                "#B0BEC5",
                "#B0BEC5",
                "#B0BEC5",
                "#B0BEC5",
                "#B0BEC5",
                "#B0BEC5",
                "#B0BEC5",
                "#B0BEC5",
                "#B0BEC5",
                "#B0BEC5",
                "#B0BEC5",
                "#B0BEC5",
                "#B0BEC5",
                "#B0BEC5",
                "#B0BEC5",
                "#B0BEC5",
                "#B0BEC5",
                "#B0BEC5",
                "#B0BEC5",
                "#B0BEC5",
                "#B0BEC5",
                "#B0BEC5",
                "#B0BEC5",
                "#B0BEC5",
                "#B0BEC5",
                "#B0BEC5",
                "#B0BEC5",
                "#B0BEC5",
                "red",
                "#B0BEC5",
                "#B0BEC5",
                "#B0BEC5",
                "#B0BEC5"
               ]
              ]
             }
            ],
            "label": "Topic 66",
            "method": "update"
           },
           {
            "args": [
             {
              "marker.color": [
               [
                "#B0BEC5",
                "#B0BEC5",
                "#B0BEC5",
                "#B0BEC5",
                "#B0BEC5",
                "#B0BEC5",
                "#B0BEC5",
                "#B0BEC5",
                "#B0BEC5",
                "#B0BEC5",
                "#B0BEC5",
                "#B0BEC5",
                "#B0BEC5",
                "#B0BEC5",
                "#B0BEC5",
                "#B0BEC5",
                "#B0BEC5",
                "#B0BEC5",
                "#B0BEC5",
                "#B0BEC5",
                "#B0BEC5",
                "#B0BEC5",
                "#B0BEC5",
                "#B0BEC5",
                "#B0BEC5",
                "#B0BEC5",
                "#B0BEC5",
                "#B0BEC5",
                "#B0BEC5",
                "#B0BEC5",
                "#B0BEC5",
                "#B0BEC5",
                "#B0BEC5",
                "#B0BEC5",
                "#B0BEC5",
                "#B0BEC5",
                "#B0BEC5",
                "#B0BEC5",
                "#B0BEC5",
                "#B0BEC5",
                "#B0BEC5",
                "#B0BEC5",
                "#B0BEC5",
                "#B0BEC5",
                "#B0BEC5",
                "#B0BEC5",
                "#B0BEC5",
                "#B0BEC5",
                "#B0BEC5",
                "#B0BEC5",
                "#B0BEC5",
                "#B0BEC5",
                "#B0BEC5",
                "#B0BEC5",
                "#B0BEC5",
                "#B0BEC5",
                "#B0BEC5",
                "#B0BEC5",
                "#B0BEC5",
                "#B0BEC5",
                "#B0BEC5",
                "#B0BEC5",
                "#B0BEC5",
                "#B0BEC5",
                "#B0BEC5",
                "#B0BEC5",
                "#B0BEC5",
                "red",
                "#B0BEC5",
                "#B0BEC5",
                "#B0BEC5"
               ]
              ]
             }
            ],
            "label": "Topic 67",
            "method": "update"
           },
           {
            "args": [
             {
              "marker.color": [
               [
                "#B0BEC5",
                "#B0BEC5",
                "#B0BEC5",
                "#B0BEC5",
                "#B0BEC5",
                "#B0BEC5",
                "#B0BEC5",
                "#B0BEC5",
                "#B0BEC5",
                "#B0BEC5",
                "#B0BEC5",
                "#B0BEC5",
                "#B0BEC5",
                "#B0BEC5",
                "#B0BEC5",
                "#B0BEC5",
                "#B0BEC5",
                "#B0BEC5",
                "#B0BEC5",
                "#B0BEC5",
                "#B0BEC5",
                "#B0BEC5",
                "#B0BEC5",
                "#B0BEC5",
                "#B0BEC5",
                "#B0BEC5",
                "#B0BEC5",
                "#B0BEC5",
                "#B0BEC5",
                "#B0BEC5",
                "#B0BEC5",
                "#B0BEC5",
                "#B0BEC5",
                "#B0BEC5",
                "#B0BEC5",
                "#B0BEC5",
                "#B0BEC5",
                "#B0BEC5",
                "#B0BEC5",
                "#B0BEC5",
                "#B0BEC5",
                "#B0BEC5",
                "#B0BEC5",
                "#B0BEC5",
                "#B0BEC5",
                "#B0BEC5",
                "#B0BEC5",
                "#B0BEC5",
                "#B0BEC5",
                "#B0BEC5",
                "#B0BEC5",
                "#B0BEC5",
                "#B0BEC5",
                "#B0BEC5",
                "#B0BEC5",
                "#B0BEC5",
                "#B0BEC5",
                "#B0BEC5",
                "#B0BEC5",
                "#B0BEC5",
                "#B0BEC5",
                "#B0BEC5",
                "#B0BEC5",
                "#B0BEC5",
                "#B0BEC5",
                "#B0BEC5",
                "#B0BEC5",
                "#B0BEC5",
                "red",
                "#B0BEC5",
                "#B0BEC5"
               ]
              ]
             }
            ],
            "label": "Topic 68",
            "method": "update"
           },
           {
            "args": [
             {
              "marker.color": [
               [
                "#B0BEC5",
                "#B0BEC5",
                "#B0BEC5",
                "#B0BEC5",
                "#B0BEC5",
                "#B0BEC5",
                "#B0BEC5",
                "#B0BEC5",
                "#B0BEC5",
                "#B0BEC5",
                "#B0BEC5",
                "#B0BEC5",
                "#B0BEC5",
                "#B0BEC5",
                "#B0BEC5",
                "#B0BEC5",
                "#B0BEC5",
                "#B0BEC5",
                "#B0BEC5",
                "#B0BEC5",
                "#B0BEC5",
                "#B0BEC5",
                "#B0BEC5",
                "#B0BEC5",
                "#B0BEC5",
                "#B0BEC5",
                "#B0BEC5",
                "#B0BEC5",
                "#B0BEC5",
                "#B0BEC5",
                "#B0BEC5",
                "#B0BEC5",
                "#B0BEC5",
                "#B0BEC5",
                "#B0BEC5",
                "#B0BEC5",
                "#B0BEC5",
                "#B0BEC5",
                "#B0BEC5",
                "#B0BEC5",
                "#B0BEC5",
                "#B0BEC5",
                "#B0BEC5",
                "#B0BEC5",
                "#B0BEC5",
                "#B0BEC5",
                "#B0BEC5",
                "#B0BEC5",
                "#B0BEC5",
                "#B0BEC5",
                "#B0BEC5",
                "#B0BEC5",
                "#B0BEC5",
                "#B0BEC5",
                "#B0BEC5",
                "#B0BEC5",
                "#B0BEC5",
                "#B0BEC5",
                "#B0BEC5",
                "#B0BEC5",
                "#B0BEC5",
                "#B0BEC5",
                "#B0BEC5",
                "#B0BEC5",
                "#B0BEC5",
                "#B0BEC5",
                "#B0BEC5",
                "#B0BEC5",
                "#B0BEC5",
                "red",
                "#B0BEC5"
               ]
              ]
             }
            ],
            "label": "Topic 69",
            "method": "update"
           },
           {
            "args": [
             {
              "marker.color": [
               [
                "#B0BEC5",
                "#B0BEC5",
                "#B0BEC5",
                "#B0BEC5",
                "#B0BEC5",
                "#B0BEC5",
                "#B0BEC5",
                "#B0BEC5",
                "#B0BEC5",
                "#B0BEC5",
                "#B0BEC5",
                "#B0BEC5",
                "#B0BEC5",
                "#B0BEC5",
                "#B0BEC5",
                "#B0BEC5",
                "#B0BEC5",
                "#B0BEC5",
                "#B0BEC5",
                "#B0BEC5",
                "#B0BEC5",
                "#B0BEC5",
                "#B0BEC5",
                "#B0BEC5",
                "#B0BEC5",
                "#B0BEC5",
                "#B0BEC5",
                "#B0BEC5",
                "#B0BEC5",
                "#B0BEC5",
                "#B0BEC5",
                "#B0BEC5",
                "#B0BEC5",
                "#B0BEC5",
                "#B0BEC5",
                "#B0BEC5",
                "#B0BEC5",
                "#B0BEC5",
                "#B0BEC5",
                "#B0BEC5",
                "#B0BEC5",
                "#B0BEC5",
                "#B0BEC5",
                "#B0BEC5",
                "#B0BEC5",
                "#B0BEC5",
                "#B0BEC5",
                "#B0BEC5",
                "#B0BEC5",
                "#B0BEC5",
                "#B0BEC5",
                "#B0BEC5",
                "#B0BEC5",
                "#B0BEC5",
                "#B0BEC5",
                "#B0BEC5",
                "#B0BEC5",
                "#B0BEC5",
                "#B0BEC5",
                "#B0BEC5",
                "#B0BEC5",
                "#B0BEC5",
                "#B0BEC5",
                "#B0BEC5",
                "#B0BEC5",
                "#B0BEC5",
                "#B0BEC5",
                "#B0BEC5",
                "#B0BEC5",
                "#B0BEC5",
                "red"
               ]
              ]
             }
            ],
            "label": "Topic 70",
            "method": "update"
           }
          ]
         }
        ],
        "template": {
         "data": {
          "bar": [
           {
            "error_x": {
             "color": "rgb(36,36,36)"
            },
            "error_y": {
             "color": "rgb(36,36,36)"
            },
            "marker": {
             "line": {
              "color": "white",
              "width": 0.5
             },
             "pattern": {
              "fillmode": "overlay",
              "size": 10,
              "solidity": 0.2
             }
            },
            "type": "bar"
           }
          ],
          "barpolar": [
           {
            "marker": {
             "line": {
              "color": "white",
              "width": 0.5
             },
             "pattern": {
              "fillmode": "overlay",
              "size": 10,
              "solidity": 0.2
             }
            },
            "type": "barpolar"
           }
          ],
          "carpet": [
           {
            "aaxis": {
             "endlinecolor": "rgb(36,36,36)",
             "gridcolor": "white",
             "linecolor": "white",
             "minorgridcolor": "white",
             "startlinecolor": "rgb(36,36,36)"
            },
            "baxis": {
             "endlinecolor": "rgb(36,36,36)",
             "gridcolor": "white",
             "linecolor": "white",
             "minorgridcolor": "white",
             "startlinecolor": "rgb(36,36,36)"
            },
            "type": "carpet"
           }
          ],
          "choropleth": [
           {
            "colorbar": {
             "outlinewidth": 1,
             "tickcolor": "rgb(36,36,36)",
             "ticks": "outside"
            },
            "type": "choropleth"
           }
          ],
          "contour": [
           {
            "colorbar": {
             "outlinewidth": 1,
             "tickcolor": "rgb(36,36,36)",
             "ticks": "outside"
            },
            "colorscale": [
             [
              0,
              "#440154"
             ],
             [
              0.1111111111111111,
              "#482878"
             ],
             [
              0.2222222222222222,
              "#3e4989"
             ],
             [
              0.3333333333333333,
              "#31688e"
             ],
             [
              0.4444444444444444,
              "#26828e"
             ],
             [
              0.5555555555555556,
              "#1f9e89"
             ],
             [
              0.6666666666666666,
              "#35b779"
             ],
             [
              0.7777777777777778,
              "#6ece58"
             ],
             [
              0.8888888888888888,
              "#b5de2b"
             ],
             [
              1,
              "#fde725"
             ]
            ],
            "type": "contour"
           }
          ],
          "contourcarpet": [
           {
            "colorbar": {
             "outlinewidth": 1,
             "tickcolor": "rgb(36,36,36)",
             "ticks": "outside"
            },
            "type": "contourcarpet"
           }
          ],
          "heatmap": [
           {
            "colorbar": {
             "outlinewidth": 1,
             "tickcolor": "rgb(36,36,36)",
             "ticks": "outside"
            },
            "colorscale": [
             [
              0,
              "#440154"
             ],
             [
              0.1111111111111111,
              "#482878"
             ],
             [
              0.2222222222222222,
              "#3e4989"
             ],
             [
              0.3333333333333333,
              "#31688e"
             ],
             [
              0.4444444444444444,
              "#26828e"
             ],
             [
              0.5555555555555556,
              "#1f9e89"
             ],
             [
              0.6666666666666666,
              "#35b779"
             ],
             [
              0.7777777777777778,
              "#6ece58"
             ],
             [
              0.8888888888888888,
              "#b5de2b"
             ],
             [
              1,
              "#fde725"
             ]
            ],
            "type": "heatmap"
           }
          ],
          "heatmapgl": [
           {
            "colorbar": {
             "outlinewidth": 1,
             "tickcolor": "rgb(36,36,36)",
             "ticks": "outside"
            },
            "colorscale": [
             [
              0,
              "#440154"
             ],
             [
              0.1111111111111111,
              "#482878"
             ],
             [
              0.2222222222222222,
              "#3e4989"
             ],
             [
              0.3333333333333333,
              "#31688e"
             ],
             [
              0.4444444444444444,
              "#26828e"
             ],
             [
              0.5555555555555556,
              "#1f9e89"
             ],
             [
              0.6666666666666666,
              "#35b779"
             ],
             [
              0.7777777777777778,
              "#6ece58"
             ],
             [
              0.8888888888888888,
              "#b5de2b"
             ],
             [
              1,
              "#fde725"
             ]
            ],
            "type": "heatmapgl"
           }
          ],
          "histogram": [
           {
            "marker": {
             "line": {
              "color": "white",
              "width": 0.6
             }
            },
            "type": "histogram"
           }
          ],
          "histogram2d": [
           {
            "colorbar": {
             "outlinewidth": 1,
             "tickcolor": "rgb(36,36,36)",
             "ticks": "outside"
            },
            "colorscale": [
             [
              0,
              "#440154"
             ],
             [
              0.1111111111111111,
              "#482878"
             ],
             [
              0.2222222222222222,
              "#3e4989"
             ],
             [
              0.3333333333333333,
              "#31688e"
             ],
             [
              0.4444444444444444,
              "#26828e"
             ],
             [
              0.5555555555555556,
              "#1f9e89"
             ],
             [
              0.6666666666666666,
              "#35b779"
             ],
             [
              0.7777777777777778,
              "#6ece58"
             ],
             [
              0.8888888888888888,
              "#b5de2b"
             ],
             [
              1,
              "#fde725"
             ]
            ],
            "type": "histogram2d"
           }
          ],
          "histogram2dcontour": [
           {
            "colorbar": {
             "outlinewidth": 1,
             "tickcolor": "rgb(36,36,36)",
             "ticks": "outside"
            },
            "colorscale": [
             [
              0,
              "#440154"
             ],
             [
              0.1111111111111111,
              "#482878"
             ],
             [
              0.2222222222222222,
              "#3e4989"
             ],
             [
              0.3333333333333333,
              "#31688e"
             ],
             [
              0.4444444444444444,
              "#26828e"
             ],
             [
              0.5555555555555556,
              "#1f9e89"
             ],
             [
              0.6666666666666666,
              "#35b779"
             ],
             [
              0.7777777777777778,
              "#6ece58"
             ],
             [
              0.8888888888888888,
              "#b5de2b"
             ],
             [
              1,
              "#fde725"
             ]
            ],
            "type": "histogram2dcontour"
           }
          ],
          "mesh3d": [
           {
            "colorbar": {
             "outlinewidth": 1,
             "tickcolor": "rgb(36,36,36)",
             "ticks": "outside"
            },
            "type": "mesh3d"
           }
          ],
          "parcoords": [
           {
            "line": {
             "colorbar": {
              "outlinewidth": 1,
              "tickcolor": "rgb(36,36,36)",
              "ticks": "outside"
             }
            },
            "type": "parcoords"
           }
          ],
          "pie": [
           {
            "automargin": true,
            "type": "pie"
           }
          ],
          "scatter": [
           {
            "fillpattern": {
             "fillmode": "overlay",
             "size": 10,
             "solidity": 0.2
            },
            "type": "scatter"
           }
          ],
          "scatter3d": [
           {
            "line": {
             "colorbar": {
              "outlinewidth": 1,
              "tickcolor": "rgb(36,36,36)",
              "ticks": "outside"
             }
            },
            "marker": {
             "colorbar": {
              "outlinewidth": 1,
              "tickcolor": "rgb(36,36,36)",
              "ticks": "outside"
             }
            },
            "type": "scatter3d"
           }
          ],
          "scattercarpet": [
           {
            "marker": {
             "colorbar": {
              "outlinewidth": 1,
              "tickcolor": "rgb(36,36,36)",
              "ticks": "outside"
             }
            },
            "type": "scattercarpet"
           }
          ],
          "scattergeo": [
           {
            "marker": {
             "colorbar": {
              "outlinewidth": 1,
              "tickcolor": "rgb(36,36,36)",
              "ticks": "outside"
             }
            },
            "type": "scattergeo"
           }
          ],
          "scattergl": [
           {
            "marker": {
             "colorbar": {
              "outlinewidth": 1,
              "tickcolor": "rgb(36,36,36)",
              "ticks": "outside"
             }
            },
            "type": "scattergl"
           }
          ],
          "scattermapbox": [
           {
            "marker": {
             "colorbar": {
              "outlinewidth": 1,
              "tickcolor": "rgb(36,36,36)",
              "ticks": "outside"
             }
            },
            "type": "scattermapbox"
           }
          ],
          "scatterpolar": [
           {
            "marker": {
             "colorbar": {
              "outlinewidth": 1,
              "tickcolor": "rgb(36,36,36)",
              "ticks": "outside"
             }
            },
            "type": "scatterpolar"
           }
          ],
          "scatterpolargl": [
           {
            "marker": {
             "colorbar": {
              "outlinewidth": 1,
              "tickcolor": "rgb(36,36,36)",
              "ticks": "outside"
             }
            },
            "type": "scatterpolargl"
           }
          ],
          "scatterternary": [
           {
            "marker": {
             "colorbar": {
              "outlinewidth": 1,
              "tickcolor": "rgb(36,36,36)",
              "ticks": "outside"
             }
            },
            "type": "scatterternary"
           }
          ],
          "surface": [
           {
            "colorbar": {
             "outlinewidth": 1,
             "tickcolor": "rgb(36,36,36)",
             "ticks": "outside"
            },
            "colorscale": [
             [
              0,
              "#440154"
             ],
             [
              0.1111111111111111,
              "#482878"
             ],
             [
              0.2222222222222222,
              "#3e4989"
             ],
             [
              0.3333333333333333,
              "#31688e"
             ],
             [
              0.4444444444444444,
              "#26828e"
             ],
             [
              0.5555555555555556,
              "#1f9e89"
             ],
             [
              0.6666666666666666,
              "#35b779"
             ],
             [
              0.7777777777777778,
              "#6ece58"
             ],
             [
              0.8888888888888888,
              "#b5de2b"
             ],
             [
              1,
              "#fde725"
             ]
            ],
            "type": "surface"
           }
          ],
          "table": [
           {
            "cells": {
             "fill": {
              "color": "rgb(237,237,237)"
             },
             "line": {
              "color": "white"
             }
            },
            "header": {
             "fill": {
              "color": "rgb(217,217,217)"
             },
             "line": {
              "color": "white"
             }
            },
            "type": "table"
           }
          ]
         },
         "layout": {
          "annotationdefaults": {
           "arrowhead": 0,
           "arrowwidth": 1
          },
          "autotypenumbers": "strict",
          "coloraxis": {
           "colorbar": {
            "outlinewidth": 1,
            "tickcolor": "rgb(36,36,36)",
            "ticks": "outside"
           }
          },
          "colorscale": {
           "diverging": [
            [
             0,
             "rgb(103,0,31)"
            ],
            [
             0.1,
             "rgb(178,24,43)"
            ],
            [
             0.2,
             "rgb(214,96,77)"
            ],
            [
             0.3,
             "rgb(244,165,130)"
            ],
            [
             0.4,
             "rgb(253,219,199)"
            ],
            [
             0.5,
             "rgb(247,247,247)"
            ],
            [
             0.6,
             "rgb(209,229,240)"
            ],
            [
             0.7,
             "rgb(146,197,222)"
            ],
            [
             0.8,
             "rgb(67,147,195)"
            ],
            [
             0.9,
             "rgb(33,102,172)"
            ],
            [
             1,
             "rgb(5,48,97)"
            ]
           ],
           "sequential": [
            [
             0,
             "#440154"
            ],
            [
             0.1111111111111111,
             "#482878"
            ],
            [
             0.2222222222222222,
             "#3e4989"
            ],
            [
             0.3333333333333333,
             "#31688e"
            ],
            [
             0.4444444444444444,
             "#26828e"
            ],
            [
             0.5555555555555556,
             "#1f9e89"
            ],
            [
             0.6666666666666666,
             "#35b779"
            ],
            [
             0.7777777777777778,
             "#6ece58"
            ],
            [
             0.8888888888888888,
             "#b5de2b"
            ],
            [
             1,
             "#fde725"
            ]
           ],
           "sequentialminus": [
            [
             0,
             "#440154"
            ],
            [
             0.1111111111111111,
             "#482878"
            ],
            [
             0.2222222222222222,
             "#3e4989"
            ],
            [
             0.3333333333333333,
             "#31688e"
            ],
            [
             0.4444444444444444,
             "#26828e"
            ],
            [
             0.5555555555555556,
             "#1f9e89"
            ],
            [
             0.6666666666666666,
             "#35b779"
            ],
            [
             0.7777777777777778,
             "#6ece58"
            ],
            [
             0.8888888888888888,
             "#b5de2b"
            ],
            [
             1,
             "#fde725"
            ]
           ]
          },
          "colorway": [
           "#1F77B4",
           "#FF7F0E",
           "#2CA02C",
           "#D62728",
           "#9467BD",
           "#8C564B",
           "#E377C2",
           "#7F7F7F",
           "#BCBD22",
           "#17BECF"
          ],
          "font": {
           "color": "rgb(36,36,36)"
          },
          "geo": {
           "bgcolor": "white",
           "lakecolor": "white",
           "landcolor": "white",
           "showlakes": true,
           "showland": true,
           "subunitcolor": "white"
          },
          "hoverlabel": {
           "align": "left"
          },
          "hovermode": "closest",
          "mapbox": {
           "style": "light"
          },
          "paper_bgcolor": "white",
          "plot_bgcolor": "white",
          "polar": {
           "angularaxis": {
            "gridcolor": "rgb(232,232,232)",
            "linecolor": "rgb(36,36,36)",
            "showgrid": false,
            "showline": true,
            "ticks": "outside"
           },
           "bgcolor": "white",
           "radialaxis": {
            "gridcolor": "rgb(232,232,232)",
            "linecolor": "rgb(36,36,36)",
            "showgrid": false,
            "showline": true,
            "ticks": "outside"
           }
          },
          "scene": {
           "xaxis": {
            "backgroundcolor": "white",
            "gridcolor": "rgb(232,232,232)",
            "gridwidth": 2,
            "linecolor": "rgb(36,36,36)",
            "showbackground": true,
            "showgrid": false,
            "showline": true,
            "ticks": "outside",
            "zeroline": false,
            "zerolinecolor": "rgb(36,36,36)"
           },
           "yaxis": {
            "backgroundcolor": "white",
            "gridcolor": "rgb(232,232,232)",
            "gridwidth": 2,
            "linecolor": "rgb(36,36,36)",
            "showbackground": true,
            "showgrid": false,
            "showline": true,
            "ticks": "outside",
            "zeroline": false,
            "zerolinecolor": "rgb(36,36,36)"
           },
           "zaxis": {
            "backgroundcolor": "white",
            "gridcolor": "rgb(232,232,232)",
            "gridwidth": 2,
            "linecolor": "rgb(36,36,36)",
            "showbackground": true,
            "showgrid": false,
            "showline": true,
            "ticks": "outside",
            "zeroline": false,
            "zerolinecolor": "rgb(36,36,36)"
           }
          },
          "shapedefaults": {
           "fillcolor": "black",
           "line": {
            "width": 0
           },
           "opacity": 0.3
          },
          "ternary": {
           "aaxis": {
            "gridcolor": "rgb(232,232,232)",
            "linecolor": "rgb(36,36,36)",
            "showgrid": false,
            "showline": true,
            "ticks": "outside"
           },
           "baxis": {
            "gridcolor": "rgb(232,232,232)",
            "linecolor": "rgb(36,36,36)",
            "showgrid": false,
            "showline": true,
            "ticks": "outside"
           },
           "bgcolor": "white",
           "caxis": {
            "gridcolor": "rgb(232,232,232)",
            "linecolor": "rgb(36,36,36)",
            "showgrid": false,
            "showline": true,
            "ticks": "outside"
           }
          },
          "title": {
           "x": 0.05
          },
          "xaxis": {
           "automargin": true,
           "gridcolor": "rgb(232,232,232)",
           "linecolor": "rgb(36,36,36)",
           "showgrid": false,
           "showline": true,
           "ticks": "outside",
           "title": {
            "standoff": 15
           },
           "zeroline": false,
           "zerolinecolor": "rgb(36,36,36)"
          },
          "yaxis": {
           "automargin": true,
           "gridcolor": "rgb(232,232,232)",
           "linecolor": "rgb(36,36,36)",
           "showgrid": false,
           "showline": true,
           "ticks": "outside",
           "title": {
            "standoff": 15
           },
           "zeroline": false,
           "zerolinecolor": "rgb(36,36,36)"
          }
         }
        },
        "title": {
         "font": {
          "color": "Black",
          "size": 22
         },
         "text": "<b>Intertopic Distance Map</b>",
         "x": 0.5,
         "xanchor": "center",
         "y": 0.95,
         "yanchor": "top"
        },
        "width": 650,
        "xaxis": {
         "anchor": "y",
         "domain": [
          0,
          1
         ],
         "range": [
          -17.082182359695434,
          19.532421684265138
         ],
         "title": {
          "text": ""
         },
         "visible": false
        },
        "yaxis": {
         "anchor": "x",
         "domain": [
          0,
          1
         ],
         "range": [
          -8.77344343662262,
          20.976684093475342
         ],
         "title": {
          "text": ""
         },
         "visible": false
        }
       }
      }
     },
     "metadata": {},
     "output_type": "display_data"
    }
   ],
   "source": [
    "print(topic_model.get_topic(-1)) \n",
    "# Visualisation des topics\n",
    "topic_model.visualize_topics()\n"
   ]
  },
  {
   "cell_type": "code",
   "execution_count": 12,
   "metadata": {},
   "outputs": [
    {
     "data": {
      "application/vnd.plotly.v1+json": {
       "config": {
        "plotlyServerURL": "https://plot.ly"
       },
       "data": [
        {
         "hoverinfo": "text",
         "marker": {
          "color": "rgb(61,153,112)"
         },
         "mode": "lines",
         "type": "scatter",
         "x": [
          0,
          0.7340139848630308,
          0.7340139848630308,
          0
         ],
         "xaxis": "x",
         "y": [
          -5,
          -5,
          -15,
          -15
         ],
         "yaxis": "y"
        },
        {
         "hoverinfo": "text",
         "marker": {
          "color": "rgb(255,65,54)"
         },
         "mode": "lines",
         "type": "scatter",
         "x": [
          0,
          0.8785537167670504,
          0.8785537167670504,
          0
         ],
         "xaxis": "x",
         "y": [
          -35,
          -35,
          -45,
          -45
         ],
         "yaxis": "y"
        },
        {
         "hoverinfo": "text",
         "marker": {
          "color": "rgb(255,65,54)"
         },
         "mode": "lines",
         "type": "scatter",
         "x": [
          0,
          0.9665421060332317,
          0.9665421060332317,
          0.8785537167670504
         ],
         "xaxis": "x",
         "y": [
          -25,
          -25,
          -40,
          -40
         ],
         "yaxis": "y"
        },
        {
         "hoverinfo": "text",
         "marker": {
          "color": "rgb(255,65,54)"
         },
         "mode": "lines",
         "type": "scatter",
         "x": [
          0,
          0.7275364864754073,
          0.7275364864754073,
          0
         ],
         "xaxis": "x",
         "y": [
          -75,
          -75,
          -85,
          -85
         ],
         "yaxis": "y"
        },
        {
         "hoverinfo": "text",
         "marker": {
          "color": "rgb(255,65,54)"
         },
         "mode": "lines",
         "type": "scatter",
         "x": [
          0,
          0.8266035668672691,
          0.8266035668672691,
          0.7275364864754073
         ],
         "xaxis": "x",
         "y": [
          -65,
          -65,
          -80,
          -80
         ],
         "yaxis": "y"
        },
        {
         "hoverinfo": "text",
         "marker": {
          "color": "rgb(255,65,54)"
         },
         "mode": "lines",
         "type": "scatter",
         "x": [
          0.8266035668672691,
          0.8817609952799843,
          0.8817609952799843,
          0
         ],
         "xaxis": "x",
         "y": [
          -72.5,
          -72.5,
          -95,
          -95
         ],
         "yaxis": "y"
        },
        {
         "hoverinfo": "text",
         "marker": {
          "color": "rgb(255,65,54)"
         },
         "mode": "lines",
         "type": "scatter",
         "x": [
          0,
          0.918947328668911,
          0.918947328668911,
          0.8817609952799843
         ],
         "xaxis": "x",
         "y": [
          -55,
          -55,
          -83.75,
          -83.75
         ],
         "yaxis": "y"
        },
        {
         "hoverinfo": "text",
         "marker": {
          "color": "rgb(255,65,54)"
         },
         "mode": "lines",
         "type": "scatter",
         "x": [
          0,
          0.88925118106341,
          0.88925118106341,
          0
         ],
         "xaxis": "x",
         "y": [
          -105,
          -105,
          -115,
          -115
         ],
         "yaxis": "y"
        },
        {
         "hoverinfo": "text",
         "marker": {
          "color": "rgb(255,65,54)"
         },
         "mode": "lines",
         "type": "scatter",
         "x": [
          0.88925118106341,
          0.9287671124260191,
          0.9287671124260191,
          0
         ],
         "xaxis": "x",
         "y": [
          -110,
          -110,
          -125,
          -125
         ],
         "yaxis": "y"
        },
        {
         "hoverinfo": "text",
         "marker": {
          "color": "rgb(255,65,54)"
         },
         "mode": "lines",
         "type": "scatter",
         "x": [
          0.918947328668911,
          0.9655735259945726,
          0.9655735259945726,
          0.9287671124260191
         ],
         "xaxis": "x",
         "y": [
          -69.375,
          -69.375,
          -117.5,
          -117.5
         ],
         "yaxis": "y"
        },
        {
         "hoverinfo": "text",
         "marker": {
          "color": "rgb(255,65,54)"
         },
         "mode": "lines",
         "type": "scatter",
         "x": [
          0.9665421060332317,
          0.9886536273678053,
          0.9886536273678053,
          0.9655735259945726
         ],
         "xaxis": "x",
         "y": [
          -32.5,
          -32.5,
          -93.4375,
          -93.4375
         ],
         "yaxis": "y"
        },
        {
         "hoverinfo": "text",
         "marker": {
          "color": "rgb(35,205,205)"
         },
         "mode": "lines",
         "type": "scatter",
         "x": [
          0,
          0.8209753722021632,
          0.8209753722021632,
          0
         ],
         "xaxis": "x",
         "y": [
          -135,
          -135,
          -145,
          -145
         ],
         "yaxis": "y"
        },
        {
         "hoverinfo": "text",
         "marker": {
          "color": "rgb(35,205,205)"
         },
         "mode": "lines",
         "type": "scatter",
         "x": [
          0.8209753722021632,
          0.952442544446868,
          0.952442544446868,
          0
         ],
         "xaxis": "x",
         "y": [
          -140,
          -140,
          -155,
          -155
         ],
         "yaxis": "y"
        },
        {
         "hoverinfo": "text",
         "marker": {
          "color": "rgb(0,116,217)"
         },
         "mode": "lines",
         "type": "scatter",
         "x": [
          0.9886536273678053,
          1.0388180614652363,
          1.0388180614652363,
          0.952442544446868
         ],
         "xaxis": "x",
         "y": [
          -62.96875,
          -62.96875,
          -147.5,
          -147.5
         ],
         "yaxis": "y"
        },
        {
         "hoverinfo": "text",
         "marker": {
          "color": "rgb(0,116,217)"
         },
         "mode": "lines",
         "type": "scatter",
         "x": [
          0.7340139848630308,
          1.1465662016576819,
          1.1465662016576819,
          1.0388180614652363
         ],
         "xaxis": "x",
         "y": [
          -10,
          -10,
          -105.234375,
          -105.234375
         ],
         "yaxis": "y"
        },
        {
         "hoverinfo": "text",
         "marker": {
          "color": "rgb(133,20,75)"
         },
         "mode": "lines",
         "type": "scatter",
         "x": [
          0,
          0.8572343052807934,
          0.8572343052807934,
          0
         ],
         "xaxis": "x",
         "y": [
          -165,
          -165,
          -175,
          -175
         ],
         "yaxis": "y"
        },
        {
         "hoverinfo": "text",
         "marker": {
          "color": "rgb(255,220,0)"
         },
         "mode": "lines",
         "type": "scatter",
         "x": [
          0,
          0.838290671838311,
          0.838290671838311,
          0
         ],
         "xaxis": "x",
         "y": [
          -195,
          -195,
          -205,
          -205
         ],
         "yaxis": "y"
        },
        {
         "hoverinfo": "text",
         "marker": {
          "color": "rgb(255,220,0)"
         },
         "mode": "lines",
         "type": "scatter",
         "x": [
          0,
          0.9296694032649235,
          0.9296694032649235,
          0.838290671838311
         ],
         "xaxis": "x",
         "y": [
          -185,
          -185,
          -200,
          -200
         ],
         "yaxis": "y"
        },
        {
         "hoverinfo": "text",
         "marker": {
          "color": "rgb(255,220,0)"
         },
         "mode": "lines",
         "type": "scatter",
         "x": [
          0,
          0.8829291946865875,
          0.8829291946865875,
          0
         ],
         "xaxis": "x",
         "y": [
          -215,
          -215,
          -225,
          -225
         ],
         "yaxis": "y"
        },
        {
         "hoverinfo": "text",
         "marker": {
          "color": "rgb(255,220,0)"
         },
         "mode": "lines",
         "type": "scatter",
         "x": [
          0.9296694032649235,
          0.978462281471661,
          0.978462281471661,
          0.8829291946865875
         ],
         "xaxis": "x",
         "y": [
          -192.5,
          -192.5,
          -220,
          -220
         ],
         "yaxis": "y"
        },
        {
         "hoverinfo": "text",
         "marker": {
          "color": "rgb(0,116,217)"
         },
         "mode": "lines",
         "type": "scatter",
         "x": [
          0.8572343052807934,
          1.0438983178013785,
          1.0438983178013785,
          0.978462281471661
         ],
         "xaxis": "x",
         "y": [
          -170,
          -170,
          -206.25,
          -206.25
         ],
         "yaxis": "y"
        },
        {
         "hoverinfo": "text",
         "marker": {
          "color": "rgb(0,116,217)"
         },
         "mode": "lines",
         "type": "scatter",
         "x": [
          1.1465662016576819,
          1.2115643323943808,
          1.2115643323943808,
          1.0438983178013785
         ],
         "xaxis": "x",
         "y": [
          -57.6171875,
          -57.6171875,
          -188.125,
          -188.125
         ],
         "yaxis": "y"
        },
        {
         "hoverinfo": "text",
         "marker": {
          "color": "rgb(40,35,35)"
         },
         "mode": "lines",
         "type": "scatter",
         "x": [
          0,
          0.8332517406132632,
          0.8332517406132632,
          0
         ],
         "xaxis": "x",
         "y": [
          -235,
          -235,
          -245,
          -245
         ],
         "yaxis": "y"
        },
        {
         "hoverinfo": "text",
         "marker": {
          "color": "rgb(61,153,112)"
         },
         "mode": "lines",
         "type": "scatter",
         "x": [
          0,
          0.7852047445866912,
          0.7852047445866912,
          0
         ],
         "xaxis": "x",
         "y": [
          -265,
          -265,
          -275,
          -275
         ],
         "yaxis": "y"
        },
        {
         "hoverinfo": "text",
         "marker": {
          "color": "rgb(61,153,112)"
         },
         "mode": "lines",
         "type": "scatter",
         "x": [
          0,
          0.8965643685213195,
          0.8965643685213195,
          0.7852047445866912
         ],
         "xaxis": "x",
         "y": [
          -255,
          -255,
          -270,
          -270
         ],
         "yaxis": "y"
        },
        {
         "hoverinfo": "text",
         "marker": {
          "color": "rgb(61,153,112)"
         },
         "mode": "lines",
         "type": "scatter",
         "x": [
          0.8965643685213195,
          0.9139722813852151,
          0.9139722813852151,
          0
         ],
         "xaxis": "x",
         "y": [
          -262.5,
          -262.5,
          -285,
          -285
         ],
         "yaxis": "y"
        },
        {
         "hoverinfo": "text",
         "marker": {
          "color": "rgb(0,116,217)"
         },
         "mode": "lines",
         "type": "scatter",
         "x": [
          0.8332517406132632,
          1.0600002593683218,
          1.0600002593683218,
          0.9139722813852151
         ],
         "xaxis": "x",
         "y": [
          -240,
          -240,
          -273.75,
          -273.75
         ],
         "yaxis": "y"
        },
        {
         "hoverinfo": "text",
         "marker": {
          "color": "rgb(255,65,54)"
         },
         "mode": "lines",
         "type": "scatter",
         "x": [
          0,
          0.8596634178736904,
          0.8596634178736904,
          0
         ],
         "xaxis": "x",
         "y": [
          -295,
          -295,
          -305,
          -305
         ],
         "yaxis": "y"
        },
        {
         "hoverinfo": "text",
         "marker": {
          "color": "rgb(35,205,205)"
         },
         "mode": "lines",
         "type": "scatter",
         "x": [
          0,
          0.8761247272211259,
          0.8761247272211259,
          0
         ],
         "xaxis": "x",
         "y": [
          -315,
          -315,
          -325,
          -325
         ],
         "yaxis": "y"
        },
        {
         "hoverinfo": "text",
         "marker": {
          "color": "rgb(61,153,112)"
         },
         "mode": "lines",
         "type": "scatter",
         "x": [
          0,
          0.8950492554903315,
          0.8950492554903315,
          0
         ],
         "xaxis": "x",
         "y": [
          -335,
          -335,
          -345,
          -345
         ],
         "yaxis": "y"
        },
        {
         "hoverinfo": "text",
         "marker": {
          "color": "rgb(61,153,112)"
         },
         "mode": "lines",
         "type": "scatter",
         "x": [
          0,
          0.9054063711315014,
          0.9054063711315014,
          0
         ],
         "xaxis": "x",
         "y": [
          -355,
          -355,
          -365,
          -365
         ],
         "yaxis": "y"
        },
        {
         "hoverinfo": "text",
         "marker": {
          "color": "rgb(61,153,112)"
         },
         "mode": "lines",
         "type": "scatter",
         "x": [
          0.8950492554903315,
          0.976733672126487,
          0.976733672126487,
          0.9054063711315014
         ],
         "xaxis": "x",
         "y": [
          -340,
          -340,
          -360,
          -360
         ],
         "yaxis": "y"
        },
        {
         "hoverinfo": "text",
         "marker": {
          "color": "rgb(61,153,112)"
         },
         "mode": "lines",
         "type": "scatter",
         "x": [
          0,
          0.9610245743281045,
          0.9610245743281045,
          0
         ],
         "xaxis": "x",
         "y": [
          -375,
          -375,
          -385,
          -385
         ],
         "yaxis": "y"
        },
        {
         "hoverinfo": "text",
         "marker": {
          "color": "rgb(61,153,112)"
         },
         "mode": "lines",
         "type": "scatter",
         "x": [
          0.976733672126487,
          0.9919372761942583,
          0.9919372761942583,
          0.9610245743281045
         ],
         "xaxis": "x",
         "y": [
          -350,
          -350,
          -380,
          -380
         ],
         "yaxis": "y"
        },
        {
         "hoverinfo": "text",
         "marker": {
          "color": "rgb(0,116,217)"
         },
         "mode": "lines",
         "type": "scatter",
         "x": [
          0.8761247272211259,
          1.0223836148075682,
          1.0223836148075682,
          0.9919372761942583
         ],
         "xaxis": "x",
         "y": [
          -320,
          -320,
          -365,
          -365
         ],
         "yaxis": "y"
        },
        {
         "hoverinfo": "text",
         "marker": {
          "color": "rgb(0,116,217)"
         },
         "mode": "lines",
         "type": "scatter",
         "x": [
          0.8596634178736904,
          1.0622367233742405,
          1.0622367233742405,
          1.0223836148075682
         ],
         "xaxis": "x",
         "y": [
          -300,
          -300,
          -342.5,
          -342.5
         ],
         "yaxis": "y"
        },
        {
         "hoverinfo": "text",
         "marker": {
          "color": "rgb(255,65,54)"
         },
         "mode": "lines",
         "type": "scatter",
         "x": [
          0,
          0.7977961591655285,
          0.7977961591655285,
          0
         ],
         "xaxis": "x",
         "y": [
          -405,
          -405,
          -415,
          -415
         ],
         "yaxis": "y"
        },
        {
         "hoverinfo": "text",
         "marker": {
          "color": "rgb(255,65,54)"
         },
         "mode": "lines",
         "type": "scatter",
         "x": [
          0,
          0.9065579196940843,
          0.9065579196940843,
          0.7977961591655285
         ],
         "xaxis": "x",
         "y": [
          -395,
          -395,
          -410,
          -410
         ],
         "yaxis": "y"
        },
        {
         "hoverinfo": "text",
         "marker": {
          "color": "rgb(255,65,54)"
         },
         "mode": "lines",
         "type": "scatter",
         "x": [
          0,
          0.8786521680152134,
          0.8786521680152134,
          0
         ],
         "xaxis": "x",
         "y": [
          -425,
          -425,
          -435,
          -435
         ],
         "yaxis": "y"
        },
        {
         "hoverinfo": "text",
         "marker": {
          "color": "rgb(255,65,54)"
         },
         "mode": "lines",
         "type": "scatter",
         "x": [
          0.9065579196940843,
          0.9565548835346618,
          0.9565548835346618,
          0.8786521680152134
         ],
         "xaxis": "x",
         "y": [
          -402.5,
          -402.5,
          -430,
          -430
         ],
         "yaxis": "y"
        },
        {
         "hoverinfo": "text",
         "marker": {
          "color": "rgb(0,116,217)"
         },
         "mode": "lines",
         "type": "scatter",
         "x": [
          1.0622367233742405,
          1.087443462649725,
          1.087443462649725,
          0.9565548835346618
         ],
         "xaxis": "x",
         "y": [
          -321.25,
          -321.25,
          -416.25,
          -416.25
         ],
         "yaxis": "y"
        },
        {
         "hoverinfo": "text",
         "marker": {
          "color": "rgb(35,205,205)"
         },
         "mode": "lines",
         "type": "scatter",
         "x": [
          0,
          0.7375166023198829,
          0.7375166023198829,
          0
         ],
         "xaxis": "x",
         "y": [
          -445,
          -445,
          -455,
          -455
         ],
         "yaxis": "y"
        },
        {
         "hoverinfo": "text",
         "marker": {
          "color": "rgb(0,116,217)"
         },
         "mode": "lines",
         "type": "scatter",
         "x": [
          1.087443462649725,
          1.1193903177597224,
          1.1193903177597224,
          0.7375166023198829
         ],
         "xaxis": "x",
         "y": [
          -368.75,
          -368.75,
          -450,
          -450
         ],
         "yaxis": "y"
        },
        {
         "hoverinfo": "text",
         "marker": {
          "color": "rgb(133,20,75)"
         },
         "mode": "lines",
         "type": "scatter",
         "x": [
          0,
          0.9381076730366917,
          0.9381076730366917,
          0
         ],
         "xaxis": "x",
         "y": [
          -465,
          -465,
          -475,
          -475
         ],
         "yaxis": "y"
        },
        {
         "hoverinfo": "text",
         "marker": {
          "color": "rgb(255,220,0)"
         },
         "mode": "lines",
         "type": "scatter",
         "x": [
          0,
          0.9845303387004001,
          0.9845303387004001,
          0
         ],
         "xaxis": "x",
         "y": [
          -485,
          -485,
          -495,
          -495
         ],
         "yaxis": "y"
        },
        {
         "hoverinfo": "text",
         "marker": {
          "color": "rgb(255,220,0)"
         },
         "mode": "lines",
         "type": "scatter",
         "x": [
          0,
          0.9353229958241424,
          0.9353229958241424,
          0
         ],
         "xaxis": "x",
         "y": [
          -505,
          -505,
          -515,
          -515
         ],
         "yaxis": "y"
        },
        {
         "hoverinfo": "text",
         "marker": {
          "color": "rgb(255,220,0)"
         },
         "mode": "lines",
         "type": "scatter",
         "x": [
          0.9353229958241424,
          0.9485277680269418,
          0.9485277680269418,
          0
         ],
         "xaxis": "x",
         "y": [
          -510,
          -510,
          -525,
          -525
         ],
         "yaxis": "y"
        },
        {
         "hoverinfo": "text",
         "marker": {
          "color": "rgb(255,220,0)"
         },
         "mode": "lines",
         "type": "scatter",
         "x": [
          0.9845303387004001,
          0.9980604863713903,
          0.9980604863713903,
          0.9485277680269418
         ],
         "xaxis": "x",
         "y": [
          -490,
          -490,
          -517.5,
          -517.5
         ],
         "yaxis": "y"
        },
        {
         "hoverinfo": "text",
         "marker": {
          "color": "rgb(40,35,35)"
         },
         "mode": "lines",
         "type": "scatter",
         "x": [
          0,
          0.9359524042733939,
          0.9359524042733939,
          0
         ],
         "xaxis": "x",
         "y": [
          -535,
          -535,
          -545,
          -545
         ],
         "yaxis": "y"
        },
        {
         "hoverinfo": "text",
         "marker": {
          "color": "rgb(0,116,217)"
         },
         "mode": "lines",
         "type": "scatter",
         "x": [
          0.9980604863713903,
          1.0343659400263192,
          1.0343659400263192,
          0.9359524042733939
         ],
         "xaxis": "x",
         "y": [
          -503.75,
          -503.75,
          -540,
          -540
         ],
         "yaxis": "y"
        },
        {
         "hoverinfo": "text",
         "marker": {
          "color": "rgb(0,116,217)"
         },
         "mode": "lines",
         "type": "scatter",
         "x": [
          0.9381076730366917,
          1.0472971157250925,
          1.0472971157250925,
          1.0343659400263192
         ],
         "xaxis": "x",
         "y": [
          -470,
          -470,
          -521.875,
          -521.875
         ],
         "yaxis": "y"
        },
        {
         "hoverinfo": "text",
         "marker": {
          "color": "rgb(61,153,112)"
         },
         "mode": "lines",
         "type": "scatter",
         "x": [
          0,
          0.9009811041887185,
          0.9009811041887185,
          0
         ],
         "xaxis": "x",
         "y": [
          -555,
          -555,
          -565,
          -565
         ],
         "yaxis": "y"
        },
        {
         "hoverinfo": "text",
         "marker": {
          "color": "rgb(255,65,54)"
         },
         "mode": "lines",
         "type": "scatter",
         "x": [
          0,
          0.9455048836328376,
          0.9455048836328376,
          0
         ],
         "xaxis": "x",
         "y": [
          -575,
          -575,
          -585,
          -585
         ],
         "yaxis": "y"
        },
        {
         "hoverinfo": "text",
         "marker": {
          "color": "rgb(255,65,54)"
         },
         "mode": "lines",
         "type": "scatter",
         "x": [
          0,
          0.9539030376906176,
          0.9539030376906176,
          0
         ],
         "xaxis": "x",
         "y": [
          -595,
          -595,
          -605,
          -605
         ],
         "yaxis": "y"
        },
        {
         "hoverinfo": "text",
         "marker": {
          "color": "rgb(255,65,54)"
         },
         "mode": "lines",
         "type": "scatter",
         "x": [
          0.9539030376906176,
          0.9730092020935904,
          0.9730092020935904,
          0
         ],
         "xaxis": "x",
         "y": [
          -600,
          -600,
          -615,
          -615
         ],
         "yaxis": "y"
        },
        {
         "hoverinfo": "text",
         "marker": {
          "color": "rgb(255,65,54)"
         },
         "mode": "lines",
         "type": "scatter",
         "x": [
          0.9455048836328376,
          0.9956310013035604,
          0.9956310013035604,
          0.9730092020935904
         ],
         "xaxis": "x",
         "y": [
          -580,
          -580,
          -607.5,
          -607.5
         ],
         "yaxis": "y"
        },
        {
         "hoverinfo": "text",
         "marker": {
          "color": "rgb(35,205,205)"
         },
         "mode": "lines",
         "type": "scatter",
         "x": [
          0,
          0.9916507080545794,
          0.9916507080545794,
          0
         ],
         "xaxis": "x",
         "y": [
          -625,
          -625,
          -635,
          -635
         ],
         "yaxis": "y"
        },
        {
         "hoverinfo": "text",
         "marker": {
          "color": "rgb(0,116,217)"
         },
         "mode": "lines",
         "type": "scatter",
         "x": [
          0.9956310013035604,
          1.0123959183877669,
          1.0123959183877669,
          0.9916507080545794
         ],
         "xaxis": "x",
         "y": [
          -593.75,
          -593.75,
          -630,
          -630
         ],
         "yaxis": "y"
        },
        {
         "hoverinfo": "text",
         "marker": {
          "color": "rgb(0,116,217)"
         },
         "mode": "lines",
         "type": "scatter",
         "x": [
          0.9009811041887185,
          1.0277791227226032,
          1.0277791227226032,
          1.0123959183877669
         ],
         "xaxis": "x",
         "y": [
          -560,
          -560,
          -611.875,
          -611.875
         ],
         "yaxis": "y"
        },
        {
         "hoverinfo": "text",
         "marker": {
          "color": "rgb(0,116,217)"
         },
         "mode": "lines",
         "type": "scatter",
         "x": [
          1.0472971157250925,
          1.054276675608129,
          1.054276675608129,
          1.0277791227226032
         ],
         "xaxis": "x",
         "y": [
          -495.9375,
          -495.9375,
          -585.9375,
          -585.9375
         ],
         "yaxis": "y"
        },
        {
         "hoverinfo": "text",
         "marker": {
          "color": "rgb(61,153,112)"
         },
         "mode": "lines",
         "type": "scatter",
         "x": [
          0,
          0.9176283267538152,
          0.9176283267538152,
          0
         ],
         "xaxis": "x",
         "y": [
          -655,
          -655,
          -665,
          -665
         ],
         "yaxis": "y"
        },
        {
         "hoverinfo": "text",
         "marker": {
          "color": "rgb(61,153,112)"
         },
         "mode": "lines",
         "type": "scatter",
         "x": [
          0,
          0.9578073190896573,
          0.9578073190896573,
          0.9176283267538152
         ],
         "xaxis": "x",
         "y": [
          -645,
          -645,
          -660,
          -660
         ],
         "yaxis": "y"
        },
        {
         "hoverinfo": "text",
         "marker": {
          "color": "rgb(255,65,54)"
         },
         "mode": "lines",
         "type": "scatter",
         "x": [
          0,
          0.8417374169855631,
          0.8417374169855631,
          0
         ],
         "xaxis": "x",
         "y": [
          -675,
          -675,
          -685,
          -685
         ],
         "yaxis": "y"
        },
        {
         "hoverinfo": "text",
         "marker": {
          "color": "rgb(0,116,217)"
         },
         "mode": "lines",
         "type": "scatter",
         "x": [
          0.9578073190896573,
          1.0163715946115353,
          1.0163715946115353,
          0.8417374169855631
         ],
         "xaxis": "x",
         "y": [
          -652.5,
          -652.5,
          -680,
          -680
         ],
         "yaxis": "y"
        },
        {
         "hoverinfo": "text",
         "marker": {
          "color": "rgb(0,116,217)"
         },
         "mode": "lines",
         "type": "scatter",
         "x": [
          1.054276675608129,
          1.0882168556204292,
          1.0882168556204292,
          1.0163715946115353
         ],
         "xaxis": "x",
         "y": [
          -540.9375,
          -540.9375,
          -666.25,
          -666.25
         ],
         "yaxis": "y"
        },
        {
         "hoverinfo": "text",
         "marker": {
          "color": "rgb(0,116,217)"
         },
         "mode": "lines",
         "type": "scatter",
         "x": [
          1.1193903177597224,
          1.1246069921359898,
          1.1246069921359898,
          1.0882168556204292
         ],
         "xaxis": "x",
         "y": [
          -409.375,
          -409.375,
          -603.59375,
          -603.59375
         ],
         "yaxis": "y"
        },
        {
         "hoverinfo": "text",
         "marker": {
          "color": "rgb(0,116,217)"
         },
         "mode": "lines",
         "type": "scatter",
         "x": [
          1.0600002593683218,
          1.185195228672344,
          1.185195228672344,
          1.1246069921359898
         ],
         "xaxis": "x",
         "y": [
          -256.875,
          -256.875,
          -506.484375,
          -506.484375
         ],
         "yaxis": "y"
        },
        {
         "hoverinfo": "text",
         "marker": {
          "color": "rgb(35,205,205)"
         },
         "mode": "lines",
         "type": "scatter",
         "x": [
          0,
          0.5352389566223439,
          0.5352389566223439,
          0
         ],
         "xaxis": "x",
         "y": [
          -695,
          -695,
          -705,
          -705
         ],
         "yaxis": "y"
        },
        {
         "hoverinfo": "text",
         "marker": {
          "color": "rgb(0,116,217)"
         },
         "mode": "lines",
         "type": "scatter",
         "x": [
          1.185195228672344,
          1.253179276236594,
          1.253179276236594,
          0.5352389566223439
         ],
         "xaxis": "x",
         "y": [
          -381.6796875,
          -381.6796875,
          -700,
          -700
         ],
         "yaxis": "y"
        },
        {
         "hoverinfo": "text",
         "marker": {
          "color": "rgb(0,116,217)"
         },
         "mode": "lines",
         "type": "scatter",
         "x": [
          1.2115643323943808,
          1.3593073001020821,
          1.3593073001020821,
          1.253179276236594
         ],
         "xaxis": "x",
         "y": [
          -122.87109375,
          -122.87109375,
          -540.83984375,
          -540.83984375
         ],
         "yaxis": "y"
        }
       ],
       "layout": {
        "autosize": false,
        "height": 1265,
        "hoverlabel": {
         "bgcolor": "white",
         "font": {
          "family": "Rockwell",
          "size": 16
         }
        },
        "hovermode": "closest",
        "plot_bgcolor": "#ECEFF1",
        "showlegend": false,
        "template": {
         "data": {
          "bar": [
           {
            "error_x": {
             "color": "#2a3f5f"
            },
            "error_y": {
             "color": "#2a3f5f"
            },
            "marker": {
             "line": {
              "color": "white",
              "width": 0.5
             },
             "pattern": {
              "fillmode": "overlay",
              "size": 10,
              "solidity": 0.2
             }
            },
            "type": "bar"
           }
          ],
          "barpolar": [
           {
            "marker": {
             "line": {
              "color": "white",
              "width": 0.5
             },
             "pattern": {
              "fillmode": "overlay",
              "size": 10,
              "solidity": 0.2
             }
            },
            "type": "barpolar"
           }
          ],
          "carpet": [
           {
            "aaxis": {
             "endlinecolor": "#2a3f5f",
             "gridcolor": "#C8D4E3",
             "linecolor": "#C8D4E3",
             "minorgridcolor": "#C8D4E3",
             "startlinecolor": "#2a3f5f"
            },
            "baxis": {
             "endlinecolor": "#2a3f5f",
             "gridcolor": "#C8D4E3",
             "linecolor": "#C8D4E3",
             "minorgridcolor": "#C8D4E3",
             "startlinecolor": "#2a3f5f"
            },
            "type": "carpet"
           }
          ],
          "choropleth": [
           {
            "colorbar": {
             "outlinewidth": 0,
             "ticks": ""
            },
            "type": "choropleth"
           }
          ],
          "contour": [
           {
            "colorbar": {
             "outlinewidth": 0,
             "ticks": ""
            },
            "colorscale": [
             [
              0,
              "#0d0887"
             ],
             [
              0.1111111111111111,
              "#46039f"
             ],
             [
              0.2222222222222222,
              "#7201a8"
             ],
             [
              0.3333333333333333,
              "#9c179e"
             ],
             [
              0.4444444444444444,
              "#bd3786"
             ],
             [
              0.5555555555555556,
              "#d8576b"
             ],
             [
              0.6666666666666666,
              "#ed7953"
             ],
             [
              0.7777777777777778,
              "#fb9f3a"
             ],
             [
              0.8888888888888888,
              "#fdca26"
             ],
             [
              1,
              "#f0f921"
             ]
            ],
            "type": "contour"
           }
          ],
          "contourcarpet": [
           {
            "colorbar": {
             "outlinewidth": 0,
             "ticks": ""
            },
            "type": "contourcarpet"
           }
          ],
          "heatmap": [
           {
            "colorbar": {
             "outlinewidth": 0,
             "ticks": ""
            },
            "colorscale": [
             [
              0,
              "#0d0887"
             ],
             [
              0.1111111111111111,
              "#46039f"
             ],
             [
              0.2222222222222222,
              "#7201a8"
             ],
             [
              0.3333333333333333,
              "#9c179e"
             ],
             [
              0.4444444444444444,
              "#bd3786"
             ],
             [
              0.5555555555555556,
              "#d8576b"
             ],
             [
              0.6666666666666666,
              "#ed7953"
             ],
             [
              0.7777777777777778,
              "#fb9f3a"
             ],
             [
              0.8888888888888888,
              "#fdca26"
             ],
             [
              1,
              "#f0f921"
             ]
            ],
            "type": "heatmap"
           }
          ],
          "heatmapgl": [
           {
            "colorbar": {
             "outlinewidth": 0,
             "ticks": ""
            },
            "colorscale": [
             [
              0,
              "#0d0887"
             ],
             [
              0.1111111111111111,
              "#46039f"
             ],
             [
              0.2222222222222222,
              "#7201a8"
             ],
             [
              0.3333333333333333,
              "#9c179e"
             ],
             [
              0.4444444444444444,
              "#bd3786"
             ],
             [
              0.5555555555555556,
              "#d8576b"
             ],
             [
              0.6666666666666666,
              "#ed7953"
             ],
             [
              0.7777777777777778,
              "#fb9f3a"
             ],
             [
              0.8888888888888888,
              "#fdca26"
             ],
             [
              1,
              "#f0f921"
             ]
            ],
            "type": "heatmapgl"
           }
          ],
          "histogram": [
           {
            "marker": {
             "pattern": {
              "fillmode": "overlay",
              "size": 10,
              "solidity": 0.2
             }
            },
            "type": "histogram"
           }
          ],
          "histogram2d": [
           {
            "colorbar": {
             "outlinewidth": 0,
             "ticks": ""
            },
            "colorscale": [
             [
              0,
              "#0d0887"
             ],
             [
              0.1111111111111111,
              "#46039f"
             ],
             [
              0.2222222222222222,
              "#7201a8"
             ],
             [
              0.3333333333333333,
              "#9c179e"
             ],
             [
              0.4444444444444444,
              "#bd3786"
             ],
             [
              0.5555555555555556,
              "#d8576b"
             ],
             [
              0.6666666666666666,
              "#ed7953"
             ],
             [
              0.7777777777777778,
              "#fb9f3a"
             ],
             [
              0.8888888888888888,
              "#fdca26"
             ],
             [
              1,
              "#f0f921"
             ]
            ],
            "type": "histogram2d"
           }
          ],
          "histogram2dcontour": [
           {
            "colorbar": {
             "outlinewidth": 0,
             "ticks": ""
            },
            "colorscale": [
             [
              0,
              "#0d0887"
             ],
             [
              0.1111111111111111,
              "#46039f"
             ],
             [
              0.2222222222222222,
              "#7201a8"
             ],
             [
              0.3333333333333333,
              "#9c179e"
             ],
             [
              0.4444444444444444,
              "#bd3786"
             ],
             [
              0.5555555555555556,
              "#d8576b"
             ],
             [
              0.6666666666666666,
              "#ed7953"
             ],
             [
              0.7777777777777778,
              "#fb9f3a"
             ],
             [
              0.8888888888888888,
              "#fdca26"
             ],
             [
              1,
              "#f0f921"
             ]
            ],
            "type": "histogram2dcontour"
           }
          ],
          "mesh3d": [
           {
            "colorbar": {
             "outlinewidth": 0,
             "ticks": ""
            },
            "type": "mesh3d"
           }
          ],
          "parcoords": [
           {
            "line": {
             "colorbar": {
              "outlinewidth": 0,
              "ticks": ""
             }
            },
            "type": "parcoords"
           }
          ],
          "pie": [
           {
            "automargin": true,
            "type": "pie"
           }
          ],
          "scatter": [
           {
            "fillpattern": {
             "fillmode": "overlay",
             "size": 10,
             "solidity": 0.2
            },
            "type": "scatter"
           }
          ],
          "scatter3d": [
           {
            "line": {
             "colorbar": {
              "outlinewidth": 0,
              "ticks": ""
             }
            },
            "marker": {
             "colorbar": {
              "outlinewidth": 0,
              "ticks": ""
             }
            },
            "type": "scatter3d"
           }
          ],
          "scattercarpet": [
           {
            "marker": {
             "colorbar": {
              "outlinewidth": 0,
              "ticks": ""
             }
            },
            "type": "scattercarpet"
           }
          ],
          "scattergeo": [
           {
            "marker": {
             "colorbar": {
              "outlinewidth": 0,
              "ticks": ""
             }
            },
            "type": "scattergeo"
           }
          ],
          "scattergl": [
           {
            "marker": {
             "colorbar": {
              "outlinewidth": 0,
              "ticks": ""
             }
            },
            "type": "scattergl"
           }
          ],
          "scattermapbox": [
           {
            "marker": {
             "colorbar": {
              "outlinewidth": 0,
              "ticks": ""
             }
            },
            "type": "scattermapbox"
           }
          ],
          "scatterpolar": [
           {
            "marker": {
             "colorbar": {
              "outlinewidth": 0,
              "ticks": ""
             }
            },
            "type": "scatterpolar"
           }
          ],
          "scatterpolargl": [
           {
            "marker": {
             "colorbar": {
              "outlinewidth": 0,
              "ticks": ""
             }
            },
            "type": "scatterpolargl"
           }
          ],
          "scatterternary": [
           {
            "marker": {
             "colorbar": {
              "outlinewidth": 0,
              "ticks": ""
             }
            },
            "type": "scatterternary"
           }
          ],
          "surface": [
           {
            "colorbar": {
             "outlinewidth": 0,
             "ticks": ""
            },
            "colorscale": [
             [
              0,
              "#0d0887"
             ],
             [
              0.1111111111111111,
              "#46039f"
             ],
             [
              0.2222222222222222,
              "#7201a8"
             ],
             [
              0.3333333333333333,
              "#9c179e"
             ],
             [
              0.4444444444444444,
              "#bd3786"
             ],
             [
              0.5555555555555556,
              "#d8576b"
             ],
             [
              0.6666666666666666,
              "#ed7953"
             ],
             [
              0.7777777777777778,
              "#fb9f3a"
             ],
             [
              0.8888888888888888,
              "#fdca26"
             ],
             [
              1,
              "#f0f921"
             ]
            ],
            "type": "surface"
           }
          ],
          "table": [
           {
            "cells": {
             "fill": {
              "color": "#EBF0F8"
             },
             "line": {
              "color": "white"
             }
            },
            "header": {
             "fill": {
              "color": "#C8D4E3"
             },
             "line": {
              "color": "white"
             }
            },
            "type": "table"
           }
          ]
         },
         "layout": {
          "annotationdefaults": {
           "arrowcolor": "#2a3f5f",
           "arrowhead": 0,
           "arrowwidth": 1
          },
          "autotypenumbers": "strict",
          "coloraxis": {
           "colorbar": {
            "outlinewidth": 0,
            "ticks": ""
           }
          },
          "colorscale": {
           "diverging": [
            [
             0,
             "#8e0152"
            ],
            [
             0.1,
             "#c51b7d"
            ],
            [
             0.2,
             "#de77ae"
            ],
            [
             0.3,
             "#f1b6da"
            ],
            [
             0.4,
             "#fde0ef"
            ],
            [
             0.5,
             "#f7f7f7"
            ],
            [
             0.6,
             "#e6f5d0"
            ],
            [
             0.7,
             "#b8e186"
            ],
            [
             0.8,
             "#7fbc41"
            ],
            [
             0.9,
             "#4d9221"
            ],
            [
             1,
             "#276419"
            ]
           ],
           "sequential": [
            [
             0,
             "#0d0887"
            ],
            [
             0.1111111111111111,
             "#46039f"
            ],
            [
             0.2222222222222222,
             "#7201a8"
            ],
            [
             0.3333333333333333,
             "#9c179e"
            ],
            [
             0.4444444444444444,
             "#bd3786"
            ],
            [
             0.5555555555555556,
             "#d8576b"
            ],
            [
             0.6666666666666666,
             "#ed7953"
            ],
            [
             0.7777777777777778,
             "#fb9f3a"
            ],
            [
             0.8888888888888888,
             "#fdca26"
            ],
            [
             1,
             "#f0f921"
            ]
           ],
           "sequentialminus": [
            [
             0,
             "#0d0887"
            ],
            [
             0.1111111111111111,
             "#46039f"
            ],
            [
             0.2222222222222222,
             "#7201a8"
            ],
            [
             0.3333333333333333,
             "#9c179e"
            ],
            [
             0.4444444444444444,
             "#bd3786"
            ],
            [
             0.5555555555555556,
             "#d8576b"
            ],
            [
             0.6666666666666666,
             "#ed7953"
            ],
            [
             0.7777777777777778,
             "#fb9f3a"
            ],
            [
             0.8888888888888888,
             "#fdca26"
            ],
            [
             1,
             "#f0f921"
            ]
           ]
          },
          "colorway": [
           "#636efa",
           "#EF553B",
           "#00cc96",
           "#ab63fa",
           "#FFA15A",
           "#19d3f3",
           "#FF6692",
           "#B6E880",
           "#FF97FF",
           "#FECB52"
          ],
          "font": {
           "color": "#2a3f5f"
          },
          "geo": {
           "bgcolor": "white",
           "lakecolor": "white",
           "landcolor": "white",
           "showlakes": true,
           "showland": true,
           "subunitcolor": "#C8D4E3"
          },
          "hoverlabel": {
           "align": "left"
          },
          "hovermode": "closest",
          "mapbox": {
           "style": "light"
          },
          "paper_bgcolor": "white",
          "plot_bgcolor": "white",
          "polar": {
           "angularaxis": {
            "gridcolor": "#EBF0F8",
            "linecolor": "#EBF0F8",
            "ticks": ""
           },
           "bgcolor": "white",
           "radialaxis": {
            "gridcolor": "#EBF0F8",
            "linecolor": "#EBF0F8",
            "ticks": ""
           }
          },
          "scene": {
           "xaxis": {
            "backgroundcolor": "white",
            "gridcolor": "#DFE8F3",
            "gridwidth": 2,
            "linecolor": "#EBF0F8",
            "showbackground": true,
            "ticks": "",
            "zerolinecolor": "#EBF0F8"
           },
           "yaxis": {
            "backgroundcolor": "white",
            "gridcolor": "#DFE8F3",
            "gridwidth": 2,
            "linecolor": "#EBF0F8",
            "showbackground": true,
            "ticks": "",
            "zerolinecolor": "#EBF0F8"
           },
           "zaxis": {
            "backgroundcolor": "white",
            "gridcolor": "#DFE8F3",
            "gridwidth": 2,
            "linecolor": "#EBF0F8",
            "showbackground": true,
            "ticks": "",
            "zerolinecolor": "#EBF0F8"
           }
          },
          "shapedefaults": {
           "line": {
            "color": "#2a3f5f"
           }
          },
          "ternary": {
           "aaxis": {
            "gridcolor": "#DFE8F3",
            "linecolor": "#A2B1C6",
            "ticks": ""
           },
           "baxis": {
            "gridcolor": "#DFE8F3",
            "linecolor": "#A2B1C6",
            "ticks": ""
           },
           "bgcolor": "white",
           "caxis": {
            "gridcolor": "#DFE8F3",
            "linecolor": "#A2B1C6",
            "ticks": ""
           }
          },
          "title": {
           "x": 0.05
          },
          "xaxis": {
           "automargin": true,
           "gridcolor": "#EBF0F8",
           "linecolor": "#EBF0F8",
           "ticks": "",
           "title": {
            "standoff": 15
           },
           "zerolinecolor": "#EBF0F8",
           "zerolinewidth": 2
          },
          "yaxis": {
           "automargin": true,
           "gridcolor": "#EBF0F8",
           "linecolor": "#EBF0F8",
           "ticks": "",
           "title": {
            "standoff": 15
           },
           "zerolinecolor": "#EBF0F8",
           "zerolinewidth": 2
          }
         }
        },
        "title": {
         "font": {
          "color": "Black",
          "size": 22
         },
         "text": "<b>Hierarchical Clustering</b>",
         "x": 0.5,
         "xanchor": "center",
         "yanchor": "top"
        },
        "width": 1000,
        "xaxis": {
         "mirror": "allticks",
         "rangemode": "tozero",
         "showgrid": false,
         "showline": true,
         "showticklabels": true,
         "ticks": "outside",
         "type": "linear",
         "zeroline": false
        },
        "yaxis": {
         "mirror": "allticks",
         "range": [
          -710,
          0
         ],
         "rangemode": "tozero",
         "showgrid": false,
         "showline": true,
         "showticklabels": true,
         "tickmode": "array",
         "ticks": "outside",
         "ticktext": [
          "65_dish dish_dish_thiw",
          "42_dish_side dish_side",
          "34_beans_beans beans_bean",
          "10_rice_rice rice_dish",
          "40_curry_thai_curry powder",
          "13_shrimp_salmon_crab",
          "27_vinegar_parsley_garlic",
          "20_cheese_cheddar_sauce",
          "6_spicy_chili_peppers",
          "8_potatoes_potato_sweet pot...",
          "48_salt_sodium_salty",
          "3_soup_soup soup_soups",
          "33_mushrooms_mushroom_mushr...",
          "53_sauce_sauce sauce_dipping",
          "16_pasta_noodles_spaghetti",
          "69_meatballs_meatball_meatb...",
          "67_ribs_rib_bbq",
          "70_grill_bbq_barbecue",
          "60_chicken_breasts_chicken ...",
          "28_marinade_marinating_chic...",
          "18_pork_chops_pork chops",
          "58_roast_beef_steak",
          "38_crock_crock pot_pot",
          "22_drink_cocktail_vodka",
          "61_juice_orange_orange juice",
          "54_ice cream_ice_vanilla",
          "17_strawberries_blueberries...",
          "35_dessert_dessert dessert_...",
          "5_cake_cupcakes_frosting",
          "47_pizza_crust_pizza crust",
          "26_pie_crust_pie crust",
          "9_cookies_cookie_chocolate",
          "66_nuts_walnuts_pecans",
          "68_sandwich_sandwiches_cheese",
          "11_bread_loaf_machine",
          "23_muffins_muffin_bran",
          "21_breakfast_dinner_brunch",
          "46_pancakes_waffles_pancake",
          "51_biscuits_biscuit_biscuit...",
          "25_party_parties_appetizer",
          "0_family_mom_husband",
          "14_christmas_gift_year",
          "19_restaurant_chef_inn",
          "2_cookbook_cookbook cookboo...",
          "15_calories_calorie_mg",
          "41_carb_protein_carbs",
          "62_living_living living_sim...",
          "50_yummy_yummy yummy_simple",
          "44_request_response_respons...",
          "30_points_weight_watchers",
          "12_havent_toh_card",
          "32_site_allrecipescom_website",
          "36_tour_world tour_world",
          "29_episode_show_rachel",
          "63_paula_deen_paula deen",
          "39_salsa_salsa salsa_chips",
          "45_tortilla_tacos_burritos",
          "43_burger_burgers_hamburger",
          "37_sausage_sausages_sausage...",
          "55_comfort_comfort food_food",
          "31_ingredients_ingredients ...",
          "49_vegan_vegetarians_vegans",
          "59_asparagus_asparagus aspa...",
          "7_light light_light_light i...",
          "52_winter_summer_autumn",
          "24_squash_zucchini_butternut",
          "57_tomatoes_garden_tomato",
          "4_salad_dressing_salads",
          "56_tuna_tuna salad_salad",
          "1_magazine_home magazine_is...",
          "64_magazine magazine_magazi..."
         ],
         "tickvals": [
          -5,
          -15,
          -25,
          -35,
          -45,
          -55,
          -65,
          -75,
          -85,
          -95,
          -105,
          -115,
          -125,
          -135,
          -145,
          -155,
          -165,
          -175,
          -185,
          -195,
          -205,
          -215,
          -225,
          -235,
          -245,
          -255,
          -265,
          -275,
          -285,
          -295,
          -305,
          -315,
          -325,
          -335,
          -345,
          -355,
          -365,
          -375,
          -385,
          -395,
          -405,
          -415,
          -425,
          -435,
          -445,
          -455,
          -465,
          -475,
          -485,
          -495,
          -505,
          -515,
          -525,
          -535,
          -545,
          -555,
          -565,
          -575,
          -585,
          -595,
          -605,
          -615,
          -625,
          -635,
          -645,
          -655,
          -665,
          -675,
          -685,
          -695,
          -705
         ],
         "type": "linear",
         "zeroline": false
        }
       }
      }
     },
     "metadata": {},
     "output_type": "display_data"
    }
   ],
   "source": [
    "# Visualisation des hiérarchies entre les topics\n",
    "topic_model.visualize_hierarchy()\n",
    "\n"
   ]
  },
  {
   "cell_type": "code",
   "execution_count": 13,
   "metadata": {},
   "outputs": [
    {
     "data": {
      "application/vnd.plotly.v1+json": {
       "config": {
        "plotlyServerURL": "https://plot.ly"
       },
       "data": [
        {
         "marker": {
          "color": "#D55E00"
         },
         "orientation": "h",
         "type": "bar",
         "x": [
          0.02158991094895141,
          0.02321618415893624,
          0.02432893877879448,
          0.02608766008935209,
          0.042517170231389956
         ],
         "xaxis": "x",
         "y": [
          "friend  ",
          "years  ",
          "husband  ",
          "mom  ",
          "family  "
         ],
         "yaxis": "y"
        },
        {
         "marker": {
          "color": "#0072B2"
         },
         "orientation": "h",
         "type": "bar",
         "x": [
          0.018621760542874472,
          0.01880495559654582,
          0.01953127120684465,
          0.023455105422685335,
          0.14413641551187986
         ],
         "xaxis": "x2",
         "y": [
          "magazine magazine  ",
          "food  ",
          "issue  ",
          "home magazine  ",
          "magazine  "
         ],
         "yaxis": "y2"
        },
        {
         "marker": {
          "color": "#CC79A7"
         },
         "orientation": "h",
         "type": "bar",
         "x": [
          0.016531047388668053,
          0.019899828059912993,
          0.021227192511536583,
          0.028743857260137933,
          0.1327950541636504
         ],
         "xaxis": "x3",
         "y": [
          "booklet  ",
          "book  ",
          "cookbooks  ",
          "cookbook cookbook  ",
          "cookbook  "
         ],
         "yaxis": "y3"
        },
        {
         "marker": {
          "color": "#E69F00"
         },
         "orientation": "h",
         "type": "bar",
         "x": [
          0.01752426559881369,
          0.020526103547819877,
          0.022661949410783193,
          0.02820291523705155,
          0.17042878230716027
         ],
         "xaxis": "x4",
         "y": [
          "winter  ",
          "hearty  ",
          "soups  ",
          "soup soup  ",
          "soup  "
         ],
         "yaxis": "y4"
        },
        {
         "marker": {
          "color": "#56B4E9"
         },
         "orientation": "h",
         "type": "bar",
         "x": [
          0.026465831436644265,
          0.02880912361112075,
          0.029422918660959755,
          0.04785624164374175,
          0.1471728800771937
         ],
         "xaxis": "x5",
         "y": [
          "summer  ",
          "salad salad  ",
          "salads  ",
          "dressing  ",
          "salad  "
         ],
         "yaxis": "y5"
        },
        {
         "marker": {
          "color": "#009E73"
         },
         "orientation": "h",
         "type": "bar",
         "x": [
          0.025811603040414924,
          0.02595828578893903,
          0.02893470286564723,
          0.0296649327403131,
          0.16222867164642196
         ],
         "xaxis": "x6",
         "y": [
          "chocolate  ",
          "cheesecake  ",
          "frosting  ",
          "cupcakes  ",
          "cake  "
         ],
         "yaxis": "y6"
        },
        {
         "marker": {
          "color": "#F0E442"
         },
         "orientation": "h",
         "type": "bar",
         "x": [
          0.018790918657354178,
          0.03268746777978008,
          0.0383393246329441,
          0.07346026520572814,
          0.09741261023087067
         ],
         "xaxis": "x7",
         "y": [
          "sauce  ",
          "pepper  ",
          "peppers  ",
          "chili  ",
          "spicy  "
         ],
         "yaxis": "y7"
        },
        {
         "marker": {
          "color": "#D55E00"
         },
         "orientation": "h",
         "type": "bar",
         "x": [
          0.055186787748091395,
          0.10557845502026052,
          0.13567402721324578,
          1.608261615473129,
          2.0471858274768295
         ],
         "xaxis": "x8",
         "y": [
          "issue  ",
          "issue light  ",
          "light issue  ",
          "light  ",
          "light light  "
         ],
         "yaxis": "y8"
        }
       ],
       "layout": {
        "annotations": [
         {
          "font": {
           "size": 16
          },
          "showarrow": false,
          "text": "Topic 0",
          "x": 0.0875,
          "xanchor": "center",
          "xref": "paper",
          "y": 1,
          "yanchor": "bottom",
          "yref": "paper"
         },
         {
          "font": {
           "size": 16
          },
          "showarrow": false,
          "text": "Topic 1",
          "x": 0.36250000000000004,
          "xanchor": "center",
          "xref": "paper",
          "y": 1,
          "yanchor": "bottom",
          "yref": "paper"
         },
         {
          "font": {
           "size": 16
          },
          "showarrow": false,
          "text": "Topic 2",
          "x": 0.6375000000000001,
          "xanchor": "center",
          "xref": "paper",
          "y": 1,
          "yanchor": "bottom",
          "yref": "paper"
         },
         {
          "font": {
           "size": 16
          },
          "showarrow": false,
          "text": "Topic 3",
          "x": 0.9125,
          "xanchor": "center",
          "xref": "paper",
          "y": 1,
          "yanchor": "bottom",
          "yref": "paper"
         },
         {
          "font": {
           "size": 16
          },
          "showarrow": false,
          "text": "Topic 4",
          "x": 0.0875,
          "xanchor": "center",
          "xref": "paper",
          "y": 0.4,
          "yanchor": "bottom",
          "yref": "paper"
         },
         {
          "font": {
           "size": 16
          },
          "showarrow": false,
          "text": "Topic 5",
          "x": 0.36250000000000004,
          "xanchor": "center",
          "xref": "paper",
          "y": 0.4,
          "yanchor": "bottom",
          "yref": "paper"
         },
         {
          "font": {
           "size": 16
          },
          "showarrow": false,
          "text": "Topic 6",
          "x": 0.6375000000000001,
          "xanchor": "center",
          "xref": "paper",
          "y": 0.4,
          "yanchor": "bottom",
          "yref": "paper"
         },
         {
          "font": {
           "size": 16
          },
          "showarrow": false,
          "text": "Topic 7",
          "x": 0.9125,
          "xanchor": "center",
          "xref": "paper",
          "y": 0.4,
          "yanchor": "bottom",
          "yref": "paper"
         }
        ],
        "height": 800,
        "hoverlabel": {
         "bgcolor": "white",
         "font": {
          "family": "Rockwell",
          "size": 16
         }
        },
        "showlegend": false,
        "template": {
         "data": {
          "bar": [
           {
            "error_x": {
             "color": "#2a3f5f"
            },
            "error_y": {
             "color": "#2a3f5f"
            },
            "marker": {
             "line": {
              "color": "white",
              "width": 0.5
             },
             "pattern": {
              "fillmode": "overlay",
              "size": 10,
              "solidity": 0.2
             }
            },
            "type": "bar"
           }
          ],
          "barpolar": [
           {
            "marker": {
             "line": {
              "color": "white",
              "width": 0.5
             },
             "pattern": {
              "fillmode": "overlay",
              "size": 10,
              "solidity": 0.2
             }
            },
            "type": "barpolar"
           }
          ],
          "carpet": [
           {
            "aaxis": {
             "endlinecolor": "#2a3f5f",
             "gridcolor": "#C8D4E3",
             "linecolor": "#C8D4E3",
             "minorgridcolor": "#C8D4E3",
             "startlinecolor": "#2a3f5f"
            },
            "baxis": {
             "endlinecolor": "#2a3f5f",
             "gridcolor": "#C8D4E3",
             "linecolor": "#C8D4E3",
             "minorgridcolor": "#C8D4E3",
             "startlinecolor": "#2a3f5f"
            },
            "type": "carpet"
           }
          ],
          "choropleth": [
           {
            "colorbar": {
             "outlinewidth": 0,
             "ticks": ""
            },
            "type": "choropleth"
           }
          ],
          "contour": [
           {
            "colorbar": {
             "outlinewidth": 0,
             "ticks": ""
            },
            "colorscale": [
             [
              0,
              "#0d0887"
             ],
             [
              0.1111111111111111,
              "#46039f"
             ],
             [
              0.2222222222222222,
              "#7201a8"
             ],
             [
              0.3333333333333333,
              "#9c179e"
             ],
             [
              0.4444444444444444,
              "#bd3786"
             ],
             [
              0.5555555555555556,
              "#d8576b"
             ],
             [
              0.6666666666666666,
              "#ed7953"
             ],
             [
              0.7777777777777778,
              "#fb9f3a"
             ],
             [
              0.8888888888888888,
              "#fdca26"
             ],
             [
              1,
              "#f0f921"
             ]
            ],
            "type": "contour"
           }
          ],
          "contourcarpet": [
           {
            "colorbar": {
             "outlinewidth": 0,
             "ticks": ""
            },
            "type": "contourcarpet"
           }
          ],
          "heatmap": [
           {
            "colorbar": {
             "outlinewidth": 0,
             "ticks": ""
            },
            "colorscale": [
             [
              0,
              "#0d0887"
             ],
             [
              0.1111111111111111,
              "#46039f"
             ],
             [
              0.2222222222222222,
              "#7201a8"
             ],
             [
              0.3333333333333333,
              "#9c179e"
             ],
             [
              0.4444444444444444,
              "#bd3786"
             ],
             [
              0.5555555555555556,
              "#d8576b"
             ],
             [
              0.6666666666666666,
              "#ed7953"
             ],
             [
              0.7777777777777778,
              "#fb9f3a"
             ],
             [
              0.8888888888888888,
              "#fdca26"
             ],
             [
              1,
              "#f0f921"
             ]
            ],
            "type": "heatmap"
           }
          ],
          "heatmapgl": [
           {
            "colorbar": {
             "outlinewidth": 0,
             "ticks": ""
            },
            "colorscale": [
             [
              0,
              "#0d0887"
             ],
             [
              0.1111111111111111,
              "#46039f"
             ],
             [
              0.2222222222222222,
              "#7201a8"
             ],
             [
              0.3333333333333333,
              "#9c179e"
             ],
             [
              0.4444444444444444,
              "#bd3786"
             ],
             [
              0.5555555555555556,
              "#d8576b"
             ],
             [
              0.6666666666666666,
              "#ed7953"
             ],
             [
              0.7777777777777778,
              "#fb9f3a"
             ],
             [
              0.8888888888888888,
              "#fdca26"
             ],
             [
              1,
              "#f0f921"
             ]
            ],
            "type": "heatmapgl"
           }
          ],
          "histogram": [
           {
            "marker": {
             "pattern": {
              "fillmode": "overlay",
              "size": 10,
              "solidity": 0.2
             }
            },
            "type": "histogram"
           }
          ],
          "histogram2d": [
           {
            "colorbar": {
             "outlinewidth": 0,
             "ticks": ""
            },
            "colorscale": [
             [
              0,
              "#0d0887"
             ],
             [
              0.1111111111111111,
              "#46039f"
             ],
             [
              0.2222222222222222,
              "#7201a8"
             ],
             [
              0.3333333333333333,
              "#9c179e"
             ],
             [
              0.4444444444444444,
              "#bd3786"
             ],
             [
              0.5555555555555556,
              "#d8576b"
             ],
             [
              0.6666666666666666,
              "#ed7953"
             ],
             [
              0.7777777777777778,
              "#fb9f3a"
             ],
             [
              0.8888888888888888,
              "#fdca26"
             ],
             [
              1,
              "#f0f921"
             ]
            ],
            "type": "histogram2d"
           }
          ],
          "histogram2dcontour": [
           {
            "colorbar": {
             "outlinewidth": 0,
             "ticks": ""
            },
            "colorscale": [
             [
              0,
              "#0d0887"
             ],
             [
              0.1111111111111111,
              "#46039f"
             ],
             [
              0.2222222222222222,
              "#7201a8"
             ],
             [
              0.3333333333333333,
              "#9c179e"
             ],
             [
              0.4444444444444444,
              "#bd3786"
             ],
             [
              0.5555555555555556,
              "#d8576b"
             ],
             [
              0.6666666666666666,
              "#ed7953"
             ],
             [
              0.7777777777777778,
              "#fb9f3a"
             ],
             [
              0.8888888888888888,
              "#fdca26"
             ],
             [
              1,
              "#f0f921"
             ]
            ],
            "type": "histogram2dcontour"
           }
          ],
          "mesh3d": [
           {
            "colorbar": {
             "outlinewidth": 0,
             "ticks": ""
            },
            "type": "mesh3d"
           }
          ],
          "parcoords": [
           {
            "line": {
             "colorbar": {
              "outlinewidth": 0,
              "ticks": ""
             }
            },
            "type": "parcoords"
           }
          ],
          "pie": [
           {
            "automargin": true,
            "type": "pie"
           }
          ],
          "scatter": [
           {
            "fillpattern": {
             "fillmode": "overlay",
             "size": 10,
             "solidity": 0.2
            },
            "type": "scatter"
           }
          ],
          "scatter3d": [
           {
            "line": {
             "colorbar": {
              "outlinewidth": 0,
              "ticks": ""
             }
            },
            "marker": {
             "colorbar": {
              "outlinewidth": 0,
              "ticks": ""
             }
            },
            "type": "scatter3d"
           }
          ],
          "scattercarpet": [
           {
            "marker": {
             "colorbar": {
              "outlinewidth": 0,
              "ticks": ""
             }
            },
            "type": "scattercarpet"
           }
          ],
          "scattergeo": [
           {
            "marker": {
             "colorbar": {
              "outlinewidth": 0,
              "ticks": ""
             }
            },
            "type": "scattergeo"
           }
          ],
          "scattergl": [
           {
            "marker": {
             "colorbar": {
              "outlinewidth": 0,
              "ticks": ""
             }
            },
            "type": "scattergl"
           }
          ],
          "scattermapbox": [
           {
            "marker": {
             "colorbar": {
              "outlinewidth": 0,
              "ticks": ""
             }
            },
            "type": "scattermapbox"
           }
          ],
          "scatterpolar": [
           {
            "marker": {
             "colorbar": {
              "outlinewidth": 0,
              "ticks": ""
             }
            },
            "type": "scatterpolar"
           }
          ],
          "scatterpolargl": [
           {
            "marker": {
             "colorbar": {
              "outlinewidth": 0,
              "ticks": ""
             }
            },
            "type": "scatterpolargl"
           }
          ],
          "scatterternary": [
           {
            "marker": {
             "colorbar": {
              "outlinewidth": 0,
              "ticks": ""
             }
            },
            "type": "scatterternary"
           }
          ],
          "surface": [
           {
            "colorbar": {
             "outlinewidth": 0,
             "ticks": ""
            },
            "colorscale": [
             [
              0,
              "#0d0887"
             ],
             [
              0.1111111111111111,
              "#46039f"
             ],
             [
              0.2222222222222222,
              "#7201a8"
             ],
             [
              0.3333333333333333,
              "#9c179e"
             ],
             [
              0.4444444444444444,
              "#bd3786"
             ],
             [
              0.5555555555555556,
              "#d8576b"
             ],
             [
              0.6666666666666666,
              "#ed7953"
             ],
             [
              0.7777777777777778,
              "#fb9f3a"
             ],
             [
              0.8888888888888888,
              "#fdca26"
             ],
             [
              1,
              "#f0f921"
             ]
            ],
            "type": "surface"
           }
          ],
          "table": [
           {
            "cells": {
             "fill": {
              "color": "#EBF0F8"
             },
             "line": {
              "color": "white"
             }
            },
            "header": {
             "fill": {
              "color": "#C8D4E3"
             },
             "line": {
              "color": "white"
             }
            },
            "type": "table"
           }
          ]
         },
         "layout": {
          "annotationdefaults": {
           "arrowcolor": "#2a3f5f",
           "arrowhead": 0,
           "arrowwidth": 1
          },
          "autotypenumbers": "strict",
          "coloraxis": {
           "colorbar": {
            "outlinewidth": 0,
            "ticks": ""
           }
          },
          "colorscale": {
           "diverging": [
            [
             0,
             "#8e0152"
            ],
            [
             0.1,
             "#c51b7d"
            ],
            [
             0.2,
             "#de77ae"
            ],
            [
             0.3,
             "#f1b6da"
            ],
            [
             0.4,
             "#fde0ef"
            ],
            [
             0.5,
             "#f7f7f7"
            ],
            [
             0.6,
             "#e6f5d0"
            ],
            [
             0.7,
             "#b8e186"
            ],
            [
             0.8,
             "#7fbc41"
            ],
            [
             0.9,
             "#4d9221"
            ],
            [
             1,
             "#276419"
            ]
           ],
           "sequential": [
            [
             0,
             "#0d0887"
            ],
            [
             0.1111111111111111,
             "#46039f"
            ],
            [
             0.2222222222222222,
             "#7201a8"
            ],
            [
             0.3333333333333333,
             "#9c179e"
            ],
            [
             0.4444444444444444,
             "#bd3786"
            ],
            [
             0.5555555555555556,
             "#d8576b"
            ],
            [
             0.6666666666666666,
             "#ed7953"
            ],
            [
             0.7777777777777778,
             "#fb9f3a"
            ],
            [
             0.8888888888888888,
             "#fdca26"
            ],
            [
             1,
             "#f0f921"
            ]
           ],
           "sequentialminus": [
            [
             0,
             "#0d0887"
            ],
            [
             0.1111111111111111,
             "#46039f"
            ],
            [
             0.2222222222222222,
             "#7201a8"
            ],
            [
             0.3333333333333333,
             "#9c179e"
            ],
            [
             0.4444444444444444,
             "#bd3786"
            ],
            [
             0.5555555555555556,
             "#d8576b"
            ],
            [
             0.6666666666666666,
             "#ed7953"
            ],
            [
             0.7777777777777778,
             "#fb9f3a"
            ],
            [
             0.8888888888888888,
             "#fdca26"
            ],
            [
             1,
             "#f0f921"
            ]
           ]
          },
          "colorway": [
           "#636efa",
           "#EF553B",
           "#00cc96",
           "#ab63fa",
           "#FFA15A",
           "#19d3f3",
           "#FF6692",
           "#B6E880",
           "#FF97FF",
           "#FECB52"
          ],
          "font": {
           "color": "#2a3f5f"
          },
          "geo": {
           "bgcolor": "white",
           "lakecolor": "white",
           "landcolor": "white",
           "showlakes": true,
           "showland": true,
           "subunitcolor": "#C8D4E3"
          },
          "hoverlabel": {
           "align": "left"
          },
          "hovermode": "closest",
          "mapbox": {
           "style": "light"
          },
          "paper_bgcolor": "white",
          "plot_bgcolor": "white",
          "polar": {
           "angularaxis": {
            "gridcolor": "#EBF0F8",
            "linecolor": "#EBF0F8",
            "ticks": ""
           },
           "bgcolor": "white",
           "radialaxis": {
            "gridcolor": "#EBF0F8",
            "linecolor": "#EBF0F8",
            "ticks": ""
           }
          },
          "scene": {
           "xaxis": {
            "backgroundcolor": "white",
            "gridcolor": "#DFE8F3",
            "gridwidth": 2,
            "linecolor": "#EBF0F8",
            "showbackground": true,
            "ticks": "",
            "zerolinecolor": "#EBF0F8"
           },
           "yaxis": {
            "backgroundcolor": "white",
            "gridcolor": "#DFE8F3",
            "gridwidth": 2,
            "linecolor": "#EBF0F8",
            "showbackground": true,
            "ticks": "",
            "zerolinecolor": "#EBF0F8"
           },
           "zaxis": {
            "backgroundcolor": "white",
            "gridcolor": "#DFE8F3",
            "gridwidth": 2,
            "linecolor": "#EBF0F8",
            "showbackground": true,
            "ticks": "",
            "zerolinecolor": "#EBF0F8"
           }
          },
          "shapedefaults": {
           "line": {
            "color": "#2a3f5f"
           }
          },
          "ternary": {
           "aaxis": {
            "gridcolor": "#DFE8F3",
            "linecolor": "#A2B1C6",
            "ticks": ""
           },
           "baxis": {
            "gridcolor": "#DFE8F3",
            "linecolor": "#A2B1C6",
            "ticks": ""
           },
           "bgcolor": "white",
           "caxis": {
            "gridcolor": "#DFE8F3",
            "linecolor": "#A2B1C6",
            "ticks": ""
           }
          },
          "title": {
           "x": 0.05
          },
          "xaxis": {
           "automargin": true,
           "gridcolor": "#EBF0F8",
           "linecolor": "#EBF0F8",
           "ticks": "",
           "title": {
            "standoff": 15
           },
           "zerolinecolor": "#EBF0F8",
           "zerolinewidth": 2
          },
          "yaxis": {
           "automargin": true,
           "gridcolor": "#EBF0F8",
           "linecolor": "#EBF0F8",
           "ticks": "",
           "title": {
            "standoff": 15
           },
           "zerolinecolor": "#EBF0F8",
           "zerolinewidth": 2
          }
         }
        },
        "title": {
         "font": {
          "color": "Black",
          "size": 22
         },
         "text": "Topic Word Scores",
         "x": 0.5,
         "xanchor": "center",
         "yanchor": "top"
        },
        "width": 1600,
        "xaxis": {
         "anchor": "y",
         "domain": [
          0,
          0.175
         ],
         "showgrid": true
        },
        "xaxis2": {
         "anchor": "y2",
         "domain": [
          0.275,
          0.45
         ],
         "showgrid": true
        },
        "xaxis3": {
         "anchor": "y3",
         "domain": [
          0.55,
          0.7250000000000001
         ],
         "showgrid": true
        },
        "xaxis4": {
         "anchor": "y4",
         "domain": [
          0.825,
          1
         ],
         "showgrid": true
        },
        "xaxis5": {
         "anchor": "y5",
         "domain": [
          0,
          0.175
         ],
         "showgrid": true
        },
        "xaxis6": {
         "anchor": "y6",
         "domain": [
          0.275,
          0.45
         ],
         "showgrid": true
        },
        "xaxis7": {
         "anchor": "y7",
         "domain": [
          0.55,
          0.7250000000000001
         ],
         "showgrid": true
        },
        "xaxis8": {
         "anchor": "y8",
         "domain": [
          0.825,
          1
         ],
         "showgrid": true
        },
        "yaxis": {
         "anchor": "x",
         "domain": [
          0.6000000000000001,
          1
         ],
         "showgrid": true
        },
        "yaxis2": {
         "anchor": "x2",
         "domain": [
          0.6000000000000001,
          1
         ],
         "showgrid": true
        },
        "yaxis3": {
         "anchor": "x3",
         "domain": [
          0.6000000000000001,
          1
         ],
         "showgrid": true
        },
        "yaxis4": {
         "anchor": "x4",
         "domain": [
          0.6000000000000001,
          1
         ],
         "showgrid": true
        },
        "yaxis5": {
         "anchor": "x5",
         "domain": [
          0,
          0.4
         ],
         "showgrid": true
        },
        "yaxis6": {
         "anchor": "x6",
         "domain": [
          0,
          0.4
         ],
         "showgrid": true
        },
        "yaxis7": {
         "anchor": "x7",
         "domain": [
          0,
          0.4
         ],
         "showgrid": true
        },
        "yaxis8": {
         "anchor": "x8",
         "domain": [
          0,
          0.4
         ],
         "showgrid": true
        }
       }
      }
     },
     "metadata": {},
     "output_type": "display_data"
    }
   ],
   "source": [
    "# Visualisation des relations entre les topics\n",
    "topic_model.visualize_barchart(n_words=10, height=400, width=400)\n",
    "\n",
    "\n"
   ]
  },
  {
   "cell_type": "code",
   "execution_count": 14,
   "metadata": {},
   "outputs": [
    {
     "data": {
      "application/vnd.plotly.v1+json": {
       "config": {
        "plotlyServerURL": "https://plot.ly"
       },
       "data": [
        {
         "coloraxis": "coloraxis",
         "hovertemplate": "x: %{x}<br>y: %{y}<br>Similarity Score: %{z}<extra></extra>",
         "name": "0",
         "type": "heatmap",
         "x": [
          "0_family_mom_husband",
          "1_magazine_home magazine_is...",
          "2_cookbook_cookbook cookboo...",
          "14_christmas_gift_year",
          "19_restaurant_chef_inn",
          "25_party_parties_appetizer",
          "30_points_weight_watchers",
          "50_yummy_yummy yummy_simple",
          "55_comfort_comfort food_food",
          "3_soup_soup soup_soups",
          "4_salad_dressing_salads",
          "6_spicy_chili_peppers",
          "8_potatoes_potato_sweet pot...",
          "10_rice_rice rice_dish",
          "13_shrimp_salmon_crab",
          "16_pasta_noodles_spaghetti",
          "18_pork_chops_pork chops",
          "20_cheese_cheddar_sauce",
          "24_squash_zucchini_butternut",
          "27_vinegar_parsley_garlic",
          "28_marinade_marinating_chic...",
          "31_ingredients_ingredients ...",
          "33_mushrooms_mushroom_mushr...",
          "34_beans_beans beans_bean",
          "37_sausage_sausages_sausage...",
          "38_crock_crock pot_pot",
          "39_salsa_salsa salsa_chips",
          "40_curry_thai_curry powder",
          "42_dish_side dish_side",
          "43_burger_burgers_hamburger",
          "45_tortilla_tacos_burritos",
          "53_sauce_sauce sauce_dipping",
          "56_tuna_tuna salad_salad",
          "57_tomatoes_garden_tomato",
          "58_roast_beef_steak",
          "60_chicken_breasts_chicken ...",
          "61_juice_orange_orange juice",
          "67_ribs_rib_bbq",
          "68_sandwich_sandwiches_cheese",
          "69_meatballs_meatball_meatb...",
          "5_cake_cupcakes_frosting",
          "9_cookies_cookie_chocolate",
          "11_bread_loaf_machine",
          "17_strawberries_blueberries...",
          "21_breakfast_dinner_brunch",
          "22_drink_cocktail_vodka",
          "23_muffins_muffin_bran",
          "26_pie_crust_pie crust",
          "35_dessert_dessert dessert_...",
          "46_pancakes_waffles_pancake",
          "47_pizza_crust_pizza crust",
          "51_biscuits_biscuit_biscuit...",
          "54_ice cream_ice_vanilla",
          "70_grill_bbq_barbecue",
          "7_light light_light_light i...",
          "12_havent_toh_card",
          "62_living_living living_sim...",
          "64_magazine magazine_magazi...",
          "15_calories_calorie_mg",
          "41_carb_protein_carbs",
          "48_salt_sodium_salty",
          "49_vegan_vegetarians_vegans",
          "59_asparagus_asparagus aspa...",
          "66_nuts_walnuts_pecans",
          "29_episode_show_rachel",
          "32_site_allrecipescom_website",
          "36_tour_world tour_world",
          "44_request_response_respons...",
          "52_winter_summer_autumn",
          "63_paula_deen_paula deen",
          "65_dish dish_dish_thiw"
         ],
         "xaxis": "x",
         "y": [
          "0_family_mom_husband",
          "1_magazine_home magazine_is...",
          "2_cookbook_cookbook cookboo...",
          "14_christmas_gift_year",
          "19_restaurant_chef_inn",
          "25_party_parties_appetizer",
          "30_points_weight_watchers",
          "50_yummy_yummy yummy_simple",
          "55_comfort_comfort food_food",
          "3_soup_soup soup_soups",
          "4_salad_dressing_salads",
          "6_spicy_chili_peppers",
          "8_potatoes_potato_sweet pot...",
          "10_rice_rice rice_dish",
          "13_shrimp_salmon_crab",
          "16_pasta_noodles_spaghetti",
          "18_pork_chops_pork chops",
          "20_cheese_cheddar_sauce",
          "24_squash_zucchini_butternut",
          "27_vinegar_parsley_garlic",
          "28_marinade_marinating_chic...",
          "31_ingredients_ingredients ...",
          "33_mushrooms_mushroom_mushr...",
          "34_beans_beans beans_bean",
          "37_sausage_sausages_sausage...",
          "38_crock_crock pot_pot",
          "39_salsa_salsa salsa_chips",
          "40_curry_thai_curry powder",
          "42_dish_side dish_side",
          "43_burger_burgers_hamburger",
          "45_tortilla_tacos_burritos",
          "53_sauce_sauce sauce_dipping",
          "56_tuna_tuna salad_salad",
          "57_tomatoes_garden_tomato",
          "58_roast_beef_steak",
          "60_chicken_breasts_chicken ...",
          "61_juice_orange_orange juice",
          "67_ribs_rib_bbq",
          "68_sandwich_sandwiches_cheese",
          "69_meatballs_meatball_meatb...",
          "5_cake_cupcakes_frosting",
          "9_cookies_cookie_chocolate",
          "11_bread_loaf_machine",
          "17_strawberries_blueberries...",
          "21_breakfast_dinner_brunch",
          "22_drink_cocktail_vodka",
          "23_muffins_muffin_bran",
          "26_pie_crust_pie crust",
          "35_dessert_dessert dessert_...",
          "46_pancakes_waffles_pancake",
          "47_pizza_crust_pizza crust",
          "51_biscuits_biscuit_biscuit...",
          "54_ice cream_ice_vanilla",
          "70_grill_bbq_barbecue",
          "7_light light_light_light i...",
          "12_havent_toh_card",
          "62_living_living living_sim...",
          "64_magazine magazine_magazi...",
          "15_calories_calorie_mg",
          "41_carb_protein_carbs",
          "48_salt_sodium_salty",
          "49_vegan_vegetarians_vegans",
          "59_asparagus_asparagus aspa...",
          "66_nuts_walnuts_pecans",
          "29_episode_show_rachel",
          "32_site_allrecipescom_website",
          "36_tour_world tour_world",
          "44_request_response_respons...",
          "52_winter_summer_autumn",
          "63_paula_deen_paula deen",
          "65_dish dish_dish_thiw"
         ],
         "yaxis": "y",
         "z": [
          [
           1.000000238418579,
           0.7607345581054688,
           0.7349363565444946,
           0.8562726974487305,
           0.793116569519043,
           0.8287209272384644,
           0.7200452089309692,
           0.6539285182952881,
           0.6979631185531616,
           0.7319968938827515,
           0.700089693069458,
           0.6692315936088562,
           0.7329277992248535,
           0.6682431697845459,
           0.7372193336486816,
           0.7081826329231262,
           0.6569848656654358,
           0.7533242702484131,
           0.6825224161148071,
           0.6169753074645996,
           0.6235224008560181,
           0.6383236646652222,
           0.6573954820632935,
           0.7043989300727844,
           0.6834272146224976,
           0.7607911229133606,
           0.643072247505188,
           0.6834304332733154,
           0.7671167850494385,
           0.7118806838989258,
           0.6770206689834595,
           0.6791886687278748,
           0.670128345489502,
           0.6944736838340759,
           0.741016685962677,
           0.7389448881149292,
           0.6639782786369324,
           0.7019929885864258,
           0.7794721126556396,
           0.6780444383621216,
           0.7819868326187134,
           0.7045068740844727,
           0.7240200042724609,
           0.7164785265922546,
           0.7958173155784607,
           0.7495015859603882,
           0.706467866897583,
           0.7007697820663452,
           0.7407150268554688,
           0.7288838624954224,
           0.7097512483596802,
           0.7116537094116211,
           0.6694152355194092,
           0.7401112914085388,
           0.20602884888648987,
           0.6561463475227356,
           0.5329973697662354,
           0.42692649364471436,
           0.5331602096557617,
           0.5721567869186401,
           0.5590436458587646,
           0.6384485960006714,
           0.6159805059432983,
           0.6052811145782471,
           0.8262837529182434,
           0.6630833745002747,
           0.6874991059303284,
           0.695543110370636,
           0.7263456583023071,
           0.7807465195655823,
           0.6145662069320679
          ],
          [
           0.7607345581054688,
           0.9999996423721313,
           0.8586480617523193,
           0.7558028697967529,
           0.7954545021057129,
           0.7643837928771973,
           0.7653868198394775,
           0.6288949251174927,
           0.6535359025001526,
           0.7482773065567017,
           0.7333547472953796,
           0.692272424697876,
           0.7014009952545166,
           0.6702995896339417,
           0.7123972177505493,
           0.6976931095123291,
           0.6519105434417725,
           0.7614789009094238,
           0.6978678703308105,
           0.6635147333145142,
           0.6473520994186401,
           0.7140045166015625,
           0.6793582439422607,
           0.6950000524520874,
           0.6904716491699219,
           0.738025426864624,
           0.6970642805099487,
           0.6949531435966492,
           0.7269545197486877,
           0.7408124208450317,
           0.6905093193054199,
           0.7104490995407104,
           0.6713359355926514,
           0.7088378667831421,
           0.7269555330276489,
           0.7108309268951416,
           0.675186276435852,
           0.6719966530799866,
           0.7670742273330688,
           0.7024203538894653,
           0.7299959659576416,
           0.7007988095283508,
           0.7481595277786255,
           0.7121654748916626,
           0.7262270450592041,
           0.7444428205490112,
           0.6878705620765686,
           0.6551011800765991,
           0.7205673456192017,
           0.6885282397270203,
           0.7088201642036438,
           0.7203289866447449,
           0.7018384337425232,
           0.7526931762695312,
           0.17820695042610168,
           0.5525798797607422,
           0.43126630783081055,
           0.7645949721336365,
           0.6095691919326782,
           0.6303582191467285,
           0.5971324443817139,
           0.6724315881729126,
           0.640905499458313,
           0.6170454621315002,
           0.7377520203590393,
           0.744657039642334,
           0.7382292747497559,
           0.7166522145271301,
           0.6831728219985962,
           0.715865969657898,
           0.5681219100952148
          ],
          [
           0.7349363565444946,
           0.8586480617523193,
           0.9999998807907104,
           0.754459798336029,
           0.7543001174926758,
           0.7275856733322144,
           0.7598656415939331,
           0.5947324633598328,
           0.6905676126480103,
           0.7615576982498169,
           0.7708771228790283,
           0.6745908260345459,
           0.7312952280044556,
           0.7218133211135864,
           0.725162923336029,
           0.7379292249679565,
           0.7132875323295593,
           0.7600177526473999,
           0.6895151138305664,
           0.7080107927322388,
           0.7095817923545837,
           0.750559389591217,
           0.6879491806030273,
           0.7147501707077026,
           0.7034792304039001,
           0.8223996758460999,
           0.7064957618713379,
           0.7195557355880737,
           0.795404314994812,
           0.7532760500907898,
           0.7290841341018677,
           0.7141821980476379,
           0.669560432434082,
           0.7159073948860168,
           0.7448833584785461,
           0.7168335914611816,
           0.6760435104370117,
           0.6989567279815674,
           0.7568997144699097,
           0.7050840854644775,
           0.7600200176239014,
           0.7166656851768494,
           0.7836325764656067,
           0.7011005878448486,
           0.7681015133857727,
           0.7276372909545898,
           0.7259674668312073,
           0.6937177777290344,
           0.7633786201477051,
           0.7287954092025757,
           0.7287293672561646,
           0.743678092956543,
           0.6876223087310791,
           0.7896928191184998,
           0.12350326776504517,
           0.4855881631374359,
           0.39602017402648926,
           0.5094435214996338,
           0.6356576681137085,
           0.6525458097457886,
           0.6142054796218872,
           0.6623535752296448,
           0.6786571741104126,
           0.6322664022445679,
           0.6445817947387695,
           0.6906425356864929,
           0.6692683696746826,
           0.7306525707244873,
           0.6028895974159241,
           0.6628633141517639,
           0.6131144762039185
          ],
          [
           0.8562726974487305,
           0.7558028697967529,
           0.754459798336029,
           1,
           0.7245368957519531,
           0.8281570076942444,
           0.7082943916320801,
           0.6384644508361816,
           0.6701647043228149,
           0.742475152015686,
           0.7258558869361877,
           0.7022491693496704,
           0.7438176274299622,
           0.6741030216217041,
           0.7335759401321411,
           0.7224394083023071,
           0.6672228574752808,
           0.7896129488945007,
           0.7003176212310791,
           0.6669094562530518,
           0.6291466951370239,
           0.6718472242355347,
           0.6698210835456848,
           0.7177250981330872,
           0.7082836627960205,
           0.76402348279953,
           0.6677656173706055,
           0.7084444761276245,
           0.7472783327102661,
           0.7091208696365356,
           0.7137824296951294,
           0.6931167840957642,
           0.663851261138916,
           0.6979853510856628,
           0.7430012822151184,
           0.6928082704544067,
           0.7077406048774719,
           0.681606650352478,
           0.7776265144348145,
           0.7108132243156433,
           0.8348680734634399,
           0.793851375579834,
           0.7748947739601135,
           0.7650117874145508,
           0.7643053531646729,
           0.7626197338104248,
           0.7616057395935059,
           0.7471632957458496,
           0.7804863452911377,
           0.7551268339157104,
           0.7331050634384155,
           0.7712761759757996,
           0.7422016859054565,
           0.7091209888458252,
           0.15700554847717285,
           0.5366834402084351,
           0.3942827582359314,
           0.35959213972091675,
           0.5756489634513855,
           0.5963711738586426,
           0.5991384983062744,
           0.6470906138420105,
           0.6538683176040649,
           0.6692968606948853,
           0.6739438772201538,
           0.618463933467865,
           0.6378775835037231,
           0.6802996397018433,
           0.7010610103607178,
           0.7034521102905273,
           0.5637164115905762
          ],
          [
           0.793116569519043,
           0.7954545021057129,
           0.7543001174926758,
           0.7245368957519531,
           0.9999997019767761,
           0.7837347984313965,
           0.7001720666885376,
           0.5589033961296082,
           0.6379230618476868,
           0.7365354299545288,
           0.7242740392684937,
           0.6843426823616028,
           0.7135990858078003,
           0.6726614832878113,
           0.7660033702850342,
           0.6820966601371765,
           0.6742184162139893,
           0.7625205516815186,
           0.6664881110191345,
           0.63545823097229,
           0.6432404518127441,
           0.6204620599746704,
           0.6496819257736206,
           0.6886429786682129,
           0.7073351144790649,
           0.7670883536338806,
           0.6829313039779663,
           0.6942873001098633,
           0.7444647550582886,
           0.7960067391395569,
           0.7309770584106445,
           0.6443153023719788,
           0.681563138961792,
           0.6993631720542908,
           0.7444413304328918,
           0.7085704207420349,
           0.6586461067199707,
           0.706923246383667,
           0.7872747182846069,
           0.6927756071090698,
           0.6980400085449219,
           0.6675530076026917,
           0.6981035470962524,
           0.6955960392951965,
           0.7230029106140137,
           0.7459328174591064,
           0.6594266891479492,
           0.6750797033309937,
           0.7197091579437256,
           0.6923102140426636,
           0.7224371433258057,
           0.718582034111023,
           0.6718077659606934,
           0.798064649105072,
           0.09653593599796295,
           0.5077782273292542,
           0.39677107334136963,
           0.46335989236831665,
           0.5412416458129883,
           0.5509268641471863,
           0.5749620199203491,
           0.6350193619728088,
           0.6217179298400879,
           0.6114999055862427,
           0.7723467350006104,
           0.6490648984909058,
           0.7290464639663696,
           0.6328756809234619,
           0.6522842645645142,
           0.7497125864028931,
           0.5928014516830444
          ],
          [
           0.8287209272384644,
           0.7643837928771973,
           0.7275856733322144,
           0.8281570076942444,
           0.7837347984313965,
           1,
           0.7611951231956482,
           0.6545253992080688,
           0.6992405652999878,
           0.7575562596321106,
           0.7714567184448242,
           0.7158740758895874,
           0.7404161691665649,
           0.67608642578125,
           0.755285382270813,
           0.7687822580337524,
           0.684752345085144,
           0.7752529382705688,
           0.6943855881690979,
           0.6441897749900818,
           0.6782907247543335,
           0.6541546583175659,
           0.7054922580718994,
           0.6838281154632568,
           0.71708083152771,
           0.7698917984962463,
           0.7277333736419678,
           0.6929826140403748,
           0.8136355876922607,
           0.7560077905654907,
           0.7285270094871521,
           0.7438501119613647,
           0.6976116299629211,
           0.7135842442512512,
           0.7403414249420166,
           0.7021721601486206,
           0.7001295685768127,
           0.7133638858795166,
           0.8024420738220215,
           0.7780904769897461,
           0.8125656247138977,
           0.7224479913711548,
           0.7106781601905823,
           0.7332576513290405,
           0.8479098081588745,
           0.8364043235778809,
           0.71235191822052,
           0.7176904678344727,
           0.8273137807846069,
           0.7608490586280823,
           0.7806398272514343,
           0.7474637031555176,
           0.7473565340042114,
           0.8033041954040527,
           0.17550167441368103,
           0.5608718395233154,
           0.43181347846984863,
           0.38770240545272827,
           0.5687060356140137,
           0.5893834829330444,
           0.5826276540756226,
           0.6225873231887817,
           0.6433475613594055,
           0.6009312868118286,
           0.7166483998298645,
           0.6251784563064575,
           0.6915348768234253,
           0.678248405456543,
           0.6893826723098755,
           0.7477787733078003,
           0.6317346692085266
          ],
          [
           0.7200452089309692,
           0.7653868198394775,
           0.7598656415939331,
           0.7082943916320801,
           0.7001720666885376,
           0.7611951231956482,
           1.0000001192092896,
           0.6454529762268066,
           0.7363914251327515,
           0.753339409828186,
           0.7588616013526917,
           0.6929896473884583,
           0.7335399389266968,
           0.715782880783081,
           0.7418930530548096,
           0.743925929069519,
           0.724760890007019,
           0.765925407409668,
           0.7063465118408203,
           0.6856127977371216,
           0.6803164482116699,
           0.7484663724899292,
           0.6714684963226318,
           0.7046523690223694,
           0.7234682440757751,
           0.7577438354492188,
           0.6905475854873657,
           0.7082421779632568,
           0.7958139181137085,
           0.7587159276008606,
           0.7132573127746582,
           0.7127230167388916,
           0.7139908671379089,
           0.7041128873825073,
           0.7683641910552979,
           0.7319304943084717,
           0.7032062411308289,
           0.7062357068061829,
           0.7580828070640564,
           0.7536106109619141,
           0.7260346412658691,
           0.7423285245895386,
           0.7338744401931763,
           0.7112981081008911,
           0.7785069942474365,
           0.731431245803833,
           0.7085082530975342,
           0.6994303464889526,
           0.7352085709571838,
           0.7328914403915405,
           0.7471028566360474,
           0.7208046913146973,
           0.6933802366256714,
           0.7397333383560181,
           0.1745874285697937,
           0.578514575958252,
           0.4419529438018799,
           0.4370468854904175,
           0.7574228048324585,
           0.7328945994377136,
           0.6767584085464478,
           0.6842045783996582,
           0.6816011667251587,
           0.6609276533126831,
           0.6685497760772705,
           0.6511969566345215,
           0.6616737246513367,
           0.7451474666595459,
           0.6638725996017456,
           0.6368386745452881,
           0.6216841340065002
          ],
          [
           0.6539285182952881,
           0.6288949251174927,
           0.5947324633598328,
           0.6384644508361816,
           0.5589033961296082,
           0.6545253992080688,
           0.6454529762268066,
           0.9999996423721313,
           0.7087129354476929,
           0.6871724128723145,
           0.6888352036476135,
           0.6863346099853516,
           0.6618609428405762,
           0.6515048742294312,
           0.6803892850875854,
           0.674615740776062,
           0.6551928520202637,
           0.6964035034179688,
           0.6153464317321777,
           0.6003876328468323,
           0.6426522731781006,
           0.6939651966094971,
           0.6037077903747559,
           0.6406630277633667,
           0.650043249130249,
           0.634669840335846,
           0.6527374982833862,
           0.676682710647583,
           0.701339840888977,
           0.6625763773918152,
           0.6578699350357056,
           0.742052435874939,
           0.6552367806434631,
           0.638922393321991,
           0.7056237459182739,
           0.697166383266449,
           0.6889129877090454,
           0.6270239949226379,
           0.6521784067153931,
           0.6434030532836914,
           0.7085442543029785,
           0.7004349827766418,
           0.6612026691436768,
           0.709872841835022,
           0.7377175688743591,
           0.7074642777442932,
           0.6996065378189087,
           0.6542932987213135,
           0.7645756006240845,
           0.6777144074440002,
           0.6899374127388,
           0.672967255115509,
           0.6926349997520447,
           0.6514555215835571,
           0.33940666913986206,
           0.7240920662879944,
           0.5784813165664673,
           0.36283639073371887,
           0.6291241645812988,
           0.6334794759750366,
           0.5958510041236877,
           0.6393680572509766,
           0.6210160255432129,
           0.617841899394989,
           0.5970044136047363,
           0.6170480847358704,
           0.5360568165779114,
           0.6446223855018616,
           0.674261212348938,
           0.6384639739990234,
           0.6058043837547302
          ],
          [
           0.6979631185531616,
           0.6535359025001526,
           0.6905676126480103,
           0.6701647043228149,
           0.6379230618476868,
           0.6992405652999878,
           0.7363914251327515,
           0.7087129354476929,
           0.9999999403953552,
           0.7497338056564331,
           0.7452183961868286,
           0.6742691993713379,
           0.7109196782112122,
           0.7237943410873413,
           0.6983197927474976,
           0.7042649984359741,
           0.7031389474868774,
           0.6581732630729675,
           0.6361801624298096,
           0.6365149021148682,
           0.7042789459228516,
           0.7263467311859131,
           0.6188204884529114,
           0.6819127798080444,
           0.683078408241272,
           0.7050076723098755,
           0.6487109661102295,
           0.6766431331634521,
           0.8057773113250732,
           0.67423415184021,
           0.707615315914154,
           0.6907178163528442,
           0.6652143001556396,
           0.6824887990951538,
           0.715886116027832,
           0.734557032585144,
           0.6346347332000732,
           0.6959601640701294,
           0.67496657371521,
           0.6275677680969238,
           0.6627447605133057,
           0.6687586307525635,
           0.6655283570289612,
           0.6577483415603638,
           0.818556547164917,
           0.7066768407821655,
           0.6813338398933411,
           0.6457598209381104,
           0.7619500160217285,
           0.6491740942001343,
           0.6944808959960938,
           0.6859591007232666,
           0.6775932312011719,
           0.7281361818313599,
           0.14239460229873657,
           0.5397155284881592,
           0.5061724185943604,
           0.3187166452407837,
           0.6820921897888184,
           0.6850654482841492,
           0.6232086420059204,
           0.6774224042892456,
           0.6280339956283569,
           0.6168514490127563,
           0.5392885804176331,
           0.5159677267074585,
           0.5274344682693481,
           0.6319444179534912,
           0.7127050161361694,
           0.5709936022758484,
           0.5771628618240356
          ],
          [
           0.7319968938827515,
           0.7482773065567017,
           0.7615576982498169,
           0.742475152015686,
           0.7365354299545288,
           0.7575562596321106,
           0.753339409828186,
           0.6871724128723145,
           0.7497338056564331,
           1,
           0.8780491352081299,
           0.8628606796264648,
           0.8764082193374634,
           0.8387885093688965,
           0.8685487508773804,
           0.8908262252807617,
           0.8498189449310303,
           0.8952295184135437,
           0.8300038576126099,
           0.8531262874603271,
           0.8230607509613037,
           0.7862958908081055,
           0.8205575942993164,
           0.8466601371765137,
           0.8725795745849609,
           0.8467161655426025,
           0.8402420282363892,
           0.8467375636100769,
           0.8425413966178894,
           0.8303351402282715,
           0.8591631650924683,
           0.8118116855621338,
           0.8302732706069946,
           0.8249723315238953,
           0.8729667663574219,
           0.8228390216827393,
           0.8298205137252808,
           0.7881285548210144,
           0.859757661819458,
           0.8275264501571655,
           0.8020827770233154,
           0.8121728897094727,
           0.8345705270767212,
           0.8275339603424072,
           0.8225463628768921,
           0.8314539194107056,
           0.8080282807350159,
           0.8013598918914795,
           0.7878917455673218,
           0.8224459290504456,
           0.8450126051902771,
           0.8131393194198608,
           0.792259931564331,
           0.7844710350036621,
           0.13931052386760712,
           0.4878625273704529,
           0.3796292245388031,
           0.33205634355545044,
           0.7530512809753418,
           0.7840937376022339,
           0.8047103881835938,
           0.7771550416946411,
           0.7833191156387329,
           0.7941807508468628,
           0.6277943849563599,
           0.5925183296203613,
           0.5841510891914368,
           0.6771612763404846,
           0.6663076877593994,
           0.6652107238769531,
           0.6123854517936707
          ],
          [
           0.700089693069458,
           0.7333547472953796,
           0.7708771228790283,
           0.7258558869361877,
           0.7242740392684937,
           0.7714567184448242,
           0.7588616013526917,
           0.6888352036476135,
           0.7452183961868286,
           0.8780491352081299,
           0.9999998807907104,
           0.8503402471542358,
           0.8820326328277588,
           0.8681992292404175,
           0.8625742197036743,
           0.8801364898681641,
           0.8578301668167114,
           0.8771783113479614,
           0.8465831875801086,
           0.8624035120010376,
           0.8401743173599243,
           0.8024670481681824,
           0.8184002637863159,
           0.8315728902816772,
           0.832625150680542,
           0.8192025423049927,
           0.8758349418640137,
           0.8386574983596802,
           0.8533123135566711,
           0.8343906402587891,
           0.8589827418327332,
           0.8357767462730408,
           0.8695662021636963,
           0.8755281567573547,
           0.8379845023155212,
           0.8099339008331299,
           0.835075855255127,
           0.7970569729804993,
           0.8442323207855225,
           0.8116768598556519,
           0.7885046005249023,
           0.8054600954055786,
           0.8203398585319519,
           0.8438847661018372,
           0.8350427150726318,
           0.7943547964096069,
           0.8089298009872437,
           0.7909086346626282,
           0.841559112071991,
           0.8148015737533569,
           0.8493978977203369,
           0.7881197929382324,
           0.8011606335639954,
           0.7995046377182007,
           0.12280692160129547,
           0.44370347261428833,
           0.346230685710907,
           0.30699798464775085,
           0.7935963869094849,
           0.8064414858818054,
           0.7879067659378052,
           0.8019305467605591,
           0.8480522036552429,
           0.8291757702827454,
           0.5922716856002808,
           0.5444728136062622,
           0.5683261156082153,
           0.6470078825950623,
           0.6131889820098877,
           0.6175746917724609,
           0.6156325340270996
          ],
          [
           0.6692315936088562,
           0.692272424697876,
           0.6745908260345459,
           0.7022491693496704,
           0.6843426823616028,
           0.7158740758895874,
           0.6929896473884583,
           0.6863346099853516,
           0.6742691993713379,
           0.8628606796264648,
           0.8503402471542358,
           0.9999998807907104,
           0.8819150924682617,
           0.8544219136238098,
           0.8614885807037354,
           0.8780859708786011,
           0.837529718875885,
           0.9067974090576172,
           0.8184937238693237,
           0.9007711410522461,
           0.8574649691581726,
           0.8060808181762695,
           0.8317352533340454,
           0.8511474132537842,
           0.8574717044830322,
           0.793616533279419,
           0.8900062441825867,
           0.8860639333724976,
           0.8043131828308105,
           0.8269392251968384,
           0.8602492809295654,
           0.8769055008888245,
           0.8618608117103577,
           0.8223057985305786,
           0.8582196235656738,
           0.8125940561294556,
           0.8700404763221741,
           0.7561503052711487,
           0.8110040426254272,
           0.8144381046295166,
           0.7872241735458374,
           0.8381322622299194,
           0.8186110258102417,
           0.8507537245750427,
           0.7311366200447083,
           0.8149770498275757,
           0.7986411452293396,
           0.8131979703903198,
           0.7868820428848267,
           0.8121235370635986,
           0.846987247467041,
           0.7909302711486816,
           0.8420250415802002,
           0.7729558944702148,
           0.12053851783275604,
           0.4420090317726135,
           0.2982167601585388,
           0.2783798575401306,
           0.7720120549201965,
           0.7907568216323853,
           0.8734508752822876,
           0.790526270866394,
           0.8225082159042358,
           0.8222724199295044,
           0.5813168287277222,
           0.565142035484314,
           0.5489401817321777,
           0.6689603328704834,
           0.6283069252967834,
           0.6444814205169678,
           0.591401219367981
          ],
          [
           0.7329277992248535,
           0.7014009952545166,
           0.7312952280044556,
           0.7438176274299622,
           0.7135990858078003,
           0.7404161691665649,
           0.7335399389266968,
           0.6618609428405762,
           0.7109196782112122,
           0.8764082193374634,
           0.8820326328277588,
           0.8819150924682617,
           1.0000001192092896,
           0.9068108797073364,
           0.8855142593383789,
           0.8843269348144531,
           0.8844456672668457,
           0.9042397737503052,
           0.9044418334960938,
           0.8628043532371521,
           0.8200591802597046,
           0.789158046245575,
           0.8779281377792358,
           0.8910075426101685,
           0.865014910697937,
           0.8423367738723755,
           0.8508960008621216,
           0.870025634765625,
           0.8592768907546997,
           0.8508415222167969,
           0.8596218824386597,
           0.8070933818817139,
           0.839729368686676,
           0.8801575899124146,
           0.8964970111846924,
           0.8642090559005737,
           0.8348665237426758,
           0.8082091808319092,
           0.8330206871032715,
           0.8257579803466797,
           0.8138381242752075,
           0.8357048630714417,
           0.8479467630386353,
           0.8757275342941284,
           0.7909648418426514,
           0.778293788433075,
           0.816299319267273,
           0.8343125581741333,
           0.8033601641654968,
           0.8319212198257446,
           0.833035945892334,
           0.8302854299545288,
           0.7963474988937378,
           0.7868150472640991,
           0.12457650154829025,
           0.4537743330001831,
           0.3353540599346161,
           0.2718210518360138,
           0.7810674905776978,
           0.8176465630531311,
           0.797877848148346,
           0.8334448337554932,
           0.8546289205551147,
           0.8539102077484131,
           0.603573203086853,
           0.5416456460952759,
           0.5601006150245667,
           0.658072292804718,
           0.6031047105789185,
           0.6796589493751526,
           0.6458247900009155
          ],
          [
           0.6682431697845459,
           0.6702995896339417,
           0.7218133211135864,
           0.6741030216217041,
           0.6726614832878113,
           0.67608642578125,
           0.715782880783081,
           0.6515048742294312,
           0.7237943410873413,
           0.8387885093688965,
           0.8681992292404175,
           0.8544219136238098,
           0.9068108797073364,
           1.0000001192092896,
           0.8325215578079224,
           0.8820301294326782,
           0.8559999465942383,
           0.8418518900871277,
           0.8263098001480103,
           0.8453800678253174,
           0.8204755783081055,
           0.7935340404510498,
           0.8116246461868286,
           0.8635242581367493,
           0.8258431553840637,
           0.7986848950386047,
           0.8236308097839355,
           0.8772971630096436,
           0.8539779186248779,
           0.786343514919281,
           0.8553265333175659,
           0.8235880136489868,
           0.8357175588607788,
           0.8405719995498657,
           0.8415117859840393,
           0.8339574337005615,
           0.7991853952407837,
           0.7553882598876953,
           0.791934609413147,
           0.7687253952026367,
           0.75334632396698,
           0.7991747260093689,
           0.8203405141830444,
           0.8090639114379883,
           0.7909501194953918,
           0.74596107006073,
           0.79008549451828,
           0.7611731290817261,
           0.7795768976211548,
           0.7756139039993286,
           0.7890921831130981,
           0.7865525484085083,
           0.7419840097427368,
           0.740691065788269,
           0.10313815623521805,
           0.444535493850708,
           0.3232669234275818,
           0.27653124928474426,
           0.7869089245796204,
           0.8117160201072693,
           0.8011989593505859,
           0.8075394034385681,
           0.8430501222610474,
           0.8418407440185547,
           0.559926450252533,
           0.5263694524765015,
           0.5326299071311951,
           0.6335476636886597,
           0.5752968788146973,
           0.6280913949012756,
           0.6564797163009644
          ],
          [
           0.7372193336486816,
           0.7123972177505493,
           0.725162923336029,
           0.7335759401321411,
           0.7660033702850342,
           0.755285382270813,
           0.7418930530548096,
           0.6803892850875854,
           0.6983197927474976,
           0.8685487508773804,
           0.8625742197036743,
           0.8614885807037354,
           0.8855142593383789,
           0.8325215578079224,
           0.9999997615814209,
           0.8657363653182983,
           0.8866996765136719,
           0.9038100242614746,
           0.8367419242858887,
           0.844205915927887,
           0.8609108328819275,
           0.7701849937438965,
           0.8702034950256348,
           0.8520470857620239,
           0.8589938879013062,
           0.8163822889328003,
           0.8295456767082214,
           0.8425028324127197,
           0.8515076041221619,
           0.8488949537277222,
           0.845118522644043,
           0.830456018447876,
           0.902490496635437,
           0.8455786108970642,
           0.8825594186782837,
           0.8662067651748657,
           0.8334434032440186,
           0.8352069854736328,
           0.8603154420852661,
           0.8468215465545654,
           0.78264981508255,
           0.8214889764785767,
           0.8253187537193298,
           0.8410651087760925,
           0.7701446413993835,
           0.799538254737854,
           0.7771939039230347,
           0.8367573022842407,
           0.7777064442634583,
           0.7974404096603394,
           0.8484756946563721,
           0.8160787224769592,
           0.7739269733428955,
           0.8184534907341003,
           0.16326794028282166,
           0.501624345779419,
           0.38590607047080994,
           0.284496545791626,
           0.7287721633911133,
           0.7798563241958618,
           0.8084498643875122,
           0.8039087057113647,
           0.8109446167945862,
           0.8184468746185303,
           0.6450577974319458,
           0.6071099042892456,
           0.6066145896911621,
           0.6773382425308228,
           0.631071925163269,
           0.6525815725326538,
           0.6611407995223999
          ],
          [
           0.7081826329231262,
           0.6976931095123291,
           0.7379292249679565,
           0.7224394083023071,
           0.6820966601371765,
           0.7687822580337524,
           0.743925929069519,
           0.674615740776062,
           0.7042649984359741,
           0.8908262252807617,
           0.8801364898681641,
           0.8780859708786011,
           0.8843269348144531,
           0.8820301294326782,
           0.8657363653182983,
           1.0000001192092896,
           0.8463830947875977,
           0.9019620418548584,
           0.8390977382659912,
           0.8508608341217041,
           0.8501978516578674,
           0.7862644791603088,
           0.8475279808044434,
           0.818132758140564,
           0.860896110534668,
           0.8139951229095459,
           0.8646705150604248,
           0.8277233839035034,
           0.8651338219642639,
           0.8207312822341919,
           0.8642475605010986,
           0.8849775195121765,
           0.8417112231254578,
           0.8402562141418457,
           0.8478861451148987,
           0.826148509979248,
           0.7948721051216125,
           0.7923505306243896,
           0.8443199992179871,
           0.8430553674697876,
           0.8099896907806396,
           0.815556526184082,
           0.8280150890350342,
           0.8064194917678833,
           0.8197110891342163,
           0.8003897666931152,
           0.7965081930160522,
           0.8213433027267456,
           0.8043197393417358,
           0.8308134078979492,
           0.87652987241745,
           0.8103523850440979,
           0.7973469495773315,
           0.7630921006202698,
           0.1400185078382492,
           0.48666536808013916,
           0.35228097438812256,
           0.27323880791664124,
           0.7668584585189819,
           0.8044862747192383,
           0.7942476868629456,
           0.7656344771385193,
           0.801065981388092,
           0.7879809141159058,
           0.5949504375457764,
           0.5934301614761353,
           0.5856260657310486,
           0.6733555793762207,
           0.609083354473114,
           0.6231718063354492,
           0.6589287519454956
          ],
          [
           0.6569848656654358,
           0.6519105434417725,
           0.7132875323295593,
           0.6672228574752808,
           0.6742184162139893,
           0.684752345085144,
           0.724760890007019,
           0.6551928520202637,
           0.7031389474868774,
           0.8498189449310303,
           0.8578301668167114,
           0.837529718875885,
           0.8844456672668457,
           0.8559999465942383,
           0.8866996765136719,
           0.8463830947875977,
           1,
           0.8679337501525879,
           0.8202071189880371,
           0.8398991823196411,
           0.8728397488594055,
           0.7590499520301819,
           0.8144060373306274,
           0.8311172723770142,
           0.9025083184242249,
           0.8211712837219238,
           0.8236202001571655,
           0.8602745532989502,
           0.8421407341957092,
           0.8633455634117126,
           0.8577719926834106,
           0.8006153106689453,
           0.8415474891662598,
           0.7968169450759888,
           0.914136528968811,
           0.85682213306427,
           0.8020434975624084,
           0.8709467649459839,
           0.8344569206237793,
           0.8421674370765686,
           0.739194393157959,
           0.8028342723846436,
           0.8271996974945068,
           0.793785810470581,
           0.7566877007484436,
           0.7508724927902222,
           0.7755981683731079,
           0.8127313852310181,
           0.7486701607704163,
           0.7936166524887085,
           0.8210970163345337,
           0.8160552978515625,
           0.7135581970214844,
           0.807388186454773,
           0.09364429861307144,
           0.4200689196586609,
           0.30670252442359924,
           0.24690407514572144,
           0.7680906057357788,
           0.8017737865447998,
           0.786160409450531,
           0.8212707042694092,
           0.804564893245697,
           0.8066620826721191,
           0.5389853715896606,
           0.5062510967254639,
           0.5401281118392944,
           0.6382333040237427,
           0.5592254400253296,
           0.5680333971977234,
           0.6105862259864807
          ],
          [
           0.7533242702484131,
           0.7614789009094238,
           0.7600177526473999,
           0.7896129488945007,
           0.7625205516815186,
           0.7752529382705688,
           0.765925407409668,
           0.6964035034179688,
           0.6581732630729675,
           0.8952295184135437,
           0.8771783113479614,
           0.9067974090576172,
           0.9042397737503052,
           0.8418518900871277,
           0.9038100242614746,
           0.9019620418548584,
           0.8679337501525879,
           0.9999998211860657,
           0.8570796251296997,
           0.8878432512283325,
           0.826775074005127,
           0.803699254989624,
           0.8503037691116333,
           0.8551767468452454,
           0.9072168469429016,
           0.8453714847564697,
           0.8754462003707886,
           0.8905236721038818,
           0.8361139893531799,
           0.8868050575256348,
           0.8717880845069885,
           0.8570630550384521,
           0.864683985710144,
           0.8445143699645996,
           0.8860539197921753,
           0.8344947099685669,
           0.8734228610992432,
           0.8025087118148804,
           0.9124801754951477,
           0.8629542589187622,
           0.8574141263961792,
           0.8810133934020996,
           0.900793194770813,
           0.8831667900085449,
           0.7590804696083069,
           0.8223552703857422,
           0.8388081789016724,
           0.879601776599884,
           0.8100711107254028,
           0.859988272190094,
           0.8876736164093018,
           0.8606064319610596,
           0.8368803262710571,
           0.7812514901161194,
           0.12120633572340012,
           0.46988362073898315,
           0.33433473110198975,
           0.31516677141189575,
           0.7764300107955933,
           0.786461591720581,
           0.832145094871521,
           0.8180236220359802,
           0.8245386481285095,
           0.8410381078720093,
           0.6390924453735352,
           0.6247110962867737,
           0.6111993789672852,
           0.7013664841651917,
           0.6083571910858154,
           0.6947786808013916,
           0.6203666925430298
          ],
          [
           0.6825224161148071,
           0.6978678703308105,
           0.6895151138305664,
           0.7003176212310791,
           0.6664881110191345,
           0.6943855881690979,
           0.7063465118408203,
           0.6153464317321777,
           0.6361801624298096,
           0.8300038576126099,
           0.8465831875801086,
           0.8184937238693237,
           0.9044418334960938,
           0.8263098001480103,
           0.8367419242858887,
           0.8390977382659912,
           0.8202071189880371,
           0.8570796251296997,
           1,
           0.8212099671363831,
           0.7532984614372253,
           0.7365726828575134,
           0.8769455552101135,
           0.847871720790863,
           0.8062930107116699,
           0.796579122543335,
           0.8162962794303894,
           0.791815996170044,
           0.774817168712616,
           0.7920439839363098,
           0.8152734041213989,
           0.7529878616333008,
           0.7803281545639038,
           0.8838351964950562,
           0.8223378658294678,
           0.8177787065505981,
           0.7949070930480957,
           0.7558987140655518,
           0.7972738742828369,
           0.8017511963844299,
           0.7910310626029968,
           0.8110721111297607,
           0.8315460085868835,
           0.8535802364349365,
           0.718415379524231,
           0.7057482004165649,
           0.8147104978561401,
           0.810871958732605,
           0.7529840469360352,
           0.8161612749099731,
           0.8094415664672852,
           0.7894992828369141,
           0.7566424608230591,
           0.7474811673164368,
           0.1352752298116684,
           0.4299560785293579,
           0.33195751905441284,
           0.31111159920692444,
           0.7431650161743164,
           0.8109554052352905,
           0.7300240993499756,
           0.8213896751403809,
           0.8144167065620422,
           0.8379406929016113,
           0.5907275080680847,
           0.5794721245765686,
           0.5728898048400879,
           0.6194456815719604,
           0.5873905420303345,
           0.5827481746673584,
           0.5591531991958618
          ],
          [
           0.6169753074645996,
           0.6635147333145142,
           0.7080107927322388,
           0.6669094562530518,
           0.63545823097229,
           0.6441897749900818,
           0.6856127977371216,
           0.6003876328468323,
           0.6365149021148682,
           0.8531262874603271,
           0.8624035120010376,
           0.9007711410522461,
           0.8628043532371521,
           0.8453800678253174,
           0.844205915927887,
           0.8508608341217041,
           0.8398991823196411,
           0.8878432512283325,
           0.8212099671363831,
           1,
           0.8752518892288208,
           0.8618342876434326,
           0.8685612678527832,
           0.8318700790405273,
           0.8391481041908264,
           0.7771940231323242,
           0.8387924432754517,
           0.853435754776001,
           0.7514051795005798,
           0.7690712213516235,
           0.8162910342216492,
           0.8421516418457031,
           0.8077656030654907,
           0.850351095199585,
           0.8238235116004944,
           0.758630633354187,
           0.8872407674789429,
           0.7427530288696289,
           0.7613552212715149,
           0.7857155799865723,
           0.7592206001281738,
           0.8339000940322876,
           0.8207409381866455,
           0.8422853350639343,
           0.6762591600418091,
           0.7784098386764526,
           0.7954487800598145,
           0.7738419771194458,
           0.7266218066215515,
           0.7839224338531494,
           0.8061105012893677,
           0.7722232341766357,
           0.8008087873458862,
           0.7355023622512817,
           0.1033971831202507,
           0.3804504871368408,
           0.2609366178512573,
           0.23764848709106445,
           0.7808149456977844,
           0.8450750112533569,
           0.8881543278694153,
           0.8261847496032715,
           0.846164345741272,
           0.8657438158988953,
           0.5096794366836548,
           0.5425267815589905,
           0.49367791414260864,
           0.6276437044143677,
           0.5249164700508118,
           0.5699883699417114,
           0.5184580683708191
          ],
          [
           0.6235224008560181,
           0.6473520994186401,
           0.7095817923545837,
           0.6291466951370239,
           0.6432404518127441,
           0.6782907247543335,
           0.6803164482116699,
           0.6426522731781006,
           0.7042789459228516,
           0.8230607509613037,
           0.8401743173599243,
           0.8574649691581726,
           0.8200591802597046,
           0.8204755783081055,
           0.8609108328819275,
           0.8501978516578674,
           0.8728397488594055,
           0.826775074005127,
           0.7532984614372253,
           0.8752518892288208,
           1.000000238418579,
           0.8189802169799805,
           0.803170919418335,
           0.7950193881988525,
           0.8099443316459656,
           0.7784836292266846,
           0.8366162776947021,
           0.8164528608322144,
           0.8116060495376587,
           0.7821325659751892,
           0.8064764142036438,
           0.8692214488983154,
           0.8368975520133972,
           0.794731616973877,
           0.8430232405662537,
           0.7936524152755737,
           0.8252991437911987,
           0.8272725343704224,
           0.7559648156166077,
           0.7961905002593994,
           0.7193792462348938,
           0.7653505802154541,
           0.7761995792388916,
           0.7758781909942627,
           0.7345168590545654,
           0.7834678888320923,
           0.7379489541053772,
           0.7574882507324219,
           0.7549049854278564,
           0.7352803945541382,
           0.784856915473938,
           0.7537774443626404,
           0.7469839453697205,
           0.8035629391670227,
           0.1179153248667717,
           0.42014798521995544,
           0.321798175573349,
           0.23744550347328186,
           0.7438218593597412,
           0.8122636079788208,
           0.8287264704704285,
           0.7779116630554199,
           0.7877416610717773,
           0.7631447315216064,
           0.5244437456130981,
           0.5350450277328491,
           0.5319428443908691,
           0.6556984782218933,
           0.5962995886802673,
           0.5831649303436279,
           0.5771402716636658
          ],
          [
           0.6383236646652222,
           0.7140045166015625,
           0.750559389591217,
           0.6718472242355347,
           0.6204620599746704,
           0.6541546583175659,
           0.7484663724899292,
           0.6939651966094971,
           0.7263467311859131,
           0.7862958908081055,
           0.8024670481681824,
           0.8060808181762695,
           0.789158046245575,
           0.7935340404510498,
           0.7701849937438965,
           0.7862644791603088,
           0.7590499520301819,
           0.803699254989624,
           0.7365726828575134,
           0.8618342876434326,
           0.8189802169799805,
           1,
           0.7836177945137024,
           0.7815137505531311,
           0.7613610029220581,
           0.7520782947540283,
           0.7678656578063965,
           0.7873311042785645,
           0.7618842720985413,
           0.7343350648880005,
           0.787521481513977,
           0.8413673639297485,
           0.748469352722168,
           0.7867200374603271,
           0.7830629348754883,
           0.7395032644271851,
           0.839753270149231,
           0.7031642198562622,
           0.7125610113143921,
           0.7332082390785217,
           0.7493429183959961,
           0.8172905445098877,
           0.7849045991897583,
           0.7957993745803833,
           0.7160575985908508,
           0.7916561961174011,
           0.7844153046607971,
           0.719192385673523,
           0.7601775527000427,
           0.7619246244430542,
           0.7659470438957214,
           0.7607818841934204,
           0.7976164817810059,
           0.7332950830459595,
           0.20886768400669098,
           0.5311442613601685,
           0.40846675634384155,
           0.36603331565856934,
           0.7837820053100586,
           0.8509085774421692,
           0.8193323612213135,
           0.7914620041847229,
           0.7912863492965698,
           0.7908678650856018,
           0.560266375541687,
           0.6383391618728638,
           0.5422744154930115,
           0.719870924949646,
           0.6048879027366638,
           0.6098778247833252,
           0.5712165236473083
          ],
          [
           0.6573954820632935,
           0.6793582439422607,
           0.6879491806030273,
           0.6698210835456848,
           0.6496819257736206,
           0.7054922580718994,
           0.6714684963226318,
           0.6037077903747559,
           0.6188204884529114,
           0.8205575942993164,
           0.8184002637863159,
           0.8317352533340454,
           0.8779281377792358,
           0.8116246461868286,
           0.8702034950256348,
           0.8475279808044434,
           0.8144060373306274,
           0.8503037691116333,
           0.8769455552101135,
           0.8685612678527832,
           0.803170919418335,
           0.7836177945137024,
           1.0000001192092896,
           0.8280079364776611,
           0.8098158240318298,
           0.7926353812217712,
           0.8017461895942688,
           0.7893663048744202,
           0.7653980255126953,
           0.7744686603546143,
           0.8142591118812561,
           0.798031210899353,
           0.7935619354248047,
           0.8617210388183594,
           0.8273516893386841,
           0.797552227973938,
           0.7997108697891235,
           0.774150013923645,
           0.7582125663757324,
           0.8265129327774048,
           0.7654427289962769,
           0.7884706258773804,
           0.8082797527313232,
           0.8247734308242798,
           0.6953518390655518,
           0.7629798054695129,
           0.7668285369873047,
           0.7798271179199219,
           0.7285791635513306,
           0.758204460144043,
           0.8198297619819641,
           0.7516699433326721,
           0.7671378254890442,
           0.7613860368728638,
           0.1336102932691574,
           0.43207263946533203,
           0.3285329043865204,
           0.2974604666233063,
           0.7064365148544312,
           0.8043714165687561,
           0.7786909937858582,
           0.7900880575180054,
           0.8300685882568359,
           0.8159993886947632,
           0.5636280179023743,
           0.5842835903167725,
           0.5526301264762878,
           0.60417640209198,
           0.5442904233932495,
           0.5877459049224854,
           0.5659810304641724
          ],
          [
           0.7043989300727844,
           0.6950000524520874,
           0.7147501707077026,
           0.7177250981330872,
           0.6886429786682129,
           0.6838281154632568,
           0.7046523690223694,
           0.6406630277633667,
           0.6819127798080444,
           0.8466601371765137,
           0.8315728902816772,
           0.8511474132537842,
           0.8910075426101685,
           0.8635242581367493,
           0.8520470857620239,
           0.818132758140564,
           0.8311172723770142,
           0.8551767468452454,
           0.847871720790863,
           0.8318700790405273,
           0.7950193881988525,
           0.7815137505531311,
           0.8280079364776611,
           1,
           0.8507209420204163,
           0.8228784799575806,
           0.8218161463737488,
           0.8282434940338135,
           0.8065264225006104,
           0.8173274993896484,
           0.8500760793685913,
           0.7884773015975952,
           0.8142122030258179,
           0.8377423882484436,
           0.8636782169342041,
           0.825075626373291,
           0.8195744752883911,
           0.7846331596374512,
           0.8099820017814636,
           0.7881089448928833,
           0.7626854181289673,
           0.8124488592147827,
           0.8708170652389526,
           0.8465609550476074,
           0.7479923367500305,
           0.7717103958129883,
           0.8126934766769409,
           0.7884481549263,
           0.7467041015625,
           0.7918429374694824,
           0.7902860045433044,
           0.8043850660324097,
           0.7546762228012085,
           0.7909845113754272,
           0.15342071652412415,
           0.4810413122177124,
           0.3788073658943176,
           0.32440441846847534,
           0.7477145195007324,
           0.809728741645813,
           0.8022403717041016,
           0.7975075244903564,
           0.8407718539237976,
           0.8538768291473389,
           0.6010218858718872,
           0.5571140050888062,
           0.5527980923652649,
           0.6754889488220215,
           0.623492419719696,
           0.6342427730560303,
           0.5921574234962463
          ],
          [
           0.6834272146224976,
           0.6904716491699219,
           0.7034792304039001,
           0.7082836627960205,
           0.7073351144790649,
           0.71708083152771,
           0.7234682440757751,
           0.650043249130249,
           0.683078408241272,
           0.8725795745849609,
           0.832625150680542,
           0.8574717044830322,
           0.865014910697937,
           0.8258431553840637,
           0.8589938879013062,
           0.860896110534668,
           0.9025083184242249,
           0.9072168469429016,
           0.8062930107116699,
           0.8391481041908264,
           0.8099443316459656,
           0.7613610029220581,
           0.8098158240318298,
           0.8507209420204163,
           1.0000001192092896,
           0.8130916357040405,
           0.8346213102340698,
           0.8469878435134888,
           0.816946804523468,
           0.8946870565414429,
           0.8608219623565674,
           0.8189929723739624,
           0.8327960968017578,
           0.7948538661003113,
           0.8936335444450378,
           0.8270058035850525,
           0.7861132621765137,
           0.8124370574951172,
           0.8909012079238892,
           0.8808479905128479,
           0.7667386531829834,
           0.8050775527954102,
           0.8546057939529419,
           0.8057705760002136,
           0.7406344413757324,
           0.761877715587616,
           0.791324257850647,
           0.8220224380493164,
           0.7312210202217102,
           0.8051410913467407,
           0.8635702133178711,
           0.8096144199371338,
           0.7435219287872314,
           0.7871650457382202,
           0.1035071611404419,
           0.44217485189437866,
           0.3022400438785553,
           0.2947514057159424,
           0.7395972609519958,
           0.7643309831619263,
           0.7790706753730774,
           0.7928036451339722,
           0.8278474807739258,
           0.8041629791259766,
           0.5769473910331726,
           0.5508496761322021,
           0.5485261678695679,
           0.647428572177887,
           0.5547378063201904,
           0.6178491115570068,
           0.598258912563324
          ],
          [
           0.7607911229133606,
           0.738025426864624,
           0.8223996758460999,
           0.76402348279953,
           0.7670883536338806,
           0.7698917984962463,
           0.7577438354492188,
           0.634669840335846,
           0.7050076723098755,
           0.8467161655426025,
           0.8192025423049927,
           0.793616533279419,
           0.8423367738723755,
           0.7986848950386047,
           0.8163822889328003,
           0.8139951229095459,
           0.8211712837219238,
           0.8453714847564697,
           0.796579122543335,
           0.7771940231323242,
           0.7784836292266846,
           0.7520782947540283,
           0.7926353812217712,
           0.8228784799575806,
           0.8130916357040405,
           1.0000001192092896,
           0.7747130393981934,
           0.812003493309021,
           0.8654950857162476,
           0.8199456334114075,
           0.8278067708015442,
           0.7783015966415405,
           0.7592595219612122,
           0.7916352152824402,
           0.8660740852355957,
           0.8333683013916016,
           0.7549337148666382,
           0.7913156747817993,
           0.8058595657348633,
           0.804073691368103,
           0.8136694431304932,
           0.7769738435745239,
           0.8225597143173218,
           0.7773659825325012,
           0.8097546100616455,
           0.8014770150184631,
           0.8111808896064758,
           0.7957074642181396,
           0.7926797866821289,
           0.8261618614196777,
           0.7988028526306152,
           0.8103278875350952,
           0.7611463665962219,
           0.8506479263305664,
           0.12144515663385391,
           0.4919305145740509,
           0.38985979557037354,
           0.3341851234436035,
           0.6882925629615784,
           0.7167221903800964,
           0.7078428864479065,
           0.7278050780296326,
           0.7882481217384338,
           0.7290523052215576,
           0.6467934846878052,
           0.6092777252197266,
           0.6253987550735474,
           0.6814248561859131,
           0.6364025473594666,
           0.6776901483535767,
           0.6708602905273438
          ],
          [
           0.643072247505188,
           0.6970642805099487,
           0.7064957618713379,
           0.6677656173706055,
           0.6829313039779663,
           0.7277333736419678,
           0.6905475854873657,
           0.6527374982833862,
           0.6487109661102295,
           0.8402420282363892,
           0.8758349418640137,
           0.8900062441825867,
           0.8508960008621216,
           0.8236308097839355,
           0.8295456767082214,
           0.8646705150604248,
           0.8236202001571655,
           0.8754462003707886,
           0.8162962794303894,
           0.8387924432754517,
           0.8366162776947021,
           0.7678656578063965,
           0.8017461895942688,
           0.8218161463737488,
           0.8346213102340698,
           0.7747130393981934,
           1.0000001192092896,
           0.8277620077133179,
           0.7881824374198914,
           0.8263781070709229,
           0.8952092528343201,
           0.8381280303001404,
           0.8732523918151855,
           0.8224321603775024,
           0.8166323900222778,
           0.7837857604026794,
           0.82240891456604,
           0.7680598497390747,
           0.8091220855712891,
           0.8091307878494263,
           0.7450076937675476,
           0.7808884382247925,
           0.7805768251419067,
           0.8213202953338623,
           0.7307240962982178,
           0.7850446701049805,
           0.7612168788909912,
           0.7840569019317627,
           0.7741175889968872,
           0.7754775285720825,
           0.8457859754562378,
           0.7629040479660034,
           0.7793096303939819,
           0.7801601886749268,
           0.11007720232009888,
           0.3848349452018738,
           0.268120139837265,
           0.28541451692581177,
           0.7762922048568726,
           0.7921553254127502,
           0.806836724281311,
           0.784745991230011,
           0.7875462770462036,
           0.7876966595649719,
           0.5444552898406982,
           0.5281130075454712,
           0.559093713760376,
           0.6220986247062683,
           0.5518478155136108,
           0.612587571144104,
           0.5814588069915771
          ],
          [
           0.6834304332733154,
           0.6949531435966492,
           0.7195557355880737,
           0.7084444761276245,
           0.6942873001098633,
           0.6929826140403748,
           0.7082421779632568,
           0.676682710647583,
           0.6766431331634521,
           0.8467375636100769,
           0.8386574983596802,
           0.8860639333724976,
           0.870025634765625,
           0.8772971630096436,
           0.8425028324127197,
           0.8277233839035034,
           0.8602745532989502,
           0.8905236721038818,
           0.791815996170044,
           0.853435754776001,
           0.8164528608322144,
           0.7873311042785645,
           0.7893663048744202,
           0.8282434940338135,
           0.8469878435134888,
           0.812003493309021,
           0.8277620077133179,
           0.9999998807907104,
           0.8115929961204529,
           0.8387059569358826,
           0.8289909362792969,
           0.8361251354217529,
           0.8174220323562622,
           0.7954835891723633,
           0.8717209100723267,
           0.8205349445343018,
           0.8548294901847839,
           0.7566440105438232,
           0.8119418621063232,
           0.7878760099411011,
           0.8011727929115295,
           0.818846583366394,
           0.8087495565414429,
           0.8121935129165649,
           0.7303651571273804,
           0.7978075742721558,
           0.790627658367157,
           0.7907223701477051,
           0.7855883836746216,
           0.7962872385978699,
           0.7816086411476135,
           0.7774651050567627,
           0.7837382555007935,
           0.7630044221878052,
           0.10204553604125977,
           0.4277799427509308,
           0.29495546221733093,
           0.2640320360660553,
           0.7406744956970215,
           0.766716718673706,
           0.8173460364341736,
           0.8003820180892944,
           0.8051093816757202,
           0.8146063685417175,
           0.5810356140136719,
           0.5565392971038818,
           0.584516167640686,
           0.6611834764480591,
           0.5893326997756958,
           0.6491736769676208,
           0.6147578954696655
          ],
          [
           0.7671167850494385,
           0.7269545197486877,
           0.795404314994812,
           0.7472783327102661,
           0.7444647550582886,
           0.8136355876922607,
           0.7958139181137085,
           0.701339840888977,
           0.8057773113250732,
           0.8425413966178894,
           0.8533123135566711,
           0.8043131828308105,
           0.8592768907546997,
           0.8539779186248779,
           0.8515076041221619,
           0.8651338219642639,
           0.8421407341957092,
           0.8361139893531799,
           0.774817168712616,
           0.7514051795005798,
           0.8116060495376587,
           0.7618842720985413,
           0.7653980255126953,
           0.8065264225006104,
           0.816946804523468,
           0.8654950857162476,
           0.7881824374198914,
           0.8115929961204529,
           1.000000238418579,
           0.826748788356781,
           0.8318542242050171,
           0.8334987759590149,
           0.8041499853134155,
           0.7875410318374634,
           0.8530757427215576,
           0.843519926071167,
           0.7239892482757568,
           0.7972095608711243,
           0.8507802486419678,
           0.7901604175567627,
           0.7891868948936462,
           0.7663909196853638,
           0.8249177932739258,
           0.736793041229248,
           0.905341386795044,
           0.7759743928909302,
           0.7513647079467773,
           0.8109515905380249,
           0.8446284532546997,
           0.7995008826255798,
           0.8435255289077759,
           0.8174057602882385,
           0.7336230874061584,
           0.8411531448364258,
           0.16451388597488403,
           0.5634453296661377,
           0.45051831007003784,
           0.3348178565502167,
           0.7124717235565186,
           0.7153205275535583,
           0.7184536457061768,
           0.7207860350608826,
           0.7638795375823975,
           0.704234778881073,
           0.6577591300010681,
           0.6181356906890869,
           0.634357213973999,
           0.7535613775253296,
           0.7002490758895874,
           0.684389591217041,
           0.8282479047775269
          ],
          [
           0.7118806838989258,
           0.7408124208450317,
           0.7532760500907898,
           0.7091208696365356,
           0.7960067391395569,
           0.7560077905654907,
           0.7587159276008606,
           0.6625763773918152,
           0.67423415184021,
           0.8303351402282715,
           0.8343906402587891,
           0.8269392251968384,
           0.8508415222167969,
           0.786343514919281,
           0.8488949537277222,
           0.8207312822341919,
           0.8633455634117126,
           0.8868050575256348,
           0.7920439839363098,
           0.7690712213516235,
           0.7821325659751892,
           0.7343350648880005,
           0.7744686603546143,
           0.8173274993896484,
           0.8946870565414429,
           0.8199456334114075,
           0.8263781070709229,
           0.8387059569358826,
           0.826748788356781,
           1.0000004768371582,
           0.8748207688331604,
           0.7771114110946655,
           0.8331456780433655,
           0.7736973166465759,
           0.8967887163162231,
           0.8332355618476868,
           0.7570679187774658,
           0.8184551000595093,
           0.9003876447677612,
           0.8504847884178162,
           0.7646805644035339,
           0.7983009815216064,
           0.8232667446136475,
           0.7803630828857422,
           0.7704088687896729,
           0.766807496547699,
           0.7652387022972107,
           0.7853789329528809,
           0.762607216835022,
           0.8074841499328613,
           0.8297898769378662,
           0.786660373210907,
           0.7525683641433716,
           0.8318897485733032,
           0.11739088594913483,
           0.467526912689209,
           0.3395195007324219,
           0.3440060317516327,
           0.7172447443008423,
           0.7366641163825989,
           0.7395639419555664,
           0.7747824192047119,
           0.7793943881988525,
           0.7443507313728333,
           0.6332107782363892,
           0.5779749155044556,
           0.5809576511383057,
           0.6642571687698364,
           0.5886778235435486,
           0.6576954126358032,
           0.6271401643753052
          ],
          [
           0.6770206689834595,
           0.6905093193054199,
           0.7290841341018677,
           0.7137824296951294,
           0.7309770584106445,
           0.7285270094871521,
           0.7132573127746582,
           0.6578699350357056,
           0.707615315914154,
           0.8591631650924683,
           0.8589827418327332,
           0.8602492809295654,
           0.8596218824386597,
           0.8553265333175659,
           0.845118522644043,
           0.8642475605010986,
           0.8577719926834106,
           0.8717880845069885,
           0.8152734041213989,
           0.8162910342216492,
           0.8064764142036438,
           0.787521481513977,
           0.8142591118812561,
           0.8500760793685913,
           0.8608219623565674,
           0.8278067708015442,
           0.8952092528343201,
           0.8289909362792969,
           0.8318542242050171,
           0.8748207688331604,
           0.9999998807907104,
           0.798062801361084,
           0.857006311416626,
           0.8035260438919067,
           0.8439584970474243,
           0.8105027675628662,
           0.7781793475151062,
           0.795968770980835,
           0.8503130078315735,
           0.8117420673370361,
           0.780340313911438,
           0.8462603092193604,
           0.8272574543952942,
           0.8041195869445801,
           0.781025767326355,
           0.7924321293830872,
           0.8132754564285278,
           0.798626184463501,
           0.778343915939331,
           0.8161653280258179,
           0.8632558584213257,
           0.8358355760574341,
           0.7822685241699219,
           0.7916783094406128,
           0.13859541714191437,
           0.450115829706192,
           0.31808361411094666,
           0.2832488417625427,
           0.770305335521698,
           0.792439341545105,
           0.8033603429794312,
           0.8011963367462158,
           0.8001394271850586,
           0.8259810209274292,
           0.5605269074440002,
           0.5525896549224854,
           0.5473663806915283,
           0.6211957931518555,
           0.5590939521789551,
           0.611903190612793,
           0.6455107927322388
          ],
          [
           0.6791886687278748,
           0.7104490995407104,
           0.7141821980476379,
           0.6931167840957642,
           0.6443153023719788,
           0.7438501119613647,
           0.7127230167388916,
           0.742052435874939,
           0.6907178163528442,
           0.8118116855621338,
           0.8357767462730408,
           0.8769055008888245,
           0.8070933818817139,
           0.8235880136489868,
           0.830456018447876,
           0.8849775195121765,
           0.8006153106689453,
           0.8570630550384521,
           0.7529878616333008,
           0.8421516418457031,
           0.8692214488983154,
           0.8413673639297485,
           0.798031210899353,
           0.7884773015975952,
           0.8189929723739624,
           0.7783015966415405,
           0.8381280303001404,
           0.8361251354217529,
           0.8334987759590149,
           0.7771114110946655,
           0.798062801361084,
           0.9999997615814209,
           0.8043209314346313,
           0.8201560974121094,
           0.8241541385650635,
           0.7928838729858398,
           0.8177266120910645,
           0.7418028116226196,
           0.7758371829986572,
           0.8118294477462769,
           0.8083033561706543,
           0.7883111238479614,
           0.7923600077629089,
           0.7961326241493225,
           0.7688252925872803,
           0.7974523305892944,
           0.7835010886192322,
           0.7951745986938477,
           0.8314306735992432,
           0.7920072078704834,
           0.8282420039176941,
           0.7665603160858154,
           0.8256332278251648,
           0.7738521099090576,
           0.18238091468811035,
           0.5257539749145508,
           0.3778948187828064,
           0.33260396122932434,
           0.7295653820037842,
           0.7559765577316284,
           0.7898706197738647,
           0.7229585647583008,
           0.8012980222702026,
           0.74063640832901,
           0.6086792945861816,
           0.6278209686279297,
           0.5935900211334229,
           0.7151129245758057,
           0.6278518438339233,
           0.6645985841751099,
           0.6656532287597656
          ],
          [
           0.670128345489502,
           0.6713359355926514,
           0.669560432434082,
           0.663851261138916,
           0.681563138961792,
           0.6976116299629211,
           0.7139908671379089,
           0.6552367806434631,
           0.6652143001556396,
           0.8302732706069946,
           0.8695662021636963,
           0.8618608117103577,
           0.839729368686676,
           0.8357175588607788,
           0.902490496635437,
           0.8417112231254578,
           0.8415474891662598,
           0.864683985710144,
           0.7803281545639038,
           0.8077656030654907,
           0.8368975520133972,
           0.748469352722168,
           0.7935619354248047,
           0.8142122030258179,
           0.8327960968017578,
           0.7592595219612122,
           0.8732523918151855,
           0.8174220323562622,
           0.8041499853134155,
           0.8331456780433655,
           0.857006311416626,
           0.8043209314346313,
           1.0000003576278687,
           0.8010478019714355,
           0.8407117128372192,
           0.8297733068466187,
           0.8111907243728638,
           0.7867172956466675,
           0.8505065441131592,
           0.8267704248428345,
           0.7133382558822632,
           0.792946994304657,
           0.7739058136940002,
           0.8151447772979736,
           0.7534593939781189,
           0.7835096120834351,
           0.7538038492202759,
           0.7644879817962646,
           0.7370172739028931,
           0.7721040844917297,
           0.8261607885360718,
           0.7630380392074585,
           0.7620750665664673,
           0.7707099914550781,
           0.14675983786582947,
           0.44397327303886414,
           0.32671481370925903,
           0.27793410420417786,
           0.7675164937973022,
           0.7947754859924316,
           0.8231652975082397,
           0.7849985361099243,
           0.7757634520530701,
           0.7982171773910522,
           0.5868001580238342,
           0.5238742828369141,
           0.5244678258895874,
           0.6030669212341309,
           0.5639238357543945,
           0.6003674268722534,
           0.6239925622940063
          ],
          [
           0.6944736838340759,
           0.7088378667831421,
           0.7159073948860168,
           0.6979853510856628,
           0.6993631720542908,
           0.7135842442512512,
           0.7041128873825073,
           0.638922393321991,
           0.6824887990951538,
           0.8249723315238953,
           0.8755281567573547,
           0.8223057985305786,
           0.8801575899124146,
           0.8405719995498657,
           0.8455786108970642,
           0.8402562141418457,
           0.7968169450759888,
           0.8445143699645996,
           0.8838351964950562,
           0.850351095199585,
           0.794731616973877,
           0.7867200374603271,
           0.8617210388183594,
           0.8377423882484436,
           0.7948538661003113,
           0.7916352152824402,
           0.8224321603775024,
           0.7954835891723633,
           0.7875410318374634,
           0.7736973166465759,
           0.8035260438919067,
           0.8201560974121094,
           0.8010478019714355,
           1,
           0.81813645362854,
           0.7948495745658875,
           0.8204569220542908,
           0.7290217876434326,
           0.7766002416610718,
           0.7922259569168091,
           0.7605447769165039,
           0.7595838904380798,
           0.7962280511856079,
           0.8572602868080139,
           0.7351500391960144,
           0.7301721572875977,
           0.7864218950271606,
           0.757442831993103,
           0.7676746249198914,
           0.7759412527084351,
           0.8114804029464722,
           0.7509121894836426,
           0.7310367226600647,
           0.7652969360351562,
           0.15370965003967285,
           0.45645618438720703,
           0.36603695154190063,
           0.2990012466907501,
           0.7146724462509155,
           0.7731630802154541,
           0.7426028251647949,
           0.8161499500274658,
           0.8277933597564697,
           0.8041495680809021,
           0.6211410164833069,
           0.574230432510376,
           0.5787382125854492,
           0.6237975358963013,
           0.6179964542388916,
           0.6090664863586426,
           0.5764275789260864
          ],
          [
           0.741016685962677,
           0.7269555330276489,
           0.7448833584785461,
           0.7430012822151184,
           0.7444413304328918,
           0.7403414249420166,
           0.7683641910552979,
           0.7056237459182739,
           0.715886116027832,
           0.8729667663574219,
           0.8379845023155212,
           0.8582196235656738,
           0.8964970111846924,
           0.8415117859840393,
           0.8825594186782837,
           0.8478861451148987,
           0.914136528968811,
           0.8860539197921753,
           0.8223378658294678,
           0.8238235116004944,
           0.8430232405662537,
           0.7830629348754883,
           0.8273516893386841,
           0.8636782169342041,
           0.8936335444450378,
           0.8660740852355957,
           0.8166323900222778,
           0.8717209100723267,
           0.8530757427215576,
           0.8967887163162231,
           0.8439584970474243,
           0.8241541385650635,
           0.8407117128372192,
           0.81813645362854,
           1.0000001192092896,
           0.8915233016014099,
           0.8047253489494324,
           0.8672823905944824,
           0.8540596961975098,
           0.869679868221283,
           0.7766262888908386,
           0.8063910007476807,
           0.8476682901382446,
           0.8191834688186646,
           0.7913694381713867,
           0.8012815713882446,
           0.7936943769454956,
           0.8002482652664185,
           0.7702489495277405,
           0.8104169368743896,
           0.8114241361618042,
           0.82218998670578,
           0.7643371820449829,
           0.8388333320617676,
           0.1451939046382904,
           0.5068859457969666,
           0.3624921441078186,
           0.31604504585266113,
           0.7528262734413147,
           0.8034249544143677,
           0.7813428640365601,
           0.8364019989967346,
           0.8182708024978638,
           0.7961573600769043,
           0.6534377336502075,
           0.588951826095581,
           0.6067257523536682,
           0.6990154981613159,
           0.6523599624633789,
           0.6728954315185547,
           0.6361080408096313
          ],
          [
           0.7389448881149292,
           0.7108309268951416,
           0.7168335914611816,
           0.6928082704544067,
           0.7085704207420349,
           0.7021721601486206,
           0.7319304943084717,
           0.697166383266449,
           0.734557032585144,
           0.8228390216827393,
           0.8099339008331299,
           0.8125940561294556,
           0.8642090559005737,
           0.8339574337005615,
           0.8662067651748657,
           0.826148509979248,
           0.85682213306427,
           0.8344947099685669,
           0.8177787065505981,
           0.758630633354187,
           0.7936524152755737,
           0.7395032644271851,
           0.797552227973938,
           0.825075626373291,
           0.8270058035850525,
           0.8333683013916016,
           0.7837857604026794,
           0.8205349445343018,
           0.843519926071167,
           0.8332355618476868,
           0.8105027675628662,
           0.7928838729858398,
           0.8297733068466187,
           0.7948495745658875,
           0.8915233016014099,
           1,
           0.752826452255249,
           0.8310064077377319,
           0.8098034858703613,
           0.8143125176429749,
           0.7536686062812805,
           0.7710649967193604,
           0.7985271215438843,
           0.7780598402023315,
           0.7755402326583862,
           0.7506669163703918,
           0.7742154002189636,
           0.7486864328384399,
           0.7269625067710876,
           0.7737199068069458,
           0.7789654731750488,
           0.7942911386489868,
           0.732093095779419,
           0.7964708209037781,
           0.16191530227661133,
           0.5253016948699951,
           0.38836270570755005,
           0.3526790142059326,
           0.7064023017883301,
           0.7711190581321716,
           0.7209755778312683,
           0.7950332760810852,
           0.7875842452049255,
           0.756837010383606,
           0.6531492471694946,
           0.6004531979560852,
           0.5996485948562622,
           0.6684273481369019,
           0.6378768086433411,
           0.639061689376831,
           0.6492741107940674
          ],
          [
           0.6639782786369324,
           0.675186276435852,
           0.6760435104370117,
           0.7077406048774719,
           0.6586461067199707,
           0.7001295685768127,
           0.7032062411308289,
           0.6889129877090454,
           0.6346347332000732,
           0.8298205137252808,
           0.835075855255127,
           0.8700404763221741,
           0.8348665237426758,
           0.7991853952407837,
           0.8334434032440186,
           0.7948721051216125,
           0.8020434975624084,
           0.8734228610992432,
           0.7949070930480957,
           0.8872407674789429,
           0.8252991437911987,
           0.839753270149231,
           0.7997108697891235,
           0.8195744752883911,
           0.7861132621765137,
           0.7549337148666382,
           0.82240891456604,
           0.8548294901847839,
           0.7239892482757568,
           0.7570679187774658,
           0.7781793475151062,
           0.8177266120910645,
           0.8111907243728638,
           0.8204569220542908,
           0.8047253489494324,
           0.752826452255249,
           1.000000238418579,
           0.7341514229774475,
           0.7553708553314209,
           0.7776415348052979,
           0.8024548292160034,
           0.8488613367080688,
           0.787756621837616,
           0.9184980392456055,
           0.6875543594360352,
           0.8669158220291138,
           0.8147350549697876,
           0.7909116744995117,
           0.7965971231460571,
           0.802388072013855,
           0.7778271436691284,
           0.7662134766578674,
           0.8363417387008667,
           0.7257939577102661,
           0.13415628671646118,
           0.4564690589904785,
           0.31417393684387207,
           0.2653156816959381,
           0.7611986398696899,
           0.8031856417655945,
           0.8196920156478882,
           0.7709087133407593,
           0.8161665201187134,
           0.8525983095169067,
           0.5788886547088623,
           0.5554189085960388,
           0.5306907296180725,
           0.6301180124282837,
           0.6006119251251221,
           0.6544079780578613,
           0.5128962993621826
          ],
          [
           0.7019929885864258,
           0.6719966530799866,
           0.6989567279815674,
           0.681606650352478,
           0.706923246383667,
           0.7133638858795166,
           0.7062357068061829,
           0.6270239949226379,
           0.6959601640701294,
           0.7881285548210144,
           0.7970569729804993,
           0.7561503052711487,
           0.8082091808319092,
           0.7553882598876953,
           0.8352069854736328,
           0.7923505306243896,
           0.8709467649459839,
           0.8025087118148804,
           0.7558987140655518,
           0.7427530288696289,
           0.8272725343704224,
           0.7031642198562622,
           0.774150013923645,
           0.7846331596374512,
           0.8124370574951172,
           0.7913156747817993,
           0.7680598497390747,
           0.7566440105438232,
           0.7972095608711243,
           0.8184551000595093,
           0.795968770980835,
           0.7418028116226196,
           0.7867172956466675,
           0.7290217876434326,
           0.8672823905944824,
           0.8310064077377319,
           0.7341514229774475,
           0.9999998807907104,
           0.810001790523529,
           0.799090564250946,
           0.7203829884529114,
           0.7317016124725342,
           0.7612573504447937,
           0.7548796534538269,
           0.7430176734924316,
           0.7450942397117615,
           0.7197089195251465,
           0.7639899253845215,
           0.7079646587371826,
           0.7361496686935425,
           0.7736319899559021,
           0.7627193927764893,
           0.6842828392982483,
           0.8373783826828003,
           0.10936174541711807,
           0.46046173572540283,
           0.34599339962005615,
           0.32452166080474854,
           0.6979777812957764,
           0.7638716697692871,
           0.707734227180481,
           0.7260570526123047,
           0.742698073387146,
           0.7510111927986145,
           0.5921183228492737,
           0.5182051658630371,
           0.5475861430168152,
           0.6126089096069336,
           0.5804398059844971,
           0.590073823928833,
           0.5848652124404907
          ],
          [
           0.7794721126556396,
           0.7670742273330688,
           0.7568997144699097,
           0.7776265144348145,
           0.7872747182846069,
           0.8024420738220215,
           0.7580828070640564,
           0.6521784067153931,
           0.67496657371521,
           0.859757661819458,
           0.8442323207855225,
           0.8110040426254272,
           0.8330206871032715,
           0.791934609413147,
           0.8603154420852661,
           0.8443199992179871,
           0.8344569206237793,
           0.9124801754951477,
           0.7972738742828369,
           0.7613552212715149,
           0.7559648156166077,
           0.7125610113143921,
           0.7582125663757324,
           0.8099820017814636,
           0.8909012079238892,
           0.8058595657348633,
           0.8091220855712891,
           0.8119418621063232,
           0.8507802486419678,
           0.9003876447677612,
           0.8503130078315735,
           0.7758371829986572,
           0.8505065441131592,
           0.7766002416610718,
           0.8540596961975098,
           0.8098034858703613,
           0.7553708553314209,
           0.810001790523529,
           1.0000001192092896,
           0.8432366847991943,
           0.8001021146774292,
           0.8213770389556885,
           0.8880313634872437,
           0.807990550994873,
           0.8263682126998901,
           0.7847769260406494,
           0.7954616546630859,
           0.8232208490371704,
           0.7784603238105774,
           0.8456701636314392,
           0.8725255727767944,
           0.8592281341552734,
           0.7493765950202942,
           0.7820543050765991,
           0.12328657507896423,
           0.5015777349472046,
           0.3699723482131958,
           0.3677252531051636,
           0.688180685043335,
           0.7177368402481079,
           0.7402149438858032,
           0.7490168809890747,
           0.7488195896148682,
           0.7546149492263794,
           0.6723120212554932,
           0.6308338046073914,
           0.6254625916481018,
           0.6909530162811279,
           0.6240952014923096,
           0.6703492403030396,
           0.6559388637542725
          ],
          [
           0.6780444383621216,
           0.7024203538894653,
           0.7050840854644775,
           0.7108132243156433,
           0.6927756071090698,
           0.7780904769897461,
           0.7536106109619141,
           0.6434030532836914,
           0.6275677680969238,
           0.8275264501571655,
           0.8116768598556519,
           0.8144381046295166,
           0.8257579803466797,
           0.7687253952026367,
           0.8468215465545654,
           0.8430553674697876,
           0.8421674370765686,
           0.8629542589187622,
           0.8017511963844299,
           0.7857155799865723,
           0.7961905002593994,
           0.7332082390785217,
           0.8265129327774048,
           0.7881089448928833,
           0.8808479905128479,
           0.804073691368103,
           0.8091307878494263,
           0.7878760099411011,
           0.7901604175567627,
           0.8504847884178162,
           0.8117420673370361,
           0.8118294477462769,
           0.8267704248428345,
           0.7922259569168091,
           0.869679868221283,
           0.8143125176429749,
           0.7776415348052979,
           0.799090564250946,
           0.8432366847991943,
           1,
           0.7837148904800415,
           0.7920629382133484,
           0.7831330299377441,
           0.8198856115341187,
           0.736398458480835,
           0.7737054824829102,
           0.7553247213363647,
           0.7944943904876709,
           0.7555985450744629,
           0.7989321351051331,
           0.8399046659469604,
           0.7757642865180969,
           0.7792937159538269,
           0.7893763780593872,
           0.11155561357736588,
           0.4507754147052765,
           0.319926381111145,
           0.30254971981048584,
           0.7080729603767395,
           0.7494078874588013,
           0.7445375919342041,
           0.7467650175094604,
           0.7861828804016113,
           0.7668511867523193,
           0.5915127396583557,
           0.5826627612113953,
           0.6009716391563416,
           0.6293656229972839,
           0.5544188022613525,
           0.5909159779548645,
           0.5893975496292114
          ],
          [
           0.7819868326187134,
           0.7299959659576416,
           0.7600200176239014,
           0.8348680734634399,
           0.6980400085449219,
           0.8125656247138977,
           0.7260346412658691,
           0.7085442543029785,
           0.6627447605133057,
           0.8020827770233154,
           0.7885046005249023,
           0.7872241735458374,
           0.8138381242752075,
           0.75334632396698,
           0.78264981508255,
           0.8099896907806396,
           0.739194393157959,
           0.8574141263961792,
           0.7910310626029968,
           0.7592206001281738,
           0.7193792462348938,
           0.7493429183959961,
           0.7654427289962769,
           0.7626854181289673,
           0.7667386531829834,
           0.8136694431304932,
           0.7450076937675476,
           0.8011727929115295,
           0.7891868948936462,
           0.7646805644035339,
           0.780340313911438,
           0.8083033561706543,
           0.7133382558822632,
           0.7605447769165039,
           0.7766262888908386,
           0.7536686062812805,
           0.8024548292160034,
           0.7203829884529114,
           0.8001021146774292,
           0.7837148904800415,
           0.9999999403953552,
           0.8776421546936035,
           0.8461892008781433,
           0.8467351198196411,
           0.7757102251052856,
           0.7945840358734131,
           0.8720424175262451,
           0.8634161949157715,
           0.8820030689239502,
           0.8950468897819519,
           0.8267554044723511,
           0.8384370803833008,
           0.8569320440292358,
           0.7546612620353699,
           0.16523268818855286,
           0.5239220857620239,
           0.38409483432769775,
           0.3089272379875183,
           0.690311074256897,
           0.7158793210983276,
           0.6805777549743652,
           0.709734320640564,
           0.7312498092651367,
           0.7574316263198853,
           0.6466842889785767,
           0.6318387985229492,
           0.6294255256652832,
           0.6836450099945068,
           0.6362134218215942,
           0.7446326613426208,
           0.611975908279419
          ],
          [
           0.7045068740844727,
           0.7007988095283508,
           0.7166656851768494,
           0.793851375579834,
           0.6675530076026917,
           0.7224479913711548,
           0.7423285245895386,
           0.7004349827766418,
           0.6687586307525635,
           0.8121728897094727,
           0.8054600954055786,
           0.8381322622299194,
           0.8357048630714417,
           0.7991747260093689,
           0.8214889764785767,
           0.815556526184082,
           0.8028342723846436,
           0.8810133934020996,
           0.8110721111297607,
           0.8339000940322876,
           0.7653505802154541,
           0.8172905445098877,
           0.7884706258773804,
           0.8124488592147827,
           0.8050775527954102,
           0.7769738435745239,
           0.7808884382247925,
           0.818846583366394,
           0.7663909196853638,
           0.7983009815216064,
           0.8462603092193604,
           0.7883111238479614,
           0.792946994304657,
           0.7595838904380798,
           0.8063910007476807,
           0.7710649967193604,
           0.8488613367080688,
           0.7317016124725342,
           0.8213770389556885,
           0.7920629382133484,
           0.8776421546936035,
           0.9999999403953552,
           0.8646529912948608,
           0.8845274448394775,
           0.7380688190460205,
           0.7906337976455688,
           0.8934067487716675,
           0.8457286357879639,
           0.8174254894256592,
           0.8704737424850464,
           0.8319771885871887,
           0.8966758847236633,
           0.8708757162094116,
           0.7421534061431885,
           0.15638557076454163,
           0.4890180230140686,
           0.33942675590515137,
           0.2861744165420532,
           0.795397162437439,
           0.8342385292053223,
           0.7996572256088257,
           0.807302713394165,
           0.7815238237380981,
           0.883905291557312,
           0.5668742656707764,
           0.6102797985076904,
           0.55120849609375,
           0.6694303750991821,
           0.5819165110588074,
           0.6529493927955627,
           0.5597304105758667
          ],
          [
           0.7240200042724609,
           0.7481595277786255,
           0.7836325764656067,
           0.7748947739601135,
           0.6981035470962524,
           0.7106781601905823,
           0.7338744401931763,
           0.6612026691436768,
           0.6655283570289612,
           0.8345705270767212,
           0.8203398585319519,
           0.8186110258102417,
           0.8479467630386353,
           0.8203405141830444,
           0.8253187537193298,
           0.8280150890350342,
           0.8271996974945068,
           0.900793194770813,
           0.8315460085868835,
           0.8207409381866455,
           0.7761995792388916,
           0.7849045991897583,
           0.8082797527313232,
           0.8708170652389526,
           0.8546057939529419,
           0.8225597143173218,
           0.7805768251419067,
           0.8087495565414429,
           0.8249177932739258,
           0.8232667446136475,
           0.8272574543952942,
           0.7923600077629089,
           0.7739058136940002,
           0.7962280511856079,
           0.8476682901382446,
           0.7985271215438843,
           0.787756621837616,
           0.7612573504447937,
           0.8880313634872437,
           0.7831330299377441,
           0.8461892008781433,
           0.8646529912948608,
           0.9999996423721313,
           0.8335000276565552,
           0.7755994200706482,
           0.7595193982124329,
           0.8697376847267151,
           0.8586350083351135,
           0.7939956188201904,
           0.865136981010437,
           0.8579632639884949,
           0.88885498046875,
           0.7818549871444702,
           0.7591968774795532,
           0.13108406960964203,
           0.4770563244819641,
           0.35031741857528687,
           0.3565356731414795,
           0.7410523891448975,
           0.7887327671051025,
           0.7690137624740601,
           0.7717412710189819,
           0.7902792096138,
           0.8140028715133667,
           0.6156901121139526,
           0.6276667714118958,
           0.6062428951263428,
           0.709417462348938,
           0.634662389755249,
           0.6482605934143066,
           0.5913422107696533
          ],
          [
           0.7164785265922546,
           0.7121654748916626,
           0.7011005878448486,
           0.7650117874145508,
           0.6955960392951965,
           0.7332576513290405,
           0.7112981081008911,
           0.709872841835022,
           0.6577483415603638,
           0.8275339603424072,
           0.8438847661018372,
           0.8507537245750427,
           0.8757275342941284,
           0.8090639114379883,
           0.8410651087760925,
           0.8064194917678833,
           0.793785810470581,
           0.8831667900085449,
           0.8535802364349365,
           0.8422853350639343,
           0.7758781909942627,
           0.7957993745803833,
           0.8247734308242798,
           0.8465609550476074,
           0.8057705760002136,
           0.7773659825325012,
           0.8213202953338623,
           0.8121935129165649,
           0.736793041229248,
           0.7803630828857422,
           0.8041195869445801,
           0.7961326241493225,
           0.8151447772979736,
           0.8572602868080139,
           0.8191834688186646,
           0.7780598402023315,
           0.9184980392456055,
           0.7548796534538269,
           0.807990550994873,
           0.8198856115341187,
           0.8467351198196411,
           0.8845274448394775,
           0.8335000276565552,
           1,
           0.7369515895843506,
           0.8228703737258911,
           0.8828568458557129,
           0.838470458984375,
           0.8428902626037598,
           0.8505452871322632,
           0.8072239756584167,
           0.8370248675346375,
           0.859830379486084,
           0.7373901605606079,
           0.14152231812477112,
           0.47179657220840454,
           0.33101844787597656,
           0.30153578519821167,
           0.7722716927528381,
           0.8087174296379089,
           0.7752196788787842,
           0.7941412925720215,
           0.816724419593811,
           0.8821412920951843,
           0.6053298711776733,
           0.582676112651825,
           0.5558236241340637,
           0.6372450590133667,
           0.6127358675003052,
           0.6613547801971436,
           0.5103314518928528
          ],
          [
           0.7958173155784607,
           0.7262270450592041,
           0.7681015133857727,
           0.7643053531646729,
           0.7230029106140137,
           0.8479098081588745,
           0.7785069942474365,
           0.7377175688743591,
           0.818556547164917,
           0.8225463628768921,
           0.8350427150726318,
           0.7311366200447083,
           0.7909648418426514,
           0.7909501194953918,
           0.7701446413993835,
           0.8197110891342163,
           0.7566877007484436,
           0.7590804696083069,
           0.718415379524231,
           0.6762591600418091,
           0.7345168590545654,
           0.7160575985908508,
           0.6953518390655518,
           0.7479923367500305,
           0.7406344413757324,
           0.8097546100616455,
           0.7307240962982178,
           0.7303651571273804,
           0.905341386795044,
           0.7704088687896729,
           0.781025767326355,
           0.7688252925872803,
           0.7534593939781189,
           0.7351500391960144,
           0.7913694381713867,
           0.7755402326583862,
           0.6875543594360352,
           0.7430176734924316,
           0.8263682126998901,
           0.736398458480835,
           0.7757102251052856,
           0.7380688190460205,
           0.7755994200706482,
           0.7369515895843506,
           1,
           0.7992211580276489,
           0.7725403308868408,
           0.7231427431106567,
           0.8677699565887451,
           0.8096158504486084,
           0.7970702052116394,
           0.791273832321167,
           0.7313486933708191,
           0.782731294631958,
           0.19917283952236176,
           0.609382152557373,
           0.49377232789993286,
           0.3713834285736084,
           0.685455858707428,
           0.6996817588806152,
           0.6504548788070679,
           0.6702556610107422,
           0.6945244073867798,
           0.6639785170555115,
           0.6659389734268188,
           0.5918600559234619,
           0.626567542552948,
           0.7122067213058472,
           0.7549793124198914,
           0.6786414384841919,
           0.6969704627990723
          ],
          [
           0.7495015859603882,
           0.7444428205490112,
           0.7276372909545898,
           0.7626197338104248,
           0.7459328174591064,
           0.8364043235778809,
           0.731431245803833,
           0.7074642777442932,
           0.7066768407821655,
           0.8314539194107056,
           0.7943547964096069,
           0.8149770498275757,
           0.778293788433075,
           0.74596107006073,
           0.799538254737854,
           0.8003897666931152,
           0.7508724927902222,
           0.8223552703857422,
           0.7057482004165649,
           0.7784098386764526,
           0.7834678888320923,
           0.7916561961174011,
           0.7629798054695129,
           0.7717103958129883,
           0.761877715587616,
           0.8014770150184631,
           0.7850446701049805,
           0.7978075742721558,
           0.7759743928909302,
           0.766807496547699,
           0.7924321293830872,
           0.7974523305892944,
           0.7835096120834351,
           0.7301721572875977,
           0.8012815713882446,
           0.7506669163703918,
           0.8669158220291138,
           0.7450942397117615,
           0.7847769260406494,
           0.7737054824829102,
           0.7945840358734131,
           0.7906337976455688,
           0.7595193982124329,
           0.8228703737258911,
           0.7992211580276489,
           1,
           0.779891848564148,
           0.7195926904678345,
           0.8184380531311035,
           0.7789871692657471,
           0.7721239924430847,
           0.776331901550293,
           0.8320040702819824,
           0.7988163232803345,
           0.17390665411949158,
           0.5752216577529907,
           0.42161625623703003,
           0.37802937626838684,
           0.6671998500823975,
           0.7183617353439331,
           0.7293184995651245,
           0.6935527324676514,
           0.7138206958770752,
           0.7170118093490601,
           0.677012026309967,
           0.6279350519180298,
           0.6441843509674072,
           0.6614086627960205,
           0.6868292093276978,
           0.7241480350494385,
           0.5999517440795898
          ],
          [
           0.706467866897583,
           0.6878705620765686,
           0.7259674668312073,
           0.7616057395935059,
           0.6594266891479492,
           0.71235191822052,
           0.7085082530975342,
           0.6996065378189087,
           0.6813338398933411,
           0.8080282807350159,
           0.8089298009872437,
           0.7986411452293396,
           0.816299319267273,
           0.79008549451828,
           0.7771939039230347,
           0.7965081930160522,
           0.7755981683731079,
           0.8388081789016724,
           0.8147104978561401,
           0.7954487800598145,
           0.7379489541053772,
           0.7844153046607971,
           0.7668285369873047,
           0.8126934766769409,
           0.791324257850647,
           0.8111808896064758,
           0.7612168788909912,
           0.790627658367157,
           0.7513647079467773,
           0.7652387022972107,
           0.8132754564285278,
           0.7835010886192322,
           0.7538038492202759,
           0.7864218950271606,
           0.7936943769454956,
           0.7742154002189636,
           0.8147350549697876,
           0.7197089195251465,
           0.7954616546630859,
           0.7553247213363647,
           0.8720424175262451,
           0.8934067487716675,
           0.8697376847267151,
           0.8828568458557129,
           0.7725403308868408,
           0.779891848564148,
           0.9999998807907104,
           0.8290947675704956,
           0.8244027495384216,
           0.9178221821784973,
           0.8156063556671143,
           0.8723617792129517,
           0.8341526985168457,
           0.7330349683761597,
           0.13926586508750916,
           0.4778618812561035,
           0.33014819025993347,
           0.2984922528266907,
           0.7709088325500488,
           0.8073447346687317,
           0.7404145002365112,
           0.7813529968261719,
           0.7587220668792725,
           0.8294678926467896,
           0.5959149599075317,
           0.5561710596084595,
           0.5143662691116333,
           0.6302722096443176,
           0.5958006381988525,
           0.6515824198722839,
           0.5301612615585327
          ],
          [
           0.7007697820663452,
           0.6551011800765991,
           0.6937177777290344,
           0.7471632957458496,
           0.6750797033309937,
           0.7176904678344727,
           0.6994303464889526,
           0.6542932987213135,
           0.6457598209381104,
           0.8013598918914795,
           0.7909086346626282,
           0.8131979703903198,
           0.8343125581741333,
           0.7611731290817261,
           0.8367573022842407,
           0.8213433027267456,
           0.8127313852310181,
           0.879601776599884,
           0.810871958732605,
           0.7738419771194458,
           0.7574882507324219,
           0.719192385673523,
           0.7798271179199219,
           0.7884481549263,
           0.8220224380493164,
           0.7957074642181396,
           0.7840569019317627,
           0.7907223701477051,
           0.8109515905380249,
           0.7853789329528809,
           0.798626184463501,
           0.7951745986938477,
           0.7644879817962646,
           0.757442831993103,
           0.8002482652664185,
           0.7486864328384399,
           0.7909116744995117,
           0.7639899253845215,
           0.8232208490371704,
           0.7944943904876709,
           0.8634161949157715,
           0.8457286357879639,
           0.8586350083351135,
           0.838470458984375,
           0.7231427431106567,
           0.7195926904678345,
           0.8290947675704956,
           1,
           0.846656322479248,
           0.8571896553039551,
           0.8997255563735962,
           0.8166382312774658,
           0.812129020690918,
           0.7432680130004883,
           0.13740868866443634,
           0.4655225872993469,
           0.3328801393508911,
           0.23809823393821716,
           0.7201709747314453,
           0.7197004556655884,
           0.7514486312866211,
           0.7115491628646851,
           0.7430318593978882,
           0.8008193373680115,
           0.5751364231109619,
           0.555216908454895,
           0.5728760957717896,
           0.6555181741714478,
           0.6073218584060669,
           0.6475169658660889,
           0.6047772169113159
          ],
          [
           0.7407150268554688,
           0.7205673456192017,
           0.7633786201477051,
           0.7804863452911377,
           0.7197091579437256,
           0.8273137807846069,
           0.7352085709571838,
           0.7645756006240845,
           0.7619500160217285,
           0.7878917455673218,
           0.841559112071991,
           0.7868820428848267,
           0.8033601641654968,
           0.7795768976211548,
           0.7777064442634583,
           0.8043197393417358,
           0.7486701607704163,
           0.8100711107254028,
           0.7529840469360352,
           0.7266218066215515,
           0.7549049854278564,
           0.7601775527000427,
           0.7285791635513306,
           0.7467041015625,
           0.7312210202217102,
           0.7926797866821289,
           0.7741175889968872,
           0.7855883836746216,
           0.8446284532546997,
           0.762607216835022,
           0.778343915939331,
           0.8314306735992432,
           0.7370172739028931,
           0.7676746249198914,
           0.7702489495277405,
           0.7269625067710876,
           0.7965971231460571,
           0.7079646587371826,
           0.7784603238105774,
           0.7555985450744629,
           0.8820030689239502,
           0.8174254894256592,
           0.7939956188201904,
           0.8428902626037598,
           0.8677699565887451,
           0.8184380531311035,
           0.8244027495384216,
           0.846656322479248,
           1.000000238418579,
           0.8457345962524414,
           0.8209481239318848,
           0.8004051446914673,
           0.8610644340515137,
           0.799508273601532,
           0.16802221536636353,
           0.5372486710548401,
           0.43057024478912354,
           0.31467944383621216,
           0.7189555168151855,
           0.6961064338684082,
           0.6815640926361084,
           0.6888034343719482,
           0.7208337783813477,
           0.730980634689331,
           0.6214852333068848,
           0.5966295003890991,
           0.6553410887718201,
           0.695661187171936,
           0.7272882461547852,
           0.6969512701034546,
           0.6374332904815674
          ],
          [
           0.7288838624954224,
           0.6885282397270203,
           0.7287954092025757,
           0.7551268339157104,
           0.6923102140426636,
           0.7608490586280823,
           0.7328914403915405,
           0.6777144074440002,
           0.6491740942001343,
           0.8224459290504456,
           0.8148015737533569,
           0.8121235370635986,
           0.8319212198257446,
           0.7756139039993286,
           0.7974404096603394,
           0.8308134078979492,
           0.7936166524887085,
           0.859988272190094,
           0.8161612749099731,
           0.7839224338531494,
           0.7352803945541382,
           0.7619246244430542,
           0.758204460144043,
           0.7918429374694824,
           0.8051410913467407,
           0.8261618614196777,
           0.7754775285720825,
           0.7962872385978699,
           0.7995008826255798,
           0.8074841499328613,
           0.8161653280258179,
           0.7920072078704834,
           0.7721040844917297,
           0.7759412527084351,
           0.8104169368743896,
           0.7737199068069458,
           0.802388072013855,
           0.7361496686935425,
           0.8456701636314392,
           0.7989321351051331,
           0.8950468897819519,
           0.8704737424850464,
           0.865136981010437,
           0.8505452871322632,
           0.8096158504486084,
           0.7789871692657471,
           0.9178221821784973,
           0.8571896553039551,
           0.8457345962524414,
           0.9999998807907104,
           0.8383976221084595,
           0.8651546835899353,
           0.8295527696609497,
           0.7605642080307007,
           0.15981492400169373,
           0.49787747859954834,
           0.3482305109500885,
           0.2790650725364685,
           0.7273317575454712,
           0.7632665634155273,
           0.7411705255508423,
           0.7407404184341431,
           0.7466176748275757,
           0.7922313213348389,
           0.6236793994903564,
           0.5740556716918945,
           0.5534104108810425,
           0.6681156158447266,
           0.6248818635940552,
           0.6645054221153259,
           0.595197319984436
          ],
          [
           0.7097512483596802,
           0.7088201642036438,
           0.7287293672561646,
           0.7331050634384155,
           0.7224371433258057,
           0.7806398272514343,
           0.7471028566360474,
           0.6899374127388,
           0.6944808959960938,
           0.8450126051902771,
           0.8493978977203369,
           0.846987247467041,
           0.833035945892334,
           0.7890921831130981,
           0.8484756946563721,
           0.87652987241745,
           0.8210970163345337,
           0.8876736164093018,
           0.8094415664672852,
           0.8061105012893677,
           0.784856915473938,
           0.7659470438957214,
           0.8198297619819641,
           0.7902860045433044,
           0.8635702133178711,
           0.7988028526306152,
           0.8457859754562378,
           0.7816086411476135,
           0.8435255289077759,
           0.8297898769378662,
           0.8632558584213257,
           0.8282420039176941,
           0.8261607885360718,
           0.8114804029464722,
           0.8114241361618042,
           0.7789654731750488,
           0.7778271436691284,
           0.7736319899559021,
           0.8725255727767944,
           0.8399046659469604,
           0.8267554044723511,
           0.8319771885871887,
           0.8579632639884949,
           0.8072239756584167,
           0.7970702052116394,
           0.7721239924430847,
           0.8156063556671143,
           0.8997255563735962,
           0.8209481239318848,
           0.8383976221084595,
           0.9999998211860657,
           0.8220406770706177,
           0.8000945448875427,
           0.7979661822319031,
           0.1653469204902649,
           0.5072538256645203,
           0.37764111161231995,
           0.3036595284938812,
           0.7552586197853088,
           0.7559807300567627,
           0.7655719518661499,
           0.7445063591003418,
           0.7473770380020142,
           0.7843837738037109,
           0.6154425740242004,
           0.6009881496429443,
           0.5934000015258789,
           0.6627621650695801,
           0.6047228574752808,
           0.6483815908432007,
           0.6481983661651611
          ],
          [
           0.7116537094116211,
           0.7203289866447449,
           0.743678092956543,
           0.7712761759757996,
           0.718582034111023,
           0.7474637031555176,
           0.7208046913146973,
           0.672967255115509,
           0.6859591007232666,
           0.8131393194198608,
           0.7881197929382324,
           0.7909302711486816,
           0.8302854299545288,
           0.7865525484085083,
           0.8160787224769592,
           0.8103523850440979,
           0.8160552978515625,
           0.8606064319610596,
           0.7894992828369141,
           0.7722232341766357,
           0.7537774443626404,
           0.7607818841934204,
           0.7516699433326721,
           0.8043850660324097,
           0.8096144199371338,
           0.8103278875350952,
           0.7629040479660034,
           0.7774651050567627,
           0.8174057602882385,
           0.786660373210907,
           0.8358355760574341,
           0.7665603160858154,
           0.7630380392074585,
           0.7509121894836426,
           0.82218998670578,
           0.7942911386489868,
           0.7662134766578674,
           0.7627193927764893,
           0.8592281341552734,
           0.7757642865180969,
           0.8384370803833008,
           0.8966758847236633,
           0.88885498046875,
           0.8370248675346375,
           0.791273832321167,
           0.776331901550293,
           0.8723617792129517,
           0.8166382312774658,
           0.8004051446914673,
           0.8651546835899353,
           0.8220406770706177,
           1.0000003576278687,
           0.7836544513702393,
           0.7687344551086426,
           0.13602495193481445,
           0.4760586619377136,
           0.3458426594734192,
           0.3264123797416687,
           0.7235594987869263,
           0.766007661819458,
           0.7127405405044556,
           0.763681173324585,
           0.7329477667808533,
           0.7897320985794067,
           0.6072548627853394,
           0.606201171875,
           0.5800800323486328,
           0.6683444976806641,
           0.5919842720031738,
           0.661685585975647,
           0.6275174617767334
          ],
          [
           0.6694152355194092,
           0.7018384337425232,
           0.6876223087310791,
           0.7422016859054565,
           0.6718077659606934,
           0.7473565340042114,
           0.6933802366256714,
           0.6926349997520447,
           0.6775932312011719,
           0.792259931564331,
           0.8011606335639954,
           0.8420250415802002,
           0.7963474988937378,
           0.7419840097427368,
           0.7739269733428955,
           0.7973469495773315,
           0.7135581970214844,
           0.8368803262710571,
           0.7566424608230591,
           0.8008087873458862,
           0.7469839453697205,
           0.7976164817810059,
           0.7671378254890442,
           0.7546762228012085,
           0.7435219287872314,
           0.7611463665962219,
           0.7793096303939819,
           0.7837382555007935,
           0.7336230874061584,
           0.7525683641433716,
           0.7822685241699219,
           0.8256332278251648,
           0.7620750665664673,
           0.7310367226600647,
           0.7643371820449829,
           0.732093095779419,
           0.8363417387008667,
           0.6842828392982483,
           0.7493765950202942,
           0.7792937159538269,
           0.8569320440292358,
           0.8708757162094116,
           0.7818549871444702,
           0.859830379486084,
           0.7313486933708191,
           0.8320040702819824,
           0.8341526985168457,
           0.812129020690918,
           0.8610644340515137,
           0.8295527696609497,
           0.8000945448875427,
           0.7836544513702393,
           0.9999998807907104,
           0.7352713346481323,
           0.1408013105392456,
           0.4696972966194153,
           0.33977892994880676,
           0.28695979714393616,
           0.7269086241722107,
           0.7552675008773804,
           0.7737091183662415,
           0.7190412282943726,
           0.7500606775283813,
           0.7891168594360352,
           0.589204728603363,
           0.5783945918083191,
           0.5817975401878357,
           0.6271821856498718,
           0.6304953098297119,
           0.6588162183761597,
           0.5461663007736206
          ],
          [
           0.7401112914085388,
           0.7526931762695312,
           0.7896928191184998,
           0.7091209888458252,
           0.798064649105072,
           0.8033041954040527,
           0.7397333383560181,
           0.6514555215835571,
           0.7281361818313599,
           0.7844710350036621,
           0.7995046377182007,
           0.7729558944702148,
           0.7868150472640991,
           0.740691065788269,
           0.8184534907341003,
           0.7630921006202698,
           0.807388186454773,
           0.7812514901161194,
           0.7474811673164368,
           0.7355023622512817,
           0.8035629391670227,
           0.7332950830459595,
           0.7613860368728638,
           0.7909845113754272,
           0.7871650457382202,
           0.8506479263305664,
           0.7801601886749268,
           0.7630044221878052,
           0.8411531448364258,
           0.8318897485733032,
           0.7916783094406128,
           0.7738521099090576,
           0.7707099914550781,
           0.7652969360351562,
           0.8388333320617676,
           0.7964708209037781,
           0.7257939577102661,
           0.8373783826828003,
           0.7820543050765991,
           0.7893763780593872,
           0.7546612620353699,
           0.7421534061431885,
           0.7591968774795532,
           0.7373901605606079,
           0.782731294631958,
           0.7988163232803345,
           0.7330349683761597,
           0.7432680130004883,
           0.799508273601532,
           0.7605642080307007,
           0.7979661822319031,
           0.7687344551086426,
           0.7352713346481323,
           0.9999998211860657,
           0.16051724553108215,
           0.5260719656944275,
           0.4310353994369507,
           0.39884108304977417,
           0.6396175026893616,
           0.6918022632598877,
           0.648322582244873,
           0.71583092212677,
           0.698876142501831,
           0.6865441203117371,
           0.6751867532730103,
           0.6139209270477295,
           0.6601515412330627,
           0.6711828112602234,
           0.668194055557251,
           0.6804351806640625,
           0.6617940664291382
          ],
          [
           0.20602884888648987,
           0.17820695042610168,
           0.12350326776504517,
           0.15700554847717285,
           0.09653593599796295,
           0.17550167441368103,
           0.1745874285697937,
           0.33940666913986206,
           0.14239460229873657,
           0.13931052386760712,
           0.12280692160129547,
           0.12053851783275604,
           0.12457650154829025,
           0.10313815623521805,
           0.16326794028282166,
           0.1400185078382492,
           0.09364429861307144,
           0.12120633572340012,
           0.1352752298116684,
           0.1033971831202507,
           0.1179153248667717,
           0.20886768400669098,
           0.1336102932691574,
           0.15342071652412415,
           0.1035071611404419,
           0.12144515663385391,
           0.11007720232009888,
           0.10204553604125977,
           0.16451388597488403,
           0.11739088594913483,
           0.13859541714191437,
           0.18238091468811035,
           0.14675983786582947,
           0.15370965003967285,
           0.1451939046382904,
           0.16191530227661133,
           0.13415628671646118,
           0.10936174541711807,
           0.12328657507896423,
           0.11155561357736588,
           0.16523268818855286,
           0.15638557076454163,
           0.13108406960964203,
           0.14152231812477112,
           0.19917283952236176,
           0.17390665411949158,
           0.13926586508750916,
           0.13740868866443634,
           0.16802221536636353,
           0.15981492400169373,
           0.1653469204902649,
           0.13602495193481445,
           0.1408013105392456,
           0.16051724553108215,
           0.9999999403953552,
           0.5157593488693237,
           0.43691545724868774,
           0.2513282001018524,
           0.07678123563528061,
           0.11868125200271606,
           0.12723498046398163,
           0.16510728001594543,
           0.10952714085578918,
           0.1069110780954361,
           0.22774170339107513,
           0.3173186779022217,
           0.20615726709365845,
           0.22829365730285645,
           0.272678405046463,
           0.1781805008649826,
           0.28714418411254883
          ],
          [
           0.6561463475227356,
           0.5525798797607422,
           0.4855881631374359,
           0.5366834402084351,
           0.5077782273292542,
           0.5608718395233154,
           0.578514575958252,
           0.7240920662879944,
           0.5397155284881592,
           0.4878625273704529,
           0.44370347261428833,
           0.4420090317726135,
           0.4537743330001831,
           0.444535493850708,
           0.501624345779419,
           0.48666536808013916,
           0.4200689196586609,
           0.46988362073898315,
           0.4299560785293579,
           0.3804504871368408,
           0.42014798521995544,
           0.5311442613601685,
           0.43207263946533203,
           0.4810413122177124,
           0.44217485189437866,
           0.4919305145740509,
           0.3848349452018738,
           0.4277799427509308,
           0.5634453296661377,
           0.467526912689209,
           0.450115829706192,
           0.5257539749145508,
           0.44397327303886414,
           0.45645618438720703,
           0.5068859457969666,
           0.5253016948699951,
           0.4564690589904785,
           0.46046173572540283,
           0.5015777349472046,
           0.4507754147052765,
           0.5239220857620239,
           0.4890180230140686,
           0.4770563244819641,
           0.47179657220840454,
           0.609382152557373,
           0.5752216577529907,
           0.4778618812561035,
           0.4655225872993469,
           0.5372486710548401,
           0.49787747859954834,
           0.5072538256645203,
           0.4760586619377136,
           0.4696972966194153,
           0.5260719656944275,
           0.5157593488693237,
           0.9999998807907104,
           0.7589956521987915,
           0.5167496800422668,
           0.3401273488998413,
           0.3974606394767761,
           0.387113094329834,
           0.43091532588005066,
           0.4054313004016876,
           0.3829512596130371,
           0.6949286460876465,
           0.7122053503990173,
           0.5963519811630249,
           0.6354456543922424,
           0.6925551891326904,
           0.5725862383842468,
           0.6332971453666687
          ],
          [
           0.5329973697662354,
           0.43126630783081055,
           0.39602017402648926,
           0.3942827582359314,
           0.39677107334136963,
           0.43181347846984863,
           0.4419529438018799,
           0.5784813165664673,
           0.5061724185943604,
           0.3796292245388031,
           0.346230685710907,
           0.2982167601585388,
           0.3353540599346161,
           0.3232669234275818,
           0.38590607047080994,
           0.35228097438812256,
           0.30670252442359924,
           0.33433473110198975,
           0.33195751905441284,
           0.2609366178512573,
           0.321798175573349,
           0.40846675634384155,
           0.3285329043865204,
           0.3788073658943176,
           0.3022400438785553,
           0.38985979557037354,
           0.268120139837265,
           0.29495546221733093,
           0.45051831007003784,
           0.3395195007324219,
           0.31808361411094666,
           0.3778948187828064,
           0.32671481370925903,
           0.36603695154190063,
           0.3624921441078186,
           0.38836270570755005,
           0.31417393684387207,
           0.34599339962005615,
           0.3699723482131958,
           0.319926381111145,
           0.38409483432769775,
           0.33942675590515137,
           0.35031741857528687,
           0.33101844787597656,
           0.49377232789993286,
           0.42161625623703003,
           0.33014819025993347,
           0.3328801393508911,
           0.43057024478912354,
           0.3482305109500885,
           0.37764111161231995,
           0.3458426594734192,
           0.33977892994880676,
           0.4310353994369507,
           0.43691545724868774,
           0.7589956521987915,
           0.9999998211860657,
           0.4094869792461395,
           0.2708546817302704,
           0.30340340733528137,
           0.2658189833164215,
           0.34669753909111023,
           0.28098100423812866,
           0.2606922686100006,
           0.5117412805557251,
           0.5428959131240845,
           0.4238288700580597,
           0.44698309898376465,
           0.5816826224327087,
           0.3924698233604431,
           0.4998887777328491
          ],
          [
           0.42692649364471436,
           0.7645949721336365,
           0.5094435214996338,
           0.35959213972091675,
           0.46335989236831665,
           0.38770240545272827,
           0.4370468854904175,
           0.36283639073371887,
           0.3187166452407837,
           0.33205634355545044,
           0.30699798464775085,
           0.2783798575401306,
           0.2718210518360138,
           0.27653124928474426,
           0.284496545791626,
           0.27323880791664124,
           0.24690407514572144,
           0.31516677141189575,
           0.31111159920692444,
           0.23764848709106445,
           0.23744550347328186,
           0.36603331565856934,
           0.2974604666233063,
           0.32440441846847534,
           0.2947514057159424,
           0.3341851234436035,
           0.28541451692581177,
           0.2640320360660553,
           0.3348178565502167,
           0.3440060317516327,
           0.2832488417625427,
           0.33260396122932434,
           0.27793410420417786,
           0.2990012466907501,
           0.31604504585266113,
           0.3526790142059326,
           0.2653156816959381,
           0.32452166080474854,
           0.3677252531051636,
           0.30254971981048584,
           0.3089272379875183,
           0.2861744165420532,
           0.3565356731414795,
           0.30153578519821167,
           0.3713834285736084,
           0.37802937626838684,
           0.2984922528266907,
           0.23809823393821716,
           0.31467944383621216,
           0.2790650725364685,
           0.3036595284938812,
           0.3264123797416687,
           0.28695979714393616,
           0.39884108304977417,
           0.2513282001018524,
           0.5167496800422668,
           0.4094869792461395,
           1.000000238418579,
           0.2700710594654083,
           0.26791590452194214,
           0.2179512232542038,
           0.28677135705947876,
           0.2595485746860504,
           0.22520413994789124,
           0.529723048210144,
           0.5727137327194214,
           0.5092371702194214,
           0.44671711325645447,
           0.4386463463306427,
           0.4273585379123688,
           0.3540368974208832
          ],
          [
           0.5331602096557617,
           0.6095691919326782,
           0.6356576681137085,
           0.5756489634513855,
           0.5412416458129883,
           0.5687060356140137,
           0.7574228048324585,
           0.6291241645812988,
           0.6820921897888184,
           0.7530512809753418,
           0.7935963869094849,
           0.7720120549201965,
           0.7810674905776978,
           0.7869089245796204,
           0.7287721633911133,
           0.7668584585189819,
           0.7680906057357788,
           0.7764300107955933,
           0.7431650161743164,
           0.7808149456977844,
           0.7438218593597412,
           0.7837820053100586,
           0.7064365148544312,
           0.7477145195007324,
           0.7395972609519958,
           0.6882925629615784,
           0.7762922048568726,
           0.7406744956970215,
           0.7124717235565186,
           0.7172447443008423,
           0.770305335521698,
           0.7295653820037842,
           0.7675164937973022,
           0.7146724462509155,
           0.7528262734413147,
           0.7064023017883301,
           0.7611986398696899,
           0.6979777812957764,
           0.688180685043335,
           0.7080729603767395,
           0.690311074256897,
           0.795397162437439,
           0.7410523891448975,
           0.7722716927528381,
           0.685455858707428,
           0.6671998500823975,
           0.7709088325500488,
           0.7201709747314453,
           0.7189555168151855,
           0.7273317575454712,
           0.7552586197853088,
           0.7235594987869263,
           0.7269086241722107,
           0.6396175026893616,
           0.07678123563528061,
           0.3401273488998413,
           0.2708546817302704,
           0.2700710594654083,
           1.0000003576278687,
           0.8915082216262817,
           0.7924767732620239,
           0.7706400156021118,
           0.7337530851364136,
           0.7945457696914673,
           0.4346137046813965,
           0.45341169834136963,
           0.43181219696998596,
           0.5754075646400452,
           0.4823422133922577,
           0.5117979645729065,
           0.4749576151371002
          ],
          [
           0.5721567869186401,
           0.6303582191467285,
           0.6525458097457886,
           0.5963711738586426,
           0.5509268641471863,
           0.5893834829330444,
           0.7328945994377136,
           0.6334794759750366,
           0.6850654482841492,
           0.7840937376022339,
           0.8064414858818054,
           0.7907568216323853,
           0.8176465630531311,
           0.8117160201072693,
           0.7798563241958618,
           0.8044862747192383,
           0.8017737865447998,
           0.786461591720581,
           0.8109554052352905,
           0.8450750112533569,
           0.8122636079788208,
           0.8509085774421692,
           0.8043714165687561,
           0.809728741645813,
           0.7643309831619263,
           0.7167221903800964,
           0.7921553254127502,
           0.766716718673706,
           0.7153205275535583,
           0.7366641163825989,
           0.792439341545105,
           0.7559765577316284,
           0.7947754859924316,
           0.7731630802154541,
           0.8034249544143677,
           0.7711190581321716,
           0.8031856417655945,
           0.7638716697692871,
           0.7177368402481079,
           0.7494078874588013,
           0.7158793210983276,
           0.8342385292053223,
           0.7887327671051025,
           0.8087174296379089,
           0.6996817588806152,
           0.7183617353439331,
           0.8073447346687317,
           0.7197004556655884,
           0.6961064338684082,
           0.7632665634155273,
           0.7559807300567627,
           0.766007661819458,
           0.7552675008773804,
           0.6918022632598877,
           0.11868125200271606,
           0.3974606394767761,
           0.30340340733528137,
           0.26791590452194214,
           0.8915082216262817,
           0.9999998807907104,
           0.8346821069717407,
           0.8487793207168579,
           0.7947015762329102,
           0.8620952367782593,
           0.47329679131507874,
           0.5198312997817993,
           0.46956032514572144,
           0.6075308918952942,
           0.5164493322372437,
           0.522911548614502,
           0.4781094789505005
          ],
          [
           0.5590436458587646,
           0.5971324443817139,
           0.6142054796218872,
           0.5991384983062744,
           0.5749620199203491,
           0.5826276540756226,
           0.6767584085464478,
           0.5958510041236877,
           0.6232086420059204,
           0.8047103881835938,
           0.7879067659378052,
           0.8734508752822876,
           0.797877848148346,
           0.8011989593505859,
           0.8084498643875122,
           0.7942476868629456,
           0.786160409450531,
           0.832145094871521,
           0.7300240993499756,
           0.8881543278694153,
           0.8287264704704285,
           0.8193323612213135,
           0.7786909937858582,
           0.8022403717041016,
           0.7790706753730774,
           0.7078428864479065,
           0.806836724281311,
           0.8173460364341736,
           0.7184536457061768,
           0.7395639419555664,
           0.8033603429794312,
           0.7898706197738647,
           0.8231652975082397,
           0.7426028251647949,
           0.7813428640365601,
           0.7209755778312683,
           0.8196920156478882,
           0.707734227180481,
           0.7402149438858032,
           0.7445375919342041,
           0.6805777549743652,
           0.7996572256088257,
           0.7690137624740601,
           0.7752196788787842,
           0.6504548788070679,
           0.7293184995651245,
           0.7404145002365112,
           0.7514486312866211,
           0.6815640926361084,
           0.7411705255508423,
           0.7655719518661499,
           0.7127405405044556,
           0.7737091183662415,
           0.648322582244873,
           0.12723498046398163,
           0.387113094329834,
           0.2658189833164215,
           0.2179512232542038,
           0.7924767732620239,
           0.8346821069717407,
           1.0000001192092896,
           0.7555210590362549,
           0.7782939672470093,
           0.8328428268432617,
           0.4743139147758484,
           0.47747552394866943,
           0.4424791932106018,
           0.6154035925865173,
           0.5295962691307068,
           0.5243054032325745,
           0.5024281740188599
          ],
          [
           0.6384485960006714,
           0.6724315881729126,
           0.6623535752296448,
           0.6470906138420105,
           0.6350193619728088,
           0.6225873231887817,
           0.6842045783996582,
           0.6393680572509766,
           0.6774224042892456,
           0.7771550416946411,
           0.8019305467605591,
           0.790526270866394,
           0.8334448337554932,
           0.8075394034385681,
           0.8039087057113647,
           0.7656344771385193,
           0.8212707042694092,
           0.8180236220359802,
           0.8213896751403809,
           0.8261847496032715,
           0.7779116630554199,
           0.7914620041847229,
           0.7900880575180054,
           0.7975075244903564,
           0.7928036451339722,
           0.7278050780296326,
           0.784745991230011,
           0.8003820180892944,
           0.7207860350608826,
           0.7747824192047119,
           0.8011963367462158,
           0.7229585647583008,
           0.7849985361099243,
           0.8161499500274658,
           0.8364019989967346,
           0.7950332760810852,
           0.7709087133407593,
           0.7260570526123047,
           0.7490168809890747,
           0.7467650175094604,
           0.709734320640564,
           0.807302713394165,
           0.7717412710189819,
           0.7941412925720215,
           0.6702556610107422,
           0.6935527324676514,
           0.7813529968261719,
           0.7115491628646851,
           0.6888034343719482,
           0.7407404184341431,
           0.7445063591003418,
           0.763681173324585,
           0.7190412282943726,
           0.71583092212677,
           0.16510728001594543,
           0.43091532588005066,
           0.34669753909111023,
           0.28677135705947876,
           0.7706400156021118,
           0.8487793207168579,
           0.7555210590362549,
           0.9999996423721313,
           0.7698615789413452,
           0.8231037259101868,
           0.5397653579711914,
           0.5498033761978149,
           0.5137130618095398,
           0.6074438691139221,
           0.5254939794540405,
           0.5694406032562256,
           0.5262497663497925
          ],
          [
           0.6159805059432983,
           0.640905499458313,
           0.6786571741104126,
           0.6538683176040649,
           0.6217179298400879,
           0.6433475613594055,
           0.6816011667251587,
           0.6210160255432129,
           0.6280339956283569,
           0.7833191156387329,
           0.8480522036552429,
           0.8225082159042358,
           0.8546289205551147,
           0.8430501222610474,
           0.8109446167945862,
           0.801065981388092,
           0.804564893245697,
           0.8245386481285095,
           0.8144167065620422,
           0.846164345741272,
           0.7877416610717773,
           0.7912863492965698,
           0.8300685882568359,
           0.8407718539237976,
           0.8278474807739258,
           0.7882481217384338,
           0.7875462770462036,
           0.8051093816757202,
           0.7638795375823975,
           0.7793943881988525,
           0.8001394271850586,
           0.8012980222702026,
           0.7757634520530701,
           0.8277933597564697,
           0.8182708024978638,
           0.7875842452049255,
           0.8161665201187134,
           0.742698073387146,
           0.7488195896148682,
           0.7861828804016113,
           0.7312498092651367,
           0.7815238237380981,
           0.7902792096138,
           0.816724419593811,
           0.6945244073867798,
           0.7138206958770752,
           0.7587220668792725,
           0.7430318593978882,
           0.7208337783813477,
           0.7466176748275757,
           0.7473770380020142,
           0.7329477667808533,
           0.7500606775283813,
           0.698876142501831,
           0.10952714085578918,
           0.4054313004016876,
           0.28098100423812866,
           0.2595485746860504,
           0.7337530851364136,
           0.7947015762329102,
           0.7782939672470093,
           0.7698615789413452,
           1,
           0.8364040851593018,
           0.5191115736961365,
           0.5326746702194214,
           0.4897323250770569,
           0.631920576095581,
           0.526676595211029,
           0.5815368890762329,
           0.5607023239135742
          ],
          [
           0.6052811145782471,
           0.6170454621315002,
           0.6322664022445679,
           0.6692968606948853,
           0.6114999055862427,
           0.6009312868118286,
           0.6609276533126831,
           0.617841899394989,
           0.6168514490127563,
           0.7941807508468628,
           0.8291757702827454,
           0.8222724199295044,
           0.8539102077484131,
           0.8418407440185547,
           0.8184468746185303,
           0.7879809141159058,
           0.8066620826721191,
           0.8410381078720093,
           0.8379406929016113,
           0.8657438158988953,
           0.7631447315216064,
           0.7908678650856018,
           0.8159993886947632,
           0.8538768291473389,
           0.8041629791259766,
           0.7290523052215576,
           0.7876966595649719,
           0.8146063685417175,
           0.704234778881073,
           0.7443507313728333,
           0.8259810209274292,
           0.74063640832901,
           0.7982171773910522,
           0.8041495680809021,
           0.7961573600769043,
           0.756837010383606,
           0.8525983095169067,
           0.7510111927986145,
           0.7546149492263794,
           0.7668511867523193,
           0.7574316263198853,
           0.883905291557312,
           0.8140028715133667,
           0.8821412920951843,
           0.6639785170555115,
           0.7170118093490601,
           0.8294678926467896,
           0.8008193373680115,
           0.730980634689331,
           0.7922313213348389,
           0.7843837738037109,
           0.7897320985794067,
           0.7891168594360352,
           0.6865441203117371,
           0.1069110780954361,
           0.3829512596130371,
           0.2606922686100006,
           0.22520413994789124,
           0.7945457696914673,
           0.8620952367782593,
           0.8328428268432617,
           0.8231037259101868,
           0.8364040851593018,
           0.9999998807907104,
           0.5009067058563232,
           0.5092441439628601,
           0.4579198360443115,
           0.5611399412155151,
           0.5008260011672974,
           0.5468904972076416,
           0.4839029908180237
          ],
          [
           0.8262837529182434,
           0.7377520203590393,
           0.6445817947387695,
           0.6739438772201538,
           0.7723467350006104,
           0.7166483998298645,
           0.6685497760772705,
           0.5970044136047363,
           0.5392885804176331,
           0.6277943849563599,
           0.5922716856002808,
           0.5813168287277222,
           0.603573203086853,
           0.559926450252533,
           0.6450577974319458,
           0.5949504375457764,
           0.5389853715896606,
           0.6390924453735352,
           0.5907275080680847,
           0.5096794366836548,
           0.5244437456130981,
           0.560266375541687,
           0.5636280179023743,
           0.6010218858718872,
           0.5769473910331726,
           0.6467934846878052,
           0.5444552898406982,
           0.5810356140136719,
           0.6577591300010681,
           0.6332107782363892,
           0.5605269074440002,
           0.6086792945861816,
           0.5868001580238342,
           0.6211410164833069,
           0.6534377336502075,
           0.6531492471694946,
           0.5788886547088623,
           0.5921183228492737,
           0.6723120212554932,
           0.5915127396583557,
           0.6466842889785767,
           0.5668742656707764,
           0.6156901121139526,
           0.6053298711776733,
           0.6659389734268188,
           0.677012026309967,
           0.5959149599075317,
           0.5751364231109619,
           0.6214852333068848,
           0.6236793994903564,
           0.6154425740242004,
           0.6072548627853394,
           0.589204728603363,
           0.6751867532730103,
           0.22774170339107513,
           0.6949286460876465,
           0.5117412805557251,
           0.529723048210144,
           0.4346137046813965,
           0.47329679131507874,
           0.4743139147758484,
           0.5397653579711914,
           0.5191115736961365,
           0.5009067058563232,
           1,
           0.7014139890670776,
           0.7206026315689087,
           0.631633996963501,
           0.6987794637680054,
           0.8143750429153442,
           0.6070746183395386
          ],
          [
           0.6630833745002747,
           0.744657039642334,
           0.6906425356864929,
           0.618463933467865,
           0.6490648984909058,
           0.6251784563064575,
           0.6511969566345215,
           0.6170480847358704,
           0.5159677267074585,
           0.5925183296203613,
           0.5444728136062622,
           0.565142035484314,
           0.5416456460952759,
           0.5263694524765015,
           0.6071099042892456,
           0.5934301614761353,
           0.5062510967254639,
           0.6247110962867737,
           0.5794721245765686,
           0.5425267815589905,
           0.5350450277328491,
           0.6383391618728638,
           0.5842835903167725,
           0.5571140050888062,
           0.5508496761322021,
           0.6092777252197266,
           0.5281130075454712,
           0.5565392971038818,
           0.6181356906890869,
           0.5779749155044556,
           0.5525896549224854,
           0.6278209686279297,
           0.5238742828369141,
           0.574230432510376,
           0.588951826095581,
           0.6004531979560852,
           0.5554189085960388,
           0.5182051658630371,
           0.6308338046073914,
           0.5826627612113953,
           0.6318387985229492,
           0.6102797985076904,
           0.6276667714118958,
           0.582676112651825,
           0.5918600559234619,
           0.6279350519180298,
           0.5561710596084595,
           0.555216908454895,
           0.5966295003890991,
           0.5740556716918945,
           0.6009881496429443,
           0.606201171875,
           0.5783945918083191,
           0.6139209270477295,
           0.3173186779022217,
           0.7122053503990173,
           0.5428959131240845,
           0.5727137327194214,
           0.45341169834136963,
           0.5198312997817993,
           0.47747552394866943,
           0.5498033761978149,
           0.5326746702194214,
           0.5092441439628601,
           0.7014139890670776,
           0.9999997615814209,
           0.7679136991500854,
           0.7410961389541626,
           0.6206362247467041,
           0.5876912474632263,
           0.594051718711853
          ],
          [
           0.6874991059303284,
           0.7382292747497559,
           0.6692683696746826,
           0.6378775835037231,
           0.7290464639663696,
           0.6915348768234253,
           0.6616737246513367,
           0.5360568165779114,
           0.5274344682693481,
           0.5841510891914368,
           0.5683261156082153,
           0.5489401817321777,
           0.5601006150245667,
           0.5326299071311951,
           0.6066145896911621,
           0.5856260657310486,
           0.5401281118392944,
           0.6111993789672852,
           0.5728898048400879,
           0.49367791414260864,
           0.5319428443908691,
           0.5422744154930115,
           0.5526301264762878,
           0.5527980923652649,
           0.5485261678695679,
           0.6253987550735474,
           0.559093713760376,
           0.584516167640686,
           0.634357213973999,
           0.5809576511383057,
           0.5473663806915283,
           0.5935900211334229,
           0.5244678258895874,
           0.5787382125854492,
           0.6067257523536682,
           0.5996485948562622,
           0.5306907296180725,
           0.5475861430168152,
           0.6254625916481018,
           0.6009716391563416,
           0.6294255256652832,
           0.55120849609375,
           0.6062428951263428,
           0.5558236241340637,
           0.626567542552948,
           0.6441843509674072,
           0.5143662691116333,
           0.5728760957717896,
           0.6553410887718201,
           0.5534104108810425,
           0.5934000015258789,
           0.5800800323486328,
           0.5817975401878357,
           0.6601515412330627,
           0.20615726709365845,
           0.5963519811630249,
           0.4238288700580597,
           0.5092371702194214,
           0.43181219696998596,
           0.46956032514572144,
           0.4424791932106018,
           0.5137130618095398,
           0.4897323250770569,
           0.4579198360443115,
           0.7206026315689087,
           0.7679136991500854,
           0.9999998807907104,
           0.6563594937324524,
           0.6860247850418091,
           0.585743248462677,
           0.5096703767776489
          ],
          [
           0.695543110370636,
           0.7166522145271301,
           0.7306525707244873,
           0.6802996397018433,
           0.6328756809234619,
           0.678248405456543,
           0.7451474666595459,
           0.6446223855018616,
           0.6319444179534912,
           0.6771612763404846,
           0.6470078825950623,
           0.6689603328704834,
           0.658072292804718,
           0.6335476636886597,
           0.6773382425308228,
           0.6733555793762207,
           0.6382333040237427,
           0.7013664841651917,
           0.6194456815719604,
           0.6276437044143677,
           0.6556984782218933,
           0.719870924949646,
           0.60417640209198,
           0.6754889488220215,
           0.647428572177887,
           0.6814248561859131,
           0.6220986247062683,
           0.6611834764480591,
           0.7535613775253296,
           0.6642571687698364,
           0.6211957931518555,
           0.7151129245758057,
           0.6030669212341309,
           0.6237975358963013,
           0.6990154981613159,
           0.6684273481369019,
           0.6301180124282837,
           0.6126089096069336,
           0.6909530162811279,
           0.6293656229972839,
           0.6836450099945068,
           0.6694303750991821,
           0.709417462348938,
           0.6372450590133667,
           0.7122067213058472,
           0.6614086627960205,
           0.6302722096443176,
           0.6555181741714478,
           0.695661187171936,
           0.6681156158447266,
           0.6627621650695801,
           0.6683444976806641,
           0.6271821856498718,
           0.6711828112602234,
           0.22829365730285645,
           0.6354456543922424,
           0.44698309898376465,
           0.44671711325645447,
           0.5754075646400452,
           0.6075308918952942,
           0.6154035925865173,
           0.6074438691139221,
           0.631920576095581,
           0.5611399412155151,
           0.631633996963501,
           0.7410961389541626,
           0.6563594937324524,
           1.000000238418579,
           0.6700751185417175,
           0.6289007663726807,
           0.5858548879623413
          ],
          [
           0.7263456583023071,
           0.6831728219985962,
           0.6028895974159241,
           0.7010610103607178,
           0.6522842645645142,
           0.6893826723098755,
           0.6638725996017456,
           0.674261212348938,
           0.7127050161361694,
           0.6663076877593994,
           0.6131889820098877,
           0.6283069252967834,
           0.6031047105789185,
           0.5752968788146973,
           0.631071925163269,
           0.609083354473114,
           0.5592254400253296,
           0.6083571910858154,
           0.5873905420303345,
           0.5249164700508118,
           0.5962995886802673,
           0.6048879027366638,
           0.5442904233932495,
           0.623492419719696,
           0.5547378063201904,
           0.6364025473594666,
           0.5518478155136108,
           0.5893326997756958,
           0.7002490758895874,
           0.5886778235435486,
           0.5590939521789551,
           0.6278518438339233,
           0.5639238357543945,
           0.6179964542388916,
           0.6523599624633789,
           0.6378768086433411,
           0.6006119251251221,
           0.5804398059844971,
           0.6240952014923096,
           0.5544188022613525,
           0.6362134218215942,
           0.5819165110588074,
           0.634662389755249,
           0.6127358675003052,
           0.7549793124198914,
           0.6868292093276978,
           0.5958006381988525,
           0.6073218584060669,
           0.7272882461547852,
           0.6248818635940552,
           0.6047228574752808,
           0.5919842720031738,
           0.6304953098297119,
           0.668194055557251,
           0.272678405046463,
           0.6925551891326904,
           0.5816826224327087,
           0.4386463463306427,
           0.4823422133922577,
           0.5164493322372437,
           0.5295962691307068,
           0.5254939794540405,
           0.526676595211029,
           0.5008260011672974,
           0.6987794637680054,
           0.6206362247467041,
           0.6860247850418091,
           0.6700751185417175,
           0.9999998807907104,
           0.6133488416671753,
           0.5335156321525574
          ],
          [
           0.7807465195655823,
           0.715865969657898,
           0.6628633141517639,
           0.7034521102905273,
           0.7497125864028931,
           0.7477787733078003,
           0.6368386745452881,
           0.6384639739990234,
           0.5709936022758484,
           0.6652107238769531,
           0.6175746917724609,
           0.6444814205169678,
           0.6796589493751526,
           0.6280913949012756,
           0.6525815725326538,
           0.6231718063354492,
           0.5680333971977234,
           0.6947786808013916,
           0.5827481746673584,
           0.5699883699417114,
           0.5831649303436279,
           0.6098778247833252,
           0.5877459049224854,
           0.6342427730560303,
           0.6178491115570068,
           0.6776901483535767,
           0.612587571144104,
           0.6491736769676208,
           0.684389591217041,
           0.6576954126358032,
           0.611903190612793,
           0.6645985841751099,
           0.6003674268722534,
           0.6090664863586426,
           0.6728954315185547,
           0.639061689376831,
           0.6544079780578613,
           0.590073823928833,
           0.6703492403030396,
           0.5909159779548645,
           0.7446326613426208,
           0.6529493927955627,
           0.6482605934143066,
           0.6613547801971436,
           0.6786414384841919,
           0.7241480350494385,
           0.6515824198722839,
           0.6475169658660889,
           0.6969512701034546,
           0.6645054221153259,
           0.6483815908432007,
           0.661685585975647,
           0.6588162183761597,
           0.6804351806640625,
           0.1781805008649826,
           0.5725862383842468,
           0.3924698233604431,
           0.4273585379123688,
           0.5117979645729065,
           0.522911548614502,
           0.5243054032325745,
           0.5694406032562256,
           0.5815368890762329,
           0.5468904972076416,
           0.8143750429153442,
           0.5876912474632263,
           0.585743248462677,
           0.6289007663726807,
           0.6133488416671753,
           0.9999998807907104,
           0.6071316003799438
          ],
          [
           0.6145662069320679,
           0.5681219100952148,
           0.6131144762039185,
           0.5637164115905762,
           0.5928014516830444,
           0.6317346692085266,
           0.6216841340065002,
           0.6058043837547302,
           0.5771628618240356,
           0.6123854517936707,
           0.6156325340270996,
           0.591401219367981,
           0.6458247900009155,
           0.6564797163009644,
           0.6611407995223999,
           0.6589287519454956,
           0.6105862259864807,
           0.6203666925430298,
           0.5591531991958618,
           0.5184580683708191,
           0.5771402716636658,
           0.5712165236473083,
           0.5659810304641724,
           0.5921574234962463,
           0.598258912563324,
           0.6708602905273438,
           0.5814588069915771,
           0.6147578954696655,
           0.8282479047775269,
           0.6271401643753052,
           0.6455107927322388,
           0.6656532287597656,
           0.6239925622940063,
           0.5764275789260864,
           0.6361080408096313,
           0.6492741107940674,
           0.5128962993621826,
           0.5848652124404907,
           0.6559388637542725,
           0.5893975496292114,
           0.611975908279419,
           0.5597304105758667,
           0.5913422107696533,
           0.5103314518928528,
           0.6969704627990723,
           0.5999517440795898,
           0.5301612615585327,
           0.6047772169113159,
           0.6374332904815674,
           0.595197319984436,
           0.6481983661651611,
           0.6275174617767334,
           0.5461663007736206,
           0.6617940664291382,
           0.28714418411254883,
           0.6332971453666687,
           0.4998887777328491,
           0.3540368974208832,
           0.4749576151371002,
           0.4781094789505005,
           0.5024281740188599,
           0.5262497663497925,
           0.5607023239135742,
           0.4839029908180237,
           0.6070746183395386,
           0.594051718711853,
           0.5096703767776489,
           0.5858548879623413,
           0.5335156321525574,
           0.6071316003799438,
           1.000000238418579
          ]
         ]
        }
       ],
       "layout": {
        "coloraxis": {
         "colorbar": {
          "title": {
           "text": "Similarity Score"
          }
         },
         "colorscale": [
          [
           0,
           "rgb(247,252,240)"
          ],
          [
           0.125,
           "rgb(224,243,219)"
          ],
          [
           0.25,
           "rgb(204,235,197)"
          ],
          [
           0.375,
           "rgb(168,221,181)"
          ],
          [
           0.5,
           "rgb(123,204,196)"
          ],
          [
           0.625,
           "rgb(78,179,211)"
          ],
          [
           0.75,
           "rgb(43,140,190)"
          ],
          [
           0.875,
           "rgb(8,104,172)"
          ],
          [
           1,
           "rgb(8,64,129)"
          ]
         ]
        },
        "height": 800,
        "hoverlabel": {
         "bgcolor": "white",
         "font": {
          "family": "Rockwell",
          "size": 16
         }
        },
        "legend": {
         "title": {
          "text": "Trend"
         }
        },
        "margin": {
         "t": 60
        },
        "showlegend": true,
        "template": {
         "data": {
          "bar": [
           {
            "error_x": {
             "color": "#2a3f5f"
            },
            "error_y": {
             "color": "#2a3f5f"
            },
            "marker": {
             "line": {
              "color": "#E5ECF6",
              "width": 0.5
             },
             "pattern": {
              "fillmode": "overlay",
              "size": 10,
              "solidity": 0.2
             }
            },
            "type": "bar"
           }
          ],
          "barpolar": [
           {
            "marker": {
             "line": {
              "color": "#E5ECF6",
              "width": 0.5
             },
             "pattern": {
              "fillmode": "overlay",
              "size": 10,
              "solidity": 0.2
             }
            },
            "type": "barpolar"
           }
          ],
          "carpet": [
           {
            "aaxis": {
             "endlinecolor": "#2a3f5f",
             "gridcolor": "white",
             "linecolor": "white",
             "minorgridcolor": "white",
             "startlinecolor": "#2a3f5f"
            },
            "baxis": {
             "endlinecolor": "#2a3f5f",
             "gridcolor": "white",
             "linecolor": "white",
             "minorgridcolor": "white",
             "startlinecolor": "#2a3f5f"
            },
            "type": "carpet"
           }
          ],
          "choropleth": [
           {
            "colorbar": {
             "outlinewidth": 0,
             "ticks": ""
            },
            "type": "choropleth"
           }
          ],
          "contour": [
           {
            "colorbar": {
             "outlinewidth": 0,
             "ticks": ""
            },
            "colorscale": [
             [
              0,
              "#0d0887"
             ],
             [
              0.1111111111111111,
              "#46039f"
             ],
             [
              0.2222222222222222,
              "#7201a8"
             ],
             [
              0.3333333333333333,
              "#9c179e"
             ],
             [
              0.4444444444444444,
              "#bd3786"
             ],
             [
              0.5555555555555556,
              "#d8576b"
             ],
             [
              0.6666666666666666,
              "#ed7953"
             ],
             [
              0.7777777777777778,
              "#fb9f3a"
             ],
             [
              0.8888888888888888,
              "#fdca26"
             ],
             [
              1,
              "#f0f921"
             ]
            ],
            "type": "contour"
           }
          ],
          "contourcarpet": [
           {
            "colorbar": {
             "outlinewidth": 0,
             "ticks": ""
            },
            "type": "contourcarpet"
           }
          ],
          "heatmap": [
           {
            "colorbar": {
             "outlinewidth": 0,
             "ticks": ""
            },
            "colorscale": [
             [
              0,
              "#0d0887"
             ],
             [
              0.1111111111111111,
              "#46039f"
             ],
             [
              0.2222222222222222,
              "#7201a8"
             ],
             [
              0.3333333333333333,
              "#9c179e"
             ],
             [
              0.4444444444444444,
              "#bd3786"
             ],
             [
              0.5555555555555556,
              "#d8576b"
             ],
             [
              0.6666666666666666,
              "#ed7953"
             ],
             [
              0.7777777777777778,
              "#fb9f3a"
             ],
             [
              0.8888888888888888,
              "#fdca26"
             ],
             [
              1,
              "#f0f921"
             ]
            ],
            "type": "heatmap"
           }
          ],
          "heatmapgl": [
           {
            "colorbar": {
             "outlinewidth": 0,
             "ticks": ""
            },
            "colorscale": [
             [
              0,
              "#0d0887"
             ],
             [
              0.1111111111111111,
              "#46039f"
             ],
             [
              0.2222222222222222,
              "#7201a8"
             ],
             [
              0.3333333333333333,
              "#9c179e"
             ],
             [
              0.4444444444444444,
              "#bd3786"
             ],
             [
              0.5555555555555556,
              "#d8576b"
             ],
             [
              0.6666666666666666,
              "#ed7953"
             ],
             [
              0.7777777777777778,
              "#fb9f3a"
             ],
             [
              0.8888888888888888,
              "#fdca26"
             ],
             [
              1,
              "#f0f921"
             ]
            ],
            "type": "heatmapgl"
           }
          ],
          "histogram": [
           {
            "marker": {
             "pattern": {
              "fillmode": "overlay",
              "size": 10,
              "solidity": 0.2
             }
            },
            "type": "histogram"
           }
          ],
          "histogram2d": [
           {
            "colorbar": {
             "outlinewidth": 0,
             "ticks": ""
            },
            "colorscale": [
             [
              0,
              "#0d0887"
             ],
             [
              0.1111111111111111,
              "#46039f"
             ],
             [
              0.2222222222222222,
              "#7201a8"
             ],
             [
              0.3333333333333333,
              "#9c179e"
             ],
             [
              0.4444444444444444,
              "#bd3786"
             ],
             [
              0.5555555555555556,
              "#d8576b"
             ],
             [
              0.6666666666666666,
              "#ed7953"
             ],
             [
              0.7777777777777778,
              "#fb9f3a"
             ],
             [
              0.8888888888888888,
              "#fdca26"
             ],
             [
              1,
              "#f0f921"
             ]
            ],
            "type": "histogram2d"
           }
          ],
          "histogram2dcontour": [
           {
            "colorbar": {
             "outlinewidth": 0,
             "ticks": ""
            },
            "colorscale": [
             [
              0,
              "#0d0887"
             ],
             [
              0.1111111111111111,
              "#46039f"
             ],
             [
              0.2222222222222222,
              "#7201a8"
             ],
             [
              0.3333333333333333,
              "#9c179e"
             ],
             [
              0.4444444444444444,
              "#bd3786"
             ],
             [
              0.5555555555555556,
              "#d8576b"
             ],
             [
              0.6666666666666666,
              "#ed7953"
             ],
             [
              0.7777777777777778,
              "#fb9f3a"
             ],
             [
              0.8888888888888888,
              "#fdca26"
             ],
             [
              1,
              "#f0f921"
             ]
            ],
            "type": "histogram2dcontour"
           }
          ],
          "mesh3d": [
           {
            "colorbar": {
             "outlinewidth": 0,
             "ticks": ""
            },
            "type": "mesh3d"
           }
          ],
          "parcoords": [
           {
            "line": {
             "colorbar": {
              "outlinewidth": 0,
              "ticks": ""
             }
            },
            "type": "parcoords"
           }
          ],
          "pie": [
           {
            "automargin": true,
            "type": "pie"
           }
          ],
          "scatter": [
           {
            "fillpattern": {
             "fillmode": "overlay",
             "size": 10,
             "solidity": 0.2
            },
            "type": "scatter"
           }
          ],
          "scatter3d": [
           {
            "line": {
             "colorbar": {
              "outlinewidth": 0,
              "ticks": ""
             }
            },
            "marker": {
             "colorbar": {
              "outlinewidth": 0,
              "ticks": ""
             }
            },
            "type": "scatter3d"
           }
          ],
          "scattercarpet": [
           {
            "marker": {
             "colorbar": {
              "outlinewidth": 0,
              "ticks": ""
             }
            },
            "type": "scattercarpet"
           }
          ],
          "scattergeo": [
           {
            "marker": {
             "colorbar": {
              "outlinewidth": 0,
              "ticks": ""
             }
            },
            "type": "scattergeo"
           }
          ],
          "scattergl": [
           {
            "marker": {
             "colorbar": {
              "outlinewidth": 0,
              "ticks": ""
             }
            },
            "type": "scattergl"
           }
          ],
          "scattermapbox": [
           {
            "marker": {
             "colorbar": {
              "outlinewidth": 0,
              "ticks": ""
             }
            },
            "type": "scattermapbox"
           }
          ],
          "scatterpolar": [
           {
            "marker": {
             "colorbar": {
              "outlinewidth": 0,
              "ticks": ""
             }
            },
            "type": "scatterpolar"
           }
          ],
          "scatterpolargl": [
           {
            "marker": {
             "colorbar": {
              "outlinewidth": 0,
              "ticks": ""
             }
            },
            "type": "scatterpolargl"
           }
          ],
          "scatterternary": [
           {
            "marker": {
             "colorbar": {
              "outlinewidth": 0,
              "ticks": ""
             }
            },
            "type": "scatterternary"
           }
          ],
          "surface": [
           {
            "colorbar": {
             "outlinewidth": 0,
             "ticks": ""
            },
            "colorscale": [
             [
              0,
              "#0d0887"
             ],
             [
              0.1111111111111111,
              "#46039f"
             ],
             [
              0.2222222222222222,
              "#7201a8"
             ],
             [
              0.3333333333333333,
              "#9c179e"
             ],
             [
              0.4444444444444444,
              "#bd3786"
             ],
             [
              0.5555555555555556,
              "#d8576b"
             ],
             [
              0.6666666666666666,
              "#ed7953"
             ],
             [
              0.7777777777777778,
              "#fb9f3a"
             ],
             [
              0.8888888888888888,
              "#fdca26"
             ],
             [
              1,
              "#f0f921"
             ]
            ],
            "type": "surface"
           }
          ],
          "table": [
           {
            "cells": {
             "fill": {
              "color": "#EBF0F8"
             },
             "line": {
              "color": "white"
             }
            },
            "header": {
             "fill": {
              "color": "#C8D4E3"
             },
             "line": {
              "color": "white"
             }
            },
            "type": "table"
           }
          ]
         },
         "layout": {
          "annotationdefaults": {
           "arrowcolor": "#2a3f5f",
           "arrowhead": 0,
           "arrowwidth": 1
          },
          "autotypenumbers": "strict",
          "coloraxis": {
           "colorbar": {
            "outlinewidth": 0,
            "ticks": ""
           }
          },
          "colorscale": {
           "diverging": [
            [
             0,
             "#8e0152"
            ],
            [
             0.1,
             "#c51b7d"
            ],
            [
             0.2,
             "#de77ae"
            ],
            [
             0.3,
             "#f1b6da"
            ],
            [
             0.4,
             "#fde0ef"
            ],
            [
             0.5,
             "#f7f7f7"
            ],
            [
             0.6,
             "#e6f5d0"
            ],
            [
             0.7,
             "#b8e186"
            ],
            [
             0.8,
             "#7fbc41"
            ],
            [
             0.9,
             "#4d9221"
            ],
            [
             1,
             "#276419"
            ]
           ],
           "sequential": [
            [
             0,
             "#0d0887"
            ],
            [
             0.1111111111111111,
             "#46039f"
            ],
            [
             0.2222222222222222,
             "#7201a8"
            ],
            [
             0.3333333333333333,
             "#9c179e"
            ],
            [
             0.4444444444444444,
             "#bd3786"
            ],
            [
             0.5555555555555556,
             "#d8576b"
            ],
            [
             0.6666666666666666,
             "#ed7953"
            ],
            [
             0.7777777777777778,
             "#fb9f3a"
            ],
            [
             0.8888888888888888,
             "#fdca26"
            ],
            [
             1,
             "#f0f921"
            ]
           ],
           "sequentialminus": [
            [
             0,
             "#0d0887"
            ],
            [
             0.1111111111111111,
             "#46039f"
            ],
            [
             0.2222222222222222,
             "#7201a8"
            ],
            [
             0.3333333333333333,
             "#9c179e"
            ],
            [
             0.4444444444444444,
             "#bd3786"
            ],
            [
             0.5555555555555556,
             "#d8576b"
            ],
            [
             0.6666666666666666,
             "#ed7953"
            ],
            [
             0.7777777777777778,
             "#fb9f3a"
            ],
            [
             0.8888888888888888,
             "#fdca26"
            ],
            [
             1,
             "#f0f921"
            ]
           ]
          },
          "colorway": [
           "#636efa",
           "#EF553B",
           "#00cc96",
           "#ab63fa",
           "#FFA15A",
           "#19d3f3",
           "#FF6692",
           "#B6E880",
           "#FF97FF",
           "#FECB52"
          ],
          "font": {
           "color": "#2a3f5f"
          },
          "geo": {
           "bgcolor": "white",
           "lakecolor": "white",
           "landcolor": "#E5ECF6",
           "showlakes": true,
           "showland": true,
           "subunitcolor": "white"
          },
          "hoverlabel": {
           "align": "left"
          },
          "hovermode": "closest",
          "mapbox": {
           "style": "light"
          },
          "paper_bgcolor": "white",
          "plot_bgcolor": "#E5ECF6",
          "polar": {
           "angularaxis": {
            "gridcolor": "white",
            "linecolor": "white",
            "ticks": ""
           },
           "bgcolor": "#E5ECF6",
           "radialaxis": {
            "gridcolor": "white",
            "linecolor": "white",
            "ticks": ""
           }
          },
          "scene": {
           "xaxis": {
            "backgroundcolor": "#E5ECF6",
            "gridcolor": "white",
            "gridwidth": 2,
            "linecolor": "white",
            "showbackground": true,
            "ticks": "",
            "zerolinecolor": "white"
           },
           "yaxis": {
            "backgroundcolor": "#E5ECF6",
            "gridcolor": "white",
            "gridwidth": 2,
            "linecolor": "white",
            "showbackground": true,
            "ticks": "",
            "zerolinecolor": "white"
           },
           "zaxis": {
            "backgroundcolor": "#E5ECF6",
            "gridcolor": "white",
            "gridwidth": 2,
            "linecolor": "white",
            "showbackground": true,
            "ticks": "",
            "zerolinecolor": "white"
           }
          },
          "shapedefaults": {
           "line": {
            "color": "#2a3f5f"
           }
          },
          "ternary": {
           "aaxis": {
            "gridcolor": "white",
            "linecolor": "white",
            "ticks": ""
           },
           "baxis": {
            "gridcolor": "white",
            "linecolor": "white",
            "ticks": ""
           },
           "bgcolor": "#E5ECF6",
           "caxis": {
            "gridcolor": "white",
            "linecolor": "white",
            "ticks": ""
           }
          },
          "title": {
           "x": 0.05
          },
          "xaxis": {
           "automargin": true,
           "gridcolor": "white",
           "linecolor": "white",
           "ticks": "",
           "title": {
            "standoff": 15
           },
           "zerolinecolor": "white",
           "zerolinewidth": 2
          },
          "yaxis": {
           "automargin": true,
           "gridcolor": "white",
           "linecolor": "white",
           "ticks": "",
           "title": {
            "standoff": 15
           },
           "zerolinecolor": "white",
           "zerolinewidth": 2
          }
         }
        },
        "title": {
         "font": {
          "color": "Black",
          "size": 22
         },
         "text": "<b>Similarity Matrix</b>",
         "x": 0.55,
         "xanchor": "center",
         "y": 0.95,
         "yanchor": "top"
        },
        "width": 800,
        "xaxis": {
         "anchor": "y",
         "constrain": "domain",
         "domain": [
          0,
          1
         ],
         "scaleanchor": "y"
        },
        "yaxis": {
         "anchor": "x",
         "autorange": "reversed",
         "constrain": "domain",
         "domain": [
          0,
          1
         ]
        }
       }
      }
     },
     "metadata": {},
     "output_type": "display_data"
    }
   ],
   "source": [
    "topic_model.visualize_heatmap(n_clusters=7)"
   ]
  },
  {
   "cell_type": "code",
   "execution_count": 7,
   "metadata": {},
   "outputs": [
    {
     "name": "stderr",
     "output_type": "stream",
     "text": [
      "2024-12-01 14:11:51,703 - BERTopic - WARNING: When you use `pickle` to save/load a BERTopic model,please make sure that the environments in which you saveand load the model are **exactly** the same. The version of BERTopic,its dependencies, and python need to remain the same.\n"
     ]
    }
   ],
   "source": [
    "topic_model.save(\"../models/model_cluster\", save_embedding_model=True)"
   ]
  },
  {
   "cell_type": "code",
   "execution_count": 15,
   "metadata": {},
   "outputs": [],
   "source": [
    "topic_model_test = BERTopic.load(\"../models/model_cluster\")"
   ]
  },
  {
   "cell_type": "code",
   "execution_count": 12,
   "metadata": {},
   "outputs": [
    {
     "name": "stderr",
     "output_type": "stream",
     "text": [
      "INFO:root:Connexion à la base de données établie avec succès.\n",
      "INFO:root:17 documents trouvés pour cleaned_description avec un pourcentage de 0.0001.\n",
      "INFO:root:Connexion à la base de données fermée.\n"
     ]
    }
   ],
   "source": [
    "db_api = DBapi()\n",
    "with db_api:\n",
    "    result = db_api.get_percentage('cleaned_description',0.0001)\n",
    "    df_test = pd.DataFrame(result)"
   ]
  },
  {
   "cell_type": "code",
   "execution_count": 13,
   "metadata": {},
   "outputs": [
    {
     "data": {
      "text/html": [
       "<div>\n",
       "<style scoped>\n",
       "    .dataframe tbody tr th:only-of-type {\n",
       "        vertical-align: middle;\n",
       "    }\n",
       "\n",
       "    .dataframe tbody tr th {\n",
       "        vertical-align: top;\n",
       "    }\n",
       "\n",
       "    .dataframe thead th {\n",
       "        text-align: right;\n",
       "    }\n",
       "</style>\n",
       "<table border=\"1\" class=\"dataframe\">\n",
       "  <thead>\n",
       "    <tr style=\"text-align: right;\">\n",
       "      <th></th>\n",
       "      <th>cleaned_description</th>\n",
       "    </tr>\n",
       "  </thead>\n",
       "  <tbody>\n",
       "    <tr>\n",
       "      <th>0</th>\n",
       "      <td>['moms', 'table', 'sweetness', 'apples', 'fami...</td>\n",
       "    </tr>\n",
       "    <tr>\n",
       "      <th>1</th>\n",
       "      <td>['snack', 'food', 'magazine', 'dec', 'issue']</td>\n",
       "    </tr>\n",
       "    <tr>\n",
       "      <th>2</th>\n",
       "      <td>['cream', 'mushroon', 'soup', 'cream', 'chicke...</td>\n",
       "    </tr>\n",
       "    <tr>\n",
       "      <th>3</th>\n",
       "      <td>['teenager', 'eating', 'friends', 'house', 'ha...</td>\n",
       "    </tr>\n",
       "    <tr>\n",
       "      <th>4</th>\n",
       "      <td>['pizza', 'muffins', 'appetizers']</td>\n",
       "    </tr>\n",
       "  </tbody>\n",
       "</table>\n",
       "</div>"
      ],
      "text/plain": [
       "                                 cleaned_description\n",
       "0  ['moms', 'table', 'sweetness', 'apples', 'fami...\n",
       "1      ['snack', 'food', 'magazine', 'dec', 'issue']\n",
       "2  ['cream', 'mushroon', 'soup', 'cream', 'chicke...\n",
       "3  ['teenager', 'eating', 'friends', 'house', 'ha...\n",
       "4                 ['pizza', 'muffins', 'appetizers']"
      ]
     },
     "execution_count": 13,
     "metadata": {},
     "output_type": "execute_result"
    }
   ],
   "source": [
    "df_test.head()"
   ]
  },
  {
   "cell_type": "code",
   "execution_count": 14,
   "metadata": {},
   "outputs": [
    {
     "name": "stdout",
     "output_type": "stream",
     "text": [
      "([-1], array([0.]))\n",
      "([2], array([0.86713051]))\n",
      "([-1], array([0.]))\n",
      "([-1], array([0.]))\n",
      "([23], array([0.90755066]))\n",
      "([10], array([0.80679453]))\n",
      "([-1], array([0.]))\n",
      "([4], array([0.88244484]))\n",
      "([-1], array([0.]))\n",
      "([-1], array([0.]))\n",
      "([-1], array([0.]))\n",
      "([-1], array([0.]))\n",
      "([-1], array([0.]))\n",
      "([-1], array([0.]))\n",
      "([-1], array([0.]))\n",
      "([-1], array([0.]))\n",
      "([-1], array([0.]))\n"
     ]
    }
   ],
   "source": [
    "for description in df_test['cleaned_description']:\n",
    "    print(topic_model.transform(description))"
   ]
  },
  {
   "cell_type": "code",
   "execution_count": 9,
   "metadata": {},
   "outputs": [
    {
     "name": "stdout",
     "output_type": "stream",
     "text": [
      "Nombre de documents non assignés : 40755\n"
     ]
    }
   ],
   "source": [
    "\n",
    "\n",
    "# Obtenir les documents non assignés (topic -1)\n",
    "outliers = df[df[\"topic\"] == -1][\"cleaned_description\"].tolist()\n",
    "\n",
    "# Vérifier le nombre de documents non assignés\n",
    "print(f\"Nombre de documents non assignés : {len(outliers)}\")"
   ]
  },
  {
   "cell_type": "code",
   "execution_count": 18,
   "metadata": {},
   "outputs": [
    {
     "name": "stderr",
     "output_type": "stream",
     "text": [
      "INFO:sentence_transformers.SentenceTransformer:Use pytorch device_name: cpu\n",
      "INFO:sentence_transformers.SentenceTransformer:Load pretrained SentenceTransformer: sentence-transformers/all-MiniLM-L6-v2\n"
     ]
    },
    {
     "name": "stdout",
     "output_type": "stream",
     "text": [
      "    Topic  Count                                               Name  \\\n",
      "0      -1   1447              -1_spaghetti_family_brisket_casserole   \n",
      "1       0  38260                         0_dish_sauce_chicken_salad   \n",
      "2       1    174                 1_taste home_home_home taste_taste   \n",
      "3       2    114                           2_fat_tasty_taste_tastes   \n",
      "4       3    110  3_request_request request_response request_res...   \n",
      "5       4    105               4_cooking_cooking cooking_cook_beach   \n",
      "6       5    101                5_cake_salad_salad salad_salad cake   \n",
      "7       6     98  6_cookbook cookbook_cookbook_cookbooks_bisquic...   \n",
      "8       7     91                 7_soup_quick_soup soup_quick quick   \n",
      "9       8     87              8_yum_yum yum_yumzwt mexico_plate yum   \n",
      "10      9     86                  9_meal meal_meal_meals meal_meals   \n",
      "11     10     82                     10_kids_kids kids_kid_kids kid   \n",
      "\n",
      "                                       Representation  \\\n",
      "0   [spaghetti, family, brisket, casserole, pie, h...   \n",
      "1   [dish, sauce, chicken, salad, flavor, bread, f...   \n",
      "2   [taste home, home, home taste, taste, breakfas...   \n",
      "3   [fat, tasty, taste, tastes, fat fat, fat taste...   \n",
      "4   [request, request request, response request, r...   \n",
      "5   [cooking, cooking cooking, cook, beach, cookin...   \n",
      "6   [cake, salad, salad salad, salad cake, cake sa...   \n",
      "7   [cookbook cookbook, cookbook, cookbooks, bisqu...   \n",
      "8   [soup, quick, soup soup, quick quick, soup qui...   \n",
      "9   [yum, yum yum, yumzwt mexico, plate yum, dishe...   \n",
      "10  [meal meal, meal, meals meal, meals, meal meal...   \n",
      "11  [kids, kids kids, kid, kids kid, kid kids, ple...   \n",
      "\n",
      "                                  Representative_Docs  \n",
      "0   [['family', 'favorite'], ['spaghetti'], ['spag...  \n",
      "1   [['salad', 'way', 'chicken', 'pork'], ['side',...  \n",
      "2   [['taste', 'home'], ['taste', 'home'], ['taste...  \n",
      "3                         [['fat'], ['fat'], ['fat']]  \n",
      "4             [['request'], ['request'], ['request']]  \n",
      "5             [['cooking'], ['cooking'], ['cooking']]  \n",
      "6                      [['cake'], ['cake'], ['cake']]  \n",
      "7          [['cookbook'], ['cookbook'], ['cookbook']]  \n",
      "8                      [['soup'], ['soup'], ['soup']]  \n",
      "9                  [['yum'], ['yum', 'yum'], ['yum']]  \n",
      "10                     [['meal'], ['meal'], ['meal']]  \n",
      "11                [['-', 'kids'], ['kids'], ['kids']]  \n"
     ]
    }
   ],
   "source": [
    "\n",
    "new_topic_model = BERTopic(hdbscan_model=hdbscan.HDBSCAN(min_cluster_size=80,  prediction_data=True),\n",
    "                        seed_topic_list=seed_topic_list,\n",
    "                        n_gram_range=(1, 2),\n",
    "                        language=\"english\")\n",
    "new_topics, new_probs = new_topic_model.fit_transform(outliers)\n",
    "\n",
    "\n",
    "new_topics_dict = new_topic_model.get_topics()\n",
    "\n",
    "print(new_topic_model.get_topic_info())"
   ]
  },
  {
   "cell_type": "code",
   "execution_count": 17,
   "metadata": {},
   "outputs": [
    {
     "data": {
      "application/vnd.plotly.v1+json": {
       "config": {
        "plotlyServerURL": "https://plot.ly"
       },
       "data": [
        {
         "marker": {
          "color": "#D55E00"
         },
         "orientation": "h",
         "type": "bar",
         "x": [
          0.022976927018119004,
          0.02556817109843975,
          0.0259306495817877,
          0.025953407159123483,
          0.026094391533816166,
          0.02674633437366431,
          0.027012744028028817,
          0.027024017715658547,
          0.03349385150801908,
          0.044911663430704685
         ],
         "xaxis": "x",
         "y": [
          "friend  ",
          "parties  ",
          "favorite  ",
          "mom  ",
          "years  ",
          "husband  ",
          "kids  ",
          "dinner  ",
          "party  ",
          "family  "
         ],
         "yaxis": "y"
        },
        {
         "marker": {
          "color": "#0072B2"
         },
         "orientation": "h",
         "type": "bar",
         "x": [
          0.013629260680446448,
          0.01395690788889326,
          0.014228141018544983,
          0.017425891506845436,
          0.017679771961096043,
          0.020811045671605292,
          0.022572781347664477,
          0.027614176956533874,
          0.03723257025776901,
          0.1890554623931554
         ],
         "xaxis": "x2",
         "y": [
          "bacon  ",
          "day  ",
          "chicken  ",
          "winter  ",
          "dumplings  ",
          "stock  ",
          "broth  ",
          "hearty  ",
          "soups  ",
          "soup  "
         ],
         "yaxis": "y2"
        },
        {
         "marker": {
          "color": "#CC79A7"
         },
         "orientation": "h",
         "type": "bar",
         "x": [
          0.015837730793612167,
          0.016334231839572777,
          0.016893090955303065,
          0.020630102025410504,
          0.02098607556735096,
          0.024931997782284828,
          0.025163588499868904,
          0.02700385400176889,
          0.04611964015480123,
          0.2204261486742166
         ],
         "xaxis": "x3",
         "y": [
          "havent  ",
          "bbc  ",
          "years  ",
          "magazines  ",
          "taste  ",
          "food  ",
          "home  ",
          "womans  ",
          "issue  ",
          "magazine  "
         ],
         "yaxis": "y3"
        },
        {
         "marker": {
          "color": "#E69F00"
         },
         "orientation": "h",
         "type": "bar",
         "x": [
          0.01304962516451376,
          0.013260237199740732,
          0.014689162437060761,
          0.01621587767462767,
          0.020632252606429667,
          0.02549368806696872,
          0.028817521834631758,
          0.0345450847866664,
          0.03715222281529252,
          0.16971527204097037
         ],
         "xaxis": "x4",
         "y": [
          "years  ",
          "cook  ",
          "havent  ",
          "library  ",
          "cooking  ",
          "church  ",
          "booklet  ",
          "cookbooks  ",
          "book  ",
          "cookbook  "
         ],
         "yaxis": "y4"
        },
        {
         "marker": {
          "color": "#56B4E9"
         },
         "orientation": "h",
         "type": "bar",
         "x": [
          0.022053905183336654,
          0.0238500052772387,
          0.024378559998059258,
          0.038319926245307244,
          0.039608010089743115,
          0.04913128325042291,
          0.05932603944098397,
          0.08285627273245055,
          0.10767287178280253,
          0.137595352102112
         ],
         "xaxis": "x5",
         "y": [
          "sugar  ",
          "dough  ",
          "chewy  ",
          "chips  ",
          "chip  ",
          "butter  ",
          "peanut  ",
          "chocolate  ",
          "cookie  ",
          "cookies  "
         ],
         "yaxis": "y5"
        },
        {
         "marker": {
          "color": "#009E73"
         },
         "orientation": "h",
         "type": "bar",
         "x": [
          0.017357381953592772,
          0.01741071503910329,
          0.017513355766756805,
          0.01755414903153409,
          0.020272962008683757,
          0.040545924017367514,
          0.043293698381941983,
          0.04490438404605297,
          0.053789221155631,
          0.16517374822894546
         ],
         "xaxis": "x6",
         "y": [
          "bread  ",
          "lunch  ",
          "meal  ",
          "garden  ",
          "lettuce  ",
          "salads  ",
          "tomatoes  ",
          "summer  ",
          "dressing  ",
          "salad  "
         ],
         "yaxis": "y6"
        },
        {
         "marker": {
          "color": "#F0E442"
         },
         "orientation": "h",
         "type": "bar",
         "x": [
          0.021647174439520987,
          0.02266677217963829,
          0.022957325739845973,
          0.02665887131559859,
          0.030082563867648786,
          0.03592349476290375,
          0.04122345035672303,
          0.04252044635166842,
          0.049926585985130494,
          0.21501509830878823
         ],
         "xaxis": "x7",
         "y": [
          "icing  ",
          "cream  ",
          "moist  ",
          "cheesecake  ",
          "mix  ",
          "chocolate  ",
          "cakes  ",
          "cupcakes  ",
          "frosting  ",
          "cake  "
         ],
         "yaxis": "y7"
        },
        {
         "marker": {
          "color": "#D55E00"
         },
         "orientation": "h",
         "type": "bar",
         "x": [
          0.00001,
          0.00001,
          0.00001,
          0.00001,
          0.00001,
          0.00001,
          0.00001,
          0.00001,
          0.00001,
          0.00001
         ],
         "xaxis": "x8",
         "y": [
          "  ",
          "  ",
          "  ",
          "  ",
          "  ",
          "  ",
          "  ",
          "  ",
          "  ",
          "  "
         ],
         "yaxis": "y8"
        }
       ],
       "layout": {
        "annotations": [
         {
          "font": {
           "size": 16
          },
          "showarrow": false,
          "text": "Topic 0",
          "x": 0.0875,
          "xanchor": "center",
          "xref": "paper",
          "y": 1,
          "yanchor": "bottom",
          "yref": "paper"
         },
         {
          "font": {
           "size": 16
          },
          "showarrow": false,
          "text": "Topic 1",
          "x": 0.36250000000000004,
          "xanchor": "center",
          "xref": "paper",
          "y": 1,
          "yanchor": "bottom",
          "yref": "paper"
         },
         {
          "font": {
           "size": 16
          },
          "showarrow": false,
          "text": "Topic 2",
          "x": 0.6375000000000001,
          "xanchor": "center",
          "xref": "paper",
          "y": 1,
          "yanchor": "bottom",
          "yref": "paper"
         },
         {
          "font": {
           "size": 16
          },
          "showarrow": false,
          "text": "Topic 3",
          "x": 0.9125,
          "xanchor": "center",
          "xref": "paper",
          "y": 1,
          "yanchor": "bottom",
          "yref": "paper"
         },
         {
          "font": {
           "size": 16
          },
          "showarrow": false,
          "text": "Topic 4",
          "x": 0.0875,
          "xanchor": "center",
          "xref": "paper",
          "y": 0.4,
          "yanchor": "bottom",
          "yref": "paper"
         },
         {
          "font": {
           "size": 16
          },
          "showarrow": false,
          "text": "Topic 5",
          "x": 0.36250000000000004,
          "xanchor": "center",
          "xref": "paper",
          "y": 0.4,
          "yanchor": "bottom",
          "yref": "paper"
         },
         {
          "font": {
           "size": 16
          },
          "showarrow": false,
          "text": "Topic 6",
          "x": 0.6375000000000001,
          "xanchor": "center",
          "xref": "paper",
          "y": 0.4,
          "yanchor": "bottom",
          "yref": "paper"
         },
         {
          "font": {
           "size": 16
          },
          "showarrow": false,
          "text": "Topic 7",
          "x": 0.9125,
          "xanchor": "center",
          "xref": "paper",
          "y": 0.4,
          "yanchor": "bottom",
          "yref": "paper"
         }
        ],
        "height": 800,
        "hoverlabel": {
         "bgcolor": "white",
         "font": {
          "family": "Rockwell",
          "size": 16
         }
        },
        "showlegend": false,
        "template": {
         "data": {
          "bar": [
           {
            "error_x": {
             "color": "#2a3f5f"
            },
            "error_y": {
             "color": "#2a3f5f"
            },
            "marker": {
             "line": {
              "color": "white",
              "width": 0.5
             },
             "pattern": {
              "fillmode": "overlay",
              "size": 10,
              "solidity": 0.2
             }
            },
            "type": "bar"
           }
          ],
          "barpolar": [
           {
            "marker": {
             "line": {
              "color": "white",
              "width": 0.5
             },
             "pattern": {
              "fillmode": "overlay",
              "size": 10,
              "solidity": 0.2
             }
            },
            "type": "barpolar"
           }
          ],
          "carpet": [
           {
            "aaxis": {
             "endlinecolor": "#2a3f5f",
             "gridcolor": "#C8D4E3",
             "linecolor": "#C8D4E3",
             "minorgridcolor": "#C8D4E3",
             "startlinecolor": "#2a3f5f"
            },
            "baxis": {
             "endlinecolor": "#2a3f5f",
             "gridcolor": "#C8D4E3",
             "linecolor": "#C8D4E3",
             "minorgridcolor": "#C8D4E3",
             "startlinecolor": "#2a3f5f"
            },
            "type": "carpet"
           }
          ],
          "choropleth": [
           {
            "colorbar": {
             "outlinewidth": 0,
             "ticks": ""
            },
            "type": "choropleth"
           }
          ],
          "contour": [
           {
            "colorbar": {
             "outlinewidth": 0,
             "ticks": ""
            },
            "colorscale": [
             [
              0,
              "#0d0887"
             ],
             [
              0.1111111111111111,
              "#46039f"
             ],
             [
              0.2222222222222222,
              "#7201a8"
             ],
             [
              0.3333333333333333,
              "#9c179e"
             ],
             [
              0.4444444444444444,
              "#bd3786"
             ],
             [
              0.5555555555555556,
              "#d8576b"
             ],
             [
              0.6666666666666666,
              "#ed7953"
             ],
             [
              0.7777777777777778,
              "#fb9f3a"
             ],
             [
              0.8888888888888888,
              "#fdca26"
             ],
             [
              1,
              "#f0f921"
             ]
            ],
            "type": "contour"
           }
          ],
          "contourcarpet": [
           {
            "colorbar": {
             "outlinewidth": 0,
             "ticks": ""
            },
            "type": "contourcarpet"
           }
          ],
          "heatmap": [
           {
            "colorbar": {
             "outlinewidth": 0,
             "ticks": ""
            },
            "colorscale": [
             [
              0,
              "#0d0887"
             ],
             [
              0.1111111111111111,
              "#46039f"
             ],
             [
              0.2222222222222222,
              "#7201a8"
             ],
             [
              0.3333333333333333,
              "#9c179e"
             ],
             [
              0.4444444444444444,
              "#bd3786"
             ],
             [
              0.5555555555555556,
              "#d8576b"
             ],
             [
              0.6666666666666666,
              "#ed7953"
             ],
             [
              0.7777777777777778,
              "#fb9f3a"
             ],
             [
              0.8888888888888888,
              "#fdca26"
             ],
             [
              1,
              "#f0f921"
             ]
            ],
            "type": "heatmap"
           }
          ],
          "heatmapgl": [
           {
            "colorbar": {
             "outlinewidth": 0,
             "ticks": ""
            },
            "colorscale": [
             [
              0,
              "#0d0887"
             ],
             [
              0.1111111111111111,
              "#46039f"
             ],
             [
              0.2222222222222222,
              "#7201a8"
             ],
             [
              0.3333333333333333,
              "#9c179e"
             ],
             [
              0.4444444444444444,
              "#bd3786"
             ],
             [
              0.5555555555555556,
              "#d8576b"
             ],
             [
              0.6666666666666666,
              "#ed7953"
             ],
             [
              0.7777777777777778,
              "#fb9f3a"
             ],
             [
              0.8888888888888888,
              "#fdca26"
             ],
             [
              1,
              "#f0f921"
             ]
            ],
            "type": "heatmapgl"
           }
          ],
          "histogram": [
           {
            "marker": {
             "pattern": {
              "fillmode": "overlay",
              "size": 10,
              "solidity": 0.2
             }
            },
            "type": "histogram"
           }
          ],
          "histogram2d": [
           {
            "colorbar": {
             "outlinewidth": 0,
             "ticks": ""
            },
            "colorscale": [
             [
              0,
              "#0d0887"
             ],
             [
              0.1111111111111111,
              "#46039f"
             ],
             [
              0.2222222222222222,
              "#7201a8"
             ],
             [
              0.3333333333333333,
              "#9c179e"
             ],
             [
              0.4444444444444444,
              "#bd3786"
             ],
             [
              0.5555555555555556,
              "#d8576b"
             ],
             [
              0.6666666666666666,
              "#ed7953"
             ],
             [
              0.7777777777777778,
              "#fb9f3a"
             ],
             [
              0.8888888888888888,
              "#fdca26"
             ],
             [
              1,
              "#f0f921"
             ]
            ],
            "type": "histogram2d"
           }
          ],
          "histogram2dcontour": [
           {
            "colorbar": {
             "outlinewidth": 0,
             "ticks": ""
            },
            "colorscale": [
             [
              0,
              "#0d0887"
             ],
             [
              0.1111111111111111,
              "#46039f"
             ],
             [
              0.2222222222222222,
              "#7201a8"
             ],
             [
              0.3333333333333333,
              "#9c179e"
             ],
             [
              0.4444444444444444,
              "#bd3786"
             ],
             [
              0.5555555555555556,
              "#d8576b"
             ],
             [
              0.6666666666666666,
              "#ed7953"
             ],
             [
              0.7777777777777778,
              "#fb9f3a"
             ],
             [
              0.8888888888888888,
              "#fdca26"
             ],
             [
              1,
              "#f0f921"
             ]
            ],
            "type": "histogram2dcontour"
           }
          ],
          "mesh3d": [
           {
            "colorbar": {
             "outlinewidth": 0,
             "ticks": ""
            },
            "type": "mesh3d"
           }
          ],
          "parcoords": [
           {
            "line": {
             "colorbar": {
              "outlinewidth": 0,
              "ticks": ""
             }
            },
            "type": "parcoords"
           }
          ],
          "pie": [
           {
            "automargin": true,
            "type": "pie"
           }
          ],
          "scatter": [
           {
            "fillpattern": {
             "fillmode": "overlay",
             "size": 10,
             "solidity": 0.2
            },
            "type": "scatter"
           }
          ],
          "scatter3d": [
           {
            "line": {
             "colorbar": {
              "outlinewidth": 0,
              "ticks": ""
             }
            },
            "marker": {
             "colorbar": {
              "outlinewidth": 0,
              "ticks": ""
             }
            },
            "type": "scatter3d"
           }
          ],
          "scattercarpet": [
           {
            "marker": {
             "colorbar": {
              "outlinewidth": 0,
              "ticks": ""
             }
            },
            "type": "scattercarpet"
           }
          ],
          "scattergeo": [
           {
            "marker": {
             "colorbar": {
              "outlinewidth": 0,
              "ticks": ""
             }
            },
            "type": "scattergeo"
           }
          ],
          "scattergl": [
           {
            "marker": {
             "colorbar": {
              "outlinewidth": 0,
              "ticks": ""
             }
            },
            "type": "scattergl"
           }
          ],
          "scattermapbox": [
           {
            "marker": {
             "colorbar": {
              "outlinewidth": 0,
              "ticks": ""
             }
            },
            "type": "scattermapbox"
           }
          ],
          "scatterpolar": [
           {
            "marker": {
             "colorbar": {
              "outlinewidth": 0,
              "ticks": ""
             }
            },
            "type": "scatterpolar"
           }
          ],
          "scatterpolargl": [
           {
            "marker": {
             "colorbar": {
              "outlinewidth": 0,
              "ticks": ""
             }
            },
            "type": "scatterpolargl"
           }
          ],
          "scatterternary": [
           {
            "marker": {
             "colorbar": {
              "outlinewidth": 0,
              "ticks": ""
             }
            },
            "type": "scatterternary"
           }
          ],
          "surface": [
           {
            "colorbar": {
             "outlinewidth": 0,
             "ticks": ""
            },
            "colorscale": [
             [
              0,
              "#0d0887"
             ],
             [
              0.1111111111111111,
              "#46039f"
             ],
             [
              0.2222222222222222,
              "#7201a8"
             ],
             [
              0.3333333333333333,
              "#9c179e"
             ],
             [
              0.4444444444444444,
              "#bd3786"
             ],
             [
              0.5555555555555556,
              "#d8576b"
             ],
             [
              0.6666666666666666,
              "#ed7953"
             ],
             [
              0.7777777777777778,
              "#fb9f3a"
             ],
             [
              0.8888888888888888,
              "#fdca26"
             ],
             [
              1,
              "#f0f921"
             ]
            ],
            "type": "surface"
           }
          ],
          "table": [
           {
            "cells": {
             "fill": {
              "color": "#EBF0F8"
             },
             "line": {
              "color": "white"
             }
            },
            "header": {
             "fill": {
              "color": "#C8D4E3"
             },
             "line": {
              "color": "white"
             }
            },
            "type": "table"
           }
          ]
         },
         "layout": {
          "annotationdefaults": {
           "arrowcolor": "#2a3f5f",
           "arrowhead": 0,
           "arrowwidth": 1
          },
          "autotypenumbers": "strict",
          "coloraxis": {
           "colorbar": {
            "outlinewidth": 0,
            "ticks": ""
           }
          },
          "colorscale": {
           "diverging": [
            [
             0,
             "#8e0152"
            ],
            [
             0.1,
             "#c51b7d"
            ],
            [
             0.2,
             "#de77ae"
            ],
            [
             0.3,
             "#f1b6da"
            ],
            [
             0.4,
             "#fde0ef"
            ],
            [
             0.5,
             "#f7f7f7"
            ],
            [
             0.6,
             "#e6f5d0"
            ],
            [
             0.7,
             "#b8e186"
            ],
            [
             0.8,
             "#7fbc41"
            ],
            [
             0.9,
             "#4d9221"
            ],
            [
             1,
             "#276419"
            ]
           ],
           "sequential": [
            [
             0,
             "#0d0887"
            ],
            [
             0.1111111111111111,
             "#46039f"
            ],
            [
             0.2222222222222222,
             "#7201a8"
            ],
            [
             0.3333333333333333,
             "#9c179e"
            ],
            [
             0.4444444444444444,
             "#bd3786"
            ],
            [
             0.5555555555555556,
             "#d8576b"
            ],
            [
             0.6666666666666666,
             "#ed7953"
            ],
            [
             0.7777777777777778,
             "#fb9f3a"
            ],
            [
             0.8888888888888888,
             "#fdca26"
            ],
            [
             1,
             "#f0f921"
            ]
           ],
           "sequentialminus": [
            [
             0,
             "#0d0887"
            ],
            [
             0.1111111111111111,
             "#46039f"
            ],
            [
             0.2222222222222222,
             "#7201a8"
            ],
            [
             0.3333333333333333,
             "#9c179e"
            ],
            [
             0.4444444444444444,
             "#bd3786"
            ],
            [
             0.5555555555555556,
             "#d8576b"
            ],
            [
             0.6666666666666666,
             "#ed7953"
            ],
            [
             0.7777777777777778,
             "#fb9f3a"
            ],
            [
             0.8888888888888888,
             "#fdca26"
            ],
            [
             1,
             "#f0f921"
            ]
           ]
          },
          "colorway": [
           "#636efa",
           "#EF553B",
           "#00cc96",
           "#ab63fa",
           "#FFA15A",
           "#19d3f3",
           "#FF6692",
           "#B6E880",
           "#FF97FF",
           "#FECB52"
          ],
          "font": {
           "color": "#2a3f5f"
          },
          "geo": {
           "bgcolor": "white",
           "lakecolor": "white",
           "landcolor": "white",
           "showlakes": true,
           "showland": true,
           "subunitcolor": "#C8D4E3"
          },
          "hoverlabel": {
           "align": "left"
          },
          "hovermode": "closest",
          "mapbox": {
           "style": "light"
          },
          "paper_bgcolor": "white",
          "plot_bgcolor": "white",
          "polar": {
           "angularaxis": {
            "gridcolor": "#EBF0F8",
            "linecolor": "#EBF0F8",
            "ticks": ""
           },
           "bgcolor": "white",
           "radialaxis": {
            "gridcolor": "#EBF0F8",
            "linecolor": "#EBF0F8",
            "ticks": ""
           }
          },
          "scene": {
           "xaxis": {
            "backgroundcolor": "white",
            "gridcolor": "#DFE8F3",
            "gridwidth": 2,
            "linecolor": "#EBF0F8",
            "showbackground": true,
            "ticks": "",
            "zerolinecolor": "#EBF0F8"
           },
           "yaxis": {
            "backgroundcolor": "white",
            "gridcolor": "#DFE8F3",
            "gridwidth": 2,
            "linecolor": "#EBF0F8",
            "showbackground": true,
            "ticks": "",
            "zerolinecolor": "#EBF0F8"
           },
           "zaxis": {
            "backgroundcolor": "white",
            "gridcolor": "#DFE8F3",
            "gridwidth": 2,
            "linecolor": "#EBF0F8",
            "showbackground": true,
            "ticks": "",
            "zerolinecolor": "#EBF0F8"
           }
          },
          "shapedefaults": {
           "line": {
            "color": "#2a3f5f"
           }
          },
          "ternary": {
           "aaxis": {
            "gridcolor": "#DFE8F3",
            "linecolor": "#A2B1C6",
            "ticks": ""
           },
           "baxis": {
            "gridcolor": "#DFE8F3",
            "linecolor": "#A2B1C6",
            "ticks": ""
           },
           "bgcolor": "white",
           "caxis": {
            "gridcolor": "#DFE8F3",
            "linecolor": "#A2B1C6",
            "ticks": ""
           }
          },
          "title": {
           "x": 0.05
          },
          "xaxis": {
           "automargin": true,
           "gridcolor": "#EBF0F8",
           "linecolor": "#EBF0F8",
           "ticks": "",
           "title": {
            "standoff": 15
           },
           "zerolinecolor": "#EBF0F8",
           "zerolinewidth": 2
          },
          "yaxis": {
           "automargin": true,
           "gridcolor": "#EBF0F8",
           "linecolor": "#EBF0F8",
           "ticks": "",
           "title": {
            "standoff": 15
           },
           "zerolinecolor": "#EBF0F8",
           "zerolinewidth": 2
          }
         }
        },
        "title": {
         "font": {
          "color": "Black",
          "size": 22
         },
         "text": "Topic Word Scores",
         "x": 0.5,
         "xanchor": "center",
         "yanchor": "top"
        },
        "width": 1600,
        "xaxis": {
         "anchor": "y",
         "domain": [
          0,
          0.175
         ],
         "showgrid": true
        },
        "xaxis2": {
         "anchor": "y2",
         "domain": [
          0.275,
          0.45
         ],
         "showgrid": true
        },
        "xaxis3": {
         "anchor": "y3",
         "domain": [
          0.55,
          0.7250000000000001
         ],
         "showgrid": true
        },
        "xaxis4": {
         "anchor": "y4",
         "domain": [
          0.825,
          1
         ],
         "showgrid": true
        },
        "xaxis5": {
         "anchor": "y5",
         "domain": [
          0,
          0.175
         ],
         "showgrid": true
        },
        "xaxis6": {
         "anchor": "y6",
         "domain": [
          0.275,
          0.45
         ],
         "showgrid": true
        },
        "xaxis7": {
         "anchor": "y7",
         "domain": [
          0.55,
          0.7250000000000001
         ],
         "showgrid": true
        },
        "xaxis8": {
         "anchor": "y8",
         "domain": [
          0.825,
          1
         ],
         "showgrid": true
        },
        "yaxis": {
         "anchor": "x",
         "domain": [
          0.6000000000000001,
          1
         ],
         "showgrid": true
        },
        "yaxis2": {
         "anchor": "x2",
         "domain": [
          0.6000000000000001,
          1
         ],
         "showgrid": true
        },
        "yaxis3": {
         "anchor": "x3",
         "domain": [
          0.6000000000000001,
          1
         ],
         "showgrid": true
        },
        "yaxis4": {
         "anchor": "x4",
         "domain": [
          0.6000000000000001,
          1
         ],
         "showgrid": true
        },
        "yaxis5": {
         "anchor": "x5",
         "domain": [
          0,
          0.4
         ],
         "showgrid": true
        },
        "yaxis6": {
         "anchor": "x6",
         "domain": [
          0,
          0.4
         ],
         "showgrid": true
        },
        "yaxis7": {
         "anchor": "x7",
         "domain": [
          0,
          0.4
         ],
         "showgrid": true
        },
        "yaxis8": {
         "anchor": "x8",
         "domain": [
          0,
          0.4
         ],
         "showgrid": true
        }
       }
      }
     },
     "metadata": {},
     "output_type": "display_data"
    }
   ],
   "source": [
    "topic_model_test.visualize_barchart(n_words=10, height=400, width=400)"
   ]
  },
  {
   "cell_type": "code",
   "execution_count": 26,
   "metadata": {},
   "outputs": [
    {
     "name": "stderr",
     "output_type": "stream",
     "text": [
      "2024-11-30 19:42:15,599 - BERTopic - WARNING: Using a custom list of topic assignments may lead to errors if topic reduction techniques are used afterwards. Make sure that manually assigning topics is the last step in the pipeline.Note that topic embeddings will also be created through weightedc-TF-IDF embeddings instead of centroid embeddings.\n",
      "2024-11-30 19:42:19,598 - BERTopic - WARNING: When you use `pickle` to save/load a BERTopic model,please make sure that the environments in which you saveand load the model are **exactly** the same. The version of BERTopic,its dependencies, and python need to remain the same.\n"
     ]
    }
   ],
   "source": [
    "\n",
    "# Récupérer les topics des deux modèles\n",
    "original_topics = topic_model.get_topics()\n",
    "# Recaler les IDs des topics du nouveau modèle\n",
    "max_topic_id = max(original_topics.keys())\n",
    "reindexed_new_topics = {\n",
    "    topic_id + max_topic_id + 1: terms\n",
    "    for topic_id, terms in new_topics_dict.items()\n",
    "}\n",
    "new_topic_model.get_topic_info()\n",
    "# Fusionner les topics\n",
    "merged_topics = {**original_topics, **reindexed_new_topics}\n",
    "\n",
    "# Réattribuer les documents non assignés avec les nouveaux topics\n",
    "outlier_indices = df[df[\"topic\"] == -1].index\n",
    "df.loc[outlier_indices, \"topic\"] = [topic_id + max_topic_id + 1 for topic_id in new_topics[:len(outlier_indices)]]\n",
    "\n",
    "# Mettre à jour le modèle initial avec les nouveaux topics\n",
    "topic_ids = df[\"topic\"].tolist()\n",
    "topic_model.update_topics(docs=df[\"cleaned_description\"].tolist(), topics=topic_ids)\n",
    "\n",
    "# Sauvegarder le modèle fusionné\n",
    "topic_model.save(\"merged_model_cluster\", save_embedding_model=True)"
   ]
  },
  {
   "cell_type": "code",
   "execution_count": 28,
   "metadata": {},
   "outputs": [],
   "source": [
    "model_topic_bert = BERTopic.load(\"merged_model_cluster\")"
   ]
  },
  {
   "cell_type": "code",
   "execution_count": 29,
   "metadata": {},
   "outputs": [
    {
     "name": "stdout",
     "output_type": "stream",
     "text": [
      "    Topic  Count                                 Name  \\\n",
      "0       0   3219          0_family_party_husband_kids   \n",
      "1       1   1506            1_soup_soups_hearty_broth   \n",
      "2       2   1487         2_magazine_issue_womans_home   \n",
      "3       3   1332    3_cookbook_book_cookbooks_booklet   \n",
      "4       4   1288    4_cookies_cookie_chocolate_peanut   \n",
      "..    ...    ...                                  ...   \n",
      "73     73    105        73_bread_potatoes_potato_loaf   \n",
      "74     74    103  74_spaghetti_meatballs_pasta_change   \n",
      "75     75     98         75_yum_yumzwt_scrum_yumsugar   \n",
      "76     76     95   76_appetizer_online_appetizers_msn   \n",
      "77     77     84       77_yummy_lunch_lunches_yummmmy   \n",
      "\n",
      "                                       Representation  \\\n",
      "0   [family, party, husband, kids, dinner, parties...   \n",
      "1   [soup, soups, hearty, broth, stock, dumplings,...   \n",
      "2   [magazine, issue, womans, home, food, magazine...   \n",
      "3   [cookbook, book, cookbooks, booklet, church, c...   \n",
      "4   [cookies, cookie, chocolate, peanut, butter, c...   \n",
      "..                                                ...   \n",
      "73  [bread, potatoes, potato, loaf, batata, wellpe...   \n",
      "74  [spaghetti, meatballs, pasta, change, sauce, b...   \n",
      "75  [yum, yumzwt, scrum, yumsugar, ifood, selectio...   \n",
      "76  [appetizer, online, appetizers, msn, appetizer...   \n",
      "77  [yummy, lunch, lunches, yummmmy, nummy, desser...   \n",
      "\n",
      "                                  Representative_Docs  \n",
      "0   [['appetizer', 'fall', 'dinner', 'party', 'fri...  \n",
      "1   [['soup', 'family'], ['soup', 'family'], ['sou...  \n",
      "2   [['magazine', 'taste'], ['magazine', 'taste'],...  \n",
      "3   [['cooking', 'cookbook'], ['cookbook', 'cookin...  \n",
      "4   [['chocolate', 'chip', 'cookies', 'people', 'c...  \n",
      "..                                                ...  \n",
      "73                                                NaN  \n",
      "74                                                NaN  \n",
      "75                                                NaN  \n",
      "76                                                NaN  \n",
      "77                                                NaN  \n",
      "\n",
      "[78 rows x 5 columns]\n"
     ]
    }
   ],
   "source": [
    "print(model_topic_bert.get_topic_info())"
   ]
  },
  {
   "cell_type": "code",
   "execution_count": 30,
   "metadata": {},
   "outputs": [
    {
     "name": "stderr",
     "output_type": "stream",
     "text": [
      "2024-11-30 19:43:25,973 - BERTopic - WARNING: Using a custom list of topic assignments may lead to errors if topic reduction techniques are used afterwards. Make sure that manually assigning topics is the last step in the pipeline.Note that topic embeddings will also be created through weightedc-TF-IDF embeddings instead of centroid embeddings.\n"
     ]
    }
   ],
   "source": [
    "model_topic_bert.update_topics(docs=df[\"cleaned_description\"].tolist(), topics=topic_ids)"
   ]
  },
  {
   "cell_type": "code",
   "execution_count": 31,
   "metadata": {},
   "outputs": [
    {
     "name": "stdout",
     "output_type": "stream",
     "text": [
      "    Topic  Count                                 Name  \\\n",
      "0       0   3219          0_family_party_husband_kids   \n",
      "1       1   1506            1_soup_soups_hearty_broth   \n",
      "2       2   1487         2_magazine_issue_womans_home   \n",
      "3       3   1332    3_cookbook_book_cookbooks_booklet   \n",
      "4       4   1288    4_cookies_cookie_chocolate_peanut   \n",
      "..    ...    ...                                  ...   \n",
      "73     73    105        73_bread_potatoes_potato_loaf   \n",
      "74     74    103  74_spaghetti_meatballs_pasta_change   \n",
      "75     75     98         75_yum_yumzwt_scrum_yumsugar   \n",
      "76     76     95   76_appetizer_online_appetizers_msn   \n",
      "77     77     84       77_yummy_lunch_lunches_yummmmy   \n",
      "\n",
      "                                       Representation  \\\n",
      "0   [family, party, husband, kids, dinner, parties...   \n",
      "1   [soup, soups, hearty, broth, stock, dumplings,...   \n",
      "2   [magazine, issue, womans, home, food, magazine...   \n",
      "3   [cookbook, book, cookbooks, booklet, church, c...   \n",
      "4   [cookies, cookie, chocolate, peanut, butter, c...   \n",
      "..                                                ...   \n",
      "73  [bread, potatoes, potato, loaf, batata, wellpe...   \n",
      "74  [spaghetti, meatballs, pasta, change, sauce, b...   \n",
      "75  [yum, yumzwt, scrum, yumsugar, ifood, selectio...   \n",
      "76  [appetizer, online, appetizers, msn, appetizer...   \n",
      "77  [yummy, lunch, lunches, yummmmy, nummy, desser...   \n",
      "\n",
      "                                  Representative_Docs  \n",
      "0   [['appetizer', 'fall', 'dinner', 'party', 'fri...  \n",
      "1   [['soup', 'family'], ['soup', 'family'], ['sou...  \n",
      "2   [['magazine', 'taste'], ['magazine', 'taste'],...  \n",
      "3   [['cooking', 'cookbook'], ['cookbook', 'cookin...  \n",
      "4   [['chocolate', 'chip', 'cookies', 'people', 'c...  \n",
      "..                                                ...  \n",
      "73                                                NaN  \n",
      "74                                                NaN  \n",
      "75                                                NaN  \n",
      "76                                                NaN  \n",
      "77                                                NaN  \n",
      "\n",
      "[78 rows x 5 columns]\n"
     ]
    }
   ],
   "source": [
    "print(model_topic_bert.get_topic_info())"
   ]
  },
  {
   "cell_type": "code",
   "execution_count": 32,
   "metadata": {},
   "outputs": [
    {
     "name": "stdout",
     "output_type": "stream",
     "text": [
      "topic\n",
      "65    36418\n",
      "0      3219\n",
      "64     3094\n",
      "1      1506\n",
      "2      1487\n",
      "      ...  \n",
      "73      105\n",
      "74      103\n",
      "75       98\n",
      "76       95\n",
      "77       84\n",
      "Name: count, Length: 78, dtype: int64\n"
     ]
    }
   ],
   "source": [
    "# top topics\n",
    "\n",
    "topic_counts = df[\"topic\"].value_counts().sort_values(ascending=False)\n",
    "print(topic_counts)\n",
    "\n"
   ]
  },
  {
   "cell_type": "code",
   "execution_count": 34,
   "metadata": {},
   "outputs": [
    {
     "name": "stdout",
     "output_type": "stream",
     "text": [
      "Nombre de documents non assignés : 36418\n"
     ]
    }
   ],
   "source": [
    "# Obtenir les documents non assignés (topic -1)\n",
    "outliers = df[df[\"topic\"] == 65][\"cleaned_description\"].tolist()\n",
    "\n",
    "# Vérifier le nombre de documents non assignés\n",
    "print(f\"Nombre de documents non assignés : {len(outliers)}\")"
   ]
  },
  {
   "cell_type": "code",
   "execution_count": 36,
   "metadata": {},
   "outputs": [
    {
     "name": "stderr",
     "output_type": "stream",
     "text": [
      "INFO:sentence_transformers.SentenceTransformer:Use pytorch device_name: cpu\n",
      "INFO:sentence_transformers.SentenceTransformer:Load pretrained SentenceTransformer: sentence-transformers/all-MiniLM-L6-v2\n",
      "huggingface/tokenizers: The current process just got forked, after parallelism has already been used. Disabling parallelism to avoid deadlocks...\n",
      "To disable this warning, you can either:\n",
      "\t- Avoid using `tokenizers` before the fork if possible\n",
      "\t- Explicitly set the environment variable TOKENIZERS_PARALLELISM=(true | false)\n",
      "huggingface/tokenizers: The current process just got forked, after parallelism has already been used. Disabling parallelism to avoid deadlocks...\n",
      "To disable this warning, you can either:\n",
      "\t- Avoid using `tokenizers` before the fork if possible\n",
      "\t- Explicitly set the environment variable TOKENIZERS_PARALLELISM=(true | false)\n",
      "huggingface/tokenizers: The current process just got forked, after parallelism has already been used. Disabling parallelism to avoid deadlocks...\n",
      "To disable this warning, you can either:\n",
      "\t- Avoid using `tokenizers` before the fork if possible\n",
      "\t- Explicitly set the environment variable TOKENIZERS_PARALLELISM=(true | false)\n",
      "huggingface/tokenizers: The current process just got forked, after parallelism has already been used. Disabling parallelism to avoid deadlocks...\n",
      "To disable this warning, you can either:\n",
      "\t- Avoid using `tokenizers` before the fork if possible\n",
      "\t- Explicitly set the environment variable TOKENIZERS_PARALLELISM=(true | false)\n"
     ]
    },
    {
     "name": "stdout",
     "output_type": "stream",
     "text": [
      "   Topic  Count                              Name  \\\n",
      "0     -1   2192   -1_eggs_waffles_alfredo_chowder   \n",
      "1      0  33860        0_dish_sauce_chicken_salad   \n",
      "2      1    165        1_bon_appetit_source_issue   \n",
      "3      2    115         2_taste_home_tastes_homes   \n",
      "4      3     86  3_accompaniment_meal_dishes_meat   \n",
      "\n",
      "                                      Representation  \\\n",
      "0  [eggs, waffles, alfredo, chowder, version, chi...   \n",
      "1  [dish, sauce, chicken, salad, family, way, tas...   \n",
      "2  [bon, appetit, source, issue, november, decemb...   \n",
      "3  [taste, home, tastes, homes, source, tasteofho...   \n",
      "4  [accompaniment, meal, dishes, meat, dish, sala...   \n",
      "\n",
      "                                 Representative_Docs  \n",
      "0  [['way', 'chicken'], ['chicken', 'way'], ['chi...  \n",
      "1  [['way', 'apples', 'autumn', 'day', 'cinnamon'...  \n",
      "2  [['side', 'dish', 'bon', 'appetit'], ['bon', '...  \n",
      "3  [['taste', 'home'], ['taste', 'home'], ['taste...  \n",
      "4  [['accompaniment', 'dishes'], ['bread', 'accom...  \n"
     ]
    }
   ],
   "source": [
    "\n",
    "new_topic_model = BERTopic(hdbscan_model=hdbscan.HDBSCAN(min_cluster_size=80, prediction_data=True),\n",
    "                            language=\"english\")\n",
    "new_topics, new_probs = new_topic_model.fit_transform(outliers)\n",
    "\n",
    "\n",
    "new_topics_dict = new_topic_model.get_topics()\n",
    "\n",
    "print(new_topic_model.get_topic_info())"
   ]
  },
  {
   "cell_type": "code",
   "execution_count": null,
   "metadata": {},
   "outputs": [],
   "source": []
  }
 ],
 "metadata": {
  "kernelspec": {
   "display_name": ".env_projet_kit_big_data",
   "language": "python",
   "name": "python3"
  },
  "language_info": {
   "codemirror_mode": {
    "name": "ipython",
    "version": 3
   },
   "file_extension": ".py",
   "mimetype": "text/x-python",
   "name": "python",
   "nbconvert_exporter": "python",
   "pygments_lexer": "ipython3",
   "version": "3.12.3"
  }
 },
 "nbformat": 4,
 "nbformat_minor": 2
}
