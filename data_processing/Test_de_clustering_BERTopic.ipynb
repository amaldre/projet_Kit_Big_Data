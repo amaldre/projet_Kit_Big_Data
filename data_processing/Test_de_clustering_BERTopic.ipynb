{
 "cells": [
  {
   "cell_type": "code",
   "execution_count": 39,
   "metadata": {},
   "outputs": [],
   "source": [
    "import pandas as pd\n",
    "from utils.dbapi import DBapi"
   ]
  },
  {
   "cell_type": "code",
   "execution_count": 40,
   "metadata": {},
   "outputs": [
    {
     "name": "stdout",
     "output_type": "stream",
     "text": [
      "['ALL_UUID_SUBTYPES', 'Any', 'BSON', 'BSONARR', 'BSONBIN', 'BSONBOO', 'BSONCOD', 'BSONCWS', 'BSONDAT', 'BSONDEC', 'BSONINT', 'BSONLON', 'BSONMAX', 'BSONMIN', 'BSONNUL', 'BSONNUM', 'BSONOBJ', 'BSONOID', 'BSONREF', 'BSONRGX', 'BSONSTR', 'BSONSYM', 'BSONTIM', 'BSONUND', 'Binary', 'BinaryIO', 'CSHARP_LEGACY', 'Callable', 'Code', 'CodecOptions', 'DBRef', 'DEFAULT_CODEC_OPTIONS', 'DatetimeConversion', 'DatetimeMS', 'Decimal128', 'EPOCH_AWARE', 'EPOCH_NAIVE', 'Generator', 'IO', 'Int64', 'InvalidBSON', 'InvalidDocument', 'InvalidStringData', 'Iterator', 'JAVA_LEGACY', 'Mapping', 'MaxKey', 'MinKey', 'MutableMapping', 'NoReturn', 'OLD_UUID_SUBTYPE', 'ObjectId', 'Optional', 'RE_TYPE', 'Regex', 'SON', 'STANDARD', 'Sequence', 'TYPE_CHECKING', 'Timestamp', 'Tuple', 'Type', 'TypeVar', 'UUID_SUBTYPE', 'Union', 'UuidRepresentation', '_BUILT_IN_TYPES', '_CODEC_OPTIONS_TYPE_ERROR', '_ELEMENT_GETTER', '_ENCODERS', '_LIST_NAMES', '_MARKERS', '_PACK_FLOAT', '_PACK_INT', '_PACK_LENGTH_SUBTYPE', '_PACK_LONG', '_PACK_TIMESTAMP', '_T', '_UNPACK_FLOAT_FROM', '_UNPACK_INT', '_UNPACK_INT_FROM', '_UNPACK_LENGTH_SUBTYPE_FROM', '_UNPACK_LONG_FROM', '_UNPACK_TIMESTAMP_FROM', '_USE_C', '__all__', '__annotations__', '__builtins__', '__cached__', '__doc__', '__file__', '__loader__', '__name__', '__package__', '__path__', '__spec__', '_abc', '_after_fork', '_array_of_documents_to_buffer', '_bson_to_dict', '_cbson', '_convert_raw_document_lists_to_streams', '_datetime_to_millis', '_decode_all', '_decode_all_selective', '_decode_selective', '_dict_to_bson', '_element_to_bson', '_element_to_dict', '_elements_to_dict', '_encode_binary', '_encode_bool', '_encode_bytes', '_encode_code', '_encode_datetime', '_encode_datetime_ms', '_encode_dbref', '_encode_decimal128', '_encode_float', '_encode_int', '_encode_list', '_encode_long', '_encode_mapping', '_encode_maxkey', '_encode_minkey', '_encode_none', '_encode_objectid', '_encode_regex', '_encode_text', '_encode_timestamp', '_encode_uuid', '_get_array', '_get_binary', '_get_boolean', '_get_c_string', '_get_code', '_get_code_w_scope', '_get_date', '_get_decimal128', '_get_float', '_get_int', '_get_int64', '_get_object', '_get_object_size', '_get_oid', '_get_ref', '_get_regex', '_get_string', '_get_timestamp', '_helpers', '_make_c_string', '_make_c_string_check', '_make_name', '_millis_to_datetime', '_name_value_to_bson', '_raise_unknown_type', '_raw_document_class', '_raw_to_dict', '_typ', '_utf_8_decode', '_utf_8_encode', 'annotations', 'binary', 'cast', 'code', 'codec_options', 'datetime', 'datetime_ms', 'dbref', 'decimal128', 'decode', 'decode_all', 'decode_file_iter', 'decode_iter', 'encode', 'errors', 'gen_list_name', 'get_data_and_view', 'has_c', 'int64', 'is_valid', 'itertools', 'json_util', 'max_key', 'min_key', 'objectid', 'os', 'overload', 'raw_bson', 're', 'regex', 'son', 'struct', 'sys', 'timestamp', 'typings', 'tz_util', 'utc', 'uuid']\n"
     ]
    }
   ],
   "source": [
    "import bson\n",
    "\n",
    "print(dir(bson))"
   ]
  },
  {
   "cell_type": "code",
   "execution_count": 41,
   "metadata": {},
   "outputs": [
    {
     "name": "stderr",
     "output_type": "stream",
     "text": [
      "INFO:root:Connexion à la base de données établie avec succès.\n",
      "INFO:root:70971 documents trouvés pour cleaned_description avec un pourcentage de 0.4.\n",
      "INFO:root:Connexion à la base de données fermée.\n"
     ]
    }
   ],
   "source": [
    "db_api = DBapi()\n",
    "with db_api:\n",
    "    result = db_api.get_percentage('cleaned_description',0.4)\n",
    "    df = pd.DataFrame(result)"
   ]
  },
  {
   "cell_type": "code",
   "execution_count": 42,
   "metadata": {},
   "outputs": [],
   "source": [
    "import pandas as pd\n",
    "import numpy as np\n",
    "import matplotlib.pyplot as plt\n",
    "from bertopic import BERTopic\n",
    "\n",
    "from nltk import word_tokenize\n",
    "import os.path as op\n",
    "import re \n",
    "import numpy as np\n",
    "import matplotlib.pyplot as plt\n",
    "import pandas as pd\n",
    "import sklearn\n",
    "from sklearn.feature_extraction.text import CountVectorizer\n",
    "import nltk\n",
    "# import the preprocess doc\n",
    "\n",
    "df = df\n",
    "\n",
    "documents = df['cleaned_description'].to_list()\n",
    "\n",
    "# BERTopic (sans n-gram)\n",
    "import hdbscan\n",
    "\n",
    "n_gram_range = (2, 3)\n",
    "\n",
    "hdbscan_model = hdbscan.HDBSCAN(min_cluster_size=100, prediction_data=True)\n",
    "topic_model = BERTopic(hdbscan_model=hdbscan_model, language=\"english\")\n",
    "\n",
    "# TODO : Faire fonctionner BERTopic\n"
   ]
  },
  {
   "cell_type": "code",
   "execution_count": 43,
   "metadata": {},
   "outputs": [
    {
     "name": "stderr",
     "output_type": "stream",
     "text": [
      "INFO:sentence_transformers.SentenceTransformer:Use pytorch device_name: cpu\n",
      "INFO:sentence_transformers.SentenceTransformer:Load pretrained SentenceTransformer: sentence-transformers/all-MiniLM-L6-v2\n",
      "huggingface/tokenizers: The current process just got forked, after parallelism has already been used. Disabling parallelism to avoid deadlocks...\n",
      "To disable this warning, you can either:\n",
      "\t- Avoid using `tokenizers` before the fork if possible\n",
      "\t- Explicitly set the environment variable TOKENIZERS_PARALLELISM=(true | false)\n",
      "huggingface/tokenizers: The current process just got forked, after parallelism has already been used. Disabling parallelism to avoid deadlocks...\n",
      "To disable this warning, you can either:\n",
      "\t- Avoid using `tokenizers` before the fork if possible\n",
      "\t- Explicitly set the environment variable TOKENIZERS_PARALLELISM=(true | false)\n",
      "huggingface/tokenizers: The current process just got forked, after parallelism has already been used. Disabling parallelism to avoid deadlocks...\n",
      "To disable this warning, you can either:\n",
      "\t- Avoid using `tokenizers` before the fork if possible\n",
      "\t- Explicitly set the environment variable TOKENIZERS_PARALLELISM=(true | false)\n",
      "huggingface/tokenizers: The current process just got forked, after parallelism has already been used. Disabling parallelism to avoid deadlocks...\n",
      "To disable this warning, you can either:\n",
      "\t- Avoid using `tokenizers` before the fork if possible\n",
      "\t- Explicitly set the environment variable TOKENIZERS_PARALLELISM=(true | false)\n"
     ]
    },
    {
     "name": "stdout",
     "output_type": "stream",
     "text": [
      "    Topic  Count                                    Name  \\\n",
      "0      -1  42774            -1_sauce_chicken_dish_family   \n",
      "1       0   1766       0_cookies_cookie_chocolate_peanut   \n",
      "2       1   1607              1_magazine_issue_food_home   \n",
      "3       2   1321        2_cookbook_cookbooks_book_church   \n",
      "4       3   1262              3_soup_soups_hearty_winter   \n",
      "..    ...    ...                                     ...   \n",
      "65     64    120     64_sandwich_sandwiches_lunch_jaffle   \n",
      "66     65    116  65_zwt_alleasyrecipescom_greece_region   \n",
      "67     66    114     66_asparagus_spring_combination_way   \n",
      "68     67    108          67_march_years_light_september   \n",
      "69     68    101               68_steak_steaks_meat_cube   \n",
      "\n",
      "                                       Representation  \\\n",
      "0   [sauce, chicken, dish, family, way, cheese, fo...   \n",
      "1   [cookies, cookie, chocolate, peanut, butter, c...   \n",
      "2   [magazine, issue, food, home, kraft, years, ma...   \n",
      "3   [cookbook, cookbooks, book, church, cooking, b...   \n",
      "4   [soup, soups, hearty, winter, dumplings, broth...   \n",
      "..                                                ...   \n",
      "65  [sandwich, sandwiches, lunch, jaffle, deli, bo...   \n",
      "66  [zwt, alleasyrecipescom, greece, region, italy...   \n",
      "67  [asparagus, spring, combination, way, stir, bu...   \n",
      "68  [march, years, light, september, january, jan,...   \n",
      "69  [steak, steaks, meat, cube, cut, cuts, leg, fl...   \n",
      "\n",
      "                                  Representative_Docs  \n",
      "0   [['dish', 'mom', 'bread', 'side', 'salad', 'le...  \n",
      "1   [['cookies', 'magazine', 'cookies', 'day'], ['...  \n",
      "2   [['magazine', 'magazine', 'water'], ['food', '...  \n",
      "3   [['cooking', 'cookbook'], ['cookbook', 'cookin...  \n",
      "4   [['soup', 'family'], ['soup', 'family'], ['sou...  \n",
      "..                                                ...  \n",
      "65  [['club', 'sandwich', 'sandwich', 'layers', 'b...  \n",
      "66  [['zwt', '-', 'greece'], ['zwt', 'greece'], ['...  \n",
      "67  [['-', 'way', 'asparagus'], ['asparagus'], ['a...  \n",
      "68     [['march'], ['september', 'march'], ['march']]  \n",
      "69  [['thick', 'steak', 'meat', 'steak', 'enough',...  \n",
      "\n",
      "[70 rows x 5 columns]\n"
     ]
    }
   ],
   "source": [
    "n_topics = 0\n",
    "while n_topics < 5:\n",
    "    topics, probs = topic_model.fit_transform(documents)\n",
    "    n_topics = len(set(topics))\n",
    "df['topic'] = topics\n",
    "df['probs'] = probs\n",
    "    # Afficher les topics les plus fréquents\n",
    "print(topic_model.get_topic_info())\n",
    "\n",
    "\n"
   ]
  },
  {
   "cell_type": "code",
   "execution_count": 44,
   "metadata": {},
   "outputs": [
    {
     "name": "stdout",
     "output_type": "stream",
     "text": [
      "[('sauce', 0.010365696611472986), ('chicken', 0.010057639675632609), ('dish', 0.009717550050794912), ('family', 0.008331883874067846), ('way', 0.007899116839592874), ('cheese', 0.00788080183539759), ('food', 0.007776138841568576), ('meal', 0.007739930915115655), ('flavor', 0.007688052274262688), ('cream', 0.0076449176901856805)]\n"
     ]
    },
    {
     "data": {
      "application/vnd.plotly.v1+json": {
       "config": {
        "plotlyServerURL": "https://plot.ly"
       },
       "data": [
        {
         "customdata": [
          [
           0,
           "cookies | cookie | chocolate | peanut | butter",
           1766
          ],
          [
           1,
           "magazine | issue | food | home | kraft",
           1607
          ],
          [
           2,
           "cookbook | cookbooks | book | church | cooking",
           1321
          ],
          [
           3,
           "soup | soups | hearty | winter | dumplings",
           1262
          ],
          [
           4,
           "cake | frosting | cheesecake | cupcakes | cakes",
           1226
          ],
          [
           5,
           "salad | dressing | summer | salads | lettuce",
           1076
          ],
          [
           6,
           "yum | kidspots | yumo | yumyum | sept",
           1041
          ],
          [
           7,
           "spicy | chili | peppers | pepper | heat",
           839
          ],
          [
           8,
           "chef | restaurant | show | episode | inn",
           828
          ],
          [
           9,
           "bread | loaf | machine | yeast | loaves",
           789
          ],
          [
           10,
           "potatoes | potato | sweet | broccoli | dish",
           764
          ],
          [
           11,
           "rice | dish | grain | serve | side",
           750
          ],
          [
           12,
           "calories | mg | calorie | fiber | fat",
           649
          ],
          [
           13,
           "shrimp | crab | salmon | fish | seafood",
           649
          ],
          [
           14,
           "christmas | gift | gifts | year | holidays",
           627
          ],
          [
           15,
           "family | years | friend | mom | favorite",
           595
          ],
          [
           16,
           "husband | mother | family | husbands | mom",
           530
          ],
          [
           17,
           "party | parties | appetizer | dip | football",
           528
          ],
          [
           18,
           "pork | chops | tenderloin | chop | roast",
           503
          ],
          [
           19,
           "pasta | spaghetti | noodles | sauce | lasagna",
           493
          ],
          [
           20,
           "drink | vodka | cocktail | tequila | lemonade",
           478
          ],
          [
           21,
           "squash | zucchini | butternut | garden | way",
           452
          ],
          [
           22,
           "strawberries | blueberries | berries | raspberries | fruit",
           437
          ],
          [
           23,
           "card | name | something | wait | toh",
           404
          ],
          [
           24,
           "request | response | site | web | reply",
           357
          ],
          [
           25,
           "muffins | muffin | bran | moist | breakfast",
           354
          ],
          [
           26,
           "pie | crust | pies | pumpkin | crusts",
           348
          ],
          [
           27,
           "parsley | vinegar | garlic | herbs | basil",
           347
          ],
          [
           28,
           "internet | allrecipescom | bhg | zwt | recipegoldminecom",
           279
          ],
          [
           29,
           "marinade | marinating | chicken | pork | marinate",
           274
          ],
          [
           30,
           "crock | pot | crockpot | cooker | crocker",
           272
          ],
          [
           31,
           "dish | side | dishes | meal | light",
           267
          ],
          [
           32,
           "ingredients | hand | taste | tastes | amounts",
           262
          ],
          [
           33,
           "points | watchers | weight | ww | value",
           255
          ],
          [
           34,
           "coffee | tea | cup | drink | mocha",
           239
          ],
          [
           35,
           "mushrooms | mushroom | button | stuffed | oyster",
           233
          ],
          [
           36,
           "salsa | chips | heat | avocado | mahi",
           231
          ],
          [
           37,
           "dessert | summer | desert | breakfast | desserts",
           230
          ],
          [
           38,
           "beans | bean | lima | kidney | fava",
           226
          ],
          [
           39,
           "tacos | tortilla | burritos | burrito | tortillas",
           216
          ],
          [
           40,
           "breakfast | brunch | lunch | snack | dinner",
           205
          ],
          [
           41,
           "sausage | sausages | beef | pork | breakfast",
           195
          ],
          [
           42,
           "carb | protein | carbs | fiber | cholesterol",
           190
          ],
          [
           43,
           "burger | burgers | hamburger | patties | bun",
           177
          ],
          [
           44,
           "pizza | crust | pizzas | dough | toppings",
           173
          ],
          [
           45,
           "curry | thai | paste | powder | curries",
           166
          ],
          [
           46,
           "ice | cream | vanilla | scoop | maker",
           164
          ],
          [
           47,
           "nuts | walnuts | pecans | almonds | hazelnuts",
           160
          ],
          [
           48,
           "giada | laurentiis | de | dh | tilapia",
           159
          ],
          [
           49,
           "cheese | cheddar | cheeses | jack | purslane",
           154
          ],
          [
           50,
           "tuna | salad | sandwich | casserole | melt",
           154
          ],
          [
           51,
           "tomatoes | tomato | garden | plum | cherry",
           151
          ],
          [
           52,
           "vegan | vegans | vegetarians | vegetarian | cholent",
           145
          ],
          [
           53,
           "sodium | salt | salty | broth | soy",
           145
          ],
          [
           54,
           "pancakes | pancake | waffles | syrup | batter",
           141
          ],
          [
           55,
           "turkey | stuffing | leftover | bird | leftovers",
           137
          ],
          [
           56,
           "paula | deen | deens | paulas | network",
           136
          ],
          [
           57,
           "meatballs | meatball | sauce | balls | meatloaf",
           135
          ],
          [
           58,
           "winter | weather | summer | fall | day",
           128
          ],
          [
           59,
           "taste | home | tastes | tasteofhomecom | homes",
           128
          ],
          [
           60,
           "pillsbury | bakeoff | winner | cookbook | pilsbury",
           125
          ],
          [
           61,
           "dish | sling | dishe | ruscuisinecom | costa",
           123
          ],
          [
           62,
           "magazine | digs | alaskaoutdoorjournalcom | mishpacha | magazineone",
           122
          ],
          [
           63,
           "biscuits | biscuit | dough | jam | buttermilk",
           121
          ],
          [
           64,
           "sandwich | sandwiches | lunch | jaffle | deli",
           120
          ],
          [
           65,
           "zwt | alleasyrecipescom | greece | region | italy",
           116
          ],
          [
           66,
           "asparagus | spring | combination | way | stir",
           114
          ],
          [
           67,
           "march | years | light | september | january",
           108
          ],
          [
           68,
           "steak | steaks | meat | cube | cut",
           101
          ]
         ],
         "hovertemplate": "<b>Topic %{customdata[0]}</b><br>%{customdata[1]}<br>Size: %{customdata[2]}",
         "legendgroup": "",
         "marker": {
          "color": "#B0BEC5",
          "line": {
           "color": "DarkSlateGrey",
           "width": 2
          },
          "size": [
           1766,
           1607,
           1321,
           1262,
           1226,
           1076,
           1041,
           839,
           828,
           789,
           764,
           750,
           649,
           649,
           627,
           595,
           530,
           528,
           503,
           493,
           478,
           452,
           437,
           404,
           357,
           354,
           348,
           347,
           279,
           274,
           272,
           267,
           262,
           255,
           239,
           233,
           231,
           230,
           226,
           216,
           205,
           195,
           190,
           177,
           173,
           166,
           164,
           160,
           159,
           154,
           154,
           151,
           145,
           145,
           141,
           137,
           136,
           135,
           128,
           128,
           125,
           123,
           122,
           121,
           120,
           116,
           114,
           108,
           101
          ],
          "sizemode": "area",
          "sizeref": 1.10375,
          "symbol": "circle"
         },
         "mode": "markers",
         "name": "",
         "orientation": "v",
         "showlegend": false,
         "type": "scatter",
         "x": [
          16.077186584472656,
          10.092904090881348,
          10.187769889831543,
          -2.5472609996795654,
          16.06769371032715,
          -2.499786853790283,
          12.313443183898926,
          -8.5491361618042,
          10.622087478637695,
          -2.7546157836914062,
          4.006664752960205,
          4.406820774078369,
          -6.425472736358643,
          4.190049648284912,
          14.650641441345215,
          14.398824691772461,
          14.46653938293457,
          14.5912504196167,
          -9.54195499420166,
          -2.6732332706451416,
          3.8809642791748047,
          3.5851619243621826,
          -7.665511131286621,
          12.38312816619873,
          10.070393562316895,
          -3.7473437786102295,
          -2.994300127029419,
          -8.559822082519531,
          12.641149520874023,
          -9.594094276428223,
          20.807973861694336,
          20.860721588134766,
          -8.389725685119629,
          21.01104736328125,
          3.880990982055664,
          3.508070468902588,
          -1.954020380973816,
          16.181501388549805,
          3.930593967437744,
          -1.9540362358093262,
          20.924959182739258,
          -9.80596923828125,
          -6.437499046325684,
          -2.2923643589019775,
          -2.927257776260376,
          4.5049896240234375,
          16.39019012451172,
          -7.665547847747803,
          12.649808883666992,
          -2.635619640350342,
          4.195062160491943,
          3.374659299850464,
          -8.81615161895752,
          -8.682673454284668,
          -3.747429609298706,
          -9.979398727416992,
          10.667118072509766,
          -9.741994857788086,
          11.625529289245605,
          -8.411110877990723,
          10.65761947631836,
          20.58354377746582,
          10.126006126403809,
          16.08951759338379,
          -2.360724925994873,
          12.58587646484375,
          4.172712326049805,
          11.65139102935791,
          -9.465397834777832
         ],
         "xaxis": "x",
         "y": [
          15.451828002929688,
          14.559048652648926,
          14.656739234924316,
          1.7299612760543823,
          15.457633972167969,
          1.8194429874420166,
          -3.991957902908325,
          6.157309532165527,
          14.675824165344238,
          1.1132928133010864,
          5.502685070037842,
          5.1327972412109375,
          -7.721646785736084,
          -1.6099835634231567,
          8.420843124389648,
          8.167512893676758,
          8.238688468933105,
          8.360695838928223,
          1.8568565845489502,
          1.3780986070632935,
          13.137328147888184,
          5.908374309539795,
          12.982948303222656,
          -3.9223978519439697,
          14.42188835144043,
          7.486453533172607,
          0.520774245262146,
          6.143909454345703,
          -3.663987874984741,
          2.003538131713867,
          -3.774524450302124,
          -3.827021837234497,
          6.302227973937988,
          -3.9774491786956787,
          13.137374877929688,
          5.983983039855957,
          15.386743545532227,
          15.341626167297363,
          5.571942329406738,
          15.38674259185791,
          -3.8912227153778076,
          1.5444984436035156,
          -7.761485576629639,
          0.5383532047271729,
          0.6348927021026611,
          5.039074420928955,
          15.133235931396484,
          12.982991218566895,
          -3.6555423736572266,
          0.9054412841796875,
          -1.6086480617523193,
          6.1147074699401855,
          5.889096736907959,
          6.020322799682617,
          7.487386226654053,
          1.3070663213729858,
          14.69335651397705,
          1.5157312154769897,
          8.978243827819824,
          6.274576663970947,
          14.75722599029541,
          -3.5499026775360107,
          14.40771198272705,
          15.43621826171875,
          0.6249091029167175,
          -3.719446897506714,
          5.340878486633301,
          8.967514991760254,
          1.9228217601776123
         ],
         "yaxis": "y"
        }
       ],
       "layout": {
        "annotations": [
         {
          "showarrow": false,
          "text": "D1",
          "x": -11.47630853652954,
          "y": 4.4252853274345405,
          "yshift": 10
         },
         {
          "showarrow": false,
          "text": "D2",
          "x": 6.343197965621949,
          "xshift": 10,
          "y": 17.776279067993165
         }
        ],
        "height": 650,
        "hoverlabel": {
         "bgcolor": "white",
         "font": {
          "family": "Rockwell",
          "size": 16
         }
        },
        "legend": {
         "itemsizing": "constant",
         "tracegroupgap": 0
        },
        "margin": {
         "t": 60
        },
        "shapes": [
         {
          "line": {
           "color": "#CFD8DC",
           "width": 2
          },
          "type": "line",
          "x0": 6.343197965621949,
          "x1": 6.343197965621949,
          "y0": -8.925708413124084,
          "y1": 17.776279067993165
         },
         {
          "line": {
           "color": "#9E9E9E",
           "width": 2
          },
          "type": "line",
          "x0": -11.47630853652954,
          "x1": 24.162704467773438,
          "y0": 4.4252853274345405,
          "y1": 4.4252853274345405
         }
        ],
        "sliders": [
         {
          "active": 0,
          "pad": {
           "t": 50
          },
          "steps": [
           {
            "args": [
             {
              "marker.color": [
               [
                "red",
                "#B0BEC5",
                "#B0BEC5",
                "#B0BEC5",
                "#B0BEC5",
                "#B0BEC5",
                "#B0BEC5",
                "#B0BEC5",
                "#B0BEC5",
                "#B0BEC5",
                "#B0BEC5",
                "#B0BEC5",
                "#B0BEC5",
                "#B0BEC5",
                "#B0BEC5",
                "#B0BEC5",
                "#B0BEC5",
                "#B0BEC5",
                "#B0BEC5",
                "#B0BEC5",
                "#B0BEC5",
                "#B0BEC5",
                "#B0BEC5",
                "#B0BEC5",
                "#B0BEC5",
                "#B0BEC5",
                "#B0BEC5",
                "#B0BEC5",
                "#B0BEC5",
                "#B0BEC5",
                "#B0BEC5",
                "#B0BEC5",
                "#B0BEC5",
                "#B0BEC5",
                "#B0BEC5",
                "#B0BEC5",
                "#B0BEC5",
                "#B0BEC5",
                "#B0BEC5",
                "#B0BEC5",
                "#B0BEC5",
                "#B0BEC5",
                "#B0BEC5",
                "#B0BEC5",
                "#B0BEC5",
                "#B0BEC5",
                "#B0BEC5",
                "#B0BEC5",
                "#B0BEC5",
                "#B0BEC5",
                "#B0BEC5",
                "#B0BEC5",
                "#B0BEC5",
                "#B0BEC5",
                "#B0BEC5",
                "#B0BEC5",
                "#B0BEC5",
                "#B0BEC5",
                "#B0BEC5",
                "#B0BEC5",
                "#B0BEC5",
                "#B0BEC5",
                "#B0BEC5",
                "#B0BEC5",
                "#B0BEC5",
                "#B0BEC5",
                "#B0BEC5",
                "#B0BEC5",
                "#B0BEC5"
               ]
              ]
             }
            ],
            "label": "Topic 0",
            "method": "update"
           },
           {
            "args": [
             {
              "marker.color": [
               [
                "#B0BEC5",
                "red",
                "#B0BEC5",
                "#B0BEC5",
                "#B0BEC5",
                "#B0BEC5",
                "#B0BEC5",
                "#B0BEC5",
                "#B0BEC5",
                "#B0BEC5",
                "#B0BEC5",
                "#B0BEC5",
                "#B0BEC5",
                "#B0BEC5",
                "#B0BEC5",
                "#B0BEC5",
                "#B0BEC5",
                "#B0BEC5",
                "#B0BEC5",
                "#B0BEC5",
                "#B0BEC5",
                "#B0BEC5",
                "#B0BEC5",
                "#B0BEC5",
                "#B0BEC5",
                "#B0BEC5",
                "#B0BEC5",
                "#B0BEC5",
                "#B0BEC5",
                "#B0BEC5",
                "#B0BEC5",
                "#B0BEC5",
                "#B0BEC5",
                "#B0BEC5",
                "#B0BEC5",
                "#B0BEC5",
                "#B0BEC5",
                "#B0BEC5",
                "#B0BEC5",
                "#B0BEC5",
                "#B0BEC5",
                "#B0BEC5",
                "#B0BEC5",
                "#B0BEC5",
                "#B0BEC5",
                "#B0BEC5",
                "#B0BEC5",
                "#B0BEC5",
                "#B0BEC5",
                "#B0BEC5",
                "#B0BEC5",
                "#B0BEC5",
                "#B0BEC5",
                "#B0BEC5",
                "#B0BEC5",
                "#B0BEC5",
                "#B0BEC5",
                "#B0BEC5",
                "#B0BEC5",
                "#B0BEC5",
                "#B0BEC5",
                "#B0BEC5",
                "#B0BEC5",
                "#B0BEC5",
                "#B0BEC5",
                "#B0BEC5",
                "#B0BEC5",
                "#B0BEC5",
                "#B0BEC5"
               ]
              ]
             }
            ],
            "label": "Topic 1",
            "method": "update"
           },
           {
            "args": [
             {
              "marker.color": [
               [
                "#B0BEC5",
                "#B0BEC5",
                "red",
                "#B0BEC5",
                "#B0BEC5",
                "#B0BEC5",
                "#B0BEC5",
                "#B0BEC5",
                "#B0BEC5",
                "#B0BEC5",
                "#B0BEC5",
                "#B0BEC5",
                "#B0BEC5",
                "#B0BEC5",
                "#B0BEC5",
                "#B0BEC5",
                "#B0BEC5",
                "#B0BEC5",
                "#B0BEC5",
                "#B0BEC5",
                "#B0BEC5",
                "#B0BEC5",
                "#B0BEC5",
                "#B0BEC5",
                "#B0BEC5",
                "#B0BEC5",
                "#B0BEC5",
                "#B0BEC5",
                "#B0BEC5",
                "#B0BEC5",
                "#B0BEC5",
                "#B0BEC5",
                "#B0BEC5",
                "#B0BEC5",
                "#B0BEC5",
                "#B0BEC5",
                "#B0BEC5",
                "#B0BEC5",
                "#B0BEC5",
                "#B0BEC5",
                "#B0BEC5",
                "#B0BEC5",
                "#B0BEC5",
                "#B0BEC5",
                "#B0BEC5",
                "#B0BEC5",
                "#B0BEC5",
                "#B0BEC5",
                "#B0BEC5",
                "#B0BEC5",
                "#B0BEC5",
                "#B0BEC5",
                "#B0BEC5",
                "#B0BEC5",
                "#B0BEC5",
                "#B0BEC5",
                "#B0BEC5",
                "#B0BEC5",
                "#B0BEC5",
                "#B0BEC5",
                "#B0BEC5",
                "#B0BEC5",
                "#B0BEC5",
                "#B0BEC5",
                "#B0BEC5",
                "#B0BEC5",
                "#B0BEC5",
                "#B0BEC5",
                "#B0BEC5"
               ]
              ]
             }
            ],
            "label": "Topic 2",
            "method": "update"
           },
           {
            "args": [
             {
              "marker.color": [
               [
                "#B0BEC5",
                "#B0BEC5",
                "#B0BEC5",
                "red",
                "#B0BEC5",
                "#B0BEC5",
                "#B0BEC5",
                "#B0BEC5",
                "#B0BEC5",
                "#B0BEC5",
                "#B0BEC5",
                "#B0BEC5",
                "#B0BEC5",
                "#B0BEC5",
                "#B0BEC5",
                "#B0BEC5",
                "#B0BEC5",
                "#B0BEC5",
                "#B0BEC5",
                "#B0BEC5",
                "#B0BEC5",
                "#B0BEC5",
                "#B0BEC5",
                "#B0BEC5",
                "#B0BEC5",
                "#B0BEC5",
                "#B0BEC5",
                "#B0BEC5",
                "#B0BEC5",
                "#B0BEC5",
                "#B0BEC5",
                "#B0BEC5",
                "#B0BEC5",
                "#B0BEC5",
                "#B0BEC5",
                "#B0BEC5",
                "#B0BEC5",
                "#B0BEC5",
                "#B0BEC5",
                "#B0BEC5",
                "#B0BEC5",
                "#B0BEC5",
                "#B0BEC5",
                "#B0BEC5",
                "#B0BEC5",
                "#B0BEC5",
                "#B0BEC5",
                "#B0BEC5",
                "#B0BEC5",
                "#B0BEC5",
                "#B0BEC5",
                "#B0BEC5",
                "#B0BEC5",
                "#B0BEC5",
                "#B0BEC5",
                "#B0BEC5",
                "#B0BEC5",
                "#B0BEC5",
                "#B0BEC5",
                "#B0BEC5",
                "#B0BEC5",
                "#B0BEC5",
                "#B0BEC5",
                "#B0BEC5",
                "#B0BEC5",
                "#B0BEC5",
                "#B0BEC5",
                "#B0BEC5",
                "#B0BEC5"
               ]
              ]
             }
            ],
            "label": "Topic 3",
            "method": "update"
           },
           {
            "args": [
             {
              "marker.color": [
               [
                "#B0BEC5",
                "#B0BEC5",
                "#B0BEC5",
                "#B0BEC5",
                "red",
                "#B0BEC5",
                "#B0BEC5",
                "#B0BEC5",
                "#B0BEC5",
                "#B0BEC5",
                "#B0BEC5",
                "#B0BEC5",
                "#B0BEC5",
                "#B0BEC5",
                "#B0BEC5",
                "#B0BEC5",
                "#B0BEC5",
                "#B0BEC5",
                "#B0BEC5",
                "#B0BEC5",
                "#B0BEC5",
                "#B0BEC5",
                "#B0BEC5",
                "#B0BEC5",
                "#B0BEC5",
                "#B0BEC5",
                "#B0BEC5",
                "#B0BEC5",
                "#B0BEC5",
                "#B0BEC5",
                "#B0BEC5",
                "#B0BEC5",
                "#B0BEC5",
                "#B0BEC5",
                "#B0BEC5",
                "#B0BEC5",
                "#B0BEC5",
                "#B0BEC5",
                "#B0BEC5",
                "#B0BEC5",
                "#B0BEC5",
                "#B0BEC5",
                "#B0BEC5",
                "#B0BEC5",
                "#B0BEC5",
                "#B0BEC5",
                "#B0BEC5",
                "#B0BEC5",
                "#B0BEC5",
                "#B0BEC5",
                "#B0BEC5",
                "#B0BEC5",
                "#B0BEC5",
                "#B0BEC5",
                "#B0BEC5",
                "#B0BEC5",
                "#B0BEC5",
                "#B0BEC5",
                "#B0BEC5",
                "#B0BEC5",
                "#B0BEC5",
                "#B0BEC5",
                "#B0BEC5",
                "#B0BEC5",
                "#B0BEC5",
                "#B0BEC5",
                "#B0BEC5",
                "#B0BEC5",
                "#B0BEC5"
               ]
              ]
             }
            ],
            "label": "Topic 4",
            "method": "update"
           },
           {
            "args": [
             {
              "marker.color": [
               [
                "#B0BEC5",
                "#B0BEC5",
                "#B0BEC5",
                "#B0BEC5",
                "#B0BEC5",
                "red",
                "#B0BEC5",
                "#B0BEC5",
                "#B0BEC5",
                "#B0BEC5",
                "#B0BEC5",
                "#B0BEC5",
                "#B0BEC5",
                "#B0BEC5",
                "#B0BEC5",
                "#B0BEC5",
                "#B0BEC5",
                "#B0BEC5",
                "#B0BEC5",
                "#B0BEC5",
                "#B0BEC5",
                "#B0BEC5",
                "#B0BEC5",
                "#B0BEC5",
                "#B0BEC5",
                "#B0BEC5",
                "#B0BEC5",
                "#B0BEC5",
                "#B0BEC5",
                "#B0BEC5",
                "#B0BEC5",
                "#B0BEC5",
                "#B0BEC5",
                "#B0BEC5",
                "#B0BEC5",
                "#B0BEC5",
                "#B0BEC5",
                "#B0BEC5",
                "#B0BEC5",
                "#B0BEC5",
                "#B0BEC5",
                "#B0BEC5",
                "#B0BEC5",
                "#B0BEC5",
                "#B0BEC5",
                "#B0BEC5",
                "#B0BEC5",
                "#B0BEC5",
                "#B0BEC5",
                "#B0BEC5",
                "#B0BEC5",
                "#B0BEC5",
                "#B0BEC5",
                "#B0BEC5",
                "#B0BEC5",
                "#B0BEC5",
                "#B0BEC5",
                "#B0BEC5",
                "#B0BEC5",
                "#B0BEC5",
                "#B0BEC5",
                "#B0BEC5",
                "#B0BEC5",
                "#B0BEC5",
                "#B0BEC5",
                "#B0BEC5",
                "#B0BEC5",
                "#B0BEC5",
                "#B0BEC5"
               ]
              ]
             }
            ],
            "label": "Topic 5",
            "method": "update"
           },
           {
            "args": [
             {
              "marker.color": [
               [
                "#B0BEC5",
                "#B0BEC5",
                "#B0BEC5",
                "#B0BEC5",
                "#B0BEC5",
                "#B0BEC5",
                "red",
                "#B0BEC5",
                "#B0BEC5",
                "#B0BEC5",
                "#B0BEC5",
                "#B0BEC5",
                "#B0BEC5",
                "#B0BEC5",
                "#B0BEC5",
                "#B0BEC5",
                "#B0BEC5",
                "#B0BEC5",
                "#B0BEC5",
                "#B0BEC5",
                "#B0BEC5",
                "#B0BEC5",
                "#B0BEC5",
                "#B0BEC5",
                "#B0BEC5",
                "#B0BEC5",
                "#B0BEC5",
                "#B0BEC5",
                "#B0BEC5",
                "#B0BEC5",
                "#B0BEC5",
                "#B0BEC5",
                "#B0BEC5",
                "#B0BEC5",
                "#B0BEC5",
                "#B0BEC5",
                "#B0BEC5",
                "#B0BEC5",
                "#B0BEC5",
                "#B0BEC5",
                "#B0BEC5",
                "#B0BEC5",
                "#B0BEC5",
                "#B0BEC5",
                "#B0BEC5",
                "#B0BEC5",
                "#B0BEC5",
                "#B0BEC5",
                "#B0BEC5",
                "#B0BEC5",
                "#B0BEC5",
                "#B0BEC5",
                "#B0BEC5",
                "#B0BEC5",
                "#B0BEC5",
                "#B0BEC5",
                "#B0BEC5",
                "#B0BEC5",
                "#B0BEC5",
                "#B0BEC5",
                "#B0BEC5",
                "#B0BEC5",
                "#B0BEC5",
                "#B0BEC5",
                "#B0BEC5",
                "#B0BEC5",
                "#B0BEC5",
                "#B0BEC5",
                "#B0BEC5"
               ]
              ]
             }
            ],
            "label": "Topic 6",
            "method": "update"
           },
           {
            "args": [
             {
              "marker.color": [
               [
                "#B0BEC5",
                "#B0BEC5",
                "#B0BEC5",
                "#B0BEC5",
                "#B0BEC5",
                "#B0BEC5",
                "#B0BEC5",
                "red",
                "#B0BEC5",
                "#B0BEC5",
                "#B0BEC5",
                "#B0BEC5",
                "#B0BEC5",
                "#B0BEC5",
                "#B0BEC5",
                "#B0BEC5",
                "#B0BEC5",
                "#B0BEC5",
                "#B0BEC5",
                "#B0BEC5",
                "#B0BEC5",
                "#B0BEC5",
                "#B0BEC5",
                "#B0BEC5",
                "#B0BEC5",
                "#B0BEC5",
                "#B0BEC5",
                "#B0BEC5",
                "#B0BEC5",
                "#B0BEC5",
                "#B0BEC5",
                "#B0BEC5",
                "#B0BEC5",
                "#B0BEC5",
                "#B0BEC5",
                "#B0BEC5",
                "#B0BEC5",
                "#B0BEC5",
                "#B0BEC5",
                "#B0BEC5",
                "#B0BEC5",
                "#B0BEC5",
                "#B0BEC5",
                "#B0BEC5",
                "#B0BEC5",
                "#B0BEC5",
                "#B0BEC5",
                "#B0BEC5",
                "#B0BEC5",
                "#B0BEC5",
                "#B0BEC5",
                "#B0BEC5",
                "#B0BEC5",
                "#B0BEC5",
                "#B0BEC5",
                "#B0BEC5",
                "#B0BEC5",
                "#B0BEC5",
                "#B0BEC5",
                "#B0BEC5",
                "#B0BEC5",
                "#B0BEC5",
                "#B0BEC5",
                "#B0BEC5",
                "#B0BEC5",
                "#B0BEC5",
                "#B0BEC5",
                "#B0BEC5",
                "#B0BEC5"
               ]
              ]
             }
            ],
            "label": "Topic 7",
            "method": "update"
           },
           {
            "args": [
             {
              "marker.color": [
               [
                "#B0BEC5",
                "#B0BEC5",
                "#B0BEC5",
                "#B0BEC5",
                "#B0BEC5",
                "#B0BEC5",
                "#B0BEC5",
                "#B0BEC5",
                "red",
                "#B0BEC5",
                "#B0BEC5",
                "#B0BEC5",
                "#B0BEC5",
                "#B0BEC5",
                "#B0BEC5",
                "#B0BEC5",
                "#B0BEC5",
                "#B0BEC5",
                "#B0BEC5",
                "#B0BEC5",
                "#B0BEC5",
                "#B0BEC5",
                "#B0BEC5",
                "#B0BEC5",
                "#B0BEC5",
                "#B0BEC5",
                "#B0BEC5",
                "#B0BEC5",
                "#B0BEC5",
                "#B0BEC5",
                "#B0BEC5",
                "#B0BEC5",
                "#B0BEC5",
                "#B0BEC5",
                "#B0BEC5",
                "#B0BEC5",
                "#B0BEC5",
                "#B0BEC5",
                "#B0BEC5",
                "#B0BEC5",
                "#B0BEC5",
                "#B0BEC5",
                "#B0BEC5",
                "#B0BEC5",
                "#B0BEC5",
                "#B0BEC5",
                "#B0BEC5",
                "#B0BEC5",
                "#B0BEC5",
                "#B0BEC5",
                "#B0BEC5",
                "#B0BEC5",
                "#B0BEC5",
                "#B0BEC5",
                "#B0BEC5",
                "#B0BEC5",
                "#B0BEC5",
                "#B0BEC5",
                "#B0BEC5",
                "#B0BEC5",
                "#B0BEC5",
                "#B0BEC5",
                "#B0BEC5",
                "#B0BEC5",
                "#B0BEC5",
                "#B0BEC5",
                "#B0BEC5",
                "#B0BEC5",
                "#B0BEC5"
               ]
              ]
             }
            ],
            "label": "Topic 8",
            "method": "update"
           },
           {
            "args": [
             {
              "marker.color": [
               [
                "#B0BEC5",
                "#B0BEC5",
                "#B0BEC5",
                "#B0BEC5",
                "#B0BEC5",
                "#B0BEC5",
                "#B0BEC5",
                "#B0BEC5",
                "#B0BEC5",
                "red",
                "#B0BEC5",
                "#B0BEC5",
                "#B0BEC5",
                "#B0BEC5",
                "#B0BEC5",
                "#B0BEC5",
                "#B0BEC5",
                "#B0BEC5",
                "#B0BEC5",
                "#B0BEC5",
                "#B0BEC5",
                "#B0BEC5",
                "#B0BEC5",
                "#B0BEC5",
                "#B0BEC5",
                "#B0BEC5",
                "#B0BEC5",
                "#B0BEC5",
                "#B0BEC5",
                "#B0BEC5",
                "#B0BEC5",
                "#B0BEC5",
                "#B0BEC5",
                "#B0BEC5",
                "#B0BEC5",
                "#B0BEC5",
                "#B0BEC5",
                "#B0BEC5",
                "#B0BEC5",
                "#B0BEC5",
                "#B0BEC5",
                "#B0BEC5",
                "#B0BEC5",
                "#B0BEC5",
                "#B0BEC5",
                "#B0BEC5",
                "#B0BEC5",
                "#B0BEC5",
                "#B0BEC5",
                "#B0BEC5",
                "#B0BEC5",
                "#B0BEC5",
                "#B0BEC5",
                "#B0BEC5",
                "#B0BEC5",
                "#B0BEC5",
                "#B0BEC5",
                "#B0BEC5",
                "#B0BEC5",
                "#B0BEC5",
                "#B0BEC5",
                "#B0BEC5",
                "#B0BEC5",
                "#B0BEC5",
                "#B0BEC5",
                "#B0BEC5",
                "#B0BEC5",
                "#B0BEC5",
                "#B0BEC5"
               ]
              ]
             }
            ],
            "label": "Topic 9",
            "method": "update"
           },
           {
            "args": [
             {
              "marker.color": [
               [
                "#B0BEC5",
                "#B0BEC5",
                "#B0BEC5",
                "#B0BEC5",
                "#B0BEC5",
                "#B0BEC5",
                "#B0BEC5",
                "#B0BEC5",
                "#B0BEC5",
                "#B0BEC5",
                "red",
                "#B0BEC5",
                "#B0BEC5",
                "#B0BEC5",
                "#B0BEC5",
                "#B0BEC5",
                "#B0BEC5",
                "#B0BEC5",
                "#B0BEC5",
                "#B0BEC5",
                "#B0BEC5",
                "#B0BEC5",
                "#B0BEC5",
                "#B0BEC5",
                "#B0BEC5",
                "#B0BEC5",
                "#B0BEC5",
                "#B0BEC5",
                "#B0BEC5",
                "#B0BEC5",
                "#B0BEC5",
                "#B0BEC5",
                "#B0BEC5",
                "#B0BEC5",
                "#B0BEC5",
                "#B0BEC5",
                "#B0BEC5",
                "#B0BEC5",
                "#B0BEC5",
                "#B0BEC5",
                "#B0BEC5",
                "#B0BEC5",
                "#B0BEC5",
                "#B0BEC5",
                "#B0BEC5",
                "#B0BEC5",
                "#B0BEC5",
                "#B0BEC5",
                "#B0BEC5",
                "#B0BEC5",
                "#B0BEC5",
                "#B0BEC5",
                "#B0BEC5",
                "#B0BEC5",
                "#B0BEC5",
                "#B0BEC5",
                "#B0BEC5",
                "#B0BEC5",
                "#B0BEC5",
                "#B0BEC5",
                "#B0BEC5",
                "#B0BEC5",
                "#B0BEC5",
                "#B0BEC5",
                "#B0BEC5",
                "#B0BEC5",
                "#B0BEC5",
                "#B0BEC5",
                "#B0BEC5"
               ]
              ]
             }
            ],
            "label": "Topic 10",
            "method": "update"
           },
           {
            "args": [
             {
              "marker.color": [
               [
                "#B0BEC5",
                "#B0BEC5",
                "#B0BEC5",
                "#B0BEC5",
                "#B0BEC5",
                "#B0BEC5",
                "#B0BEC5",
                "#B0BEC5",
                "#B0BEC5",
                "#B0BEC5",
                "#B0BEC5",
                "red",
                "#B0BEC5",
                "#B0BEC5",
                "#B0BEC5",
                "#B0BEC5",
                "#B0BEC5",
                "#B0BEC5",
                "#B0BEC5",
                "#B0BEC5",
                "#B0BEC5",
                "#B0BEC5",
                "#B0BEC5",
                "#B0BEC5",
                "#B0BEC5",
                "#B0BEC5",
                "#B0BEC5",
                "#B0BEC5",
                "#B0BEC5",
                "#B0BEC5",
                "#B0BEC5",
                "#B0BEC5",
                "#B0BEC5",
                "#B0BEC5",
                "#B0BEC5",
                "#B0BEC5",
                "#B0BEC5",
                "#B0BEC5",
                "#B0BEC5",
                "#B0BEC5",
                "#B0BEC5",
                "#B0BEC5",
                "#B0BEC5",
                "#B0BEC5",
                "#B0BEC5",
                "#B0BEC5",
                "#B0BEC5",
                "#B0BEC5",
                "#B0BEC5",
                "#B0BEC5",
                "#B0BEC5",
                "#B0BEC5",
                "#B0BEC5",
                "#B0BEC5",
                "#B0BEC5",
                "#B0BEC5",
                "#B0BEC5",
                "#B0BEC5",
                "#B0BEC5",
                "#B0BEC5",
                "#B0BEC5",
                "#B0BEC5",
                "#B0BEC5",
                "#B0BEC5",
                "#B0BEC5",
                "#B0BEC5",
                "#B0BEC5",
                "#B0BEC5",
                "#B0BEC5"
               ]
              ]
             }
            ],
            "label": "Topic 11",
            "method": "update"
           },
           {
            "args": [
             {
              "marker.color": [
               [
                "#B0BEC5",
                "#B0BEC5",
                "#B0BEC5",
                "#B0BEC5",
                "#B0BEC5",
                "#B0BEC5",
                "#B0BEC5",
                "#B0BEC5",
                "#B0BEC5",
                "#B0BEC5",
                "#B0BEC5",
                "#B0BEC5",
                "red",
                "#B0BEC5",
                "#B0BEC5",
                "#B0BEC5",
                "#B0BEC5",
                "#B0BEC5",
                "#B0BEC5",
                "#B0BEC5",
                "#B0BEC5",
                "#B0BEC5",
                "#B0BEC5",
                "#B0BEC5",
                "#B0BEC5",
                "#B0BEC5",
                "#B0BEC5",
                "#B0BEC5",
                "#B0BEC5",
                "#B0BEC5",
                "#B0BEC5",
                "#B0BEC5",
                "#B0BEC5",
                "#B0BEC5",
                "#B0BEC5",
                "#B0BEC5",
                "#B0BEC5",
                "#B0BEC5",
                "#B0BEC5",
                "#B0BEC5",
                "#B0BEC5",
                "#B0BEC5",
                "#B0BEC5",
                "#B0BEC5",
                "#B0BEC5",
                "#B0BEC5",
                "#B0BEC5",
                "#B0BEC5",
                "#B0BEC5",
                "#B0BEC5",
                "#B0BEC5",
                "#B0BEC5",
                "#B0BEC5",
                "#B0BEC5",
                "#B0BEC5",
                "#B0BEC5",
                "#B0BEC5",
                "#B0BEC5",
                "#B0BEC5",
                "#B0BEC5",
                "#B0BEC5",
                "#B0BEC5",
                "#B0BEC5",
                "#B0BEC5",
                "#B0BEC5",
                "#B0BEC5",
                "#B0BEC5",
                "#B0BEC5",
                "#B0BEC5"
               ]
              ]
             }
            ],
            "label": "Topic 12",
            "method": "update"
           },
           {
            "args": [
             {
              "marker.color": [
               [
                "#B0BEC5",
                "#B0BEC5",
                "#B0BEC5",
                "#B0BEC5",
                "#B0BEC5",
                "#B0BEC5",
                "#B0BEC5",
                "#B0BEC5",
                "#B0BEC5",
                "#B0BEC5",
                "#B0BEC5",
                "#B0BEC5",
                "#B0BEC5",
                "red",
                "#B0BEC5",
                "#B0BEC5",
                "#B0BEC5",
                "#B0BEC5",
                "#B0BEC5",
                "#B0BEC5",
                "#B0BEC5",
                "#B0BEC5",
                "#B0BEC5",
                "#B0BEC5",
                "#B0BEC5",
                "#B0BEC5",
                "#B0BEC5",
                "#B0BEC5",
                "#B0BEC5",
                "#B0BEC5",
                "#B0BEC5",
                "#B0BEC5",
                "#B0BEC5",
                "#B0BEC5",
                "#B0BEC5",
                "#B0BEC5",
                "#B0BEC5",
                "#B0BEC5",
                "#B0BEC5",
                "#B0BEC5",
                "#B0BEC5",
                "#B0BEC5",
                "#B0BEC5",
                "#B0BEC5",
                "#B0BEC5",
                "#B0BEC5",
                "#B0BEC5",
                "#B0BEC5",
                "#B0BEC5",
                "#B0BEC5",
                "#B0BEC5",
                "#B0BEC5",
                "#B0BEC5",
                "#B0BEC5",
                "#B0BEC5",
                "#B0BEC5",
                "#B0BEC5",
                "#B0BEC5",
                "#B0BEC5",
                "#B0BEC5",
                "#B0BEC5",
                "#B0BEC5",
                "#B0BEC5",
                "#B0BEC5",
                "#B0BEC5",
                "#B0BEC5",
                "#B0BEC5",
                "#B0BEC5",
                "#B0BEC5"
               ]
              ]
             }
            ],
            "label": "Topic 13",
            "method": "update"
           },
           {
            "args": [
             {
              "marker.color": [
               [
                "#B0BEC5",
                "#B0BEC5",
                "#B0BEC5",
                "#B0BEC5",
                "#B0BEC5",
                "#B0BEC5",
                "#B0BEC5",
                "#B0BEC5",
                "#B0BEC5",
                "#B0BEC5",
                "#B0BEC5",
                "#B0BEC5",
                "#B0BEC5",
                "#B0BEC5",
                "red",
                "#B0BEC5",
                "#B0BEC5",
                "#B0BEC5",
                "#B0BEC5",
                "#B0BEC5",
                "#B0BEC5",
                "#B0BEC5",
                "#B0BEC5",
                "#B0BEC5",
                "#B0BEC5",
                "#B0BEC5",
                "#B0BEC5",
                "#B0BEC5",
                "#B0BEC5",
                "#B0BEC5",
                "#B0BEC5",
                "#B0BEC5",
                "#B0BEC5",
                "#B0BEC5",
                "#B0BEC5",
                "#B0BEC5",
                "#B0BEC5",
                "#B0BEC5",
                "#B0BEC5",
                "#B0BEC5",
                "#B0BEC5",
                "#B0BEC5",
                "#B0BEC5",
                "#B0BEC5",
                "#B0BEC5",
                "#B0BEC5",
                "#B0BEC5",
                "#B0BEC5",
                "#B0BEC5",
                "#B0BEC5",
                "#B0BEC5",
                "#B0BEC5",
                "#B0BEC5",
                "#B0BEC5",
                "#B0BEC5",
                "#B0BEC5",
                "#B0BEC5",
                "#B0BEC5",
                "#B0BEC5",
                "#B0BEC5",
                "#B0BEC5",
                "#B0BEC5",
                "#B0BEC5",
                "#B0BEC5",
                "#B0BEC5",
                "#B0BEC5",
                "#B0BEC5",
                "#B0BEC5",
                "#B0BEC5"
               ]
              ]
             }
            ],
            "label": "Topic 14",
            "method": "update"
           },
           {
            "args": [
             {
              "marker.color": [
               [
                "#B0BEC5",
                "#B0BEC5",
                "#B0BEC5",
                "#B0BEC5",
                "#B0BEC5",
                "#B0BEC5",
                "#B0BEC5",
                "#B0BEC5",
                "#B0BEC5",
                "#B0BEC5",
                "#B0BEC5",
                "#B0BEC5",
                "#B0BEC5",
                "#B0BEC5",
                "#B0BEC5",
                "red",
                "#B0BEC5",
                "#B0BEC5",
                "#B0BEC5",
                "#B0BEC5",
                "#B0BEC5",
                "#B0BEC5",
                "#B0BEC5",
                "#B0BEC5",
                "#B0BEC5",
                "#B0BEC5",
                "#B0BEC5",
                "#B0BEC5",
                "#B0BEC5",
                "#B0BEC5",
                "#B0BEC5",
                "#B0BEC5",
                "#B0BEC5",
                "#B0BEC5",
                "#B0BEC5",
                "#B0BEC5",
                "#B0BEC5",
                "#B0BEC5",
                "#B0BEC5",
                "#B0BEC5",
                "#B0BEC5",
                "#B0BEC5",
                "#B0BEC5",
                "#B0BEC5",
                "#B0BEC5",
                "#B0BEC5",
                "#B0BEC5",
                "#B0BEC5",
                "#B0BEC5",
                "#B0BEC5",
                "#B0BEC5",
                "#B0BEC5",
                "#B0BEC5",
                "#B0BEC5",
                "#B0BEC5",
                "#B0BEC5",
                "#B0BEC5",
                "#B0BEC5",
                "#B0BEC5",
                "#B0BEC5",
                "#B0BEC5",
                "#B0BEC5",
                "#B0BEC5",
                "#B0BEC5",
                "#B0BEC5",
                "#B0BEC5",
                "#B0BEC5",
                "#B0BEC5",
                "#B0BEC5"
               ]
              ]
             }
            ],
            "label": "Topic 15",
            "method": "update"
           },
           {
            "args": [
             {
              "marker.color": [
               [
                "#B0BEC5",
                "#B0BEC5",
                "#B0BEC5",
                "#B0BEC5",
                "#B0BEC5",
                "#B0BEC5",
                "#B0BEC5",
                "#B0BEC5",
                "#B0BEC5",
                "#B0BEC5",
                "#B0BEC5",
                "#B0BEC5",
                "#B0BEC5",
                "#B0BEC5",
                "#B0BEC5",
                "#B0BEC5",
                "red",
                "#B0BEC5",
                "#B0BEC5",
                "#B0BEC5",
                "#B0BEC5",
                "#B0BEC5",
                "#B0BEC5",
                "#B0BEC5",
                "#B0BEC5",
                "#B0BEC5",
                "#B0BEC5",
                "#B0BEC5",
                "#B0BEC5",
                "#B0BEC5",
                "#B0BEC5",
                "#B0BEC5",
                "#B0BEC5",
                "#B0BEC5",
                "#B0BEC5",
                "#B0BEC5",
                "#B0BEC5",
                "#B0BEC5",
                "#B0BEC5",
                "#B0BEC5",
                "#B0BEC5",
                "#B0BEC5",
                "#B0BEC5",
                "#B0BEC5",
                "#B0BEC5",
                "#B0BEC5",
                "#B0BEC5",
                "#B0BEC5",
                "#B0BEC5",
                "#B0BEC5",
                "#B0BEC5",
                "#B0BEC5",
                "#B0BEC5",
                "#B0BEC5",
                "#B0BEC5",
                "#B0BEC5",
                "#B0BEC5",
                "#B0BEC5",
                "#B0BEC5",
                "#B0BEC5",
                "#B0BEC5",
                "#B0BEC5",
                "#B0BEC5",
                "#B0BEC5",
                "#B0BEC5",
                "#B0BEC5",
                "#B0BEC5",
                "#B0BEC5",
                "#B0BEC5"
               ]
              ]
             }
            ],
            "label": "Topic 16",
            "method": "update"
           },
           {
            "args": [
             {
              "marker.color": [
               [
                "#B0BEC5",
                "#B0BEC5",
                "#B0BEC5",
                "#B0BEC5",
                "#B0BEC5",
                "#B0BEC5",
                "#B0BEC5",
                "#B0BEC5",
                "#B0BEC5",
                "#B0BEC5",
                "#B0BEC5",
                "#B0BEC5",
                "#B0BEC5",
                "#B0BEC5",
                "#B0BEC5",
                "#B0BEC5",
                "#B0BEC5",
                "red",
                "#B0BEC5",
                "#B0BEC5",
                "#B0BEC5",
                "#B0BEC5",
                "#B0BEC5",
                "#B0BEC5",
                "#B0BEC5",
                "#B0BEC5",
                "#B0BEC5",
                "#B0BEC5",
                "#B0BEC5",
                "#B0BEC5",
                "#B0BEC5",
                "#B0BEC5",
                "#B0BEC5",
                "#B0BEC5",
                "#B0BEC5",
                "#B0BEC5",
                "#B0BEC5",
                "#B0BEC5",
                "#B0BEC5",
                "#B0BEC5",
                "#B0BEC5",
                "#B0BEC5",
                "#B0BEC5",
                "#B0BEC5",
                "#B0BEC5",
                "#B0BEC5",
                "#B0BEC5",
                "#B0BEC5",
                "#B0BEC5",
                "#B0BEC5",
                "#B0BEC5",
                "#B0BEC5",
                "#B0BEC5",
                "#B0BEC5",
                "#B0BEC5",
                "#B0BEC5",
                "#B0BEC5",
                "#B0BEC5",
                "#B0BEC5",
                "#B0BEC5",
                "#B0BEC5",
                "#B0BEC5",
                "#B0BEC5",
                "#B0BEC5",
                "#B0BEC5",
                "#B0BEC5",
                "#B0BEC5",
                "#B0BEC5",
                "#B0BEC5"
               ]
              ]
             }
            ],
            "label": "Topic 17",
            "method": "update"
           },
           {
            "args": [
             {
              "marker.color": [
               [
                "#B0BEC5",
                "#B0BEC5",
                "#B0BEC5",
                "#B0BEC5",
                "#B0BEC5",
                "#B0BEC5",
                "#B0BEC5",
                "#B0BEC5",
                "#B0BEC5",
                "#B0BEC5",
                "#B0BEC5",
                "#B0BEC5",
                "#B0BEC5",
                "#B0BEC5",
                "#B0BEC5",
                "#B0BEC5",
                "#B0BEC5",
                "#B0BEC5",
                "red",
                "#B0BEC5",
                "#B0BEC5",
                "#B0BEC5",
                "#B0BEC5",
                "#B0BEC5",
                "#B0BEC5",
                "#B0BEC5",
                "#B0BEC5",
                "#B0BEC5",
                "#B0BEC5",
                "#B0BEC5",
                "#B0BEC5",
                "#B0BEC5",
                "#B0BEC5",
                "#B0BEC5",
                "#B0BEC5",
                "#B0BEC5",
                "#B0BEC5",
                "#B0BEC5",
                "#B0BEC5",
                "#B0BEC5",
                "#B0BEC5",
                "#B0BEC5",
                "#B0BEC5",
                "#B0BEC5",
                "#B0BEC5",
                "#B0BEC5",
                "#B0BEC5",
                "#B0BEC5",
                "#B0BEC5",
                "#B0BEC5",
                "#B0BEC5",
                "#B0BEC5",
                "#B0BEC5",
                "#B0BEC5",
                "#B0BEC5",
                "#B0BEC5",
                "#B0BEC5",
                "#B0BEC5",
                "#B0BEC5",
                "#B0BEC5",
                "#B0BEC5",
                "#B0BEC5",
                "#B0BEC5",
                "#B0BEC5",
                "#B0BEC5",
                "#B0BEC5",
                "#B0BEC5",
                "#B0BEC5",
                "#B0BEC5"
               ]
              ]
             }
            ],
            "label": "Topic 18",
            "method": "update"
           },
           {
            "args": [
             {
              "marker.color": [
               [
                "#B0BEC5",
                "#B0BEC5",
                "#B0BEC5",
                "#B0BEC5",
                "#B0BEC5",
                "#B0BEC5",
                "#B0BEC5",
                "#B0BEC5",
                "#B0BEC5",
                "#B0BEC5",
                "#B0BEC5",
                "#B0BEC5",
                "#B0BEC5",
                "#B0BEC5",
                "#B0BEC5",
                "#B0BEC5",
                "#B0BEC5",
                "#B0BEC5",
                "#B0BEC5",
                "red",
                "#B0BEC5",
                "#B0BEC5",
                "#B0BEC5",
                "#B0BEC5",
                "#B0BEC5",
                "#B0BEC5",
                "#B0BEC5",
                "#B0BEC5",
                "#B0BEC5",
                "#B0BEC5",
                "#B0BEC5",
                "#B0BEC5",
                "#B0BEC5",
                "#B0BEC5",
                "#B0BEC5",
                "#B0BEC5",
                "#B0BEC5",
                "#B0BEC5",
                "#B0BEC5",
                "#B0BEC5",
                "#B0BEC5",
                "#B0BEC5",
                "#B0BEC5",
                "#B0BEC5",
                "#B0BEC5",
                "#B0BEC5",
                "#B0BEC5",
                "#B0BEC5",
                "#B0BEC5",
                "#B0BEC5",
                "#B0BEC5",
                "#B0BEC5",
                "#B0BEC5",
                "#B0BEC5",
                "#B0BEC5",
                "#B0BEC5",
                "#B0BEC5",
                "#B0BEC5",
                "#B0BEC5",
                "#B0BEC5",
                "#B0BEC5",
                "#B0BEC5",
                "#B0BEC5",
                "#B0BEC5",
                "#B0BEC5",
                "#B0BEC5",
                "#B0BEC5",
                "#B0BEC5",
                "#B0BEC5"
               ]
              ]
             }
            ],
            "label": "Topic 19",
            "method": "update"
           },
           {
            "args": [
             {
              "marker.color": [
               [
                "#B0BEC5",
                "#B0BEC5",
                "#B0BEC5",
                "#B0BEC5",
                "#B0BEC5",
                "#B0BEC5",
                "#B0BEC5",
                "#B0BEC5",
                "#B0BEC5",
                "#B0BEC5",
                "#B0BEC5",
                "#B0BEC5",
                "#B0BEC5",
                "#B0BEC5",
                "#B0BEC5",
                "#B0BEC5",
                "#B0BEC5",
                "#B0BEC5",
                "#B0BEC5",
                "#B0BEC5",
                "red",
                "#B0BEC5",
                "#B0BEC5",
                "#B0BEC5",
                "#B0BEC5",
                "#B0BEC5",
                "#B0BEC5",
                "#B0BEC5",
                "#B0BEC5",
                "#B0BEC5",
                "#B0BEC5",
                "#B0BEC5",
                "#B0BEC5",
                "#B0BEC5",
                "#B0BEC5",
                "#B0BEC5",
                "#B0BEC5",
                "#B0BEC5",
                "#B0BEC5",
                "#B0BEC5",
                "#B0BEC5",
                "#B0BEC5",
                "#B0BEC5",
                "#B0BEC5",
                "#B0BEC5",
                "#B0BEC5",
                "#B0BEC5",
                "#B0BEC5",
                "#B0BEC5",
                "#B0BEC5",
                "#B0BEC5",
                "#B0BEC5",
                "#B0BEC5",
                "#B0BEC5",
                "#B0BEC5",
                "#B0BEC5",
                "#B0BEC5",
                "#B0BEC5",
                "#B0BEC5",
                "#B0BEC5",
                "#B0BEC5",
                "#B0BEC5",
                "#B0BEC5",
                "#B0BEC5",
                "#B0BEC5",
                "#B0BEC5",
                "#B0BEC5",
                "#B0BEC5",
                "#B0BEC5"
               ]
              ]
             }
            ],
            "label": "Topic 20",
            "method": "update"
           },
           {
            "args": [
             {
              "marker.color": [
               [
                "#B0BEC5",
                "#B0BEC5",
                "#B0BEC5",
                "#B0BEC5",
                "#B0BEC5",
                "#B0BEC5",
                "#B0BEC5",
                "#B0BEC5",
                "#B0BEC5",
                "#B0BEC5",
                "#B0BEC5",
                "#B0BEC5",
                "#B0BEC5",
                "#B0BEC5",
                "#B0BEC5",
                "#B0BEC5",
                "#B0BEC5",
                "#B0BEC5",
                "#B0BEC5",
                "#B0BEC5",
                "#B0BEC5",
                "red",
                "#B0BEC5",
                "#B0BEC5",
                "#B0BEC5",
                "#B0BEC5",
                "#B0BEC5",
                "#B0BEC5",
                "#B0BEC5",
                "#B0BEC5",
                "#B0BEC5",
                "#B0BEC5",
                "#B0BEC5",
                "#B0BEC5",
                "#B0BEC5",
                "#B0BEC5",
                "#B0BEC5",
                "#B0BEC5",
                "#B0BEC5",
                "#B0BEC5",
                "#B0BEC5",
                "#B0BEC5",
                "#B0BEC5",
                "#B0BEC5",
                "#B0BEC5",
                "#B0BEC5",
                "#B0BEC5",
                "#B0BEC5",
                "#B0BEC5",
                "#B0BEC5",
                "#B0BEC5",
                "#B0BEC5",
                "#B0BEC5",
                "#B0BEC5",
                "#B0BEC5",
                "#B0BEC5",
                "#B0BEC5",
                "#B0BEC5",
                "#B0BEC5",
                "#B0BEC5",
                "#B0BEC5",
                "#B0BEC5",
                "#B0BEC5",
                "#B0BEC5",
                "#B0BEC5",
                "#B0BEC5",
                "#B0BEC5",
                "#B0BEC5",
                "#B0BEC5"
               ]
              ]
             }
            ],
            "label": "Topic 21",
            "method": "update"
           },
           {
            "args": [
             {
              "marker.color": [
               [
                "#B0BEC5",
                "#B0BEC5",
                "#B0BEC5",
                "#B0BEC5",
                "#B0BEC5",
                "#B0BEC5",
                "#B0BEC5",
                "#B0BEC5",
                "#B0BEC5",
                "#B0BEC5",
                "#B0BEC5",
                "#B0BEC5",
                "#B0BEC5",
                "#B0BEC5",
                "#B0BEC5",
                "#B0BEC5",
                "#B0BEC5",
                "#B0BEC5",
                "#B0BEC5",
                "#B0BEC5",
                "#B0BEC5",
                "#B0BEC5",
                "red",
                "#B0BEC5",
                "#B0BEC5",
                "#B0BEC5",
                "#B0BEC5",
                "#B0BEC5",
                "#B0BEC5",
                "#B0BEC5",
                "#B0BEC5",
                "#B0BEC5",
                "#B0BEC5",
                "#B0BEC5",
                "#B0BEC5",
                "#B0BEC5",
                "#B0BEC5",
                "#B0BEC5",
                "#B0BEC5",
                "#B0BEC5",
                "#B0BEC5",
                "#B0BEC5",
                "#B0BEC5",
                "#B0BEC5",
                "#B0BEC5",
                "#B0BEC5",
                "#B0BEC5",
                "#B0BEC5",
                "#B0BEC5",
                "#B0BEC5",
                "#B0BEC5",
                "#B0BEC5",
                "#B0BEC5",
                "#B0BEC5",
                "#B0BEC5",
                "#B0BEC5",
                "#B0BEC5",
                "#B0BEC5",
                "#B0BEC5",
                "#B0BEC5",
                "#B0BEC5",
                "#B0BEC5",
                "#B0BEC5",
                "#B0BEC5",
                "#B0BEC5",
                "#B0BEC5",
                "#B0BEC5",
                "#B0BEC5",
                "#B0BEC5"
               ]
              ]
             }
            ],
            "label": "Topic 22",
            "method": "update"
           },
           {
            "args": [
             {
              "marker.color": [
               [
                "#B0BEC5",
                "#B0BEC5",
                "#B0BEC5",
                "#B0BEC5",
                "#B0BEC5",
                "#B0BEC5",
                "#B0BEC5",
                "#B0BEC5",
                "#B0BEC5",
                "#B0BEC5",
                "#B0BEC5",
                "#B0BEC5",
                "#B0BEC5",
                "#B0BEC5",
                "#B0BEC5",
                "#B0BEC5",
                "#B0BEC5",
                "#B0BEC5",
                "#B0BEC5",
                "#B0BEC5",
                "#B0BEC5",
                "#B0BEC5",
                "#B0BEC5",
                "red",
                "#B0BEC5",
                "#B0BEC5",
                "#B0BEC5",
                "#B0BEC5",
                "#B0BEC5",
                "#B0BEC5",
                "#B0BEC5",
                "#B0BEC5",
                "#B0BEC5",
                "#B0BEC5",
                "#B0BEC5",
                "#B0BEC5",
                "#B0BEC5",
                "#B0BEC5",
                "#B0BEC5",
                "#B0BEC5",
                "#B0BEC5",
                "#B0BEC5",
                "#B0BEC5",
                "#B0BEC5",
                "#B0BEC5",
                "#B0BEC5",
                "#B0BEC5",
                "#B0BEC5",
                "#B0BEC5",
                "#B0BEC5",
                "#B0BEC5",
                "#B0BEC5",
                "#B0BEC5",
                "#B0BEC5",
                "#B0BEC5",
                "#B0BEC5",
                "#B0BEC5",
                "#B0BEC5",
                "#B0BEC5",
                "#B0BEC5",
                "#B0BEC5",
                "#B0BEC5",
                "#B0BEC5",
                "#B0BEC5",
                "#B0BEC5",
                "#B0BEC5",
                "#B0BEC5",
                "#B0BEC5",
                "#B0BEC5"
               ]
              ]
             }
            ],
            "label": "Topic 23",
            "method": "update"
           },
           {
            "args": [
             {
              "marker.color": [
               [
                "#B0BEC5",
                "#B0BEC5",
                "#B0BEC5",
                "#B0BEC5",
                "#B0BEC5",
                "#B0BEC5",
                "#B0BEC5",
                "#B0BEC5",
                "#B0BEC5",
                "#B0BEC5",
                "#B0BEC5",
                "#B0BEC5",
                "#B0BEC5",
                "#B0BEC5",
                "#B0BEC5",
                "#B0BEC5",
                "#B0BEC5",
                "#B0BEC5",
                "#B0BEC5",
                "#B0BEC5",
                "#B0BEC5",
                "#B0BEC5",
                "#B0BEC5",
                "#B0BEC5",
                "red",
                "#B0BEC5",
                "#B0BEC5",
                "#B0BEC5",
                "#B0BEC5",
                "#B0BEC5",
                "#B0BEC5",
                "#B0BEC5",
                "#B0BEC5",
                "#B0BEC5",
                "#B0BEC5",
                "#B0BEC5",
                "#B0BEC5",
                "#B0BEC5",
                "#B0BEC5",
                "#B0BEC5",
                "#B0BEC5",
                "#B0BEC5",
                "#B0BEC5",
                "#B0BEC5",
                "#B0BEC5",
                "#B0BEC5",
                "#B0BEC5",
                "#B0BEC5",
                "#B0BEC5",
                "#B0BEC5",
                "#B0BEC5",
                "#B0BEC5",
                "#B0BEC5",
                "#B0BEC5",
                "#B0BEC5",
                "#B0BEC5",
                "#B0BEC5",
                "#B0BEC5",
                "#B0BEC5",
                "#B0BEC5",
                "#B0BEC5",
                "#B0BEC5",
                "#B0BEC5",
                "#B0BEC5",
                "#B0BEC5",
                "#B0BEC5",
                "#B0BEC5",
                "#B0BEC5",
                "#B0BEC5"
               ]
              ]
             }
            ],
            "label": "Topic 24",
            "method": "update"
           },
           {
            "args": [
             {
              "marker.color": [
               [
                "#B0BEC5",
                "#B0BEC5",
                "#B0BEC5",
                "#B0BEC5",
                "#B0BEC5",
                "#B0BEC5",
                "#B0BEC5",
                "#B0BEC5",
                "#B0BEC5",
                "#B0BEC5",
                "#B0BEC5",
                "#B0BEC5",
                "#B0BEC5",
                "#B0BEC5",
                "#B0BEC5",
                "#B0BEC5",
                "#B0BEC5",
                "#B0BEC5",
                "#B0BEC5",
                "#B0BEC5",
                "#B0BEC5",
                "#B0BEC5",
                "#B0BEC5",
                "#B0BEC5",
                "#B0BEC5",
                "red",
                "#B0BEC5",
                "#B0BEC5",
                "#B0BEC5",
                "#B0BEC5",
                "#B0BEC5",
                "#B0BEC5",
                "#B0BEC5",
                "#B0BEC5",
                "#B0BEC5",
                "#B0BEC5",
                "#B0BEC5",
                "#B0BEC5",
                "#B0BEC5",
                "#B0BEC5",
                "#B0BEC5",
                "#B0BEC5",
                "#B0BEC5",
                "#B0BEC5",
                "#B0BEC5",
                "#B0BEC5",
                "#B0BEC5",
                "#B0BEC5",
                "#B0BEC5",
                "#B0BEC5",
                "#B0BEC5",
                "#B0BEC5",
                "#B0BEC5",
                "#B0BEC5",
                "#B0BEC5",
                "#B0BEC5",
                "#B0BEC5",
                "#B0BEC5",
                "#B0BEC5",
                "#B0BEC5",
                "#B0BEC5",
                "#B0BEC5",
                "#B0BEC5",
                "#B0BEC5",
                "#B0BEC5",
                "#B0BEC5",
                "#B0BEC5",
                "#B0BEC5",
                "#B0BEC5"
               ]
              ]
             }
            ],
            "label": "Topic 25",
            "method": "update"
           },
           {
            "args": [
             {
              "marker.color": [
               [
                "#B0BEC5",
                "#B0BEC5",
                "#B0BEC5",
                "#B0BEC5",
                "#B0BEC5",
                "#B0BEC5",
                "#B0BEC5",
                "#B0BEC5",
                "#B0BEC5",
                "#B0BEC5",
                "#B0BEC5",
                "#B0BEC5",
                "#B0BEC5",
                "#B0BEC5",
                "#B0BEC5",
                "#B0BEC5",
                "#B0BEC5",
                "#B0BEC5",
                "#B0BEC5",
                "#B0BEC5",
                "#B0BEC5",
                "#B0BEC5",
                "#B0BEC5",
                "#B0BEC5",
                "#B0BEC5",
                "#B0BEC5",
                "red",
                "#B0BEC5",
                "#B0BEC5",
                "#B0BEC5",
                "#B0BEC5",
                "#B0BEC5",
                "#B0BEC5",
                "#B0BEC5",
                "#B0BEC5",
                "#B0BEC5",
                "#B0BEC5",
                "#B0BEC5",
                "#B0BEC5",
                "#B0BEC5",
                "#B0BEC5",
                "#B0BEC5",
                "#B0BEC5",
                "#B0BEC5",
                "#B0BEC5",
                "#B0BEC5",
                "#B0BEC5",
                "#B0BEC5",
                "#B0BEC5",
                "#B0BEC5",
                "#B0BEC5",
                "#B0BEC5",
                "#B0BEC5",
                "#B0BEC5",
                "#B0BEC5",
                "#B0BEC5",
                "#B0BEC5",
                "#B0BEC5",
                "#B0BEC5",
                "#B0BEC5",
                "#B0BEC5",
                "#B0BEC5",
                "#B0BEC5",
                "#B0BEC5",
                "#B0BEC5",
                "#B0BEC5",
                "#B0BEC5",
                "#B0BEC5",
                "#B0BEC5"
               ]
              ]
             }
            ],
            "label": "Topic 26",
            "method": "update"
           },
           {
            "args": [
             {
              "marker.color": [
               [
                "#B0BEC5",
                "#B0BEC5",
                "#B0BEC5",
                "#B0BEC5",
                "#B0BEC5",
                "#B0BEC5",
                "#B0BEC5",
                "#B0BEC5",
                "#B0BEC5",
                "#B0BEC5",
                "#B0BEC5",
                "#B0BEC5",
                "#B0BEC5",
                "#B0BEC5",
                "#B0BEC5",
                "#B0BEC5",
                "#B0BEC5",
                "#B0BEC5",
                "#B0BEC5",
                "#B0BEC5",
                "#B0BEC5",
                "#B0BEC5",
                "#B0BEC5",
                "#B0BEC5",
                "#B0BEC5",
                "#B0BEC5",
                "#B0BEC5",
                "red",
                "#B0BEC5",
                "#B0BEC5",
                "#B0BEC5",
                "#B0BEC5",
                "#B0BEC5",
                "#B0BEC5",
                "#B0BEC5",
                "#B0BEC5",
                "#B0BEC5",
                "#B0BEC5",
                "#B0BEC5",
                "#B0BEC5",
                "#B0BEC5",
                "#B0BEC5",
                "#B0BEC5",
                "#B0BEC5",
                "#B0BEC5",
                "#B0BEC5",
                "#B0BEC5",
                "#B0BEC5",
                "#B0BEC5",
                "#B0BEC5",
                "#B0BEC5",
                "#B0BEC5",
                "#B0BEC5",
                "#B0BEC5",
                "#B0BEC5",
                "#B0BEC5",
                "#B0BEC5",
                "#B0BEC5",
                "#B0BEC5",
                "#B0BEC5",
                "#B0BEC5",
                "#B0BEC5",
                "#B0BEC5",
                "#B0BEC5",
                "#B0BEC5",
                "#B0BEC5",
                "#B0BEC5",
                "#B0BEC5",
                "#B0BEC5"
               ]
              ]
             }
            ],
            "label": "Topic 27",
            "method": "update"
           },
           {
            "args": [
             {
              "marker.color": [
               [
                "#B0BEC5",
                "#B0BEC5",
                "#B0BEC5",
                "#B0BEC5",
                "#B0BEC5",
                "#B0BEC5",
                "#B0BEC5",
                "#B0BEC5",
                "#B0BEC5",
                "#B0BEC5",
                "#B0BEC5",
                "#B0BEC5",
                "#B0BEC5",
                "#B0BEC5",
                "#B0BEC5",
                "#B0BEC5",
                "#B0BEC5",
                "#B0BEC5",
                "#B0BEC5",
                "#B0BEC5",
                "#B0BEC5",
                "#B0BEC5",
                "#B0BEC5",
                "#B0BEC5",
                "#B0BEC5",
                "#B0BEC5",
                "#B0BEC5",
                "#B0BEC5",
                "red",
                "#B0BEC5",
                "#B0BEC5",
                "#B0BEC5",
                "#B0BEC5",
                "#B0BEC5",
                "#B0BEC5",
                "#B0BEC5",
                "#B0BEC5",
                "#B0BEC5",
                "#B0BEC5",
                "#B0BEC5",
                "#B0BEC5",
                "#B0BEC5",
                "#B0BEC5",
                "#B0BEC5",
                "#B0BEC5",
                "#B0BEC5",
                "#B0BEC5",
                "#B0BEC5",
                "#B0BEC5",
                "#B0BEC5",
                "#B0BEC5",
                "#B0BEC5",
                "#B0BEC5",
                "#B0BEC5",
                "#B0BEC5",
                "#B0BEC5",
                "#B0BEC5",
                "#B0BEC5",
                "#B0BEC5",
                "#B0BEC5",
                "#B0BEC5",
                "#B0BEC5",
                "#B0BEC5",
                "#B0BEC5",
                "#B0BEC5",
                "#B0BEC5",
                "#B0BEC5",
                "#B0BEC5",
                "#B0BEC5"
               ]
              ]
             }
            ],
            "label": "Topic 28",
            "method": "update"
           },
           {
            "args": [
             {
              "marker.color": [
               [
                "#B0BEC5",
                "#B0BEC5",
                "#B0BEC5",
                "#B0BEC5",
                "#B0BEC5",
                "#B0BEC5",
                "#B0BEC5",
                "#B0BEC5",
                "#B0BEC5",
                "#B0BEC5",
                "#B0BEC5",
                "#B0BEC5",
                "#B0BEC5",
                "#B0BEC5",
                "#B0BEC5",
                "#B0BEC5",
                "#B0BEC5",
                "#B0BEC5",
                "#B0BEC5",
                "#B0BEC5",
                "#B0BEC5",
                "#B0BEC5",
                "#B0BEC5",
                "#B0BEC5",
                "#B0BEC5",
                "#B0BEC5",
                "#B0BEC5",
                "#B0BEC5",
                "#B0BEC5",
                "red",
                "#B0BEC5",
                "#B0BEC5",
                "#B0BEC5",
                "#B0BEC5",
                "#B0BEC5",
                "#B0BEC5",
                "#B0BEC5",
                "#B0BEC5",
                "#B0BEC5",
                "#B0BEC5",
                "#B0BEC5",
                "#B0BEC5",
                "#B0BEC5",
                "#B0BEC5",
                "#B0BEC5",
                "#B0BEC5",
                "#B0BEC5",
                "#B0BEC5",
                "#B0BEC5",
                "#B0BEC5",
                "#B0BEC5",
                "#B0BEC5",
                "#B0BEC5",
                "#B0BEC5",
                "#B0BEC5",
                "#B0BEC5",
                "#B0BEC5",
                "#B0BEC5",
                "#B0BEC5",
                "#B0BEC5",
                "#B0BEC5",
                "#B0BEC5",
                "#B0BEC5",
                "#B0BEC5",
                "#B0BEC5",
                "#B0BEC5",
                "#B0BEC5",
                "#B0BEC5",
                "#B0BEC5"
               ]
              ]
             }
            ],
            "label": "Topic 29",
            "method": "update"
           },
           {
            "args": [
             {
              "marker.color": [
               [
                "#B0BEC5",
                "#B0BEC5",
                "#B0BEC5",
                "#B0BEC5",
                "#B0BEC5",
                "#B0BEC5",
                "#B0BEC5",
                "#B0BEC5",
                "#B0BEC5",
                "#B0BEC5",
                "#B0BEC5",
                "#B0BEC5",
                "#B0BEC5",
                "#B0BEC5",
                "#B0BEC5",
                "#B0BEC5",
                "#B0BEC5",
                "#B0BEC5",
                "#B0BEC5",
                "#B0BEC5",
                "#B0BEC5",
                "#B0BEC5",
                "#B0BEC5",
                "#B0BEC5",
                "#B0BEC5",
                "#B0BEC5",
                "#B0BEC5",
                "#B0BEC5",
                "#B0BEC5",
                "#B0BEC5",
                "red",
                "#B0BEC5",
                "#B0BEC5",
                "#B0BEC5",
                "#B0BEC5",
                "#B0BEC5",
                "#B0BEC5",
                "#B0BEC5",
                "#B0BEC5",
                "#B0BEC5",
                "#B0BEC5",
                "#B0BEC5",
                "#B0BEC5",
                "#B0BEC5",
                "#B0BEC5",
                "#B0BEC5",
                "#B0BEC5",
                "#B0BEC5",
                "#B0BEC5",
                "#B0BEC5",
                "#B0BEC5",
                "#B0BEC5",
                "#B0BEC5",
                "#B0BEC5",
                "#B0BEC5",
                "#B0BEC5",
                "#B0BEC5",
                "#B0BEC5",
                "#B0BEC5",
                "#B0BEC5",
                "#B0BEC5",
                "#B0BEC5",
                "#B0BEC5",
                "#B0BEC5",
                "#B0BEC5",
                "#B0BEC5",
                "#B0BEC5",
                "#B0BEC5",
                "#B0BEC5"
               ]
              ]
             }
            ],
            "label": "Topic 30",
            "method": "update"
           },
           {
            "args": [
             {
              "marker.color": [
               [
                "#B0BEC5",
                "#B0BEC5",
                "#B0BEC5",
                "#B0BEC5",
                "#B0BEC5",
                "#B0BEC5",
                "#B0BEC5",
                "#B0BEC5",
                "#B0BEC5",
                "#B0BEC5",
                "#B0BEC5",
                "#B0BEC5",
                "#B0BEC5",
                "#B0BEC5",
                "#B0BEC5",
                "#B0BEC5",
                "#B0BEC5",
                "#B0BEC5",
                "#B0BEC5",
                "#B0BEC5",
                "#B0BEC5",
                "#B0BEC5",
                "#B0BEC5",
                "#B0BEC5",
                "#B0BEC5",
                "#B0BEC5",
                "#B0BEC5",
                "#B0BEC5",
                "#B0BEC5",
                "#B0BEC5",
                "#B0BEC5",
                "red",
                "#B0BEC5",
                "#B0BEC5",
                "#B0BEC5",
                "#B0BEC5",
                "#B0BEC5",
                "#B0BEC5",
                "#B0BEC5",
                "#B0BEC5",
                "#B0BEC5",
                "#B0BEC5",
                "#B0BEC5",
                "#B0BEC5",
                "#B0BEC5",
                "#B0BEC5",
                "#B0BEC5",
                "#B0BEC5",
                "#B0BEC5",
                "#B0BEC5",
                "#B0BEC5",
                "#B0BEC5",
                "#B0BEC5",
                "#B0BEC5",
                "#B0BEC5",
                "#B0BEC5",
                "#B0BEC5",
                "#B0BEC5",
                "#B0BEC5",
                "#B0BEC5",
                "#B0BEC5",
                "#B0BEC5",
                "#B0BEC5",
                "#B0BEC5",
                "#B0BEC5",
                "#B0BEC5",
                "#B0BEC5",
                "#B0BEC5",
                "#B0BEC5"
               ]
              ]
             }
            ],
            "label": "Topic 31",
            "method": "update"
           },
           {
            "args": [
             {
              "marker.color": [
               [
                "#B0BEC5",
                "#B0BEC5",
                "#B0BEC5",
                "#B0BEC5",
                "#B0BEC5",
                "#B0BEC5",
                "#B0BEC5",
                "#B0BEC5",
                "#B0BEC5",
                "#B0BEC5",
                "#B0BEC5",
                "#B0BEC5",
                "#B0BEC5",
                "#B0BEC5",
                "#B0BEC5",
                "#B0BEC5",
                "#B0BEC5",
                "#B0BEC5",
                "#B0BEC5",
                "#B0BEC5",
                "#B0BEC5",
                "#B0BEC5",
                "#B0BEC5",
                "#B0BEC5",
                "#B0BEC5",
                "#B0BEC5",
                "#B0BEC5",
                "#B0BEC5",
                "#B0BEC5",
                "#B0BEC5",
                "#B0BEC5",
                "#B0BEC5",
                "red",
                "#B0BEC5",
                "#B0BEC5",
                "#B0BEC5",
                "#B0BEC5",
                "#B0BEC5",
                "#B0BEC5",
                "#B0BEC5",
                "#B0BEC5",
                "#B0BEC5",
                "#B0BEC5",
                "#B0BEC5",
                "#B0BEC5",
                "#B0BEC5",
                "#B0BEC5",
                "#B0BEC5",
                "#B0BEC5",
                "#B0BEC5",
                "#B0BEC5",
                "#B0BEC5",
                "#B0BEC5",
                "#B0BEC5",
                "#B0BEC5",
                "#B0BEC5",
                "#B0BEC5",
                "#B0BEC5",
                "#B0BEC5",
                "#B0BEC5",
                "#B0BEC5",
                "#B0BEC5",
                "#B0BEC5",
                "#B0BEC5",
                "#B0BEC5",
                "#B0BEC5",
                "#B0BEC5",
                "#B0BEC5",
                "#B0BEC5"
               ]
              ]
             }
            ],
            "label": "Topic 32",
            "method": "update"
           },
           {
            "args": [
             {
              "marker.color": [
               [
                "#B0BEC5",
                "#B0BEC5",
                "#B0BEC5",
                "#B0BEC5",
                "#B0BEC5",
                "#B0BEC5",
                "#B0BEC5",
                "#B0BEC5",
                "#B0BEC5",
                "#B0BEC5",
                "#B0BEC5",
                "#B0BEC5",
                "#B0BEC5",
                "#B0BEC5",
                "#B0BEC5",
                "#B0BEC5",
                "#B0BEC5",
                "#B0BEC5",
                "#B0BEC5",
                "#B0BEC5",
                "#B0BEC5",
                "#B0BEC5",
                "#B0BEC5",
                "#B0BEC5",
                "#B0BEC5",
                "#B0BEC5",
                "#B0BEC5",
                "#B0BEC5",
                "#B0BEC5",
                "#B0BEC5",
                "#B0BEC5",
                "#B0BEC5",
                "#B0BEC5",
                "red",
                "#B0BEC5",
                "#B0BEC5",
                "#B0BEC5",
                "#B0BEC5",
                "#B0BEC5",
                "#B0BEC5",
                "#B0BEC5",
                "#B0BEC5",
                "#B0BEC5",
                "#B0BEC5",
                "#B0BEC5",
                "#B0BEC5",
                "#B0BEC5",
                "#B0BEC5",
                "#B0BEC5",
                "#B0BEC5",
                "#B0BEC5",
                "#B0BEC5",
                "#B0BEC5",
                "#B0BEC5",
                "#B0BEC5",
                "#B0BEC5",
                "#B0BEC5",
                "#B0BEC5",
                "#B0BEC5",
                "#B0BEC5",
                "#B0BEC5",
                "#B0BEC5",
                "#B0BEC5",
                "#B0BEC5",
                "#B0BEC5",
                "#B0BEC5",
                "#B0BEC5",
                "#B0BEC5",
                "#B0BEC5"
               ]
              ]
             }
            ],
            "label": "Topic 33",
            "method": "update"
           },
           {
            "args": [
             {
              "marker.color": [
               [
                "#B0BEC5",
                "#B0BEC5",
                "#B0BEC5",
                "#B0BEC5",
                "#B0BEC5",
                "#B0BEC5",
                "#B0BEC5",
                "#B0BEC5",
                "#B0BEC5",
                "#B0BEC5",
                "#B0BEC5",
                "#B0BEC5",
                "#B0BEC5",
                "#B0BEC5",
                "#B0BEC5",
                "#B0BEC5",
                "#B0BEC5",
                "#B0BEC5",
                "#B0BEC5",
                "#B0BEC5",
                "#B0BEC5",
                "#B0BEC5",
                "#B0BEC5",
                "#B0BEC5",
                "#B0BEC5",
                "#B0BEC5",
                "#B0BEC5",
                "#B0BEC5",
                "#B0BEC5",
                "#B0BEC5",
                "#B0BEC5",
                "#B0BEC5",
                "#B0BEC5",
                "#B0BEC5",
                "red",
                "#B0BEC5",
                "#B0BEC5",
                "#B0BEC5",
                "#B0BEC5",
                "#B0BEC5",
                "#B0BEC5",
                "#B0BEC5",
                "#B0BEC5",
                "#B0BEC5",
                "#B0BEC5",
                "#B0BEC5",
                "#B0BEC5",
                "#B0BEC5",
                "#B0BEC5",
                "#B0BEC5",
                "#B0BEC5",
                "#B0BEC5",
                "#B0BEC5",
                "#B0BEC5",
                "#B0BEC5",
                "#B0BEC5",
                "#B0BEC5",
                "#B0BEC5",
                "#B0BEC5",
                "#B0BEC5",
                "#B0BEC5",
                "#B0BEC5",
                "#B0BEC5",
                "#B0BEC5",
                "#B0BEC5",
                "#B0BEC5",
                "#B0BEC5",
                "#B0BEC5",
                "#B0BEC5"
               ]
              ]
             }
            ],
            "label": "Topic 34",
            "method": "update"
           },
           {
            "args": [
             {
              "marker.color": [
               [
                "#B0BEC5",
                "#B0BEC5",
                "#B0BEC5",
                "#B0BEC5",
                "#B0BEC5",
                "#B0BEC5",
                "#B0BEC5",
                "#B0BEC5",
                "#B0BEC5",
                "#B0BEC5",
                "#B0BEC5",
                "#B0BEC5",
                "#B0BEC5",
                "#B0BEC5",
                "#B0BEC5",
                "#B0BEC5",
                "#B0BEC5",
                "#B0BEC5",
                "#B0BEC5",
                "#B0BEC5",
                "#B0BEC5",
                "#B0BEC5",
                "#B0BEC5",
                "#B0BEC5",
                "#B0BEC5",
                "#B0BEC5",
                "#B0BEC5",
                "#B0BEC5",
                "#B0BEC5",
                "#B0BEC5",
                "#B0BEC5",
                "#B0BEC5",
                "#B0BEC5",
                "#B0BEC5",
                "#B0BEC5",
                "red",
                "#B0BEC5",
                "#B0BEC5",
                "#B0BEC5",
                "#B0BEC5",
                "#B0BEC5",
                "#B0BEC5",
                "#B0BEC5",
                "#B0BEC5",
                "#B0BEC5",
                "#B0BEC5",
                "#B0BEC5",
                "#B0BEC5",
                "#B0BEC5",
                "#B0BEC5",
                "#B0BEC5",
                "#B0BEC5",
                "#B0BEC5",
                "#B0BEC5",
                "#B0BEC5",
                "#B0BEC5",
                "#B0BEC5",
                "#B0BEC5",
                "#B0BEC5",
                "#B0BEC5",
                "#B0BEC5",
                "#B0BEC5",
                "#B0BEC5",
                "#B0BEC5",
                "#B0BEC5",
                "#B0BEC5",
                "#B0BEC5",
                "#B0BEC5",
                "#B0BEC5"
               ]
              ]
             }
            ],
            "label": "Topic 35",
            "method": "update"
           },
           {
            "args": [
             {
              "marker.color": [
               [
                "#B0BEC5",
                "#B0BEC5",
                "#B0BEC5",
                "#B0BEC5",
                "#B0BEC5",
                "#B0BEC5",
                "#B0BEC5",
                "#B0BEC5",
                "#B0BEC5",
                "#B0BEC5",
                "#B0BEC5",
                "#B0BEC5",
                "#B0BEC5",
                "#B0BEC5",
                "#B0BEC5",
                "#B0BEC5",
                "#B0BEC5",
                "#B0BEC5",
                "#B0BEC5",
                "#B0BEC5",
                "#B0BEC5",
                "#B0BEC5",
                "#B0BEC5",
                "#B0BEC5",
                "#B0BEC5",
                "#B0BEC5",
                "#B0BEC5",
                "#B0BEC5",
                "#B0BEC5",
                "#B0BEC5",
                "#B0BEC5",
                "#B0BEC5",
                "#B0BEC5",
                "#B0BEC5",
                "#B0BEC5",
                "#B0BEC5",
                "red",
                "#B0BEC5",
                "#B0BEC5",
                "#B0BEC5",
                "#B0BEC5",
                "#B0BEC5",
                "#B0BEC5",
                "#B0BEC5",
                "#B0BEC5",
                "#B0BEC5",
                "#B0BEC5",
                "#B0BEC5",
                "#B0BEC5",
                "#B0BEC5",
                "#B0BEC5",
                "#B0BEC5",
                "#B0BEC5",
                "#B0BEC5",
                "#B0BEC5",
                "#B0BEC5",
                "#B0BEC5",
                "#B0BEC5",
                "#B0BEC5",
                "#B0BEC5",
                "#B0BEC5",
                "#B0BEC5",
                "#B0BEC5",
                "#B0BEC5",
                "#B0BEC5",
                "#B0BEC5",
                "#B0BEC5",
                "#B0BEC5",
                "#B0BEC5"
               ]
              ]
             }
            ],
            "label": "Topic 36",
            "method": "update"
           },
           {
            "args": [
             {
              "marker.color": [
               [
                "#B0BEC5",
                "#B0BEC5",
                "#B0BEC5",
                "#B0BEC5",
                "#B0BEC5",
                "#B0BEC5",
                "#B0BEC5",
                "#B0BEC5",
                "#B0BEC5",
                "#B0BEC5",
                "#B0BEC5",
                "#B0BEC5",
                "#B0BEC5",
                "#B0BEC5",
                "#B0BEC5",
                "#B0BEC5",
                "#B0BEC5",
                "#B0BEC5",
                "#B0BEC5",
                "#B0BEC5",
                "#B0BEC5",
                "#B0BEC5",
                "#B0BEC5",
                "#B0BEC5",
                "#B0BEC5",
                "#B0BEC5",
                "#B0BEC5",
                "#B0BEC5",
                "#B0BEC5",
                "#B0BEC5",
                "#B0BEC5",
                "#B0BEC5",
                "#B0BEC5",
                "#B0BEC5",
                "#B0BEC5",
                "#B0BEC5",
                "#B0BEC5",
                "red",
                "#B0BEC5",
                "#B0BEC5",
                "#B0BEC5",
                "#B0BEC5",
                "#B0BEC5",
                "#B0BEC5",
                "#B0BEC5",
                "#B0BEC5",
                "#B0BEC5",
                "#B0BEC5",
                "#B0BEC5",
                "#B0BEC5",
                "#B0BEC5",
                "#B0BEC5",
                "#B0BEC5",
                "#B0BEC5",
                "#B0BEC5",
                "#B0BEC5",
                "#B0BEC5",
                "#B0BEC5",
                "#B0BEC5",
                "#B0BEC5",
                "#B0BEC5",
                "#B0BEC5",
                "#B0BEC5",
                "#B0BEC5",
                "#B0BEC5",
                "#B0BEC5",
                "#B0BEC5",
                "#B0BEC5",
                "#B0BEC5"
               ]
              ]
             }
            ],
            "label": "Topic 37",
            "method": "update"
           },
           {
            "args": [
             {
              "marker.color": [
               [
                "#B0BEC5",
                "#B0BEC5",
                "#B0BEC5",
                "#B0BEC5",
                "#B0BEC5",
                "#B0BEC5",
                "#B0BEC5",
                "#B0BEC5",
                "#B0BEC5",
                "#B0BEC5",
                "#B0BEC5",
                "#B0BEC5",
                "#B0BEC5",
                "#B0BEC5",
                "#B0BEC5",
                "#B0BEC5",
                "#B0BEC5",
                "#B0BEC5",
                "#B0BEC5",
                "#B0BEC5",
                "#B0BEC5",
                "#B0BEC5",
                "#B0BEC5",
                "#B0BEC5",
                "#B0BEC5",
                "#B0BEC5",
                "#B0BEC5",
                "#B0BEC5",
                "#B0BEC5",
                "#B0BEC5",
                "#B0BEC5",
                "#B0BEC5",
                "#B0BEC5",
                "#B0BEC5",
                "#B0BEC5",
                "#B0BEC5",
                "#B0BEC5",
                "#B0BEC5",
                "red",
                "#B0BEC5",
                "#B0BEC5",
                "#B0BEC5",
                "#B0BEC5",
                "#B0BEC5",
                "#B0BEC5",
                "#B0BEC5",
                "#B0BEC5",
                "#B0BEC5",
                "#B0BEC5",
                "#B0BEC5",
                "#B0BEC5",
                "#B0BEC5",
                "#B0BEC5",
                "#B0BEC5",
                "#B0BEC5",
                "#B0BEC5",
                "#B0BEC5",
                "#B0BEC5",
                "#B0BEC5",
                "#B0BEC5",
                "#B0BEC5",
                "#B0BEC5",
                "#B0BEC5",
                "#B0BEC5",
                "#B0BEC5",
                "#B0BEC5",
                "#B0BEC5",
                "#B0BEC5",
                "#B0BEC5"
               ]
              ]
             }
            ],
            "label": "Topic 38",
            "method": "update"
           },
           {
            "args": [
             {
              "marker.color": [
               [
                "#B0BEC5",
                "#B0BEC5",
                "#B0BEC5",
                "#B0BEC5",
                "#B0BEC5",
                "#B0BEC5",
                "#B0BEC5",
                "#B0BEC5",
                "#B0BEC5",
                "#B0BEC5",
                "#B0BEC5",
                "#B0BEC5",
                "#B0BEC5",
                "#B0BEC5",
                "#B0BEC5",
                "#B0BEC5",
                "#B0BEC5",
                "#B0BEC5",
                "#B0BEC5",
                "#B0BEC5",
                "#B0BEC5",
                "#B0BEC5",
                "#B0BEC5",
                "#B0BEC5",
                "#B0BEC5",
                "#B0BEC5",
                "#B0BEC5",
                "#B0BEC5",
                "#B0BEC5",
                "#B0BEC5",
                "#B0BEC5",
                "#B0BEC5",
                "#B0BEC5",
                "#B0BEC5",
                "#B0BEC5",
                "#B0BEC5",
                "#B0BEC5",
                "#B0BEC5",
                "#B0BEC5",
                "red",
                "#B0BEC5",
                "#B0BEC5",
                "#B0BEC5",
                "#B0BEC5",
                "#B0BEC5",
                "#B0BEC5",
                "#B0BEC5",
                "#B0BEC5",
                "#B0BEC5",
                "#B0BEC5",
                "#B0BEC5",
                "#B0BEC5",
                "#B0BEC5",
                "#B0BEC5",
                "#B0BEC5",
                "#B0BEC5",
                "#B0BEC5",
                "#B0BEC5",
                "#B0BEC5",
                "#B0BEC5",
                "#B0BEC5",
                "#B0BEC5",
                "#B0BEC5",
                "#B0BEC5",
                "#B0BEC5",
                "#B0BEC5",
                "#B0BEC5",
                "#B0BEC5",
                "#B0BEC5"
               ]
              ]
             }
            ],
            "label": "Topic 39",
            "method": "update"
           },
           {
            "args": [
             {
              "marker.color": [
               [
                "#B0BEC5",
                "#B0BEC5",
                "#B0BEC5",
                "#B0BEC5",
                "#B0BEC5",
                "#B0BEC5",
                "#B0BEC5",
                "#B0BEC5",
                "#B0BEC5",
                "#B0BEC5",
                "#B0BEC5",
                "#B0BEC5",
                "#B0BEC5",
                "#B0BEC5",
                "#B0BEC5",
                "#B0BEC5",
                "#B0BEC5",
                "#B0BEC5",
                "#B0BEC5",
                "#B0BEC5",
                "#B0BEC5",
                "#B0BEC5",
                "#B0BEC5",
                "#B0BEC5",
                "#B0BEC5",
                "#B0BEC5",
                "#B0BEC5",
                "#B0BEC5",
                "#B0BEC5",
                "#B0BEC5",
                "#B0BEC5",
                "#B0BEC5",
                "#B0BEC5",
                "#B0BEC5",
                "#B0BEC5",
                "#B0BEC5",
                "#B0BEC5",
                "#B0BEC5",
                "#B0BEC5",
                "#B0BEC5",
                "red",
                "#B0BEC5",
                "#B0BEC5",
                "#B0BEC5",
                "#B0BEC5",
                "#B0BEC5",
                "#B0BEC5",
                "#B0BEC5",
                "#B0BEC5",
                "#B0BEC5",
                "#B0BEC5",
                "#B0BEC5",
                "#B0BEC5",
                "#B0BEC5",
                "#B0BEC5",
                "#B0BEC5",
                "#B0BEC5",
                "#B0BEC5",
                "#B0BEC5",
                "#B0BEC5",
                "#B0BEC5",
                "#B0BEC5",
                "#B0BEC5",
                "#B0BEC5",
                "#B0BEC5",
                "#B0BEC5",
                "#B0BEC5",
                "#B0BEC5",
                "#B0BEC5"
               ]
              ]
             }
            ],
            "label": "Topic 40",
            "method": "update"
           },
           {
            "args": [
             {
              "marker.color": [
               [
                "#B0BEC5",
                "#B0BEC5",
                "#B0BEC5",
                "#B0BEC5",
                "#B0BEC5",
                "#B0BEC5",
                "#B0BEC5",
                "#B0BEC5",
                "#B0BEC5",
                "#B0BEC5",
                "#B0BEC5",
                "#B0BEC5",
                "#B0BEC5",
                "#B0BEC5",
                "#B0BEC5",
                "#B0BEC5",
                "#B0BEC5",
                "#B0BEC5",
                "#B0BEC5",
                "#B0BEC5",
                "#B0BEC5",
                "#B0BEC5",
                "#B0BEC5",
                "#B0BEC5",
                "#B0BEC5",
                "#B0BEC5",
                "#B0BEC5",
                "#B0BEC5",
                "#B0BEC5",
                "#B0BEC5",
                "#B0BEC5",
                "#B0BEC5",
                "#B0BEC5",
                "#B0BEC5",
                "#B0BEC5",
                "#B0BEC5",
                "#B0BEC5",
                "#B0BEC5",
                "#B0BEC5",
                "#B0BEC5",
                "#B0BEC5",
                "red",
                "#B0BEC5",
                "#B0BEC5",
                "#B0BEC5",
                "#B0BEC5",
                "#B0BEC5",
                "#B0BEC5",
                "#B0BEC5",
                "#B0BEC5",
                "#B0BEC5",
                "#B0BEC5",
                "#B0BEC5",
                "#B0BEC5",
                "#B0BEC5",
                "#B0BEC5",
                "#B0BEC5",
                "#B0BEC5",
                "#B0BEC5",
                "#B0BEC5",
                "#B0BEC5",
                "#B0BEC5",
                "#B0BEC5",
                "#B0BEC5",
                "#B0BEC5",
                "#B0BEC5",
                "#B0BEC5",
                "#B0BEC5",
                "#B0BEC5"
               ]
              ]
             }
            ],
            "label": "Topic 41",
            "method": "update"
           },
           {
            "args": [
             {
              "marker.color": [
               [
                "#B0BEC5",
                "#B0BEC5",
                "#B0BEC5",
                "#B0BEC5",
                "#B0BEC5",
                "#B0BEC5",
                "#B0BEC5",
                "#B0BEC5",
                "#B0BEC5",
                "#B0BEC5",
                "#B0BEC5",
                "#B0BEC5",
                "#B0BEC5",
                "#B0BEC5",
                "#B0BEC5",
                "#B0BEC5",
                "#B0BEC5",
                "#B0BEC5",
                "#B0BEC5",
                "#B0BEC5",
                "#B0BEC5",
                "#B0BEC5",
                "#B0BEC5",
                "#B0BEC5",
                "#B0BEC5",
                "#B0BEC5",
                "#B0BEC5",
                "#B0BEC5",
                "#B0BEC5",
                "#B0BEC5",
                "#B0BEC5",
                "#B0BEC5",
                "#B0BEC5",
                "#B0BEC5",
                "#B0BEC5",
                "#B0BEC5",
                "#B0BEC5",
                "#B0BEC5",
                "#B0BEC5",
                "#B0BEC5",
                "#B0BEC5",
                "#B0BEC5",
                "red",
                "#B0BEC5",
                "#B0BEC5",
                "#B0BEC5",
                "#B0BEC5",
                "#B0BEC5",
                "#B0BEC5",
                "#B0BEC5",
                "#B0BEC5",
                "#B0BEC5",
                "#B0BEC5",
                "#B0BEC5",
                "#B0BEC5",
                "#B0BEC5",
                "#B0BEC5",
                "#B0BEC5",
                "#B0BEC5",
                "#B0BEC5",
                "#B0BEC5",
                "#B0BEC5",
                "#B0BEC5",
                "#B0BEC5",
                "#B0BEC5",
                "#B0BEC5",
                "#B0BEC5",
                "#B0BEC5",
                "#B0BEC5"
               ]
              ]
             }
            ],
            "label": "Topic 42",
            "method": "update"
           },
           {
            "args": [
             {
              "marker.color": [
               [
                "#B0BEC5",
                "#B0BEC5",
                "#B0BEC5",
                "#B0BEC5",
                "#B0BEC5",
                "#B0BEC5",
                "#B0BEC5",
                "#B0BEC5",
                "#B0BEC5",
                "#B0BEC5",
                "#B0BEC5",
                "#B0BEC5",
                "#B0BEC5",
                "#B0BEC5",
                "#B0BEC5",
                "#B0BEC5",
                "#B0BEC5",
                "#B0BEC5",
                "#B0BEC5",
                "#B0BEC5",
                "#B0BEC5",
                "#B0BEC5",
                "#B0BEC5",
                "#B0BEC5",
                "#B0BEC5",
                "#B0BEC5",
                "#B0BEC5",
                "#B0BEC5",
                "#B0BEC5",
                "#B0BEC5",
                "#B0BEC5",
                "#B0BEC5",
                "#B0BEC5",
                "#B0BEC5",
                "#B0BEC5",
                "#B0BEC5",
                "#B0BEC5",
                "#B0BEC5",
                "#B0BEC5",
                "#B0BEC5",
                "#B0BEC5",
                "#B0BEC5",
                "#B0BEC5",
                "red",
                "#B0BEC5",
                "#B0BEC5",
                "#B0BEC5",
                "#B0BEC5",
                "#B0BEC5",
                "#B0BEC5",
                "#B0BEC5",
                "#B0BEC5",
                "#B0BEC5",
                "#B0BEC5",
                "#B0BEC5",
                "#B0BEC5",
                "#B0BEC5",
                "#B0BEC5",
                "#B0BEC5",
                "#B0BEC5",
                "#B0BEC5",
                "#B0BEC5",
                "#B0BEC5",
                "#B0BEC5",
                "#B0BEC5",
                "#B0BEC5",
                "#B0BEC5",
                "#B0BEC5",
                "#B0BEC5"
               ]
              ]
             }
            ],
            "label": "Topic 43",
            "method": "update"
           },
           {
            "args": [
             {
              "marker.color": [
               [
                "#B0BEC5",
                "#B0BEC5",
                "#B0BEC5",
                "#B0BEC5",
                "#B0BEC5",
                "#B0BEC5",
                "#B0BEC5",
                "#B0BEC5",
                "#B0BEC5",
                "#B0BEC5",
                "#B0BEC5",
                "#B0BEC5",
                "#B0BEC5",
                "#B0BEC5",
                "#B0BEC5",
                "#B0BEC5",
                "#B0BEC5",
                "#B0BEC5",
                "#B0BEC5",
                "#B0BEC5",
                "#B0BEC5",
                "#B0BEC5",
                "#B0BEC5",
                "#B0BEC5",
                "#B0BEC5",
                "#B0BEC5",
                "#B0BEC5",
                "#B0BEC5",
                "#B0BEC5",
                "#B0BEC5",
                "#B0BEC5",
                "#B0BEC5",
                "#B0BEC5",
                "#B0BEC5",
                "#B0BEC5",
                "#B0BEC5",
                "#B0BEC5",
                "#B0BEC5",
                "#B0BEC5",
                "#B0BEC5",
                "#B0BEC5",
                "#B0BEC5",
                "#B0BEC5",
                "#B0BEC5",
                "red",
                "#B0BEC5",
                "#B0BEC5",
                "#B0BEC5",
                "#B0BEC5",
                "#B0BEC5",
                "#B0BEC5",
                "#B0BEC5",
                "#B0BEC5",
                "#B0BEC5",
                "#B0BEC5",
                "#B0BEC5",
                "#B0BEC5",
                "#B0BEC5",
                "#B0BEC5",
                "#B0BEC5",
                "#B0BEC5",
                "#B0BEC5",
                "#B0BEC5",
                "#B0BEC5",
                "#B0BEC5",
                "#B0BEC5",
                "#B0BEC5",
                "#B0BEC5",
                "#B0BEC5"
               ]
              ]
             }
            ],
            "label": "Topic 44",
            "method": "update"
           },
           {
            "args": [
             {
              "marker.color": [
               [
                "#B0BEC5",
                "#B0BEC5",
                "#B0BEC5",
                "#B0BEC5",
                "#B0BEC5",
                "#B0BEC5",
                "#B0BEC5",
                "#B0BEC5",
                "#B0BEC5",
                "#B0BEC5",
                "#B0BEC5",
                "#B0BEC5",
                "#B0BEC5",
                "#B0BEC5",
                "#B0BEC5",
                "#B0BEC5",
                "#B0BEC5",
                "#B0BEC5",
                "#B0BEC5",
                "#B0BEC5",
                "#B0BEC5",
                "#B0BEC5",
                "#B0BEC5",
                "#B0BEC5",
                "#B0BEC5",
                "#B0BEC5",
                "#B0BEC5",
                "#B0BEC5",
                "#B0BEC5",
                "#B0BEC5",
                "#B0BEC5",
                "#B0BEC5",
                "#B0BEC5",
                "#B0BEC5",
                "#B0BEC5",
                "#B0BEC5",
                "#B0BEC5",
                "#B0BEC5",
                "#B0BEC5",
                "#B0BEC5",
                "#B0BEC5",
                "#B0BEC5",
                "#B0BEC5",
                "#B0BEC5",
                "#B0BEC5",
                "red",
                "#B0BEC5",
                "#B0BEC5",
                "#B0BEC5",
                "#B0BEC5",
                "#B0BEC5",
                "#B0BEC5",
                "#B0BEC5",
                "#B0BEC5",
                "#B0BEC5",
                "#B0BEC5",
                "#B0BEC5",
                "#B0BEC5",
                "#B0BEC5",
                "#B0BEC5",
                "#B0BEC5",
                "#B0BEC5",
                "#B0BEC5",
                "#B0BEC5",
                "#B0BEC5",
                "#B0BEC5",
                "#B0BEC5",
                "#B0BEC5",
                "#B0BEC5"
               ]
              ]
             }
            ],
            "label": "Topic 45",
            "method": "update"
           },
           {
            "args": [
             {
              "marker.color": [
               [
                "#B0BEC5",
                "#B0BEC5",
                "#B0BEC5",
                "#B0BEC5",
                "#B0BEC5",
                "#B0BEC5",
                "#B0BEC5",
                "#B0BEC5",
                "#B0BEC5",
                "#B0BEC5",
                "#B0BEC5",
                "#B0BEC5",
                "#B0BEC5",
                "#B0BEC5",
                "#B0BEC5",
                "#B0BEC5",
                "#B0BEC5",
                "#B0BEC5",
                "#B0BEC5",
                "#B0BEC5",
                "#B0BEC5",
                "#B0BEC5",
                "#B0BEC5",
                "#B0BEC5",
                "#B0BEC5",
                "#B0BEC5",
                "#B0BEC5",
                "#B0BEC5",
                "#B0BEC5",
                "#B0BEC5",
                "#B0BEC5",
                "#B0BEC5",
                "#B0BEC5",
                "#B0BEC5",
                "#B0BEC5",
                "#B0BEC5",
                "#B0BEC5",
                "#B0BEC5",
                "#B0BEC5",
                "#B0BEC5",
                "#B0BEC5",
                "#B0BEC5",
                "#B0BEC5",
                "#B0BEC5",
                "#B0BEC5",
                "#B0BEC5",
                "red",
                "#B0BEC5",
                "#B0BEC5",
                "#B0BEC5",
                "#B0BEC5",
                "#B0BEC5",
                "#B0BEC5",
                "#B0BEC5",
                "#B0BEC5",
                "#B0BEC5",
                "#B0BEC5",
                "#B0BEC5",
                "#B0BEC5",
                "#B0BEC5",
                "#B0BEC5",
                "#B0BEC5",
                "#B0BEC5",
                "#B0BEC5",
                "#B0BEC5",
                "#B0BEC5",
                "#B0BEC5",
                "#B0BEC5",
                "#B0BEC5"
               ]
              ]
             }
            ],
            "label": "Topic 46",
            "method": "update"
           },
           {
            "args": [
             {
              "marker.color": [
               [
                "#B0BEC5",
                "#B0BEC5",
                "#B0BEC5",
                "#B0BEC5",
                "#B0BEC5",
                "#B0BEC5",
                "#B0BEC5",
                "#B0BEC5",
                "#B0BEC5",
                "#B0BEC5",
                "#B0BEC5",
                "#B0BEC5",
                "#B0BEC5",
                "#B0BEC5",
                "#B0BEC5",
                "#B0BEC5",
                "#B0BEC5",
                "#B0BEC5",
                "#B0BEC5",
                "#B0BEC5",
                "#B0BEC5",
                "#B0BEC5",
                "#B0BEC5",
                "#B0BEC5",
                "#B0BEC5",
                "#B0BEC5",
                "#B0BEC5",
                "#B0BEC5",
                "#B0BEC5",
                "#B0BEC5",
                "#B0BEC5",
                "#B0BEC5",
                "#B0BEC5",
                "#B0BEC5",
                "#B0BEC5",
                "#B0BEC5",
                "#B0BEC5",
                "#B0BEC5",
                "#B0BEC5",
                "#B0BEC5",
                "#B0BEC5",
                "#B0BEC5",
                "#B0BEC5",
                "#B0BEC5",
                "#B0BEC5",
                "#B0BEC5",
                "#B0BEC5",
                "red",
                "#B0BEC5",
                "#B0BEC5",
                "#B0BEC5",
                "#B0BEC5",
                "#B0BEC5",
                "#B0BEC5",
                "#B0BEC5",
                "#B0BEC5",
                "#B0BEC5",
                "#B0BEC5",
                "#B0BEC5",
                "#B0BEC5",
                "#B0BEC5",
                "#B0BEC5",
                "#B0BEC5",
                "#B0BEC5",
                "#B0BEC5",
                "#B0BEC5",
                "#B0BEC5",
                "#B0BEC5",
                "#B0BEC5"
               ]
              ]
             }
            ],
            "label": "Topic 47",
            "method": "update"
           },
           {
            "args": [
             {
              "marker.color": [
               [
                "#B0BEC5",
                "#B0BEC5",
                "#B0BEC5",
                "#B0BEC5",
                "#B0BEC5",
                "#B0BEC5",
                "#B0BEC5",
                "#B0BEC5",
                "#B0BEC5",
                "#B0BEC5",
                "#B0BEC5",
                "#B0BEC5",
                "#B0BEC5",
                "#B0BEC5",
                "#B0BEC5",
                "#B0BEC5",
                "#B0BEC5",
                "#B0BEC5",
                "#B0BEC5",
                "#B0BEC5",
                "#B0BEC5",
                "#B0BEC5",
                "#B0BEC5",
                "#B0BEC5",
                "#B0BEC5",
                "#B0BEC5",
                "#B0BEC5",
                "#B0BEC5",
                "#B0BEC5",
                "#B0BEC5",
                "#B0BEC5",
                "#B0BEC5",
                "#B0BEC5",
                "#B0BEC5",
                "#B0BEC5",
                "#B0BEC5",
                "#B0BEC5",
                "#B0BEC5",
                "#B0BEC5",
                "#B0BEC5",
                "#B0BEC5",
                "#B0BEC5",
                "#B0BEC5",
                "#B0BEC5",
                "#B0BEC5",
                "#B0BEC5",
                "#B0BEC5",
                "#B0BEC5",
                "red",
                "#B0BEC5",
                "#B0BEC5",
                "#B0BEC5",
                "#B0BEC5",
                "#B0BEC5",
                "#B0BEC5",
                "#B0BEC5",
                "#B0BEC5",
                "#B0BEC5",
                "#B0BEC5",
                "#B0BEC5",
                "#B0BEC5",
                "#B0BEC5",
                "#B0BEC5",
                "#B0BEC5",
                "#B0BEC5",
                "#B0BEC5",
                "#B0BEC5",
                "#B0BEC5",
                "#B0BEC5"
               ]
              ]
             }
            ],
            "label": "Topic 48",
            "method": "update"
           },
           {
            "args": [
             {
              "marker.color": [
               [
                "#B0BEC5",
                "#B0BEC5",
                "#B0BEC5",
                "#B0BEC5",
                "#B0BEC5",
                "#B0BEC5",
                "#B0BEC5",
                "#B0BEC5",
                "#B0BEC5",
                "#B0BEC5",
                "#B0BEC5",
                "#B0BEC5",
                "#B0BEC5",
                "#B0BEC5",
                "#B0BEC5",
                "#B0BEC5",
                "#B0BEC5",
                "#B0BEC5",
                "#B0BEC5",
                "#B0BEC5",
                "#B0BEC5",
                "#B0BEC5",
                "#B0BEC5",
                "#B0BEC5",
                "#B0BEC5",
                "#B0BEC5",
                "#B0BEC5",
                "#B0BEC5",
                "#B0BEC5",
                "#B0BEC5",
                "#B0BEC5",
                "#B0BEC5",
                "#B0BEC5",
                "#B0BEC5",
                "#B0BEC5",
                "#B0BEC5",
                "#B0BEC5",
                "#B0BEC5",
                "#B0BEC5",
                "#B0BEC5",
                "#B0BEC5",
                "#B0BEC5",
                "#B0BEC5",
                "#B0BEC5",
                "#B0BEC5",
                "#B0BEC5",
                "#B0BEC5",
                "#B0BEC5",
                "#B0BEC5",
                "red",
                "#B0BEC5",
                "#B0BEC5",
                "#B0BEC5",
                "#B0BEC5",
                "#B0BEC5",
                "#B0BEC5",
                "#B0BEC5",
                "#B0BEC5",
                "#B0BEC5",
                "#B0BEC5",
                "#B0BEC5",
                "#B0BEC5",
                "#B0BEC5",
                "#B0BEC5",
                "#B0BEC5",
                "#B0BEC5",
                "#B0BEC5",
                "#B0BEC5",
                "#B0BEC5"
               ]
              ]
             }
            ],
            "label": "Topic 49",
            "method": "update"
           },
           {
            "args": [
             {
              "marker.color": [
               [
                "#B0BEC5",
                "#B0BEC5",
                "#B0BEC5",
                "#B0BEC5",
                "#B0BEC5",
                "#B0BEC5",
                "#B0BEC5",
                "#B0BEC5",
                "#B0BEC5",
                "#B0BEC5",
                "#B0BEC5",
                "#B0BEC5",
                "#B0BEC5",
                "#B0BEC5",
                "#B0BEC5",
                "#B0BEC5",
                "#B0BEC5",
                "#B0BEC5",
                "#B0BEC5",
                "#B0BEC5",
                "#B0BEC5",
                "#B0BEC5",
                "#B0BEC5",
                "#B0BEC5",
                "#B0BEC5",
                "#B0BEC5",
                "#B0BEC5",
                "#B0BEC5",
                "#B0BEC5",
                "#B0BEC5",
                "#B0BEC5",
                "#B0BEC5",
                "#B0BEC5",
                "#B0BEC5",
                "#B0BEC5",
                "#B0BEC5",
                "#B0BEC5",
                "#B0BEC5",
                "#B0BEC5",
                "#B0BEC5",
                "#B0BEC5",
                "#B0BEC5",
                "#B0BEC5",
                "#B0BEC5",
                "#B0BEC5",
                "#B0BEC5",
                "#B0BEC5",
                "#B0BEC5",
                "#B0BEC5",
                "#B0BEC5",
                "red",
                "#B0BEC5",
                "#B0BEC5",
                "#B0BEC5",
                "#B0BEC5",
                "#B0BEC5",
                "#B0BEC5",
                "#B0BEC5",
                "#B0BEC5",
                "#B0BEC5",
                "#B0BEC5",
                "#B0BEC5",
                "#B0BEC5",
                "#B0BEC5",
                "#B0BEC5",
                "#B0BEC5",
                "#B0BEC5",
                "#B0BEC5",
                "#B0BEC5"
               ]
              ]
             }
            ],
            "label": "Topic 50",
            "method": "update"
           },
           {
            "args": [
             {
              "marker.color": [
               [
                "#B0BEC5",
                "#B0BEC5",
                "#B0BEC5",
                "#B0BEC5",
                "#B0BEC5",
                "#B0BEC5",
                "#B0BEC5",
                "#B0BEC5",
                "#B0BEC5",
                "#B0BEC5",
                "#B0BEC5",
                "#B0BEC5",
                "#B0BEC5",
                "#B0BEC5",
                "#B0BEC5",
                "#B0BEC5",
                "#B0BEC5",
                "#B0BEC5",
                "#B0BEC5",
                "#B0BEC5",
                "#B0BEC5",
                "#B0BEC5",
                "#B0BEC5",
                "#B0BEC5",
                "#B0BEC5",
                "#B0BEC5",
                "#B0BEC5",
                "#B0BEC5",
                "#B0BEC5",
                "#B0BEC5",
                "#B0BEC5",
                "#B0BEC5",
                "#B0BEC5",
                "#B0BEC5",
                "#B0BEC5",
                "#B0BEC5",
                "#B0BEC5",
                "#B0BEC5",
                "#B0BEC5",
                "#B0BEC5",
                "#B0BEC5",
                "#B0BEC5",
                "#B0BEC5",
                "#B0BEC5",
                "#B0BEC5",
                "#B0BEC5",
                "#B0BEC5",
                "#B0BEC5",
                "#B0BEC5",
                "#B0BEC5",
                "#B0BEC5",
                "red",
                "#B0BEC5",
                "#B0BEC5",
                "#B0BEC5",
                "#B0BEC5",
                "#B0BEC5",
                "#B0BEC5",
                "#B0BEC5",
                "#B0BEC5",
                "#B0BEC5",
                "#B0BEC5",
                "#B0BEC5",
                "#B0BEC5",
                "#B0BEC5",
                "#B0BEC5",
                "#B0BEC5",
                "#B0BEC5",
                "#B0BEC5"
               ]
              ]
             }
            ],
            "label": "Topic 51",
            "method": "update"
           },
           {
            "args": [
             {
              "marker.color": [
               [
                "#B0BEC5",
                "#B0BEC5",
                "#B0BEC5",
                "#B0BEC5",
                "#B0BEC5",
                "#B0BEC5",
                "#B0BEC5",
                "#B0BEC5",
                "#B0BEC5",
                "#B0BEC5",
                "#B0BEC5",
                "#B0BEC5",
                "#B0BEC5",
                "#B0BEC5",
                "#B0BEC5",
                "#B0BEC5",
                "#B0BEC5",
                "#B0BEC5",
                "#B0BEC5",
                "#B0BEC5",
                "#B0BEC5",
                "#B0BEC5",
                "#B0BEC5",
                "#B0BEC5",
                "#B0BEC5",
                "#B0BEC5",
                "#B0BEC5",
                "#B0BEC5",
                "#B0BEC5",
                "#B0BEC5",
                "#B0BEC5",
                "#B0BEC5",
                "#B0BEC5",
                "#B0BEC5",
                "#B0BEC5",
                "#B0BEC5",
                "#B0BEC5",
                "#B0BEC5",
                "#B0BEC5",
                "#B0BEC5",
                "#B0BEC5",
                "#B0BEC5",
                "#B0BEC5",
                "#B0BEC5",
                "#B0BEC5",
                "#B0BEC5",
                "#B0BEC5",
                "#B0BEC5",
                "#B0BEC5",
                "#B0BEC5",
                "#B0BEC5",
                "#B0BEC5",
                "red",
                "#B0BEC5",
                "#B0BEC5",
                "#B0BEC5",
                "#B0BEC5",
                "#B0BEC5",
                "#B0BEC5",
                "#B0BEC5",
                "#B0BEC5",
                "#B0BEC5",
                "#B0BEC5",
                "#B0BEC5",
                "#B0BEC5",
                "#B0BEC5",
                "#B0BEC5",
                "#B0BEC5",
                "#B0BEC5"
               ]
              ]
             }
            ],
            "label": "Topic 52",
            "method": "update"
           },
           {
            "args": [
             {
              "marker.color": [
               [
                "#B0BEC5",
                "#B0BEC5",
                "#B0BEC5",
                "#B0BEC5",
                "#B0BEC5",
                "#B0BEC5",
                "#B0BEC5",
                "#B0BEC5",
                "#B0BEC5",
                "#B0BEC5",
                "#B0BEC5",
                "#B0BEC5",
                "#B0BEC5",
                "#B0BEC5",
                "#B0BEC5",
                "#B0BEC5",
                "#B0BEC5",
                "#B0BEC5",
                "#B0BEC5",
                "#B0BEC5",
                "#B0BEC5",
                "#B0BEC5",
                "#B0BEC5",
                "#B0BEC5",
                "#B0BEC5",
                "#B0BEC5",
                "#B0BEC5",
                "#B0BEC5",
                "#B0BEC5",
                "#B0BEC5",
                "#B0BEC5",
                "#B0BEC5",
                "#B0BEC5",
                "#B0BEC5",
                "#B0BEC5",
                "#B0BEC5",
                "#B0BEC5",
                "#B0BEC5",
                "#B0BEC5",
                "#B0BEC5",
                "#B0BEC5",
                "#B0BEC5",
                "#B0BEC5",
                "#B0BEC5",
                "#B0BEC5",
                "#B0BEC5",
                "#B0BEC5",
                "#B0BEC5",
                "#B0BEC5",
                "#B0BEC5",
                "#B0BEC5",
                "#B0BEC5",
                "#B0BEC5",
                "red",
                "#B0BEC5",
                "#B0BEC5",
                "#B0BEC5",
                "#B0BEC5",
                "#B0BEC5",
                "#B0BEC5",
                "#B0BEC5",
                "#B0BEC5",
                "#B0BEC5",
                "#B0BEC5",
                "#B0BEC5",
                "#B0BEC5",
                "#B0BEC5",
                "#B0BEC5",
                "#B0BEC5"
               ]
              ]
             }
            ],
            "label": "Topic 53",
            "method": "update"
           },
           {
            "args": [
             {
              "marker.color": [
               [
                "#B0BEC5",
                "#B0BEC5",
                "#B0BEC5",
                "#B0BEC5",
                "#B0BEC5",
                "#B0BEC5",
                "#B0BEC5",
                "#B0BEC5",
                "#B0BEC5",
                "#B0BEC5",
                "#B0BEC5",
                "#B0BEC5",
                "#B0BEC5",
                "#B0BEC5",
                "#B0BEC5",
                "#B0BEC5",
                "#B0BEC5",
                "#B0BEC5",
                "#B0BEC5",
                "#B0BEC5",
                "#B0BEC5",
                "#B0BEC5",
                "#B0BEC5",
                "#B0BEC5",
                "#B0BEC5",
                "#B0BEC5",
                "#B0BEC5",
                "#B0BEC5",
                "#B0BEC5",
                "#B0BEC5",
                "#B0BEC5",
                "#B0BEC5",
                "#B0BEC5",
                "#B0BEC5",
                "#B0BEC5",
                "#B0BEC5",
                "#B0BEC5",
                "#B0BEC5",
                "#B0BEC5",
                "#B0BEC5",
                "#B0BEC5",
                "#B0BEC5",
                "#B0BEC5",
                "#B0BEC5",
                "#B0BEC5",
                "#B0BEC5",
                "#B0BEC5",
                "#B0BEC5",
                "#B0BEC5",
                "#B0BEC5",
                "#B0BEC5",
                "#B0BEC5",
                "#B0BEC5",
                "#B0BEC5",
                "red",
                "#B0BEC5",
                "#B0BEC5",
                "#B0BEC5",
                "#B0BEC5",
                "#B0BEC5",
                "#B0BEC5",
                "#B0BEC5",
                "#B0BEC5",
                "#B0BEC5",
                "#B0BEC5",
                "#B0BEC5",
                "#B0BEC5",
                "#B0BEC5",
                "#B0BEC5"
               ]
              ]
             }
            ],
            "label": "Topic 54",
            "method": "update"
           },
           {
            "args": [
             {
              "marker.color": [
               [
                "#B0BEC5",
                "#B0BEC5",
                "#B0BEC5",
                "#B0BEC5",
                "#B0BEC5",
                "#B0BEC5",
                "#B0BEC5",
                "#B0BEC5",
                "#B0BEC5",
                "#B0BEC5",
                "#B0BEC5",
                "#B0BEC5",
                "#B0BEC5",
                "#B0BEC5",
                "#B0BEC5",
                "#B0BEC5",
                "#B0BEC5",
                "#B0BEC5",
                "#B0BEC5",
                "#B0BEC5",
                "#B0BEC5",
                "#B0BEC5",
                "#B0BEC5",
                "#B0BEC5",
                "#B0BEC5",
                "#B0BEC5",
                "#B0BEC5",
                "#B0BEC5",
                "#B0BEC5",
                "#B0BEC5",
                "#B0BEC5",
                "#B0BEC5",
                "#B0BEC5",
                "#B0BEC5",
                "#B0BEC5",
                "#B0BEC5",
                "#B0BEC5",
                "#B0BEC5",
                "#B0BEC5",
                "#B0BEC5",
                "#B0BEC5",
                "#B0BEC5",
                "#B0BEC5",
                "#B0BEC5",
                "#B0BEC5",
                "#B0BEC5",
                "#B0BEC5",
                "#B0BEC5",
                "#B0BEC5",
                "#B0BEC5",
                "#B0BEC5",
                "#B0BEC5",
                "#B0BEC5",
                "#B0BEC5",
                "#B0BEC5",
                "red",
                "#B0BEC5",
                "#B0BEC5",
                "#B0BEC5",
                "#B0BEC5",
                "#B0BEC5",
                "#B0BEC5",
                "#B0BEC5",
                "#B0BEC5",
                "#B0BEC5",
                "#B0BEC5",
                "#B0BEC5",
                "#B0BEC5",
                "#B0BEC5"
               ]
              ]
             }
            ],
            "label": "Topic 55",
            "method": "update"
           },
           {
            "args": [
             {
              "marker.color": [
               [
                "#B0BEC5",
                "#B0BEC5",
                "#B0BEC5",
                "#B0BEC5",
                "#B0BEC5",
                "#B0BEC5",
                "#B0BEC5",
                "#B0BEC5",
                "#B0BEC5",
                "#B0BEC5",
                "#B0BEC5",
                "#B0BEC5",
                "#B0BEC5",
                "#B0BEC5",
                "#B0BEC5",
                "#B0BEC5",
                "#B0BEC5",
                "#B0BEC5",
                "#B0BEC5",
                "#B0BEC5",
                "#B0BEC5",
                "#B0BEC5",
                "#B0BEC5",
                "#B0BEC5",
                "#B0BEC5",
                "#B0BEC5",
                "#B0BEC5",
                "#B0BEC5",
                "#B0BEC5",
                "#B0BEC5",
                "#B0BEC5",
                "#B0BEC5",
                "#B0BEC5",
                "#B0BEC5",
                "#B0BEC5",
                "#B0BEC5",
                "#B0BEC5",
                "#B0BEC5",
                "#B0BEC5",
                "#B0BEC5",
                "#B0BEC5",
                "#B0BEC5",
                "#B0BEC5",
                "#B0BEC5",
                "#B0BEC5",
                "#B0BEC5",
                "#B0BEC5",
                "#B0BEC5",
                "#B0BEC5",
                "#B0BEC5",
                "#B0BEC5",
                "#B0BEC5",
                "#B0BEC5",
                "#B0BEC5",
                "#B0BEC5",
                "#B0BEC5",
                "red",
                "#B0BEC5",
                "#B0BEC5",
                "#B0BEC5",
                "#B0BEC5",
                "#B0BEC5",
                "#B0BEC5",
                "#B0BEC5",
                "#B0BEC5",
                "#B0BEC5",
                "#B0BEC5",
                "#B0BEC5",
                "#B0BEC5"
               ]
              ]
             }
            ],
            "label": "Topic 56",
            "method": "update"
           },
           {
            "args": [
             {
              "marker.color": [
               [
                "#B0BEC5",
                "#B0BEC5",
                "#B0BEC5",
                "#B0BEC5",
                "#B0BEC5",
                "#B0BEC5",
                "#B0BEC5",
                "#B0BEC5",
                "#B0BEC5",
                "#B0BEC5",
                "#B0BEC5",
                "#B0BEC5",
                "#B0BEC5",
                "#B0BEC5",
                "#B0BEC5",
                "#B0BEC5",
                "#B0BEC5",
                "#B0BEC5",
                "#B0BEC5",
                "#B0BEC5",
                "#B0BEC5",
                "#B0BEC5",
                "#B0BEC5",
                "#B0BEC5",
                "#B0BEC5",
                "#B0BEC5",
                "#B0BEC5",
                "#B0BEC5",
                "#B0BEC5",
                "#B0BEC5",
                "#B0BEC5",
                "#B0BEC5",
                "#B0BEC5",
                "#B0BEC5",
                "#B0BEC5",
                "#B0BEC5",
                "#B0BEC5",
                "#B0BEC5",
                "#B0BEC5",
                "#B0BEC5",
                "#B0BEC5",
                "#B0BEC5",
                "#B0BEC5",
                "#B0BEC5",
                "#B0BEC5",
                "#B0BEC5",
                "#B0BEC5",
                "#B0BEC5",
                "#B0BEC5",
                "#B0BEC5",
                "#B0BEC5",
                "#B0BEC5",
                "#B0BEC5",
                "#B0BEC5",
                "#B0BEC5",
                "#B0BEC5",
                "#B0BEC5",
                "red",
                "#B0BEC5",
                "#B0BEC5",
                "#B0BEC5",
                "#B0BEC5",
                "#B0BEC5",
                "#B0BEC5",
                "#B0BEC5",
                "#B0BEC5",
                "#B0BEC5",
                "#B0BEC5",
                "#B0BEC5"
               ]
              ]
             }
            ],
            "label": "Topic 57",
            "method": "update"
           },
           {
            "args": [
             {
              "marker.color": [
               [
                "#B0BEC5",
                "#B0BEC5",
                "#B0BEC5",
                "#B0BEC5",
                "#B0BEC5",
                "#B0BEC5",
                "#B0BEC5",
                "#B0BEC5",
                "#B0BEC5",
                "#B0BEC5",
                "#B0BEC5",
                "#B0BEC5",
                "#B0BEC5",
                "#B0BEC5",
                "#B0BEC5",
                "#B0BEC5",
                "#B0BEC5",
                "#B0BEC5",
                "#B0BEC5",
                "#B0BEC5",
                "#B0BEC5",
                "#B0BEC5",
                "#B0BEC5",
                "#B0BEC5",
                "#B0BEC5",
                "#B0BEC5",
                "#B0BEC5",
                "#B0BEC5",
                "#B0BEC5",
                "#B0BEC5",
                "#B0BEC5",
                "#B0BEC5",
                "#B0BEC5",
                "#B0BEC5",
                "#B0BEC5",
                "#B0BEC5",
                "#B0BEC5",
                "#B0BEC5",
                "#B0BEC5",
                "#B0BEC5",
                "#B0BEC5",
                "#B0BEC5",
                "#B0BEC5",
                "#B0BEC5",
                "#B0BEC5",
                "#B0BEC5",
                "#B0BEC5",
                "#B0BEC5",
                "#B0BEC5",
                "#B0BEC5",
                "#B0BEC5",
                "#B0BEC5",
                "#B0BEC5",
                "#B0BEC5",
                "#B0BEC5",
                "#B0BEC5",
                "#B0BEC5",
                "#B0BEC5",
                "red",
                "#B0BEC5",
                "#B0BEC5",
                "#B0BEC5",
                "#B0BEC5",
                "#B0BEC5",
                "#B0BEC5",
                "#B0BEC5",
                "#B0BEC5",
                "#B0BEC5",
                "#B0BEC5"
               ]
              ]
             }
            ],
            "label": "Topic 58",
            "method": "update"
           },
           {
            "args": [
             {
              "marker.color": [
               [
                "#B0BEC5",
                "#B0BEC5",
                "#B0BEC5",
                "#B0BEC5",
                "#B0BEC5",
                "#B0BEC5",
                "#B0BEC5",
                "#B0BEC5",
                "#B0BEC5",
                "#B0BEC5",
                "#B0BEC5",
                "#B0BEC5",
                "#B0BEC5",
                "#B0BEC5",
                "#B0BEC5",
                "#B0BEC5",
                "#B0BEC5",
                "#B0BEC5",
                "#B0BEC5",
                "#B0BEC5",
                "#B0BEC5",
                "#B0BEC5",
                "#B0BEC5",
                "#B0BEC5",
                "#B0BEC5",
                "#B0BEC5",
                "#B0BEC5",
                "#B0BEC5",
                "#B0BEC5",
                "#B0BEC5",
                "#B0BEC5",
                "#B0BEC5",
                "#B0BEC5",
                "#B0BEC5",
                "#B0BEC5",
                "#B0BEC5",
                "#B0BEC5",
                "#B0BEC5",
                "#B0BEC5",
                "#B0BEC5",
                "#B0BEC5",
                "#B0BEC5",
                "#B0BEC5",
                "#B0BEC5",
                "#B0BEC5",
                "#B0BEC5",
                "#B0BEC5",
                "#B0BEC5",
                "#B0BEC5",
                "#B0BEC5",
                "#B0BEC5",
                "#B0BEC5",
                "#B0BEC5",
                "#B0BEC5",
                "#B0BEC5",
                "#B0BEC5",
                "#B0BEC5",
                "#B0BEC5",
                "#B0BEC5",
                "red",
                "#B0BEC5",
                "#B0BEC5",
                "#B0BEC5",
                "#B0BEC5",
                "#B0BEC5",
                "#B0BEC5",
                "#B0BEC5",
                "#B0BEC5",
                "#B0BEC5"
               ]
              ]
             }
            ],
            "label": "Topic 59",
            "method": "update"
           },
           {
            "args": [
             {
              "marker.color": [
               [
                "#B0BEC5",
                "#B0BEC5",
                "#B0BEC5",
                "#B0BEC5",
                "#B0BEC5",
                "#B0BEC5",
                "#B0BEC5",
                "#B0BEC5",
                "#B0BEC5",
                "#B0BEC5",
                "#B0BEC5",
                "#B0BEC5",
                "#B0BEC5",
                "#B0BEC5",
                "#B0BEC5",
                "#B0BEC5",
                "#B0BEC5",
                "#B0BEC5",
                "#B0BEC5",
                "#B0BEC5",
                "#B0BEC5",
                "#B0BEC5",
                "#B0BEC5",
                "#B0BEC5",
                "#B0BEC5",
                "#B0BEC5",
                "#B0BEC5",
                "#B0BEC5",
                "#B0BEC5",
                "#B0BEC5",
                "#B0BEC5",
                "#B0BEC5",
                "#B0BEC5",
                "#B0BEC5",
                "#B0BEC5",
                "#B0BEC5",
                "#B0BEC5",
                "#B0BEC5",
                "#B0BEC5",
                "#B0BEC5",
                "#B0BEC5",
                "#B0BEC5",
                "#B0BEC5",
                "#B0BEC5",
                "#B0BEC5",
                "#B0BEC5",
                "#B0BEC5",
                "#B0BEC5",
                "#B0BEC5",
                "#B0BEC5",
                "#B0BEC5",
                "#B0BEC5",
                "#B0BEC5",
                "#B0BEC5",
                "#B0BEC5",
                "#B0BEC5",
                "#B0BEC5",
                "#B0BEC5",
                "#B0BEC5",
                "#B0BEC5",
                "red",
                "#B0BEC5",
                "#B0BEC5",
                "#B0BEC5",
                "#B0BEC5",
                "#B0BEC5",
                "#B0BEC5",
                "#B0BEC5",
                "#B0BEC5"
               ]
              ]
             }
            ],
            "label": "Topic 60",
            "method": "update"
           },
           {
            "args": [
             {
              "marker.color": [
               [
                "#B0BEC5",
                "#B0BEC5",
                "#B0BEC5",
                "#B0BEC5",
                "#B0BEC5",
                "#B0BEC5",
                "#B0BEC5",
                "#B0BEC5",
                "#B0BEC5",
                "#B0BEC5",
                "#B0BEC5",
                "#B0BEC5",
                "#B0BEC5",
                "#B0BEC5",
                "#B0BEC5",
                "#B0BEC5",
                "#B0BEC5",
                "#B0BEC5",
                "#B0BEC5",
                "#B0BEC5",
                "#B0BEC5",
                "#B0BEC5",
                "#B0BEC5",
                "#B0BEC5",
                "#B0BEC5",
                "#B0BEC5",
                "#B0BEC5",
                "#B0BEC5",
                "#B0BEC5",
                "#B0BEC5",
                "#B0BEC5",
                "#B0BEC5",
                "#B0BEC5",
                "#B0BEC5",
                "#B0BEC5",
                "#B0BEC5",
                "#B0BEC5",
                "#B0BEC5",
                "#B0BEC5",
                "#B0BEC5",
                "#B0BEC5",
                "#B0BEC5",
                "#B0BEC5",
                "#B0BEC5",
                "#B0BEC5",
                "#B0BEC5",
                "#B0BEC5",
                "#B0BEC5",
                "#B0BEC5",
                "#B0BEC5",
                "#B0BEC5",
                "#B0BEC5",
                "#B0BEC5",
                "#B0BEC5",
                "#B0BEC5",
                "#B0BEC5",
                "#B0BEC5",
                "#B0BEC5",
                "#B0BEC5",
                "#B0BEC5",
                "#B0BEC5",
                "red",
                "#B0BEC5",
                "#B0BEC5",
                "#B0BEC5",
                "#B0BEC5",
                "#B0BEC5",
                "#B0BEC5",
                "#B0BEC5"
               ]
              ]
             }
            ],
            "label": "Topic 61",
            "method": "update"
           },
           {
            "args": [
             {
              "marker.color": [
               [
                "#B0BEC5",
                "#B0BEC5",
                "#B0BEC5",
                "#B0BEC5",
                "#B0BEC5",
                "#B0BEC5",
                "#B0BEC5",
                "#B0BEC5",
                "#B0BEC5",
                "#B0BEC5",
                "#B0BEC5",
                "#B0BEC5",
                "#B0BEC5",
                "#B0BEC5",
                "#B0BEC5",
                "#B0BEC5",
                "#B0BEC5",
                "#B0BEC5",
                "#B0BEC5",
                "#B0BEC5",
                "#B0BEC5",
                "#B0BEC5",
                "#B0BEC5",
                "#B0BEC5",
                "#B0BEC5",
                "#B0BEC5",
                "#B0BEC5",
                "#B0BEC5",
                "#B0BEC5",
                "#B0BEC5",
                "#B0BEC5",
                "#B0BEC5",
                "#B0BEC5",
                "#B0BEC5",
                "#B0BEC5",
                "#B0BEC5",
                "#B0BEC5",
                "#B0BEC5",
                "#B0BEC5",
                "#B0BEC5",
                "#B0BEC5",
                "#B0BEC5",
                "#B0BEC5",
                "#B0BEC5",
                "#B0BEC5",
                "#B0BEC5",
                "#B0BEC5",
                "#B0BEC5",
                "#B0BEC5",
                "#B0BEC5",
                "#B0BEC5",
                "#B0BEC5",
                "#B0BEC5",
                "#B0BEC5",
                "#B0BEC5",
                "#B0BEC5",
                "#B0BEC5",
                "#B0BEC5",
                "#B0BEC5",
                "#B0BEC5",
                "#B0BEC5",
                "#B0BEC5",
                "red",
                "#B0BEC5",
                "#B0BEC5",
                "#B0BEC5",
                "#B0BEC5",
                "#B0BEC5",
                "#B0BEC5"
               ]
              ]
             }
            ],
            "label": "Topic 62",
            "method": "update"
           },
           {
            "args": [
             {
              "marker.color": [
               [
                "#B0BEC5",
                "#B0BEC5",
                "#B0BEC5",
                "#B0BEC5",
                "#B0BEC5",
                "#B0BEC5",
                "#B0BEC5",
                "#B0BEC5",
                "#B0BEC5",
                "#B0BEC5",
                "#B0BEC5",
                "#B0BEC5",
                "#B0BEC5",
                "#B0BEC5",
                "#B0BEC5",
                "#B0BEC5",
                "#B0BEC5",
                "#B0BEC5",
                "#B0BEC5",
                "#B0BEC5",
                "#B0BEC5",
                "#B0BEC5",
                "#B0BEC5",
                "#B0BEC5",
                "#B0BEC5",
                "#B0BEC5",
                "#B0BEC5",
                "#B0BEC5",
                "#B0BEC5",
                "#B0BEC5",
                "#B0BEC5",
                "#B0BEC5",
                "#B0BEC5",
                "#B0BEC5",
                "#B0BEC5",
                "#B0BEC5",
                "#B0BEC5",
                "#B0BEC5",
                "#B0BEC5",
                "#B0BEC5",
                "#B0BEC5",
                "#B0BEC5",
                "#B0BEC5",
                "#B0BEC5",
                "#B0BEC5",
                "#B0BEC5",
                "#B0BEC5",
                "#B0BEC5",
                "#B0BEC5",
                "#B0BEC5",
                "#B0BEC5",
                "#B0BEC5",
                "#B0BEC5",
                "#B0BEC5",
                "#B0BEC5",
                "#B0BEC5",
                "#B0BEC5",
                "#B0BEC5",
                "#B0BEC5",
                "#B0BEC5",
                "#B0BEC5",
                "#B0BEC5",
                "#B0BEC5",
                "red",
                "#B0BEC5",
                "#B0BEC5",
                "#B0BEC5",
                "#B0BEC5",
                "#B0BEC5"
               ]
              ]
             }
            ],
            "label": "Topic 63",
            "method": "update"
           },
           {
            "args": [
             {
              "marker.color": [
               [
                "#B0BEC5",
                "#B0BEC5",
                "#B0BEC5",
                "#B0BEC5",
                "#B0BEC5",
                "#B0BEC5",
                "#B0BEC5",
                "#B0BEC5",
                "#B0BEC5",
                "#B0BEC5",
                "#B0BEC5",
                "#B0BEC5",
                "#B0BEC5",
                "#B0BEC5",
                "#B0BEC5",
                "#B0BEC5",
                "#B0BEC5",
                "#B0BEC5",
                "#B0BEC5",
                "#B0BEC5",
                "#B0BEC5",
                "#B0BEC5",
                "#B0BEC5",
                "#B0BEC5",
                "#B0BEC5",
                "#B0BEC5",
                "#B0BEC5",
                "#B0BEC5",
                "#B0BEC5",
                "#B0BEC5",
                "#B0BEC5",
                "#B0BEC5",
                "#B0BEC5",
                "#B0BEC5",
                "#B0BEC5",
                "#B0BEC5",
                "#B0BEC5",
                "#B0BEC5",
                "#B0BEC5",
                "#B0BEC5",
                "#B0BEC5",
                "#B0BEC5",
                "#B0BEC5",
                "#B0BEC5",
                "#B0BEC5",
                "#B0BEC5",
                "#B0BEC5",
                "#B0BEC5",
                "#B0BEC5",
                "#B0BEC5",
                "#B0BEC5",
                "#B0BEC5",
                "#B0BEC5",
                "#B0BEC5",
                "#B0BEC5",
                "#B0BEC5",
                "#B0BEC5",
                "#B0BEC5",
                "#B0BEC5",
                "#B0BEC5",
                "#B0BEC5",
                "#B0BEC5",
                "#B0BEC5",
                "#B0BEC5",
                "red",
                "#B0BEC5",
                "#B0BEC5",
                "#B0BEC5",
                "#B0BEC5"
               ]
              ]
             }
            ],
            "label": "Topic 64",
            "method": "update"
           },
           {
            "args": [
             {
              "marker.color": [
               [
                "#B0BEC5",
                "#B0BEC5",
                "#B0BEC5",
                "#B0BEC5",
                "#B0BEC5",
                "#B0BEC5",
                "#B0BEC5",
                "#B0BEC5",
                "#B0BEC5",
                "#B0BEC5",
                "#B0BEC5",
                "#B0BEC5",
                "#B0BEC5",
                "#B0BEC5",
                "#B0BEC5",
                "#B0BEC5",
                "#B0BEC5",
                "#B0BEC5",
                "#B0BEC5",
                "#B0BEC5",
                "#B0BEC5",
                "#B0BEC5",
                "#B0BEC5",
                "#B0BEC5",
                "#B0BEC5",
                "#B0BEC5",
                "#B0BEC5",
                "#B0BEC5",
                "#B0BEC5",
                "#B0BEC5",
                "#B0BEC5",
                "#B0BEC5",
                "#B0BEC5",
                "#B0BEC5",
                "#B0BEC5",
                "#B0BEC5",
                "#B0BEC5",
                "#B0BEC5",
                "#B0BEC5",
                "#B0BEC5",
                "#B0BEC5",
                "#B0BEC5",
                "#B0BEC5",
                "#B0BEC5",
                "#B0BEC5",
                "#B0BEC5",
                "#B0BEC5",
                "#B0BEC5",
                "#B0BEC5",
                "#B0BEC5",
                "#B0BEC5",
                "#B0BEC5",
                "#B0BEC5",
                "#B0BEC5",
                "#B0BEC5",
                "#B0BEC5",
                "#B0BEC5",
                "#B0BEC5",
                "#B0BEC5",
                "#B0BEC5",
                "#B0BEC5",
                "#B0BEC5",
                "#B0BEC5",
                "#B0BEC5",
                "#B0BEC5",
                "red",
                "#B0BEC5",
                "#B0BEC5",
                "#B0BEC5"
               ]
              ]
             }
            ],
            "label": "Topic 65",
            "method": "update"
           },
           {
            "args": [
             {
              "marker.color": [
               [
                "#B0BEC5",
                "#B0BEC5",
                "#B0BEC5",
                "#B0BEC5",
                "#B0BEC5",
                "#B0BEC5",
                "#B0BEC5",
                "#B0BEC5",
                "#B0BEC5",
                "#B0BEC5",
                "#B0BEC5",
                "#B0BEC5",
                "#B0BEC5",
                "#B0BEC5",
                "#B0BEC5",
                "#B0BEC5",
                "#B0BEC5",
                "#B0BEC5",
                "#B0BEC5",
                "#B0BEC5",
                "#B0BEC5",
                "#B0BEC5",
                "#B0BEC5",
                "#B0BEC5",
                "#B0BEC5",
                "#B0BEC5",
                "#B0BEC5",
                "#B0BEC5",
                "#B0BEC5",
                "#B0BEC5",
                "#B0BEC5",
                "#B0BEC5",
                "#B0BEC5",
                "#B0BEC5",
                "#B0BEC5",
                "#B0BEC5",
                "#B0BEC5",
                "#B0BEC5",
                "#B0BEC5",
                "#B0BEC5",
                "#B0BEC5",
                "#B0BEC5",
                "#B0BEC5",
                "#B0BEC5",
                "#B0BEC5",
                "#B0BEC5",
                "#B0BEC5",
                "#B0BEC5",
                "#B0BEC5",
                "#B0BEC5",
                "#B0BEC5",
                "#B0BEC5",
                "#B0BEC5",
                "#B0BEC5",
                "#B0BEC5",
                "#B0BEC5",
                "#B0BEC5",
                "#B0BEC5",
                "#B0BEC5",
                "#B0BEC5",
                "#B0BEC5",
                "#B0BEC5",
                "#B0BEC5",
                "#B0BEC5",
                "#B0BEC5",
                "#B0BEC5",
                "red",
                "#B0BEC5",
                "#B0BEC5"
               ]
              ]
             }
            ],
            "label": "Topic 66",
            "method": "update"
           },
           {
            "args": [
             {
              "marker.color": [
               [
                "#B0BEC5",
                "#B0BEC5",
                "#B0BEC5",
                "#B0BEC5",
                "#B0BEC5",
                "#B0BEC5",
                "#B0BEC5",
                "#B0BEC5",
                "#B0BEC5",
                "#B0BEC5",
                "#B0BEC5",
                "#B0BEC5",
                "#B0BEC5",
                "#B0BEC5",
                "#B0BEC5",
                "#B0BEC5",
                "#B0BEC5",
                "#B0BEC5",
                "#B0BEC5",
                "#B0BEC5",
                "#B0BEC5",
                "#B0BEC5",
                "#B0BEC5",
                "#B0BEC5",
                "#B0BEC5",
                "#B0BEC5",
                "#B0BEC5",
                "#B0BEC5",
                "#B0BEC5",
                "#B0BEC5",
                "#B0BEC5",
                "#B0BEC5",
                "#B0BEC5",
                "#B0BEC5",
                "#B0BEC5",
                "#B0BEC5",
                "#B0BEC5",
                "#B0BEC5",
                "#B0BEC5",
                "#B0BEC5",
                "#B0BEC5",
                "#B0BEC5",
                "#B0BEC5",
                "#B0BEC5",
                "#B0BEC5",
                "#B0BEC5",
                "#B0BEC5",
                "#B0BEC5",
                "#B0BEC5",
                "#B0BEC5",
                "#B0BEC5",
                "#B0BEC5",
                "#B0BEC5",
                "#B0BEC5",
                "#B0BEC5",
                "#B0BEC5",
                "#B0BEC5",
                "#B0BEC5",
                "#B0BEC5",
                "#B0BEC5",
                "#B0BEC5",
                "#B0BEC5",
                "#B0BEC5",
                "#B0BEC5",
                "#B0BEC5",
                "#B0BEC5",
                "#B0BEC5",
                "red",
                "#B0BEC5"
               ]
              ]
             }
            ],
            "label": "Topic 67",
            "method": "update"
           },
           {
            "args": [
             {
              "marker.color": [
               [
                "#B0BEC5",
                "#B0BEC5",
                "#B0BEC5",
                "#B0BEC5",
                "#B0BEC5",
                "#B0BEC5",
                "#B0BEC5",
                "#B0BEC5",
                "#B0BEC5",
                "#B0BEC5",
                "#B0BEC5",
                "#B0BEC5",
                "#B0BEC5",
                "#B0BEC5",
                "#B0BEC5",
                "#B0BEC5",
                "#B0BEC5",
                "#B0BEC5",
                "#B0BEC5",
                "#B0BEC5",
                "#B0BEC5",
                "#B0BEC5",
                "#B0BEC5",
                "#B0BEC5",
                "#B0BEC5",
                "#B0BEC5",
                "#B0BEC5",
                "#B0BEC5",
                "#B0BEC5",
                "#B0BEC5",
                "#B0BEC5",
                "#B0BEC5",
                "#B0BEC5",
                "#B0BEC5",
                "#B0BEC5",
                "#B0BEC5",
                "#B0BEC5",
                "#B0BEC5",
                "#B0BEC5",
                "#B0BEC5",
                "#B0BEC5",
                "#B0BEC5",
                "#B0BEC5",
                "#B0BEC5",
                "#B0BEC5",
                "#B0BEC5",
                "#B0BEC5",
                "#B0BEC5",
                "#B0BEC5",
                "#B0BEC5",
                "#B0BEC5",
                "#B0BEC5",
                "#B0BEC5",
                "#B0BEC5",
                "#B0BEC5",
                "#B0BEC5",
                "#B0BEC5",
                "#B0BEC5",
                "#B0BEC5",
                "#B0BEC5",
                "#B0BEC5",
                "#B0BEC5",
                "#B0BEC5",
                "#B0BEC5",
                "#B0BEC5",
                "#B0BEC5",
                "#B0BEC5",
                "#B0BEC5",
                "red"
               ]
              ]
             }
            ],
            "label": "Topic 68",
            "method": "update"
           }
          ]
         }
        ],
        "template": {
         "data": {
          "bar": [
           {
            "error_x": {
             "color": "rgb(36,36,36)"
            },
            "error_y": {
             "color": "rgb(36,36,36)"
            },
            "marker": {
             "line": {
              "color": "white",
              "width": 0.5
             },
             "pattern": {
              "fillmode": "overlay",
              "size": 10,
              "solidity": 0.2
             }
            },
            "type": "bar"
           }
          ],
          "barpolar": [
           {
            "marker": {
             "line": {
              "color": "white",
              "width": 0.5
             },
             "pattern": {
              "fillmode": "overlay",
              "size": 10,
              "solidity": 0.2
             }
            },
            "type": "barpolar"
           }
          ],
          "carpet": [
           {
            "aaxis": {
             "endlinecolor": "rgb(36,36,36)",
             "gridcolor": "white",
             "linecolor": "white",
             "minorgridcolor": "white",
             "startlinecolor": "rgb(36,36,36)"
            },
            "baxis": {
             "endlinecolor": "rgb(36,36,36)",
             "gridcolor": "white",
             "linecolor": "white",
             "minorgridcolor": "white",
             "startlinecolor": "rgb(36,36,36)"
            },
            "type": "carpet"
           }
          ],
          "choropleth": [
           {
            "colorbar": {
             "outlinewidth": 1,
             "tickcolor": "rgb(36,36,36)",
             "ticks": "outside"
            },
            "type": "choropleth"
           }
          ],
          "contour": [
           {
            "colorbar": {
             "outlinewidth": 1,
             "tickcolor": "rgb(36,36,36)",
             "ticks": "outside"
            },
            "colorscale": [
             [
              0,
              "#440154"
             ],
             [
              0.1111111111111111,
              "#482878"
             ],
             [
              0.2222222222222222,
              "#3e4989"
             ],
             [
              0.3333333333333333,
              "#31688e"
             ],
             [
              0.4444444444444444,
              "#26828e"
             ],
             [
              0.5555555555555556,
              "#1f9e89"
             ],
             [
              0.6666666666666666,
              "#35b779"
             ],
             [
              0.7777777777777778,
              "#6ece58"
             ],
             [
              0.8888888888888888,
              "#b5de2b"
             ],
             [
              1,
              "#fde725"
             ]
            ],
            "type": "contour"
           }
          ],
          "contourcarpet": [
           {
            "colorbar": {
             "outlinewidth": 1,
             "tickcolor": "rgb(36,36,36)",
             "ticks": "outside"
            },
            "type": "contourcarpet"
           }
          ],
          "heatmap": [
           {
            "colorbar": {
             "outlinewidth": 1,
             "tickcolor": "rgb(36,36,36)",
             "ticks": "outside"
            },
            "colorscale": [
             [
              0,
              "#440154"
             ],
             [
              0.1111111111111111,
              "#482878"
             ],
             [
              0.2222222222222222,
              "#3e4989"
             ],
             [
              0.3333333333333333,
              "#31688e"
             ],
             [
              0.4444444444444444,
              "#26828e"
             ],
             [
              0.5555555555555556,
              "#1f9e89"
             ],
             [
              0.6666666666666666,
              "#35b779"
             ],
             [
              0.7777777777777778,
              "#6ece58"
             ],
             [
              0.8888888888888888,
              "#b5de2b"
             ],
             [
              1,
              "#fde725"
             ]
            ],
            "type": "heatmap"
           }
          ],
          "heatmapgl": [
           {
            "colorbar": {
             "outlinewidth": 1,
             "tickcolor": "rgb(36,36,36)",
             "ticks": "outside"
            },
            "colorscale": [
             [
              0,
              "#440154"
             ],
             [
              0.1111111111111111,
              "#482878"
             ],
             [
              0.2222222222222222,
              "#3e4989"
             ],
             [
              0.3333333333333333,
              "#31688e"
             ],
             [
              0.4444444444444444,
              "#26828e"
             ],
             [
              0.5555555555555556,
              "#1f9e89"
             ],
             [
              0.6666666666666666,
              "#35b779"
             ],
             [
              0.7777777777777778,
              "#6ece58"
             ],
             [
              0.8888888888888888,
              "#b5de2b"
             ],
             [
              1,
              "#fde725"
             ]
            ],
            "type": "heatmapgl"
           }
          ],
          "histogram": [
           {
            "marker": {
             "line": {
              "color": "white",
              "width": 0.6
             }
            },
            "type": "histogram"
           }
          ],
          "histogram2d": [
           {
            "colorbar": {
             "outlinewidth": 1,
             "tickcolor": "rgb(36,36,36)",
             "ticks": "outside"
            },
            "colorscale": [
             [
              0,
              "#440154"
             ],
             [
              0.1111111111111111,
              "#482878"
             ],
             [
              0.2222222222222222,
              "#3e4989"
             ],
             [
              0.3333333333333333,
              "#31688e"
             ],
             [
              0.4444444444444444,
              "#26828e"
             ],
             [
              0.5555555555555556,
              "#1f9e89"
             ],
             [
              0.6666666666666666,
              "#35b779"
             ],
             [
              0.7777777777777778,
              "#6ece58"
             ],
             [
              0.8888888888888888,
              "#b5de2b"
             ],
             [
              1,
              "#fde725"
             ]
            ],
            "type": "histogram2d"
           }
          ],
          "histogram2dcontour": [
           {
            "colorbar": {
             "outlinewidth": 1,
             "tickcolor": "rgb(36,36,36)",
             "ticks": "outside"
            },
            "colorscale": [
             [
              0,
              "#440154"
             ],
             [
              0.1111111111111111,
              "#482878"
             ],
             [
              0.2222222222222222,
              "#3e4989"
             ],
             [
              0.3333333333333333,
              "#31688e"
             ],
             [
              0.4444444444444444,
              "#26828e"
             ],
             [
              0.5555555555555556,
              "#1f9e89"
             ],
             [
              0.6666666666666666,
              "#35b779"
             ],
             [
              0.7777777777777778,
              "#6ece58"
             ],
             [
              0.8888888888888888,
              "#b5de2b"
             ],
             [
              1,
              "#fde725"
             ]
            ],
            "type": "histogram2dcontour"
           }
          ],
          "mesh3d": [
           {
            "colorbar": {
             "outlinewidth": 1,
             "tickcolor": "rgb(36,36,36)",
             "ticks": "outside"
            },
            "type": "mesh3d"
           }
          ],
          "parcoords": [
           {
            "line": {
             "colorbar": {
              "outlinewidth": 1,
              "tickcolor": "rgb(36,36,36)",
              "ticks": "outside"
             }
            },
            "type": "parcoords"
           }
          ],
          "pie": [
           {
            "automargin": true,
            "type": "pie"
           }
          ],
          "scatter": [
           {
            "fillpattern": {
             "fillmode": "overlay",
             "size": 10,
             "solidity": 0.2
            },
            "type": "scatter"
           }
          ],
          "scatter3d": [
           {
            "line": {
             "colorbar": {
              "outlinewidth": 1,
              "tickcolor": "rgb(36,36,36)",
              "ticks": "outside"
             }
            },
            "marker": {
             "colorbar": {
              "outlinewidth": 1,
              "tickcolor": "rgb(36,36,36)",
              "ticks": "outside"
             }
            },
            "type": "scatter3d"
           }
          ],
          "scattercarpet": [
           {
            "marker": {
             "colorbar": {
              "outlinewidth": 1,
              "tickcolor": "rgb(36,36,36)",
              "ticks": "outside"
             }
            },
            "type": "scattercarpet"
           }
          ],
          "scattergeo": [
           {
            "marker": {
             "colorbar": {
              "outlinewidth": 1,
              "tickcolor": "rgb(36,36,36)",
              "ticks": "outside"
             }
            },
            "type": "scattergeo"
           }
          ],
          "scattergl": [
           {
            "marker": {
             "colorbar": {
              "outlinewidth": 1,
              "tickcolor": "rgb(36,36,36)",
              "ticks": "outside"
             }
            },
            "type": "scattergl"
           }
          ],
          "scattermapbox": [
           {
            "marker": {
             "colorbar": {
              "outlinewidth": 1,
              "tickcolor": "rgb(36,36,36)",
              "ticks": "outside"
             }
            },
            "type": "scattermapbox"
           }
          ],
          "scatterpolar": [
           {
            "marker": {
             "colorbar": {
              "outlinewidth": 1,
              "tickcolor": "rgb(36,36,36)",
              "ticks": "outside"
             }
            },
            "type": "scatterpolar"
           }
          ],
          "scatterpolargl": [
           {
            "marker": {
             "colorbar": {
              "outlinewidth": 1,
              "tickcolor": "rgb(36,36,36)",
              "ticks": "outside"
             }
            },
            "type": "scatterpolargl"
           }
          ],
          "scatterternary": [
           {
            "marker": {
             "colorbar": {
              "outlinewidth": 1,
              "tickcolor": "rgb(36,36,36)",
              "ticks": "outside"
             }
            },
            "type": "scatterternary"
           }
          ],
          "surface": [
           {
            "colorbar": {
             "outlinewidth": 1,
             "tickcolor": "rgb(36,36,36)",
             "ticks": "outside"
            },
            "colorscale": [
             [
              0,
              "#440154"
             ],
             [
              0.1111111111111111,
              "#482878"
             ],
             [
              0.2222222222222222,
              "#3e4989"
             ],
             [
              0.3333333333333333,
              "#31688e"
             ],
             [
              0.4444444444444444,
              "#26828e"
             ],
             [
              0.5555555555555556,
              "#1f9e89"
             ],
             [
              0.6666666666666666,
              "#35b779"
             ],
             [
              0.7777777777777778,
              "#6ece58"
             ],
             [
              0.8888888888888888,
              "#b5de2b"
             ],
             [
              1,
              "#fde725"
             ]
            ],
            "type": "surface"
           }
          ],
          "table": [
           {
            "cells": {
             "fill": {
              "color": "rgb(237,237,237)"
             },
             "line": {
              "color": "white"
             }
            },
            "header": {
             "fill": {
              "color": "rgb(217,217,217)"
             },
             "line": {
              "color": "white"
             }
            },
            "type": "table"
           }
          ]
         },
         "layout": {
          "annotationdefaults": {
           "arrowhead": 0,
           "arrowwidth": 1
          },
          "autotypenumbers": "strict",
          "coloraxis": {
           "colorbar": {
            "outlinewidth": 1,
            "tickcolor": "rgb(36,36,36)",
            "ticks": "outside"
           }
          },
          "colorscale": {
           "diverging": [
            [
             0,
             "rgb(103,0,31)"
            ],
            [
             0.1,
             "rgb(178,24,43)"
            ],
            [
             0.2,
             "rgb(214,96,77)"
            ],
            [
             0.3,
             "rgb(244,165,130)"
            ],
            [
             0.4,
             "rgb(253,219,199)"
            ],
            [
             0.5,
             "rgb(247,247,247)"
            ],
            [
             0.6,
             "rgb(209,229,240)"
            ],
            [
             0.7,
             "rgb(146,197,222)"
            ],
            [
             0.8,
             "rgb(67,147,195)"
            ],
            [
             0.9,
             "rgb(33,102,172)"
            ],
            [
             1,
             "rgb(5,48,97)"
            ]
           ],
           "sequential": [
            [
             0,
             "#440154"
            ],
            [
             0.1111111111111111,
             "#482878"
            ],
            [
             0.2222222222222222,
             "#3e4989"
            ],
            [
             0.3333333333333333,
             "#31688e"
            ],
            [
             0.4444444444444444,
             "#26828e"
            ],
            [
             0.5555555555555556,
             "#1f9e89"
            ],
            [
             0.6666666666666666,
             "#35b779"
            ],
            [
             0.7777777777777778,
             "#6ece58"
            ],
            [
             0.8888888888888888,
             "#b5de2b"
            ],
            [
             1,
             "#fde725"
            ]
           ],
           "sequentialminus": [
            [
             0,
             "#440154"
            ],
            [
             0.1111111111111111,
             "#482878"
            ],
            [
             0.2222222222222222,
             "#3e4989"
            ],
            [
             0.3333333333333333,
             "#31688e"
            ],
            [
             0.4444444444444444,
             "#26828e"
            ],
            [
             0.5555555555555556,
             "#1f9e89"
            ],
            [
             0.6666666666666666,
             "#35b779"
            ],
            [
             0.7777777777777778,
             "#6ece58"
            ],
            [
             0.8888888888888888,
             "#b5de2b"
            ],
            [
             1,
             "#fde725"
            ]
           ]
          },
          "colorway": [
           "#1F77B4",
           "#FF7F0E",
           "#2CA02C",
           "#D62728",
           "#9467BD",
           "#8C564B",
           "#E377C2",
           "#7F7F7F",
           "#BCBD22",
           "#17BECF"
          ],
          "font": {
           "color": "rgb(36,36,36)"
          },
          "geo": {
           "bgcolor": "white",
           "lakecolor": "white",
           "landcolor": "white",
           "showlakes": true,
           "showland": true,
           "subunitcolor": "white"
          },
          "hoverlabel": {
           "align": "left"
          },
          "hovermode": "closest",
          "mapbox": {
           "style": "light"
          },
          "paper_bgcolor": "white",
          "plot_bgcolor": "white",
          "polar": {
           "angularaxis": {
            "gridcolor": "rgb(232,232,232)",
            "linecolor": "rgb(36,36,36)",
            "showgrid": false,
            "showline": true,
            "ticks": "outside"
           },
           "bgcolor": "white",
           "radialaxis": {
            "gridcolor": "rgb(232,232,232)",
            "linecolor": "rgb(36,36,36)",
            "showgrid": false,
            "showline": true,
            "ticks": "outside"
           }
          },
          "scene": {
           "xaxis": {
            "backgroundcolor": "white",
            "gridcolor": "rgb(232,232,232)",
            "gridwidth": 2,
            "linecolor": "rgb(36,36,36)",
            "showbackground": true,
            "showgrid": false,
            "showline": true,
            "ticks": "outside",
            "zeroline": false,
            "zerolinecolor": "rgb(36,36,36)"
           },
           "yaxis": {
            "backgroundcolor": "white",
            "gridcolor": "rgb(232,232,232)",
            "gridwidth": 2,
            "linecolor": "rgb(36,36,36)",
            "showbackground": true,
            "showgrid": false,
            "showline": true,
            "ticks": "outside",
            "zeroline": false,
            "zerolinecolor": "rgb(36,36,36)"
           },
           "zaxis": {
            "backgroundcolor": "white",
            "gridcolor": "rgb(232,232,232)",
            "gridwidth": 2,
            "linecolor": "rgb(36,36,36)",
            "showbackground": true,
            "showgrid": false,
            "showline": true,
            "ticks": "outside",
            "zeroline": false,
            "zerolinecolor": "rgb(36,36,36)"
           }
          },
          "shapedefaults": {
           "fillcolor": "black",
           "line": {
            "width": 0
           },
           "opacity": 0.3
          },
          "ternary": {
           "aaxis": {
            "gridcolor": "rgb(232,232,232)",
            "linecolor": "rgb(36,36,36)",
            "showgrid": false,
            "showline": true,
            "ticks": "outside"
           },
           "baxis": {
            "gridcolor": "rgb(232,232,232)",
            "linecolor": "rgb(36,36,36)",
            "showgrid": false,
            "showline": true,
            "ticks": "outside"
           },
           "bgcolor": "white",
           "caxis": {
            "gridcolor": "rgb(232,232,232)",
            "linecolor": "rgb(36,36,36)",
            "showgrid": false,
            "showline": true,
            "ticks": "outside"
           }
          },
          "title": {
           "x": 0.05
          },
          "xaxis": {
           "automargin": true,
           "gridcolor": "rgb(232,232,232)",
           "linecolor": "rgb(36,36,36)",
           "showgrid": false,
           "showline": true,
           "ticks": "outside",
           "title": {
            "standoff": 15
           },
           "zeroline": false,
           "zerolinecolor": "rgb(36,36,36)"
          },
          "yaxis": {
           "automargin": true,
           "gridcolor": "rgb(232,232,232)",
           "linecolor": "rgb(36,36,36)",
           "showgrid": false,
           "showline": true,
           "ticks": "outside",
           "title": {
            "standoff": 15
           },
           "zeroline": false,
           "zerolinecolor": "rgb(36,36,36)"
          }
         }
        },
        "title": {
         "font": {
          "color": "Black",
          "size": 22
         },
         "text": "<b>Intertopic Distance Map</b>",
         "x": 0.5,
         "xanchor": "center",
         "y": 0.95,
         "yanchor": "top"
        },
        "width": 650,
        "xaxis": {
         "anchor": "y",
         "domain": [
          0,
          1
         ],
         "range": [
          -11.47630853652954,
          24.162704467773438
         ],
         "title": {
          "text": ""
         },
         "visible": false
        },
        "yaxis": {
         "anchor": "x",
         "domain": [
          0,
          1
         ],
         "range": [
          -8.925708413124084,
          17.776279067993165
         ],
         "title": {
          "text": ""
         },
         "visible": false
        }
       }
      }
     },
     "metadata": {},
     "output_type": "display_data"
    }
   ],
   "source": [
    "print(topic_model.get_topic(-1)) \n",
    "# Visualisation des topics\n",
    "topic_model.visualize_topics()\n",
    "\n",
    "\n"
   ]
  },
  {
   "cell_type": "code",
   "execution_count": 45,
   "metadata": {},
   "outputs": [
    {
     "data": {
      "application/vnd.plotly.v1+json": {
       "config": {
        "plotlyServerURL": "https://plot.ly"
       },
       "data": [
        {
         "hoverinfo": "text",
         "marker": {
          "color": "rgb(61,153,112)"
         },
         "mode": "lines",
         "type": "scatter",
         "x": [
          0,
          0.412210213942932,
          0.412210213942932,
          0
         ],
         "xaxis": "x",
         "y": [
          -5,
          -5,
          -15,
          -15
         ],
         "yaxis": "y"
        },
        {
         "hoverinfo": "text",
         "marker": {
          "color": "rgb(255,65,54)"
         },
         "mode": "lines",
         "type": "scatter",
         "x": [
          0,
          0.27179385597373273,
          0.27179385597373273,
          0
         ],
         "xaxis": "x",
         "y": [
          -25,
          -25,
          -35,
          -35
         ],
         "yaxis": "y"
        },
        {
         "hoverinfo": "text",
         "marker": {
          "color": "rgb(35,205,205)"
         },
         "mode": "lines",
         "type": "scatter",
         "x": [
          0,
          0.8548350025213856,
          0.8548350025213856,
          0
         ],
         "xaxis": "x",
         "y": [
          -55,
          -55,
          -65,
          -65
         ],
         "yaxis": "y"
        },
        {
         "hoverinfo": "text",
         "marker": {
          "color": "rgb(35,205,205)"
         },
         "mode": "lines",
         "type": "scatter",
         "x": [
          0,
          0.9587546370536639,
          0.9587546370536639,
          0.8548350025213856
         ],
         "xaxis": "x",
         "y": [
          -45,
          -45,
          -60,
          -60
         ],
         "yaxis": "y"
        },
        {
         "hoverinfo": "text",
         "marker": {
          "color": "rgb(133,20,75)"
         },
         "mode": "lines",
         "type": "scatter",
         "x": [
          0,
          0.8844501139200259,
          0.8844501139200259,
          0
         ],
         "xaxis": "x",
         "y": [
          -85,
          -85,
          -95,
          -95
         ],
         "yaxis": "y"
        },
        {
         "hoverinfo": "text",
         "marker": {
          "color": "rgb(133,20,75)"
         },
         "mode": "lines",
         "type": "scatter",
         "x": [
          0,
          0.9526852561311699,
          0.9526852561311699,
          0.8844501139200259
         ],
         "xaxis": "x",
         "y": [
          -75,
          -75,
          -90,
          -90
         ],
         "yaxis": "y"
        },
        {
         "hoverinfo": "text",
         "marker": {
          "color": "rgb(133,20,75)"
         },
         "mode": "lines",
         "type": "scatter",
         "x": [
          0.9526852561311699,
          0.9641106022119899,
          0.9641106022119899,
          0
         ],
         "xaxis": "x",
         "y": [
          -82.5,
          -82.5,
          -105,
          -105
         ],
         "yaxis": "y"
        },
        {
         "hoverinfo": "text",
         "marker": {
          "color": "rgb(255,220,0)"
         },
         "mode": "lines",
         "type": "scatter",
         "x": [
          0,
          0.8719577596467664,
          0.8719577596467664,
          0
         ],
         "xaxis": "x",
         "y": [
          -115,
          -115,
          -125,
          -125
         ],
         "yaxis": "y"
        },
        {
         "hoverinfo": "text",
         "marker": {
          "color": "rgb(255,220,0)"
         },
         "mode": "lines",
         "type": "scatter",
         "x": [
          0,
          0.7903176447789373,
          0.7903176447789373,
          0
         ],
         "xaxis": "x",
         "y": [
          -135,
          -135,
          -145,
          -145
         ],
         "yaxis": "y"
        },
        {
         "hoverinfo": "text",
         "marker": {
          "color": "rgb(255,220,0)"
         },
         "mode": "lines",
         "type": "scatter",
         "x": [
          0.7903176447789373,
          0.9347038876101293,
          0.9347038876101293,
          0
         ],
         "xaxis": "x",
         "y": [
          -140,
          -140,
          -155,
          -155
         ],
         "yaxis": "y"
        },
        {
         "hoverinfo": "text",
         "marker": {
          "color": "rgb(255,220,0)"
         },
         "mode": "lines",
         "type": "scatter",
         "x": [
          0.8719577596467664,
          0.9895658147986396,
          0.9895658147986396,
          0.9347038876101293
         ],
         "xaxis": "x",
         "y": [
          -120,
          -120,
          -147.5,
          -147.5
         ],
         "yaxis": "y"
        },
        {
         "hoverinfo": "text",
         "marker": {
          "color": "rgb(0,116,217)"
         },
         "mode": "lines",
         "type": "scatter",
         "x": [
          0.9641106022119899,
          1.0127603281813455,
          1.0127603281813455,
          0.9895658147986396
         ],
         "xaxis": "x",
         "y": [
          -93.75,
          -93.75,
          -133.75,
          -133.75
         ],
         "yaxis": "y"
        },
        {
         "hoverinfo": "text",
         "marker": {
          "color": "rgb(0,116,217)"
         },
         "mode": "lines",
         "type": "scatter",
         "x": [
          0.9587546370536639,
          1.0352564731386338,
          1.0352564731386338,
          1.0127603281813455
         ],
         "xaxis": "x",
         "y": [
          -52.5,
          -52.5,
          -113.75,
          -113.75
         ],
         "yaxis": "y"
        },
        {
         "hoverinfo": "text",
         "marker": {
          "color": "rgb(40,35,35)"
         },
         "mode": "lines",
         "type": "scatter",
         "x": [
          0,
          0.8907780674755047,
          0.8907780674755047,
          0
         ],
         "xaxis": "x",
         "y": [
          -165,
          -165,
          -175,
          -175
         ],
         "yaxis": "y"
        },
        {
         "hoverinfo": "text",
         "marker": {
          "color": "rgb(40,35,35)"
         },
         "mode": "lines",
         "type": "scatter",
         "x": [
          0,
          0.9256162526169223,
          0.9256162526169223,
          0
         ],
         "xaxis": "x",
         "y": [
          -185,
          -185,
          -195,
          -195
         ],
         "yaxis": "y"
        },
        {
         "hoverinfo": "text",
         "marker": {
          "color": "rgb(40,35,35)"
         },
         "mode": "lines",
         "type": "scatter",
         "x": [
          0.9256162526169223,
          0.9611839568372342,
          0.9611839568372342,
          0
         ],
         "xaxis": "x",
         "y": [
          -190,
          -190,
          -205,
          -205
         ],
         "yaxis": "y"
        },
        {
         "hoverinfo": "text",
         "marker": {
          "color": "rgb(40,35,35)"
         },
         "mode": "lines",
         "type": "scatter",
         "x": [
          0.8907780674755047,
          0.9787689563997425,
          0.9787689563997425,
          0.9611839568372342
         ],
         "xaxis": "x",
         "y": [
          -170,
          -170,
          -197.5,
          -197.5
         ],
         "yaxis": "y"
        },
        {
         "hoverinfo": "text",
         "marker": {
          "color": "rgb(61,153,112)"
         },
         "mode": "lines",
         "type": "scatter",
         "x": [
          0,
          0.8523634067462498,
          0.8523634067462498,
          0
         ],
         "xaxis": "x",
         "y": [
          -235,
          -235,
          -245,
          -245
         ],
         "yaxis": "y"
        },
        {
         "hoverinfo": "text",
         "marker": {
          "color": "rgb(61,153,112)"
         },
         "mode": "lines",
         "type": "scatter",
         "x": [
          0.8523634067462498,
          0.8615004176432477,
          0.8615004176432477,
          0
         ],
         "xaxis": "x",
         "y": [
          -240,
          -240,
          -255,
          -255
         ],
         "yaxis": "y"
        },
        {
         "hoverinfo": "text",
         "marker": {
          "color": "rgb(61,153,112)"
         },
         "mode": "lines",
         "type": "scatter",
         "x": [
          0,
          0.9270603165601807,
          0.9270603165601807,
          0.8615004176432477
         ],
         "xaxis": "x",
         "y": [
          -225,
          -225,
          -247.5,
          -247.5
         ],
         "yaxis": "y"
        },
        {
         "hoverinfo": "text",
         "marker": {
          "color": "rgb(61,153,112)"
         },
         "mode": "lines",
         "type": "scatter",
         "x": [
          0,
          0.9667641659616145,
          0.9667641659616145,
          0.9270603165601807
         ],
         "xaxis": "x",
         "y": [
          -215,
          -215,
          -236.25,
          -236.25
         ],
         "yaxis": "y"
        },
        {
         "hoverinfo": "text",
         "marker": {
          "color": "rgb(255,65,54)"
         },
         "mode": "lines",
         "type": "scatter",
         "x": [
          0,
          0.9082671789377673,
          0.9082671789377673,
          0
         ],
         "xaxis": "x",
         "y": [
          -265,
          -265,
          -275,
          -275
         ],
         "yaxis": "y"
        },
        {
         "hoverinfo": "text",
         "marker": {
          "color": "rgb(0,116,217)"
         },
         "mode": "lines",
         "type": "scatter",
         "x": [
          0.9667641659616145,
          1.0139159074329887,
          1.0139159074329887,
          0.9082671789377673
         ],
         "xaxis": "x",
         "y": [
          -225.625,
          -225.625,
          -270,
          -270
         ],
         "yaxis": "y"
        },
        {
         "hoverinfo": "text",
         "marker": {
          "color": "rgb(0,116,217)"
         },
         "mode": "lines",
         "type": "scatter",
         "x": [
          0.9787689563997425,
          1.0456777319193737,
          1.0456777319193737,
          1.0139159074329887
         ],
         "xaxis": "x",
         "y": [
          -183.75,
          -183.75,
          -247.8125,
          -247.8125
         ],
         "yaxis": "y"
        },
        {
         "hoverinfo": "text",
         "marker": {
          "color": "rgb(35,205,205)"
         },
         "mode": "lines",
         "type": "scatter",
         "x": [
          0,
          0.9108047970830135,
          0.9108047970830135,
          0
         ],
         "xaxis": "x",
         "y": [
          -285,
          -285,
          -295,
          -295
         ],
         "yaxis": "y"
        },
        {
         "hoverinfo": "text",
         "marker": {
          "color": "rgb(35,205,205)"
         },
         "mode": "lines",
         "type": "scatter",
         "x": [
          0,
          0.7410394009290002,
          0.7410394009290002,
          0
         ],
         "xaxis": "x",
         "y": [
          -315,
          -315,
          -325,
          -325
         ],
         "yaxis": "y"
        },
        {
         "hoverinfo": "text",
         "marker": {
          "color": "rgb(35,205,205)"
         },
         "mode": "lines",
         "type": "scatter",
         "x": [
          0,
          0.8239374756976794,
          0.8239374756976794,
          0.7410394009290002
         ],
         "xaxis": "x",
         "y": [
          -305,
          -305,
          -320,
          -320
         ],
         "yaxis": "y"
        },
        {
         "hoverinfo": "text",
         "marker": {
          "color": "rgb(35,205,205)"
         },
         "mode": "lines",
         "type": "scatter",
         "x": [
          0.8239374756976794,
          0.8733103725156172,
          0.8733103725156172,
          0
         ],
         "xaxis": "x",
         "y": [
          -312.5,
          -312.5,
          -335,
          -335
         ],
         "yaxis": "y"
        },
        {
         "hoverinfo": "text",
         "marker": {
          "color": "rgb(35,205,205)"
         },
         "mode": "lines",
         "type": "scatter",
         "x": [
          0.9108047970830135,
          0.9751279139937793,
          0.9751279139937793,
          0.8733103725156172
         ],
         "xaxis": "x",
         "y": [
          -290,
          -290,
          -323.75,
          -323.75
         ],
         "yaxis": "y"
        },
        {
         "hoverinfo": "text",
         "marker": {
          "color": "rgb(61,153,112)"
         },
         "mode": "lines",
         "type": "scatter",
         "x": [
          0,
          0.9117544973225584,
          0.9117544973225584,
          0
         ],
         "xaxis": "x",
         "y": [
          -345,
          -345,
          -355,
          -355
         ],
         "yaxis": "y"
        },
        {
         "hoverinfo": "text",
         "marker": {
          "color": "rgb(61,153,112)"
         },
         "mode": "lines",
         "type": "scatter",
         "x": [
          0.9117544973225584,
          0.9425257343566396,
          0.9425257343566396,
          0
         ],
         "xaxis": "x",
         "y": [
          -350,
          -350,
          -365,
          -365
         ],
         "yaxis": "y"
        },
        {
         "hoverinfo": "text",
         "marker": {
          "color": "rgb(61,153,112)"
         },
         "mode": "lines",
         "type": "scatter",
         "x": [
          0.9425257343566396,
          0.9746782332383808,
          0.9746782332383808,
          0
         ],
         "xaxis": "x",
         "y": [
          -357.5,
          -357.5,
          -375,
          -375
         ],
         "yaxis": "y"
        },
        {
         "hoverinfo": "text",
         "marker": {
          "color": "rgb(0,116,217)"
         },
         "mode": "lines",
         "type": "scatter",
         "x": [
          0.9751279139937793,
          1.008857527798377,
          1.008857527798377,
          0.9746782332383808
         ],
         "xaxis": "x",
         "y": [
          -306.875,
          -306.875,
          -366.25,
          -366.25
         ],
         "yaxis": "y"
        },
        {
         "hoverinfo": "text",
         "marker": {
          "color": "rgb(0,116,217)"
         },
         "mode": "lines",
         "type": "scatter",
         "x": [
          1.0456777319193737,
          1.054390583775107,
          1.054390583775107,
          1.008857527798377
         ],
         "xaxis": "x",
         "y": [
          -215.78125,
          -215.78125,
          -336.5625,
          -336.5625
         ],
         "yaxis": "y"
        },
        {
         "hoverinfo": "text",
         "marker": {
          "color": "rgb(0,116,217)"
         },
         "mode": "lines",
         "type": "scatter",
         "x": [
          1.0352564731386338,
          1.0790918096712445,
          1.0790918096712445,
          1.054390583775107
         ],
         "xaxis": "x",
         "y": [
          -83.125,
          -83.125,
          -276.171875,
          -276.171875
         ],
         "yaxis": "y"
        },
        {
         "hoverinfo": "text",
         "marker": {
          "color": "rgb(255,65,54)"
         },
         "mode": "lines",
         "type": "scatter",
         "x": [
          0,
          0.7797884958746438,
          0.7797884958746438,
          0
         ],
         "xaxis": "x",
         "y": [
          -385,
          -385,
          -395,
          -395
         ],
         "yaxis": "y"
        },
        {
         "hoverinfo": "text",
         "marker": {
          "color": "rgb(255,65,54)"
         },
         "mode": "lines",
         "type": "scatter",
         "x": [
          0.7797884958746438,
          0.8878193628933077,
          0.8878193628933077,
          0
         ],
         "xaxis": "x",
         "y": [
          -390,
          -390,
          -405,
          -405
         ],
         "yaxis": "y"
        },
        {
         "hoverinfo": "text",
         "marker": {
          "color": "rgb(0,116,217)"
         },
         "mode": "lines",
         "type": "scatter",
         "x": [
          1.0790918096712445,
          1.1699260613394875,
          1.1699260613394875,
          0.8878193628933077
         ],
         "xaxis": "x",
         "y": [
          -179.6484375,
          -179.6484375,
          -397.5,
          -397.5
         ],
         "yaxis": "y"
        },
        {
         "hoverinfo": "text",
         "marker": {
          "color": "rgb(0,116,217)"
         },
         "mode": "lines",
         "type": "scatter",
         "x": [
          0.27179385597373273,
          1.2261669206734558,
          1.2261669206734558,
          1.1699260613394875
         ],
         "xaxis": "x",
         "y": [
          -30,
          -30,
          -288.57421875,
          -288.57421875
         ],
         "yaxis": "y"
        },
        {
         "hoverinfo": "text",
         "marker": {
          "color": "rgb(0,116,217)"
         },
         "mode": "lines",
         "type": "scatter",
         "x": [
          0.412210213942932,
          1.2622249962301575,
          1.2622249962301575,
          1.2261669206734558
         ],
         "xaxis": "x",
         "y": [
          -10,
          -10,
          -159.287109375,
          -159.287109375
         ],
         "yaxis": "y"
        },
        {
         "hoverinfo": "text",
         "marker": {
          "color": "rgb(35,205,205)"
         },
         "mode": "lines",
         "type": "scatter",
         "x": [
          0,
          0.7585315778041959,
          0.7585315778041959,
          0
         ],
         "xaxis": "x",
         "y": [
          -415,
          -415,
          -425,
          -425
         ],
         "yaxis": "y"
        },
        {
         "hoverinfo": "text",
         "marker": {
          "color": "rgb(133,20,75)"
         },
         "mode": "lines",
         "type": "scatter",
         "x": [
          0,
          0.894476808767003,
          0.894476808767003,
          0
         ],
         "xaxis": "x",
         "y": [
          -445,
          -445,
          -455,
          -455
         ],
         "yaxis": "y"
        },
        {
         "hoverinfo": "text",
         "marker": {
          "color": "rgb(133,20,75)"
         },
         "mode": "lines",
         "type": "scatter",
         "x": [
          0,
          0.9644400218612367,
          0.9644400218612367,
          0.894476808767003
         ],
         "xaxis": "x",
         "y": [
          -435,
          -435,
          -450,
          -450
         ],
         "yaxis": "y"
        },
        {
         "hoverinfo": "text",
         "marker": {
          "color": "rgb(255,220,0)"
         },
         "mode": "lines",
         "type": "scatter",
         "x": [
          0,
          0.8389895094105775,
          0.8389895094105775,
          0
         ],
         "xaxis": "x",
         "y": [
          -465,
          -465,
          -475,
          -475
         ],
         "yaxis": "y"
        },
        {
         "hoverinfo": "text",
         "marker": {
          "color": "rgb(255,220,0)"
         },
         "mode": "lines",
         "type": "scatter",
         "x": [
          0.8389895094105775,
          0.8919805985317683,
          0.8919805985317683,
          0
         ],
         "xaxis": "x",
         "y": [
          -470,
          -470,
          -485,
          -485
         ],
         "yaxis": "y"
        },
        {
         "hoverinfo": "text",
         "marker": {
          "color": "rgb(40,35,35)"
         },
         "mode": "lines",
         "type": "scatter",
         "x": [
          0,
          0.8278008881985855,
          0.8278008881985855,
          0
         ],
         "xaxis": "x",
         "y": [
          -495,
          -495,
          -505,
          -505
         ],
         "yaxis": "y"
        },
        {
         "hoverinfo": "text",
         "marker": {
          "color": "rgb(0,116,217)"
         },
         "mode": "lines",
         "type": "scatter",
         "x": [
          0.8919805985317683,
          1.007497787198077,
          1.007497787198077,
          0.8278008881985855
         ],
         "xaxis": "x",
         "y": [
          -477.5,
          -477.5,
          -500,
          -500
         ],
         "yaxis": "y"
        },
        {
         "hoverinfo": "text",
         "marker": {
          "color": "rgb(0,116,217)"
         },
         "mode": "lines",
         "type": "scatter",
         "x": [
          0.9644400218612367,
          1.0343880357188975,
          1.0343880357188975,
          1.007497787198077
         ],
         "xaxis": "x",
         "y": [
          -442.5,
          -442.5,
          -488.75,
          -488.75
         ],
         "yaxis": "y"
        },
        {
         "hoverinfo": "text",
         "marker": {
          "color": "rgb(61,153,112)"
         },
         "mode": "lines",
         "type": "scatter",
         "x": [
          0,
          0.7733055583674904,
          0.7733055583674904,
          0
         ],
         "xaxis": "x",
         "y": [
          -515,
          -515,
          -525,
          -525
         ],
         "yaxis": "y"
        },
        {
         "hoverinfo": "text",
         "marker": {
          "color": "rgb(61,153,112)"
         },
         "mode": "lines",
         "type": "scatter",
         "x": [
          0.7733055583674904,
          0.871600522558966,
          0.871600522558966,
          0
         ],
         "xaxis": "x",
         "y": [
          -520,
          -520,
          -535,
          -535
         ],
         "yaxis": "y"
        },
        {
         "hoverinfo": "text",
         "marker": {
          "color": "rgb(61,153,112)"
         },
         "mode": "lines",
         "type": "scatter",
         "x": [
          0.871600522558966,
          0.9105328379217956,
          0.9105328379217956,
          0
         ],
         "xaxis": "x",
         "y": [
          -527.5,
          -527.5,
          -545,
          -545
         ],
         "yaxis": "y"
        },
        {
         "hoverinfo": "text",
         "marker": {
          "color": "rgb(0,116,217)"
         },
         "mode": "lines",
         "type": "scatter",
         "x": [
          1.0343880357188975,
          1.0562472975515986,
          1.0562472975515986,
          0.9105328379217956
         ],
         "xaxis": "x",
         "y": [
          -465.625,
          -465.625,
          -536.25,
          -536.25
         ],
         "yaxis": "y"
        },
        {
         "hoverinfo": "text",
         "marker": {
          "color": "rgb(255,65,54)"
         },
         "mode": "lines",
         "type": "scatter",
         "x": [
          0,
          0.9434822193044226,
          0.9434822193044226,
          0
         ],
         "xaxis": "x",
         "y": [
          -565,
          -565,
          -575,
          -575
         ],
         "yaxis": "y"
        },
        {
         "hoverinfo": "text",
         "marker": {
          "color": "rgb(255,65,54)"
         },
         "mode": "lines",
         "type": "scatter",
         "x": [
          0,
          0.9807404443145141,
          0.9807404443145141,
          0.9434822193044226
         ],
         "xaxis": "x",
         "y": [
          -555,
          -555,
          -570,
          -570
         ],
         "yaxis": "y"
        },
        {
         "hoverinfo": "text",
         "marker": {
          "color": "rgb(35,205,205)"
         },
         "mode": "lines",
         "type": "scatter",
         "x": [
          0,
          0.9520501779739774,
          0.9520501779739774,
          0
         ],
         "xaxis": "x",
         "y": [
          -585,
          -585,
          -595,
          -595
         ],
         "yaxis": "y"
        },
        {
         "hoverinfo": "text",
         "marker": {
          "color": "rgb(61,153,112)"
         },
         "mode": "lines",
         "type": "scatter",
         "x": [
          0,
          0.9890571317167458,
          0.9890571317167458,
          0
         ],
         "xaxis": "x",
         "y": [
          -605,
          -605,
          -615,
          -615
         ],
         "yaxis": "y"
        },
        {
         "hoverinfo": "text",
         "marker": {
          "color": "rgb(0,116,217)"
         },
         "mode": "lines",
         "type": "scatter",
         "x": [
          0.9520501779739774,
          1.0086868468533754,
          1.0086868468533754,
          0.9890571317167458
         ],
         "xaxis": "x",
         "y": [
          -590,
          -590,
          -610,
          -610
         ],
         "yaxis": "y"
        },
        {
         "hoverinfo": "text",
         "marker": {
          "color": "rgb(0,116,217)"
         },
         "mode": "lines",
         "type": "scatter",
         "x": [
          0.9807404443145141,
          1.0228491977050882,
          1.0228491977050882,
          1.0086868468533754
         ],
         "xaxis": "x",
         "y": [
          -562.5,
          -562.5,
          -600,
          -600
         ],
         "yaxis": "y"
        },
        {
         "hoverinfo": "text",
         "marker": {
          "color": "rgb(255,65,54)"
         },
         "mode": "lines",
         "type": "scatter",
         "x": [
          0,
          0.8385237257922433,
          0.8385237257922433,
          0
         ],
         "xaxis": "x",
         "y": [
          -625,
          -625,
          -635,
          -635
         ],
         "yaxis": "y"
        },
        {
         "hoverinfo": "text",
         "marker": {
          "color": "rgb(0,116,217)"
         },
         "mode": "lines",
         "type": "scatter",
         "x": [
          1.0228491977050882,
          1.0672464069887109,
          1.0672464069887109,
          0.8385237257922433
         ],
         "xaxis": "x",
         "y": [
          -581.25,
          -581.25,
          -630,
          -630
         ],
         "yaxis": "y"
        },
        {
         "hoverinfo": "text",
         "marker": {
          "color": "rgb(35,205,205)"
         },
         "mode": "lines",
         "type": "scatter",
         "x": [
          0,
          0.6834842136058401,
          0.6834842136058401,
          0
         ],
         "xaxis": "x",
         "y": [
          -645,
          -645,
          -655,
          -655
         ],
         "yaxis": "y"
        },
        {
         "hoverinfo": "text",
         "marker": {
          "color": "rgb(35,205,205)"
         },
         "mode": "lines",
         "type": "scatter",
         "x": [
          0.6834842136058401,
          0.9762144210069995,
          0.9762144210069995,
          0
         ],
         "xaxis": "x",
         "y": [
          -650,
          -650,
          -665,
          -665
         ],
         "yaxis": "y"
        },
        {
         "hoverinfo": "text",
         "marker": {
          "color": "rgb(0,116,217)"
         },
         "mode": "lines",
         "type": "scatter",
         "x": [
          1.0672464069887109,
          1.1476410517963982,
          1.1476410517963982,
          0.9762144210069995
         ],
         "xaxis": "x",
         "y": [
          -605.625,
          -605.625,
          -657.5,
          -657.5
         ],
         "yaxis": "y"
        },
        {
         "hoverinfo": "text",
         "marker": {
          "color": "rgb(0,116,217)"
         },
         "mode": "lines",
         "type": "scatter",
         "x": [
          1.0562472975515986,
          1.1719061963007187,
          1.1719061963007187,
          1.1476410517963982
         ],
         "xaxis": "x",
         "y": [
          -500.9375,
          -500.9375,
          -631.5625,
          -631.5625
         ],
         "yaxis": "y"
        },
        {
         "hoverinfo": "text",
         "marker": {
          "color": "rgb(0,116,217)"
         },
         "mode": "lines",
         "type": "scatter",
         "x": [
          0.7585315778041959,
          1.206137080975371,
          1.206137080975371,
          1.1719061963007187
         ],
         "xaxis": "x",
         "y": [
          -420,
          -420,
          -566.25,
          -566.25
         ],
         "yaxis": "y"
        },
        {
         "hoverinfo": "text",
         "marker": {
          "color": "rgb(133,20,75)"
         },
         "mode": "lines",
         "type": "scatter",
         "x": [
          0,
          0.13373484397169577,
          0.13373484397169577,
          0
         ],
         "xaxis": "x",
         "y": [
          -675,
          -675,
          -685,
          -685
         ],
         "yaxis": "y"
        },
        {
         "hoverinfo": "text",
         "marker": {
          "color": "rgb(0,116,217)"
         },
         "mode": "lines",
         "type": "scatter",
         "x": [
          1.206137080975371,
          1.3441447805397786,
          1.3441447805397786,
          0.13373484397169577
         ],
         "xaxis": "x",
         "y": [
          -493.125,
          -493.125,
          -680,
          -680
         ],
         "yaxis": "y"
        },
        {
         "hoverinfo": "text",
         "marker": {
          "color": "rgb(0,116,217)"
         },
         "mode": "lines",
         "type": "scatter",
         "x": [
          1.2622249962301575,
          1.363693937931256,
          1.363693937931256,
          1.3441447805397786
         ],
         "xaxis": "x",
         "y": [
          -84.6435546875,
          -84.6435546875,
          -586.5625,
          -586.5625
         ],
         "yaxis": "y"
        }
       ],
       "layout": {
        "autosize": false,
        "height": 1235,
        "hoverlabel": {
         "bgcolor": "white",
         "font": {
          "family": "Rockwell",
          "size": 16
         }
        },
        "hovermode": "closest",
        "plot_bgcolor": "#ECEFF1",
        "showlegend": false,
        "template": {
         "data": {
          "bar": [
           {
            "error_x": {
             "color": "#2a3f5f"
            },
            "error_y": {
             "color": "#2a3f5f"
            },
            "marker": {
             "line": {
              "color": "white",
              "width": 0.5
             },
             "pattern": {
              "fillmode": "overlay",
              "size": 10,
              "solidity": 0.2
             }
            },
            "type": "bar"
           }
          ],
          "barpolar": [
           {
            "marker": {
             "line": {
              "color": "white",
              "width": 0.5
             },
             "pattern": {
              "fillmode": "overlay",
              "size": 10,
              "solidity": 0.2
             }
            },
            "type": "barpolar"
           }
          ],
          "carpet": [
           {
            "aaxis": {
             "endlinecolor": "#2a3f5f",
             "gridcolor": "#C8D4E3",
             "linecolor": "#C8D4E3",
             "minorgridcolor": "#C8D4E3",
             "startlinecolor": "#2a3f5f"
            },
            "baxis": {
             "endlinecolor": "#2a3f5f",
             "gridcolor": "#C8D4E3",
             "linecolor": "#C8D4E3",
             "minorgridcolor": "#C8D4E3",
             "startlinecolor": "#2a3f5f"
            },
            "type": "carpet"
           }
          ],
          "choropleth": [
           {
            "colorbar": {
             "outlinewidth": 0,
             "ticks": ""
            },
            "type": "choropleth"
           }
          ],
          "contour": [
           {
            "colorbar": {
             "outlinewidth": 0,
             "ticks": ""
            },
            "colorscale": [
             [
              0,
              "#0d0887"
             ],
             [
              0.1111111111111111,
              "#46039f"
             ],
             [
              0.2222222222222222,
              "#7201a8"
             ],
             [
              0.3333333333333333,
              "#9c179e"
             ],
             [
              0.4444444444444444,
              "#bd3786"
             ],
             [
              0.5555555555555556,
              "#d8576b"
             ],
             [
              0.6666666666666666,
              "#ed7953"
             ],
             [
              0.7777777777777778,
              "#fb9f3a"
             ],
             [
              0.8888888888888888,
              "#fdca26"
             ],
             [
              1,
              "#f0f921"
             ]
            ],
            "type": "contour"
           }
          ],
          "contourcarpet": [
           {
            "colorbar": {
             "outlinewidth": 0,
             "ticks": ""
            },
            "type": "contourcarpet"
           }
          ],
          "heatmap": [
           {
            "colorbar": {
             "outlinewidth": 0,
             "ticks": ""
            },
            "colorscale": [
             [
              0,
              "#0d0887"
             ],
             [
              0.1111111111111111,
              "#46039f"
             ],
             [
              0.2222222222222222,
              "#7201a8"
             ],
             [
              0.3333333333333333,
              "#9c179e"
             ],
             [
              0.4444444444444444,
              "#bd3786"
             ],
             [
              0.5555555555555556,
              "#d8576b"
             ],
             [
              0.6666666666666666,
              "#ed7953"
             ],
             [
              0.7777777777777778,
              "#fb9f3a"
             ],
             [
              0.8888888888888888,
              "#fdca26"
             ],
             [
              1,
              "#f0f921"
             ]
            ],
            "type": "heatmap"
           }
          ],
          "heatmapgl": [
           {
            "colorbar": {
             "outlinewidth": 0,
             "ticks": ""
            },
            "colorscale": [
             [
              0,
              "#0d0887"
             ],
             [
              0.1111111111111111,
              "#46039f"
             ],
             [
              0.2222222222222222,
              "#7201a8"
             ],
             [
              0.3333333333333333,
              "#9c179e"
             ],
             [
              0.4444444444444444,
              "#bd3786"
             ],
             [
              0.5555555555555556,
              "#d8576b"
             ],
             [
              0.6666666666666666,
              "#ed7953"
             ],
             [
              0.7777777777777778,
              "#fb9f3a"
             ],
             [
              0.8888888888888888,
              "#fdca26"
             ],
             [
              1,
              "#f0f921"
             ]
            ],
            "type": "heatmapgl"
           }
          ],
          "histogram": [
           {
            "marker": {
             "pattern": {
              "fillmode": "overlay",
              "size": 10,
              "solidity": 0.2
             }
            },
            "type": "histogram"
           }
          ],
          "histogram2d": [
           {
            "colorbar": {
             "outlinewidth": 0,
             "ticks": ""
            },
            "colorscale": [
             [
              0,
              "#0d0887"
             ],
             [
              0.1111111111111111,
              "#46039f"
             ],
             [
              0.2222222222222222,
              "#7201a8"
             ],
             [
              0.3333333333333333,
              "#9c179e"
             ],
             [
              0.4444444444444444,
              "#bd3786"
             ],
             [
              0.5555555555555556,
              "#d8576b"
             ],
             [
              0.6666666666666666,
              "#ed7953"
             ],
             [
              0.7777777777777778,
              "#fb9f3a"
             ],
             [
              0.8888888888888888,
              "#fdca26"
             ],
             [
              1,
              "#f0f921"
             ]
            ],
            "type": "histogram2d"
           }
          ],
          "histogram2dcontour": [
           {
            "colorbar": {
             "outlinewidth": 0,
             "ticks": ""
            },
            "colorscale": [
             [
              0,
              "#0d0887"
             ],
             [
              0.1111111111111111,
              "#46039f"
             ],
             [
              0.2222222222222222,
              "#7201a8"
             ],
             [
              0.3333333333333333,
              "#9c179e"
             ],
             [
              0.4444444444444444,
              "#bd3786"
             ],
             [
              0.5555555555555556,
              "#d8576b"
             ],
             [
              0.6666666666666666,
              "#ed7953"
             ],
             [
              0.7777777777777778,
              "#fb9f3a"
             ],
             [
              0.8888888888888888,
              "#fdca26"
             ],
             [
              1,
              "#f0f921"
             ]
            ],
            "type": "histogram2dcontour"
           }
          ],
          "mesh3d": [
           {
            "colorbar": {
             "outlinewidth": 0,
             "ticks": ""
            },
            "type": "mesh3d"
           }
          ],
          "parcoords": [
           {
            "line": {
             "colorbar": {
              "outlinewidth": 0,
              "ticks": ""
             }
            },
            "type": "parcoords"
           }
          ],
          "pie": [
           {
            "automargin": true,
            "type": "pie"
           }
          ],
          "scatter": [
           {
            "fillpattern": {
             "fillmode": "overlay",
             "size": 10,
             "solidity": 0.2
            },
            "type": "scatter"
           }
          ],
          "scatter3d": [
           {
            "line": {
             "colorbar": {
              "outlinewidth": 0,
              "ticks": ""
             }
            },
            "marker": {
             "colorbar": {
              "outlinewidth": 0,
              "ticks": ""
             }
            },
            "type": "scatter3d"
           }
          ],
          "scattercarpet": [
           {
            "marker": {
             "colorbar": {
              "outlinewidth": 0,
              "ticks": ""
             }
            },
            "type": "scattercarpet"
           }
          ],
          "scattergeo": [
           {
            "marker": {
             "colorbar": {
              "outlinewidth": 0,
              "ticks": ""
             }
            },
            "type": "scattergeo"
           }
          ],
          "scattergl": [
           {
            "marker": {
             "colorbar": {
              "outlinewidth": 0,
              "ticks": ""
             }
            },
            "type": "scattergl"
           }
          ],
          "scattermapbox": [
           {
            "marker": {
             "colorbar": {
              "outlinewidth": 0,
              "ticks": ""
             }
            },
            "type": "scattermapbox"
           }
          ],
          "scatterpolar": [
           {
            "marker": {
             "colorbar": {
              "outlinewidth": 0,
              "ticks": ""
             }
            },
            "type": "scatterpolar"
           }
          ],
          "scatterpolargl": [
           {
            "marker": {
             "colorbar": {
              "outlinewidth": 0,
              "ticks": ""
             }
            },
            "type": "scatterpolargl"
           }
          ],
          "scatterternary": [
           {
            "marker": {
             "colorbar": {
              "outlinewidth": 0,
              "ticks": ""
             }
            },
            "type": "scatterternary"
           }
          ],
          "surface": [
           {
            "colorbar": {
             "outlinewidth": 0,
             "ticks": ""
            },
            "colorscale": [
             [
              0,
              "#0d0887"
             ],
             [
              0.1111111111111111,
              "#46039f"
             ],
             [
              0.2222222222222222,
              "#7201a8"
             ],
             [
              0.3333333333333333,
              "#9c179e"
             ],
             [
              0.4444444444444444,
              "#bd3786"
             ],
             [
              0.5555555555555556,
              "#d8576b"
             ],
             [
              0.6666666666666666,
              "#ed7953"
             ],
             [
              0.7777777777777778,
              "#fb9f3a"
             ],
             [
              0.8888888888888888,
              "#fdca26"
             ],
             [
              1,
              "#f0f921"
             ]
            ],
            "type": "surface"
           }
          ],
          "table": [
           {
            "cells": {
             "fill": {
              "color": "#EBF0F8"
             },
             "line": {
              "color": "white"
             }
            },
            "header": {
             "fill": {
              "color": "#C8D4E3"
             },
             "line": {
              "color": "white"
             }
            },
            "type": "table"
           }
          ]
         },
         "layout": {
          "annotationdefaults": {
           "arrowcolor": "#2a3f5f",
           "arrowhead": 0,
           "arrowwidth": 1
          },
          "autotypenumbers": "strict",
          "coloraxis": {
           "colorbar": {
            "outlinewidth": 0,
            "ticks": ""
           }
          },
          "colorscale": {
           "diverging": [
            [
             0,
             "#8e0152"
            ],
            [
             0.1,
             "#c51b7d"
            ],
            [
             0.2,
             "#de77ae"
            ],
            [
             0.3,
             "#f1b6da"
            ],
            [
             0.4,
             "#fde0ef"
            ],
            [
             0.5,
             "#f7f7f7"
            ],
            [
             0.6,
             "#e6f5d0"
            ],
            [
             0.7,
             "#b8e186"
            ],
            [
             0.8,
             "#7fbc41"
            ],
            [
             0.9,
             "#4d9221"
            ],
            [
             1,
             "#276419"
            ]
           ],
           "sequential": [
            [
             0,
             "#0d0887"
            ],
            [
             0.1111111111111111,
             "#46039f"
            ],
            [
             0.2222222222222222,
             "#7201a8"
            ],
            [
             0.3333333333333333,
             "#9c179e"
            ],
            [
             0.4444444444444444,
             "#bd3786"
            ],
            [
             0.5555555555555556,
             "#d8576b"
            ],
            [
             0.6666666666666666,
             "#ed7953"
            ],
            [
             0.7777777777777778,
             "#fb9f3a"
            ],
            [
             0.8888888888888888,
             "#fdca26"
            ],
            [
             1,
             "#f0f921"
            ]
           ],
           "sequentialminus": [
            [
             0,
             "#0d0887"
            ],
            [
             0.1111111111111111,
             "#46039f"
            ],
            [
             0.2222222222222222,
             "#7201a8"
            ],
            [
             0.3333333333333333,
             "#9c179e"
            ],
            [
             0.4444444444444444,
             "#bd3786"
            ],
            [
             0.5555555555555556,
             "#d8576b"
            ],
            [
             0.6666666666666666,
             "#ed7953"
            ],
            [
             0.7777777777777778,
             "#fb9f3a"
            ],
            [
             0.8888888888888888,
             "#fdca26"
            ],
            [
             1,
             "#f0f921"
            ]
           ]
          },
          "colorway": [
           "#636efa",
           "#EF553B",
           "#00cc96",
           "#ab63fa",
           "#FFA15A",
           "#19d3f3",
           "#FF6692",
           "#B6E880",
           "#FF97FF",
           "#FECB52"
          ],
          "font": {
           "color": "#2a3f5f"
          },
          "geo": {
           "bgcolor": "white",
           "lakecolor": "white",
           "landcolor": "white",
           "showlakes": true,
           "showland": true,
           "subunitcolor": "#C8D4E3"
          },
          "hoverlabel": {
           "align": "left"
          },
          "hovermode": "closest",
          "mapbox": {
           "style": "light"
          },
          "paper_bgcolor": "white",
          "plot_bgcolor": "white",
          "polar": {
           "angularaxis": {
            "gridcolor": "#EBF0F8",
            "linecolor": "#EBF0F8",
            "ticks": ""
           },
           "bgcolor": "white",
           "radialaxis": {
            "gridcolor": "#EBF0F8",
            "linecolor": "#EBF0F8",
            "ticks": ""
           }
          },
          "scene": {
           "xaxis": {
            "backgroundcolor": "white",
            "gridcolor": "#DFE8F3",
            "gridwidth": 2,
            "linecolor": "#EBF0F8",
            "showbackground": true,
            "ticks": "",
            "zerolinecolor": "#EBF0F8"
           },
           "yaxis": {
            "backgroundcolor": "white",
            "gridcolor": "#DFE8F3",
            "gridwidth": 2,
            "linecolor": "#EBF0F8",
            "showbackground": true,
            "ticks": "",
            "zerolinecolor": "#EBF0F8"
           },
           "zaxis": {
            "backgroundcolor": "white",
            "gridcolor": "#DFE8F3",
            "gridwidth": 2,
            "linecolor": "#EBF0F8",
            "showbackground": true,
            "ticks": "",
            "zerolinecolor": "#EBF0F8"
           }
          },
          "shapedefaults": {
           "line": {
            "color": "#2a3f5f"
           }
          },
          "ternary": {
           "aaxis": {
            "gridcolor": "#DFE8F3",
            "linecolor": "#A2B1C6",
            "ticks": ""
           },
           "baxis": {
            "gridcolor": "#DFE8F3",
            "linecolor": "#A2B1C6",
            "ticks": ""
           },
           "bgcolor": "white",
           "caxis": {
            "gridcolor": "#DFE8F3",
            "linecolor": "#A2B1C6",
            "ticks": ""
           }
          },
          "title": {
           "x": 0.05
          },
          "xaxis": {
           "automargin": true,
           "gridcolor": "#EBF0F8",
           "linecolor": "#EBF0F8",
           "ticks": "",
           "title": {
            "standoff": 15
           },
           "zerolinecolor": "#EBF0F8",
           "zerolinewidth": 2
          },
          "yaxis": {
           "automargin": true,
           "gridcolor": "#EBF0F8",
           "linecolor": "#EBF0F8",
           "ticks": "",
           "title": {
            "standoff": 15
           },
           "zerolinecolor": "#EBF0F8",
           "zerolinewidth": 2
          }
         }
        },
        "title": {
         "font": {
          "color": "Black",
          "size": 22
         },
         "text": "<b>Hierarchical Clustering</b>",
         "x": 0.5,
         "xanchor": "center",
         "yanchor": "top"
        },
        "width": 1000,
        "xaxis": {
         "mirror": "allticks",
         "rangemode": "tozero",
         "showgrid": false,
         "showline": true,
         "showticklabels": true,
         "ticks": "outside",
         "type": "linear",
         "zeroline": false
        },
        "yaxis": {
         "mirror": "allticks",
         "range": [
          -690,
          0
         ],
         "rangemode": "tozero",
         "showgrid": false,
         "showline": true,
         "showticklabels": true,
         "tickmode": "array",
         "ticks": "outside",
         "ticktext": [
          "61_dish_sling_dishe",
          "31_dish_side_dishes",
          "16_husband_mother_family",
          "15_family_years_friend",
          "67_march_years_light",
          "58_winter_weather_summer",
          "3_soup_soups_hearty",
          "50_tuna_salad_sandwich",
          "64_sandwich_sandwiches_lunch",
          "9_bread_loaf_machine",
          "43_burger_burgers_hamburger",
          "59_taste_home_tastes",
          "32_ingredients_hand_taste",
          "2_cookbook_cookbooks_book",
          "8_chef_restaurant_show",
          "17_party_parties_appetizer",
          "57_meatballs_meatball_sauce",
          "19_pasta_spaghetti_noodles",
          "41_sausage_sausages_beef",
          "55_turkey_stuffing_leftover",
          "30_crock_pot_crockpot",
          "52_vegan_vegans_vegetarians",
          "38_beans_bean_lima",
          "11_rice_dish_grain",
          "7_spicy_chili_peppers",
          "45_curry_thai_paste",
          "39_tacos_tortilla_burritos",
          "36_salsa_chips_heat",
          "21_squash_zucchini_butternut",
          "51_tomatoes_tomato_garden",
          "5_salad_dressing_summer",
          "49_cheese_cheddar_cheeses",
          "27_parsley_vinegar_garlic",
          "10_potatoes_potato_sweet",
          "53_sodium_salt_salty",
          "13_shrimp_crab_salmon",
          "35_mushrooms_mushroom_button",
          "66_asparagus_spring_combina...",
          "18_pork_chops_tenderloin",
          "29_marinade_marinating_chic...",
          "68_steak_steaks_meat",
          "28_internet_allrecipescom_bhg",
          "65_zwt_alleasyrecipescom_gr...",
          "54_pancakes_pancake_waffles",
          "25_muffins_muffin_bran",
          "40_breakfast_brunch_lunch",
          "37_dessert_summer_desert",
          "22_strawberries_blueberries...",
          "46_ice_cream_vanilla",
          "20_drink_vodka_cocktail",
          "34_coffee_tea_cup",
          "14_christmas_gift_gifts",
          "0_cookies_cookie_chocolate",
          "4_cake_frosting_cheesecake",
          "47_nuts_walnuts_pecans",
          "48_giada_laurentiis_de",
          "23_card_name_something",
          "24_request_response_site",
          "60_pillsbury_bakeoff_winner",
          "63_biscuits_biscuit_dough",
          "56_paula_deen_deens",
          "6_yum_kidspots_yumo",
          "44_pizza_crust_pizzas",
          "26_pie_crust_pies",
          "42_carb_protein_carbs",
          "12_calories_mg_calorie",
          "33_points_watchers_weight",
          "1_magazine_issue_food",
          "62_magazine_digs_alaskaoutd..."
         ],
         "tickvals": [
          -5,
          -15,
          -25,
          -35,
          -45,
          -55,
          -65,
          -75,
          -85,
          -95,
          -105,
          -115,
          -125,
          -135,
          -145,
          -155,
          -165,
          -175,
          -185,
          -195,
          -205,
          -215,
          -225,
          -235,
          -245,
          -255,
          -265,
          -275,
          -285,
          -295,
          -305,
          -315,
          -325,
          -335,
          -345,
          -355,
          -365,
          -375,
          -385,
          -395,
          -405,
          -415,
          -425,
          -435,
          -445,
          -455,
          -465,
          -475,
          -485,
          -495,
          -505,
          -515,
          -525,
          -535,
          -545,
          -555,
          -565,
          -575,
          -585,
          -595,
          -605,
          -615,
          -625,
          -635,
          -645,
          -655,
          -665,
          -675,
          -685
         ],
         "type": "linear",
         "zeroline": false
        }
       }
      }
     },
     "metadata": {},
     "output_type": "display_data"
    }
   ],
   "source": [
    "# Visualisation des hiérarchies entre les topics\n",
    "topic_model.visualize_hierarchy()\n",
    "\n"
   ]
  },
  {
   "cell_type": "code",
   "execution_count": 46,
   "metadata": {},
   "outputs": [
    {
     "data": {
      "application/vnd.plotly.v1+json": {
       "config": {
        "plotlyServerURL": "https://plot.ly"
       },
       "data": [
        {
         "marker": {
          "color": "#D55E00"
         },
         "orientation": "h",
         "type": "bar",
         "x": [
          0.020940649727860573,
          0.02202917510330732,
          0.029236587283553283,
          0.03178338231452017,
          0.03410663159506347,
          0.04476333612262918,
          0.04651114549604908,
          0.07475263293609527,
          0.09408090882455751,
          0.1255080545148928
         ],
         "xaxis": "x",
         "y": [
          "sugar  ",
          "brownie  ",
          "brownies  ",
          "chip  ",
          "chips  ",
          "butter  ",
          "peanut  ",
          "chocolate  ",
          "cookie  ",
          "cookies  "
         ],
         "yaxis": "y"
        },
        {
         "marker": {
          "color": "#0072B2"
         },
         "orientation": "h",
         "type": "bar",
         "x": [
          0.017266192556050348,
          0.017917357686974663,
          0.018052434560665003,
          0.018227039404029626,
          0.018980689814070913,
          0.020080627544996787,
          0.02272167232579452,
          0.025647288440273388,
          0.04190448585421258,
          0.2039596342549886
         ],
         "xaxis": "x2",
         "y": [
          "womans  ",
          "bbc  ",
          "taste  ",
          "magazines  ",
          "years  ",
          "kraft  ",
          "home  ",
          "food  ",
          "issue  ",
          "magazine  "
         ],
         "yaxis": "y2"
        },
        {
         "marker": {
          "color": "#CC79A7"
         },
         "orientation": "h",
         "type": "bar",
         "x": [
          0.013782905518538646,
          0.014311806298979744,
          0.014813087288657203,
          0.015119688064758925,
          0.020005027742742928,
          0.021805707631069593,
          0.024245695172438627,
          0.034186454812684064,
          0.03578769222762382,
          0.17608294968042104
         ],
         "xaxis": "x3",
         "y": [
          "library  ",
          "cooker  ",
          "swap  ",
          "years  ",
          "booklet  ",
          "cooking  ",
          "church  ",
          "book  ",
          "cookbooks  ",
          "cookbook  "
         ],
         "yaxis": "y3"
        },
        {
         "marker": {
          "color": "#E69F00"
         },
         "orientation": "h",
         "type": "bar",
         "x": [
          0.014744172678200383,
          0.01483632519305742,
          0.01770492699881734,
          0.018680574028918633,
          0.019158349932783682,
          0.020535757887953917,
          0.025072979721892954,
          0.02822273068346738,
          0.04023585617125138,
          0.20681102139530674
         ],
         "xaxis": "x4",
         "y": [
          "comfort  ",
          "tomato  ",
          "day  ",
          "stock  ",
          "broth  ",
          "dumplings  ",
          "winter  ",
          "hearty  ",
          "soups  ",
          "soup  "
         ],
         "yaxis": "y4"
        },
        {
         "marker": {
          "color": "#56B4E9"
         },
         "orientation": "h",
         "type": "bar",
         "x": [
          0.020566450634648008,
          0.021209741466690777,
          0.02721984286873709,
          0.029964822498019687,
          0.03591445541670162,
          0.04238840013853225,
          0.04507069093364815,
          0.04571895238252302,
          0.047302114935470485,
          0.19945402204017712
         ],
         "xaxis": "x5",
         "y": [
          "cream  ",
          "pound  ",
          "moist  ",
          "mix  ",
          "chocolate  ",
          "cakes  ",
          "cupcakes  ",
          "cheesecake  ",
          "frosting  ",
          "cake  "
         ],
         "yaxis": "y5"
        },
        {
         "marker": {
          "color": "#009E73"
         },
         "orientation": "h",
         "type": "bar",
         "x": [
          0.014426530293069487,
          0.014463428110808226,
          0.014711369720092394,
          0.01822569161685426,
          0.01888137511671979,
          0.02085469432741856,
          0.037415736711567636,
          0.040623977426140906,
          0.05602074418711763,
          0.16862203936093337
         ],
         "xaxis": "x6",
         "y": [
          "meal  ",
          "fruit  ",
          "light  ",
          "greens  ",
          "lunch  ",
          "lettuce  ",
          "salads  ",
          "summer  ",
          "dressing  ",
          "salad  "
         ],
         "yaxis": "y6"
        },
        {
         "marker": {
          "color": "#F0E442"
         },
         "orientation": "h",
         "type": "bar",
         "x": [
          0.027482194537431216,
          0.03782987019460253,
          0.043455172587984904,
          0.05695850779493009,
          0.05737453411543603,
          0.05874107391466797,
          0.07450025195616884,
          0.07450025195616884,
          0.08808768907459488,
          2.6442003489759904
         ],
         "xaxis": "x7",
         "y": [
          "variation  ",
          "month  ",
          "eaters  ",
          "goodie  ",
          "helper  ",
          "sept  ",
          "yumyum  ",
          "yumo  ",
          "kidspots  ",
          "yum  "
         ],
         "yaxis": "y7"
        },
        {
         "marker": {
          "color": "#D55E00"
         },
         "orientation": "h",
         "type": "bar",
         "x": [
          0.013992001124406059,
          0.015227605980363797,
          0.015245113842647427,
          0.01630388065951053,
          0.020722109795616103,
          0.02458910948715628,
          0.04142808427139111,
          0.05288298351894876,
          0.10732499272804508,
          0.13728391286240219
         ],
         "xaxis": "x8",
         "y": [
          "dish  ",
          "cayenne  ",
          "powder  ",
          "tabasco  ",
          "sauce  ",
          "heat  ",
          "pepper  ",
          "peppers  ",
          "chili  ",
          "spicy  "
         ],
         "yaxis": "y8"
        }
       ],
       "layout": {
        "annotations": [
         {
          "font": {
           "size": 16
          },
          "showarrow": false,
          "text": "Topic 0",
          "x": 0.0875,
          "xanchor": "center",
          "xref": "paper",
          "y": 1,
          "yanchor": "bottom",
          "yref": "paper"
         },
         {
          "font": {
           "size": 16
          },
          "showarrow": false,
          "text": "Topic 1",
          "x": 0.36250000000000004,
          "xanchor": "center",
          "xref": "paper",
          "y": 1,
          "yanchor": "bottom",
          "yref": "paper"
         },
         {
          "font": {
           "size": 16
          },
          "showarrow": false,
          "text": "Topic 2",
          "x": 0.6375000000000001,
          "xanchor": "center",
          "xref": "paper",
          "y": 1,
          "yanchor": "bottom",
          "yref": "paper"
         },
         {
          "font": {
           "size": 16
          },
          "showarrow": false,
          "text": "Topic 3",
          "x": 0.9125,
          "xanchor": "center",
          "xref": "paper",
          "y": 1,
          "yanchor": "bottom",
          "yref": "paper"
         },
         {
          "font": {
           "size": 16
          },
          "showarrow": false,
          "text": "Topic 4",
          "x": 0.0875,
          "xanchor": "center",
          "xref": "paper",
          "y": 0.4,
          "yanchor": "bottom",
          "yref": "paper"
         },
         {
          "font": {
           "size": 16
          },
          "showarrow": false,
          "text": "Topic 5",
          "x": 0.36250000000000004,
          "xanchor": "center",
          "xref": "paper",
          "y": 0.4,
          "yanchor": "bottom",
          "yref": "paper"
         },
         {
          "font": {
           "size": 16
          },
          "showarrow": false,
          "text": "Topic 6",
          "x": 0.6375000000000001,
          "xanchor": "center",
          "xref": "paper",
          "y": 0.4,
          "yanchor": "bottom",
          "yref": "paper"
         },
         {
          "font": {
           "size": 16
          },
          "showarrow": false,
          "text": "Topic 7",
          "x": 0.9125,
          "xanchor": "center",
          "xref": "paper",
          "y": 0.4,
          "yanchor": "bottom",
          "yref": "paper"
         }
        ],
        "height": 800,
        "hoverlabel": {
         "bgcolor": "white",
         "font": {
          "family": "Rockwell",
          "size": 16
         }
        },
        "showlegend": false,
        "template": {
         "data": {
          "bar": [
           {
            "error_x": {
             "color": "#2a3f5f"
            },
            "error_y": {
             "color": "#2a3f5f"
            },
            "marker": {
             "line": {
              "color": "white",
              "width": 0.5
             },
             "pattern": {
              "fillmode": "overlay",
              "size": 10,
              "solidity": 0.2
             }
            },
            "type": "bar"
           }
          ],
          "barpolar": [
           {
            "marker": {
             "line": {
              "color": "white",
              "width": 0.5
             },
             "pattern": {
              "fillmode": "overlay",
              "size": 10,
              "solidity": 0.2
             }
            },
            "type": "barpolar"
           }
          ],
          "carpet": [
           {
            "aaxis": {
             "endlinecolor": "#2a3f5f",
             "gridcolor": "#C8D4E3",
             "linecolor": "#C8D4E3",
             "minorgridcolor": "#C8D4E3",
             "startlinecolor": "#2a3f5f"
            },
            "baxis": {
             "endlinecolor": "#2a3f5f",
             "gridcolor": "#C8D4E3",
             "linecolor": "#C8D4E3",
             "minorgridcolor": "#C8D4E3",
             "startlinecolor": "#2a3f5f"
            },
            "type": "carpet"
           }
          ],
          "choropleth": [
           {
            "colorbar": {
             "outlinewidth": 0,
             "ticks": ""
            },
            "type": "choropleth"
           }
          ],
          "contour": [
           {
            "colorbar": {
             "outlinewidth": 0,
             "ticks": ""
            },
            "colorscale": [
             [
              0,
              "#0d0887"
             ],
             [
              0.1111111111111111,
              "#46039f"
             ],
             [
              0.2222222222222222,
              "#7201a8"
             ],
             [
              0.3333333333333333,
              "#9c179e"
             ],
             [
              0.4444444444444444,
              "#bd3786"
             ],
             [
              0.5555555555555556,
              "#d8576b"
             ],
             [
              0.6666666666666666,
              "#ed7953"
             ],
             [
              0.7777777777777778,
              "#fb9f3a"
             ],
             [
              0.8888888888888888,
              "#fdca26"
             ],
             [
              1,
              "#f0f921"
             ]
            ],
            "type": "contour"
           }
          ],
          "contourcarpet": [
           {
            "colorbar": {
             "outlinewidth": 0,
             "ticks": ""
            },
            "type": "contourcarpet"
           }
          ],
          "heatmap": [
           {
            "colorbar": {
             "outlinewidth": 0,
             "ticks": ""
            },
            "colorscale": [
             [
              0,
              "#0d0887"
             ],
             [
              0.1111111111111111,
              "#46039f"
             ],
             [
              0.2222222222222222,
              "#7201a8"
             ],
             [
              0.3333333333333333,
              "#9c179e"
             ],
             [
              0.4444444444444444,
              "#bd3786"
             ],
             [
              0.5555555555555556,
              "#d8576b"
             ],
             [
              0.6666666666666666,
              "#ed7953"
             ],
             [
              0.7777777777777778,
              "#fb9f3a"
             ],
             [
              0.8888888888888888,
              "#fdca26"
             ],
             [
              1,
              "#f0f921"
             ]
            ],
            "type": "heatmap"
           }
          ],
          "heatmapgl": [
           {
            "colorbar": {
             "outlinewidth": 0,
             "ticks": ""
            },
            "colorscale": [
             [
              0,
              "#0d0887"
             ],
             [
              0.1111111111111111,
              "#46039f"
             ],
             [
              0.2222222222222222,
              "#7201a8"
             ],
             [
              0.3333333333333333,
              "#9c179e"
             ],
             [
              0.4444444444444444,
              "#bd3786"
             ],
             [
              0.5555555555555556,
              "#d8576b"
             ],
             [
              0.6666666666666666,
              "#ed7953"
             ],
             [
              0.7777777777777778,
              "#fb9f3a"
             ],
             [
              0.8888888888888888,
              "#fdca26"
             ],
             [
              1,
              "#f0f921"
             ]
            ],
            "type": "heatmapgl"
           }
          ],
          "histogram": [
           {
            "marker": {
             "pattern": {
              "fillmode": "overlay",
              "size": 10,
              "solidity": 0.2
             }
            },
            "type": "histogram"
           }
          ],
          "histogram2d": [
           {
            "colorbar": {
             "outlinewidth": 0,
             "ticks": ""
            },
            "colorscale": [
             [
              0,
              "#0d0887"
             ],
             [
              0.1111111111111111,
              "#46039f"
             ],
             [
              0.2222222222222222,
              "#7201a8"
             ],
             [
              0.3333333333333333,
              "#9c179e"
             ],
             [
              0.4444444444444444,
              "#bd3786"
             ],
             [
              0.5555555555555556,
              "#d8576b"
             ],
             [
              0.6666666666666666,
              "#ed7953"
             ],
             [
              0.7777777777777778,
              "#fb9f3a"
             ],
             [
              0.8888888888888888,
              "#fdca26"
             ],
             [
              1,
              "#f0f921"
             ]
            ],
            "type": "histogram2d"
           }
          ],
          "histogram2dcontour": [
           {
            "colorbar": {
             "outlinewidth": 0,
             "ticks": ""
            },
            "colorscale": [
             [
              0,
              "#0d0887"
             ],
             [
              0.1111111111111111,
              "#46039f"
             ],
             [
              0.2222222222222222,
              "#7201a8"
             ],
             [
              0.3333333333333333,
              "#9c179e"
             ],
             [
              0.4444444444444444,
              "#bd3786"
             ],
             [
              0.5555555555555556,
              "#d8576b"
             ],
             [
              0.6666666666666666,
              "#ed7953"
             ],
             [
              0.7777777777777778,
              "#fb9f3a"
             ],
             [
              0.8888888888888888,
              "#fdca26"
             ],
             [
              1,
              "#f0f921"
             ]
            ],
            "type": "histogram2dcontour"
           }
          ],
          "mesh3d": [
           {
            "colorbar": {
             "outlinewidth": 0,
             "ticks": ""
            },
            "type": "mesh3d"
           }
          ],
          "parcoords": [
           {
            "line": {
             "colorbar": {
              "outlinewidth": 0,
              "ticks": ""
             }
            },
            "type": "parcoords"
           }
          ],
          "pie": [
           {
            "automargin": true,
            "type": "pie"
           }
          ],
          "scatter": [
           {
            "fillpattern": {
             "fillmode": "overlay",
             "size": 10,
             "solidity": 0.2
            },
            "type": "scatter"
           }
          ],
          "scatter3d": [
           {
            "line": {
             "colorbar": {
              "outlinewidth": 0,
              "ticks": ""
             }
            },
            "marker": {
             "colorbar": {
              "outlinewidth": 0,
              "ticks": ""
             }
            },
            "type": "scatter3d"
           }
          ],
          "scattercarpet": [
           {
            "marker": {
             "colorbar": {
              "outlinewidth": 0,
              "ticks": ""
             }
            },
            "type": "scattercarpet"
           }
          ],
          "scattergeo": [
           {
            "marker": {
             "colorbar": {
              "outlinewidth": 0,
              "ticks": ""
             }
            },
            "type": "scattergeo"
           }
          ],
          "scattergl": [
           {
            "marker": {
             "colorbar": {
              "outlinewidth": 0,
              "ticks": ""
             }
            },
            "type": "scattergl"
           }
          ],
          "scattermapbox": [
           {
            "marker": {
             "colorbar": {
              "outlinewidth": 0,
              "ticks": ""
             }
            },
            "type": "scattermapbox"
           }
          ],
          "scatterpolar": [
           {
            "marker": {
             "colorbar": {
              "outlinewidth": 0,
              "ticks": ""
             }
            },
            "type": "scatterpolar"
           }
          ],
          "scatterpolargl": [
           {
            "marker": {
             "colorbar": {
              "outlinewidth": 0,
              "ticks": ""
             }
            },
            "type": "scatterpolargl"
           }
          ],
          "scatterternary": [
           {
            "marker": {
             "colorbar": {
              "outlinewidth": 0,
              "ticks": ""
             }
            },
            "type": "scatterternary"
           }
          ],
          "surface": [
           {
            "colorbar": {
             "outlinewidth": 0,
             "ticks": ""
            },
            "colorscale": [
             [
              0,
              "#0d0887"
             ],
             [
              0.1111111111111111,
              "#46039f"
             ],
             [
              0.2222222222222222,
              "#7201a8"
             ],
             [
              0.3333333333333333,
              "#9c179e"
             ],
             [
              0.4444444444444444,
              "#bd3786"
             ],
             [
              0.5555555555555556,
              "#d8576b"
             ],
             [
              0.6666666666666666,
              "#ed7953"
             ],
             [
              0.7777777777777778,
              "#fb9f3a"
             ],
             [
              0.8888888888888888,
              "#fdca26"
             ],
             [
              1,
              "#f0f921"
             ]
            ],
            "type": "surface"
           }
          ],
          "table": [
           {
            "cells": {
             "fill": {
              "color": "#EBF0F8"
             },
             "line": {
              "color": "white"
             }
            },
            "header": {
             "fill": {
              "color": "#C8D4E3"
             },
             "line": {
              "color": "white"
             }
            },
            "type": "table"
           }
          ]
         },
         "layout": {
          "annotationdefaults": {
           "arrowcolor": "#2a3f5f",
           "arrowhead": 0,
           "arrowwidth": 1
          },
          "autotypenumbers": "strict",
          "coloraxis": {
           "colorbar": {
            "outlinewidth": 0,
            "ticks": ""
           }
          },
          "colorscale": {
           "diverging": [
            [
             0,
             "#8e0152"
            ],
            [
             0.1,
             "#c51b7d"
            ],
            [
             0.2,
             "#de77ae"
            ],
            [
             0.3,
             "#f1b6da"
            ],
            [
             0.4,
             "#fde0ef"
            ],
            [
             0.5,
             "#f7f7f7"
            ],
            [
             0.6,
             "#e6f5d0"
            ],
            [
             0.7,
             "#b8e186"
            ],
            [
             0.8,
             "#7fbc41"
            ],
            [
             0.9,
             "#4d9221"
            ],
            [
             1,
             "#276419"
            ]
           ],
           "sequential": [
            [
             0,
             "#0d0887"
            ],
            [
             0.1111111111111111,
             "#46039f"
            ],
            [
             0.2222222222222222,
             "#7201a8"
            ],
            [
             0.3333333333333333,
             "#9c179e"
            ],
            [
             0.4444444444444444,
             "#bd3786"
            ],
            [
             0.5555555555555556,
             "#d8576b"
            ],
            [
             0.6666666666666666,
             "#ed7953"
            ],
            [
             0.7777777777777778,
             "#fb9f3a"
            ],
            [
             0.8888888888888888,
             "#fdca26"
            ],
            [
             1,
             "#f0f921"
            ]
           ],
           "sequentialminus": [
            [
             0,
             "#0d0887"
            ],
            [
             0.1111111111111111,
             "#46039f"
            ],
            [
             0.2222222222222222,
             "#7201a8"
            ],
            [
             0.3333333333333333,
             "#9c179e"
            ],
            [
             0.4444444444444444,
             "#bd3786"
            ],
            [
             0.5555555555555556,
             "#d8576b"
            ],
            [
             0.6666666666666666,
             "#ed7953"
            ],
            [
             0.7777777777777778,
             "#fb9f3a"
            ],
            [
             0.8888888888888888,
             "#fdca26"
            ],
            [
             1,
             "#f0f921"
            ]
           ]
          },
          "colorway": [
           "#636efa",
           "#EF553B",
           "#00cc96",
           "#ab63fa",
           "#FFA15A",
           "#19d3f3",
           "#FF6692",
           "#B6E880",
           "#FF97FF",
           "#FECB52"
          ],
          "font": {
           "color": "#2a3f5f"
          },
          "geo": {
           "bgcolor": "white",
           "lakecolor": "white",
           "landcolor": "white",
           "showlakes": true,
           "showland": true,
           "subunitcolor": "#C8D4E3"
          },
          "hoverlabel": {
           "align": "left"
          },
          "hovermode": "closest",
          "mapbox": {
           "style": "light"
          },
          "paper_bgcolor": "white",
          "plot_bgcolor": "white",
          "polar": {
           "angularaxis": {
            "gridcolor": "#EBF0F8",
            "linecolor": "#EBF0F8",
            "ticks": ""
           },
           "bgcolor": "white",
           "radialaxis": {
            "gridcolor": "#EBF0F8",
            "linecolor": "#EBF0F8",
            "ticks": ""
           }
          },
          "scene": {
           "xaxis": {
            "backgroundcolor": "white",
            "gridcolor": "#DFE8F3",
            "gridwidth": 2,
            "linecolor": "#EBF0F8",
            "showbackground": true,
            "ticks": "",
            "zerolinecolor": "#EBF0F8"
           },
           "yaxis": {
            "backgroundcolor": "white",
            "gridcolor": "#DFE8F3",
            "gridwidth": 2,
            "linecolor": "#EBF0F8",
            "showbackground": true,
            "ticks": "",
            "zerolinecolor": "#EBF0F8"
           },
           "zaxis": {
            "backgroundcolor": "white",
            "gridcolor": "#DFE8F3",
            "gridwidth": 2,
            "linecolor": "#EBF0F8",
            "showbackground": true,
            "ticks": "",
            "zerolinecolor": "#EBF0F8"
           }
          },
          "shapedefaults": {
           "line": {
            "color": "#2a3f5f"
           }
          },
          "ternary": {
           "aaxis": {
            "gridcolor": "#DFE8F3",
            "linecolor": "#A2B1C6",
            "ticks": ""
           },
           "baxis": {
            "gridcolor": "#DFE8F3",
            "linecolor": "#A2B1C6",
            "ticks": ""
           },
           "bgcolor": "white",
           "caxis": {
            "gridcolor": "#DFE8F3",
            "linecolor": "#A2B1C6",
            "ticks": ""
           }
          },
          "title": {
           "x": 0.05
          },
          "xaxis": {
           "automargin": true,
           "gridcolor": "#EBF0F8",
           "linecolor": "#EBF0F8",
           "ticks": "",
           "title": {
            "standoff": 15
           },
           "zerolinecolor": "#EBF0F8",
           "zerolinewidth": 2
          },
          "yaxis": {
           "automargin": true,
           "gridcolor": "#EBF0F8",
           "linecolor": "#EBF0F8",
           "ticks": "",
           "title": {
            "standoff": 15
           },
           "zerolinecolor": "#EBF0F8",
           "zerolinewidth": 2
          }
         }
        },
        "title": {
         "font": {
          "color": "Black",
          "size": 22
         },
         "text": "Topic Word Scores",
         "x": 0.5,
         "xanchor": "center",
         "yanchor": "top"
        },
        "width": 1600,
        "xaxis": {
         "anchor": "y",
         "domain": [
          0,
          0.175
         ],
         "showgrid": true
        },
        "xaxis2": {
         "anchor": "y2",
         "domain": [
          0.275,
          0.45
         ],
         "showgrid": true
        },
        "xaxis3": {
         "anchor": "y3",
         "domain": [
          0.55,
          0.7250000000000001
         ],
         "showgrid": true
        },
        "xaxis4": {
         "anchor": "y4",
         "domain": [
          0.825,
          1
         ],
         "showgrid": true
        },
        "xaxis5": {
         "anchor": "y5",
         "domain": [
          0,
          0.175
         ],
         "showgrid": true
        },
        "xaxis6": {
         "anchor": "y6",
         "domain": [
          0.275,
          0.45
         ],
         "showgrid": true
        },
        "xaxis7": {
         "anchor": "y7",
         "domain": [
          0.55,
          0.7250000000000001
         ],
         "showgrid": true
        },
        "xaxis8": {
         "anchor": "y8",
         "domain": [
          0.825,
          1
         ],
         "showgrid": true
        },
        "yaxis": {
         "anchor": "x",
         "domain": [
          0.6000000000000001,
          1
         ],
         "showgrid": true
        },
        "yaxis2": {
         "anchor": "x2",
         "domain": [
          0.6000000000000001,
          1
         ],
         "showgrid": true
        },
        "yaxis3": {
         "anchor": "x3",
         "domain": [
          0.6000000000000001,
          1
         ],
         "showgrid": true
        },
        "yaxis4": {
         "anchor": "x4",
         "domain": [
          0.6000000000000001,
          1
         ],
         "showgrid": true
        },
        "yaxis5": {
         "anchor": "x5",
         "domain": [
          0,
          0.4
         ],
         "showgrid": true
        },
        "yaxis6": {
         "anchor": "x6",
         "domain": [
          0,
          0.4
         ],
         "showgrid": true
        },
        "yaxis7": {
         "anchor": "x7",
         "domain": [
          0,
          0.4
         ],
         "showgrid": true
        },
        "yaxis8": {
         "anchor": "x8",
         "domain": [
          0,
          0.4
         ],
         "showgrid": true
        }
       }
      }
     },
     "metadata": {},
     "output_type": "display_data"
    }
   ],
   "source": [
    "# Visualisation des relations entre les topics\n",
    "topic_model.visualize_barchart(n_words=10, height=400, width=400)\n",
    "\n",
    "\n"
   ]
  },
  {
   "cell_type": "code",
   "execution_count": 47,
   "metadata": {},
   "outputs": [
    {
     "data": {
      "application/vnd.plotly.v1+json": {
       "config": {
        "plotlyServerURL": "https://plot.ly"
       },
       "data": [
        {
         "coloraxis": "coloraxis",
         "hovertemplate": "x: %{x}<br>y: %{y}<br>Similarity Score: %{z}<extra></extra>",
         "name": "0",
         "type": "heatmap",
         "x": [
          "0_cookies_cookie_chocolate",
          "4_cake_frosting_cheesecake",
          "9_bread_loaf_machine",
          "20_drink_vodka_cocktail",
          "22_strawberries_blueberries...",
          "25_muffins_muffin_bran",
          "26_pie_crust_pies",
          "31_dish_side_dishes",
          "32_ingredients_hand_taste",
          "34_coffee_tea_cup",
          "37_dessert_summer_desert",
          "40_breakfast_brunch_lunch",
          "46_ice_cream_vanilla",
          "54_pancakes_pancake_waffles",
          "63_biscuits_biscuit_dough",
          "1_magazine_issue_food",
          "2_cookbook_cookbooks_book",
          "8_chef_restaurant_show",
          "14_christmas_gift_gifts",
          "16_husband_mother_family",
          "17_party_parties_appetizer",
          "24_request_response_site",
          "33_points_watchers_weight",
          "56_paula_deen_deens",
          "60_pillsbury_bakeoff_winner",
          "3_soup_soups_hearty",
          "5_salad_dressing_summer",
          "7_spicy_chili_peppers",
          "10_potatoes_potato_sweet",
          "11_rice_dish_grain",
          "13_shrimp_crab_salmon",
          "18_pork_chops_tenderloin",
          "19_pasta_spaghetti_noodles",
          "21_squash_zucchini_butternut",
          "30_crock_pot_crockpot",
          "35_mushrooms_mushroom_button",
          "36_salsa_chips_heat",
          "38_beans_bean_lima",
          "39_tacos_tortilla_burritos",
          "41_sausage_sausages_beef",
          "43_burger_burgers_hamburger",
          "44_pizza_crust_pizzas",
          "45_curry_thai_paste",
          "49_cheese_cheddar_cheeses",
          "50_tuna_salad_sandwich",
          "51_tomatoes_tomato_garden",
          "55_turkey_stuffing_leftover",
          "57_meatballs_meatball_sauce",
          "64_sandwich_sandwiches_lunch",
          "68_steak_steaks_meat",
          "6_yum_kidspots_yumo",
          "12_calories_mg_calorie",
          "27_parsley_vinegar_garlic",
          "29_marinade_marinating_chic...",
          "42_carb_protein_carbs",
          "47_nuts_walnuts_pecans",
          "52_vegan_vegans_vegetarians",
          "53_sodium_salt_salty",
          "66_asparagus_spring_combina...",
          "15_family_years_friend",
          "28_internet_allrecipescom_bhg",
          "48_giada_laurentiis_de",
          "58_winter_weather_summer",
          "59_taste_home_tastes",
          "61_dish_sling_dishe",
          "65_zwt_alleasyrecipescom_gr...",
          "23_card_name_something",
          "62_magazine_digs_alaskaoutd...",
          "67_march_years_light"
         ],
         "xaxis": "x",
         "y": [
          "0_cookies_cookie_chocolate",
          "4_cake_frosting_cheesecake",
          "9_bread_loaf_machine",
          "20_drink_vodka_cocktail",
          "22_strawberries_blueberries...",
          "25_muffins_muffin_bran",
          "26_pie_crust_pies",
          "31_dish_side_dishes",
          "32_ingredients_hand_taste",
          "34_coffee_tea_cup",
          "37_dessert_summer_desert",
          "40_breakfast_brunch_lunch",
          "46_ice_cream_vanilla",
          "54_pancakes_pancake_waffles",
          "63_biscuits_biscuit_dough",
          "1_magazine_issue_food",
          "2_cookbook_cookbooks_book",
          "8_chef_restaurant_show",
          "14_christmas_gift_gifts",
          "16_husband_mother_family",
          "17_party_parties_appetizer",
          "24_request_response_site",
          "33_points_watchers_weight",
          "56_paula_deen_deens",
          "60_pillsbury_bakeoff_winner",
          "3_soup_soups_hearty",
          "5_salad_dressing_summer",
          "7_spicy_chili_peppers",
          "10_potatoes_potato_sweet",
          "11_rice_dish_grain",
          "13_shrimp_crab_salmon",
          "18_pork_chops_tenderloin",
          "19_pasta_spaghetti_noodles",
          "21_squash_zucchini_butternut",
          "30_crock_pot_crockpot",
          "35_mushrooms_mushroom_button",
          "36_salsa_chips_heat",
          "38_beans_bean_lima",
          "39_tacos_tortilla_burritos",
          "41_sausage_sausages_beef",
          "43_burger_burgers_hamburger",
          "44_pizza_crust_pizzas",
          "45_curry_thai_paste",
          "49_cheese_cheddar_cheeses",
          "50_tuna_salad_sandwich",
          "51_tomatoes_tomato_garden",
          "55_turkey_stuffing_leftover",
          "57_meatballs_meatball_sauce",
          "64_sandwich_sandwiches_lunch",
          "68_steak_steaks_meat",
          "6_yum_kidspots_yumo",
          "12_calories_mg_calorie",
          "27_parsley_vinegar_garlic",
          "29_marinade_marinating_chic...",
          "42_carb_protein_carbs",
          "47_nuts_walnuts_pecans",
          "52_vegan_vegans_vegetarians",
          "53_sodium_salt_salty",
          "66_asparagus_spring_combina...",
          "15_family_years_friend",
          "28_internet_allrecipescom_bhg",
          "48_giada_laurentiis_de",
          "58_winter_weather_summer",
          "59_taste_home_tastes",
          "61_dish_sling_dishe",
          "65_zwt_alleasyrecipescom_gr...",
          "23_card_name_something",
          "62_magazine_digs_alaskaoutd...",
          "67_march_years_light"
         ],
         "yaxis": "y",
         "z": [
          [
           1,
           0.9044831991195679,
           0.8839381337165833,
           0.8343052268028259,
           0.8763284683227539,
           0.901449978351593,
           0.8533123731613159,
           0.7799252271652222,
           0.8473702669143677,
           0.8461413383483887,
           0.8332086205482483,
           0.7834451198577881,
           0.8925923705101013,
           0.8818187117576599,
           0.8955636024475098,
           0.7424163222312927,
           0.759032130241394,
           0.7395961284637451,
           0.8232499361038208,
           0.7814511060714722,
           0.774439811706543,
           0.7499947547912598,
           0.756902813911438,
           0.7048792839050293,
           0.7557313442230225,
           0.8216912746429443,
           0.8086875677108765,
           0.8228968977928162,
           0.8380675315856934,
           0.7979975938796997,
           0.8137887120246887,
           0.8031585812568665,
           0.8138972520828247,
           0.8098909854888916,
           0.7935137748718262,
           0.7910764217376709,
           0.7657889127731323,
           0.8231751918792725,
           0.8416002988815308,
           0.812142014503479,
           0.8126976490020752,
           0.844645619392395,
           0.8193694353103638,
           0.8831597566604614,
           0.7954995036125183,
           0.7547595500946045,
           0.8053831458091736,
           0.7989473938941956,
           0.8496198654174805,
           0.7730395793914795,
           0.18628975749015808,
           0.7761474847793579,
           0.8281450867652893,
           0.7563347816467285,
           0.8048243522644043,
           0.8739440441131592,
           0.8020228743553162,
           0.7808020114898682,
           0.7815630435943604,
           0.624951958656311,
           0.6040068864822388,
           0.6381875276565552,
           0.609185516834259,
           0.6620123386383057,
           0.5813944339752197,
           0.4820801913738251,
           0.49705368280410767,
           0.3052893877029419,
           0.3952905535697937
          ],
          [
           0.9044831991195679,
           0.9999997615814209,
           0.857827365398407,
           0.8061316013336182,
           0.8353897929191589,
           0.8774857521057129,
           0.8694416284561157,
           0.7898550629615784,
           0.7906315326690674,
           0.8045766949653625,
           0.8781753778457642,
           0.7706661224365234,
           0.8717377185821533,
           0.9001765251159668,
           0.8297572731971741,
           0.7283626794815063,
           0.7612082958221436,
           0.742387056350708,
           0.8210931420326233,
           0.7996702790260315,
           0.8084841966629028,
           0.7200196981430054,
           0.7150890827178955,
           0.7442644834518433,
           0.7526739239692688,
           0.8016835451126099,
           0.7911548614501953,
           0.7795758247375488,
           0.8171732425689697,
           0.7613157033920288,
           0.7708073258399963,
           0.7456668615341187,
           0.8098565340042114,
           0.7951474189758301,
           0.8054121732711792,
           0.7666462659835815,
           0.7396864295005798,
           0.7753821611404419,
           0.7822461128234863,
           0.7723342180252075,
           0.7766591310501099,
           0.8340705037117004,
           0.8060399293899536,
           0.8519423007965088,
           0.7279354333877563,
           0.7609430551528931,
           0.7762421369552612,
           0.7843204140663147,
           0.8058887720108032,
           0.7419450283050537,
           0.1746979057788849,
           0.700101375579834,
           0.768965482711792,
           0.7155512571334839,
           0.7240440845489502,
           0.7798545956611633,
           0.723183810710907,
           0.6889024376869202,
           0.7413992881774902,
           0.6413217782974243,
           0.5840001106262207,
           0.6494287252426147,
           0.6308248043060303,
           0.6201173067092896,
           0.6047734022140503,
           0.46981602907180786,
           0.48105597496032715,
           0.27921825647354126,
           0.409574419260025
          ],
          [
           0.8839381337165833,
           0.857827365398407,
           1.0000001192092896,
           0.775635838508606,
           0.8282229900360107,
           0.8801404237747192,
           0.8584924340248108,
           0.8201229572296143,
           0.8253675699234009,
           0.8182708024978638,
           0.7951763868331909,
           0.7944191694259644,
           0.8149236440658569,
           0.8695285320281982,
           0.88837730884552,
           0.7534887790679932,
           0.7962099313735962,
           0.7433676719665527,
           0.7699242830276489,
           0.7674423456192017,
           0.7236719727516174,
           0.7425082325935364,
           0.7226341366767883,
           0.6702664494514465,
           0.7410800457000732,
           0.8363339900970459,
           0.8252745270729065,
           0.8133807182312012,
           0.8541666269302368,
           0.8315713405609131,
           0.8109066486358643,
           0.8331073522567749,
           0.830643892288208,
           0.8336474895477295,
           0.8147468566894531,
           0.8096251487731934,
           0.7786364555358887,
           0.8782534599304199,
           0.8296658992767334,
           0.8636654615402222,
           0.836597204208374,
           0.8667481541633606,
           0.8126323819160461,
           0.9011284112930298,
           0.7913700938224792,
           0.7887901067733765,
           0.7938162684440613,
           0.7886351346969604,
           0.8990646600723267,
           0.8169659376144409,
           0.1427486389875412,
           0.7518634796142578,
           0.8321791887283325,
           0.7701828479766846,
           0.792940616607666,
           0.8275671005249023,
           0.7885509729385376,
           0.7736197710037231,
           0.7948842644691467,
           0.5888799428939819,
           0.5842318534851074,
           0.6460953950881958,
           0.6340411901473999,
           0.6136256456375122,
           0.595671534538269,
           0.48400986194610596,
           0.444987952709198,
           0.33456069231033325,
           0.37052208185195923
          ],
          [
           0.8343052268028259,
           0.8061316013336182,
           0.775635838508606,
           1.0000001192092896,
           0.8393585681915283,
           0.7784231901168823,
           0.750194787979126,
           0.7607434988021851,
           0.8250614404678345,
           0.8997906446456909,
           0.8071787357330322,
           0.7457386255264282,
           0.8560664057731628,
           0.7884278893470764,
           0.769905686378479,
           0.7542418241500854,
           0.7345170378684998,
           0.7913770079612732,
           0.7641860842704773,
           0.7674492597579956,
           0.8296945095062256,
           0.6920531988143921,
           0.7281458377838135,
           0.745714545249939,
           0.7055288553237915,
           0.8355075120925903,
           0.809431791305542,
           0.8353973031044006,
           0.7984975576400757,
           0.7508189082145691,
           0.8080414533615112,
           0.7788592576980591,
           0.8035154342651367,
           0.7337587475776672,
           0.7980486154556274,
           0.7836041450500488,
           0.8081812858581543,
           0.7834404706954956,
           0.8010417222976685,
           0.7888610363006592,
           0.7910671234130859,
           0.7927896976470947,
           0.8179703950881958,
           0.8515235781669617,
           0.8128992319107056,
           0.748505175113678,
           0.7630058526992798,
           0.7987594604492188,
           0.8061351776123047,
           0.7894483804702759,
           0.163048654794693,
           0.6911216974258423,
           0.8028110265731812,
           0.7955414056777954,
           0.729688286781311,
           0.760385274887085,
           0.7180254459381104,
           0.7652735710144043,
           0.7397708892822266,
           0.6305459141731262,
           0.571887731552124,
           0.6799876689910889,
           0.6453596949577332,
           0.7171143889427185,
           0.5661672353744507,
           0.5034765601158142,
           0.49986541271209717,
           0.34384268522262573,
           0.41205042600631714
          ],
          [
           0.8763284683227539,
           0.8353897929191589,
           0.8282229900360107,
           0.8393585681915283,
           0.9999997615814209,
           0.8703200817108154,
           0.8261301517486572,
           0.7187138199806213,
           0.8131351470947266,
           0.8310978412628174,
           0.8257402181625366,
           0.750241756439209,
           0.8604345321655273,
           0.8410613536834717,
           0.8233195543289185,
           0.7197030782699585,
           0.708134651184082,
           0.729151725769043,
           0.7426877021789551,
           0.7431014776229858,
           0.732401967048645,
           0.6711785793304443,
           0.6944571733474731,
           0.6758506298065186,
           0.7218734622001648,
           0.8154051303863525,
           0.8349347114562988,
           0.8248316049575806,
           0.8679612874984741,
           0.8094205856323242,
           0.8171525001525879,
           0.7913112640380859,
           0.7842729091644287,
           0.8521374464035034,
           0.762498140335083,
           0.8246456384658813,
           0.8045728206634521,
           0.844184398651123,
           0.7962294816970825,
           0.8010995984077454,
           0.7796406745910645,
           0.8110052347183228,
           0.7887592315673828,
           0.8603711128234863,
           0.8142520189285278,
           0.8537490367889404,
           0.772689938545227,
           0.817745566368103,
           0.8151569366455078,
           0.7802886962890625,
           0.1577230989933014,
           0.7586405277252197,
           0.8334448337554932,
           0.7605308890342712,
           0.798060417175293,
           0.893156886100769,
           0.7965943813323975,
           0.7611451148986816,
           0.8233450651168823,
           0.5896302461624146,
           0.5502859354019165,
           0.6072860956192017,
           0.5998629927635193,
           0.6380058526992798,
           0.49605995416641235,
           0.45821601152420044,
           0.4397466480731964,
           0.30237025022506714,
           0.3600555658340454
          ],
          [
           0.901449978351593,
           0.8774857521057129,
           0.8801404237747192,
           0.7784231901168823,
           0.8703200817108154,
           1,
           0.8311554193496704,
           0.7421312928199768,
           0.8122798204421997,
           0.8377223014831543,
           0.8185146450996399,
           0.8029459714889526,
           0.8517199158668518,
           0.915797233581543,
           0.8639376163482666,
           0.6916214227676392,
           0.7338846921920776,
           0.6963711977005005,
           0.749862551689148,
           0.744183361530304,
           0.7173600792884827,
           0.6646280288696289,
           0.7033666372299194,
           0.6704543828964233,
           0.7388337850570679,
           0.8062199354171753,
           0.8089487552642822,
           0.7885892391204834,
           0.8167577981948853,
           0.7982020974159241,
           0.7566874027252197,
           0.7831658124923706,
           0.7946750521659851,
           0.8116587400436401,
           0.8038053512573242,
           0.7635347843170166,
           0.7577086687088013,
           0.814622163772583,
           0.8116207122802734,
           0.8005442023277283,
           0.7717882394790649,
           0.8208590745925903,
           0.7922413349151611,
           0.8398029804229736,
           0.7648366093635559,
           0.7745740413665771,
           0.7834600210189819,
           0.7563225030899048,
           0.8140137195587158,
           0.7359318137168884,
           0.15294140577316284,
           0.7798277139663696,
           0.8049957752227783,
           0.7344293594360352,
           0.8090795278549194,
           0.842280924320221,
           0.7921934127807617,
           0.7502695322036743,
           0.7658088803291321,
           0.5838409662246704,
           0.5349216461181641,
           0.5904065370559692,
           0.5792361497879028,
           0.6096917986869812,
           0.5271175503730774,
           0.4337037205696106,
           0.4395238161087036,
           0.2791723608970642,
           0.3479034900665283
          ],
          [
           0.8533123731613159,
           0.8694416284561157,
           0.8584924340248108,
           0.750194787979126,
           0.8261301517486572,
           0.8311554193496704,
           1,
           0.7983427047729492,
           0.7532552480697632,
           0.7368996739387512,
           0.8366699814796448,
           0.7207022905349731,
           0.8383836150169373,
           0.8480545282363892,
           0.7985996603965759,
           0.6583925485610962,
           0.6904177665710449,
           0.7103941440582275,
           0.7388463020324707,
           0.7403554916381836,
           0.7208142280578613,
           0.6793002486228943,
           0.6851965188980103,
           0.6689028739929199,
           0.6550852060317993,
           0.7898571491241455,
           0.7852378487586975,
           0.7990058660507202,
           0.8337629437446594,
           0.7665224671363831,
           0.8233832120895386,
           0.8060809373855591,
           0.8162186145782471,
           0.8123140335083008,
           0.7822800874710083,
           0.7758524417877197,
           0.7711737155914307,
           0.7961599826812744,
           0.7905256748199463,
           0.8153315782546997,
           0.7885003089904785,
           0.8905885815620422,
           0.7898980379104614,
           0.8683291673660278,
           0.7686066627502441,
           0.7489519119262695,
           0.7611768245697021,
           0.7928476333618164,
           0.8353483080863953,
           0.7949798107147217,
           0.15793265402317047,
           0.7155471444129944,
           0.7746957540512085,
           0.7392982244491577,
           0.7191742658615112,
           0.8122814893722534,
           0.721178412437439,
           0.7449642419815063,
           0.7442346811294556,
           0.566283106803894,
           0.5117411613464355,
           0.613128662109375,
           0.602764368057251,
           0.6109458804130554,
           0.6074181795120239,
           0.4425535500049591,
           0.4468177556991577,
           0.22524045407772064,
           0.3536829650402069
          ],
          [
           0.7799252271652222,
           0.7898550629615784,
           0.8201229572296143,
           0.7607434988021851,
           0.7187138199806213,
           0.7421312928199768,
           0.7983427047729492,
           1.000000238418579,
           0.7858543395996094,
           0.7702953815460205,
           0.8486638069152832,
           0.8735560178756714,
           0.7432218790054321,
           0.7820479869842529,
           0.7910608053207397,
           0.731637716293335,
           0.7905306816101074,
           0.7847194075584412,
           0.7446030378341675,
           0.8035590052604675,
           0.8245713710784912,
           0.7640254497528076,
           0.782709002494812,
           0.7093872427940369,
           0.6952822208404541,
           0.8273932933807373,
           0.8473861813545227,
           0.7888153791427612,
           0.847224771976471,
           0.838934063911438,
           0.8414981365203857,
           0.816537082195282,
           0.8443857431411743,
           0.7702102065086365,
           0.8539871573448181,
           0.7565146684646606,
           0.7679880261421204,
           0.8010871410369873,
           0.8273706436157227,
           0.8112527132034302,
           0.8040212392807007,
           0.8198345899581909,
           0.8069659471511841,
           0.815233588218689,
           0.8019614219665527,
           0.7690392732620239,
           0.839652419090271,
           0.7748874425888062,
           0.8496216535568237,
           0.8383222818374634,
           0.19063915312290192,
           0.6894123554229736,
           0.7449438571929932,
           0.7867723107337952,
           0.7045817375183105,
           0.697185754776001,
           0.7049859762191772,
           0.6967594623565674,
           0.7638461589813232,
           0.6469388604164124,
           0.5952346324920654,
           0.7239313125610352,
           0.7104111909866333,
           0.6849309206008911,
           0.8514014482498169,
           0.5200198292732239,
           0.5478108525276184,
           0.323248028755188,
           0.4688664376735687
          ],
          [
           0.8473702669143677,
           0.7906315326690674,
           0.8253675699234009,
           0.8250614404678345,
           0.8131351470947266,
           0.8122798204421997,
           0.7532552480697632,
           0.7858543395996094,
           1,
           0.8109148740768433,
           0.7836883664131165,
           0.7543675303459167,
           0.829877495765686,
           0.7937638759613037,
           0.7760315537452698,
           0.7526043653488159,
           0.793653130531311,
           0.6969554424285889,
           0.7053569555282593,
           0.713882565498352,
           0.7043036222457886,
           0.7758523225784302,
           0.7675728797912598,
           0.6533780694007874,
           0.6968040466308594,
           0.8186327219009399,
           0.8302752375602722,
           0.8301090598106384,
           0.8196964263916016,
           0.8155685067176819,
           0.785351037979126,
           0.7937269806861877,
           0.810382604598999,
           0.7652991414070129,
           0.7834355235099792,
           0.8041508197784424,
           0.7945365309715271,
           0.8072472810745239,
           0.8136593103408813,
           0.8027002811431885,
           0.7655349969863892,
           0.7951632738113403,
           0.8135572671890259,
           0.8428046703338623,
           0.78705233335495,
           0.8025673627853394,
           0.7756476402282715,
           0.7661272287368774,
           0.7818061709403992,
           0.8005982637405396,
           0.20451635122299194,
           0.8050700426101685,
           0.8741430640220642,
           0.8256892561912537,
           0.8571988344192505,
           0.8149499893188477,
           0.8136382102966309,
           0.8326267004013062,
           0.8121981620788574,
           0.5690373182296753,
           0.6255718469619751,
           0.6299794912338257,
           0.6039342880249023,
           0.7179980278015137,
           0.5868456363677979,
           0.4584685266017914,
           0.4935707449913025,
           0.35344839096069336,
           0.4016827940940857
          ],
          [
           0.8461413383483887,
           0.8045766949653625,
           0.8182708024978638,
           0.8997906446456909,
           0.8310978412628174,
           0.8377223014831543,
           0.7368996739387512,
           0.7702953815460205,
           0.8109148740768433,
           1.0000003576278687,
           0.7987236976623535,
           0.7973295450210571,
           0.8470286130905151,
           0.7998840808868408,
           0.8081444501876831,
           0.7277624607086182,
           0.730358362197876,
           0.7462286949157715,
           0.7360725402832031,
           0.7378796339035034,
           0.7523694038391113,
           0.7041113376617432,
           0.7034924030303955,
           0.6950526237487793,
           0.7176520824432373,
           0.838577926158905,
           0.7831954956054688,
           0.8121858835220337,
           0.7897284030914307,
           0.7862096428871155,
           0.7621376514434814,
           0.7357696294784546,
           0.7864850759506226,
           0.7290228605270386,
           0.7995120286941528,
           0.7587316632270813,
           0.7456765174865723,
           0.8306926488876343,
           0.8042050004005432,
           0.7812713384628296,
           0.7616878151893616,
           0.7769412994384766,
           0.8197838664054871,
           0.8194359540939331,
           0.771770715713501,
           0.7277234196662903,
           0.7583807706832886,
           0.7522988319396973,
           0.8029022812843323,
           0.7469789981842041,
           0.1771394908428192,
           0.7036868333816528,
           0.7987798452377319,
           0.7396448850631714,
           0.7476142644882202,
           0.7784426212310791,
           0.7333893775939941,
           0.7431836128234863,
           0.7416050434112549,
           0.6002635359764099,
           0.5904226303100586,
           0.6874487400054932,
           0.6392828822135925,
           0.7130880355834961,
           0.583160936832428,
           0.5061651468276978,
           0.5116046667098999,
           0.3339683413505554,
           0.40984052419662476
          ],
          [
           0.8332086205482483,
           0.8781753778457642,
           0.7951763868331909,
           0.8071787357330322,
           0.8257402181625366,
           0.8185146450996399,
           0.8366699814796448,
           0.8486638069152832,
           0.7836883664131165,
           0.7987236976623535,
           1.0000001192092896,
           0.8699612617492676,
           0.850622296333313,
           0.8329793810844421,
           0.7791403532028198,
           0.7270117402076721,
           0.7730652093887329,
           0.7574466466903687,
           0.7777385115623474,
           0.7809072732925415,
           0.8415669202804565,
           0.7103533744812012,
           0.7218357920646667,
           0.7023531198501587,
           0.7292846441268921,
           0.7870960235595703,
           0.8500202894210815,
           0.7699849605560303,
           0.8030704259872437,
           0.7855297327041626,
           0.7666983604431152,
           0.7501950263977051,
           0.8001056909561157,
           0.7584999799728394,
           0.7929717302322388,
           0.7356985211372375,
           0.7643057107925415,
           0.7505846619606018,
           0.7845968008041382,
           0.7382699251174927,
           0.7518925666809082,
           0.8134421110153198,
           0.7808427810668945,
           0.7861363887786865,
           0.7509526014328003,
           0.7632808089256287,
           0.7906858921051025,
           0.7531816959381104,
           0.7851176261901855,
           0.7639161944389343,
           0.17890554666519165,
           0.7166075706481934,
           0.7260412573814392,
           0.7386472225189209,
           0.7027866244316101,
           0.7438039779663086,
           0.6887988448143005,
           0.6665422320365906,
           0.7260966897010803,
           0.627120852470398,
           0.5590546131134033,
           0.6474677920341492,
           0.7162798643112183,
           0.6924686431884766,
           0.6408764719963074,
           0.481772243976593,
           0.48772335052490234,
           0.3017367422580719,
           0.4630081057548523
          ],
          [
           0.7834451198577881,
           0.7706661224365234,
           0.7944191694259644,
           0.7457386255264282,
           0.750241756439209,
           0.8029459714889526,
           0.7207022905349731,
           0.8735560178756714,
           0.7543675303459167,
           0.7973295450210571,
           0.8699612617492676,
           1,
           0.7540068030357361,
           0.8173928260803223,
           0.8012453317642212,
           0.6952284574508667,
           0.7447893619537354,
           0.7022171020507812,
           0.7160634398460388,
           0.7631034255027771,
           0.8124134540557861,
           0.6827815175056458,
           0.7468788623809814,
           0.6469277143478394,
           0.6979269981384277,
           0.8229886293411255,
           0.854009747505188,
           0.7443028688430786,
           0.7965468168258667,
           0.8210505247116089,
           0.7637284398078918,
           0.7706587314605713,
           0.8237588405609131,
           0.7316619157791138,
           0.7980108261108398,
           0.7111440300941467,
           0.7421097755432129,
           0.755638837814331,
           0.8126493096351624,
           0.7710586786270142,
           0.7581564784049988,
           0.7924851179122925,
           0.7496632933616638,
           0.7526108622550964,
           0.7874106764793396,
           0.7177398204803467,
           0.825416088104248,
           0.7422259449958801,
           0.8333519697189331,
           0.7565782070159912,
           0.19891399145126343,
           0.7404301166534424,
           0.7193227410316467,
           0.7392955422401428,
           0.754457950592041,
           0.7138081192970276,
           0.6940117478370667,
           0.6859471201896667,
           0.7308584451675415,
           0.606033444404602,
           0.5424209237098694,
           0.6394281387329102,
           0.6695382595062256,
           0.6496987342834473,
           0.6705824136734009,
           0.44393038749694824,
           0.512121856212616,
           0.32150858640670776,
           0.45494115352630615
          ],
          [
           0.8925923705101013,
           0.8717377185821533,
           0.8149236440658569,
           0.8560664057731628,
           0.8604345321655273,
           0.8517199158668518,
           0.8383836150169373,
           0.7432218790054321,
           0.829877495765686,
           0.8470286130905151,
           0.850622296333313,
           0.7540068030357361,
           0.9999997615814209,
           0.8494415283203125,
           0.7877728939056396,
           0.7088547348976135,
           0.7020936012268066,
           0.714924693107605,
           0.7380567789077759,
           0.7114231586456299,
           0.7497615814208984,
           0.6785926818847656,
           0.6979371905326843,
           0.6786465048789978,
           0.6923425197601318,
           0.8084716796875,
           0.8143937587738037,
           0.8535051345825195,
           0.8168762922286987,
           0.7686194181442261,
           0.7730404138565063,
           0.7495074272155762,
           0.8113607168197632,
           0.7718597650527954,
           0.7680282592773438,
           0.7750899791717529,
           0.7935600280761719,
           0.7808389067649841,
           0.7978517413139343,
           0.7736759185791016,
           0.7795456647872925,
           0.8250433206558228,
           0.8042939901351929,
           0.8642681837081909,
           0.7914190888404846,
           0.7270921468734741,
           0.7485003471374512,
           0.7974304556846619,
           0.7959673404693604,
           0.7602774500846863,
           0.14419087767601013,
           0.7593652009963989,
           0.8221653699874878,
           0.7573699951171875,
           0.7664828300476074,
           0.8190822601318359,
           0.7402166724205017,
           0.8003873825073242,
           0.7700363397598267,
           0.5369259715080261,
           0.531207799911499,
           0.5956026315689087,
           0.6028096675872803,
           0.6521857976913452,
           0.5420235395431519,
           0.42790156602859497,
           0.4236293137073517,
           0.26127251982688904,
           0.33878231048583984
          ],
          [
           0.8818187117576599,
           0.9001765251159668,
           0.8695285320281982,
           0.7884278893470764,
           0.8410613536834717,
           0.915797233581543,
           0.8480545282363892,
           0.7820479869842529,
           0.7937638759613037,
           0.7998840808868408,
           0.8329793810844421,
           0.8173928260803223,
           0.8494415283203125,
           0.9999996423721313,
           0.853247880935669,
           0.6906059980392456,
           0.7332940101623535,
           0.7208651900291443,
           0.7458879351615906,
           0.7570183277130127,
           0.7626323103904724,
           0.6816619634628296,
           0.7192090153694153,
           0.6738940477371216,
           0.7245845198631287,
           0.8099881410598755,
           0.8104859590530396,
           0.7989883422851562,
           0.8285362720489502,
           0.7765903472900391,
           0.7700495719909668,
           0.7836544513702393,
           0.8249459266662598,
           0.8172949552536011,
           0.8118306994438171,
           0.7572710514068604,
           0.7736616134643555,
           0.794258713722229,
           0.8084856271743774,
           0.7989187240600586,
           0.8051589727401733,
           0.834864616394043,
           0.7888733744621277,
           0.8506914377212524,
           0.7742523550987244,
           0.7725020051002502,
           0.77608323097229,
           0.7972596287727356,
           0.847217321395874,
           0.7726491689682007,
           0.16058653593063354,
           0.7329317331314087,
           0.7961965799331665,
           0.7249164581298828,
           0.7663308382034302,
           0.8023844957351685,
           0.7524625062942505,
           0.7472020387649536,
           0.7582656741142273,
           0.5875608325004578,
           0.5359240174293518,
           0.6138237714767456,
           0.6023066639900208,
           0.5910975933074951,
           0.57669997215271,
           0.44337281584739685,
           0.4406297206878662,
           0.253537654876709,
           0.35700228810310364
          ],
          [
           0.8955636024475098,
           0.8297572731971741,
           0.88837730884552,
           0.769905686378479,
           0.8233195543289185,
           0.8639376163482666,
           0.7985996603965759,
           0.7910608053207397,
           0.7760315537452698,
           0.8081444501876831,
           0.7791403532028198,
           0.8012453317642212,
           0.7877728939056396,
           0.853247880935669,
           0.9999998807907104,
           0.7164531946182251,
           0.7337356805801392,
           0.7405146956443787,
           0.7483804225921631,
           0.7351479530334473,
           0.7408580183982849,
           0.6864335536956787,
           0.6974621415138245,
           0.6686084866523743,
           0.7809156775474548,
           0.8013356924057007,
           0.7724807262420654,
           0.7678329944610596,
           0.8211390972137451,
           0.7810640931129456,
           0.7921866774559021,
           0.8084173798561096,
           0.7892091274261475,
           0.7796688079833984,
           0.7920294404029846,
           0.7465630769729614,
           0.7423403263092041,
           0.8049558997154236,
           0.8243889808654785,
           0.8053820133209229,
           0.7770517468452454,
           0.8116024732589722,
           0.7670583724975586,
           0.8435684442520142,
           0.7639503479003906,
           0.7268571853637695,
           0.8151730298995972,
           0.7675860524177551,
           0.8588628768920898,
           0.7772912383079529,
           0.1526225507259369,
           0.7148003578186035,
           0.7755687832832336,
           0.7397657632827759,
           0.7562257647514343,
           0.7988839745521545,
           0.7642896175384521,
           0.7121207118034363,
           0.7308424711227417,
           0.5598644614219666,
           0.5734663009643555,
           0.6235629320144653,
           0.573632001876831,
           0.5990881323814392,
           0.6101428866386414,
           0.501017689704895,
           0.4355563521385193,
           0.3085322678089142,
           0.34453701972961426
          ],
          [
           0.7424163222312927,
           0.7283626794815063,
           0.7534887790679932,
           0.7542418241500854,
           0.7197030782699585,
           0.6916214227676392,
           0.6583925485610962,
           0.731637716293335,
           0.7526043653488159,
           0.7277624607086182,
           0.7270117402076721,
           0.6952284574508667,
           0.7088547348976135,
           0.6906059980392456,
           0.7164531946182251,
           1,
           0.8682540655136108,
           0.8442310094833374,
           0.7551982402801514,
           0.7622369527816772,
           0.7739694118499756,
           0.7911660671234131,
           0.7639919519424438,
           0.7239802479743958,
           0.782463014125824,
           0.7543115615844727,
           0.739757239818573,
           0.6871798038482666,
           0.7049185037612915,
           0.6749316453933716,
           0.7034789323806763,
           0.6550238132476807,
           0.7012513279914856,
           0.7071239948272705,
           0.7361677885055542,
           0.6910958886146545,
           0.6948232054710388,
           0.7024697661399841,
           0.6968382596969604,
           0.6952175498008728,
           0.7543591856956482,
           0.7129693031311035,
           0.6981616020202637,
           0.7496674656867981,
           0.6896146535873413,
           0.7223764657974243,
           0.686902642250061,
           0.7049810886383057,
           0.754845380783081,
           0.7221344709396362,
           0.1902543306350708,
           0.6161739230155945,
           0.6694274544715881,
           0.6353135108947754,
           0.6486228704452515,
           0.6375318169593811,
           0.6773720383644104,
           0.6006268858909607,
           0.6536602973937988,
           0.6742737293243408,
           0.6747161149978638,
           0.6405818462371826,
           0.6826278567314148,
           0.6536215543746948,
           0.5726897716522217,
           0.5835365056991577,
           0.5043338537216187,
           0.741646409034729,
           0.508064866065979
          ],
          [
           0.759032130241394,
           0.7612082958221436,
           0.7962099313735962,
           0.7345170378684998,
           0.708134651184082,
           0.7338846921920776,
           0.6904177665710449,
           0.7905306816101074,
           0.793653130531311,
           0.730358362197876,
           0.7730652093887329,
           0.7447893619537354,
           0.7020936012268066,
           0.7332940101623535,
           0.7337356805801392,
           0.8682540655136108,
           0.9999997615814209,
           0.8027279376983643,
           0.7529146671295166,
           0.7731069326400757,
           0.7409206628799438,
           0.7799581289291382,
           0.755011260509491,
           0.678865909576416,
           0.7961603403091431,
           0.7737425565719604,
           0.7835638523101807,
           0.6772340536117554,
           0.7421166896820068,
           0.7255550622940063,
           0.7202537059783936,
           0.7199342250823975,
           0.7398302555084229,
           0.6999462842941284,
           0.8229331970214844,
           0.6984635591506958,
           0.7081027030944824,
           0.7351461052894592,
           0.7382951378822327,
           0.7214583158493042,
           0.7670670747756958,
           0.7342031002044678,
           0.7313811779022217,
           0.7573981881141663,
           0.6961943507194519,
           0.7229089736938477,
           0.7323501110076904,
           0.7052024602890015,
           0.7573578357696533,
           0.7514516115188599,
           0.13884077966213226,
           0.6467028856277466,
           0.7185946106910706,
           0.7013493776321411,
           0.666016697883606,
           0.652448296546936,
           0.6810263395309448,
           0.6267775297164917,
           0.6911112070083618,
           0.6412410736083984,
           0.6458621621131897,
           0.6118130683898926,
           0.61543869972229,
           0.6193901300430298,
           0.6165101528167725,
           0.5119714736938477,
           0.45811307430267334,
           0.492279052734375,
           0.4242258667945862
          ],
          [
           0.7395961284637451,
           0.742387056350708,
           0.7433676719665527,
           0.7913770079612732,
           0.729151725769043,
           0.6963711977005005,
           0.7103941440582275,
           0.7847194075584412,
           0.6969554424285889,
           0.7462286949157715,
           0.7574466466903687,
           0.7022171020507812,
           0.714924693107605,
           0.7208651900291443,
           0.7405146956443787,
           0.8442310094833374,
           0.8027279376983643,
           0.9999999403953552,
           0.7664827108383179,
           0.8311328887939453,
           0.825965166091919,
           0.7324919700622559,
           0.7429027557373047,
           0.806556224822998,
           0.8088117837905884,
           0.7722845077514648,
           0.7558104991912842,
           0.7093195915222168,
           0.7475115656852722,
           0.7007544040679932,
           0.7965250611305237,
           0.6957367658615112,
           0.7141563296318054,
           0.7134526371955872,
           0.7937670946121216,
           0.6966508626937866,
           0.7068414688110352,
           0.7366909980773926,
           0.7481914162635803,
           0.7361565828323364,
           0.8164717555046082,
           0.7513753175735474,
           0.7277172207832336,
           0.7806708216667175,
           0.7278198003768921,
           0.7386881113052368,
           0.7367346286773682,
           0.7337862253189087,
           0.7972018718719482,
           0.7629242539405823,
           0.13645169138908386,
           0.571082353591919,
           0.6679065823554993,
           0.6611371040344238,
           0.5884466171264648,
           0.650466799736023,
           0.6618078947067261,
           0.6055719256401062,
           0.663843035697937,
           0.7519626021385193,
           0.6320739984512329,
           0.7318675518035889,
           0.7140085101127625,
           0.6647745370864868,
           0.6266525983810425,
           0.6743614673614502,
           0.5156563520431519,
           0.4818670153617859,
           0.49194157123565674
          ],
          [
           0.8232499361038208,
           0.8210931420326233,
           0.7699242830276489,
           0.7641860842704773,
           0.7426877021789551,
           0.749862551689148,
           0.7388463020324707,
           0.7446030378341675,
           0.7053569555282593,
           0.7360725402832031,
           0.7777385115623474,
           0.7160634398460388,
           0.7380567789077759,
           0.7458879351615906,
           0.7483804225921631,
           0.7551982402801514,
           0.7529146671295166,
           0.7664827108383179,
           0.9999997615814209,
           0.878364086151123,
           0.8347513675689697,
           0.7060551047325134,
           0.691199779510498,
           0.7161456346511841,
           0.7234541177749634,
           0.7357273101806641,
           0.7219722270965576,
           0.6776782274246216,
           0.7401523590087891,
           0.6710845232009888,
           0.7194466590881348,
           0.6579486727714539,
           0.7126476764678955,
           0.6977872848510742,
           0.7478997707366943,
           0.66463303565979,
           0.6487432718276978,
           0.7194170951843262,
           0.707308828830719,
           0.7089037895202637,
           0.7141251564025879,
           0.7350231409072876,
           0.700855553150177,
           0.7720310688018799,
           0.6713457107543945,
           0.7014050483703613,
           0.765783429145813,
           0.7010129690170288,
           0.754788875579834,
           0.6694828271865845,
           0.17217808961868286,
           0.5666252374649048,
           0.6554850339889526,
           0.6047976016998291,
           0.5809837579727173,
           0.6748384237289429,
           0.6488687992095947,
           0.5777724981307983,
           0.6505208611488342,
           0.765643835067749,
           0.5241292715072632,
           0.6255012154579163,
           0.7089952230453491,
           0.6027886867523193,
           0.5644925832748413,
           0.49656808376312256,
           0.49507787823677063,
           0.34550777077674866,
           0.5412951707839966
          ],
          [
           0.7814511060714722,
           0.7996702790260315,
           0.7674423456192017,
           0.7674492597579956,
           0.7431014776229858,
           0.744183361530304,
           0.7403554916381836,
           0.8035590052604675,
           0.713882565498352,
           0.7378796339035034,
           0.7809072732925415,
           0.7631034255027771,
           0.7114231586456299,
           0.7570183277130127,
           0.7351479530334473,
           0.7622369527816772,
           0.7731069326400757,
           0.8311328887939453,
           0.878364086151123,
           0.9999997615814209,
           0.8526298999786377,
           0.7246900796890259,
           0.725883960723877,
           0.7812162637710571,
           0.6983799934387207,
           0.7740766406059265,
           0.7543085813522339,
           0.6959816217422485,
           0.7793154716491699,
           0.7118439674377441,
           0.7729870080947876,
           0.7060976624488831,
           0.7480485439300537,
           0.7192847728729248,
           0.7942702770233154,
           0.6912363767623901,
           0.679702877998352,
           0.753642201423645,
           0.7242928743362427,
           0.7387514710426331,
           0.7611565589904785,
           0.7551422119140625,
           0.7307631373405457,
           0.7914272546768188,
           0.7255291938781738,
           0.7328391075134277,
           0.7621461749076843,
           0.7187931537628174,
           0.7898855805397034,
           0.7387914657592773,
           0.17416363954544067,
           0.5852546095848083,
           0.6687499284744263,
           0.6592346429824829,
           0.615172803401947,
           0.6657105684280396,
           0.6753909587860107,
           0.5989441275596619,
           0.6693332195281982,
           0.9230573177337646,
           0.5356868505477905,
           0.701640248298645,
           0.7147356867790222,
           0.6529837846755981,
           0.6169943809509277,
           0.5511661767959595,
           0.5472457408905029,
           0.36657625436782837,
           0.5182022452354431
          ],
          [
           0.774439811706543,
           0.8084841966629028,
           0.7236719727516174,
           0.8296945095062256,
           0.732401967048645,
           0.7173600792884827,
           0.7208142280578613,
           0.8245713710784912,
           0.7043036222457886,
           0.7523694038391113,
           0.8415669202804565,
           0.8124134540557861,
           0.7497615814208984,
           0.7626323103904724,
           0.7408580183982849,
           0.7739694118499756,
           0.7409206628799438,
           0.825965166091919,
           0.8347513675689697,
           0.8526298999786377,
           1,
           0.7197190523147583,
           0.7652989029884338,
           0.7560772895812988,
           0.7301486730575562,
           0.7616665363311768,
           0.7834051847457886,
           0.7055851221084595,
           0.745229959487915,
           0.6940691471099854,
           0.7575598955154419,
           0.6862071752548218,
           0.7744203805923462,
           0.7044332027435303,
           0.7690650224685669,
           0.7140260934829712,
           0.7252757549285889,
           0.6993531584739685,
           0.7461992502212524,
           0.725860595703125,
           0.7642520666122437,
           0.7904255986213684,
           0.7030982375144958,
           0.7653096914291382,
           0.7233482599258423,
           0.7236731052398682,
           0.7704609036445618,
           0.7821550369262695,
           0.7940986752510071,
           0.7252929210662842,
           0.19692914187908173,
           0.5894700288772583,
           0.6513437032699585,
           0.6719390153884888,
           0.612584114074707,
           0.6320372223854065,
           0.6331794261932373,
           0.5873637199401855,
           0.6625614762306213,
           0.7377395629882812,
           0.5631605386734009,
           0.6498547792434692,
           0.6910704374313354,
           0.6442550420761108,
           0.6409515142440796,
           0.5032791495323181,
           0.527047872543335,
           0.3800848722457886,
           0.4849981665611267
          ],
          [
           0.7499947547912598,
           0.7200196981430054,
           0.7425082325935364,
           0.6920531988143921,
           0.6711785793304443,
           0.6646280288696289,
           0.6793002486228943,
           0.7640254497528076,
           0.7758523225784302,
           0.7041113376617432,
           0.7103533744812012,
           0.6827815175056458,
           0.6785926818847656,
           0.6816619634628296,
           0.6864335536956787,
           0.7911660671234131,
           0.7799581289291382,
           0.7324919700622559,
           0.7060551047325134,
           0.7246900796890259,
           0.7197190523147583,
           1.000000238418579,
           0.7725542783737183,
           0.6566710472106934,
           0.639907956123352,
           0.7018547058105469,
           0.6685159206390381,
           0.681099534034729,
           0.6757460832595825,
           0.6423790454864502,
           0.7023425102233887,
           0.6441045999526978,
           0.6993428468704224,
           0.6593965291976929,
           0.7022699117660522,
           0.6402435898780823,
           0.6377558708190918,
           0.6929168105125427,
           0.6520156264305115,
           0.672542154788971,
           0.6944088339805603,
           0.689507246017456,
           0.6819091439247131,
           0.7248384356498718,
           0.6389561891555786,
           0.6672251224517822,
           0.6668736338615417,
           0.6610047817230225,
           0.72353196144104,
           0.7139708995819092,
           0.2455398142337799,
           0.597915768623352,
           0.6494499444961548,
           0.6564746499061584,
           0.6436001062393188,
           0.606419563293457,
           0.6435971260070801,
           0.6155117750167847,
           0.6444458961486816,
           0.6492494344711304,
           0.7273348569869995,
           0.6926424503326416,
           0.6765555143356323,
           0.6728546619415283,
           0.6011344194412231,
           0.574630618095398,
           0.6257388591766357,
           0.4824766516685486,
           0.5104721784591675
          ],
          [
           0.756902813911438,
           0.7150890827178955,
           0.7226341366767883,
           0.7281458377838135,
           0.6944571733474731,
           0.7033666372299194,
           0.6851965188980103,
           0.782709002494812,
           0.7675728797912598,
           0.7034924030303955,
           0.7218357920646667,
           0.7468788623809814,
           0.6979371905326843,
           0.7192090153694153,
           0.6974621415138245,
           0.7639919519424438,
           0.755011260509491,
           0.7429027557373047,
           0.691199779510498,
           0.725883960723877,
           0.7652989029884338,
           0.7725542783737183,
           1.0000003576278687,
           0.6476927995681763,
           0.6734620332717896,
           0.7401525974273682,
           0.7462418079376221,
           0.6705333590507507,
           0.7157981991767883,
           0.7022656202316284,
           0.7255818843841553,
           0.7057545185089111,
           0.7318110466003418,
           0.6981738805770874,
           0.7424824833869934,
           0.6630541086196899,
           0.6685705184936523,
           0.6944994926452637,
           0.705163836479187,
           0.7182938456535339,
           0.7445040941238403,
           0.7328524589538574,
           0.692286491394043,
           0.7352324724197388,
           0.711338996887207,
           0.6945704221725464,
           0.7306709289550781,
           0.7422652244567871,
           0.7546112537384033,
           0.7551759481430054,
           0.18593963980674744,
           0.7482264637947083,
           0.672355055809021,
           0.6589825749397278,
           0.7351759672164917,
           0.6620646715164185,
           0.6736170053482056,
           0.6635979413986206,
           0.6783769726753235,
           0.6243153810501099,
           0.6007907390594482,
           0.6459167003631592,
           0.6556228399276733,
           0.6327593326568604,
           0.6198434233665466,
           0.5095309019088745,
           0.5537384748458862,
           0.42884790897369385,
           0.4867755174636841
          ],
          [
           0.7048792839050293,
           0.7442644834518433,
           0.6702664494514465,
           0.745714545249939,
           0.6758506298065186,
           0.6704543828964233,
           0.6689028739929199,
           0.7093872427940369,
           0.6533780694007874,
           0.6950526237487793,
           0.7023531198501587,
           0.6469277143478394,
           0.6786465048789978,
           0.6738940477371216,
           0.6686084866523743,
           0.7239802479743958,
           0.678865909576416,
           0.806556224822998,
           0.7161456346511841,
           0.7812162637710571,
           0.7560772895812988,
           0.6566710472106934,
           0.6476927995681763,
           0.9999997615814209,
           0.6791979074478149,
           0.6895948052406311,
           0.6410322189331055,
           0.6559464931488037,
           0.706032931804657,
           0.648432731628418,
           0.6692072153091431,
           0.5894696712493896,
           0.6374006271362305,
           0.6082059741020203,
           0.6926743984222412,
           0.6150884032249451,
           0.6301662921905518,
           0.6624549627304077,
           0.6419373750686646,
           0.6429388523101807,
           0.6866110563278198,
           0.6665112376213074,
           0.6691006422042847,
           0.6969283819198608,
           0.6374515295028687,
           0.6450022459030151,
           0.6649267673492432,
           0.6203727722167969,
           0.6768068075180054,
           0.6789367198944092,
           0.18754227459430695,
           0.5352632403373718,
           0.5931847095489502,
           0.5901857614517212,
           0.5568013191223145,
           0.5902419090270996,
           0.5931557416915894,
           0.5458128452301025,
           0.6096861362457275,
           0.7233373522758484,
           0.5397406816482544,
           0.6633086204528809,
           0.618048906326294,
           0.6189509630203247,
           0.6045371294021606,
           0.47325801849365234,
           0.5361714959144592,
           0.40395522117614746,
           0.4706209897994995
          ],
          [
           0.7557313442230225,
           0.7526739239692688,
           0.7410800457000732,
           0.7055288553237915,
           0.7218734622001648,
           0.7388337850570679,
           0.6550852060317993,
           0.6952822208404541,
           0.6968040466308594,
           0.7176520824432373,
           0.7292846441268921,
           0.6979269981384277,
           0.6923425197601318,
           0.7245845198631287,
           0.7809156775474548,
           0.782463014125824,
           0.7961603403091431,
           0.8088117837905884,
           0.7234541177749634,
           0.6983799934387207,
           0.7301486730575562,
           0.639907956123352,
           0.6734620332717896,
           0.6791979074478149,
           1,
           0.7118584513664246,
           0.7149445414543152,
           0.6000327467918396,
           0.660576343536377,
           0.6419327259063721,
           0.6653080582618713,
           0.6444088816642761,
           0.6419632434844971,
           0.6579948663711548,
           0.7507541179656982,
           0.6340682506561279,
           0.6293290853500366,
           0.6546425819396973,
           0.732668399810791,
           0.6802233457565308,
           0.7173908948898315,
           0.7284573316574097,
           0.6620063781738281,
           0.7093113660812378,
           0.656226634979248,
           0.660209059715271,
           0.6957399249076843,
           0.6925296783447266,
           0.7523876428604126,
           0.6534267663955688,
           0.15020236372947693,
           0.5815941095352173,
           0.6162501573562622,
           0.5899870991706848,
           0.6086518168449402,
           0.669130265712738,
           0.6398335695266724,
           0.5608334541320801,
           0.6347911357879639,
           0.5776240229606628,
           0.6393733024597168,
           0.581066370010376,
           0.5434587597846985,
           0.596793532371521,
           0.5679225921630859,
           0.5230106711387634,
           0.445159375667572,
           0.4509339928627014,
           0.40253129601478577
          ],
          [
           0.8216912746429443,
           0.8016835451126099,
           0.8363339900970459,
           0.8355075120925903,
           0.8154051303863525,
           0.8062199354171753,
           0.7898571491241455,
           0.8273932933807373,
           0.8186327219009399,
           0.838577926158905,
           0.7870960235595703,
           0.8229886293411255,
           0.8084716796875,
           0.8099881410598755,
           0.8013356924057007,
           0.7543115615844727,
           0.7737425565719604,
           0.7722845077514648,
           0.7357273101806641,
           0.7740766406059265,
           0.7616665363311768,
           0.7018547058105469,
           0.7401525974273682,
           0.6895948052406311,
           0.7118584513664246,
           1.000000238418579,
           0.878574788570404,
           0.8533532023429871,
           0.8758891820907593,
           0.8447860479354858,
           0.8523133993148804,
           0.8495223522186279,
           0.88575679063797,
           0.8277491331100464,
           0.8465375900268555,
           0.8138812184333801,
           0.8362118005752563,
           0.8546494841575623,
           0.8610852956771851,
           0.8804423213005066,
           0.8283950090408325,
           0.8515998721122742,
           0.8477796316146851,
           0.8831876516342163,
           0.8383785486221313,
           0.8144375681877136,
           0.8419052362442017,
           0.8308975696563721,
           0.8711969256401062,
           0.8306573629379272,
           0.15495547652244568,
           0.7507176995277405,
           0.8624348044395447,
           0.8157356977462769,
           0.7736201286315918,
           0.7989380359649658,
           0.7846834063529968,
           0.8054924011230469,
           0.7914423942565918,
           0.5929681062698364,
           0.5609092712402344,
           0.6404151320457458,
           0.6582993268966675,
           0.6438398361206055,
           0.6128928661346436,
           0.46181437373161316,
           0.4547598361968994,
           0.31861600279808044,
           0.37795931100845337
          ],
          [
           0.8086875677108765,
           0.7911548614501953,
           0.8252745270729065,
           0.809431791305542,
           0.8349347114562988,
           0.8089487552642822,
           0.7852378487586975,
           0.8473861813545227,
           0.8302752375602722,
           0.7831954956054688,
           0.8500202894210815,
           0.854009747505188,
           0.8143937587738037,
           0.8104859590530396,
           0.7724807262420654,
           0.739757239818573,
           0.7835638523101807,
           0.7558104991912842,
           0.7219722270965576,
           0.7543085813522339,
           0.7834051847457886,
           0.6685159206390381,
           0.7462418079376221,
           0.6410322189331055,
           0.7149445414543152,
           0.878574788570404,
           0.9999999403953552,
           0.8437803983688354,
           0.8784835338592529,
           0.8744155168533325,
           0.8436689376831055,
           0.8611491918563843,
           0.869581937789917,
           0.8445000648498535,
           0.8215644359588623,
           0.8206048011779785,
           0.8712849617004395,
           0.8361083269119263,
           0.8638511896133423,
           0.844050407409668,
           0.8343725204467773,
           0.8588944673538208,
           0.8379465341567993,
           0.8690211176872253,
           0.8749610781669617,
           0.8554854989051819,
           0.8391668200492859,
           0.8168217539787292,
           0.862403392791748,
           0.8347971439361572,
           0.13743856549263,
           0.795029878616333,
           0.8674321174621582,
           0.8311045169830322,
           0.8013352751731873,
           0.8280853033065796,
           0.7973148822784424,
           0.7896862030029297,
           0.8527485132217407,
           0.5618300437927246,
           0.519603431224823,
           0.6036579608917236,
           0.6204613447189331,
           0.6202256679534912,
           0.6188317537307739,
           0.42612725496292114,
           0.4094303250312805,
           0.2929942011833191,
           0.35846802592277527
          ],
          [
           0.8228968977928162,
           0.7795758247375488,
           0.8133807182312012,
           0.8353973031044006,
           0.8248316049575806,
           0.7885892391204834,
           0.7990058660507202,
           0.7888153791427612,
           0.8301090598106384,
           0.8121858835220337,
           0.7699849605560303,
           0.7443028688430786,
           0.8535051345825195,
           0.7989883422851562,
           0.7678329944610596,
           0.6871798038482666,
           0.6772340536117554,
           0.7093195915222168,
           0.6776782274246216,
           0.6959816217422485,
           0.7055851221084595,
           0.681099534034729,
           0.6705333590507507,
           0.6559464931488037,
           0.6000327467918396,
           0.8533532023429871,
           0.8437803983688354,
           1.0000001192092896,
           0.8735975027084351,
           0.8580023050308228,
           0.8369499444961548,
           0.8427793979644775,
           0.8652494549751282,
           0.809964656829834,
           0.7861858010292053,
           0.8252725601196289,
           0.8860043287277222,
           0.8495811820030212,
           0.8595004081726074,
           0.8563456535339355,
           0.8212361335754395,
           0.850210428237915,
           0.878301203250885,
           0.8898350596427917,
           0.860626220703125,
           0.798941969871521,
           0.7911010980606079,
           0.816300630569458,
           0.8330435752868652,
           0.8406627774238586,
           0.13471047580242157,
           0.7665395736694336,
           0.904250979423523,
           0.8516445159912109,
           0.7763239145278931,
           0.8170686364173889,
           0.7920061349868774,
           0.8667909502983093,
           0.8242878913879395,
           0.5157982110977173,
           0.5309199690818787,
           0.6331144571304321,
           0.6034175157546997,
           0.6337647438049316,
           0.5904555916786194,
           0.43822985887527466,
           0.4033711850643158,
           0.26036950945854187,
           0.3216020166873932
          ],
          [
           0.8380675315856934,
           0.8171732425689697,
           0.8541666269302368,
           0.7984975576400757,
           0.8679612874984741,
           0.8167577981948853,
           0.8337629437446594,
           0.847224771976471,
           0.8196964263916016,
           0.7897284030914307,
           0.8030704259872437,
           0.7965468168258667,
           0.8168762922286987,
           0.8285362720489502,
           0.8211390972137451,
           0.7049185037612915,
           0.7421166896820068,
           0.7475115656852722,
           0.7401523590087891,
           0.7793154716491699,
           0.745229959487915,
           0.6757460832595825,
           0.7157981991767883,
           0.706032931804657,
           0.660576343536377,
           0.8758891820907593,
           0.8784835338592529,
           0.8735975027084351,
           1,
           0.9107347130775452,
           0.8696602582931519,
           0.8841087818145752,
           0.8697326183319092,
           0.9026914834976196,
           0.8416104912757874,
           0.8761800527572632,
           0.8448195457458496,
           0.8945084810256958,
           0.8647316098213196,
           0.8796985149383545,
           0.8508377075195312,
           0.845000684261322,
           0.8679392337799072,
           0.901416003704071,
           0.8422224521636963,
           0.8619610667228699,
           0.8692871332168579,
           0.8266569375991821,
           0.8535715341567993,
           0.8650234937667847,
           0.13316191732883453,
           0.7792178392410278,
           0.8755728602409363,
           0.8134968280792236,
           0.8046771287918091,
           0.8574392795562744,
           0.8349266648292542,
           0.7978519201278687,
           0.8676159381866455,
           0.5932010412216187,
           0.5051169991493225,
           0.6480414867401123,
           0.6025300025939941,
           0.6009560823440552,
           0.6466118097305298,
           0.48712676763534546,
           0.41694867610931396,
           0.2532634139060974,
           0.3478586673736572
          ],
          [
           0.7979975938796997,
           0.7613157033920288,
           0.8315713405609131,
           0.7508189082145691,
           0.8094205856323242,
           0.7982020974159241,
           0.7665224671363831,
           0.838934063911438,
           0.8155685067176819,
           0.7862096428871155,
           0.7855297327041626,
           0.8210505247116089,
           0.7686194181442261,
           0.7765903472900391,
           0.7810640931129456,
           0.6749316453933716,
           0.7255550622940063,
           0.7007544040679932,
           0.6710845232009888,
           0.7118439674377441,
           0.6940691471099854,
           0.6423790454864502,
           0.7022656202316284,
           0.648432731628418,
           0.6419327259063721,
           0.8447860479354858,
           0.8744155168533325,
           0.8580023050308228,
           0.9107347130775452,
           1.0000001192092896,
           0.8200860023498535,
           0.8627724647521973,
           0.8653143048286438,
           0.8338620662689209,
           0.8031648993492126,
           0.8211710453033447,
           0.8329209089279175,
           0.8721541166305542,
           0.8682663440704346,
           0.8472986221313477,
           0.7856488227844238,
           0.8040776252746582,
           0.8827696442604065,
           0.8408589363098145,
           0.8468410968780518,
           0.8196491003036499,
           0.8560439944267273,
           0.7825508117675781,
           0.8268795609474182,
           0.8044322729110718,
           0.11746611446142197,
           0.795952558517456,
           0.8656444549560547,
           0.8210081458091736,
           0.812910795211792,
           0.8493391275405884,
           0.8118366599082947,
           0.808832049369812,
           0.8583725690841675,
           0.5360369682312012,
           0.5068091154098511,
           0.6319913268089294,
           0.5650995373725891,
           0.5951586961746216,
           0.6523580551147461,
           0.4771781265735626,
           0.40304648876190186,
           0.25565260648727417,
           0.3306747376918793
          ],
          [
           0.8137887120246887,
           0.7708073258399963,
           0.8109066486358643,
           0.8080414533615112,
           0.8171525001525879,
           0.7566874027252197,
           0.8233832120895386,
           0.8414981365203857,
           0.785351037979126,
           0.7621376514434814,
           0.7666983604431152,
           0.7637284398078918,
           0.7730404138565063,
           0.7700495719909668,
           0.7921866774559021,
           0.7034789323806763,
           0.7202537059783936,
           0.7965250611305237,
           0.7194466590881348,
           0.7729870080947876,
           0.7575598955154419,
           0.7023425102233887,
           0.7255818843841553,
           0.6692072153091431,
           0.6653080582618713,
           0.8523133993148804,
           0.8436689376831055,
           0.8369499444961548,
           0.8696602582931519,
           0.8200860023498535,
           0.9999995827674866,
           0.8711392879486084,
           0.840214192867279,
           0.8303648233413696,
           0.8057945370674133,
           0.8661230206489563,
           0.8040976524353027,
           0.8484731912612915,
           0.8386087417602539,
           0.8494584560394287,
           0.8312496542930603,
           0.842496395111084,
           0.8248143196105957,
           0.8809423446655273,
           0.8950314521789551,
           0.8220111727714539,
           0.8220721483230591,
           0.8402197360992432,
           0.8572496175765991,
           0.8482142090797424,
           0.18770337104797363,
           0.7053835391998291,
           0.8276249170303345,
           0.8502384424209595,
           0.7599543929100037,
           0.8075683116912842,
           0.7877939939498901,
           0.790468692779541,
           0.8104435801506042,
           0.6177854537963867,
           0.5627316236495972,
           0.7036601901054382,
           0.6396011710166931,
           0.6468645334243774,
           0.6652504801750183,
           0.5278034806251526,
           0.4886262118816376,
           0.2672901153564453,
           0.381296843290329
          ],
          [
           0.8031585812568665,
           0.7456668615341187,
           0.8331073522567749,
           0.7788592576980591,
           0.7913112640380859,
           0.7831658124923706,
           0.8060809373855591,
           0.816537082195282,
           0.7937269806861877,
           0.7357696294784546,
           0.7501950263977051,
           0.7706587314605713,
           0.7495074272155762,
           0.7836544513702393,
           0.8084173798561096,
           0.6550238132476807,
           0.7199342250823975,
           0.6957367658615112,
           0.6579486727714539,
           0.7060976624488831,
           0.6862071752548218,
           0.6441045999526978,
           0.7057545185089111,
           0.5894696712493896,
           0.6444088816642761,
           0.8495223522186279,
           0.8611491918563843,
           0.8427793979644775,
           0.8841087818145752,
           0.8627724647521973,
           0.8711392879486084,
           1.0000003576278687,
           0.835619330406189,
           0.8231046199798584,
           0.8170760273933411,
           0.8143558502197266,
           0.8264291286468506,
           0.8452649116516113,
           0.8671571016311646,
           0.9168074131011963,
           0.852769672870636,
           0.8303322792053223,
           0.866701066493988,
           0.8656705617904663,
           0.8487533330917358,
           0.7763667106628418,
           0.870861291885376,
           0.8491418361663818,
           0.863528847694397,
           0.8797833919525146,
           0.10047842562198639,
           0.7765445709228516,
           0.8576619625091553,
           0.8812577128410339,
           0.8015867471694946,
           0.8194377422332764,
           0.8272706866264343,
           0.799613356590271,
           0.8171249628067017,
           0.5055855512619019,
           0.4761766493320465,
           0.5883386135101318,
           0.5430231690406799,
           0.581748366355896,
           0.6003040075302124,
           0.4484822750091553,
           0.3725129961967468,
           0.22707559168338776,
           0.28457534313201904
          ],
          [
           0.8138972520828247,
           0.8098565340042114,
           0.830643892288208,
           0.8035154342651367,
           0.7842729091644287,
           0.7946750521659851,
           0.8162186145782471,
           0.8443857431411743,
           0.810382604598999,
           0.7864850759506226,
           0.8001056909561157,
           0.8237588405609131,
           0.8113607168197632,
           0.8249459266662598,
           0.7892091274261475,
           0.7012513279914856,
           0.7398302555084229,
           0.7141563296318054,
           0.7126476764678955,
           0.7480485439300537,
           0.7744203805923462,
           0.6993428468704224,
           0.7318110466003418,
           0.6374006271362305,
           0.6419632434844971,
           0.88575679063797,
           0.869581937789917,
           0.8652494549751282,
           0.8697326183319092,
           0.8653143048286438,
           0.840214192867279,
           0.835619330406189,
           1,
           0.831213116645813,
           0.8136569261550903,
           0.8380817770957947,
           0.8569480180740356,
           0.8136932849884033,
           0.859637975692749,
           0.8624725937843323,
           0.8132418990135193,
           0.8861514329910278,
           0.8207494020462036,
           0.8920148611068726,
           0.8329223394393921,
           0.8228910565376282,
           0.8413400650024414,
           0.8479611873626709,
           0.859392523765564,
           0.8276528120040894,
           0.1597653329372406,
           0.7622473239898682,
           0.8594820499420166,
           0.8410917520523071,
           0.7931821346282959,
           0.7822555899620056,
           0.7624010443687439,
           0.7892942428588867,
           0.7923418283462524,
           0.5655744671821594,
           0.5651940703392029,
           0.6720247268676758,
           0.6059132814407349,
           0.6042062044143677,
           0.6486570835113525,
           0.46676018834114075,
           0.46442729234695435,
           0.25828713178634644,
           0.36190468072891235
          ],
          [
           0.8098909854888916,
           0.7951474189758301,
           0.8336474895477295,
           0.7337587475776672,
           0.8521374464035034,
           0.8116587400436401,
           0.8123140335083008,
           0.7702102065086365,
           0.7652991414070129,
           0.7290228605270386,
           0.7584999799728394,
           0.7316619157791138,
           0.7718597650527954,
           0.8172949552536011,
           0.7796688079833984,
           0.7071239948272705,
           0.6999462842941284,
           0.7134526371955872,
           0.6977872848510742,
           0.7192847728729248,
           0.7044332027435303,
           0.6593965291976929,
           0.6981738805770874,
           0.6082059741020203,
           0.6579948663711548,
           0.8277491331100464,
           0.8445000648498535,
           0.809964656829834,
           0.9026914834976196,
           0.8338620662689209,
           0.8303648233413696,
           0.8231046199798584,
           0.831213116645813,
           1.000000238418579,
           0.7934601306915283,
           0.8785697817802429,
           0.810448169708252,
           0.850222647190094,
           0.8110124468803406,
           0.8141610622406006,
           0.7989046573638916,
           0.8158196210861206,
           0.7909700870513916,
           0.8524773120880127,
           0.7830333709716797,
           0.8704824447631836,
           0.7797800302505493,
           0.8021680116653442,
           0.8100214004516602,
           0.777379035949707,
           0.15008479356765747,
           0.7389503717422485,
           0.8328003883361816,
           0.7511296272277832,
           0.8027728796005249,
           0.8418521881103516,
           0.8212085366249084,
           0.7338880300521851,
           0.8261947631835938,
           0.562491238117218,
           0.5504577159881592,
           0.6452651023864746,
           0.6053207516670227,
           0.5392613410949707,
           0.5616209506988525,
           0.5060837268829346,
           0.4002639055252075,
           0.30210089683532715,
           0.344260036945343
          ],
          [
           0.7935137748718262,
           0.8054121732711792,
           0.8147468566894531,
           0.7980486154556274,
           0.762498140335083,
           0.8038053512573242,
           0.7822800874710083,
           0.8539871573448181,
           0.7834355235099792,
           0.7995120286941528,
           0.7929717302322388,
           0.7980108261108398,
           0.7680282592773438,
           0.8118306994438171,
           0.7920294404029846,
           0.7361677885055542,
           0.8229331970214844,
           0.7937670946121216,
           0.7478997707366943,
           0.7942702770233154,
           0.7690650224685669,
           0.7022699117660522,
           0.7424824833869934,
           0.6926743984222412,
           0.7507541179656982,
           0.8465375900268555,
           0.8215644359588623,
           0.7861858010292053,
           0.8416104912757874,
           0.8031648993492126,
           0.8057945370674133,
           0.8170760273933411,
           0.8136569261550903,
           0.7934601306915283,
           0.9999999403953552,
           0.7930152416229248,
           0.7675501108169556,
           0.8266693353652954,
           0.8313206434249878,
           0.8229185342788696,
           0.8146783113479614,
           0.7979393005371094,
           0.8093996047973633,
           0.826801061630249,
           0.7687872648239136,
           0.7796893119812012,
           0.8337609767913818,
           0.8004889488220215,
           0.8062219619750977,
           0.812107503414154,
           0.1421971619129181,
           0.682437002658844,
           0.7787706851959229,
           0.7700716853141785,
           0.7138631343841553,
           0.7339099645614624,
           0.7322236895561218,
           0.7107843160629272,
           0.7969621419906616,
           0.6253052949905396,
           0.5867267847061157,
           0.6738675832748413,
           0.6255348920822144,
           0.6271546483039856,
           0.6825165748596191,
           0.508989691734314,
           0.46742236614227295,
           0.31676343083381653,
           0.38918954133987427
          ],
          [
           0.7910764217376709,
           0.7666462659835815,
           0.8096251487731934,
           0.7836041450500488,
           0.8246456384658813,
           0.7635347843170166,
           0.7758524417877197,
           0.7565146684646606,
           0.8041508197784424,
           0.7587316632270813,
           0.7356985211372375,
           0.7111440300941467,
           0.7750899791717529,
           0.7572710514068604,
           0.7465630769729614,
           0.6910958886146545,
           0.6984635591506958,
           0.6966508626937866,
           0.66463303565979,
           0.6912363767623901,
           0.7140260934829712,
           0.6402435898780823,
           0.6630541086196899,
           0.6150884032249451,
           0.6340682506561279,
           0.8138812184333801,
           0.8206048011779785,
           0.8252725601196289,
           0.8761800527572632,
           0.8211710453033447,
           0.8661230206489563,
           0.8143558502197266,
           0.8380817770957947,
           0.8785697817802429,
           0.7930152416229248,
           1.0000001192092896,
           0.8011566996574402,
           0.8295071125030518,
           0.8212673664093018,
           0.8140485286712646,
           0.7811356782913208,
           0.8298905491828918,
           0.7855256199836731,
           0.8498845100402832,
           0.8009138107299805,
           0.8476442098617554,
           0.7757389545440674,
           0.8264415264129639,
           0.7770488262176514,
           0.7835239171981812,
           0.14910778403282166,
           0.7055153846740723,
           0.868598461151123,
           0.8012408018112183,
           0.7992509603500366,
           0.8258204460144043,
           0.7927455902099609,
           0.7797147035598755,
           0.845293402671814,
           0.5307064652442932,
           0.5574434995651245,
           0.6532058119773865,
           0.550597071647644,
           0.5745542049407959,
           0.5733489990234375,
           0.45844972133636475,
           0.41151654720306396,
           0.29233577847480774,
           0.3119118809700012
          ],
          [
           0.7657889127731323,
           0.7396864295005798,
           0.7786364555358887,
           0.8081812858581543,
           0.8045728206634521,
           0.7577086687088013,
           0.7711737155914307,
           0.7679880261421204,
           0.7945365309715271,
           0.7456765174865723,
           0.7643057107925415,
           0.7421097755432129,
           0.7935600280761719,
           0.7736616134643555,
           0.7423403263092041,
           0.6948232054710388,
           0.7081027030944824,
           0.7068414688110352,
           0.6487432718276978,
           0.679702877998352,
           0.7252757549285889,
           0.6377558708190918,
           0.6685705184936523,
           0.6301662921905518,
           0.6293290853500366,
           0.8362118005752563,
           0.8712849617004395,
           0.8860043287277222,
           0.8448195457458496,
           0.8329209089279175,
           0.8040976524353027,
           0.8264291286468506,
           0.8569480180740356,
           0.810448169708252,
           0.7675501108169556,
           0.8011566996574402,
           1,
           0.8265094757080078,
           0.8926786184310913,
           0.8331783413887024,
           0.8183722496032715,
           0.8538035750389099,
           0.8230171203613281,
           0.8611829876899719,
           0.8724117875099182,
           0.8024147748947144,
           0.7814968824386597,
           0.8105604648590088,
           0.8223643898963928,
           0.8289278745651245,
           0.12926402688026428,
           0.7773725986480713,
           0.8471154570579529,
           0.8311746120452881,
           0.7846102714538574,
           0.7892886400222778,
           0.7837473154067993,
           0.8126716613769531,
           0.7907145023345947,
           0.49356240034103394,
           0.4919440746307373,
           0.5784716010093689,
           0.5414549112319946,
           0.5817101001739502,
           0.5799027681350708,
           0.41679245233535767,
           0.35366857051849365,
           0.27082958817481995,
           0.2865159511566162
          ],
          [
           0.8231751918792725,
           0.7753821611404419,
           0.8782534599304199,
           0.7834404706954956,
           0.844184398651123,
           0.814622163772583,
           0.7961599826812744,
           0.8010871410369873,
           0.8072472810745239,
           0.8306926488876343,
           0.7505846619606018,
           0.755638837814331,
           0.7808389067649841,
           0.794258713722229,
           0.8049558997154236,
           0.7024697661399841,
           0.7351461052894592,
           0.7366909980773926,
           0.7194170951843262,
           0.753642201423645,
           0.6993531584739685,
           0.6929168105125427,
           0.6944994926452637,
           0.6624549627304077,
           0.6546425819396973,
           0.8546494841575623,
           0.8361083269119263,
           0.8495811820030212,
           0.8945084810256958,
           0.8721541166305542,
           0.8484731912612915,
           0.8452649116516113,
           0.8136932849884033,
           0.850222647190094,
           0.8266693353652954,
           0.8295071125030518,
           0.8265094757080078,
           1.0000003576278687,
           0.8606846332550049,
           0.8702710866928101,
           0.8348147869110107,
           0.8108590841293335,
           0.839575469493866,
           0.8645908236503601,
           0.8266311287879944,
           0.8204971551895142,
           0.8100207448005676,
           0.8029407262802124,
           0.8408363461494446,
           0.8311659097671509,
           0.15010759234428406,
           0.7524935007095337,
           0.8469256162643433,
           0.7930328845977783,
           0.7922082543373108,
           0.8582922220230103,
           0.8082959651947021,
           0.8048896789550781,
           0.8438786268234253,
           0.5835680365562439,
           0.5070041418075562,
           0.6353989839553833,
           0.6148560047149658,
           0.5941331386566162,
           0.5882935523986816,
           0.4632916748523712,
           0.4278113842010498,
           0.2996434271335602,
           0.35931527614593506
          ],
          [
           0.8416002988815308,
           0.7822461128234863,
           0.8296658992767334,
           0.8010417222976685,
           0.7962294816970825,
           0.8116207122802734,
           0.7905256748199463,
           0.8273706436157227,
           0.8136593103408813,
           0.8042050004005432,
           0.7845968008041382,
           0.8126493096351624,
           0.7978517413139343,
           0.8084856271743774,
           0.8243889808654785,
           0.6968382596969604,
           0.7382951378822327,
           0.7481914162635803,
           0.707308828830719,
           0.7242928743362427,
           0.7461992502212524,
           0.6520156264305115,
           0.705163836479187,
           0.6419373750686646,
           0.732668399810791,
           0.8610852956771851,
           0.8638511896133423,
           0.8595004081726074,
           0.8647316098213196,
           0.8682663440704346,
           0.8386087417602539,
           0.8671571016311646,
           0.859637975692749,
           0.8110124468803406,
           0.8313206434249878,
           0.8212673664093018,
           0.8926786184310913,
           0.8606846332550049,
           1.000000238418579,
           0.8732984066009521,
           0.8748537302017212,
           0.8712297677993774,
           0.8365364074707031,
           0.8682687878608704,
           0.8670765161514282,
           0.784546971321106,
           0.8513878583908081,
           0.8230226039886475,
           0.8738113045692444,
           0.8157391548156738,
           0.16450853645801544,
           0.7728550434112549,
           0.8304576873779297,
           0.8117530345916748,
           0.7887070178985596,
           0.8325164318084717,
           0.8068207502365112,
           0.8101580142974854,
           0.8150491714477539,
           0.5432918071746826,
           0.5368837118148804,
           0.6488072872161865,
           0.5516951084136963,
           0.6207613945007324,
           0.6599969863891602,
           0.46536850929260254,
           0.4345223903656006,
           0.270773708820343,
           0.32813960313796997
          ],
          [
           0.812142014503479,
           0.7723342180252075,
           0.8636654615402222,
           0.7888610363006592,
           0.8010995984077454,
           0.8005442023277283,
           0.8153315782546997,
           0.8112527132034302,
           0.8027002811431885,
           0.7812713384628296,
           0.7382699251174927,
           0.7710586786270142,
           0.7736759185791016,
           0.7989187240600586,
           0.8053820133209229,
           0.6952175498008728,
           0.7214583158493042,
           0.7361565828323364,
           0.7089037895202637,
           0.7387514710426331,
           0.725860595703125,
           0.672542154788971,
           0.7182938456535339,
           0.6429388523101807,
           0.6802233457565308,
           0.8804423213005066,
           0.844050407409668,
           0.8563456535339355,
           0.8796985149383545,
           0.8472986221313477,
           0.8494584560394287,
           0.9168074131011963,
           0.8624725937843323,
           0.8141610622406006,
           0.8229185342788696,
           0.8140485286712646,
           0.8331783413887024,
           0.8702710866928101,
           0.8732984066009521,
           1.0000001192092896,
           0.8982059359550476,
           0.8757171630859375,
           0.8577807545661926,
           0.9080517292022705,
           0.8485990762710571,
           0.7901256084442139,
           0.8770086765289307,
           0.8905035257339478,
           0.9159175157546997,
           0.8751392364501953,
           0.11575479805469513,
           0.7564489841461182,
           0.8565475940704346,
           0.8179521560668945,
           0.7692554593086243,
           0.8159303665161133,
           0.8157864809036255,
           0.7902963757514954,
           0.8375999927520752,
           0.5441455841064453,
           0.5112037658691406,
           0.6098111271858215,
           0.5530736446380615,
           0.6036622524261475,
           0.6061309576034546,
           0.4513065218925476,
           0.4125559329986572,
           0.2717675566673279,
           0.3000774383544922
          ],
          [
           0.8126976490020752,
           0.7766591310501099,
           0.836597204208374,
           0.7910671234130859,
           0.7796406745910645,
           0.7717882394790649,
           0.7885003089904785,
           0.8040212392807007,
           0.7655349969863892,
           0.7616878151893616,
           0.7518925666809082,
           0.7581564784049988,
           0.7795456647872925,
           0.8051589727401733,
           0.7770517468452454,
           0.7543591856956482,
           0.7670670747756958,
           0.8164717555046082,
           0.7141251564025879,
           0.7611565589904785,
           0.7642520666122437,
           0.6944088339805603,
           0.7445040941238403,
           0.6866110563278198,
           0.7173908948898315,
           0.8283950090408325,
           0.8343725204467773,
           0.8212361335754395,
           0.8508377075195312,
           0.7856488227844238,
           0.8312496542930603,
           0.852769672870636,
           0.8132418990135193,
           0.7989046573638916,
           0.8146783113479614,
           0.7811356782913208,
           0.8183722496032715,
           0.8348147869110107,
           0.8748537302017212,
           0.8982059359550476,
           0.9999998807907104,
           0.8428440690040588,
           0.83931565284729,
           0.8903862237930298,
           0.8399180769920349,
           0.7673358917236328,
           0.8124704360961914,
           0.8550382852554321,
           0.9217057228088379,
           0.8665453791618347,
           0.13087013363838196,
           0.7152780294418335,
           0.7772379517555237,
           0.7697485685348511,
           0.7257633209228516,
           0.7575201988220215,
           0.7776181697845459,
           0.7426031827926636,
           0.7863261699676514,
           0.5871867537498474,
           0.5466764569282532,
           0.618004560470581,
           0.5790218114852905,
           0.6236962080001831,
           0.6193397045135498,
           0.4632585644721985,
           0.43391233682632446,
           0.3378029465675354,
           0.3305019736289978
          ],
          [
           0.844645619392395,
           0.8340705037117004,
           0.8667481541633606,
           0.7927896976470947,
           0.8110052347183228,
           0.8208590745925903,
           0.8905885815620422,
           0.8198345899581909,
           0.7951632738113403,
           0.7769412994384766,
           0.8134421110153198,
           0.7924851179122925,
           0.8250433206558228,
           0.834864616394043,
           0.8116024732589722,
           0.7129693031311035,
           0.7342031002044678,
           0.7513753175735474,
           0.7350231409072876,
           0.7551422119140625,
           0.7904255986213684,
           0.689507246017456,
           0.7328524589538574,
           0.6665112376213074,
           0.7284573316574097,
           0.8515998721122742,
           0.8588944673538208,
           0.850210428237915,
           0.845000684261322,
           0.8040776252746582,
           0.842496395111084,
           0.8303322792053223,
           0.8861514329910278,
           0.8158196210861206,
           0.7979393005371094,
           0.8298905491828918,
           0.8538035750389099,
           0.8108590841293335,
           0.8712297677993774,
           0.8757171630859375,
           0.8428440690040588,
           1,
           0.7968978881835938,
           0.9019172787666321,
           0.8445101976394653,
           0.8075121641159058,
           0.8006042242050171,
           0.8554953336715698,
           0.890658974647522,
           0.8246976137161255,
           0.16624215245246887,
           0.7678404450416565,
           0.834003210067749,
           0.7855668067932129,
           0.7600184679031372,
           0.8038769364356995,
           0.7674591541290283,
           0.7784065008163452,
           0.7650438547134399,
           0.5699045062065125,
           0.5594896078109741,
           0.6069416999816895,
           0.5770217180252075,
           0.6265010833740234,
           0.6313109397888184,
           0.44707900285720825,
           0.45497429370880127,
           0.2764818072319031,
           0.3382212519645691
          ],
          [
           0.8193694353103638,
           0.8060399293899536,
           0.8126323819160461,
           0.8179703950881958,
           0.7887592315673828,
           0.7922413349151611,
           0.7898980379104614,
           0.8069659471511841,
           0.8135572671890259,
           0.8197838664054871,
           0.7808427810668945,
           0.7496632933616638,
           0.8042939901351929,
           0.7888733744621277,
           0.7670583724975586,
           0.6981616020202637,
           0.7313811779022217,
           0.7277172207832336,
           0.700855553150177,
           0.7307631373405457,
           0.7030982375144958,
           0.6819091439247131,
           0.692286491394043,
           0.6691006422042847,
           0.6620063781738281,
           0.8477796316146851,
           0.8379465341567993,
           0.878301203250885,
           0.8679392337799072,
           0.8827696442604065,
           0.8248143196105957,
           0.866701066493988,
           0.8207494020462036,
           0.7909700870513916,
           0.8093996047973633,
           0.7855256199836731,
           0.8230171203613281,
           0.839575469493866,
           0.8365364074707031,
           0.8577807545661926,
           0.83931565284729,
           0.7968978881835938,
           0.9999998211860657,
           0.8822638988494873,
           0.8321598768234253,
           0.773422360420227,
           0.8328660726547241,
           0.7943968772888184,
           0.8423665165901184,
           0.8043472766876221,
           0.11631439626216888,
           0.7374030351638794,
           0.8480194807052612,
           0.8125488758087158,
           0.7508432865142822,
           0.815977931022644,
           0.801663875579834,
           0.8125035762786865,
           0.8057074546813965,
           0.5452868342399597,
           0.5114004611968994,
           0.6316112279891968,
           0.5679406523704529,
           0.631097674369812,
           0.6245293617248535,
           0.48475325107574463,
           0.3889978229999542,
           0.24280717968940735,
           0.30751097202301025
          ],
          [
           0.8831597566604614,
           0.8519423007965088,
           0.9011284112930298,
           0.8515235781669617,
           0.8603711128234863,
           0.8398029804229736,
           0.8683291673660278,
           0.815233588218689,
           0.8428046703338623,
           0.8194359540939331,
           0.7861363887786865,
           0.7526108622550964,
           0.8642681837081909,
           0.8506914377212524,
           0.8435684442520142,
           0.7496674656867981,
           0.7573981881141663,
           0.7806708216667175,
           0.7720310688018799,
           0.7914272546768188,
           0.7653096914291382,
           0.7248384356498718,
           0.7352324724197388,
           0.6969283819198608,
           0.7093113660812378,
           0.8831876516342163,
           0.8690211176872253,
           0.8898350596427917,
           0.901416003704071,
           0.8408589363098145,
           0.8809423446655273,
           0.8656705617904663,
           0.8920148611068726,
           0.8524773120880127,
           0.826801061630249,
           0.8498845100402832,
           0.8611829876899719,
           0.8645908236503601,
           0.8682687878608704,
           0.9080517292022705,
           0.8903862237930298,
           0.9019172787666321,
           0.8822638988494873,
           1,
           0.8693224787712097,
           0.8369221687316895,
           0.8319514989852905,
           0.8582644462585449,
           0.9200493097305298,
           0.8588583469390869,
           0.1349070817232132,
           0.7740049958229065,
           0.8930803537368774,
           0.8151131868362427,
           0.7779949903488159,
           0.851243257522583,
           0.8382270932197571,
           0.8327887654304504,
           0.8292009234428406,
           0.5905628204345703,
           0.5603816509246826,
           0.6351748704910278,
           0.5908965468406677,
           0.6322141289710999,
           0.6123529672622681,
           0.4646293520927429,
           0.42928922176361084,
           0.2824104428291321,
           0.3228659927845001
          ],
          [
           0.7954995036125183,
           0.7279354333877563,
           0.7913700938224792,
           0.8128992319107056,
           0.8142520189285278,
           0.7648366093635559,
           0.7686066627502441,
           0.8019614219665527,
           0.78705233335495,
           0.771770715713501,
           0.7509526014328003,
           0.7874106764793396,
           0.7914190888404846,
           0.7742523550987244,
           0.7639503479003906,
           0.6896146535873413,
           0.6961943507194519,
           0.7278198003768921,
           0.6713457107543945,
           0.7255291938781738,
           0.7233482599258423,
           0.6389561891555786,
           0.711338996887207,
           0.6374515295028687,
           0.656226634979248,
           0.8383785486221313,
           0.8749610781669617,
           0.860626220703125,
           0.8422224521636963,
           0.8468410968780518,
           0.8950314521789551,
           0.8487533330917358,
           0.8329223394393921,
           0.7830333709716797,
           0.7687872648239136,
           0.8009138107299805,
           0.8724117875099182,
           0.8266311287879944,
           0.8670765161514282,
           0.8485990762710571,
           0.8399180769920349,
           0.8445101976394653,
           0.8321598768234253,
           0.8693224787712097,
           0.9999999403953552,
           0.7852991819381714,
           0.8036413192749023,
           0.8427523374557495,
           0.879458487033844,
           0.8398786783218384,
           0.16028183698654175,
           0.7689923048019409,
           0.819390058517456,
           0.8412070274353027,
           0.783734917640686,
           0.8027172088623047,
           0.7913017272949219,
           0.8272974491119385,
           0.7906670570373535,
           0.5556426048278809,
           0.5105430483818054,
           0.6092993021011353,
           0.5663356781005859,
           0.6231522560119629,
           0.6289559602737427,
           0.4416511654853821,
           0.4198005199432373,
           0.2721671462059021,
           0.3235574960708618
          ],
          [
           0.7547595500946045,
           0.7609430551528931,
           0.7887901067733765,
           0.748505175113678,
           0.8537490367889404,
           0.7745740413665771,
           0.7489519119262695,
           0.7690392732620239,
           0.8025673627853394,
           0.7277234196662903,
           0.7632808089256287,
           0.7177398204803467,
           0.7270921468734741,
           0.7725020051002502,
           0.7268571853637695,
           0.7223764657974243,
           0.7229089736938477,
           0.7386881113052368,
           0.7014050483703613,
           0.7328391075134277,
           0.7236731052398682,
           0.6672251224517822,
           0.6945704221725464,
           0.6450022459030151,
           0.660209059715271,
           0.8144375681877136,
           0.8554854989051819,
           0.798941969871521,
           0.8619610667228699,
           0.8196491003036499,
           0.8220111727714539,
           0.7763667106628418,
           0.8228910565376282,
           0.8704824447631836,
           0.7796893119812012,
           0.8476442098617554,
           0.8024147748947144,
           0.8204971551895142,
           0.784546971321106,
           0.7901256084442139,
           0.7673358917236328,
           0.8075121641159058,
           0.773422360420227,
           0.8369221687316895,
           0.7852991819381714,
           1.0000001192092896,
           0.7766710519790649,
           0.7887837886810303,
           0.7809206247329712,
           0.7717537879943848,
           0.18062081933021545,
           0.6872060298919678,
           0.8342323303222656,
           0.7685524225234985,
           0.7486037611961365,
           0.7883899211883545,
           0.7953370809555054,
           0.7253245115280151,
           0.8245902061462402,
           0.5954067707061768,
           0.5470076203346252,
           0.649379312992096,
           0.649420976638794,
           0.6114423871040344,
           0.5703578591346741,
           0.4926023781299591,
           0.4484848082065582,
           0.30461111664772034,
           0.40085047483444214
          ],
          [
           0.8053831458091736,
           0.7762421369552612,
           0.7938162684440613,
           0.7630058526992798,
           0.772689938545227,
           0.7834600210189819,
           0.7611768245697021,
           0.839652419090271,
           0.7756476402282715,
           0.7583807706832886,
           0.7906858921051025,
           0.825416088104248,
           0.7485003471374512,
           0.77608323097229,
           0.8151730298995972,
           0.686902642250061,
           0.7323501110076904,
           0.7367346286773682,
           0.765783429145813,
           0.7621461749076843,
           0.7704609036445618,
           0.6668736338615417,
           0.7306709289550781,
           0.6649267673492432,
           0.6957399249076843,
           0.8419052362442017,
           0.8391668200492859,
           0.7911010980606079,
           0.8692871332168579,
           0.8560439944267273,
           0.8220721483230591,
           0.870861291885376,
           0.8413400650024414,
           0.7797800302505493,
           0.8337609767913818,
           0.7757389545440674,
           0.7814968824386597,
           0.8100207448005676,
           0.8513878583908081,
           0.8770086765289307,
           0.8124704360961914,
           0.8006042242050171,
           0.8328660726547241,
           0.8319514989852905,
           0.8036413192749023,
           0.7766710519790649,
           1.000000238418579,
           0.8328877687454224,
           0.8328704833984375,
           0.8052383065223694,
           0.13336136937141418,
           0.7382473945617676,
           0.7937864065170288,
           0.7946640253067017,
           0.7467861175537109,
           0.7827749848365784,
           0.789398193359375,
           0.7205066680908203,
           0.8050755262374878,
           0.5786742568016052,
           0.4979211688041687,
           0.6112359166145325,
           0.6005964279174805,
           0.5898845195770264,
           0.6381010413169861,
           0.5171411037445068,
           0.426293283700943,
           0.2479931116104126,
           0.3813555836677551
          ],
          [
           0.7989473938941956,
           0.7843204140663147,
           0.7886351346969604,
           0.7987594604492188,
           0.817745566368103,
           0.7563225030899048,
           0.7928476333618164,
           0.7748874425888062,
           0.7661272287368774,
           0.7522988319396973,
           0.7531816959381104,
           0.7422259449958801,
           0.7974304556846619,
           0.7972596287727356,
           0.7675860524177551,
           0.7049810886383057,
           0.7052024602890015,
           0.7337862253189087,
           0.7010129690170288,
           0.7187931537628174,
           0.7821550369262695,
           0.6610047817230225,
           0.7422652244567871,
           0.6203727722167969,
           0.6925296783447266,
           0.8308975696563721,
           0.8168217539787292,
           0.816300630569458,
           0.8266569375991821,
           0.7825508117675781,
           0.8402197360992432,
           0.8491418361663818,
           0.8479611873626709,
           0.8021680116653442,
           0.8004889488220215,
           0.8264415264129639,
           0.8105604648590088,
           0.8029407262802124,
           0.8230226039886475,
           0.8905035257339478,
           0.8550382852554321,
           0.8554953336715698,
           0.7943968772888184,
           0.8582644462585449,
           0.8427523374557495,
           0.7887837886810303,
           0.8328877687454224,
           1,
           0.8657040596008301,
           0.8465685844421387,
           0.13395540416240692,
           0.7162217497825623,
           0.7974188327789307,
           0.8042301535606384,
           0.745883584022522,
           0.7792446613311768,
           0.7596687078475952,
           0.752220094203949,
           0.7971937656402588,
           0.5317369103431702,
           0.5459425449371338,
           0.59377121925354,
           0.5487460494041443,
           0.5911732912063599,
           0.5926377773284912,
           0.43630361557006836,
           0.427326500415802,
           0.28458383679389954,
           0.3122473955154419
          ],
          [
           0.8496198654174805,
           0.8058887720108032,
           0.8990646600723267,
           0.8061351776123047,
           0.8151569366455078,
           0.8140137195587158,
           0.8353483080863953,
           0.8496216535568237,
           0.7818061709403992,
           0.8029022812843323,
           0.7851176261901855,
           0.8333519697189331,
           0.7959673404693604,
           0.847217321395874,
           0.8588628768920898,
           0.754845380783081,
           0.7573578357696533,
           0.7972018718719482,
           0.754788875579834,
           0.7898855805397034,
           0.7940986752510071,
           0.72353196144104,
           0.7546112537384033,
           0.6768068075180054,
           0.7523876428604126,
           0.8711969256401062,
           0.862403392791748,
           0.8330435752868652,
           0.8535715341567993,
           0.8268795609474182,
           0.8572496175765991,
           0.863528847694397,
           0.859392523765564,
           0.8100214004516602,
           0.8062219619750977,
           0.7770488262176514,
           0.8223643898963928,
           0.8408363461494446,
           0.8738113045692444,
           0.9159175157546997,
           0.9217057228088379,
           0.890658974647522,
           0.8423665165901184,
           0.9200493097305298,
           0.879458487033844,
           0.7809206247329712,
           0.8328704833984375,
           0.8657040596008301,
           1,
           0.8646395802497864,
           0.13286562263965607,
           0.7351037859916687,
           0.8035966753959656,
           0.7838276624679565,
           0.7491737604141235,
           0.7919332981109619,
           0.7785425186157227,
           0.7842977046966553,
           0.7861534357070923,
           0.6023892164230347,
           0.5672351121902466,
           0.6391462087631226,
           0.6137195825576782,
           0.6280601024627686,
           0.6522018313407898,
           0.4784564673900604,
           0.4578899145126343,
           0.3236308693885803,
           0.3596841096878052
          ],
          [
           0.7730395793914795,
           0.7419450283050537,
           0.8169659376144409,
           0.7894483804702759,
           0.7802886962890625,
           0.7359318137168884,
           0.7949798107147217,
           0.8383222818374634,
           0.8005982637405396,
           0.7469789981842041,
           0.7639161944389343,
           0.7565782070159912,
           0.7602774500846863,
           0.7726491689682007,
           0.7772912383079529,
           0.7221344709396362,
           0.7514516115188599,
           0.7629242539405823,
           0.6694828271865845,
           0.7387914657592773,
           0.7252929210662842,
           0.7139708995819092,
           0.7551759481430054,
           0.6789367198944092,
           0.6534267663955688,
           0.8306573629379272,
           0.8347971439361572,
           0.8406627774238586,
           0.8650234937667847,
           0.8044322729110718,
           0.8482142090797424,
           0.8797833919525146,
           0.8276528120040894,
           0.777379035949707,
           0.812107503414154,
           0.7835239171981812,
           0.8289278745651245,
           0.8311659097671509,
           0.8157391548156738,
           0.8751392364501953,
           0.8665453791618347,
           0.8246976137161255,
           0.8043472766876221,
           0.8588583469390869,
           0.8398786783218384,
           0.7717537879943848,
           0.8052383065223694,
           0.8465685844421387,
           0.8646395802497864,
           1,
           0.11922305822372437,
           0.7436345815658569,
           0.8156305551528931,
           0.8537404537200928,
           0.7663193941116333,
           0.7553167343139648,
           0.7799911499023438,
           0.7666131258010864,
           0.8017053604125977,
           0.5554772019386292,
           0.5126489400863647,
           0.6156643033027649,
           0.6057908535003662,
           0.6415479183197021,
           0.6363146305084229,
           0.4385151267051697,
           0.43334493041038513,
           0.3080776333808899,
           0.35566216707229614
          ],
          [
           0.18628975749015808,
           0.1746979057788849,
           0.1427486389875412,
           0.163048654794693,
           0.1577230989933014,
           0.15294140577316284,
           0.15793265402317047,
           0.19063915312290192,
           0.20451635122299194,
           0.1771394908428192,
           0.17890554666519165,
           0.19891399145126343,
           0.14419087767601013,
           0.16058653593063354,
           0.1526225507259369,
           0.1902543306350708,
           0.13884077966213226,
           0.13645169138908386,
           0.17217808961868286,
           0.17416363954544067,
           0.19692914187908173,
           0.2455398142337799,
           0.18593963980674744,
           0.18754227459430695,
           0.15020236372947693,
           0.15495547652244568,
           0.13743856549263,
           0.13471047580242157,
           0.13316191732883453,
           0.11746611446142197,
           0.18770337104797363,
           0.10047842562198639,
           0.1597653329372406,
           0.15008479356765747,
           0.1421971619129181,
           0.14910778403282166,
           0.12926402688026428,
           0.15010759234428406,
           0.16450853645801544,
           0.11575479805469513,
           0.13087013363838196,
           0.16624215245246887,
           0.11631439626216888,
           0.1349070817232132,
           0.16028183698654175,
           0.18062081933021545,
           0.13336136937141418,
           0.13395540416240692,
           0.13286562263965607,
           0.11922305822372437,
           1,
           0.09132685512304306,
           0.11659015715122223,
           0.13385729491710663,
           0.14619851112365723,
           0.14019331336021423,
           0.18271633982658386,
           0.13747675716876984,
           0.12605392932891846,
           0.23066499829292297,
           0.3540681302547455,
           0.3206033706665039,
           0.2404305338859558,
           0.32124826312065125,
           0.2908404767513275,
           0.2043253481388092,
           0.5367748141288757,
           0.2603573799133301,
           0.33184802532196045
          ],
          [
           0.7761474847793579,
           0.700101375579834,
           0.7518634796142578,
           0.6911216974258423,
           0.7586405277252197,
           0.7798277139663696,
           0.7155471444129944,
           0.6894123554229736,
           0.8050700426101685,
           0.7036868333816528,
           0.7166075706481934,
           0.7404301166534424,
           0.7593652009963989,
           0.7329317331314087,
           0.7148003578186035,
           0.6161739230155945,
           0.6467028856277466,
           0.571082353591919,
           0.5666252374649048,
           0.5852546095848083,
           0.5894700288772583,
           0.597915768623352,
           0.7482264637947083,
           0.5352632403373718,
           0.5815941095352173,
           0.7507176995277405,
           0.795029878616333,
           0.7665395736694336,
           0.7792178392410278,
           0.795952558517456,
           0.7053835391998291,
           0.7765445709228516,
           0.7622473239898682,
           0.7389503717422485,
           0.682437002658844,
           0.7055153846740723,
           0.7773725986480713,
           0.7524935007095337,
           0.7728550434112549,
           0.7564489841461182,
           0.7152780294418335,
           0.7678404450416565,
           0.7374030351638794,
           0.7740049958229065,
           0.7689923048019409,
           0.6872060298919678,
           0.7382473945617676,
           0.7162217497825623,
           0.7351037859916687,
           0.7436345815658569,
           0.09132685512304306,
           1,
           0.7905088663101196,
           0.7400517463684082,
           0.8849421739578247,
           0.7928990125656128,
           0.7762424945831299,
           0.7959264516830444,
           0.7386432886123657,
           0.40560126304626465,
           0.4587330222129822,
           0.45698440074920654,
           0.4684069752693176,
           0.5266321897506714,
           0.4785345196723938,
           0.33848369121551514,
           0.3163335919380188,
           0.2635120451450348,
           0.2713332176208496
          ],
          [
           0.8281450867652893,
           0.768965482711792,
           0.8321791887283325,
           0.8028110265731812,
           0.8334448337554932,
           0.8049957752227783,
           0.7746957540512085,
           0.7449438571929932,
           0.8741430640220642,
           0.7987798452377319,
           0.7260412573814392,
           0.7193227410316467,
           0.8221653699874878,
           0.7961965799331665,
           0.7755687832832336,
           0.6694274544715881,
           0.7185946106910706,
           0.6679065823554993,
           0.6554850339889526,
           0.6687499284744263,
           0.6513437032699585,
           0.6494499444961548,
           0.672355055809021,
           0.5931847095489502,
           0.6162501573562622,
           0.8624348044395447,
           0.8674321174621582,
           0.904250979423523,
           0.8755728602409363,
           0.8656444549560547,
           0.8276249170303345,
           0.8576619625091553,
           0.8594820499420166,
           0.8328003883361816,
           0.7787706851959229,
           0.868598461151123,
           0.8471154570579529,
           0.8469256162643433,
           0.8304576873779297,
           0.8565475940704346,
           0.7772379517555237,
           0.834003210067749,
           0.8480194807052612,
           0.8930803537368774,
           0.819390058517456,
           0.8342323303222656,
           0.7937864065170288,
           0.7974188327789307,
           0.8035966753959656,
           0.8156305551528931,
           0.11659015715122223,
           0.7905088663101196,
           0.9999996423721313,
           0.8684679269790649,
           0.8366197347640991,
           0.8729928731918335,
           0.8408584594726562,
           0.8910041451454163,
           0.8586721420288086,
           0.474220335483551,
           0.5196489095687866,
           0.5744184255599976,
           0.5195521712303162,
           0.5740255117416382,
           0.5269792079925537,
           0.40063104033470154,
           0.35526105761528015,
           0.2262691855430603,
           0.2548525035381317
          ],
          [
           0.7563347816467285,
           0.7155512571334839,
           0.7701828479766846,
           0.7955414056777954,
           0.7605308890342712,
           0.7344293594360352,
           0.7392982244491577,
           0.7867723107337952,
           0.8256892561912537,
           0.7396448850631714,
           0.7386472225189209,
           0.7392955422401428,
           0.7573699951171875,
           0.7249164581298828,
           0.7397657632827759,
           0.6353135108947754,
           0.7013493776321411,
           0.6611371040344238,
           0.6047976016998291,
           0.6592346429824829,
           0.6719390153884888,
           0.6564746499061584,
           0.6589825749397278,
           0.5901857614517212,
           0.5899870991706848,
           0.8157356977462769,
           0.8311045169830322,
           0.8516445159912109,
           0.8134968280792236,
           0.8210081458091736,
           0.8502384424209595,
           0.8812577128410339,
           0.8410917520523071,
           0.7511296272277832,
           0.7700716853141785,
           0.8012408018112183,
           0.8311746120452881,
           0.7930328845977783,
           0.8117530345916748,
           0.8179521560668945,
           0.7697485685348511,
           0.7855668067932129,
           0.8125488758087158,
           0.8151131868362427,
           0.8412070274353027,
           0.7685524225234985,
           0.7946640253067017,
           0.8042301535606384,
           0.7838276624679565,
           0.8537404537200928,
           0.13385729491710663,
           0.7400517463684082,
           0.8684679269790649,
           1,
           0.8086208701133728,
           0.7639529705047607,
           0.7786386013031006,
           0.8266809582710266,
           0.7897325754165649,
           0.4732344448566437,
           0.5018473267555237,
           0.5932952165603638,
           0.5615947246551514,
           0.5920168161392212,
           0.5755457878112793,
           0.3906964659690857,
           0.3852323889732361,
           0.20890702307224274,
           0.3017694652080536
          ],
          [
           0.8048243522644043,
           0.7240440845489502,
           0.792940616607666,
           0.729688286781311,
           0.798060417175293,
           0.8090795278549194,
           0.7191742658615112,
           0.7045817375183105,
           0.8571988344192505,
           0.7476142644882202,
           0.7027866244316101,
           0.754457950592041,
           0.7664828300476074,
           0.7663308382034302,
           0.7562257647514343,
           0.6486228704452515,
           0.666016697883606,
           0.5884466171264648,
           0.5809837579727173,
           0.615172803401947,
           0.612584114074707,
           0.6436001062393188,
           0.7351759672164917,
           0.5568013191223145,
           0.6086518168449402,
           0.7736201286315918,
           0.8013352751731873,
           0.7763239145278931,
           0.8046771287918091,
           0.812910795211792,
           0.7599543929100037,
           0.8015867471694946,
           0.7931821346282959,
           0.8027728796005249,
           0.7138631343841553,
           0.7992509603500366,
           0.7846102714538574,
           0.7922082543373108,
           0.7887070178985596,
           0.7692554593086243,
           0.7257633209228516,
           0.7600184679031372,
           0.7508432865142822,
           0.7779949903488159,
           0.783734917640686,
           0.7486037611961365,
           0.7467861175537109,
           0.745883584022522,
           0.7491737604141235,
           0.7663193941116333,
           0.14619851112365723,
           0.8849421739578247,
           0.8366197347640991,
           0.8086208701133728,
           1,
           0.8541752099990845,
           0.8355144262313843,
           0.8270829319953918,
           0.8024893999099731,
           0.46616655588150024,
           0.534070611000061,
           0.554995059967041,
           0.5172440409660339,
           0.5631234049797058,
           0.4932812452316284,
           0.4171043038368225,
           0.3918693959712982,
           0.28313425183296204,
           0.30848875641822815
          ],
          [
           0.8739440441131592,
           0.7798545956611633,
           0.8275671005249023,
           0.760385274887085,
           0.893156886100769,
           0.842280924320221,
           0.8122814893722534,
           0.697185754776001,
           0.8149499893188477,
           0.7784426212310791,
           0.7438039779663086,
           0.7138081192970276,
           0.8190822601318359,
           0.8023844957351685,
           0.7988839745521545,
           0.6375318169593811,
           0.652448296546936,
           0.650466799736023,
           0.6748384237289429,
           0.6657105684280396,
           0.6320372223854065,
           0.606419563293457,
           0.6620646715164185,
           0.5902419090270996,
           0.669130265712738,
           0.7989380359649658,
           0.8280853033065796,
           0.8170686364173889,
           0.8574392795562744,
           0.8493391275405884,
           0.8075683116912842,
           0.8194377422332764,
           0.7822555899620056,
           0.8418521881103516,
           0.7339099645614624,
           0.8258204460144043,
           0.7892886400222778,
           0.8582922220230103,
           0.8325164318084717,
           0.8159303665161133,
           0.7575201988220215,
           0.8038769364356995,
           0.815977931022644,
           0.851243257522583,
           0.8027172088623047,
           0.7883899211883545,
           0.7827749848365784,
           0.7792446613311768,
           0.7919332981109619,
           0.7553167343139648,
           0.14019331336021423,
           0.7928990125656128,
           0.8729928731918335,
           0.7639529705047607,
           0.8541752099990845,
           1.000000238418579,
           0.838111400604248,
           0.8342481255531311,
           0.8438928127288818,
           0.5048590302467346,
           0.514822244644165,
           0.5688592195510864,
           0.506920337677002,
           0.5623103976249695,
           0.49242275953292847,
           0.42425817251205444,
           0.3835830092430115,
           0.22885805368423462,
           0.286014586687088
          ],
          [
           0.8020228743553162,
           0.723183810710907,
           0.7885509729385376,
           0.7180254459381104,
           0.7965943813323975,
           0.7921934127807617,
           0.721178412437439,
           0.7049859762191772,
           0.8136382102966309,
           0.7333893775939941,
           0.6887988448143005,
           0.6940117478370667,
           0.7402166724205017,
           0.7524625062942505,
           0.7642896175384521,
           0.6773720383644104,
           0.6810263395309448,
           0.6618078947067261,
           0.6488687992095947,
           0.6753909587860107,
           0.6331794261932373,
           0.6435971260070801,
           0.6736170053482056,
           0.5931557416915894,
           0.6398335695266724,
           0.7846834063529968,
           0.7973148822784424,
           0.7920061349868774,
           0.8349266648292542,
           0.8118366599082947,
           0.7877939939498901,
           0.8272706866264343,
           0.7624010443687439,
           0.8212085366249084,
           0.7322236895561218,
           0.7927455902099609,
           0.7837473154067993,
           0.8082959651947021,
           0.8068207502365112,
           0.8157864809036255,
           0.7776181697845459,
           0.7674591541290283,
           0.801663875579834,
           0.8382270932197571,
           0.7913017272949219,
           0.7953370809555054,
           0.789398193359375,
           0.7596687078475952,
           0.7785425186157227,
           0.7799911499023438,
           0.18271633982658386,
           0.7762424945831299,
           0.8408584594726562,
           0.7786386013031006,
           0.8355144262313843,
           0.838111400604248,
           1,
           0.7718326449394226,
           0.7822340726852417,
           0.5197238922119141,
           0.5333590507507324,
           0.5772123336791992,
           0.5125352144241333,
           0.587864339351654,
           0.5267267227172852,
           0.47434496879577637,
           0.3989019989967346,
           0.2734718918800354,
           0.3008846640586853
          ],
          [
           0.7808020114898682,
           0.6889024376869202,
           0.7736197710037231,
           0.7652735710144043,
           0.7611451148986816,
           0.7502695322036743,
           0.7449642419815063,
           0.6967594623565674,
           0.8326267004013062,
           0.7431836128234863,
           0.6665422320365906,
           0.6859471201896667,
           0.8003873825073242,
           0.7472020387649536,
           0.7121207118034363,
           0.6006268858909607,
           0.6267775297164917,
           0.6055719256401062,
           0.5777724981307983,
           0.5989441275596619,
           0.5873637199401855,
           0.6155117750167847,
           0.6635979413986206,
           0.5458128452301025,
           0.5608334541320801,
           0.8054924011230469,
           0.7896862030029297,
           0.8667909502983093,
           0.7978519201278687,
           0.808832049369812,
           0.790468692779541,
           0.799613356590271,
           0.7892942428588867,
           0.7338880300521851,
           0.7107843160629272,
           0.7797147035598755,
           0.8126716613769531,
           0.8048896789550781,
           0.8101580142974854,
           0.7902963757514954,
           0.7426031827926636,
           0.7784065008163452,
           0.8125035762786865,
           0.8327887654304504,
           0.8272974491119385,
           0.7253245115280151,
           0.7205066680908203,
           0.752220094203949,
           0.7842977046966553,
           0.7666131258010864,
           0.13747675716876984,
           0.7959264516830444,
           0.8910041451454163,
           0.8266809582710266,
           0.8270829319953918,
           0.8342481255531311,
           0.7718326449394226,
           1.000000238418579,
           0.7861147522926331,
           0.4207102656364441,
           0.4531654119491577,
           0.5291162729263306,
           0.5011047124862671,
           0.5851675271987915,
           0.499918133020401,
           0.35164472460746765,
           0.3572755455970764,
           0.2047892063856125,
           0.25034433603286743
          ],
          [
           0.7815630435943604,
           0.7413992881774902,
           0.7948842644691467,
           0.7397708892822266,
           0.8233450651168823,
           0.7658088803291321,
           0.7442346811294556,
           0.7638461589813232,
           0.8121981620788574,
           0.7416050434112549,
           0.7260966897010803,
           0.7308584451675415,
           0.7700363397598267,
           0.7582656741142273,
           0.7308424711227417,
           0.6536602973937988,
           0.6911112070083618,
           0.663843035697937,
           0.6505208611488342,
           0.6693332195281982,
           0.6625614762306213,
           0.6444458961486816,
           0.6783769726753235,
           0.6096861362457275,
           0.6347911357879639,
           0.7914423942565918,
           0.8527485132217407,
           0.8242878913879395,
           0.8676159381866455,
           0.8583725690841675,
           0.8104435801506042,
           0.8171249628067017,
           0.7923418283462524,
           0.8261947631835938,
           0.7969621419906616,
           0.845293402671814,
           0.7907145023345947,
           0.8438786268234253,
           0.8150491714477539,
           0.8375999927520752,
           0.7863261699676514,
           0.7650438547134399,
           0.8057074546813965,
           0.8292009234428406,
           0.7906670570373535,
           0.8245902061462402,
           0.8050755262374878,
           0.7971937656402588,
           0.7861534357070923,
           0.8017053604125977,
           0.12605392932891846,
           0.7386432886123657,
           0.8586721420288086,
           0.7897325754165649,
           0.8024893999099731,
           0.8438928127288818,
           0.7822340726852417,
           0.7861147522926331,
           1,
           0.49305135011672974,
           0.5187925100326538,
           0.601042628288269,
           0.5310308933258057,
           0.5624172687530518,
           0.571280837059021,
           0.42096614837646484,
           0.37938958406448364,
           0.25033038854599,
           0.3043994605541229
          ],
          [
           0.624951958656311,
           0.6413217782974243,
           0.5888799428939819,
           0.6305459141731262,
           0.5896302461624146,
           0.5838409662246704,
           0.566283106803894,
           0.6469388604164124,
           0.5690373182296753,
           0.6002635359764099,
           0.627120852470398,
           0.606033444404602,
           0.5369259715080261,
           0.5875608325004578,
           0.5598644614219666,
           0.6742737293243408,
           0.6412410736083984,
           0.7519626021385193,
           0.765643835067749,
           0.9230573177337646,
           0.7377395629882812,
           0.6492494344711304,
           0.6243153810501099,
           0.7233373522758484,
           0.5776240229606628,
           0.5929681062698364,
           0.5618300437927246,
           0.5157982110977173,
           0.5932010412216187,
           0.5360369682312012,
           0.6177854537963867,
           0.5055855512619019,
           0.5655744671821594,
           0.562491238117218,
           0.6253052949905396,
           0.5307064652442932,
           0.49356240034103394,
           0.5835680365562439,
           0.5432918071746826,
           0.5441455841064453,
           0.5871867537498474,
           0.5699045062065125,
           0.5452868342399597,
           0.5905628204345703,
           0.5556426048278809,
           0.5954067707061768,
           0.5786742568016052,
           0.5317369103431702,
           0.6023892164230347,
           0.5554772019386292,
           0.23066499829292297,
           0.40560126304626465,
           0.474220335483551,
           0.4732344448566437,
           0.46616655588150024,
           0.5048590302467346,
           0.5197238922119141,
           0.4207102656364441,
           0.49305135011672974,
           0.9999998807907104,
           0.5330759286880493,
           0.7185980677604675,
           0.6896296739578247,
           0.616913378238678,
           0.5341567993164062,
           0.6086442470550537,
           0.6275141835212708,
           0.43159544467926025,
           0.6035929918289185
          ],
          [
           0.6040068864822388,
           0.5840001106262207,
           0.5842318534851074,
           0.571887731552124,
           0.5502859354019165,
           0.5349216461181641,
           0.5117411613464355,
           0.5952346324920654,
           0.6255718469619751,
           0.5904226303100586,
           0.5590546131134033,
           0.5424209237098694,
           0.531207799911499,
           0.5359240174293518,
           0.5734663009643555,
           0.6747161149978638,
           0.6458621621131897,
           0.6320739984512329,
           0.5241292715072632,
           0.5356868505477905,
           0.5631605386734009,
           0.7273348569869995,
           0.6007907390594482,
           0.5397406816482544,
           0.6393733024597168,
           0.5609092712402344,
           0.519603431224823,
           0.5309199690818787,
           0.5051169991493225,
           0.5068091154098511,
           0.5627316236495972,
           0.4761766493320465,
           0.5651940703392029,
           0.5504577159881592,
           0.5867267847061157,
           0.5574434995651245,
           0.4919440746307373,
           0.5070041418075562,
           0.5368837118148804,
           0.5112037658691406,
           0.5466764569282532,
           0.5594896078109741,
           0.5114004611968994,
           0.5603816509246826,
           0.5105430483818054,
           0.5470076203346252,
           0.4979211688041687,
           0.5459425449371338,
           0.5672351121902466,
           0.5126489400863647,
           0.3540681302547455,
           0.4587330222129822,
           0.5196489095687866,
           0.5018473267555237,
           0.534070611000061,
           0.514822244644165,
           0.5333590507507324,
           0.4531654119491577,
           0.5187925100326538,
           0.5330759286880493,
           1.0000001192092896,
           0.7286306619644165,
           0.535556435585022,
           0.5977959632873535,
           0.6151854991912842,
           0.6322330236434937,
           0.6879643797874451,
           0.5409412980079651,
           0.4923745393753052
          ],
          [
           0.6381875276565552,
           0.6494287252426147,
           0.6460953950881958,
           0.6799876689910889,
           0.6072860956192017,
           0.5904065370559692,
           0.613128662109375,
           0.7239313125610352,
           0.6299794912338257,
           0.6874487400054932,
           0.6474677920341492,
           0.6394281387329102,
           0.5956026315689087,
           0.6138237714767456,
           0.6235629320144653,
           0.6405818462371826,
           0.6118130683898926,
           0.7318675518035889,
           0.6255012154579163,
           0.701640248298645,
           0.6498547792434692,
           0.6926424503326416,
           0.6459167003631592,
           0.6633086204528809,
           0.581066370010376,
           0.6404151320457458,
           0.6036579608917236,
           0.6331144571304321,
           0.6480414867401123,
           0.6319913268089294,
           0.7036601901054382,
           0.5883386135101318,
           0.6720247268676758,
           0.6452651023864746,
           0.6738675832748413,
           0.6532058119773865,
           0.5784716010093689,
           0.6353989839553833,
           0.6488072872161865,
           0.6098111271858215,
           0.618004560470581,
           0.6069416999816895,
           0.6316112279891968,
           0.6351748704910278,
           0.6092993021011353,
           0.649379312992096,
           0.6112359166145325,
           0.59377121925354,
           0.6391462087631226,
           0.6156643033027649,
           0.3206033706665039,
           0.45698440074920654,
           0.5744184255599976,
           0.5932952165603638,
           0.554995059967041,
           0.5688592195510864,
           0.5772123336791992,
           0.5291162729263306,
           0.601042628288269,
           0.7185980677604675,
           0.7286306619644165,
           0.9999997019767761,
           0.7169255018234253,
           0.657346785068512,
           0.6510552763938904,
           0.7093122005462646,
           0.7506580352783203,
           0.42133671045303345,
           0.6110263466835022
          ],
          [
           0.609185516834259,
           0.6308248043060303,
           0.6340411901473999,
           0.6453596949577332,
           0.5998629927635193,
           0.5792361497879028,
           0.602764368057251,
           0.7104111909866333,
           0.6039342880249023,
           0.6392828822135925,
           0.7162798643112183,
           0.6695382595062256,
           0.6028096675872803,
           0.6023066639900208,
           0.573632001876831,
           0.6826278567314148,
           0.61543869972229,
           0.7140085101127625,
           0.7089952230453491,
           0.7147356867790222,
           0.6910704374313354,
           0.6765555143356323,
           0.6556228399276733,
           0.618048906326294,
           0.5434587597846985,
           0.6582993268966675,
           0.6204613447189331,
           0.6034175157546997,
           0.6025300025939941,
           0.5650995373725891,
           0.6396011710166931,
           0.5430231690406799,
           0.6059132814407349,
           0.6053207516670227,
           0.6255348920822144,
           0.550597071647644,
           0.5414549112319946,
           0.6148560047149658,
           0.5516951084136963,
           0.5530736446380615,
           0.5790218114852905,
           0.5770217180252075,
           0.5679406523704529,
           0.5908965468406677,
           0.5663356781005859,
           0.649420976638794,
           0.6005964279174805,
           0.5487460494041443,
           0.6137195825576782,
           0.6057908535003662,
           0.2404305338859558,
           0.4684069752693176,
           0.5195521712303162,
           0.5615947246551514,
           0.5172440409660339,
           0.506920337677002,
           0.5125352144241333,
           0.5011047124862671,
           0.5310308933258057,
           0.6896296739578247,
           0.535556435585022,
           0.7169255018234253,
           1,
           0.6325783133506775,
           0.5064023733139038,
           0.5549815893173218,
           0.5916714072227478,
           0.40970173478126526,
           0.7663717865943909
          ],
          [
           0.6620123386383057,
           0.6201173067092896,
           0.6136256456375122,
           0.7171143889427185,
           0.6380058526992798,
           0.6096917986869812,
           0.6109458804130554,
           0.6849309206008911,
           0.7179980278015137,
           0.7130880355834961,
           0.6924686431884766,
           0.6496987342834473,
           0.6521857976913452,
           0.5910975933074951,
           0.5990881323814392,
           0.6536215543746948,
           0.6193901300430298,
           0.6647745370864868,
           0.6027886867523193,
           0.6529837846755981,
           0.6442550420761108,
           0.6728546619415283,
           0.6327593326568604,
           0.6189509630203247,
           0.596793532371521,
           0.6438398361206055,
           0.6202256679534912,
           0.6337647438049316,
           0.6009560823440552,
           0.5951586961746216,
           0.6468645334243774,
           0.581748366355896,
           0.6042062044143677,
           0.5392613410949707,
           0.6271546483039856,
           0.5745542049407959,
           0.5817101001739502,
           0.5941331386566162,
           0.6207613945007324,
           0.6036622524261475,
           0.6236962080001831,
           0.6265010833740234,
           0.631097674369812,
           0.6322141289710999,
           0.6231522560119629,
           0.6114423871040344,
           0.5898845195770264,
           0.5911732912063599,
           0.6280601024627686,
           0.6415479183197021,
           0.32124826312065125,
           0.5266321897506714,
           0.5740255117416382,
           0.5920168161392212,
           0.5631234049797058,
           0.5623103976249695,
           0.587864339351654,
           0.5851675271987915,
           0.5624172687530518,
           0.616913378238678,
           0.5977959632873535,
           0.657346785068512,
           0.6325783133506775,
           1.0000001192092896,
           0.5953741073608398,
           0.489429771900177,
           0.666192889213562,
           0.4033578336238861,
           0.5025888681411743
          ],
          [
           0.5813944339752197,
           0.6047734022140503,
           0.595671534538269,
           0.5661672353744507,
           0.49605995416641235,
           0.5271175503730774,
           0.6074181795120239,
           0.8514014482498169,
           0.5868456363677979,
           0.583160936832428,
           0.6408764719963074,
           0.6705824136734009,
           0.5420235395431519,
           0.57669997215271,
           0.6101428866386414,
           0.5726897716522217,
           0.6165101528167725,
           0.6266525983810425,
           0.5644925832748413,
           0.6169943809509277,
           0.6409515142440796,
           0.6011344194412231,
           0.6198434233665466,
           0.6045371294021606,
           0.5679225921630859,
           0.6128928661346436,
           0.6188317537307739,
           0.5904555916786194,
           0.6466118097305298,
           0.6523580551147461,
           0.6652504801750183,
           0.6003040075302124,
           0.6486570835113525,
           0.5616209506988525,
           0.6825165748596191,
           0.5733489990234375,
           0.5799027681350708,
           0.5882935523986816,
           0.6599969863891602,
           0.6061309576034546,
           0.6193397045135498,
           0.6313109397888184,
           0.6245293617248535,
           0.6123529672622681,
           0.6289559602737427,
           0.5703578591346741,
           0.6381010413169861,
           0.5926377773284912,
           0.6522018313407898,
           0.6363146305084229,
           0.2908404767513275,
           0.4785345196723938,
           0.5269792079925537,
           0.5755457878112793,
           0.4932812452316284,
           0.49242275953292847,
           0.5267267227172852,
           0.499918133020401,
           0.571280837059021,
           0.5341567993164062,
           0.6151854991912842,
           0.6510552763938904,
           0.5064023733139038,
           0.5953741073608398,
           1.0000001192092896,
           0.46301835775375366,
           0.6185568571090698,
           0.3458344340324402,
           0.4409446716308594
          ],
          [
           0.4820801913738251,
           0.46981602907180786,
           0.48400986194610596,
           0.5034765601158142,
           0.45821601152420044,
           0.4337037205696106,
           0.4425535500049591,
           0.5200198292732239,
           0.4584685266017914,
           0.5061651468276978,
           0.481772243976593,
           0.44393038749694824,
           0.42790156602859497,
           0.44337281584739685,
           0.501017689704895,
           0.5835365056991577,
           0.5119714736938477,
           0.6743614673614502,
           0.49656808376312256,
           0.5511661767959595,
           0.5032791495323181,
           0.574630618095398,
           0.5095309019088745,
           0.47325801849365234,
           0.5230106711387634,
           0.46181437373161316,
           0.42612725496292114,
           0.43822985887527466,
           0.48712676763534546,
           0.4771781265735626,
           0.5278034806251526,
           0.4484822750091553,
           0.46676018834114075,
           0.5060837268829346,
           0.508989691734314,
           0.45844972133636475,
           0.41679245233535767,
           0.4632916748523712,
           0.46536850929260254,
           0.4513065218925476,
           0.4632585644721985,
           0.44707900285720825,
           0.48475325107574463,
           0.4646293520927429,
           0.4416511654853821,
           0.4926023781299591,
           0.5171411037445068,
           0.43630361557006836,
           0.4784564673900604,
           0.4385151267051697,
           0.2043253481388092,
           0.33848369121551514,
           0.40063104033470154,
           0.3906964659690857,
           0.4171043038368225,
           0.42425817251205444,
           0.47434496879577637,
           0.35164472460746765,
           0.42096614837646484,
           0.6086442470550537,
           0.6322330236434937,
           0.7093122005462646,
           0.5549815893173218,
           0.489429771900177,
           0.46301835775375366,
           1.0000001192092896,
           0.5178256034851074,
           0.4286072850227356,
           0.4825971722602844
          ],
          [
           0.49705368280410767,
           0.48105597496032715,
           0.444987952709198,
           0.49986541271209717,
           0.4397466480731964,
           0.4395238161087036,
           0.4468177556991577,
           0.5478108525276184,
           0.4935707449913025,
           0.5116046667098999,
           0.48772335052490234,
           0.512121856212616,
           0.4236293137073517,
           0.4406297206878662,
           0.4355563521385193,
           0.5043338537216187,
           0.45811307430267334,
           0.5156563520431519,
           0.49507787823677063,
           0.5472457408905029,
           0.527047872543335,
           0.6257388591766357,
           0.5537384748458862,
           0.5361714959144592,
           0.445159375667572,
           0.4547598361968994,
           0.4094303250312805,
           0.4033711850643158,
           0.41694867610931396,
           0.40304648876190186,
           0.4886262118816376,
           0.3725129961967468,
           0.46442729234695435,
           0.4002639055252075,
           0.46742236614227295,
           0.41151654720306396,
           0.35366857051849365,
           0.4278113842010498,
           0.4345223903656006,
           0.4125559329986572,
           0.43391233682632446,
           0.45497429370880127,
           0.3889978229999542,
           0.42928922176361084,
           0.4198005199432373,
           0.4484848082065582,
           0.426293283700943,
           0.427326500415802,
           0.4578899145126343,
           0.43334493041038513,
           0.5367748141288757,
           0.3163335919380188,
           0.35526105761528015,
           0.3852323889732361,
           0.3918693959712982,
           0.3835830092430115,
           0.3989019989967346,
           0.3572755455970764,
           0.37938958406448364,
           0.6275141835212708,
           0.6879643797874451,
           0.7506580352783203,
           0.5916714072227478,
           0.666192889213562,
           0.6185568571090698,
           0.5178256034851074,
           0.9999998807907104,
           0.492531955242157,
           0.6855245232582092
          ],
          [
           0.3052893877029419,
           0.27921825647354126,
           0.33456069231033325,
           0.34384268522262573,
           0.30237025022506714,
           0.2791723608970642,
           0.22524045407772064,
           0.323248028755188,
           0.35344839096069336,
           0.3339683413505554,
           0.3017367422580719,
           0.32150858640670776,
           0.26127251982688904,
           0.253537654876709,
           0.3085322678089142,
           0.741646409034729,
           0.492279052734375,
           0.4818670153617859,
           0.34550777077674866,
           0.36657625436782837,
           0.3800848722457886,
           0.4824766516685486,
           0.42884790897369385,
           0.40395522117614746,
           0.4509339928627014,
           0.31861600279808044,
           0.2929942011833191,
           0.26036950945854187,
           0.2532634139060974,
           0.25565260648727417,
           0.2672901153564453,
           0.22707559168338776,
           0.25828713178634644,
           0.30210089683532715,
           0.31676343083381653,
           0.29233577847480774,
           0.27082958817481995,
           0.2996434271335602,
           0.270773708820343,
           0.2717675566673279,
           0.3378029465675354,
           0.2764818072319031,
           0.24280717968940735,
           0.2824104428291321,
           0.2721671462059021,
           0.30461111664772034,
           0.2479931116104126,
           0.28458383679389954,
           0.3236308693885803,
           0.3080776333808899,
           0.2603573799133301,
           0.2635120451450348,
           0.2262691855430603,
           0.20890702307224274,
           0.28313425183296204,
           0.22885805368423462,
           0.2734718918800354,
           0.2047892063856125,
           0.25033038854599,
           0.43159544467926025,
           0.5409412980079651,
           0.42133671045303345,
           0.40970173478126526,
           0.4033578336238861,
           0.3458344340324402,
           0.4286072850227356,
           0.492531955242157,
           1,
           0.468208909034729
          ],
          [
           0.3952905535697937,
           0.409574419260025,
           0.37052208185195923,
           0.41205042600631714,
           0.3600555658340454,
           0.3479034900665283,
           0.3536829650402069,
           0.4688664376735687,
           0.4016827940940857,
           0.40984052419662476,
           0.4630081057548523,
           0.45494115352630615,
           0.33878231048583984,
           0.35700228810310364,
           0.34453701972961426,
           0.508064866065979,
           0.4242258667945862,
           0.49194157123565674,
           0.5412951707839966,
           0.5182022452354431,
           0.4849981665611267,
           0.5104721784591675,
           0.4867755174636841,
           0.4706209897994995,
           0.40253129601478577,
           0.37795931100845337,
           0.35846802592277527,
           0.3216020166873932,
           0.3478586673736572,
           0.3306747376918793,
           0.381296843290329,
           0.28457534313201904,
           0.36190468072891235,
           0.344260036945343,
           0.38918954133987427,
           0.3119118809700012,
           0.2865159511566162,
           0.35931527614593506,
           0.32813960313796997,
           0.3000774383544922,
           0.3305019736289978,
           0.3382212519645691,
           0.30751097202301025,
           0.3228659927845001,
           0.3235574960708618,
           0.40085047483444214,
           0.3813555836677551,
           0.3122473955154419,
           0.3596841096878052,
           0.35566216707229614,
           0.33184802532196045,
           0.2713332176208496,
           0.2548525035381317,
           0.3017694652080536,
           0.30848875641822815,
           0.286014586687088,
           0.3008846640586853,
           0.25034433603286743,
           0.3043994605541229,
           0.6035929918289185,
           0.4923745393753052,
           0.6110263466835022,
           0.7663717865943909,
           0.5025888681411743,
           0.4409446716308594,
           0.4825971722602844,
           0.6855245232582092,
           0.468208909034729,
           0.9999999403953552
          ]
         ]
        }
       ],
       "layout": {
        "coloraxis": {
         "colorbar": {
          "title": {
           "text": "Similarity Score"
          }
         },
         "colorscale": [
          [
           0,
           "rgb(247,252,240)"
          ],
          [
           0.125,
           "rgb(224,243,219)"
          ],
          [
           0.25,
           "rgb(204,235,197)"
          ],
          [
           0.375,
           "rgb(168,221,181)"
          ],
          [
           0.5,
           "rgb(123,204,196)"
          ],
          [
           0.625,
           "rgb(78,179,211)"
          ],
          [
           0.75,
           "rgb(43,140,190)"
          ],
          [
           0.875,
           "rgb(8,104,172)"
          ],
          [
           1,
           "rgb(8,64,129)"
          ]
         ]
        },
        "height": 800,
        "hoverlabel": {
         "bgcolor": "white",
         "font": {
          "family": "Rockwell",
          "size": 16
         }
        },
        "legend": {
         "title": {
          "text": "Trend"
         }
        },
        "margin": {
         "t": 60
        },
        "showlegend": true,
        "template": {
         "data": {
          "bar": [
           {
            "error_x": {
             "color": "#2a3f5f"
            },
            "error_y": {
             "color": "#2a3f5f"
            },
            "marker": {
             "line": {
              "color": "#E5ECF6",
              "width": 0.5
             },
             "pattern": {
              "fillmode": "overlay",
              "size": 10,
              "solidity": 0.2
             }
            },
            "type": "bar"
           }
          ],
          "barpolar": [
           {
            "marker": {
             "line": {
              "color": "#E5ECF6",
              "width": 0.5
             },
             "pattern": {
              "fillmode": "overlay",
              "size": 10,
              "solidity": 0.2
             }
            },
            "type": "barpolar"
           }
          ],
          "carpet": [
           {
            "aaxis": {
             "endlinecolor": "#2a3f5f",
             "gridcolor": "white",
             "linecolor": "white",
             "minorgridcolor": "white",
             "startlinecolor": "#2a3f5f"
            },
            "baxis": {
             "endlinecolor": "#2a3f5f",
             "gridcolor": "white",
             "linecolor": "white",
             "minorgridcolor": "white",
             "startlinecolor": "#2a3f5f"
            },
            "type": "carpet"
           }
          ],
          "choropleth": [
           {
            "colorbar": {
             "outlinewidth": 0,
             "ticks": ""
            },
            "type": "choropleth"
           }
          ],
          "contour": [
           {
            "colorbar": {
             "outlinewidth": 0,
             "ticks": ""
            },
            "colorscale": [
             [
              0,
              "#0d0887"
             ],
             [
              0.1111111111111111,
              "#46039f"
             ],
             [
              0.2222222222222222,
              "#7201a8"
             ],
             [
              0.3333333333333333,
              "#9c179e"
             ],
             [
              0.4444444444444444,
              "#bd3786"
             ],
             [
              0.5555555555555556,
              "#d8576b"
             ],
             [
              0.6666666666666666,
              "#ed7953"
             ],
             [
              0.7777777777777778,
              "#fb9f3a"
             ],
             [
              0.8888888888888888,
              "#fdca26"
             ],
             [
              1,
              "#f0f921"
             ]
            ],
            "type": "contour"
           }
          ],
          "contourcarpet": [
           {
            "colorbar": {
             "outlinewidth": 0,
             "ticks": ""
            },
            "type": "contourcarpet"
           }
          ],
          "heatmap": [
           {
            "colorbar": {
             "outlinewidth": 0,
             "ticks": ""
            },
            "colorscale": [
             [
              0,
              "#0d0887"
             ],
             [
              0.1111111111111111,
              "#46039f"
             ],
             [
              0.2222222222222222,
              "#7201a8"
             ],
             [
              0.3333333333333333,
              "#9c179e"
             ],
             [
              0.4444444444444444,
              "#bd3786"
             ],
             [
              0.5555555555555556,
              "#d8576b"
             ],
             [
              0.6666666666666666,
              "#ed7953"
             ],
             [
              0.7777777777777778,
              "#fb9f3a"
             ],
             [
              0.8888888888888888,
              "#fdca26"
             ],
             [
              1,
              "#f0f921"
             ]
            ],
            "type": "heatmap"
           }
          ],
          "heatmapgl": [
           {
            "colorbar": {
             "outlinewidth": 0,
             "ticks": ""
            },
            "colorscale": [
             [
              0,
              "#0d0887"
             ],
             [
              0.1111111111111111,
              "#46039f"
             ],
             [
              0.2222222222222222,
              "#7201a8"
             ],
             [
              0.3333333333333333,
              "#9c179e"
             ],
             [
              0.4444444444444444,
              "#bd3786"
             ],
             [
              0.5555555555555556,
              "#d8576b"
             ],
             [
              0.6666666666666666,
              "#ed7953"
             ],
             [
              0.7777777777777778,
              "#fb9f3a"
             ],
             [
              0.8888888888888888,
              "#fdca26"
             ],
             [
              1,
              "#f0f921"
             ]
            ],
            "type": "heatmapgl"
           }
          ],
          "histogram": [
           {
            "marker": {
             "pattern": {
              "fillmode": "overlay",
              "size": 10,
              "solidity": 0.2
             }
            },
            "type": "histogram"
           }
          ],
          "histogram2d": [
           {
            "colorbar": {
             "outlinewidth": 0,
             "ticks": ""
            },
            "colorscale": [
             [
              0,
              "#0d0887"
             ],
             [
              0.1111111111111111,
              "#46039f"
             ],
             [
              0.2222222222222222,
              "#7201a8"
             ],
             [
              0.3333333333333333,
              "#9c179e"
             ],
             [
              0.4444444444444444,
              "#bd3786"
             ],
             [
              0.5555555555555556,
              "#d8576b"
             ],
             [
              0.6666666666666666,
              "#ed7953"
             ],
             [
              0.7777777777777778,
              "#fb9f3a"
             ],
             [
              0.8888888888888888,
              "#fdca26"
             ],
             [
              1,
              "#f0f921"
             ]
            ],
            "type": "histogram2d"
           }
          ],
          "histogram2dcontour": [
           {
            "colorbar": {
             "outlinewidth": 0,
             "ticks": ""
            },
            "colorscale": [
             [
              0,
              "#0d0887"
             ],
             [
              0.1111111111111111,
              "#46039f"
             ],
             [
              0.2222222222222222,
              "#7201a8"
             ],
             [
              0.3333333333333333,
              "#9c179e"
             ],
             [
              0.4444444444444444,
              "#bd3786"
             ],
             [
              0.5555555555555556,
              "#d8576b"
             ],
             [
              0.6666666666666666,
              "#ed7953"
             ],
             [
              0.7777777777777778,
              "#fb9f3a"
             ],
             [
              0.8888888888888888,
              "#fdca26"
             ],
             [
              1,
              "#f0f921"
             ]
            ],
            "type": "histogram2dcontour"
           }
          ],
          "mesh3d": [
           {
            "colorbar": {
             "outlinewidth": 0,
             "ticks": ""
            },
            "type": "mesh3d"
           }
          ],
          "parcoords": [
           {
            "line": {
             "colorbar": {
              "outlinewidth": 0,
              "ticks": ""
             }
            },
            "type": "parcoords"
           }
          ],
          "pie": [
           {
            "automargin": true,
            "type": "pie"
           }
          ],
          "scatter": [
           {
            "fillpattern": {
             "fillmode": "overlay",
             "size": 10,
             "solidity": 0.2
            },
            "type": "scatter"
           }
          ],
          "scatter3d": [
           {
            "line": {
             "colorbar": {
              "outlinewidth": 0,
              "ticks": ""
             }
            },
            "marker": {
             "colorbar": {
              "outlinewidth": 0,
              "ticks": ""
             }
            },
            "type": "scatter3d"
           }
          ],
          "scattercarpet": [
           {
            "marker": {
             "colorbar": {
              "outlinewidth": 0,
              "ticks": ""
             }
            },
            "type": "scattercarpet"
           }
          ],
          "scattergeo": [
           {
            "marker": {
             "colorbar": {
              "outlinewidth": 0,
              "ticks": ""
             }
            },
            "type": "scattergeo"
           }
          ],
          "scattergl": [
           {
            "marker": {
             "colorbar": {
              "outlinewidth": 0,
              "ticks": ""
             }
            },
            "type": "scattergl"
           }
          ],
          "scattermapbox": [
           {
            "marker": {
             "colorbar": {
              "outlinewidth": 0,
              "ticks": ""
             }
            },
            "type": "scattermapbox"
           }
          ],
          "scatterpolar": [
           {
            "marker": {
             "colorbar": {
              "outlinewidth": 0,
              "ticks": ""
             }
            },
            "type": "scatterpolar"
           }
          ],
          "scatterpolargl": [
           {
            "marker": {
             "colorbar": {
              "outlinewidth": 0,
              "ticks": ""
             }
            },
            "type": "scatterpolargl"
           }
          ],
          "scatterternary": [
           {
            "marker": {
             "colorbar": {
              "outlinewidth": 0,
              "ticks": ""
             }
            },
            "type": "scatterternary"
           }
          ],
          "surface": [
           {
            "colorbar": {
             "outlinewidth": 0,
             "ticks": ""
            },
            "colorscale": [
             [
              0,
              "#0d0887"
             ],
             [
              0.1111111111111111,
              "#46039f"
             ],
             [
              0.2222222222222222,
              "#7201a8"
             ],
             [
              0.3333333333333333,
              "#9c179e"
             ],
             [
              0.4444444444444444,
              "#bd3786"
             ],
             [
              0.5555555555555556,
              "#d8576b"
             ],
             [
              0.6666666666666666,
              "#ed7953"
             ],
             [
              0.7777777777777778,
              "#fb9f3a"
             ],
             [
              0.8888888888888888,
              "#fdca26"
             ],
             [
              1,
              "#f0f921"
             ]
            ],
            "type": "surface"
           }
          ],
          "table": [
           {
            "cells": {
             "fill": {
              "color": "#EBF0F8"
             },
             "line": {
              "color": "white"
             }
            },
            "header": {
             "fill": {
              "color": "#C8D4E3"
             },
             "line": {
              "color": "white"
             }
            },
            "type": "table"
           }
          ]
         },
         "layout": {
          "annotationdefaults": {
           "arrowcolor": "#2a3f5f",
           "arrowhead": 0,
           "arrowwidth": 1
          },
          "autotypenumbers": "strict",
          "coloraxis": {
           "colorbar": {
            "outlinewidth": 0,
            "ticks": ""
           }
          },
          "colorscale": {
           "diverging": [
            [
             0,
             "#8e0152"
            ],
            [
             0.1,
             "#c51b7d"
            ],
            [
             0.2,
             "#de77ae"
            ],
            [
             0.3,
             "#f1b6da"
            ],
            [
             0.4,
             "#fde0ef"
            ],
            [
             0.5,
             "#f7f7f7"
            ],
            [
             0.6,
             "#e6f5d0"
            ],
            [
             0.7,
             "#b8e186"
            ],
            [
             0.8,
             "#7fbc41"
            ],
            [
             0.9,
             "#4d9221"
            ],
            [
             1,
             "#276419"
            ]
           ],
           "sequential": [
            [
             0,
             "#0d0887"
            ],
            [
             0.1111111111111111,
             "#46039f"
            ],
            [
             0.2222222222222222,
             "#7201a8"
            ],
            [
             0.3333333333333333,
             "#9c179e"
            ],
            [
             0.4444444444444444,
             "#bd3786"
            ],
            [
             0.5555555555555556,
             "#d8576b"
            ],
            [
             0.6666666666666666,
             "#ed7953"
            ],
            [
             0.7777777777777778,
             "#fb9f3a"
            ],
            [
             0.8888888888888888,
             "#fdca26"
            ],
            [
             1,
             "#f0f921"
            ]
           ],
           "sequentialminus": [
            [
             0,
             "#0d0887"
            ],
            [
             0.1111111111111111,
             "#46039f"
            ],
            [
             0.2222222222222222,
             "#7201a8"
            ],
            [
             0.3333333333333333,
             "#9c179e"
            ],
            [
             0.4444444444444444,
             "#bd3786"
            ],
            [
             0.5555555555555556,
             "#d8576b"
            ],
            [
             0.6666666666666666,
             "#ed7953"
            ],
            [
             0.7777777777777778,
             "#fb9f3a"
            ],
            [
             0.8888888888888888,
             "#fdca26"
            ],
            [
             1,
             "#f0f921"
            ]
           ]
          },
          "colorway": [
           "#636efa",
           "#EF553B",
           "#00cc96",
           "#ab63fa",
           "#FFA15A",
           "#19d3f3",
           "#FF6692",
           "#B6E880",
           "#FF97FF",
           "#FECB52"
          ],
          "font": {
           "color": "#2a3f5f"
          },
          "geo": {
           "bgcolor": "white",
           "lakecolor": "white",
           "landcolor": "#E5ECF6",
           "showlakes": true,
           "showland": true,
           "subunitcolor": "white"
          },
          "hoverlabel": {
           "align": "left"
          },
          "hovermode": "closest",
          "mapbox": {
           "style": "light"
          },
          "paper_bgcolor": "white",
          "plot_bgcolor": "#E5ECF6",
          "polar": {
           "angularaxis": {
            "gridcolor": "white",
            "linecolor": "white",
            "ticks": ""
           },
           "bgcolor": "#E5ECF6",
           "radialaxis": {
            "gridcolor": "white",
            "linecolor": "white",
            "ticks": ""
           }
          },
          "scene": {
           "xaxis": {
            "backgroundcolor": "#E5ECF6",
            "gridcolor": "white",
            "gridwidth": 2,
            "linecolor": "white",
            "showbackground": true,
            "ticks": "",
            "zerolinecolor": "white"
           },
           "yaxis": {
            "backgroundcolor": "#E5ECF6",
            "gridcolor": "white",
            "gridwidth": 2,
            "linecolor": "white",
            "showbackground": true,
            "ticks": "",
            "zerolinecolor": "white"
           },
           "zaxis": {
            "backgroundcolor": "#E5ECF6",
            "gridcolor": "white",
            "gridwidth": 2,
            "linecolor": "white",
            "showbackground": true,
            "ticks": "",
            "zerolinecolor": "white"
           }
          },
          "shapedefaults": {
           "line": {
            "color": "#2a3f5f"
           }
          },
          "ternary": {
           "aaxis": {
            "gridcolor": "white",
            "linecolor": "white",
            "ticks": ""
           },
           "baxis": {
            "gridcolor": "white",
            "linecolor": "white",
            "ticks": ""
           },
           "bgcolor": "#E5ECF6",
           "caxis": {
            "gridcolor": "white",
            "linecolor": "white",
            "ticks": ""
           }
          },
          "title": {
           "x": 0.05
          },
          "xaxis": {
           "automargin": true,
           "gridcolor": "white",
           "linecolor": "white",
           "ticks": "",
           "title": {
            "standoff": 15
           },
           "zerolinecolor": "white",
           "zerolinewidth": 2
          },
          "yaxis": {
           "automargin": true,
           "gridcolor": "white",
           "linecolor": "white",
           "ticks": "",
           "title": {
            "standoff": 15
           },
           "zerolinecolor": "white",
           "zerolinewidth": 2
          }
         }
        },
        "title": {
         "font": {
          "color": "Black",
          "size": 22
         },
         "text": "<b>Similarity Matrix</b>",
         "x": 0.55,
         "xanchor": "center",
         "y": 0.95,
         "yanchor": "top"
        },
        "width": 800,
        "xaxis": {
         "anchor": "y",
         "constrain": "domain",
         "domain": [
          0,
          1
         ],
         "scaleanchor": "y"
        },
        "yaxis": {
         "anchor": "x",
         "autorange": "reversed",
         "constrain": "domain",
         "domain": [
          0,
          1
         ]
        }
       }
      }
     },
     "metadata": {},
     "output_type": "display_data"
    }
   ],
   "source": [
    "topic_model.visualize_heatmap(n_clusters=7)"
   ]
  },
  {
   "cell_type": "code",
   "execution_count": 48,
   "metadata": {},
   "outputs": [
    {
     "name": "stderr",
     "output_type": "stream",
     "text": [
      "2024-11-30 15:12:49,362 - BERTopic - WARNING: When you use `pickle` to save/load a BERTopic model,please make sure that the environments in which you saveand load the model are **exactly** the same. The version of BERTopic,its dependencies, and python need to remain the same.\n"
     ]
    }
   ],
   "source": [
    "topic_model.save(\"model_cluster\", save_embedding_model=True)"
   ]
  },
  {
   "cell_type": "code",
   "execution_count": 49,
   "metadata": {},
   "outputs": [],
   "source": [
    "topic_model_test = BERTopic.load(\"model_cluster\")"
   ]
  },
  {
   "cell_type": "code",
   "execution_count": 56,
   "metadata": {},
   "outputs": [
    {
     "name": "stderr",
     "output_type": "stream",
     "text": [
      "INFO:root:Connexion à la base de données établie avec succès.\n",
      "INFO:root:17 documents trouvés pour cleaned_description avec un pourcentage de 0.0001.\n",
      "INFO:root:Connexion à la base de données fermée.\n"
     ]
    }
   ],
   "source": [
    "db_api = DBapi()\n",
    "with db_api:\n",
    "    result = db_api.get_percentage('cleaned_description',0.0001)\n",
    "    df_test = pd.DataFrame(result)"
   ]
  },
  {
   "cell_type": "code",
   "execution_count": 57,
   "metadata": {},
   "outputs": [
    {
     "data": {
      "text/html": [
       "<div>\n",
       "<style scoped>\n",
       "    .dataframe tbody tr th:only-of-type {\n",
       "        vertical-align: middle;\n",
       "    }\n",
       "\n",
       "    .dataframe tbody tr th {\n",
       "        vertical-align: top;\n",
       "    }\n",
       "\n",
       "    .dataframe thead th {\n",
       "        text-align: right;\n",
       "    }\n",
       "</style>\n",
       "<table border=\"1\" class=\"dataframe\">\n",
       "  <thead>\n",
       "    <tr style=\"text-align: right;\">\n",
       "      <th></th>\n",
       "      <th>cleaned_description</th>\n",
       "    </tr>\n",
       "  </thead>\n",
       "  <tbody>\n",
       "    <tr>\n",
       "      <th>0</th>\n",
       "      <td>['quick', 'way', 'apples', 'desert']</td>\n",
       "    </tr>\n",
       "    <tr>\n",
       "      <th>1</th>\n",
       "      <td>['brownie', 'syrup', 'brands', 'buy', 'store',...</td>\n",
       "    </tr>\n",
       "    <tr>\n",
       "      <th>2</th>\n",
       "      <td>['eastern', 'dessert', 'restaurants', 'christi...</td>\n",
       "    </tr>\n",
       "    <tr>\n",
       "      <th>3</th>\n",
       "      <td>['rice', 'kids']</td>\n",
       "    </tr>\n",
       "    <tr>\n",
       "      <th>4</th>\n",
       "      <td>['land', 'tastes']</td>\n",
       "    </tr>\n",
       "  </tbody>\n",
       "</table>\n",
       "</div>"
      ],
      "text/plain": [
       "                                 cleaned_description\n",
       "0               ['quick', 'way', 'apples', 'desert']\n",
       "1  ['brownie', 'syrup', 'brands', 'buy', 'store',...\n",
       "2  ['eastern', 'dessert', 'restaurants', 'christi...\n",
       "3                                   ['rice', 'kids']\n",
       "4                                 ['land', 'tastes']"
      ]
     },
     "execution_count": 57,
     "metadata": {},
     "output_type": "execute_result"
    }
   ],
   "source": [
    "df_test.head()"
   ]
  },
  {
   "cell_type": "code",
   "execution_count": 58,
   "metadata": {},
   "outputs": [
    {
     "name": "stdout",
     "output_type": "stream",
     "text": [
      "([-1], array([0.]))\n",
      "([0], array([0.86120534]))\n",
      "([-1], array([0.]))\n",
      "([-1], array([0.]))\n",
      "([59], array([1.]))\n",
      "([-1], array([0.]))\n",
      "([-1], array([0.]))\n",
      "([6], array([0.38596843]))\n",
      "([-1], array([0.]))\n",
      "([12], array([0.66022009]))\n",
      "([-1], array([0.]))\n",
      "([-1], array([0.]))\n",
      "([-1], array([0.]))\n",
      "([20], array([0.57591832]))\n",
      "([-1], array([0.]))\n",
      "([33], array([0.25817266]))\n",
      "([23], array([0.99425667]))\n"
     ]
    }
   ],
   "source": [
    "for description in df_test['cleaned_description']:\n",
    "    print(topic_model.transform(description))"
   ]
  },
  {
   "cell_type": "code",
   "execution_count": 63,
   "metadata": {},
   "outputs": [
    {
     "name": "stdout",
     "output_type": "stream",
     "text": [
      "Nombre de documents non assignés : 42774\n"
     ]
    }
   ],
   "source": [
    "\n",
    "\n",
    "# Obtenir les documents non assignés (topic -1)\n",
    "outliers = df[df[\"topic\"] == -1][\"cleaned_description\"].tolist()\n",
    "\n",
    "# Vérifier le nombre de documents non assignés\n",
    "print(f\"Nombre de documents non assignés : {len(outliers)}\")"
   ]
  },
  {
   "cell_type": "code",
   "execution_count": 74,
   "metadata": {},
   "outputs": [
    {
     "name": "stderr",
     "output_type": "stream",
     "text": [
      "INFO:sentence_transformers.SentenceTransformer:Use pytorch device_name: cpu\n",
      "INFO:sentence_transformers.SentenceTransformer:Load pretrained SentenceTransformer: sentence-transformers/all-MiniLM-L6-v2\n",
      "huggingface/tokenizers: The current process just got forked, after parallelism has already been used. Disabling parallelism to avoid deadlocks...\n",
      "To disable this warning, you can either:\n",
      "\t- Avoid using `tokenizers` before the fork if possible\n",
      "\t- Explicitly set the environment variable TOKENIZERS_PARALLELISM=(true | false)\n",
      "huggingface/tokenizers: The current process just got forked, after parallelism has already been used. Disabling parallelism to avoid deadlocks...\n",
      "To disable this warning, you can either:\n",
      "\t- Avoid using `tokenizers` before the fork if possible\n",
      "\t- Explicitly set the environment variable TOKENIZERS_PARALLELISM=(true | false)\n",
      "huggingface/tokenizers: The current process just got forked, after parallelism has already been used. Disabling parallelism to avoid deadlocks...\n",
      "To disable this warning, you can either:\n",
      "\t- Avoid using `tokenizers` before the fork if possible\n",
      "\t- Explicitly set the environment variable TOKENIZERS_PARALLELISM=(true | false)\n",
      "huggingface/tokenizers: The current process just got forked, after parallelism has already been used. Disabling parallelism to avoid deadlocks...\n",
      "To disable this warning, you can either:\n",
      "\t- Avoid using `tokenizers` before the fork if possible\n",
      "\t- Explicitly set the environment variable TOKENIZERS_PARALLELISM=(true | false)\n"
     ]
    },
    {
     "name": "stdout",
     "output_type": "stream",
     "text": [
      "    Topic  Count                                  Name  \\\n",
      "0      -1   4912            -1_way_family_day_brussels   \n",
      "1       0  35916           0_dish_sauce_chicken_family   \n",
      "2       1    236        1_drink_refreshing_summer_wine   \n",
      "3       2    179             2_yummy_enjoy_party_looks   \n",
      "4       3    171         3_bon_appetit_source_november   \n",
      "5       4    170                4_side_dish_cook_twist   \n",
      "6       5    162                 5_mom_moms_dad_mother   \n",
      "7       6    120             6_soup_salad_noodle_soups   \n",
      "8       7    113    7_request_response_reply_institute   \n",
      "9       8    109     8_living_cake_southen_cakecookies   \n",
      "10      9    106     9_accompaniment_meal_dishes_salad   \n",
      "11     10    105             10_website_treat_site_web   \n",
      "12     11    103      11_friend_everyone_group_friends   \n",
      "13     12    102   12_cookbook_booklet_cookbooks_ninja   \n",
      "14     13     96         13_havent_sounds_author_sound   \n",
      "15     14     88    14_light_lightthey_redone_sunshine   \n",
      "16     15     86  15_dessert_desserts_fall_cakedessert   \n",
      "\n",
      "                                       Representation  \\\n",
      "0   [way, family, day, brussels, favorite, version...   \n",
      "1   [dish, sauce, chicken, family, salad, flavor, ...   \n",
      "2   [drink, refreshing, summer, wine, cocktail, co...   \n",
      "3   [yummy, enjoy, party, looks, hearty, tooth, to...   \n",
      "4   [bon, appetit, source, november, july, apptit,...   \n",
      "5   [side, dish, cook, twist, shanks, anything, pl...   \n",
      "6   [mom, moms, dad, mother, kid, mothers, childre...   \n",
      "7   [soup, salad, noodle, soups, salads, version, ...   \n",
      "8   [request, response, reply, institute, web, hog...   \n",
      "9   [living, cake, southen, cakecookies, hart, ver...   \n",
      "10  [accompaniment, meal, dishes, salad, accompani...   \n",
      "11  [website, treat, site, web, treats, havent, fo...   \n",
      "12  [friend, everyone, group, friends, everybody, ...   \n",
      "13  [cookbook, booklet, cookbooks, ninja, years, c...   \n",
      "14  [havent, sounds, author, sound, doesnt, sing, ...   \n",
      "15  [light, lightthey, redone, sunshine, lights, l...   \n",
      "16  [dessert, desserts, fall, cakedessert, httpwww...   \n",
      "\n",
      "                                  Representative_Docs  \n",
      "0   [['family', 'favorite'], ['brussels', 'sprouts...  \n",
      "1   [['tasty', 'ribs', 'bacon', 'fat', 'store', 'f...  \n",
      "2   [['refreshing', 'drink'], ['refreshing', 'drin...  \n",
      "3                   [['yummy'], ['yummy'], ['yummy']]  \n",
      "4   [['bon', 'appetit'], ['bon', 'appetit', '/'], ...  \n",
      "5   [['side', 'dish'], ['side', 'dish'], ['side', ...  \n",
      "6           [['mom'], ['mom', '--'], ['moms', 'mom']]  \n",
      "7                      [['soup'], ['soup'], ['soup']]  \n",
      "8   [['request', 'safe-keeping'], ['request'], ['r...  \n",
      "9                [['living'], ['living'], ['living']]  \n",
      "10  [['accompaniment', 'meal'], ['accompaniment', ...  \n",
      "11            [['website'], ['website'], ['website']]  \n",
      "12               [['friend'], ['friend'], ['friend']]  \n",
      "13         [['cookbook'], ['cookbook'], ['cookbook']]  \n",
      "14          [['havent'], ['havent'], ['havent', '=']]  \n",
      "15                  [['light'], ['light'], ['light']]  \n",
      "16            [['dessert'], ['dessert'], ['dessert']]  \n"
     ]
    }
   ],
   "source": [
    "\n",
    "new_topic_model = BERTopic(hdbscan_model=hdbscan.HDBSCAN(min_cluster_size=80, prediction_data=True),\n",
    "                            language=\"english\")\n",
    "new_topics, new_probs = new_topic_model.fit_transform(outliers)\n",
    "\n",
    "\n",
    "new_topics_dict = new_topic_model.get_topics()\n",
    "\n",
    "print(new_topic_model.get_topic_info())"
   ]
  },
  {
   "cell_type": "code",
   "execution_count": 76,
   "metadata": {},
   "outputs": [
    {
     "data": {
      "application/vnd.plotly.v1+json": {
       "config": {
        "plotlyServerURL": "https://plot.ly"
       },
       "data": [
        {
         "marker": {
          "color": "#D55E00"
         },
         "orientation": "h",
         "type": "bar",
         "x": [
          0.020940649727860573,
          0.02202917510330732,
          0.029236587283553283,
          0.03178338231452017,
          0.03410663159506347,
          0.04476333612262918,
          0.04651114549604908,
          0.07475263293609527,
          0.09408090882455751,
          0.1255080545148928
         ],
         "xaxis": "x",
         "y": [
          "sugar  ",
          "brownie  ",
          "brownies  ",
          "chip  ",
          "chips  ",
          "butter  ",
          "peanut  ",
          "chocolate  ",
          "cookie  ",
          "cookies  "
         ],
         "yaxis": "y"
        },
        {
         "marker": {
          "color": "#0072B2"
         },
         "orientation": "h",
         "type": "bar",
         "x": [
          0.017266192556050348,
          0.017917357686974663,
          0.018052434560665003,
          0.018227039404029626,
          0.018980689814070913,
          0.020080627544996787,
          0.02272167232579452,
          0.025647288440273388,
          0.04190448585421258,
          0.2039596342549886
         ],
         "xaxis": "x2",
         "y": [
          "womans  ",
          "bbc  ",
          "taste  ",
          "magazines  ",
          "years  ",
          "kraft  ",
          "home  ",
          "food  ",
          "issue  ",
          "magazine  "
         ],
         "yaxis": "y2"
        },
        {
         "marker": {
          "color": "#CC79A7"
         },
         "orientation": "h",
         "type": "bar",
         "x": [
          0.013782905518538646,
          0.014311806298979744,
          0.014813087288657203,
          0.015119688064758925,
          0.020005027742742928,
          0.021805707631069593,
          0.024245695172438627,
          0.034186454812684064,
          0.03578769222762382,
          0.17608294968042104
         ],
         "xaxis": "x3",
         "y": [
          "library  ",
          "cooker  ",
          "swap  ",
          "years  ",
          "booklet  ",
          "cooking  ",
          "church  ",
          "book  ",
          "cookbooks  ",
          "cookbook  "
         ],
         "yaxis": "y3"
        },
        {
         "marker": {
          "color": "#E69F00"
         },
         "orientation": "h",
         "type": "bar",
         "x": [
          0.014744172678200383,
          0.01483632519305742,
          0.01770492699881734,
          0.018680574028918633,
          0.019158349932783682,
          0.020535757887953917,
          0.025072979721892954,
          0.02822273068346738,
          0.04023585617125138,
          0.20681102139530674
         ],
         "xaxis": "x4",
         "y": [
          "comfort  ",
          "tomato  ",
          "day  ",
          "stock  ",
          "broth  ",
          "dumplings  ",
          "winter  ",
          "hearty  ",
          "soups  ",
          "soup  "
         ],
         "yaxis": "y4"
        },
        {
         "marker": {
          "color": "#56B4E9"
         },
         "orientation": "h",
         "type": "bar",
         "x": [
          0.020566450634648008,
          0.021209741466690777,
          0.02721984286873709,
          0.029964822498019687,
          0.03591445541670162,
          0.04238840013853225,
          0.04507069093364815,
          0.04571895238252302,
          0.047302114935470485,
          0.19945402204017712
         ],
         "xaxis": "x5",
         "y": [
          "cream  ",
          "pound  ",
          "moist  ",
          "mix  ",
          "chocolate  ",
          "cakes  ",
          "cupcakes  ",
          "cheesecake  ",
          "frosting  ",
          "cake  "
         ],
         "yaxis": "y5"
        },
        {
         "marker": {
          "color": "#009E73"
         },
         "orientation": "h",
         "type": "bar",
         "x": [
          0.014426530293069487,
          0.014463428110808226,
          0.014711369720092394,
          0.01822569161685426,
          0.01888137511671979,
          0.02085469432741856,
          0.037415736711567636,
          0.040623977426140906,
          0.05602074418711763,
          0.16862203936093337
         ],
         "xaxis": "x6",
         "y": [
          "meal  ",
          "fruit  ",
          "light  ",
          "greens  ",
          "lunch  ",
          "lettuce  ",
          "salads  ",
          "summer  ",
          "dressing  ",
          "salad  "
         ],
         "yaxis": "y6"
        },
        {
         "marker": {
          "color": "#F0E442"
         },
         "orientation": "h",
         "type": "bar",
         "x": [
          0.027482194537431216,
          0.03782987019460253,
          0.043455172587984904,
          0.05695850779493009,
          0.05737453411543603,
          0.05874107391466797,
          0.07450025195616884,
          0.07450025195616884,
          0.08808768907459488,
          2.6442003489759904
         ],
         "xaxis": "x7",
         "y": [
          "variation  ",
          "month  ",
          "eaters  ",
          "goodie  ",
          "helper  ",
          "sept  ",
          "yumyum  ",
          "yumo  ",
          "kidspots  ",
          "yum  "
         ],
         "yaxis": "y7"
        },
        {
         "marker": {
          "color": "#D55E00"
         },
         "orientation": "h",
         "type": "bar",
         "x": [
          0.013992001124406059,
          0.015227605980363797,
          0.015245113842647427,
          0.01630388065951053,
          0.020722109795616103,
          0.02458910948715628,
          0.04142808427139111,
          0.05288298351894876,
          0.10732499272804508,
          0.13728391286240219
         ],
         "xaxis": "x8",
         "y": [
          "dish  ",
          "cayenne  ",
          "powder  ",
          "tabasco  ",
          "sauce  ",
          "heat  ",
          "pepper  ",
          "peppers  ",
          "chili  ",
          "spicy  "
         ],
         "yaxis": "y8"
        }
       ],
       "layout": {
        "annotations": [
         {
          "font": {
           "size": 16
          },
          "showarrow": false,
          "text": "Topic 0",
          "x": 0.0875,
          "xanchor": "center",
          "xref": "paper",
          "y": 1,
          "yanchor": "bottom",
          "yref": "paper"
         },
         {
          "font": {
           "size": 16
          },
          "showarrow": false,
          "text": "Topic 1",
          "x": 0.36250000000000004,
          "xanchor": "center",
          "xref": "paper",
          "y": 1,
          "yanchor": "bottom",
          "yref": "paper"
         },
         {
          "font": {
           "size": 16
          },
          "showarrow": false,
          "text": "Topic 2",
          "x": 0.6375000000000001,
          "xanchor": "center",
          "xref": "paper",
          "y": 1,
          "yanchor": "bottom",
          "yref": "paper"
         },
         {
          "font": {
           "size": 16
          },
          "showarrow": false,
          "text": "Topic 3",
          "x": 0.9125,
          "xanchor": "center",
          "xref": "paper",
          "y": 1,
          "yanchor": "bottom",
          "yref": "paper"
         },
         {
          "font": {
           "size": 16
          },
          "showarrow": false,
          "text": "Topic 4",
          "x": 0.0875,
          "xanchor": "center",
          "xref": "paper",
          "y": 0.4,
          "yanchor": "bottom",
          "yref": "paper"
         },
         {
          "font": {
           "size": 16
          },
          "showarrow": false,
          "text": "Topic 5",
          "x": 0.36250000000000004,
          "xanchor": "center",
          "xref": "paper",
          "y": 0.4,
          "yanchor": "bottom",
          "yref": "paper"
         },
         {
          "font": {
           "size": 16
          },
          "showarrow": false,
          "text": "Topic 6",
          "x": 0.6375000000000001,
          "xanchor": "center",
          "xref": "paper",
          "y": 0.4,
          "yanchor": "bottom",
          "yref": "paper"
         },
         {
          "font": {
           "size": 16
          },
          "showarrow": false,
          "text": "Topic 7",
          "x": 0.9125,
          "xanchor": "center",
          "xref": "paper",
          "y": 0.4,
          "yanchor": "bottom",
          "yref": "paper"
         }
        ],
        "height": 800,
        "hoverlabel": {
         "bgcolor": "white",
         "font": {
          "family": "Rockwell",
          "size": 16
         }
        },
        "showlegend": false,
        "template": {
         "data": {
          "bar": [
           {
            "error_x": {
             "color": "#2a3f5f"
            },
            "error_y": {
             "color": "#2a3f5f"
            },
            "marker": {
             "line": {
              "color": "white",
              "width": 0.5
             },
             "pattern": {
              "fillmode": "overlay",
              "size": 10,
              "solidity": 0.2
             }
            },
            "type": "bar"
           }
          ],
          "barpolar": [
           {
            "marker": {
             "line": {
              "color": "white",
              "width": 0.5
             },
             "pattern": {
              "fillmode": "overlay",
              "size": 10,
              "solidity": 0.2
             }
            },
            "type": "barpolar"
           }
          ],
          "carpet": [
           {
            "aaxis": {
             "endlinecolor": "#2a3f5f",
             "gridcolor": "#C8D4E3",
             "linecolor": "#C8D4E3",
             "minorgridcolor": "#C8D4E3",
             "startlinecolor": "#2a3f5f"
            },
            "baxis": {
             "endlinecolor": "#2a3f5f",
             "gridcolor": "#C8D4E3",
             "linecolor": "#C8D4E3",
             "minorgridcolor": "#C8D4E3",
             "startlinecolor": "#2a3f5f"
            },
            "type": "carpet"
           }
          ],
          "choropleth": [
           {
            "colorbar": {
             "outlinewidth": 0,
             "ticks": ""
            },
            "type": "choropleth"
           }
          ],
          "contour": [
           {
            "colorbar": {
             "outlinewidth": 0,
             "ticks": ""
            },
            "colorscale": [
             [
              0,
              "#0d0887"
             ],
             [
              0.1111111111111111,
              "#46039f"
             ],
             [
              0.2222222222222222,
              "#7201a8"
             ],
             [
              0.3333333333333333,
              "#9c179e"
             ],
             [
              0.4444444444444444,
              "#bd3786"
             ],
             [
              0.5555555555555556,
              "#d8576b"
             ],
             [
              0.6666666666666666,
              "#ed7953"
             ],
             [
              0.7777777777777778,
              "#fb9f3a"
             ],
             [
              0.8888888888888888,
              "#fdca26"
             ],
             [
              1,
              "#f0f921"
             ]
            ],
            "type": "contour"
           }
          ],
          "contourcarpet": [
           {
            "colorbar": {
             "outlinewidth": 0,
             "ticks": ""
            },
            "type": "contourcarpet"
           }
          ],
          "heatmap": [
           {
            "colorbar": {
             "outlinewidth": 0,
             "ticks": ""
            },
            "colorscale": [
             [
              0,
              "#0d0887"
             ],
             [
              0.1111111111111111,
              "#46039f"
             ],
             [
              0.2222222222222222,
              "#7201a8"
             ],
             [
              0.3333333333333333,
              "#9c179e"
             ],
             [
              0.4444444444444444,
              "#bd3786"
             ],
             [
              0.5555555555555556,
              "#d8576b"
             ],
             [
              0.6666666666666666,
              "#ed7953"
             ],
             [
              0.7777777777777778,
              "#fb9f3a"
             ],
             [
              0.8888888888888888,
              "#fdca26"
             ],
             [
              1,
              "#f0f921"
             ]
            ],
            "type": "heatmap"
           }
          ],
          "heatmapgl": [
           {
            "colorbar": {
             "outlinewidth": 0,
             "ticks": ""
            },
            "colorscale": [
             [
              0,
              "#0d0887"
             ],
             [
              0.1111111111111111,
              "#46039f"
             ],
             [
              0.2222222222222222,
              "#7201a8"
             ],
             [
              0.3333333333333333,
              "#9c179e"
             ],
             [
              0.4444444444444444,
              "#bd3786"
             ],
             [
              0.5555555555555556,
              "#d8576b"
             ],
             [
              0.6666666666666666,
              "#ed7953"
             ],
             [
              0.7777777777777778,
              "#fb9f3a"
             ],
             [
              0.8888888888888888,
              "#fdca26"
             ],
             [
              1,
              "#f0f921"
             ]
            ],
            "type": "heatmapgl"
           }
          ],
          "histogram": [
           {
            "marker": {
             "pattern": {
              "fillmode": "overlay",
              "size": 10,
              "solidity": 0.2
             }
            },
            "type": "histogram"
           }
          ],
          "histogram2d": [
           {
            "colorbar": {
             "outlinewidth": 0,
             "ticks": ""
            },
            "colorscale": [
             [
              0,
              "#0d0887"
             ],
             [
              0.1111111111111111,
              "#46039f"
             ],
             [
              0.2222222222222222,
              "#7201a8"
             ],
             [
              0.3333333333333333,
              "#9c179e"
             ],
             [
              0.4444444444444444,
              "#bd3786"
             ],
             [
              0.5555555555555556,
              "#d8576b"
             ],
             [
              0.6666666666666666,
              "#ed7953"
             ],
             [
              0.7777777777777778,
              "#fb9f3a"
             ],
             [
              0.8888888888888888,
              "#fdca26"
             ],
             [
              1,
              "#f0f921"
             ]
            ],
            "type": "histogram2d"
           }
          ],
          "histogram2dcontour": [
           {
            "colorbar": {
             "outlinewidth": 0,
             "ticks": ""
            },
            "colorscale": [
             [
              0,
              "#0d0887"
             ],
             [
              0.1111111111111111,
              "#46039f"
             ],
             [
              0.2222222222222222,
              "#7201a8"
             ],
             [
              0.3333333333333333,
              "#9c179e"
             ],
             [
              0.4444444444444444,
              "#bd3786"
             ],
             [
              0.5555555555555556,
              "#d8576b"
             ],
             [
              0.6666666666666666,
              "#ed7953"
             ],
             [
              0.7777777777777778,
              "#fb9f3a"
             ],
             [
              0.8888888888888888,
              "#fdca26"
             ],
             [
              1,
              "#f0f921"
             ]
            ],
            "type": "histogram2dcontour"
           }
          ],
          "mesh3d": [
           {
            "colorbar": {
             "outlinewidth": 0,
             "ticks": ""
            },
            "type": "mesh3d"
           }
          ],
          "parcoords": [
           {
            "line": {
             "colorbar": {
              "outlinewidth": 0,
              "ticks": ""
             }
            },
            "type": "parcoords"
           }
          ],
          "pie": [
           {
            "automargin": true,
            "type": "pie"
           }
          ],
          "scatter": [
           {
            "fillpattern": {
             "fillmode": "overlay",
             "size": 10,
             "solidity": 0.2
            },
            "type": "scatter"
           }
          ],
          "scatter3d": [
           {
            "line": {
             "colorbar": {
              "outlinewidth": 0,
              "ticks": ""
             }
            },
            "marker": {
             "colorbar": {
              "outlinewidth": 0,
              "ticks": ""
             }
            },
            "type": "scatter3d"
           }
          ],
          "scattercarpet": [
           {
            "marker": {
             "colorbar": {
              "outlinewidth": 0,
              "ticks": ""
             }
            },
            "type": "scattercarpet"
           }
          ],
          "scattergeo": [
           {
            "marker": {
             "colorbar": {
              "outlinewidth": 0,
              "ticks": ""
             }
            },
            "type": "scattergeo"
           }
          ],
          "scattergl": [
           {
            "marker": {
             "colorbar": {
              "outlinewidth": 0,
              "ticks": ""
             }
            },
            "type": "scattergl"
           }
          ],
          "scattermapbox": [
           {
            "marker": {
             "colorbar": {
              "outlinewidth": 0,
              "ticks": ""
             }
            },
            "type": "scattermapbox"
           }
          ],
          "scatterpolar": [
           {
            "marker": {
             "colorbar": {
              "outlinewidth": 0,
              "ticks": ""
             }
            },
            "type": "scatterpolar"
           }
          ],
          "scatterpolargl": [
           {
            "marker": {
             "colorbar": {
              "outlinewidth": 0,
              "ticks": ""
             }
            },
            "type": "scatterpolargl"
           }
          ],
          "scatterternary": [
           {
            "marker": {
             "colorbar": {
              "outlinewidth": 0,
              "ticks": ""
             }
            },
            "type": "scatterternary"
           }
          ],
          "surface": [
           {
            "colorbar": {
             "outlinewidth": 0,
             "ticks": ""
            },
            "colorscale": [
             [
              0,
              "#0d0887"
             ],
             [
              0.1111111111111111,
              "#46039f"
             ],
             [
              0.2222222222222222,
              "#7201a8"
             ],
             [
              0.3333333333333333,
              "#9c179e"
             ],
             [
              0.4444444444444444,
              "#bd3786"
             ],
             [
              0.5555555555555556,
              "#d8576b"
             ],
             [
              0.6666666666666666,
              "#ed7953"
             ],
             [
              0.7777777777777778,
              "#fb9f3a"
             ],
             [
              0.8888888888888888,
              "#fdca26"
             ],
             [
              1,
              "#f0f921"
             ]
            ],
            "type": "surface"
           }
          ],
          "table": [
           {
            "cells": {
             "fill": {
              "color": "#EBF0F8"
             },
             "line": {
              "color": "white"
             }
            },
            "header": {
             "fill": {
              "color": "#C8D4E3"
             },
             "line": {
              "color": "white"
             }
            },
            "type": "table"
           }
          ]
         },
         "layout": {
          "annotationdefaults": {
           "arrowcolor": "#2a3f5f",
           "arrowhead": 0,
           "arrowwidth": 1
          },
          "autotypenumbers": "strict",
          "coloraxis": {
           "colorbar": {
            "outlinewidth": 0,
            "ticks": ""
           }
          },
          "colorscale": {
           "diverging": [
            [
             0,
             "#8e0152"
            ],
            [
             0.1,
             "#c51b7d"
            ],
            [
             0.2,
             "#de77ae"
            ],
            [
             0.3,
             "#f1b6da"
            ],
            [
             0.4,
             "#fde0ef"
            ],
            [
             0.5,
             "#f7f7f7"
            ],
            [
             0.6,
             "#e6f5d0"
            ],
            [
             0.7,
             "#b8e186"
            ],
            [
             0.8,
             "#7fbc41"
            ],
            [
             0.9,
             "#4d9221"
            ],
            [
             1,
             "#276419"
            ]
           ],
           "sequential": [
            [
             0,
             "#0d0887"
            ],
            [
             0.1111111111111111,
             "#46039f"
            ],
            [
             0.2222222222222222,
             "#7201a8"
            ],
            [
             0.3333333333333333,
             "#9c179e"
            ],
            [
             0.4444444444444444,
             "#bd3786"
            ],
            [
             0.5555555555555556,
             "#d8576b"
            ],
            [
             0.6666666666666666,
             "#ed7953"
            ],
            [
             0.7777777777777778,
             "#fb9f3a"
            ],
            [
             0.8888888888888888,
             "#fdca26"
            ],
            [
             1,
             "#f0f921"
            ]
           ],
           "sequentialminus": [
            [
             0,
             "#0d0887"
            ],
            [
             0.1111111111111111,
             "#46039f"
            ],
            [
             0.2222222222222222,
             "#7201a8"
            ],
            [
             0.3333333333333333,
             "#9c179e"
            ],
            [
             0.4444444444444444,
             "#bd3786"
            ],
            [
             0.5555555555555556,
             "#d8576b"
            ],
            [
             0.6666666666666666,
             "#ed7953"
            ],
            [
             0.7777777777777778,
             "#fb9f3a"
            ],
            [
             0.8888888888888888,
             "#fdca26"
            ],
            [
             1,
             "#f0f921"
            ]
           ]
          },
          "colorway": [
           "#636efa",
           "#EF553B",
           "#00cc96",
           "#ab63fa",
           "#FFA15A",
           "#19d3f3",
           "#FF6692",
           "#B6E880",
           "#FF97FF",
           "#FECB52"
          ],
          "font": {
           "color": "#2a3f5f"
          },
          "geo": {
           "bgcolor": "white",
           "lakecolor": "white",
           "landcolor": "white",
           "showlakes": true,
           "showland": true,
           "subunitcolor": "#C8D4E3"
          },
          "hoverlabel": {
           "align": "left"
          },
          "hovermode": "closest",
          "mapbox": {
           "style": "light"
          },
          "paper_bgcolor": "white",
          "plot_bgcolor": "white",
          "polar": {
           "angularaxis": {
            "gridcolor": "#EBF0F8",
            "linecolor": "#EBF0F8",
            "ticks": ""
           },
           "bgcolor": "white",
           "radialaxis": {
            "gridcolor": "#EBF0F8",
            "linecolor": "#EBF0F8",
            "ticks": ""
           }
          },
          "scene": {
           "xaxis": {
            "backgroundcolor": "white",
            "gridcolor": "#DFE8F3",
            "gridwidth": 2,
            "linecolor": "#EBF0F8",
            "showbackground": true,
            "ticks": "",
            "zerolinecolor": "#EBF0F8"
           },
           "yaxis": {
            "backgroundcolor": "white",
            "gridcolor": "#DFE8F3",
            "gridwidth": 2,
            "linecolor": "#EBF0F8",
            "showbackground": true,
            "ticks": "",
            "zerolinecolor": "#EBF0F8"
           },
           "zaxis": {
            "backgroundcolor": "white",
            "gridcolor": "#DFE8F3",
            "gridwidth": 2,
            "linecolor": "#EBF0F8",
            "showbackground": true,
            "ticks": "",
            "zerolinecolor": "#EBF0F8"
           }
          },
          "shapedefaults": {
           "line": {
            "color": "#2a3f5f"
           }
          },
          "ternary": {
           "aaxis": {
            "gridcolor": "#DFE8F3",
            "linecolor": "#A2B1C6",
            "ticks": ""
           },
           "baxis": {
            "gridcolor": "#DFE8F3",
            "linecolor": "#A2B1C6",
            "ticks": ""
           },
           "bgcolor": "white",
           "caxis": {
            "gridcolor": "#DFE8F3",
            "linecolor": "#A2B1C6",
            "ticks": ""
           }
          },
          "title": {
           "x": 0.05
          },
          "xaxis": {
           "automargin": true,
           "gridcolor": "#EBF0F8",
           "linecolor": "#EBF0F8",
           "ticks": "",
           "title": {
            "standoff": 15
           },
           "zerolinecolor": "#EBF0F8",
           "zerolinewidth": 2
          },
          "yaxis": {
           "automargin": true,
           "gridcolor": "#EBF0F8",
           "linecolor": "#EBF0F8",
           "ticks": "",
           "title": {
            "standoff": 15
           },
           "zerolinecolor": "#EBF0F8",
           "zerolinewidth": 2
          }
         }
        },
        "title": {
         "font": {
          "color": "Black",
          "size": 22
         },
         "text": "Topic Word Scores",
         "x": 0.5,
         "xanchor": "center",
         "yanchor": "top"
        },
        "width": 1600,
        "xaxis": {
         "anchor": "y",
         "domain": [
          0,
          0.175
         ],
         "showgrid": true
        },
        "xaxis2": {
         "anchor": "y2",
         "domain": [
          0.275,
          0.45
         ],
         "showgrid": true
        },
        "xaxis3": {
         "anchor": "y3",
         "domain": [
          0.55,
          0.7250000000000001
         ],
         "showgrid": true
        },
        "xaxis4": {
         "anchor": "y4",
         "domain": [
          0.825,
          1
         ],
         "showgrid": true
        },
        "xaxis5": {
         "anchor": "y5",
         "domain": [
          0,
          0.175
         ],
         "showgrid": true
        },
        "xaxis6": {
         "anchor": "y6",
         "domain": [
          0.275,
          0.45
         ],
         "showgrid": true
        },
        "xaxis7": {
         "anchor": "y7",
         "domain": [
          0.55,
          0.7250000000000001
         ],
         "showgrid": true
        },
        "xaxis8": {
         "anchor": "y8",
         "domain": [
          0.825,
          1
         ],
         "showgrid": true
        },
        "yaxis": {
         "anchor": "x",
         "domain": [
          0.6000000000000001,
          1
         ],
         "showgrid": true
        },
        "yaxis2": {
         "anchor": "x2",
         "domain": [
          0.6000000000000001,
          1
         ],
         "showgrid": true
        },
        "yaxis3": {
         "anchor": "x3",
         "domain": [
          0.6000000000000001,
          1
         ],
         "showgrid": true
        },
        "yaxis4": {
         "anchor": "x4",
         "domain": [
          0.6000000000000001,
          1
         ],
         "showgrid": true
        },
        "yaxis5": {
         "anchor": "x5",
         "domain": [
          0,
          0.4
         ],
         "showgrid": true
        },
        "yaxis6": {
         "anchor": "x6",
         "domain": [
          0,
          0.4
         ],
         "showgrid": true
        },
        "yaxis7": {
         "anchor": "x7",
         "domain": [
          0,
          0.4
         ],
         "showgrid": true
        },
        "yaxis8": {
         "anchor": "x8",
         "domain": [
          0,
          0.4
         ],
         "showgrid": true
        }
       }
      }
     },
     "metadata": {},
     "output_type": "display_data"
    }
   ],
   "source": [
    "topic_model_test.visualize_barchart(n_words=10, height=400, width=400)"
   ]
  },
  {
   "cell_type": "code",
   "execution_count": 75,
   "metadata": {},
   "outputs": [
    {
     "ename": "ValueError",
     "evalue": "Must have equal len keys and value when setting with an iterable",
     "output_type": "error",
     "traceback": [
      "\u001b[0;31m---------------------------------------------------------------------------\u001b[0m",
      "\u001b[0;31mValueError\u001b[0m                                Traceback (most recent call last)",
      "Cell \u001b[0;32mIn[75], line 14\u001b[0m\n\u001b[1;32m     11\u001b[0m merged_topics \u001b[38;5;241m=\u001b[39m {\u001b[38;5;241m*\u001b[39m\u001b[38;5;241m*\u001b[39moriginal_topics, \u001b[38;5;241m*\u001b[39m\u001b[38;5;241m*\u001b[39mreindexed_new_topics}\n\u001b[1;32m     13\u001b[0m \u001b[38;5;66;03m# Réattribuer les documents non assignés avec les nouveaux topics\u001b[39;00m\n\u001b[0;32m---> 14\u001b[0m \u001b[43mdf\u001b[49m\u001b[38;5;241;43m.\u001b[39;49m\u001b[43mloc\u001b[49m\u001b[43m[\u001b[49m\u001b[43mdf\u001b[49m\u001b[43m[\u001b[49m\u001b[38;5;124;43m\"\u001b[39;49m\u001b[38;5;124;43mtopic\u001b[39;49m\u001b[38;5;124;43m\"\u001b[39;49m\u001b[43m]\u001b[49m\u001b[43m \u001b[49m\u001b[38;5;241;43m==\u001b[39;49m\u001b[43m \u001b[49m\u001b[38;5;241;43m-\u001b[39;49m\u001b[38;5;241;43m1\u001b[39;49m\u001b[43m,\u001b[49m\u001b[43m \u001b[49m\u001b[38;5;124;43m\"\u001b[39;49m\u001b[38;5;124;43mtopic\u001b[39;49m\u001b[38;5;124;43m\"\u001b[39;49m\u001b[43m]\u001b[49m \u001b[38;5;241m=\u001b[39m [topic_id \u001b[38;5;241m+\u001b[39m max_topic_id \u001b[38;5;241m+\u001b[39m \u001b[38;5;241m1\u001b[39m \u001b[38;5;28;01mfor\u001b[39;00m topic_id \u001b[38;5;129;01min\u001b[39;00m new_topics]\n\u001b[1;32m     16\u001b[0m \u001b[38;5;66;03m# Mettre à jour le modèle initial avec les nouveaux topics\u001b[39;00m\n\u001b[1;32m     17\u001b[0m topic_model\u001b[38;5;241m.\u001b[39mupdate_topics(docs\u001b[38;5;241m=\u001b[39mdf[\u001b[38;5;124m\"\u001b[39m\u001b[38;5;124mcleaned_description\u001b[39m\u001b[38;5;124m\"\u001b[39m]\u001b[38;5;241m.\u001b[39mtolist(), topics\u001b[38;5;241m=\u001b[39mmerged_topics)\n",
      "File \u001b[0;32m~/Documents/Code_Telecom/projet_Kit_Big_Data/.env_projet_kit_big_data/lib/python3.12/site-packages/pandas/core/indexing.py:911\u001b[0m, in \u001b[0;36m_LocationIndexer.__setitem__\u001b[0;34m(self, key, value)\u001b[0m\n\u001b[1;32m    908\u001b[0m \u001b[38;5;28mself\u001b[39m\u001b[38;5;241m.\u001b[39m_has_valid_setitem_indexer(key)\n\u001b[1;32m    910\u001b[0m iloc \u001b[38;5;241m=\u001b[39m \u001b[38;5;28mself\u001b[39m \u001b[38;5;28;01mif\u001b[39;00m \u001b[38;5;28mself\u001b[39m\u001b[38;5;241m.\u001b[39mname \u001b[38;5;241m==\u001b[39m \u001b[38;5;124m\"\u001b[39m\u001b[38;5;124miloc\u001b[39m\u001b[38;5;124m\"\u001b[39m \u001b[38;5;28;01melse\u001b[39;00m \u001b[38;5;28mself\u001b[39m\u001b[38;5;241m.\u001b[39mobj\u001b[38;5;241m.\u001b[39miloc\n\u001b[0;32m--> 911\u001b[0m \u001b[43miloc\u001b[49m\u001b[38;5;241;43m.\u001b[39;49m\u001b[43m_setitem_with_indexer\u001b[49m\u001b[43m(\u001b[49m\u001b[43mindexer\u001b[49m\u001b[43m,\u001b[49m\u001b[43m \u001b[49m\u001b[43mvalue\u001b[49m\u001b[43m,\u001b[49m\u001b[43m \u001b[49m\u001b[38;5;28;43mself\u001b[39;49m\u001b[38;5;241;43m.\u001b[39;49m\u001b[43mname\u001b[49m\u001b[43m)\u001b[49m\n",
      "File \u001b[0;32m~/Documents/Code_Telecom/projet_Kit_Big_Data/.env_projet_kit_big_data/lib/python3.12/site-packages/pandas/core/indexing.py:1942\u001b[0m, in \u001b[0;36m_iLocIndexer._setitem_with_indexer\u001b[0;34m(self, indexer, value, name)\u001b[0m\n\u001b[1;32m   1939\u001b[0m \u001b[38;5;66;03m# align and set the values\u001b[39;00m\n\u001b[1;32m   1940\u001b[0m \u001b[38;5;28;01mif\u001b[39;00m take_split_path:\n\u001b[1;32m   1941\u001b[0m     \u001b[38;5;66;03m# We have to operate column-wise\u001b[39;00m\n\u001b[0;32m-> 1942\u001b[0m     \u001b[38;5;28;43mself\u001b[39;49m\u001b[38;5;241;43m.\u001b[39;49m\u001b[43m_setitem_with_indexer_split_path\u001b[49m\u001b[43m(\u001b[49m\u001b[43mindexer\u001b[49m\u001b[43m,\u001b[49m\u001b[43m \u001b[49m\u001b[43mvalue\u001b[49m\u001b[43m,\u001b[49m\u001b[43m \u001b[49m\u001b[43mname\u001b[49m\u001b[43m)\u001b[49m\n\u001b[1;32m   1943\u001b[0m \u001b[38;5;28;01melse\u001b[39;00m:\n\u001b[1;32m   1944\u001b[0m     \u001b[38;5;28mself\u001b[39m\u001b[38;5;241m.\u001b[39m_setitem_single_block(indexer, value, name)\n",
      "File \u001b[0;32m~/Documents/Code_Telecom/projet_Kit_Big_Data/.env_projet_kit_big_data/lib/python3.12/site-packages/pandas/core/indexing.py:2027\u001b[0m, in \u001b[0;36m_iLocIndexer._setitem_with_indexer_split_path\u001b[0;34m(self, indexer, value, name)\u001b[0m\n\u001b[1;32m   2024\u001b[0m         \u001b[38;5;28mself\u001b[39m\u001b[38;5;241m.\u001b[39m_setitem_single_column(ilocs[\u001b[38;5;241m0\u001b[39m], value, pi)\n\u001b[1;32m   2026\u001b[0m     \u001b[38;5;28;01melse\u001b[39;00m:\n\u001b[0;32m-> 2027\u001b[0m         \u001b[38;5;28;01mraise\u001b[39;00m \u001b[38;5;167;01mValueError\u001b[39;00m(\n\u001b[1;32m   2028\u001b[0m             \u001b[38;5;124m\"\u001b[39m\u001b[38;5;124mMust have equal len keys and value \u001b[39m\u001b[38;5;124m\"\u001b[39m\n\u001b[1;32m   2029\u001b[0m             \u001b[38;5;124m\"\u001b[39m\u001b[38;5;124mwhen setting with an iterable\u001b[39m\u001b[38;5;124m\"\u001b[39m\n\u001b[1;32m   2030\u001b[0m         )\n\u001b[1;32m   2032\u001b[0m \u001b[38;5;28;01melse\u001b[39;00m:\n\u001b[1;32m   2033\u001b[0m     \u001b[38;5;66;03m# scalar value\u001b[39;00m\n\u001b[1;32m   2034\u001b[0m     \u001b[38;5;28;01mfor\u001b[39;00m loc \u001b[38;5;129;01min\u001b[39;00m ilocs:\n",
      "\u001b[0;31mValueError\u001b[0m: Must have equal len keys and value when setting with an iterable"
     ]
    }
   ],
   "source": [
    "\n",
    "# Récupérer les topics des deux modèles\n",
    "original_topics = topic_model.get_topics()\n",
    "# Recaler les IDs des topics du nouveau modèle\n",
    "max_topic_id = max(original_topics.keys())\n",
    "reindexed_new_topics = {\n",
    "    topic_id + max_topic_id + 1: terms\n",
    "    for topic_id, terms in new_topics_dict.items()\n",
    "}\n",
    "new_topic_model.get_topic_info()\n",
    "# Fusionner les topics\n",
    "merged_topics = {**original_topics, **reindexed_new_topics}\n",
    "\n",
    "# Réattribuer les documents non assignés avec les nouveaux topics\n",
    "df.loc[df[\"topic\"] == -1, \"topic\"] = [topic_id + max_topic_id + 1 for topic_id in new_topics]\n",
    "\n",
    "# Mettre à jour le modèle initial avec les nouveaux topics\n",
    "topic_model.update_topics(docs=df[\"cleaned_description\"].tolist(), topics=merged_topics)\n",
    "\n",
    "# Sauvegarder le modèle fusionné\n",
    "topic_model.save(\"merged_model_cluster\", save_embedding_model=True)"
   ]
  }
 ],
 "metadata": {
  "kernelspec": {
   "display_name": ".env_projet_kit_big_data",
   "language": "python",
   "name": "python3"
  },
  "language_info": {
   "codemirror_mode": {
    "name": "ipython",
    "version": 3
   },
   "file_extension": ".py",
   "mimetype": "text/x-python",
   "name": "python",
   "nbconvert_exporter": "python",
   "pygments_lexer": "ipython3",
   "version": "3.12.3"
  }
 },
 "nbformat": 4,
 "nbformat_minor": 2
}
