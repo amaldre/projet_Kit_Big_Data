{
 "cells": [
  {
   "cell_type": "markdown",
   "metadata": {},
   "source": [
    "# Exploration Data Analysis pour explorer les modes de consomation \n",
    "### Par Alexandre Rocchi (pas toucher les loulous)\n"
   ]
  }
 ],
 "metadata": {
  "language_info": {
   "name": "python"
  }
 },
 "nbformat": 4,
 "nbformat_minor": 2
}
